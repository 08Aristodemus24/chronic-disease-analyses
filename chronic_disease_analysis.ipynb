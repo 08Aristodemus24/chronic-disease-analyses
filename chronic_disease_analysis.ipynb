{
 "cells": [
  {
   "cell_type": "markdown",
   "id": "bde2ade4",
   "metadata": {},
   "source": [
    "# Now that all necessary data have now been extracted, transformed, and dumped to parquet files we can start doing our analyses by reading these parquet files as tables with duckdb (an in process OLAP) and then use these tables to make our transformations and draw insights"
   ]
  },
  {
   "cell_type": "code",
   "execution_count": 430,
   "id": "73652265",
   "metadata": {},
   "outputs": [
    {
     "name": "stdout",
     "output_type": "stream",
     "text": [
      "The autoreload extension is already loaded. To reload it, use:\n",
      "  %reload_ext autoreload\n"
     ]
    }
   ],
   "source": [
    "import duckdb\n",
    "\n",
    "%load_ext autoreload\n",
    "%autoreload 2"
   ]
  },
  {
   "cell_type": "markdown",
   "id": "8b5e2ed7",
   "metadata": {},
   "source": [
    "# Create database in order to persist data if one does not already exist. (DO NOT create a `.duckdb` file manually as this will not contain the instructions for duckdb to read and write data from and to)"
   ]
  },
  {
   "cell_type": "code",
   "execution_count": 431,
   "id": "577b1cba",
   "metadata": {},
   "outputs": [],
   "source": [
    "# conn = duckdb.connect(\"chronic_disease_analyses.duckdb\")"
   ]
  },
  {
   "cell_type": "markdown",
   "id": "5ebc23d8",
   "metadata": {},
   "source": [
    "# loading transformed population tables"
   ]
  },
  {
   "cell_type": "code",
   "execution_count": 432,
   "id": "adeb3ac0",
   "metadata": {},
   "outputs": [],
   "source": [
    "us_populations_per_state_file_names = ['./data/population-data-transformed/us_populations_per_state.parquet/*.parquet']"
   ]
  },
  {
   "cell_type": "code",
   "execution_count": 433,
   "id": "ca915ab5",
   "metadata": {},
   "outputs": [],
   "source": [
    "duckdb.sql(f\"\"\"\n",
    "    CREATE OR REPLACE TABLE us_populations_per_state AS\n",
    "    SELECT *\n",
    "    FROM read_parquet({us_populations_per_state_file_names}, union_by_name=True, filename=False)\n",
    "\"\"\")"
   ]
  },
  {
   "cell_type": "code",
   "execution_count": 434,
   "id": "e2e1e77a",
   "metadata": {},
   "outputs": [],
   "source": [
    "us_populations_per_state_by_sex_age_file_names = ['./data/population-data-transformed/us_populations_per_state_by_sex_age_2000_2009.parquet/*.parquet',\n",
    "    './data/population-data-transformed/us_populations_per_state_by_sex_age_2010_2019.parquet/*.parquet',\n",
    "    './data/population-data-transformed/us_populations_per_state_by_sex_age_2020_2023.parquet/*.parquet']"
   ]
  },
  {
   "cell_type": "code",
   "execution_count": 435,
   "id": "495b7032",
   "metadata": {},
   "outputs": [],
   "source": [
    "duckdb.sql(f\"\"\"\n",
    "    CREATE OR REPLACE TABLE us_populations_per_state_by_sex_age AS\n",
    "    SELECT *\n",
    "    FROM read_parquet({us_populations_per_state_by_sex_age_file_names}, union_by_name=True, filename=False)\n",
    "\"\"\")"
   ]
  },
  {
   "cell_type": "code",
   "execution_count": 436,
   "id": "c662d1e8",
   "metadata": {},
   "outputs": [],
   "source": [
    "us_populations_per_state_by_sex_race_ho_file_names = ['./data/population-data-transformed/us_populations_per_state_by_sex_race_ho_2000_2009.parquet/*.parquet',\n",
    "    './data/population-data-transformed/us_populations_per_state_by_sex_race_ho_2010_2019.parquet/*.parquet',\n",
    "    './data/population-data-transformed/us_populations_per_state_by_sex_race_ho_2020_2023.parquet/*.parquet']"
   ]
  },
  {
   "cell_type": "code",
   "execution_count": 437,
   "id": "521bca7d",
   "metadata": {},
   "outputs": [],
   "source": [
    "duckdb.sql(f\"\"\"\n",
    "    CREATE OR REPLACE TABLE us_populations_per_state_by_sex_race_ho AS\n",
    "    SELECT *\n",
    "    FROM read_parquet({us_populations_per_state_by_sex_race_ho_file_names}, union_by_name=True, filename=False)\n",
    "\"\"\")"
   ]
  },
  {
   "cell_type": "code",
   "execution_count": 438,
   "id": "668dc600",
   "metadata": {},
   "outputs": [
    {
     "data": {
      "text/plain": [
       "┌──────────────┐\n",
       "│ count_star() │\n",
       "│    int64     │\n",
       "├──────────────┤\n",
       "│         1071 │\n",
       "└──────────────┘"
      ]
     },
     "execution_count": 438,
     "metadata": {},
     "output_type": "execute_result"
    }
   ],
   "source": [
    "duckdb.sql(\"\"\"\n",
    "    SELECT COUNT(*)\n",
    "    FROM us_populations_per_state\n",
    "\"\"\")"
   ]
  },
  {
   "cell_type": "code",
   "execution_count": 439,
   "id": "cf21ad5b",
   "metadata": {},
   "outputs": [
    {
     "data": {
      "text/plain": [
       "┌──────────────┐\n",
       "│ count_star() │\n",
       "│    int64     │\n",
       "├──────────────┤\n",
       "│       152388 │\n",
       "└──────────────┘"
      ]
     },
     "execution_count": 439,
     "metadata": {},
     "output_type": "execute_result"
    }
   ],
   "source": [
    "duckdb.sql(\"\"\"\n",
    "    SELECT COUNT(*)\n",
    "    FROM us_populations_per_state_by_sex_age\n",
    "\"\"\")"
   ]
  },
  {
   "cell_type": "code",
   "execution_count": 440,
   "id": "2e0634f4",
   "metadata": {},
   "outputs": [
    {
     "data": {
      "text/plain": [
       "┌──────────────┐\n",
       "│ count_star() │\n",
       "│    int64     │\n",
       "├──────────────┤\n",
       "│        29376 │\n",
       "└──────────────┘"
      ]
     },
     "execution_count": 440,
     "metadata": {},
     "output_type": "execute_result"
    }
   ],
   "source": [
    "duckdb.sql(\"\"\"\n",
    "    SELECT COUNT(*)\n",
    "    FROM us_populations_per_state_by_sex_race_ho\n",
    "\"\"\")"
   ]
  },
  {
   "cell_type": "code",
   "execution_count": 469,
   "id": "f3523e3b",
   "metadata": {},
   "outputs": [],
   "source": [
    "population_unique_states = duckdb.sql(\"\"\"\n",
    "    SELECT DISTINCT(State)\n",
    "    FROM us_populations_per_state\n",
    "\"\"\").fetchall()"
   ]
  },
  {
   "cell_type": "code",
   "execution_count": 477,
   "id": "6d27c048",
   "metadata": {},
   "outputs": [
    {
     "data": {
      "text/plain": [
       "('Iowa',\n",
       " 'Kansas',\n",
       " 'Louisiana',\n",
       " 'Ohio',\n",
       " 'Rhode Island',\n",
       " 'Texas',\n",
       " 'Arkansas',\n",
       " 'Idaho',\n",
       " 'South Carolina',\n",
       " 'West Virginia',\n",
       " 'Alabama',\n",
       " 'California',\n",
       " 'Colorado',\n",
       " 'Illinois',\n",
       " 'Mississippi',\n",
       " 'Kentucky',\n",
       " 'New York',\n",
       " 'New Jersey',\n",
       " 'Tennessee',\n",
       " 'Wisconsin',\n",
       " 'Indiana',\n",
       " 'Maryland',\n",
       " 'Michigan',\n",
       " 'Missouri',\n",
       " 'Pennsylvania',\n",
       " 'Delaware',\n",
       " 'Hawaii',\n",
       " 'North Dakota',\n",
       " 'New Mexico',\n",
       " 'Washington',\n",
       " 'Connecticut',\n",
       " 'Maine',\n",
       " 'Massachusetts',\n",
       " 'Oregon',\n",
       " 'Montana',\n",
       " 'Nebraska',\n",
       " 'North Carolina',\n",
       " 'Oklahoma',\n",
       " 'Utah',\n",
       " 'Virginia',\n",
       " 'Wyoming',\n",
       " 'Arizona',\n",
       " 'Alaska',\n",
       " 'District of Columbia',\n",
       " 'Florida',\n",
       " 'Minnesota',\n",
       " 'Nevada',\n",
       " 'New Hampshire',\n",
       " 'Georgia',\n",
       " 'South Dakota',\n",
       " 'Vermont')"
      ]
     },
     "execution_count": 477,
     "metadata": {},
     "output_type": "execute_result"
    }
   ],
   "source": [
    "population_state_names = list(zip(*population_unique_states))[0]\n",
    "population_state_names"
   ]
  },
  {
   "cell_type": "markdown",
   "id": "e19e1ea0",
   "metadata": {},
   "source": [
    "# Loading transformed chronic disease indicators table"
   ]
  },
  {
   "cell_type": "code",
   "execution_count": 447,
   "id": "a9e86253",
   "metadata": {},
   "outputs": [],
   "source": [
    "cdi_file_name = './data/cdi-data-transformed/cdi.parquet/*.parquet'"
   ]
  },
  {
   "cell_type": "code",
   "execution_count": 455,
   "id": "8e17d56a",
   "metadata": {},
   "outputs": [],
   "source": [
    "q = f\"\"\"\n",
    "    CREATE OR REPLACE TABLE cdi AS\n",
    "    SELECT *\n",
    "    FROM read_parquet('{cdi_file_name}')\n",
    "\"\"\""
   ]
  },
  {
   "cell_type": "code",
   "execution_count": 456,
   "id": "360725e8",
   "metadata": {},
   "outputs": [],
   "source": [
    "duckdb.sql(q)"
   ]
  },
  {
   "cell_type": "code",
   "execution_count": 457,
   "id": "550bb88b",
   "metadata": {},
   "outputs": [
    {
     "data": {
      "text/plain": [
       "┌──────────────┐\n",
       "│ count_star() │\n",
       "│    int64     │\n",
       "├──────────────┤\n",
       "│       699340 │\n",
       "└──────────────┘"
      ]
     },
     "execution_count": 457,
     "metadata": {},
     "output_type": "execute_result"
    }
   ],
   "source": [
    "duckdb.sql(\"\"\"\n",
    "    SELECT COUNT(*)\n",
    "    FROM cdi\n",
    "\"\"\")"
   ]
  },
  {
   "cell_type": "code",
   "execution_count": 458,
   "id": "dbfffdb7",
   "metadata": {},
   "outputs": [
    {
     "data": {
      "text/plain": [
       "┌───────────┬─────────┬──────────────┬────────────────┬─────────┬─────────────────────────────────────────────────────────────────────────────────────────┬───────────────┬─────────────────────────┬───────────┬────────────────────┬─────────────────────┬─────────────────────────┬────────────┬─────────┬────────────┬─────────────────┬───────────────────────────┬───────────────────┬─────────────────────┬────────────────────┬──────────┬────────┬─────────┬───────────┬──────────────┐\n",
       "│ YearStart │ YearEnd │ LocationAbbr │  LocationDesc  │  Topic  │                                        Question                                         │ DataValueUnit │      DataValueType      │ DataValue │ LowConfidenceLimit │ HighConfidenceLimit │ StratificationCategory1 │ LocationID │ TopicID │ QuestionID │ DataValueTypeID │ StratificationCategoryID1 │ StratificationID1 │      Latitude       │     Longitude      │ AgeStart │ AgeEnd │   Sex   │ Ethnicity │    Origin    │\n",
       "│   int32   │  int32  │   varchar    │    varchar     │ varchar │                                         varchar                                         │    varchar    │         varchar         │  double   │       double       │       double        │         varchar         │   int32    │ varchar │  varchar   │     varchar     │          varchar          │      varchar      │       double        │       double       │  double  │ double │ varchar │  varchar  │   varchar    │\n",
       "├───────────┼─────────┼──────────────┼────────────────┼─────────┼─────────────────────────────────────────────────────────────────────────────────────────┼───────────────┼─────────────────────────┼───────────┼────────────────────┼─────────────────────┼─────────────────────────┼────────────┼─────────┼────────────┼─────────────────┼───────────────────────────┼───────────────────┼─────────────────────┼────────────────────┼──────────┼────────┼─────────┼───────────┼──────────────┤\n",
       "│      2019 │    2019 │ IL           │ Illinois       │ Alcohol │ Alcohol use among youth                                                                 │ %             │ Crude Prevalence        │       9.2 │                4.0 │                19.6 │ Race/Ethnicity          │         17 │ ALC     │ ALC1_1     │ CRDPREV         │ RACE                      │ ASN               │  -88.99771017799969 │  40.48501028300046 │     18.0 │   24.0 │ Both    │ Asian     │ Not Hispanic │\n",
       "│      2017 │    2017 │ VA           │ Virginia       │ Alcohol │ Alcohol use among youth                                                                 │ %             │ Crude Prevalence        │       9.3 │                5.2 │                16.1 │ Race/Ethnicity          │         51 │ ALC     │ ALC1_1     │ CRDPREV         │ RACE                      │ ASN               │  -78.45789046299967 │  37.54268067400045 │     18.0 │   24.0 │ Both    │ Asian     │ Not Hispanic │\n",
       "│      2015 │    2015 │ VA           │ Virginia       │ Alcohol │ Alcohol use among youth                                                                 │ %             │ Crude Prevalence        │       9.8 │                6.0 │                15.4 │ Race/Ethnicity          │         51 │ ALC     │ ALC1_1     │ CRDPREV         │ RACE                      │ ASN               │  -78.45789046299967 │  37.54268067400045 │     18.0 │   24.0 │ Both    │ Asian     │ Not Hispanic │\n",
       "│      2013 │    2013 │ MI           │ Michigan       │ Alcohol │ Alcohol use among youth                                                                 │ %             │ Crude Prevalence        │      12.8 │                6.4 │                23.8 │ Race/Ethnicity          │         26 │ ALC     │ ALC1_1     │ CRDPREV         │ RACE                      │ ASN               │  -84.71439026999968 │   44.6613195430005 │     18.0 │   24.0 │ Both    │ Asian     │ Not Hispanic │\n",
       "│      2019 │    2019 │ NY           │ New York       │ Alcohol │ Alcohol use among youth                                                                 │ %             │ Crude Prevalence        │      11.1 │                7.9 │                15.4 │ Race/Ethnicity          │         36 │ ALC     │ ALC1_1     │ CRDPREV         │ RACE                      │ ASN               │  -75.54397042699964 │  42.82700103200045 │     18.0 │   24.0 │ Both    │ Asian     │ Not Hispanic │\n",
       "│      2017 │    2017 │ UT           │ Utah           │ Alcohol │ Alcohol use among youth                                                                 │ %             │ Crude Prevalence        │      11.2 │                8.0 │                15.5 │ Gender                  │         49 │ ALC     │ ALC1_1     │ CRDPREV         │ GENDER                    │ GENF              │ -111.58713063499971 │ 39.360700171000474 │     18.0 │   24.0 │ Female  │ All       │ Both         │\n",
       "│      2017 │    2017 │ CA           │ California     │ Alcohol │ Alcohol use among youth                                                                 │ %             │ Crude Prevalence        │      13.8 │                9.0 │                20.6 │ Race/Ethnicity          │          6 │ ALC     │ ALC1_1     │ CRDPREV         │ RACE                      │ ASN               │ -120.99999953799971 │  37.63864012300047 │     18.0 │   24.0 │ Both    │ Asian     │ Not Hispanic │\n",
       "│      2013 │    2013 │ UT           │ Utah           │ Alcohol │ Alcohol use among youth                                                                 │ %             │ Crude Prevalence        │      11.0 │                9.3 │                13.0 │ Overall                 │         49 │ ALC     │ ALC1_1     │ CRDPREV         │ OVERALL                   │ OVR               │ -111.58713063499971 │ 39.360700171000474 │     18.0 │   24.0 │ Both    │ All       │ Both         │\n",
       "│      2017 │    2017 │ SC           │ South Carolina │ Alcohol │ Alcohol use among youth                                                                 │ %             │ Crude Prevalence        │      15.6 │               11.2 │                21.4 │ Race/Ethnicity          │         45 │ ALC     │ ALC1_1     │ CRDPREV         │ RACE                      │ BLK               │  -81.04537120699968 │ 33.998821303000454 │     18.0 │   24.0 │ Both    │ Black     │ Not Hispanic │\n",
       "│      2019 │    2019 │ HI           │ Hawaii         │ Alcohol │ Alcohol use among youth                                                                 │ %             │ Crude Prevalence        │      14.2 │               11.7 │                17.0 │ Race/Ethnicity          │         15 │ ALC     │ ALC1_1     │ CRDPREV         │ RACE                      │ ASN               │ -157.85774940299973 │ 21.304850435000446 │     18.0 │   24.0 │ Both    │ Asian     │ Not Hispanic │\n",
       "│        ·  │      ·  │ ·            │   ·            │   ·     │            ·                                                                            │ ·             │        ·                │        ·  │                 ·  │                  ·  │   ·                     │          · │  ·      │   ·        │    ·            │  ·                        │  ·                │           ·         │          ·         │       ·  │     ·  │  ·      │  ·        │  ·           │\n",
       "│        ·  │      ·  │ ·            │   ·            │   ·     │            ·                                                                            │ ·             │        ·                │        ·  │                 ·  │                  ·  │   ·                     │          · │  ·      │   ·        │    ·            │  ·                        │  ·                │           ·         │          ·         │       ·  │     ·  │  ·      │  ·        │  ·           │\n",
       "│        ·  │      ·  │ ·            │   ·            │   ·     │            ·                                                                            │ ·             │        ·                │        ·  │                 ·  │                  ·  │   ·                     │          · │  ·      │   ·        │    ·            │  ·                        │  ·                │           ·         │          ·         │       ·  │     ·  │  ·      │  ·        │  ·           │\n",
       "│      2011 │    2011 │ NH           │ New Hampshire  │ Asthma  │ Pneumococcal vaccination among noninstitutionalized adults aged 18-64 years with asthma │ %             │ Crude Prevalence        │      36.8 │               26.1 │                49.1 │ Gender                  │         33 │ AST     │ AST6_1     │ CRDPREV         │ GENDER                    │ GENM              │  -71.50036091999965 │  43.65595011300047 │     18.0 │   64.0 │ Male    │ All       │ Both         │\n",
       "│      2011 │    2011 │ MS           │ Mississippi    │ Asthma  │ Pneumococcal vaccination among noninstitutionalized adults aged 18-64 years with asthma │ %             │ Crude Prevalence        │      31.8 │               26.2 │                38.0 │ Overall                 │         28 │ AST     │ AST6_1     │ CRDPREV         │ OVERALL                   │ OVR               │  -89.53803082499968 │ 32.745510099000455 │     18.0 │   64.0 │ Both    │ All       │ Both         │\n",
       "│      2021 │    2021 │ CO           │ Colorado       │ Asthma  │ Pneumococcal vaccination among noninstitutionalized adults aged 18-64 years with asthma │ %             │ Crude Prevalence        │      32.8 │               26.2 │                40.1 │ Gender                  │          8 │ AST     │ AST6_1     │ CRDPREV         │ GENDER                    │ GENM              │ -106.13361092099967 │ 38.843840757000464 │     18.0 │   64.0 │ Male    │ All       │ Both         │\n",
       "│      2011 │    2011 │ ND           │ North Dakota   │ Asthma  │ Pneumococcal vaccination among noninstitutionalized adults aged 18-64 years with asthma │ %             │ Crude Prevalence        │      34.8 │               26.2 │                44.6 │ Gender                  │         38 │ AST     │ AST6_1     │ CRDPREV         │ GENDER                    │ GENF              │ -100.11842104899966 │  47.47531977900047 │     18.0 │   64.0 │ Female  │ All       │ Both         │\n",
       "│      2014 │    2014 │ LA           │ Louisiana      │ Asthma  │ Pneumococcal vaccination among noninstitutionalized adults aged 18-64 years with asthma │ %             │ Age-adjusted Prevalence │      37.6 │               26.2 │                50.4 │ Gender                  │         22 │ AST     │ AST6_1     │ AGEADJPREV      │ GENDER                    │ GENM              │  -92.44568007099969 │  31.31266064400046 │     18.0 │   64.0 │ Male    │ All       │ Both         │\n",
       "│      2021 │    2021 │ ID           │ Idaho          │ Asthma  │ Pneumococcal vaccination among noninstitutionalized adults aged 18-64 years with asthma │ %             │ Age-adjusted Prevalence │      31.7 │               26.3 │                37.8 │ Overall                 │         16 │ AST     │ AST6_1     │ AGEADJPREV      │ OVERALL                   │ OVR               │  -114.3637300419997 │ 43.682630005000476 │     18.0 │   64.0 │ Both    │ All       │ Both         │\n",
       "│      2018 │    2018 │ CA           │ California     │ Asthma  │ Pneumococcal vaccination among noninstitutionalized adults aged 18-64 years with asthma │ %             │ Crude Prevalence        │      33.9 │               26.3 │                42.4 │ Gender                  │          6 │ AST     │ AST6_1     │ CRDPREV         │ GENDER                    │ GENM              │ -120.99999953799971 │  37.63864012300047 │     18.0 │   64.0 │ Male    │ All       │ Both         │\n",
       "│      2015 │    2015 │ ID           │ Idaho          │ Asthma  │ Pneumococcal vaccination among noninstitutionalized adults aged 18-64 years with asthma │ %             │ Crude Prevalence        │      33.9 │               26.3 │                42.5 │ Race/Ethnicity          │         16 │ AST     │ AST6_1     │ CRDPREV         │ RACE                      │ WHT               │  -114.3637300419997 │ 43.682630005000476 │     18.0 │   64.0 │ Both    │ White     │ Not Hispanic │\n",
       "│      2013 │    2013 │ WV           │ West Virginia  │ Asthma  │ Pneumococcal vaccination among noninstitutionalized adults aged 18-64 years with asthma │ %             │ Age-adjusted Prevalence │      31.6 │               26.6 │                37.0 │ Overall                 │         54 │ AST     │ AST6_1     │ AGEADJPREV      │ OVERALL                   │ OVR               │  -80.71264013499967 │  38.66551020200046 │     18.0 │   64.0 │ Both    │ All       │ Both         │\n",
       "│      2013 │    2013 │ NE           │ Nebraska       │ Asthma  │ Pneumococcal vaccination among noninstitutionalized adults aged 18-64 years with asthma │ %             │ Age-adjusted Prevalence │      33.2 │               26.8 │                40.4 │ Gender                  │         31 │ AST     │ AST6_1     │ AGEADJPREV      │ GENDER                    │ GENF              │  -99.36572062299967 │   41.6410409880005 │     18.0 │   64.0 │ Female  │ All       │ Both         │\n",
       "├───────────┴─────────┴──────────────┴────────────────┴─────────┴─────────────────────────────────────────────────────────────────────────────────────────┴───────────────┴─────────────────────────┴───────────┴────────────────────┴─────────────────────┴─────────────────────────┴────────────┴─────────┴────────────┴─────────────────┴───────────────────────────┴───────────────────┴─────────────────────┴────────────────────┴──────────┴────────┴─────────┴───────────┴──────────────┤\n",
       "│ ? rows (>9999 rows, 20 shown)                                                                                                                                                                                                                                                                                                                                                                                                                                                     25 columns │\n",
       "└──────────────────────────────────────────────────────────────────────────────────────────────────────────────────────────────────────────────────────────────────────────────────────────────────────────────────────────────────────────────────────────────────────────────────────────────────────────────────────────────────────────────────────────────────────────────────────────────────────────────────────────────────────────────────────────────────────────────────────────────┘"
      ]
     },
     "execution_count": 458,
     "metadata": {},
     "output_type": "execute_result"
    }
   ],
   "source": [
    "duckdb.sql(\"\"\"\n",
    "    SELECT *\n",
    "    FROM cdi\n",
    "\"\"\")"
   ]
  },
  {
   "cell_type": "markdown",
   "id": "fbf03b8f",
   "metadata": {},
   "source": [
    "#### unique pairs of question id and topic id"
   ]
  },
  {
   "cell_type": "code",
   "execution_count": 459,
   "id": "6b88464e",
   "metadata": {},
   "outputs": [
    {
     "data": {
      "text/plain": [
       "┌─────────┬────────────┐\n",
       "│ TopicID │ QuestionID │\n",
       "│ varchar │  varchar   │\n",
       "├─────────┼────────────┤\n",
       "│ TOB     │ TOB3_0     │\n",
       "│ ALC     │ ALC8_0_3   │\n",
       "│ DIA     │ DIA12_2    │\n",
       "│ MTH     │ MTH1_0     │\n",
       "│ NPAW    │ NPAW1_1    │\n",
       "│ NPAW    │ NPAW3_1    │\n",
       "│ ORH     │ ORH1_1     │\n",
       "│ TOB     │ TOB2_2     │\n",
       "│ TOB     │ TOB8_0     │\n",
       "│ ALC     │ ALC7_0     │\n",
       "│  ·      │   ·        │\n",
       "│  ·      │   ·        │\n",
       "│  ·      │   ·        │\n",
       "│ CAN     │ CAN8_1     │\n",
       "│ CKD     │ CKD3_0     │\n",
       "│ CVD     │ CVD3_1     │\n",
       "│ NPAW    │ NPAW10_0   │\n",
       "│ NPAW    │ NPAW11_3   │\n",
       "│ NPAW    │ NPAW18_0   │\n",
       "│ OLD     │ OLD3_1     │\n",
       "│ OVC     │ OVC2_2     │\n",
       "│ TOB     │ TOB11_1    │\n",
       "│ TOB     │ TOB2_1     │\n",
       "├─────────┴────────────┤\n",
       "│ 192 rows (20 shown)  │\n",
       "└──────────────────────┘"
      ]
     },
     "execution_count": 459,
     "metadata": {},
     "output_type": "execute_result"
    }
   ],
   "source": [
    "duckdb.sql(\"\"\"\n",
    "    SELECT TopicID, QuestionID\n",
    "    FROM cdi\n",
    "    GROUP BY TopicID, QuestionID\n",
    "\"\"\")"
   ]
  },
  {
   "cell_type": "code",
   "execution_count": 478,
   "id": "f6a67d20",
   "metadata": {},
   "outputs": [
    {
     "data": {
      "text/plain": [
       "[('LA', 'Louisiana'),\n",
       " ('KY', 'Kentucky'),\n",
       " ('CA', 'California'),\n",
       " ('MO', 'Missouri'),\n",
       " ('PR', 'Puerto Rico'),\n",
       " ('ID', 'Idaho'),\n",
       " ('MT', 'Montana'),\n",
       " ('VT', 'Vermont'),\n",
       " ('AR', 'Arkansas'),\n",
       " ('DE', 'Delaware'),\n",
       " ('GA', 'Georgia'),\n",
       " ('TN', 'Tennessee'),\n",
       " ('ND', 'North Dakota'),\n",
       " ('FL', 'Florida'),\n",
       " ('US', 'United States'),\n",
       " ('AK', 'Alaska'),\n",
       " ('KS', 'Kansas'),\n",
       " ('IL', 'Illinois'),\n",
       " ('NM', 'New Mexico'),\n",
       " ('WI', 'Wisconsin'),\n",
       " ('NH', 'New Hampshire'),\n",
       " ('AZ', 'Arizona'),\n",
       " ('MD', 'Maryland'),\n",
       " ('SD', 'South Dakota'),\n",
       " ('OK', 'Oklahoma'),\n",
       " ('IA', 'Iowa'),\n",
       " ('SC', 'South Carolina'),\n",
       " ('UT', 'Utah'),\n",
       " ('RI', 'Rhode Island'),\n",
       " ('MS', 'Mississippi'),\n",
       " ('OH', 'Ohio'),\n",
       " ('WY', 'Wyoming'),\n",
       " ('HI', 'Hawaii'),\n",
       " ('NV', 'Nevada'),\n",
       " ('MN', 'Minnesota'),\n",
       " ('VI', 'Virgin Islands'),\n",
       " ('AL', 'Alabama'),\n",
       " ('TX', 'Texas'),\n",
       " ('NY', 'New York'),\n",
       " ('CT', 'Connecticut'),\n",
       " ('MA', 'Massachusetts'),\n",
       " ('NC', 'North Carolina'),\n",
       " ('OR', 'Oregon'),\n",
       " ('NJ', 'New Jersey'),\n",
       " ('GU', 'Guam'),\n",
       " ('WA', 'Washington'),\n",
       " ('MI', 'Michigan'),\n",
       " ('VA', 'Virginia'),\n",
       " ('PA', 'Pennsylvania'),\n",
       " ('NE', 'Nebraska'),\n",
       " ('WV', 'West Virginia'),\n",
       " ('DC', 'District of Columbia'),\n",
       " ('IN', 'Indiana'),\n",
       " ('ME', 'Maine'),\n",
       " ('CO', 'Colorado')]"
      ]
     },
     "execution_count": 478,
     "metadata": {},
     "output_type": "execute_result"
    }
   ],
   "source": [
    "cdi_unique_states = duckdb.sql(\"\"\"\n",
    "    SELECT LocationAbbr, LocationDesc\n",
    "    FROM cdi\n",
    "    GROUP BY LocationAbbr, LocationDesc\n",
    "\"\"\").fetchall()\n",
    "cdi_unique_states"
   ]
  },
  {
   "cell_type": "code",
   "execution_count": 480,
   "id": "ddf3ee80",
   "metadata": {},
   "outputs": [
    {
     "data": {
      "text/plain": [
       "('LA',\n",
       " 'KY',\n",
       " 'CA',\n",
       " 'MO',\n",
       " 'PR',\n",
       " 'ID',\n",
       " 'MT',\n",
       " 'VT',\n",
       " 'AR',\n",
       " 'DE',\n",
       " 'GA',\n",
       " 'TN',\n",
       " 'ND',\n",
       " 'FL',\n",
       " 'US',\n",
       " 'AK',\n",
       " 'KS',\n",
       " 'IL',\n",
       " 'NM',\n",
       " 'WI',\n",
       " 'NH',\n",
       " 'AZ',\n",
       " 'MD',\n",
       " 'SD',\n",
       " 'OK',\n",
       " 'IA',\n",
       " 'SC',\n",
       " 'UT',\n",
       " 'RI',\n",
       " 'MS',\n",
       " 'OH',\n",
       " 'WY',\n",
       " 'HI',\n",
       " 'NV',\n",
       " 'MN',\n",
       " 'VI',\n",
       " 'AL',\n",
       " 'TX',\n",
       " 'NY',\n",
       " 'CT',\n",
       " 'MA',\n",
       " 'NC',\n",
       " 'OR',\n",
       " 'NJ',\n",
       " 'GU',\n",
       " 'WA',\n",
       " 'MI',\n",
       " 'VA',\n",
       " 'PA',\n",
       " 'NE',\n",
       " 'WV',\n",
       " 'DC',\n",
       " 'IN',\n",
       " 'ME',\n",
       " 'CO')"
      ]
     },
     "execution_count": 480,
     "metadata": {},
     "output_type": "execute_result"
    }
   ],
   "source": [
    "cdi_state_codes, cdi_state_names = zip(*cdi_unique_states)\n",
    "cdi_state_codes"
   ]
  },
  {
   "cell_type": "markdown",
   "id": "1e77a2c4",
   "metadata": {},
   "source": [
    "These are other states we shouldn't include in the CDI table since there are "
   ]
  },
  {
   "cell_type": "code",
   "execution_count": 481,
   "id": "4440160e",
   "metadata": {},
   "outputs": [
    {
     "data": {
      "text/plain": [
       "{'Guam', 'Puerto Rico', 'United States', 'Virgin Islands'}"
      ]
     },
     "execution_count": 481,
     "metadata": {},
     "output_type": "execute_result"
    }
   ],
   "source": [
    "set(cdi_state_names) - set(population_state_names)"
   ]
  }
 ],
 "metadata": {
  "kernelspec": {
   "display_name": "tech-interview",
   "language": "python",
   "name": "python3"
  },
  "language_info": {
   "codemirror_mode": {
    "name": "ipython",
    "version": 3
   },
   "file_extension": ".py",
   "mimetype": "text/x-python",
   "name": "python",
   "nbconvert_exporter": "python",
   "pygments_lexer": "ipython3",
   "version": "3.12.3"
  }
 },
 "nbformat": 4,
 "nbformat_minor": 5
}
