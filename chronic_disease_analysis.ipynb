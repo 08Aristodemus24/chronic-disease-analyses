{
 "cells": [
  {
   "cell_type": "markdown",
   "id": "bde2ade4",
   "metadata": {},
   "source": [
    "# Now that all necessary data have now been extracted, transformed, and dumped to parquet files we can start doing our analyses by reading these parquet files as tables with duckdb (an in process OLAP) and then use these tables to make our transformations and draw insights"
   ]
  },
  {
   "cell_type": "code",
   "execution_count": 1,
   "id": "73652265",
   "metadata": {},
   "outputs": [],
   "source": [
    "import duckdb\n",
    "import os\n",
    "from dotenv import load_dotenv\n",
    "from pathlib import Path\n",
    "\n",
    "%load_ext autoreload\n",
    "%autoreload 2"
   ]
  },
  {
   "cell_type": "markdown",
   "id": "c0005e21",
   "metadata": {},
   "source": [
    "# Load AWS credentials in order for duck db to read parquet files in s3 bucket "
   ]
  },
  {
   "cell_type": "code",
   "execution_count": 2,
   "id": "384dde00",
   "metadata": {},
   "outputs": [
    {
     "data": {
      "text/plain": [
       "True"
      ]
     },
     "execution_count": 2,
     "metadata": {},
     "output_type": "execute_result"
    }
   ],
   "source": [
    "# Build paths inside the project like this: BASE_DIR / 'subdir'.\n",
    "# use this only in development\n",
    "env_dir = Path('./').resolve()\n",
    "load_dotenv(os.path.join(env_dir, '.env'))"
   ]
  },
  {
   "cell_type": "code",
   "execution_count": 4,
   "id": "577b1cba",
   "metadata": {},
   "outputs": [],
   "source": [
    "# jdbc:duckdb:md:chronic_disease_analyses_db\n",
    "# duckdb:///md:chronic_disease_analyses_db\n",
    "conn = duckdb.connect(f\"md:chronic_disease_analyses_db?motherduck_token={os.environ['MOTHERDUCK_TOKEN']}\")"
   ]
  },
  {
   "cell_type": "code",
   "execution_count": 5,
   "id": "357fc67e",
   "metadata": {},
   "outputs": [],
   "source": [
    "# load env vars\n",
    "credentials = {\n",
    "    \"aws_access_key_id\": os.environ[\"AWS_ACCESS_KEY_ID\"],\n",
    "    \"aws_secret_access_key\": os.environ[\"AWS_SECRET_ACCESS_KEY\"],\n",
    "    \"region_name\": os.environ[\"AWS_REGION_NAME\"],\n",
    "}"
   ]
  },
  {
   "cell_type": "code",
   "execution_count": 41,
   "id": "32847ce9",
   "metadata": {},
   "outputs": [],
   "source": [
    "conn.sql(f\"\"\"\n",
    "    INSTALL httpfs\n",
    "\"\"\")"
   ]
  },
  {
   "cell_type": "code",
   "execution_count": 42,
   "id": "38bf2ddd",
   "metadata": {},
   "outputs": [],
   "source": [
    "conn.sql(f\"\"\"\n",
    "    LOAD httpfs\n",
    "\"\"\")"
   ]
  },
  {
   "cell_type": "code",
   "execution_count": 43,
   "id": "47e091b9",
   "metadata": {},
   "outputs": [
    {
     "data": {
      "text/plain": [
       "┌─────────┐\n",
       "│ Success │\n",
       "│ boolean │\n",
       "├─────────┤\n",
       "│ true    │\n",
       "└─────────┘"
      ]
     },
     "execution_count": 43,
     "metadata": {},
     "output_type": "execute_result"
    }
   ],
   "source": [
    "conn.sql(f\"\"\"\n",
    "    CREATE SECRET (\n",
    "        TYPE s3,\n",
    "        KEY_ID '{credentials[\"aws_access_key_id\"]}',\n",
    "        SECRET '{credentials[\"aws_secret_access_key\"]}',\n",
    "        REGION '{credentials[\"region_name\"]}',\n",
    "        ENDPOINT 's3.{credentials[\"region_name\"]}.amazonaws.com'\n",
    "    );\n",
    "\"\"\")"
   ]
  },
  {
   "cell_type": "markdown",
   "id": "5ebc23d8",
   "metadata": {},
   "source": [
    "# loading CDI and Population fact tables"
   ]
  },
  {
   "cell_type": "code",
   "execution_count": 44,
   "id": "571f926a",
   "metadata": {},
   "outputs": [
    {
     "data": {
      "text/plain": [
       "'s3://chronic-disease-analyses-bucket/cdi-data-transformed/CDI.parquet/*.parquet'"
      ]
     },
     "execution_count": 44,
     "metadata": {},
     "output_type": "execute_result"
    }
   ],
   "source": [
    "cdi_url = \"s3://chronic-disease-analyses-bucket/cdi-data-transformed/CDI.parquet/*.parquet\"\n",
    "cdi_url"
   ]
  },
  {
   "cell_type": "code",
   "execution_count": 45,
   "id": "74bc0b07",
   "metadata": {},
   "outputs": [
    {
     "data": {
      "text/plain": [
       "\"\\n    CREATE OR REPLACE TABLE CDI AS\\n    SELECT *\\n    FROM read_parquet('s3://chronic-disease-analyses-bucket/cdi-data-transformed/CDI.parquet/*.parquet', union_by_name=True, filename=False)\\n\""
      ]
     },
     "execution_count": 45,
     "metadata": {},
     "output_type": "execute_result"
    }
   ],
   "source": [
    "query = f\"\"\"\n",
    "    CREATE OR REPLACE TABLE CDI AS\n",
    "    SELECT *\n",
    "    FROM read_parquet('{cdi_url}', union_by_name=True, filename=False)\n",
    "\"\"\"\n",
    "query"
   ]
  },
  {
   "cell_type": "code",
   "execution_count": 46,
   "id": "cc55e08b",
   "metadata": {},
   "outputs": [],
   "source": [
    "conn.sql(query)"
   ]
  },
  {
   "cell_type": "code",
   "execution_count": 47,
   "id": "7b17ef70",
   "metadata": {},
   "outputs": [
    {
     "data": {
      "text/plain": [
       "┌───────────┬─────────┬────────────┬───────────────┬───────────┬────────────────────┬─────────────────────┬────────────┬─────────────────┬──────────────────┐\n",
       "│ YearStart │ YearEnd │ LocationID │ DataValueUnit │ DataValue │ LowConfidenceLimit │ HighConfidenceLimit │ QuestionID │ DataValueTypeID │ StratificationID │\n",
       "│   int32   │  int32  │  varchar   │    varchar    │  double   │       double       │       double        │  varchar   │     varchar     │     varchar      │\n",
       "├───────────┼─────────┼────────────┼───────────────┼───────────┼────────────────────┼─────────────────────┼────────────┼─────────────────┼──────────────────┤\n",
       "│      2015 │    2015 │ IL         │ %             │      10.6 │                4.8 │                22.2 │ ALC1_1     │ CRDPREV         │ NH_B_ASIAN       │\n",
       "│      2015 │    2015 │ RI         │ %             │      12.6 │                7.3 │                21.0 │ ALC1_1     │ CRDPREV         │ NH_B_ASIAN       │\n",
       "│      2013 │    2013 │ MA         │ %             │      13.6 │                8.6 │                20.7 │ ALC1_1     │ CRDPREV         │ NH_B_ASIAN       │\n",
       "│      2015 │    2015 │ FL         │ %             │      16.0 │               11.0 │                22.9 │ ALC1_1     │ CRDPREV         │ NH_B_ASIAN       │\n",
       "│      2017 │    2017 │ SC         │ %             │      15.6 │               11.2 │                21.4 │ ALC1_1     │ CRDPREV         │ NH_B_BLACK       │\n",
       "│      2015 │    2015 │ CA         │ %             │      17.1 │               11.9 │                23.9 │ ALC1_1     │ CRDPREV         │ NH_B_ASIAN       │\n",
       "│      2019 │    2019 │ VA         │ %             │      16.1 │               12.0 │                21.3 │ ALC1_1     │ CRDPREV         │ NH_B_BLACK       │\n",
       "│      2017 │    2017 │ VA         │ %             │      17.8 │               14.0 │                22.3 │ ALC1_1     │ CRDPREV         │ NH_B_BLACK       │\n",
       "│      2015 │    2015 │ VA         │ %             │      17.5 │               14.4 │                21.1 │ ALC1_1     │ CRDPREV         │ NH_B_BLACK       │\n",
       "│      2019 │    2019 │ HI         │ %             │      19.4 │               15.1 │                24.5 │ ALC1_1     │ CRDPREV         │ NH_B_WHITE       │\n",
       "│        ·  │      ·  │ ·          │ ·             │        ·  │                 ·  │                  ·  │   ·        │    ·            │    ·             │\n",
       "│        ·  │      ·  │ ·          │ ·             │        ·  │                 ·  │                  ·  │   ·        │    ·            │    ·             │\n",
       "│        ·  │      ·  │ ·          │ ·             │        ·  │                 ·  │                  ·  │   ·        │    ·            │    ·             │\n",
       "│      2017 │    2017 │ IL         │ %             │      85.5 │               77.1 │                91.1 │ AST6_2     │ CRDPREV         │ B_B_ALL          │\n",
       "│      2016 │    2016 │ MS         │ %             │      87.3 │               77.1 │                93.3 │ AST6_2     │ CRDPREV         │ NH_B_WHITE       │\n",
       "│      2014 │    2014 │ UT         │ %             │      83.7 │               77.2 │                88.6 │ AST6_2     │ CRDPREV         │ NH_B_WHITE       │\n",
       "│      2016 │    2016 │ TX         │ %             │      85.7 │               77.2 │                91.4 │ AST6_2     │ CRDPREV         │ B_B_ALL          │\n",
       "│      2014 │    2014 │ LA         │ %             │      86.4 │               77.2 │                92.2 │ AST6_2     │ AGEADJPREV      │ B_F_ALL          │\n",
       "│      2019 │    2019 │ CO         │ %             │      87.2 │               77.2 │                93.2 │ AST6_2     │ CRDPREV         │ B_M_ALL          │\n",
       "│      2013 │    2013 │ TX         │ %             │      85.8 │               77.3 │                91.5 │ AST6_2     │ CRDPREV         │ B_F_ALL          │\n",
       "│      2012 │    2012 │ DE         │ %             │      87.0 │               77.5 │                92.8 │ AST6_2     │ CRDPREV         │ B_B_ALL          │\n",
       "│      2013 │    2013 │ FL         │ %             │      84.4 │               77.6 │                89.3 │ AST6_2     │ AGEADJPREV      │ B_F_ALL          │\n",
       "│      2019 │    2019 │ AZ         │ %             │      84.7 │               77.6 │                89.8 │ AST6_2     │ AGEADJPREV      │ NH_B_WHITE       │\n",
       "├───────────┴─────────┴────────────┴───────────────┴───────────┴────────────────────┴─────────────────────┴────────────┴─────────────────┴──────────────────┤\n",
       "│ ? rows (>9999 rows, 20 shown)                                                                                                                  10 columns │\n",
       "└───────────────────────────────────────────────────────────────────────────────────────────────────────────────────────────────────────────────────────────┘"
      ]
     },
     "execution_count": 47,
     "metadata": {},
     "output_type": "execute_result"
    }
   ],
   "source": [
    "conn.sql(\"\"\"\n",
    "    SELECT * FROM CDI\n",
    "\"\"\")"
   ]
  },
  {
   "cell_type": "code",
   "execution_count": 48,
   "id": "adeb3ac0",
   "metadata": {},
   "outputs": [],
   "source": [
    "us_population_file_names = [\n",
    "    \"s3://chronic-disease-analyses-bucket/population-data-transformed/Population_2000_2009.parquet/*.parquet\",\n",
    "    \"s3://chronic-disease-analyses-bucket/population-data-transformed/Population_2010_2019.parquet/*.parquet\",\n",
    "    \"s3://chronic-disease-analyses-bucket/population-data-transformed/Population_2020_2023.parquet/*.parquet\",\n",
    "]"
   ]
  },
  {
   "cell_type": "code",
   "execution_count": 49,
   "id": "a5af4bcb",
   "metadata": {},
   "outputs": [],
   "source": [
    "query = f\"\"\"\n",
    "    CREATE OR REPLACE TABLE Population AS\n",
    "    SELECT *\n",
    "    FROM read_parquet({us_population_file_names}, union_by_name=True, filename=False)\n",
    "\"\"\""
   ]
  },
  {
   "cell_type": "code",
   "execution_count": 50,
   "id": "ca915ab5",
   "metadata": {},
   "outputs": [],
   "source": [
    "conn.sql(query)"
   ]
  },
  {
   "cell_type": "code",
   "execution_count": 51,
   "id": "cc3c3ed1",
   "metadata": {},
   "outputs": [
    {
     "data": {
      "text/plain": [
       "┌─────────┬───────┬──────────────────┬───────┬────────────┐\n",
       "│ StateID │  Age  │ StratificationID │ Year  │ Population │\n",
       "│ varchar │ float │     varchar      │ int32 │   int64    │\n",
       "├─────────┼───────┼──────────────────┼───────┼────────────┤\n",
       "│ AL      │   0.0 │ NH_M_WHITE       │  2000 │      19270 │\n",
       "│ AL      │   0.0 │ NH_M_WHITE       │  2001 │      19612 │\n",
       "│ AL      │   0.0 │ NH_M_WHITE       │  2002 │      18731 │\n",
       "│ AL      │   0.0 │ NH_M_WHITE       │  2003 │      18623 │\n",
       "│ AL      │   0.0 │ NH_M_WHITE       │  2004 │      18659 │\n",
       "│ AL      │   0.0 │ NH_M_WHITE       │  2005 │      18816 │\n",
       "│ AL      │   0.0 │ NH_M_WHITE       │  2006 │      18877 │\n",
       "│ AL      │   0.0 │ NH_M_WHITE       │  2007 │      19027 │\n",
       "│ AL      │   0.0 │ NH_M_WHITE       │  2008 │      18937 │\n",
       "│ AL      │   0.0 │ NH_M_WHITE       │  2009 │      18039 │\n",
       "│ ·       │    ·  │     ·            │    ·  │          · │\n",
       "│ ·       │    ·  │     ·            │    ·  │          · │\n",
       "│ ·       │    ·  │     ·            │    ·  │          · │\n",
       "│ AL      │  53.0 │ H_M_MULTI        │  2000 │          3 │\n",
       "│ AL      │  53.0 │ H_M_MULTI        │  2001 │          4 │\n",
       "│ AL      │  53.0 │ H_M_MULTI        │  2002 │          9 │\n",
       "│ AL      │  53.0 │ H_M_MULTI        │  2003 │          6 │\n",
       "│ AL      │  53.0 │ H_M_MULTI        │  2004 │          9 │\n",
       "│ AL      │  53.0 │ H_M_MULTI        │  2005 │          7 │\n",
       "│ AL      │  53.0 │ H_M_MULTI        │  2006 │          8 │\n",
       "│ AL      │  53.0 │ H_M_MULTI        │  2007 │          7 │\n",
       "│ AL      │  53.0 │ H_M_MULTI        │  2008 │          8 │\n",
       "│ AL      │  53.0 │ H_M_MULTI        │  2009 │         11 │\n",
       "├─────────┴───────┴──────────────────┴───────┴────────────┤\n",
       "│ ? rows (>9999 rows, 20 shown)                 5 columns │\n",
       "└─────────────────────────────────────────────────────────┘"
      ]
     },
     "execution_count": 51,
     "metadata": {},
     "output_type": "execute_result"
    }
   ],
   "source": [
    "conn.sql(\"\"\"\n",
    "    SELECT * FROM Population\n",
    "\"\"\")"
   ]
  },
  {
   "cell_type": "markdown",
   "id": "55e35955",
   "metadata": {},
   "source": [
    "# Loading CDI dimension tables"
   ]
  },
  {
   "cell_type": "markdown",
   "id": "ee6d1e70",
   "metadata": {},
   "source": [
    "#### location table"
   ]
  },
  {
   "cell_type": "code",
   "execution_count": 52,
   "id": "5f837e07",
   "metadata": {},
   "outputs": [
    {
     "data": {
      "text/plain": [
       "'s3://chronic-disease-analyses-bucket/cdi-data-transformed/Location.parquet/*.parquet'"
      ]
     },
     "execution_count": 52,
     "metadata": {},
     "output_type": "execute_result"
    }
   ],
   "source": [
    "cdi_location_url = \"s3://chronic-disease-analyses-bucket/cdi-data-transformed/Location.parquet/*.parquet\"\n",
    "cdi_location_url"
   ]
  },
  {
   "cell_type": "code",
   "execution_count": 53,
   "id": "13fc6fcf",
   "metadata": {},
   "outputs": [],
   "source": [
    "# note that if we only specify a string instead of a list in read_parquet it must be enclosed in a quote or double quotes\n",
    "query = f\"\"\"\n",
    "    CREATE OR REPLACE TABLE CDILocation AS\n",
    "    SELECT *\n",
    "    FROM read_parquet('{cdi_location_url}', union_by_name=True, filename=False)\n",
    "\"\"\""
   ]
  },
  {
   "cell_type": "code",
   "execution_count": 54,
   "id": "bbd3b2f0",
   "metadata": {},
   "outputs": [],
   "source": [
    "conn.sql(query)"
   ]
  },
  {
   "cell_type": "code",
   "execution_count": 55,
   "id": "d5ae71a5",
   "metadata": {},
   "outputs": [
    {
     "data": {
      "text/plain": [
       "┌────────────┬────────────────┬─────────────────────┬────────────────────┐\n",
       "│ LocationID │  LocationDesc  │      Latitude       │     Longitude      │\n",
       "│  varchar   │    varchar     │       double        │       double       │\n",
       "├────────────┼────────────────┼─────────────────────┼────────────────────┤\n",
       "│ NM         │ New Mexico     │ -106.24058098499967 │  34.52088095200048 │\n",
       "│ OK         │ Oklahoma       │  -97.52107021399968 │  35.47203135600046 │\n",
       "│ GA         │ Georgia        │  -83.62758034599966 │  32.83968109300048 │\n",
       "│ KY         │ Kentucky       │  -84.77497104799966 │ 37.645970271000465 │\n",
       "│ ND         │ North Dakota   │ -100.11842104899966 │  47.47531977900047 │\n",
       "│ WY         │ Wyoming        │ -108.10983035299967 │  43.23554134300048 │\n",
       "│ TN         │ Tennessee      │  -85.77449091399967 │  35.68094058000048 │\n",
       "│ LA         │ Louisiana      │  -92.44568007099969 │  31.31266064400046 │\n",
       "│ NE         │ Nebraska       │  -99.36572062299967 │   41.6410409880005 │\n",
       "│ AK         │ Alaska         │ -147.72205903599973 │  64.84507995700051 │\n",
       "│ ·          │   ·            │          ·          │          ·         │\n",
       "│ ·          │   ·            │          ·          │          ·         │\n",
       "│ ·          │   ·            │          ·          │          ·         │\n",
       "│ AZ         │ Arizona        │ -111.76381127699972 │ 34.865970280000454 │\n",
       "│ IN         │ Indiana        │  -86.14996019399968 │ 39.766910452000445 │\n",
       "│ MN         │ Minnesota      │  -94.79420050299967 │  46.35564873600049 │\n",
       "│ HI         │ Hawaii         │ -157.85774940299973 │ 21.304850435000446 │\n",
       "│ NH         │ New Hampshire  │  -71.50036091999965 │  43.65595011300047 │\n",
       "│ AR         │ Arkansas       │  -92.27449074299966 │  34.74865012400045 │\n",
       "│ NY         │ New York       │  -75.54397042699964 │  42.82700103200045 │\n",
       "│ SC         │ South Carolina │  -81.04537120699968 │ 33.998821303000454 │\n",
       "│ CT         │ Connecticut    │  -72.64984095199964 │  41.56266102000046 │\n",
       "│ CO         │ Colorado       │ -106.13361092099967 │ 38.843840757000464 │\n",
       "├────────────┴────────────────┴─────────────────────┴────────────────────┤\n",
       "│ 51 rows (20 shown)                                           4 columns │\n",
       "└────────────────────────────────────────────────────────────────────────┘"
      ]
     },
     "execution_count": 55,
     "metadata": {},
     "output_type": "execute_result"
    }
   ],
   "source": [
    "conn.sql(\"\"\"\n",
    "    SELECT *\n",
    "    FROM CDILocation\n",
    "\"\"\")"
   ]
  },
  {
   "cell_type": "markdown",
   "id": "70f07dff",
   "metadata": {},
   "source": [
    "#### Stratification table"
   ]
  },
  {
   "cell_type": "code",
   "execution_count": 56,
   "id": "d55ffc81",
   "metadata": {},
   "outputs": [
    {
     "data": {
      "text/plain": [
       "'s3://chronic-disease-analyses-bucket/cdi-data-transformed/Stratification.parquet/*.parquet'"
      ]
     },
     "execution_count": 56,
     "metadata": {},
     "output_type": "execute_result"
    }
   ],
   "source": [
    "cdi_stratification_url = \"s3://chronic-disease-analyses-bucket/cdi-data-transformed/Stratification.parquet/*.parquet\"\n",
    "cdi_stratification_url"
   ]
  },
  {
   "cell_type": "code",
   "execution_count": 57,
   "id": "a207910e",
   "metadata": {},
   "outputs": [],
   "source": [
    "query = f\"\"\"\n",
    "    CREATE OR REPLACE TABLE CDIStratification AS\n",
    "    SELECT *\n",
    "    FROM read_parquet('{cdi_stratification_url}', union_by_name=True, filename=False)\n",
    "\"\"\""
   ]
  },
  {
   "cell_type": "code",
   "execution_count": 58,
   "id": "a4bfdc83",
   "metadata": {},
   "outputs": [],
   "source": [
    "conn.sql(query)"
   ]
  },
  {
   "cell_type": "code",
   "execution_count": 59,
   "id": "be161ddf",
   "metadata": {},
   "outputs": [
    {
     "data": {
      "text/plain": [
       "┌─────────┬─────────────┬──────────────┬──────────────────┐\n",
       "│   Sex   │  Ethnicity  │    Origin    │ StratificationID │\n",
       "│ varchar │   varchar   │   varchar    │     varchar      │\n",
       "├─────────┼─────────────┼──────────────┼──────────────────┤\n",
       "│ Male    │ All         │ Both         │ B_M_ALL          │\n",
       "│ Both    │ White       │ Not Hispanic │ NH_B_WHITE       │\n",
       "│ Both    │ Black       │ Not Hispanic │ NH_B_BLACK       │\n",
       "│ Both    │ AIAN        │ Not Hispanic │ NH_B_AIAN        │\n",
       "│ Both    │ Multiracial │ Not Hispanic │ NH_B_MULTI       │\n",
       "│ Both    │ NHPI        │ Not Hispanic │ NH_B_NHPI        │\n",
       "│ Both    │ Other       │ Not Hispanic │ NH_B_OTHER       │\n",
       "│ Female  │ All         │ Both         │ B_F_ALL          │\n",
       "│ Both    │ All         │ Hispanic     │ H_B_ALL          │\n",
       "│ Both    │ All         │ Both         │ B_B_ALL          │\n",
       "│ Both    │ Asian       │ Not Hispanic │ NH_B_ASIAN       │\n",
       "├─────────┴─────────────┴──────────────┴──────────────────┤\n",
       "│ 11 rows                                       4 columns │\n",
       "└─────────────────────────────────────────────────────────┘"
      ]
     },
     "execution_count": 59,
     "metadata": {},
     "output_type": "execute_result"
    }
   ],
   "source": [
    "conn.sql(\"\"\"\n",
    "    SELECT *\n",
    "    FROM CDIStratification\n",
    "\"\"\")"
   ]
  },
  {
   "cell_type": "markdown",
   "id": "9b0bcf09",
   "metadata": {},
   "source": [
    "#### Question table"
   ]
  },
  {
   "cell_type": "code",
   "execution_count": 60,
   "id": "65e89eee",
   "metadata": {},
   "outputs": [
    {
     "data": {
      "text/plain": [
       "'s3://chronic-disease-analyses-bucket/cdi-data-transformed/Question.parquet/*.parquet'"
      ]
     },
     "execution_count": 60,
     "metadata": {},
     "output_type": "execute_result"
    }
   ],
   "source": [
    "question_url = \"s3://chronic-disease-analyses-bucket/cdi-data-transformed/Question.parquet/*.parquet\"\n",
    "question_url"
   ]
  },
  {
   "cell_type": "code",
   "execution_count": 61,
   "id": "8109eb94",
   "metadata": {},
   "outputs": [],
   "source": [
    "query = f\"\"\"\n",
    "    CREATE OR REPLACE TABLE Question AS\n",
    "    SELECT *\n",
    "    FROM read_parquet('{question_url}', union_by_name=True, filename=False)\n",
    "\"\"\""
   ]
  },
  {
   "cell_type": "code",
   "execution_count": 62,
   "id": "e5d3c143",
   "metadata": {},
   "outputs": [],
   "source": [
    "conn.sql(query)"
   ]
  },
  {
   "cell_type": "code",
   "execution_count": 63,
   "id": "b5599308",
   "metadata": {},
   "outputs": [
    {
     "data": {
      "text/plain": [
       "┌────────────┬─────────┬──────────────────────────────────────────────────────────────────────────────────────────────────────────────┬─────────────────────────────────────────────────┬──────────┬────────┐\n",
       "│ QuestionID │ TopicID │                                                   Question                                                   │                      Topic                      │ AgeStart │ AgeEnd │\n",
       "│  varchar   │ varchar │                                                   varchar                                                    │                     varchar                     │  double  │ double │\n",
       "├────────────┼─────────┼──────────────────────────────────────────────────────────────────────────────────────────────────────────────┼─────────────────────────────────────────────────┼──────────┼────────┤\n",
       "│ ART1_1     │ ART     │ Arthritis among adults aged >= 18 years                                                                      │ Arthritis                                       │     18.0 │    inf │\n",
       "│ ALC4_0     │ ALC     │ Binge drinking intensity among adults aged >= 18 years who binge drink                                       │ Alcohol                                         │     18.0 │    inf │\n",
       "│ NPAW2_3    │ NPAW    │ Overweight or obesity among women aged 18-44 years                                                           │ Nutrition, Physical Activity, and Weight Status │     18.0 │   44.0 │\n",
       "│ DIA7_0     │ DIA     │ Dilated eye examination among adults aged >= 18 years with diagnosed diabetes                                │ Diabetes                                        │     18.0 │    inf │\n",
       "│ ORH1_2     │ ORH     │ Dental visits among children and adolescents aged 1-17 years                                                 │ Oral Health                                     │      1.0 │   17.0 │\n",
       "│ OLD3_1     │ OLD     │ Proportion of older adults aged >= 65 years who are up to date on a core set of clinical preventive services │ Older Adults                                    │     65.0 │    inf │\n",
       "│ NPAW4_1    │ NPAW    │ Median daily frequency of fruit consumption among high school students                                       │ Nutrition, Physical Activity, and Weight Status │     14.0 │   18.0 │\n",
       "│ OVC6_2     │ OVC     │ Self-rated health status among women aged 18-44 years                                                        │ Overarching Conditions                          │     18.0 │   44.0 │\n",
       "│ DIA11_3    │ DIA     │ Prevalence of depressive disorders among adults aged >= 18 years with diagnosed diabetes                     │ Diabetes                                        │     18.0 │    inf │\n",
       "│ OVC5_0     │ OVC     │ Premature mortality among adults aged 45-64 years                                                            │ Overarching Conditions                          │     45.0 │   64.0 │\n",
       "│   ·        │  ·      │                         ·                                                                                    │           ·                                     │       ·  │     ·  │\n",
       "│   ·        │  ·      │                         ·                                                                                    │           ·                                     │       ·  │     ·  │\n",
       "│   ·        │  ·      │                         ·                                                                                    │           ·                                     │       ·  │     ·  │\n",
       "│ NPAW16_0   │ NPAW    │ Receiving formula supplementation within the first 2 days of life among breastfed infants                    │ Nutrition, Physical Activity, and Weight Status │     NULL │   NULL │\n",
       "│ RPH3_0     │ RPH     │ Folic acid supplementation                                                                                   │ Reproductive Health                             │     NULL │   NULL │\n",
       "│ NPAW13_2   │ NPAW    │ Secondary schools that allow students to purchase soda or fruit drinks                                       │ Nutrition, Physical Activity, and Weight Status │     NULL │   NULL │\n",
       "│ CAN6_2     │ CAN     │ Cancer of the female cervix, mortality                                                                       │ Cancer                                          │     NULL │   NULL │\n",
       "│ NPAW7_1    │ NPAW    │ Farmers markets that accept Women and Infant Children (WIC) farmers market nutrition program coupons         │ Nutrition, Physical Activity, and Weight Status │     NULL │   NULL │\n",
       "│ DIA3_2     │ DIA     │ Prevalence of gestational diabetes                                                                           │ Diabetes                                        │     NULL │   NULL │\n",
       "│ CVD1_4     │ CVD     │ Mortality from heart failure                                                                                 │ Cardiovascular Disease                          │     NULL │   NULL │\n",
       "│ COPD6_1    │ COPD    │ Emergency department visit rate for chronic obstructive pulmonary disease as first-listed diagnosis          │ Chronic Obstructive Pulmonary Disease           │     NULL │   NULL │\n",
       "│ ORH2_2     │ ORH     │ Preventive dental care before pregnancy                                                                      │ Oral Health                                     │     NULL │   NULL │\n",
       "│ CVD8_0     │ CVD     │ Pre-pregnancy hypertension                                                                                   │ Cardiovascular Disease                          │     NULL │   NULL │\n",
       "├────────────┴─────────┴──────────────────────────────────────────────────────────────────────────────────────────────────────────────┴─────────────────────────────────────────────────┴──────────┴────────┤\n",
       "│ 192 rows (20 shown)                                                                                                                                                                             6 columns │\n",
       "└───────────────────────────────────────────────────────────────────────────────────────────────────────────────────────────────────────────────────────────────────────────────────────────────────────────┘"
      ]
     },
     "execution_count": 63,
     "metadata": {},
     "output_type": "execute_result"
    }
   ],
   "source": [
    "conn.sql(\"\"\"\n",
    "    SELECT *\n",
    "    FROM Question\n",
    "\"\"\")"
   ]
  },
  {
   "cell_type": "markdown",
   "id": "e4b50d2a",
   "metadata": {},
   "source": [
    "#### DataValueType table"
   ]
  },
  {
   "cell_type": "code",
   "execution_count": 64,
   "id": "ca68f033",
   "metadata": {},
   "outputs": [
    {
     "data": {
      "text/plain": [
       "'s3://chronic-disease-analyses-bucket/cdi-data-transformed/DataValueType.parquet/*.parquet'"
      ]
     },
     "execution_count": 64,
     "metadata": {},
     "output_type": "execute_result"
    }
   ],
   "source": [
    "data_value_type_url = \"s3://chronic-disease-analyses-bucket/cdi-data-transformed/DataValueType.parquet/*.parquet\"\n",
    "data_value_type_url"
   ]
  },
  {
   "cell_type": "code",
   "execution_count": 65,
   "id": "54d4ad23",
   "metadata": {},
   "outputs": [],
   "source": [
    "query = f\"\"\"\n",
    "    CREATE OR REPLACE TABLE DataValueType AS\n",
    "    SELECT *\n",
    "    FROM read_parquet('{data_value_type_url}', union_by_name=True, filename=False)\n",
    "\"\"\""
   ]
  },
  {
   "cell_type": "code",
   "execution_count": 66,
   "id": "3ab362b0",
   "metadata": {},
   "outputs": [],
   "source": [
    "conn.sql(query)"
   ]
  },
  {
   "cell_type": "code",
   "execution_count": 67,
   "id": "bc205c1a",
   "metadata": {},
   "outputs": [
    {
     "data": {
      "text/plain": [
       "┌───────────────────┬──────────────────────────────────────────┐\n",
       "│  DataValueTypeID  │              DataValueType               │\n",
       "│      varchar      │                 varchar                  │\n",
       "├───────────────────┼──────────────────────────────────────────┤\n",
       "│ MEDIAN            │ Median                                   │\n",
       "│ NMBR              │ Number                                   │\n",
       "│ AGEADJRATE        │ Age-adjusted Rate                        │\n",
       "│ PERCAPALC         │ Per capita alcohol consumption           │\n",
       "│ USD               │ US Dollars                               │\n",
       "│ AGEADJMEAN        │ Age-adjusted Mean                        │\n",
       "│ PREV              │ Prevalence                               │\n",
       "│ MEAN              │ Mean                                     │\n",
       "│ AVGANNCRDRATE     │ Average Annual Crude Rate                │\n",
       "│ CRDRATE           │ Crude Rate                               │\n",
       "│ AGEADJPREV        │ Age-adjusted Prevalence                  │\n",
       "│ AVGANNAGEADJRATE  │ Average Annual Age-adjusted Rate         │\n",
       "│ PRCT              │ Percent                                  │\n",
       "│ CRDPREV           │ Crude Prevalence                         │\n",
       "│ AGESEXRACEADJRATE │ Adjusted by age, sex, race and ethnicity │\n",
       "├───────────────────┴──────────────────────────────────────────┤\n",
       "│ 15 rows                                            2 columns │\n",
       "└──────────────────────────────────────────────────────────────┘"
      ]
     },
     "execution_count": 67,
     "metadata": {},
     "output_type": "execute_result"
    }
   ],
   "source": [
    "conn.sql(\"\"\"\n",
    "    SELECT *\n",
    "    FROM DataValueType\n",
    "\"\"\")"
   ]
  },
  {
   "cell_type": "markdown",
   "id": "d6e6f1b2",
   "metadata": {},
   "source": [
    "# Loading Population dimension tables"
   ]
  },
  {
   "cell_type": "markdown",
   "id": "abc9e57b",
   "metadata": {},
   "source": [
    "#### State table "
   ]
  },
  {
   "cell_type": "code",
   "execution_count": 68,
   "id": "797da436",
   "metadata": {},
   "outputs": [
    {
     "data": {
      "text/plain": [
       "'s3://chronic-disease-analyses-bucket/population-data-transformed/State.parquet/*.parquet'"
      ]
     },
     "execution_count": 68,
     "metadata": {},
     "output_type": "execute_result"
    }
   ],
   "source": [
    "population_state_url = \"s3://chronic-disease-analyses-bucket/population-data-transformed/State.parquet/*.parquet\"\n",
    "population_state_url"
   ]
  },
  {
   "cell_type": "code",
   "execution_count": 69,
   "id": "e3a8ccaa",
   "metadata": {},
   "outputs": [],
   "source": [
    "query = f\"\"\"\n",
    "    CREATE OR REPLACE TABLE PopulationState AS\n",
    "    SELECT *\n",
    "    FROM read_parquet('{population_state_url}', union_by_name=True, filename=False)\n",
    "\"\"\""
   ]
  },
  {
   "cell_type": "code",
   "execution_count": 70,
   "id": "eb382f78",
   "metadata": {},
   "outputs": [],
   "source": [
    "conn.sql(query)"
   ]
  },
  {
   "cell_type": "code",
   "execution_count": 71,
   "id": "6a081a72",
   "metadata": {},
   "outputs": [
    {
     "data": {
      "text/plain": [
       "┌───────────────┬─────────┐\n",
       "│     State     │ StateID │\n",
       "│    varchar    │ varchar │\n",
       "├───────────────┼─────────┤\n",
       "│ Mississippi   │ MS      │\n",
       "│ South Dakota  │ SD      │\n",
       "│ Utah          │ UT      │\n",
       "│ Kentucky      │ KY      │\n",
       "│ California    │ CA      │\n",
       "│ Nebraska      │ NE      │\n",
       "│ New Hampshire │ NH      │\n",
       "│ Delaware      │ DE      │\n",
       "│ Minnesota     │ MN      │\n",
       "│ Nevada        │ NV      │\n",
       "│   ·           │ ·       │\n",
       "│   ·           │ ·       │\n",
       "│   ·           │ ·       │\n",
       "│ Michigan      │ MI      │\n",
       "│ Illinois      │ IL      │\n",
       "│ Maryland      │ MD      │\n",
       "│ Alaska        │ AK      │\n",
       "│ Connecticut   │ CT      │\n",
       "│ Vermont       │ VT      │\n",
       "│ Oklahoma      │ OK      │\n",
       "│ West Virginia │ WV      │\n",
       "│ Virginia      │ VA      │\n",
       "│ Massachusetts │ NULL    │\n",
       "├───────────────┴─────────┤\n",
       "│   51 rows (20 shown)    │\n",
       "└─────────────────────────┘"
      ]
     },
     "execution_count": 71,
     "metadata": {},
     "output_type": "execute_result"
    }
   ],
   "source": [
    "conn.sql(\"\"\"\n",
    "    SELECT *\n",
    "    FROM PopulationState\n",
    "\"\"\")"
   ]
  },
  {
   "cell_type": "markdown",
   "id": "63d96041",
   "metadata": {},
   "source": [
    "#### Stratification table"
   ]
  },
  {
   "cell_type": "code",
   "execution_count": 72,
   "id": "36e9d8bf",
   "metadata": {},
   "outputs": [
    {
     "data": {
      "text/plain": [
       "'s3://chronic-disease-analyses-bucket/population-data-transformed/Stratification.parquet/*.parquet'"
      ]
     },
     "execution_count": 72,
     "metadata": {},
     "output_type": "execute_result"
    }
   ],
   "source": [
    "population_stratification_url = \"s3://chronic-disease-analyses-bucket/population-data-transformed/Stratification.parquet/*.parquet\"\n",
    "population_stratification_url"
   ]
  },
  {
   "cell_type": "code",
   "execution_count": 73,
   "id": "c667ff70",
   "metadata": {},
   "outputs": [],
   "source": [
    "query = f\"\"\"\n",
    "    CREATE OR REPLACE TABLE PopulationStratification AS\n",
    "    SELECT *\n",
    "    FROM read_parquet('{population_stratification_url}', union_by_name=True, filename=False)\n",
    "\"\"\""
   ]
  },
  {
   "cell_type": "code",
   "execution_count": 74,
   "id": "50d7dd49",
   "metadata": {},
   "outputs": [],
   "source": [
    "conn.sql(query)"
   ]
  },
  {
   "cell_type": "code",
   "execution_count": 75,
   "id": "b1201c0b",
   "metadata": {},
   "outputs": [
    {
     "data": {
      "text/plain": [
       "┌─────────┬─────────────┬──────────────┬──────────────────┐\n",
       "│   Sex   │  Ethnicity  │    Origin    │ StratificationID │\n",
       "│ varchar │   varchar   │   varchar    │     varchar      │\n",
       "├─────────┼─────────────┼──────────────┼──────────────────┤\n",
       "│ Female  │ Black       │ Not Hispanic │ NH_F_BLACK       │\n",
       "│ Female  │ Asian       │ Not Hispanic │ NH_F_ASIAN       │\n",
       "│ Female  │ NHPI        │ Hispanic     │ H_F_NHPI         │\n",
       "│ Male    │ Asian       │ Not Hispanic │ NH_M_ASIAN       │\n",
       "│ Male    │ White       │ Not Hispanic │ NH_M_WHITE       │\n",
       "│ Male    │ AIAN        │ Not Hispanic │ NH_M_AIAN        │\n",
       "│ Male    │ Multiracial │ Hispanic     │ H_M_MULTI        │\n",
       "│ Male    │ Black       │ Not Hispanic │ NH_M_BLACK       │\n",
       "│ Male    │ Black       │ Hispanic     │ H_M_BLACK        │\n",
       "│ Female  │ Asian       │ Hispanic     │ H_F_ASIAN        │\n",
       "│  ·      │   ·         │    ·         │     ·            │\n",
       "│  ·      │   ·         │    ·         │     ·            │\n",
       "│  ·      │   ·         │    ·         │     ·            │\n",
       "│ Male    │ Asian       │ Hispanic     │ H_M_ASIAN        │\n",
       "│ Male    │ AIAN        │ Hispanic     │ H_M_AIAN         │\n",
       "│ Female  │ Multiracial │ Hispanic     │ H_F_MULTI        │\n",
       "│ Female  │ White       │ Hispanic     │ H_F_WHITE        │\n",
       "│ Female  │ AIAN        │ Hispanic     │ H_F_AIAN         │\n",
       "│ Male    │ NHPI        │ Hispanic     │ H_M_NHPI         │\n",
       "│ Female  │ Multiracial │ Not Hispanic │ NH_F_MULTI       │\n",
       "│ Female  │ Black       │ Hispanic     │ H_F_BLACK        │\n",
       "│ Female  │ AIAN        │ Not Hispanic │ NH_F_AIAN        │\n",
       "│ Male    │ White       │ Hispanic     │ H_M_WHITE        │\n",
       "├─────────┴─────────────┴──────────────┴──────────────────┤\n",
       "│ 24 rows (20 shown)                            4 columns │\n",
       "└─────────────────────────────────────────────────────────┘"
      ]
     },
     "execution_count": 75,
     "metadata": {},
     "output_type": "execute_result"
    }
   ],
   "source": [
    "conn.sql(f\"\"\"\n",
    "    SELECT *\n",
    "    FROM PopulationStratification\n",
    "\"\"\")"
   ]
  }
 ],
 "metadata": {
  "kernelspec": {
   "display_name": "tech-interview",
   "language": "python",
   "name": "python3"
  },
  "language_info": {
   "codemirror_mode": {
    "name": "ipython",
    "version": 3
   },
   "file_extension": ".py",
   "mimetype": "text/x-python",
   "name": "python",
   "nbconvert_exporter": "python",
   "pygments_lexer": "ipython3",
   "version": "3.11.8"
  }
 },
 "nbformat": 4,
 "nbformat_minor": 5
}
