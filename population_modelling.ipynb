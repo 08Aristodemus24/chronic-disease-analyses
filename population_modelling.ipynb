{
 "cells": [
  {
   "cell_type": "code",
   "execution_count": null,
   "id": "d9d27179",
   "metadata": {},
   "outputs": [],
   "source": [
    "import pandas as pd\n",
    "import numpy as np\n",
    "import matplotlib.pyplot as plt\n",
    "import os\n",
    "import re\n",
    "import ast\n",
    "\n",
    "from concurrent.futures import ThreadPoolExecutor\n",
    "\n",
    "from utilities.preprocessors import column_summary, model_population_table, model_population_by_sex_race_ho_table\n",
    "from utilities.visualizers import disp_cat_feat, view_feat_outliers\n",
    "\n",
    "\n",
    "%load_ext autoreload\n",
    "%autoreload 2"
   ]
  },
  {
   "cell_type": "code",
   "execution_count": null,
   "id": "195640ee",
   "metadata": {},
   "outputs": [],
   "source": [
    "DATA_DIR = './data/population-data'\n",
    "EXCLUSIONS = [\"us_populations_per_state_2001_to_2021.csv\"]\n",
    "files = list(filter(lambda file: not file in EXCLUSIONS, os.listdir(DATA_DIR)))\n",
    "populations_by_sex_age_00_10 = list(filter(lambda file: \"2000-2010\" in file and \"by_sex_and_age\" in file, files))\n",
    "populations_by_sex_race_ho_00_10 = list(filter(lambda file: \"2000-2010\" in file and \"by_sex_race_and_ho\" in file, files))\n",
    "populations_by_sex_age_10_19 = list(filter(lambda file: \"2010-2019\" in file and \"by_sex_and_age\" in file, files))\n",
    "populations_by_sex_race_ho_10_19 = list(filter(lambda file: \"2010-2019\" in file and \"by_sex_race_and_ho\" in file, files))\n",
    "populations_by_sex_age_20_23 = list(filter(lambda file: \"2020-2023\" in file and \"by_sex_and_age\" in file, files))\n",
    "populations_by_sex_race_ho_20_23 = list(filter(lambda file: \"2020-2023\" in file and \"by_sex_race_and_ho\" in file, files))\n",
    "len(populations_by_sex_age_00_10), len(populations_by_sex_age_10_19), len(populations_by_sex_age_20_23),"
   ]
  },
  {
   "cell_type": "code",
   "execution_count": null,
   "id": "bcd196e8",
   "metadata": {},
   "outputs": [],
   "source": [
    "len(populations_by_sex_race_ho_00_10), len(populations_by_sex_race_ho_10_19), len(populations_by_sex_race_ho_20_23),"
   ]
  },
  {
   "cell_type": "markdown",
   "id": "fbbaef29",
   "metadata": {},
   "source": [
    "# Read sample excel sheet"
   ]
  },
  {
   "cell_type": "code",
   "execution_count": null,
   "id": "612033ef",
   "metadata": {},
   "outputs": [],
   "source": [
    "test_df = pd.read_excel(os.path.join(DATA_DIR, \"Alabama_pop_by_sex_and_age_2000-2010.xls\"), dtype=object, header=None)\n",
    "test_df.head(40)"
   ]
  },
  {
   "cell_type": "code",
   "execution_count": null,
   "id": "675b9ad9",
   "metadata": {},
   "outputs": [],
   "source": [
    "male_start = test_df[test_df[0] == \"MALE\"].index.to_list()[0]\n",
    "male_start"
   ]
  },
  {
   "cell_type": "code",
   "execution_count": null,
   "id": "61bfd3b2",
   "metadata": {},
   "outputs": [],
   "source": [
    "pop_brackets = test_df.iloc[male_start:]\n",
    "pop_brackets"
   ]
  },
  {
   "cell_type": "code",
   "execution_count": null,
   "id": "90d8212b",
   "metadata": {},
   "outputs": [],
   "source": [
    "female_start = pop_brackets[pop_brackets[0] == \"FEMALE\"].index.to_list()[0]\n",
    "male_end, female_end = pop_brackets[pop_brackets[0] == \".Median age (years)\"].index.to_list()\n",
    "male_end, female_end"
   ]
  },
  {
   "cell_type": "markdown",
   "id": "5455187c",
   "metadata": {},
   "source": [
    "# split the excel spreadsheet into the male and female population brackets"
   ]
  },
  {
   "cell_type": "code",
   "execution_count": null,
   "id": "5db4397f",
   "metadata": {},
   "outputs": [],
   "source": [
    "male_pop_bracket = test_df.iloc[male_start:male_end]\n",
    "male_pop_bracket"
   ]
  },
  {
   "cell_type": "code",
   "execution_count": null,
   "id": "196cb7d3",
   "metadata": {},
   "outputs": [],
   "source": [
    "female_pop_bracket = test_df.iloc[female_start:female_end]\n",
    "female_pop_bracket"
   ]
  },
  {
   "cell_type": "markdown",
   "id": "a8c4601b",
   "metadata": {},
   "source": [
    "#### Remove the following\n",
    "* column `1`, column `12`, and column `13` (the reasoning is these contain only the population estimates of april 1 and not the most recent one which is supposed to be at july 1, and that column `13` is the year 2010 which already exists in the next population years)\n",
    "* rows with mostly Nan and the a dot symbol in column `1` i.e. `[. Nan Nan Nan Nan Nan ... Nan]`\n",
    "* and the male column \n",
    "\n",
    "#### we also rename the columns to be `bracket`, `2000`, `2001`, `2002`, `2003`, `2004`, `2005`, `2006`, `2007`, `2008`, `2009`"
   ]
  },
  {
   "cell_type": "code",
   "execution_count": null,
   "id": "cfb19208",
   "metadata": {},
   "outputs": [],
   "source": [
    "cols_to_remove = [1, 12, 13]\n",
    "cond = (male_pop_bracket[0] != \".\") & (male_pop_bracket[0] != \"MALE\")\n",
    "name_map = {0: \"bracket\", 2: 2000, 3: 2001, 4: 2002, 5: 2003, 6: 2004, 7: 2005, 8: 2006, 9: 2007, 10: 2008, 11: 2009}\n",
    "temp_male = male_pop_bracket[cond].drop(columns=cols_to_remove).rename(columns=name_map).reset_index(drop=True)\n",
    "temp_male"
   ]
  },
  {
   "cell_type": "markdown",
   "id": "dce0b074",
   "metadata": {},
   "source": [
    "#### we remove the brackets that have duplicates"
   ]
  },
  {
   "cell_type": "code",
   "execution_count": null,
   "id": "ffe6fb19",
   "metadata": {},
   "outputs": [],
   "source": [
    "temp_male = temp_male.drop_duplicates(ignore_index=True)\n",
    "temp_male"
   ]
  },
  {
   "cell_type": "code",
   "execution_count": null,
   "id": "440bcdfc",
   "metadata": {},
   "outputs": [],
   "source": [
    "temp_male.index = temp_male[\"bracket\"]\n",
    "temp_male"
   ]
  },
  {
   "cell_type": "code",
   "execution_count": null,
   "id": "d0adebc7",
   "metadata": {},
   "outputs": [],
   "source": [
    "del temp_male[\"bracket\"]\n",
    "temp_male"
   ]
  },
  {
   "cell_type": "code",
   "execution_count": null,
   "id": "2da3684c",
   "metadata": {},
   "outputs": [],
   "source": [
    "temp_male.shape"
   ]
  },
  {
   "cell_type": "markdown",
   "id": "bfd23224",
   "metadata": {},
   "source": [
    "#### in order to achieve the ff:\n",
    "![modelling table from population data by sex and age 2000 to 2009.png](./figures%20&%20images/modelling%20table%20from%20population%20data%20by%20sex%20and%20age%202000%20to%202009.png)\n",
    "#### we need to somehow at least make our age brackets our index so that when each row is stacked vertically and the column becomes now the row index, that we are able to still keep track of our original row indeces which are our age brackets so that when the dataframe is stacked later and it becomes a multi index dataframe we can just reset the index so that our multi index of our age brackets and years now become columns themselves"
   ]
  },
  {
   "cell_type": "code",
   "execution_count": null,
   "id": "7c0853e7",
   "metadata": {},
   "outputs": [],
   "source": [
    "temp_male = temp_male.stack().reset_index()\n",
    "temp_male"
   ]
  },
  {
   "cell_type": "code",
   "execution_count": null,
   "id": "b0163e9e",
   "metadata": {},
   "outputs": [],
   "source": [
    "temp_male = temp_male.rename(columns={\"level_1\": \"year\", 0: \"population\"})\n",
    "temp_male"
   ]
  },
  {
   "cell_type": "markdown",
   "id": "1dcd25c0",
   "metadata": {},
   "source": [
    "#### we also apply transformations to the `bracket` column by splitting say `.5 to 9 years` to 5 and 9 and have separate columns named `age_start` and `age_end` to take in these values"
   ]
  },
  {
   "cell_type": "code",
   "execution_count": null,
   "id": "0ab86938",
   "metadata": {},
   "outputs": [],
   "source": [
    "def helper(bracket: str | None):\n",
    "    bracket = bracket.lower()\n",
    "    keyword = re.search(r\"(under|to|and over|\\+)\", bracket)\n",
    "    keyword = np.nan if not keyword else keyword[0]\n",
    "    numbers = re.findall(r\"\\d+\", bracket)\n",
    "    numbers = [ast.literal_eval(number) for number in numbers]\n",
    "    # print(keyword)\n",
    "    # print(numbers)\n",
    "\n",
    "    # e.g. \"under 5\" becomes \"_under_5\"\n",
    "    if keyword == \"under\":\n",
    "        return (0, numbers[-1])\n",
    "    \n",
    "    # e.g. \"5 to 9\" becomes \"_5_to_9\"\n",
    "    elif keyword == \"to\":\n",
    "        return (numbers[0], numbers[-1])\n",
    "    \n",
    "    # e.g. \"9 and over\" becomes \"_9_and_over\"\n",
    "    elif keyword == \"and over\" or keyword == \"+\": \n",
    "        return (numbers[-1], float('inf'))\n",
    "    \n",
    "    # if it is a single number just return that number\n",
    "    return (np.nan, numbers[-1])"
   ]
  },
  {
   "cell_type": "code",
   "execution_count": null,
   "id": "8d719222",
   "metadata": {},
   "outputs": [],
   "source": [
    "age_ranges = temp_male[\"bracket\"].apply(helper).to_list()\n",
    "age_ranges"
   ]
  },
  {
   "cell_type": "code",
   "execution_count": null,
   "id": "44b90cf2",
   "metadata": {},
   "outputs": [],
   "source": [
    "temp_male[\"age_start\"], temp_male[\"age_end\"] = list(zip(*age_ranges))\n",
    "temp_male"
   ]
  },
  {
   "cell_type": "markdown",
   "id": "78a7dc1b",
   "metadata": {},
   "source": [
    "#### delete the bracket column for the last time"
   ]
  },
  {
   "cell_type": "code",
   "execution_count": null,
   "id": "9bb58f23",
   "metadata": {},
   "outputs": [],
   "source": [
    "del temp_male[\"bracket\"]\n",
    "temp_male"
   ]
  },
  {
   "cell_type": "code",
   "execution_count": null,
   "id": "3a9d4545",
   "metadata": {},
   "outputs": [],
   "source": [
    "temp_male[\"sex\"] = \"Male\""
   ]
  },
  {
   "cell_type": "code",
   "execution_count": null,
   "id": "a8b40cd2",
   "metadata": {},
   "outputs": [],
   "source": [
    "temp_male[\"state\"] = \"Alabama\""
   ]
  },
  {
   "cell_type": "code",
   "execution_count": null,
   "id": "baf08bb6",
   "metadata": {},
   "outputs": [],
   "source": [
    "final_male_pop_bracket = temp_male\n",
    "final_male_pop_bracket"
   ]
  },
  {
   "cell_type": "code",
   "execution_count": null,
   "id": "ff61c2a3",
   "metadata": {},
   "outputs": [],
   "source": [
    "(final_male_pop_bracket[\"population\"] <= 0).sum()"
   ]
  },
  {
   "cell_type": "code",
   "execution_count": null,
   "id": "6c6b5a33",
   "metadata": {},
   "outputs": [],
   "source": [
    "column_summary(final_male_pop_bracket)"
   ]
  },
  {
   "cell_type": "markdown",
   "id": "e29b80b2",
   "metadata": {},
   "source": [
    "#### We've done our preprocessing on the male population age brackets now we have to this same preprocessing on the female demographic. We can achieve this by writing a function that implements our above prototype that not only does it to the male population but also that of the female one, adn combines the resulting dataframes into one single dataframe for easy collation"
   ]
  },
  {
   "cell_type": "code",
   "execution_count": null,
   "id": "f3a2cfc7",
   "metadata": {},
   "outputs": [],
   "source": [
    "model_population_table(test_df, \"Alabama\", cols_to_remove, year_range=\"2000-2009\")"
   ]
  },
  {
   "cell_type": "code",
   "execution_count": null,
   "id": "917e2150",
   "metadata": {},
   "outputs": [],
   "source": [
    "def concur_model_pop_tables(file, cols_to_remove, year_range):\n",
    "    FILE_PATH = os.path.join(DATA_DIR, file)\n",
    "    state = re.search(r\"(^[A-Za-z]+)\", file)\n",
    "    state = \"Unknown\" if not state else state[0]\n",
    "\n",
    "    # print(cols_to_remove)\n",
    "    # print(year_range)\n",
    "    # read excel file\n",
    "    df = pd.read_excel(FILE_PATH, dtype=object, header=None)\n",
    "    state_population = model_population_table(df, state, cols_to_remove, year_range=year_range)\n",
    "    return state_population"
   ]
  },
  {
   "cell_type": "code",
   "execution_count": null,
   "id": "4f7ed97c",
   "metadata": {},
   "outputs": [],
   "source": [
    "with ThreadPoolExecutor() as exe:\n",
    "    state_populations_by_sex_age_00_09 = list(exe.map(\n",
    "        concur_model_pop_tables, \n",
    "        populations_by_sex_age_00_10, \n",
    "        [cols_to_remove] * len(populations_by_sex_age_00_10),\n",
    "        [\"2000-2009\"] * len(populations_by_sex_age_00_10)\n",
    "    ))\n",
    "\n",
    "state_populations_by_sex_age_df_00_09 = pd.concat(state_populations_by_sex_age_00_09, axis=0, ignore_index=True)"
   ]
  },
  {
   "cell_type": "code",
   "execution_count": null,
   "id": "b6deb1fd",
   "metadata": {},
   "outputs": [],
   "source": [
    "state_populations_by_sex_age_df_00_09"
   ]
  },
  {
   "cell_type": "code",
   "execution_count": null,
   "id": "42f62f16",
   "metadata": {},
   "outputs": [],
   "source": [
    "state_populations_by_sex_age_df_00_09.to_csv('./data/population-data/us_populations_per_state_by_sex_and_age_2000_to_2009.csv')"
   ]
  },
  {
   "cell_type": "code",
   "execution_count": null,
   "id": "0542882e",
   "metadata": {},
   "outputs": [],
   "source": [
    "column_summary(state_populations_by_sex_age_df_00_09)"
   ]
  },
  {
   "cell_type": "code",
   "execution_count": null,
   "id": "6cdacb41",
   "metadata": {},
   "outputs": [],
   "source": [
    "# take note this is just hte below five age bracket, \n",
    "# if we include all other age brackets we might have\n",
    "# a bigger total population value per year\n",
    "test = state_populations_by_sex_age_df_00_09.groupby(by=[\"year\", \"bracket\", \"sex\", \"state\"]).agg(total_population=(\"population\", \"sum\"))\n",
    "test"
   ]
  },
  {
   "cell_type": "markdown",
   "id": "5fa51bd8",
   "metadata": {},
   "source": [
    "# Reading sample excel file for year 2010-2019"
   ]
  },
  {
   "cell_type": "code",
   "execution_count": null,
   "id": "67ed87b9",
   "metadata": {},
   "outputs": [],
   "source": [
    "test_df_10_19 = pd.read_excel(os.path.join(DATA_DIR, \"Alabama_pop_by_sex_and_age_2010-2019.xlsx\"), dtype=object, header=None)\n",
    "test_df_10_19"
   ]
  },
  {
   "cell_type": "code",
   "execution_count": null,
   "id": "2fdbce61",
   "metadata": {},
   "outputs": [],
   "source": [
    "start_index = test_df_10_19[test_df_10_19[0] == \".0\"].index.to_list()[0]\n",
    "start_index"
   ]
  },
  {
   "cell_type": "code",
   "execution_count": null,
   "id": "33d474bf",
   "metadata": {},
   "outputs": [],
   "source": [
    "end_index = test_df_10_19[test_df_10_19[0] == \".Median Age (years)\"].index.to_list()[0]\n",
    "end_index"
   ]
  },
  {
   "cell_type": "markdown",
   "id": "ff38334c",
   "metadata": {},
   "source": [
    "#### Extract necessary rows"
   ]
  },
  {
   "cell_type": "code",
   "execution_count": null,
   "id": "1e5b7934",
   "metadata": {},
   "outputs": [],
   "source": [
    "pop_brackets_10_19 = test_df_10_19.iloc[start_index: end_index]\n",
    "pop_brackets_10_19"
   ]
  },
  {
   "cell_type": "markdown",
   "id": "42abdbc9",
   "metadata": {},
   "source": [
    "#### remove duplicates"
   ]
  },
  {
   "cell_type": "code",
   "execution_count": null,
   "id": "295f5336",
   "metadata": {},
   "outputs": [],
   "source": [
    "temp = pop_brackets_10_19.drop_duplicates()\n",
    "temp"
   ]
  },
  {
   "cell_type": "markdown",
   "id": "31cebb08",
   "metadata": {},
   "source": [
    "#### remove rows with at least 5 nan values"
   ]
  },
  {
   "cell_type": "code",
   "execution_count": null,
   "id": "a4d0357a",
   "metadata": {},
   "outputs": [],
   "source": [
    "temp = temp.dropna(thresh=5, axis=0)\n",
    "temp"
   ]
  },
  {
   "cell_type": "markdown",
   "id": "c0bee502",
   "metadata": {},
   "source": [
    "#### remove columns 1 to 7, then increment by 3"
   ]
  },
  {
   "cell_type": "code",
   "execution_count": null,
   "id": "cfa03b59",
   "metadata": {},
   "outputs": [],
   "source": [
    "cols_to_remove = [1, 2, 3, 4, 5, 6] + list(range(7, temp.shape[1], 3))\n",
    "cols_to_remove"
   ]
  },
  {
   "cell_type": "code",
   "execution_count": null,
   "id": "56ace0f1",
   "metadata": {},
   "outputs": [],
   "source": [
    "temp = temp.drop(columns=cols_to_remove)\n",
    "temp"
   ]
  },
  {
   "cell_type": "code",
   "execution_count": null,
   "id": "558fa620",
   "metadata": {},
   "outputs": [],
   "source": [
    "temp.index = temp[0]\n",
    "temp"
   ]
  },
  {
   "cell_type": "code",
   "execution_count": null,
   "id": "8bb65915",
   "metadata": {},
   "outputs": [],
   "source": [
    "del temp[0]\n",
    "temp"
   ]
  },
  {
   "cell_type": "code",
   "execution_count": null,
   "id": "f992cb89",
   "metadata": {},
   "outputs": [],
   "source": [
    "# generate and create multi index for columns\n",
    "years = sorted(list(range(2010, 2020)) * 2)\n",
    "genders = [\"male\", \"female\"] * 10\n",
    "multi_index_list = list(zip(years, genders))\n",
    "multi_index_list"
   ]
  },
  {
   "cell_type": "code",
   "execution_count": null,
   "id": "fb87dac6",
   "metadata": {},
   "outputs": [],
   "source": [
    "multi_index = pd.MultiIndex.from_tuples(multi_index_list)\n",
    "multi_index"
   ]
  },
  {
   "cell_type": "code",
   "execution_count": null,
   "id": "53a7230a",
   "metadata": {},
   "outputs": [],
   "source": [
    "multi_index[0]"
   ]
  },
  {
   "cell_type": "markdown",
   "id": "d189fbb6",
   "metadata": {},
   "source": [
    "#### set multi indexed columns and delete index name of rows"
   ]
  },
  {
   "cell_type": "code",
   "execution_count": null,
   "id": "eb9d9256",
   "metadata": {},
   "outputs": [],
   "source": [
    "temp.columns = multi_index\n",
    "temp.index.name = \"bracket\"\n",
    "temp"
   ]
  },
  {
   "cell_type": "markdown",
   "id": "b7f9693e",
   "metadata": {},
   "source": [
    "#### now we will have to stack each row vertically on each other and because we have multi indexed columns we will need to stack it twice in order to make these column indeces now be the row indeces"
   ]
  },
  {
   "cell_type": "code",
   "execution_count": null,
   "id": "e9168843",
   "metadata": {},
   "outputs": [],
   "source": [
    "temp = temp.stack().stack()\n",
    "temp"
   ]
  },
  {
   "cell_type": "markdown",
   "id": "7fed3442",
   "metadata": {},
   "source": [
    "#### now we can reset the index such that these multi index rows now become columns of our new dataframe"
   ]
  },
  {
   "cell_type": "code",
   "execution_count": null,
   "id": "1305f720",
   "metadata": {},
   "outputs": [],
   "source": [
    "temp = temp.reset_index()\n",
    "temp"
   ]
  },
  {
   "cell_type": "code",
   "execution_count": null,
   "id": "ac0e24b0",
   "metadata": {},
   "outputs": [],
   "source": [
    "# rename the newly converted columns to bracket, sex, year, and population respectively\n",
    "temp = temp.rename(columns={\"level_1\": \"sex\", \"level_2\": \"year\", 0: \"population\"})\n",
    "temp"
   ]
  },
  {
   "cell_type": "code",
   "execution_count": null,
   "id": "7b040699",
   "metadata": {},
   "outputs": [],
   "source": [
    "age_ranges_00_10 = temp[\"bracket\"].apply(helper).to_list()\n",
    "age_ranges_00_10"
   ]
  },
  {
   "cell_type": "code",
   "execution_count": null,
   "id": "0b239738",
   "metadata": {},
   "outputs": [],
   "source": [
    "temp[\"age_start\"], temp[\"age_end\"] = list(zip(*age_ranges_00_10))\n",
    "temp"
   ]
  },
  {
   "cell_type": "code",
   "execution_count": null,
   "id": "8865393a",
   "metadata": {},
   "outputs": [],
   "source": [
    "temp[\"state\"] = \"Alabama\"\n",
    "temp"
   ]
  },
  {
   "cell_type": "code",
   "execution_count": null,
   "id": "dfd7dcaf",
   "metadata": {},
   "outputs": [],
   "source": [
    "model_population_table(test_df_10_19, \"Alabama\", cols_to_remove, year_range=\"2010-2019\")"
   ]
  },
  {
   "cell_type": "code",
   "execution_count": null,
   "id": "ab160cb3",
   "metadata": {},
   "outputs": [],
   "source": [
    "with ThreadPoolExecutor() as exe:\n",
    "    state_populations_by_sex_age_10_19 = list(exe.map(\n",
    "        concur_model_pop_tables, \n",
    "        populations_by_sex_age_10_19, \n",
    "        [cols_to_remove] * len(populations_by_sex_age_10_19),\n",
    "        [\"2010-2019\"] * len(populations_by_sex_age_10_19)\n",
    "    ))\n",
    "\n",
    "state_populations_by_sex_age_df_10_19 = pd.concat(state_populations_by_sex_age_10_19, axis=0, ignore_index=True)"
   ]
  },
  {
   "cell_type": "code",
   "execution_count": null,
   "id": "bd68106e",
   "metadata": {},
   "outputs": [],
   "source": [
    "state_populations_by_sex_age_df_10_19"
   ]
  },
  {
   "cell_type": "code",
   "execution_count": null,
   "id": "b433218b",
   "metadata": {},
   "outputs": [],
   "source": [
    "column_summary(state_populations_by_sex_age_df_10_19)"
   ]
  },
  {
   "cell_type": "code",
   "execution_count": null,
   "id": "b8324ac5",
   "metadata": {},
   "outputs": [],
   "source": [
    "state_populations_by_sex_age_df_10_19.to_csv('./data/population-data/us_populations_per_state_by_sex_and_age_2010_to_2019.csv')"
   ]
  },
  {
   "cell_type": "markdown",
   "id": "4fa40a38",
   "metadata": {},
   "source": [
    "# reading sample excel file from year 2020-2023"
   ]
  },
  {
   "cell_type": "code",
   "execution_count": null,
   "id": "d86c51eb",
   "metadata": {},
   "outputs": [],
   "source": [
    "test_df_20_23 = pd.read_excel(os.path.join(DATA_DIR, \"Alabama_pop_by_sex_and_age_2020-2023.xlsx\"), dtype=object, header=None)\n",
    "test_df_20_23"
   ]
  },
  {
   "cell_type": "markdown",
   "id": "c4b48337",
   "metadata": {},
   "source": [
    "#### clearly we now know we can discard columns 1, 2, 3, 4, 7, 10, and 13"
   ]
  },
  {
   "cell_type": "code",
   "execution_count": null,
   "id": "f42bd7eb",
   "metadata": {},
   "outputs": [],
   "source": [
    "cols_to_remove = [1, 2, 3, 4] + list(range(7, test_df_20_23.shape[1], 3))\n",
    "cols_to_remove"
   ]
  },
  {
   "cell_type": "code",
   "execution_count": null,
   "id": "fdf63140",
   "metadata": {},
   "outputs": [],
   "source": [
    "model_population_table(test_df_20_23, \"Alabama\", cols_to_remove, year_range=\"2020-2023\")"
   ]
  },
  {
   "cell_type": "code",
   "execution_count": null,
   "id": "4d0bd1cc",
   "metadata": {},
   "outputs": [],
   "source": [
    "with ThreadPoolExecutor() as exe:\n",
    "    state_populations_by_sex_age_20_23 = list(exe.map(\n",
    "        concur_model_pop_tables, \n",
    "        populations_by_sex_age_20_23, \n",
    "        [cols_to_remove] * len(populations_by_sex_age_20_23),\n",
    "        [\"2020-2023\"] * len(populations_by_sex_age_20_23)\n",
    "    ))\n",
    "\n",
    "state_populations_by_sex_age_df_20_23 = pd.concat(state_populations_by_sex_age_20_23, axis=0, ignore_index=True)"
   ]
  },
  {
   "cell_type": "code",
   "execution_count": null,
   "id": "4ae3bd81",
   "metadata": {},
   "outputs": [],
   "source": [
    "state_populations_by_sex_age_df_20_23"
   ]
  },
  {
   "cell_type": "code",
   "execution_count": null,
   "id": "77517a7e",
   "metadata": {},
   "outputs": [],
   "source": [
    "state_populations_by_sex_age_df_20_23.to_csv('./data/population-data/us_populations_per_state_by_sex_and_age_2020_to_2023.csv')"
   ]
  },
  {
   "cell_type": "markdown",
   "id": "1bdd3abc",
   "metadata": {},
   "source": [
    "# Modelling excel spreadsheets with population values based on sex, race, and hispanic origin"
   ]
  },
  {
   "cell_type": "markdown",
   "id": "4a4091d4",
   "metadata": {},
   "source": [
    "![modelling table from population data by sex race and ethnicity 2000 to 2009.png](./figures%20&%20images/modelling%20table%20from%20population%20data%20by%20sex%20race%20and%20ethnicity%202000%20to%202009.png)"
   ]
  },
  {
   "cell_type": "code",
   "execution_count": null,
   "id": "b535e06a",
   "metadata": {},
   "outputs": [],
   "source": [
    "test_df_00_10 = pd.read_excel(os.path.join(DATA_DIR, \"Alabama_pop_by_sex_race_and_ho_2000-2010.xls\"), dtype=object, header=None)\n",
    "test_df_00_10"
   ]
  },
  {
   "cell_type": "markdown",
   "id": "67c4b999",
   "metadata": {},
   "source": [
    "#### delete columns 1 and 12"
   ]
  },
  {
   "cell_type": "code",
   "execution_count": null,
   "id": "51687c12",
   "metadata": {},
   "outputs": [],
   "source": [
    "cols_to_remove = [1, 12]\n",
    "temp = test_df_00_10.drop(columns=cols_to_remove)\n",
    "temp = temp.rename(columns={0: \"ethnicity\", 2: 2000, 3: 2001, 4: 2002, 5: 2003, 6: 2004, 7: 2005, 8: 2006, 9: 2007, 10: 2008, 11: 2009, 13: 2010})\n",
    "temp"
   ]
  },
  {
   "cell_type": "code",
   "execution_count": null,
   "id": "a6205d23",
   "metadata": {},
   "outputs": [],
   "source": [
    "temp[\"ethnicity\"] = temp[\"ethnicity\"].apply(lambda string: np.nan if pd.isna(string) else string.strip(\".\").lower())\n",
    "temp"
   ]
  },
  {
   "cell_type": "markdown",
   "id": "32032aeb",
   "metadata": {},
   "source": [
    "#### start partitioning the spreadsheet by its important rows like the sex, and whether or not it is of hispanic origin"
   ]
  },
  {
   "cell_type": "code",
   "execution_count": null,
   "id": "83d9b5a0",
   "metadata": {},
   "outputs": [],
   "source": [
    "male_start = temp.index[temp[\"ethnicity\"] == \"male\"].to_list()[0]\n",
    "male_start"
   ]
  },
  {
   "cell_type": "code",
   "execution_count": null,
   "id": "ff38987d",
   "metadata": {},
   "outputs": [],
   "source": [
    "female_start = temp.index[temp[\"ethnicity\"] == \"female\"].to_list()[0]\n",
    "female_start"
   ]
  },
  {
   "cell_type": "code",
   "execution_count": null,
   "id": "0eb88312",
   "metadata": {},
   "outputs": [],
   "source": [
    "temp.iloc[75:]"
   ]
  },
  {
   "cell_type": "code",
   "execution_count": null,
   "id": "9679de19",
   "metadata": {},
   "outputs": [],
   "source": [
    "# since there are multiple indeces with the two \n",
    "# or more races value we need to pick out the last value\n",
    "female_end = temp.index[temp[\"ethnicity\"] == \"two or more races\"].to_list()[-1]\n",
    "female_end"
   ]
  },
  {
   "cell_type": "code",
   "execution_count": null,
   "id": "226192df",
   "metadata": {},
   "outputs": [],
   "source": [
    "male_pop_bracket = temp.iloc[male_start:female_start].reset_index(drop=True)\n",
    "male_pop_bracket"
   ]
  },
  {
   "cell_type": "code",
   "execution_count": null,
   "id": "11632d92",
   "metadata": {},
   "outputs": [],
   "source": [
    "male_non_hisp_start = male_pop_bracket.index[male_pop_bracket[\"ethnicity\"] == \"not hispanic\"].to_list()[-1]\n",
    "male_non_hisp_start"
   ]
  },
  {
   "cell_type": "code",
   "execution_count": null,
   "id": "38703b60",
   "metadata": {},
   "outputs": [],
   "source": [
    "male_hisp_start = male_pop_bracket.index[male_pop_bracket[\"ethnicity\"] == \"hispanic\"].to_list()[-1]\n",
    "male_hisp_start"
   ]
  },
  {
   "cell_type": "code",
   "execution_count": null,
   "id": "882b0dff",
   "metadata": {},
   "outputs": [],
   "source": [
    "male_hisp_end = male_pop_bracket.index[male_pop_bracket[\"ethnicity\"] == \"two or more races\"].to_list()[-1]\n",
    "male_hisp_end"
   ]
  },
  {
   "cell_type": "code",
   "execution_count": null,
   "id": "fb0cdf6e",
   "metadata": {},
   "outputs": [],
   "source": [
    "male_non_hisp_pop_bracket = male_pop_bracket.iloc[male_non_hisp_start + 2:male_hisp_start].reset_index(drop=True)\n",
    "male_non_hisp_pop_bracket"
   ]
  },
  {
   "cell_type": "code",
   "execution_count": null,
   "id": "0beffa0b",
   "metadata": {},
   "outputs": [],
   "source": [
    "male_non_hisp_pop_bracket[\"origin\"] = \"non-hispanic\"\n",
    "male_non_hisp_pop_bracket"
   ]
  },
  {
   "cell_type": "code",
   "execution_count": null,
   "id": "47dc38d7",
   "metadata": {},
   "outputs": [],
   "source": [
    "male_non_hisp_pop_bracket[\"sex\"] = \"male\"\n",
    "male_non_hisp_pop_bracket"
   ]
  },
  {
   "cell_type": "code",
   "execution_count": null,
   "id": "6c873edd",
   "metadata": {},
   "outputs": [],
   "source": [
    "male_non_hisp_pop_bracket = male_non_hisp_pop_bracket.set_index(keys=[\"ethnicity\", \"origin\", \"sex\"])\n",
    "male_non_hisp_pop_bracket"
   ]
  },
  {
   "cell_type": "code",
   "execution_count": null,
   "id": "836aca85",
   "metadata": {},
   "outputs": [],
   "source": [
    "male_non_hisp_pop_bracket = male_non_hisp_pop_bracket.stack().reset_index()\n",
    "male_non_hisp_pop_bracket"
   ]
  },
  {
   "cell_type": "code",
   "execution_count": null,
   "id": "6674a220",
   "metadata": {},
   "outputs": [],
   "source": [
    "male_non_hisp_pop_bracket = male_non_hisp_pop_bracket.rename(columns={\"level_3\": \"year\", 0: \"population\"})\n",
    "male_non_hisp_pop_bracket"
   ]
  },
  {
   "cell_type": "code",
   "execution_count": null,
   "id": "d6354964",
   "metadata": {},
   "outputs": [],
   "source": [
    "male_non_hisp_pop_bracket[\"population\"] = male_non_hisp_pop_bracket[\"population\"].astype(int)\n",
    "male_non_hisp_pop_bracket"
   ]
  },
  {
   "cell_type": "code",
   "execution_count": null,
   "id": "e542286b",
   "metadata": {},
   "outputs": [],
   "source": [
    "column_summary(male_non_hisp_pop_bracket)"
   ]
  },
  {
   "cell_type": "code",
   "execution_count": null,
   "id": "40aa0fea",
   "metadata": {},
   "outputs": [],
   "source": [
    "male_hisp_pop_bracket = male_pop_bracket.iloc[male_hisp_start + 2:].reset_index(drop=True)\n",
    "male_hisp_pop_bracket"
   ]
  },
  {
   "cell_type": "code",
   "execution_count": null,
   "id": "87f3282e",
   "metadata": {},
   "outputs": [],
   "source": [
    "male_hisp_pop_bracket[\"origin\"] = \"hispanic\"\n",
    "male_hisp_pop_bracket"
   ]
  },
  {
   "cell_type": "code",
   "execution_count": null,
   "id": "803b472f",
   "metadata": {},
   "outputs": [],
   "source": [
    "male_hisp_pop_bracket[\"sex\"] = \"male\"\n",
    "male_hisp_pop_bracket"
   ]
  },
  {
   "cell_type": "code",
   "execution_count": null,
   "id": "a2c83d1a",
   "metadata": {},
   "outputs": [],
   "source": [
    "male_hisp_pop_bracket = male_hisp_pop_bracket.set_index(keys=[\"ethnicity\", \"origin\", \"sex\"])\n",
    "male_hisp_pop_bracket"
   ]
  },
  {
   "cell_type": "code",
   "execution_count": null,
   "id": "9faacbee",
   "metadata": {},
   "outputs": [],
   "source": [
    "male_hisp_pop_bracket = male_hisp_pop_bracket.stack().reset_index()\n",
    "male_hisp_pop_bracket"
   ]
  },
  {
   "cell_type": "code",
   "execution_count": null,
   "id": "43c3e5c5",
   "metadata": {},
   "outputs": [],
   "source": [
    "male_hisp_pop_bracket = male_hisp_pop_bracket.rename(columns={\"level_3\": \"year\", 0: \"population\"})\n",
    "male_hisp_pop_bracket"
   ]
  },
  {
   "cell_type": "code",
   "execution_count": null,
   "id": "e0b4b502",
   "metadata": {},
   "outputs": [],
   "source": [
    "male_hisp_pop_bracket[\"population\"] = male_hisp_pop_bracket[\"population\"].astype(int)\n",
    "male_hisp_pop_bracket"
   ]
  },
  {
   "cell_type": "code",
   "execution_count": null,
   "id": "0a976df3",
   "metadata": {},
   "outputs": [],
   "source": [
    "column_summary(male_hisp_pop_bracket)"
   ]
  },
  {
   "cell_type": "code",
   "execution_count": null,
   "id": "51a87014",
   "metadata": {},
   "outputs": [],
   "source": [
    "female_pop_bracket = temp.iloc[female_start:female_end + 1].reset_index(drop=True)\n",
    "female_pop_bracket"
   ]
  },
  {
   "cell_type": "code",
   "execution_count": null,
   "id": "175bb86b",
   "metadata": {},
   "outputs": [],
   "source": [
    "female_non_hisp_start = female_pop_bracket.index[female_pop_bracket[\"ethnicity\"] == \"not hispanic\"].to_list()[-1]\n",
    "female_non_hisp_start"
   ]
  },
  {
   "cell_type": "code",
   "execution_count": null,
   "id": "ce87e827",
   "metadata": {},
   "outputs": [],
   "source": [
    "female_hisp_start = female_pop_bracket.index[female_pop_bracket[\"ethnicity\"] == \"hispanic\"].to_list()[-1]\n",
    "female_hisp_start"
   ]
  },
  {
   "cell_type": "code",
   "execution_count": null,
   "id": "a0679e30",
   "metadata": {},
   "outputs": [],
   "source": [
    "female_non_hisp_pop_bracket = female_pop_bracket.iloc[female_non_hisp_start + 2:female_hisp_start].reset_index(drop=True)\n",
    "female_non_hisp_pop_bracket"
   ]
  },
  {
   "cell_type": "code",
   "execution_count": null,
   "id": "5c2ca0e8",
   "metadata": {},
   "outputs": [],
   "source": [
    "female_non_hisp_pop_bracket[\"origin\"] = \"non-hispanic\"\n",
    "female_non_hisp_pop_bracket"
   ]
  },
  {
   "cell_type": "code",
   "execution_count": null,
   "id": "95f365b6",
   "metadata": {},
   "outputs": [],
   "source": [
    "female_non_hisp_pop_bracket[\"sex\"] = \"female\"\n",
    "female_non_hisp_pop_bracket"
   ]
  },
  {
   "cell_type": "code",
   "execution_count": null,
   "id": "e4d50ce1",
   "metadata": {},
   "outputs": [],
   "source": [
    "female_non_hisp_pop_bracket = female_non_hisp_pop_bracket.set_index(keys=[\"ethnicity\", \"origin\", \"sex\"])\n",
    "female_non_hisp_pop_bracket"
   ]
  },
  {
   "cell_type": "code",
   "execution_count": null,
   "id": "7fe9e4f2",
   "metadata": {},
   "outputs": [],
   "source": [
    "female_non_hisp_pop_bracket = female_non_hisp_pop_bracket.stack().reset_index()\n",
    "female_non_hisp_pop_bracket"
   ]
  },
  {
   "cell_type": "code",
   "execution_count": null,
   "id": "d56e925e",
   "metadata": {},
   "outputs": [],
   "source": [
    "female_non_hisp_pop_bracket = female_non_hisp_pop_bracket.rename(columns={\"level_3\": \"year\", 0: \"population\"})\n",
    "female_non_hisp_pop_bracket"
   ]
  },
  {
   "cell_type": "code",
   "execution_count": null,
   "id": "8e005771",
   "metadata": {},
   "outputs": [],
   "source": [
    "female_non_hisp_pop_bracket[\"population\"] = female_non_hisp_pop_bracket[\"population\"].astype(int)\n",
    "female_non_hisp_pop_bracket"
   ]
  },
  {
   "cell_type": "code",
   "execution_count": null,
   "id": "a0ba5424",
   "metadata": {},
   "outputs": [],
   "source": [
    "female_hisp_pop_bracket = female_pop_bracket.iloc[female_hisp_start + 2:].reset_index(drop=True)\n",
    "female_hisp_pop_bracket"
   ]
  },
  {
   "cell_type": "code",
   "execution_count": null,
   "id": "e25b6599",
   "metadata": {},
   "outputs": [],
   "source": [
    "female_hisp_pop_bracket[\"origin\"] = \"hispanic\"\n",
    "female_hisp_pop_bracket"
   ]
  },
  {
   "cell_type": "code",
   "execution_count": null,
   "id": "9c4a0c10",
   "metadata": {},
   "outputs": [],
   "source": [
    "female_hisp_pop_bracket[\"sex\"] = \"female\"\n",
    "female_hisp_pop_bracket"
   ]
  },
  {
   "cell_type": "code",
   "execution_count": null,
   "id": "23d2e2d0",
   "metadata": {},
   "outputs": [],
   "source": [
    "female_hisp_pop_bracket = female_hisp_pop_bracket.set_index(keys=[\"ethnicity\", \"origin\", \"sex\"])\n",
    "female_hisp_pop_bracket"
   ]
  },
  {
   "cell_type": "code",
   "execution_count": null,
   "id": "a05d7bf5",
   "metadata": {},
   "outputs": [],
   "source": [
    "female_hisp_pop_bracket = female_hisp_pop_bracket.stack().reset_index()\n",
    "female_hisp_pop_bracket"
   ]
  },
  {
   "cell_type": "code",
   "execution_count": null,
   "id": "3af54a4a",
   "metadata": {},
   "outputs": [],
   "source": [
    "female_hisp_pop_bracket = female_hisp_pop_bracket.rename(columns={\"level_3\": \"year\", 0: \"population\"})\n",
    "female_hisp_pop_bracket"
   ]
  },
  {
   "cell_type": "code",
   "execution_count": null,
   "id": "edf20858",
   "metadata": {},
   "outputs": [],
   "source": [
    "female_hisp_pop_bracket[\"population\"] = female_hisp_pop_bracket[\"population\"].astype(int)\n",
    "female_hisp_pop_bracket"
   ]
  },
  {
   "cell_type": "code",
   "execution_count": null,
   "id": "22b4b478",
   "metadata": {},
   "outputs": [],
   "source": [
    "final = pd.concat([male_non_hisp_pop_bracket, male_hisp_pop_bracket, female_non_hisp_pop_bracket, female_hisp_pop_bracket], axis=0, ignore_index=True)\n",
    "final"
   ]
  },
  {
   "cell_type": "code",
   "execution_count": null,
   "id": "3ce292a5",
   "metadata": {},
   "outputs": [],
   "source": [
    "final = model_population_by_sex_race_ho_table(test_df_00_10, \"Alabama\", cols_to_remove, year_range=\"2000-2009\")\n",
    "final"
   ]
  },
  {
   "cell_type": "code",
   "execution_count": null,
   "id": "9998433c",
   "metadata": {},
   "outputs": [],
   "source": [
    "column_summary(final)"
   ]
  },
  {
   "cell_type": "code",
   "execution_count": null,
   "id": "32d786b4",
   "metadata": {},
   "outputs": [],
   "source": []
  }
 ],
 "metadata": {
  "kernelspec": {
   "display_name": "tech-interview",
   "language": "python",
   "name": "python3"
  },
  "language_info": {
   "codemirror_mode": {
    "name": "ipython",
    "version": 3
   },
   "file_extension": ".py",
   "mimetype": "text/x-python",
   "name": "python",
   "nbconvert_exporter": "python",
   "pygments_lexer": "ipython3",
   "version": "3.12.3"
  }
 },
 "nbformat": 4,
 "nbformat_minor": 5
}
