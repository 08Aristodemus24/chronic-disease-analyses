{
 "cells": [
  {
   "cell_type": "code",
   "execution_count": 98,
   "metadata": {},
   "outputs": [
    {
     "name": "stdout",
     "output_type": "stream",
     "text": [
      "The autoreload extension is already loaded. To reload it, use:\n",
      "  %reload_ext autoreload\n"
     ]
    }
   ],
   "source": [
    "from selenium import webdriver\n",
    "\n",
    "from selenium.webdriver.chrome.service import Service as ChromeService\n",
    "from selenium.webdriver.chrome.options import Options as ChromeOptions\n",
    "from webdriver_manager.chrome import ChromeDriverManager\n",
    "\n",
    "from selenium.webdriver.common.by import By\n",
    "from selenium.webdriver.support.wait import WebDriverWait\n",
    "from selenium.common.exceptions import NoSuchElementException, StaleElementReferenceException\n",
    "from selenium.webdriver.support import expected_conditions as EC\n",
    "\n",
    "import pandas as pd\n",
    "import time\n",
    "import os\n",
    "import shutil\n",
    "\n",
    "from concurrent.futures import ThreadPoolExecutor\n",
    "from argparse import ArgumentParser\n",
    "from utilities.loaders import download_dataset\n",
    "\n",
    "import re\n",
    "\n",
    "%load_ext autoreload\n",
    "%autoreload 2"
   ]
  },
  {
   "cell_type": "code",
   "execution_count": 2,
   "metadata": {},
   "outputs": [],
   "source": [
    "# initialize driver\n",
    "chrome_options = ChromeOptions()\n",
    "\n",
    "# service = ChromeService(executable_path=\"C:/Executables/chromedriver-win64/chromedriver.exe\")\n",
    "# chrome_options.add_experimental_option('detach', True)\n",
    "service = ChromeService(executable_path=ChromeDriverManager().install())\n",
    "driver = webdriver.Chrome(service=service, options=chrome_options)"
   ]
  },
  {
   "cell_type": "code",
   "execution_count": 3,
   "metadata": {},
   "outputs": [],
   "source": [
    "populations_01_10_url = \"https://www.census.gov/data/tables/time-series/demo/popest/intercensal-2000-2010-state.html\"\n",
    "populations_10_19_url = \"https://www.census.gov/data/tables/time-series/demo/popest/2010s-state-detail.html\"\n",
    "populations_20_23_url = \"https://www.census.gov/data/tables/time-series/demo/popest/2020s-state-detail.html\""
   ]
  },
  {
   "cell_type": "code",
   "execution_count": 4,
   "metadata": {},
   "outputs": [],
   "source": [
    "keyword_01_10_url = \"Intercensal Estimates of the Resident Population by Sex and Age for States: April 1, 2000 to July 1, 2010\"\n",
    "keyword_10_19_url = \"Annual Estimates of the Resident Population by Single Year of Age and Sex: April 1, 2010 to July 1, 2019\"\n",
    "keyword_20_23_url = \"Annual Estimates of the Resident Population by Single Year of Age and Sex: April 1, 2020 to July 1, 2023 (SC-EST2023-SYASEX)\""
   ]
  },
  {
   "cell_type": "code",
   "execution_count": 5,
   "metadata": {},
   "outputs": [],
   "source": [
    "# go to page\n",
    "driver.get(populations_01_10_url)\n",
    "\n",
    "# sleep\n",
    "time.sleep(5)"
   ]
  },
  {
   "cell_type": "markdown",
   "metadata": {},
   "source": [
    "#### select only the sections ith certain keywords"
   ]
  },
  {
   "cell_type": "code",
   "execution_count": 6,
   "metadata": {},
   "outputs": [],
   "source": [
    "section_index = -1"
   ]
  },
  {
   "cell_type": "code",
   "execution_count": 7,
   "metadata": {},
   "outputs": [],
   "source": [
    "sections = driver.find_elements(By.CSS_SELECTOR, value=\"#data-uscb-state-list-selector\")"
   ]
  },
  {
   "cell_type": "code",
   "execution_count": 8,
   "metadata": {},
   "outputs": [],
   "source": [
    "for i, section in enumerate(sections):\n",
    "    for header in section.find_elements(by=By.CSS_SELECTOR, value=\"p\"):\n",
    "        if keyword_01_10_url in header.text:\n",
    "            section_index = i"
   ]
  },
  {
   "cell_type": "code",
   "execution_count": 9,
   "metadata": {},
   "outputs": [
    {
     "data": {
      "text/plain": [
       "'Sex and Age\\nIntercensal Estimates of the Resident Population by Sex and Age for States: April 1, 2000 to July 1, 2010\\nAlabama\\nAlaska\\nArizona\\nArkansas\\nCalifornia\\nColorado\\nConnecticut\\nDelaware\\nDistrict of Columbia\\nFlorida\\nGeorgia\\nHawaii\\nIdaho\\nIllinois\\nIndiana\\nIowa\\nKansas\\nKentucky\\nLouisiana\\nMaine\\nMaryland\\nMassachusetts\\nMichigan\\nMinnesota\\nMississippi\\nMissouri\\nMontana\\nNebraska\\nNevada\\nNew Hampshire\\nNew Jersey\\nNew Mexico\\nNew York\\nNorth Carolina\\nNorth Dakota\\nOhio\\nOklahoma\\nOregon\\nPennsylvania\\nRhode Island\\nSouth Carolina\\nSouth Dakota\\nTennessee\\nTexas\\nUtah\\nVermont\\nVirginia\\nWashington\\nWest Virginia\\nWisconsin\\nWyoming'"
      ]
     },
     "execution_count": 9,
     "metadata": {},
     "output_type": "execute_result"
    }
   ],
   "source": [
    "chosen_section = sections[section_index]\n",
    "chosen_section.text"
   ]
  },
  {
   "cell_type": "code",
   "execution_count": 10,
   "metadata": {},
   "outputs": [],
   "source": [
    "states = chosen_section.find_elements(by=By.CSS_SELECTOR, value=\"ul.uscb-margin-5 li.uscb-list-attachment a\")"
   ]
  },
  {
   "cell_type": "code",
   "execution_count": 39,
   "metadata": {},
   "outputs": [
    {
     "data": {
      "text/plain": [
       "<selenium.webdriver.remote.webelement.WebElement (session=\"d00ed53b094183665d4244c62e4af6af\", element=\"f.A280F4EC4F6F4982858C7CE22991810E.d.EC483D2BB742D2C8AC801C52DC657D67.e.77\")>"
      ]
     },
     "execution_count": 39,
     "metadata": {},
     "output_type": "execute_result"
    }
   ],
   "source": [
    "states[0]"
   ]
  },
  {
   "cell_type": "code",
   "execution_count": 11,
   "metadata": {},
   "outputs": [
    {
     "data": {
      "text/plain": [
       "51"
      ]
     },
     "execution_count": 11,
     "metadata": {},
     "output_type": "execute_result"
    }
   ],
   "source": [
    "len(states)"
   ]
  },
  {
   "cell_type": "code",
   "execution_count": 103,
   "metadata": {},
   "outputs": [],
   "source": [
    "def download_files(elements: list, downloads_path=\"C:/Users/LARRY/Downloads\", output_dir=\"./data/population-data\"):\n",
    "    \n",
    "    # def helper(element):\n",
    "    #     # extract href from anchor tag\n",
    "    #     link = element.get_attribute(\"href\")\n",
    "    #     state = element.text\n",
    "\n",
    "    #     # derivve necessary information from url path to create file names\n",
    "    #     file_name = link.split('/')[-1]\n",
    "    #     file_dir = \"/\".join(link.split('/')[:-1])\n",
    "    #     years = re.search(r\"\\d+-\\d+\", file_dir)[0]\n",
    "    #     extension = re.search(r\".[A-Za-z]+$\", file_name)[0]\n",
    "    #     new_file_name = f\"{state}_{years}{extension}\"\n",
    "    #     # record = {\n",
    "    #     #     \"file_name\": file_name,\n",
    "    #     #     \"file_dir\": file_dir,\n",
    "    #     #     \"new_file_name\": new_file_name,\n",
    "    #     #     \"state\": state\n",
    "    #     # }\n",
    "\n",
    "    #     # download file by clicking element\n",
    "    #     element.click()\n",
    "    #     time.sleep(3)\n",
    "\n",
    "    #     # print(records)\n",
    "    #     return file_name, file_dir, new_file_name, state\n",
    "    \n",
    "    # with ThreadPoolExecutor(max_workers=5) as exe:\n",
    "    #     file_names, file_dirs, new_file_names, states = zip(*list(exe.map(helper, elements)))\n",
    "\n",
    "    for element in elements:\n",
    "        link = element.get_attribute(\"href\")\n",
    "        state = element.text\n",
    "\n",
    "        # derivve necessary information from url path to create file names\n",
    "        file_name = link.split('/')[-1]\n",
    "        file_dir = \"/\".join(link.split('/')[:-1])\n",
    "        years = re.search(r\"\\d+-\\d+\", file_dir)[0]\n",
    "        extension = re.search(r\".[A-Za-z]+$\", file_name)[0]\n",
    "\n",
    "        # download file by clicking element\n",
    "        element.click()\n",
    "        time.sleep(3)\n",
    "\n",
    "        # get the recently downloaded file and rename it\n",
    "        file_path = max([os.path.join(downloads_path, f) for f in os.listdir(downloads_path)], key=os.path.getctime)\n",
    "        new_file_name = f\"{state}_{years}{extension}\"\n",
    "        new_file_path = os.path.join(downloads_path, new_file_name)\n",
    "        os.rename(file_path, new_file_path)\n",
    "\n",
    "        # move downloaded file to current working directory of the script\n",
    "        relocated_path = os.path.join(output_dir, new_file_name)\n",
    "        shutil.move(new_file_path, relocated_path)"
   ]
  },
  {
   "cell_type": "code",
   "execution_count": 104,
   "metadata": {},
   "outputs": [],
   "source": [
    "downloaded_files = download_files(states)"
   ]
  },
  {
   "cell_type": "code",
   "execution_count": 105,
   "metadata": {},
   "outputs": [],
   "source": [
    "# go to page\n",
    "driver.get(populations_10_19_url)\n",
    "\n",
    "# sleep\n",
    "time.sleep(5)"
   ]
  },
  {
   "cell_type": "code",
   "execution_count": 106,
   "metadata": {},
   "outputs": [
    {
     "data": {
      "text/plain": [
       "10"
      ]
     },
     "execution_count": 106,
     "metadata": {},
     "output_type": "execute_result"
    }
   ],
   "source": [
    "sections = driver.find_elements(By.CSS_SELECTOR, value=\"div.responsivegrid.aem-GridColumn--tablet--12\")\n",
    "len(sections)"
   ]
  },
  {
   "cell_type": "code",
   "execution_count": 108,
   "metadata": {},
   "outputs": [],
   "source": [
    "for i, section in enumerate(sections):\n",
    "    if keyword_10_19_url in section.text:\n",
    "        section_index = i"
   ]
  },
  {
   "cell_type": "code",
   "execution_count": 110,
   "metadata": {},
   "outputs": [
    {
     "data": {
      "text/plain": [
       "'Annual Estimates of the Resident Population by Single Year of Age and Sex: April 1, 2010 to July 1, 2019'"
      ]
     },
     "execution_count": 110,
     "metadata": {},
     "output_type": "execute_result"
    }
   ],
   "source": [
    "sections[section_index].text"
   ]
  },
  {
   "cell_type": "code",
   "execution_count": 111,
   "metadata": {},
   "outputs": [
    {
     "ename": "InvalidSessionIdException",
     "evalue": "Message: invalid session id: session deleted as the browser has closed the connection\nfrom disconnected: not connected to DevTools\n  (Session info: chrome=134.0.6998.178)\nStacktrace:\n\tGetHandleVerifier [0x0114C7F3+24435]\n\t(No symbol) [0x010D2074]\n\t(No symbol) [0x00FA06E3]\n\t(No symbol) [0x00F8FEC0]\n\t(No symbol) [0x00FADFDF]\n\t(No symbol) [0x010146AF]\n\t(No symbol) [0x0102EB19]\n\t(No symbol) [0x0100D5B6]\n\t(No symbol) [0x00FDC54F]\n\t(No symbol) [0x00FDD894]\n\tGetHandleVerifier [0x014570A3+3213347]\n\tGetHandleVerifier [0x0146B0C9+3295305]\n\tGetHandleVerifier [0x0146558C+3271948]\n\tGetHandleVerifier [0x011E7360+658144]\n\t(No symbol) [0x010DB27D]\n\t(No symbol) [0x010D8208]\n\t(No symbol) [0x010D83A9]\n\t(No symbol) [0x010CAAC0]\n\tBaseThreadInitThunk [0x76A35D49+25]\n\tRtlInitializeExceptionChain [0x7753CE3B+107]\n\tRtlGetAppContainerNamedObjectPath [0x7753CDC1+561]\n",
     "output_type": "error",
     "traceback": [
      "\u001b[31m---------------------------------------------------------------------------\u001b[39m",
      "\u001b[31mInvalidSessionIdException\u001b[39m                 Traceback (most recent call last)",
      "\u001b[36mCell\u001b[39m\u001b[36m \u001b[39m\u001b[32mIn[111]\u001b[39m\u001b[32m, line 2\u001b[39m\n\u001b[32m      1\u001b[39m \u001b[38;5;66;03m# JavaScript to generate absolute XPath\u001b[39;00m\n\u001b[32m----> \u001b[39m\u001b[32m2\u001b[39m xpath = \u001b[43mdriver\u001b[49m\u001b[43m.\u001b[49m\u001b[43mexecute_script\u001b[49m\u001b[43m(\u001b[49m\u001b[33;43m\"\"\"\u001b[39;49m\n\u001b[32m      3\u001b[39m \u001b[33;43m    function getXPath(element) \u001b[39;49m\u001b[33;43m{\u001b[39;49m\n\u001b[32m      4\u001b[39m \u001b[33;43m        if (element.id !== \u001b[39;49m\u001b[33;43m'\u001b[39;49m\u001b[33;43m'\u001b[39;49m\u001b[33;43m)\u001b[39;49m\n\u001b[32m      5\u001b[39m \u001b[33;43m            return \u001b[39;49m\u001b[33;43m'\u001b[39;49m\u001b[33;43m//*[@id=\u001b[39;49m\u001b[33;43m\"\u001b[39;49m\u001b[33;43m'\u001b[39;49m\u001b[33;43m + element.id + \u001b[39;49m\u001b[33;43m'\u001b[39;49m\u001b[33;43m\"\u001b[39;49m\u001b[33;43m]\u001b[39;49m\u001b[33;43m'\u001b[39;49m\u001b[33;43m;\u001b[39;49m\n\u001b[32m      6\u001b[39m \u001b[33;43m        if (element === document.body)\u001b[39;49m\n\u001b[32m      7\u001b[39m \u001b[33;43m            return \u001b[39;49m\u001b[33;43m'\u001b[39;49m\u001b[33;43m/html/body\u001b[39;49m\u001b[33;43m'\u001b[39;49m\u001b[33;43m;\u001b[39;49m\n\u001b[32m      8\u001b[39m \u001b[33;43m        let ix = 0;\u001b[39;49m\n\u001b[32m      9\u001b[39m \u001b[33;43m        const siblings = element.parentNode.childNodes;\u001b[39;49m\n\u001b[32m     10\u001b[39m \u001b[33;43m        for (let i = 0; i < siblings.length; i++) \u001b[39;49m\u001b[33;43m{\u001b[39;49m\n\u001b[32m     11\u001b[39m \u001b[33;43m            const sibling = siblings[i];\u001b[39;49m\n\u001b[32m     12\u001b[39m \u001b[33;43m            if (sibling === element)\u001b[39;49m\n\u001b[32m     13\u001b[39m \u001b[33;43m                return getXPath(element.parentNode) + \u001b[39;49m\u001b[33;43m'\u001b[39;49m\u001b[33;43m/\u001b[39;49m\u001b[33;43m'\u001b[39;49m\u001b[33;43m + element.tagName.toLowerCase() + \u001b[39;49m\u001b[33;43m'\u001b[39;49m\u001b[33;43m[\u001b[39;49m\u001b[33;43m'\u001b[39;49m\u001b[33;43m + (ix + 1) + \u001b[39;49m\u001b[33;43m'\u001b[39;49m\u001b[33;43m]\u001b[39;49m\u001b[33;43m'\u001b[39;49m\u001b[33;43m;\u001b[39;49m\n\u001b[32m     14\u001b[39m \u001b[33;43m            if (sibling.nodeType === 1 && sibling.tagName === element.tagName)\u001b[39;49m\n\u001b[32m     15\u001b[39m \u001b[33;43m                ix++;\u001b[39;49m\n\u001b[32m     16\u001b[39m \u001b[33;43m        }\u001b[39;49m\n\u001b[32m     17\u001b[39m \u001b[33;43m    }\u001b[39;49m\n\u001b[32m     18\u001b[39m \u001b[33;43m    return getXPath(arguments[0]);\u001b[39;49m\n\u001b[32m     19\u001b[39m \u001b[33;43m\"\"\"\u001b[39;49m\u001b[43m,\u001b[49m\u001b[43m \u001b[49m\u001b[43msections\u001b[49m\u001b[43m[\u001b[49m\u001b[43msection_index\u001b[49m\u001b[43m]\u001b[49m\u001b[43m)\u001b[49m\n\u001b[32m     20\u001b[39m xpath\n",
      "\u001b[36mFile \u001b[39m\u001b[32mc:\\Users\\LARRY\\anaconda3\\envs\\tech-interview\\Lib\\site-packages\\selenium\\webdriver\\remote\\webdriver.py:528\u001b[39m, in \u001b[36mWebDriver.execute_script\u001b[39m\u001b[34m(self, script, *args)\u001b[39m\n\u001b[32m    525\u001b[39m converted_args = \u001b[38;5;28mlist\u001b[39m(args)\n\u001b[32m    526\u001b[39m command = Command.W3C_EXECUTE_SCRIPT\n\u001b[32m--> \u001b[39m\u001b[32m528\u001b[39m \u001b[38;5;28;01mreturn\u001b[39;00m \u001b[38;5;28;43mself\u001b[39;49m\u001b[43m.\u001b[49m\u001b[43mexecute\u001b[49m\u001b[43m(\u001b[49m\u001b[43mcommand\u001b[49m\u001b[43m,\u001b[49m\u001b[43m \u001b[49m\u001b[43m{\u001b[49m\u001b[33;43m\"\u001b[39;49m\u001b[33;43mscript\u001b[39;49m\u001b[33;43m\"\u001b[39;49m\u001b[43m:\u001b[49m\u001b[43m \u001b[49m\u001b[43mscript\u001b[49m\u001b[43m,\u001b[49m\u001b[43m \u001b[49m\u001b[33;43m\"\u001b[39;49m\u001b[33;43margs\u001b[39;49m\u001b[33;43m\"\u001b[39;49m\u001b[43m:\u001b[49m\u001b[43m \u001b[49m\u001b[43mconverted_args\u001b[49m\u001b[43m}\u001b[49m\u001b[43m)\u001b[49m[\u001b[33m\"\u001b[39m\u001b[33mvalue\u001b[39m\u001b[33m\"\u001b[39m]\n",
      "\u001b[36mFile \u001b[39m\u001b[32mc:\\Users\\LARRY\\anaconda3\\envs\\tech-interview\\Lib\\site-packages\\selenium\\webdriver\\remote\\webdriver.py:429\u001b[39m, in \u001b[36mWebDriver.execute\u001b[39m\u001b[34m(self, driver_command, params)\u001b[39m\n\u001b[32m    427\u001b[39m response = \u001b[38;5;28mself\u001b[39m.command_executor.execute(driver_command, params)\n\u001b[32m    428\u001b[39m \u001b[38;5;28;01mif\u001b[39;00m response:\n\u001b[32m--> \u001b[39m\u001b[32m429\u001b[39m     \u001b[38;5;28;43mself\u001b[39;49m\u001b[43m.\u001b[49m\u001b[43merror_handler\u001b[49m\u001b[43m.\u001b[49m\u001b[43mcheck_response\u001b[49m\u001b[43m(\u001b[49m\u001b[43mresponse\u001b[49m\u001b[43m)\u001b[49m\n\u001b[32m    430\u001b[39m     response[\u001b[33m\"\u001b[39m\u001b[33mvalue\u001b[39m\u001b[33m\"\u001b[39m] = \u001b[38;5;28mself\u001b[39m._unwrap_value(response.get(\u001b[33m\"\u001b[39m\u001b[33mvalue\u001b[39m\u001b[33m\"\u001b[39m, \u001b[38;5;28;01mNone\u001b[39;00m))\n\u001b[32m    431\u001b[39m     \u001b[38;5;28;01mreturn\u001b[39;00m response\n",
      "\u001b[36mFile \u001b[39m\u001b[32mc:\\Users\\LARRY\\anaconda3\\envs\\tech-interview\\Lib\\site-packages\\selenium\\webdriver\\remote\\errorhandler.py:232\u001b[39m, in \u001b[36mErrorHandler.check_response\u001b[39m\u001b[34m(self, response)\u001b[39m\n\u001b[32m    230\u001b[39m         alert_text = value[\u001b[33m\"\u001b[39m\u001b[33malert\u001b[39m\u001b[33m\"\u001b[39m].get(\u001b[33m\"\u001b[39m\u001b[33mtext\u001b[39m\u001b[33m\"\u001b[39m)\n\u001b[32m    231\u001b[39m     \u001b[38;5;28;01mraise\u001b[39;00m exception_class(message, screen, stacktrace, alert_text)  \u001b[38;5;66;03m# type: ignore[call-arg]  # mypy is not smart enough here\u001b[39;00m\n\u001b[32m--> \u001b[39m\u001b[32m232\u001b[39m \u001b[38;5;28;01mraise\u001b[39;00m exception_class(message, screen, stacktrace)\n",
      "\u001b[31mInvalidSessionIdException\u001b[39m: Message: invalid session id: session deleted as the browser has closed the connection\nfrom disconnected: not connected to DevTools\n  (Session info: chrome=134.0.6998.178)\nStacktrace:\n\tGetHandleVerifier [0x0114C7F3+24435]\n\t(No symbol) [0x010D2074]\n\t(No symbol) [0x00FA06E3]\n\t(No symbol) [0x00F8FEC0]\n\t(No symbol) [0x00FADFDF]\n\t(No symbol) [0x010146AF]\n\t(No symbol) [0x0102EB19]\n\t(No symbol) [0x0100D5B6]\n\t(No symbol) [0x00FDC54F]\n\t(No symbol) [0x00FDD894]\n\tGetHandleVerifier [0x014570A3+3213347]\n\tGetHandleVerifier [0x0146B0C9+3295305]\n\tGetHandleVerifier [0x0146558C+3271948]\n\tGetHandleVerifier [0x011E7360+658144]\n\t(No symbol) [0x010DB27D]\n\t(No symbol) [0x010D8208]\n\t(No symbol) [0x010D83A9]\n\t(No symbol) [0x010CAAC0]\n\tBaseThreadInitThunk [0x76A35D49+25]\n\tRtlInitializeExceptionChain [0x7753CE3B+107]\n\tRtlGetAppContainerNamedObjectPath [0x7753CDC1+561]\n"
     ]
    }
   ],
   "source": [
    "# JavaScript to generate absolute XPath\n",
    "xpath = driver.execute_script(\"\"\"\n",
    "    function getXPath(element) {\n",
    "        if (element.id !== '')\n",
    "            return '//*[@id=\"' + element.id + '\"]';\n",
    "        if (element === document.body)\n",
    "            return '/html/body';\n",
    "        let ix = 0;\n",
    "        const siblings = element.parentNode.childNodes;\n",
    "        for (let i = 0; i < siblings.length; i++) {\n",
    "            const sibling = siblings[i];\n",
    "            if (sibling === element)\n",
    "                return getXPath(element.parentNode) + '/' + element.tagName.toLowerCase() + '[' + (ix + 1) + ']';\n",
    "            if (sibling.nodeType === 1 && sibling.tagName === element.tagName)\n",
    "                ix++;\n",
    "        }\n",
    "    }\n",
    "    return getXPath(arguments[0]);\n",
    "\"\"\", sections[section_index])\n",
    "xpath"
   ]
  }
 ],
 "metadata": {
  "kernelspec": {
   "display_name": "tech-interview",
   "language": "python",
   "name": "python3"
  },
  "language_info": {
   "codemirror_mode": {
    "name": "ipython",
    "version": 3
   },
   "file_extension": ".py",
   "mimetype": "text/x-python",
   "name": "python",
   "nbconvert_exporter": "python",
   "pygments_lexer": "ipython3",
   "version": "3.12.3"
  }
 },
 "nbformat": 4,
 "nbformat_minor": 2
}
