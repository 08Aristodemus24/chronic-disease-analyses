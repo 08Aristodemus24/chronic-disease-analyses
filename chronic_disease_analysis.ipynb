{
 "cells": [
  {
   "cell_type": "markdown",
   "id": "bde2ade4",
   "metadata": {},
   "source": [
    "# Now that all necessary data have now been extracted, transformed, dumped to parquet files in a lake (AWS S3) and then loaded into a DWH (DuckDB/Motherduck) we can start doing our/ analyses and do further transformations and draw insights through querying"
   ]
  },
  {
   "cell_type": "code",
   "execution_count": 87,
   "id": "73652265",
   "metadata": {},
   "outputs": [
    {
     "name": "stdout",
     "output_type": "stream",
     "text": [
      "The autoreload extension is already loaded. To reload it, use:\n",
      "  %reload_ext autoreload\n"
     ]
    }
   ],
   "source": [
    "import duckdb\n",
    "import os\n",
    "\n",
    "from dotenv import load_dotenv\n",
    "from pathlib import Path\n",
    "from duckdb.typing import *\n",
    "\n",
    "%load_ext autoreload\n",
    "%autoreload 2"
   ]
  },
  {
   "cell_type": "markdown",
   "id": "3a020204",
   "metadata": {},
   "source": [
    "# Local connection"
   ]
  },
  {
   "cell_type": "code",
   "execution_count": 88,
   "id": "1de20656",
   "metadata": {},
   "outputs": [],
   "source": [
    "# # C:\\Users\\LARRY\\Documents\\Scripts\\data-engineering-path\\chronic-disease-analyses\\chronic_disease_analyses_db.db\n",
    "# conn = duckdb.connect(\"chronic_disease_analyses_db.db\")"
   ]
  },
  {
   "cell_type": "markdown",
   "id": "3e97d54c",
   "metadata": {},
   "source": [
    "# remote connection"
   ]
  },
  {
   "cell_type": "code",
   "execution_count": 89,
   "id": "3677d8be",
   "metadata": {},
   "outputs": [
    {
     "name": "stdout",
     "output_type": "stream",
     "text": [
      "loading env variables...\n",
      "env variables loaded.\n",
      "\n"
     ]
    }
   ],
   "source": [
    "# Build paths inside the project like this: BASE_DIR / 'subdir'.\n",
    "# use this only in development\n",
    "print(\"loading env variables...\")\n",
    "env_dir = Path('./').resolve()\n",
    "load_dotenv(os.path.join(env_dir, '.env'))\n",
    "print(\"env variables loaded.\\n\")"
   ]
  },
  {
   "cell_type": "code",
   "execution_count": 90,
   "id": "b617de34",
   "metadata": {},
   "outputs": [
    {
     "name": "stdout",
     "output_type": "stream",
     "text": [
      "connecting to duckdb...\n",
      "connected to duckdb.\n",
      "\n"
     ]
    }
   ],
   "source": [
    "# jdbc:duckdb:md:chronic_disease_analyses_db\n",
    "# duckdb:///md:chronic_disease_analyses_db\n",
    "print(\"connecting to duckdb...\")\n",
    "conn = duckdb.connect(f\"md:chronic_disease_analyses_db?motherduck_token={os.environ['MOTHERDUCK_TOKEN']}\")\n",
    "print(\"connected to duckdb.\\n\")"
   ]
  },
  {
   "cell_type": "code",
   "execution_count": 91,
   "id": "9cb4f604",
   "metadata": {},
   "outputs": [
    {
     "data": {
      "text/plain": [
       "['CDI',\n",
       " 'CDILocation',\n",
       " 'CDIStratification',\n",
       " 'DataValueType',\n",
       " 'Population',\n",
       " 'PopulationState',\n",
       " 'PopulationStratification',\n",
       " 'Question']"
      ]
     },
     "execution_count": 91,
     "metadata": {},
     "output_type": "execute_result"
    }
   ],
   "source": [
    "tables = [\n",
    "    table\n",
    "    for table_tuple in conn.sql(\"\"\"SHOW TABLES\"\"\").fetchall()\n",
    "    for table in table_tuple \n",
    "]\n",
    "tables"
   ]
  },
  {
   "cell_type": "code",
   "execution_count": 92,
   "id": "139809ba",
   "metadata": {},
   "outputs": [
    {
     "name": "stdout",
     "output_type": "stream",
     "text": [
      "678471\n",
      "51\n",
      "11\n",
      "15\n",
      "2526336\n",
      "51\n",
      "24\n",
      "192\n"
     ]
    }
   ],
   "source": [
    "for table in tables:\n",
    "    counts = conn.sql(f\"\"\"SELECT COUNT(*) FROM {table}\"\"\").fetchall()[0][0]\n",
    "    print(counts)"
   ]
  },
  {
   "cell_type": "code",
   "execution_count": 93,
   "id": "9bf51a09",
   "metadata": {},
   "outputs": [
    {
     "data": {
      "text/plain": [
       "┌────────────┬────────────────┬─────────────────────┬────────────────────┐\n",
       "│ LocationID │  LocationDesc  │      Latitude       │     Longitude      │\n",
       "│  varchar   │    varchar     │       double        │       double       │\n",
       "├────────────┼────────────────┼─────────────────────┼────────────────────┤\n",
       "│ NM         │ New Mexico     │ -106.24058098499967 │  34.52088095200048 │\n",
       "│ OK         │ Oklahoma       │  -97.52107021399968 │  35.47203135600046 │\n",
       "│ GA         │ Georgia        │  -83.62758034599966 │  32.83968109300048 │\n",
       "│ KY         │ Kentucky       │  -84.77497104799966 │ 37.645970271000465 │\n",
       "│ ND         │ North Dakota   │ -100.11842104899966 │  47.47531977900047 │\n",
       "│ WY         │ Wyoming        │ -108.10983035299967 │  43.23554134300048 │\n",
       "│ TN         │ Tennessee      │  -85.77449091399967 │  35.68094058000048 │\n",
       "│ LA         │ Louisiana      │  -92.44568007099969 │  31.31266064400046 │\n",
       "│ NE         │ Nebraska       │  -99.36572062299967 │   41.6410409880005 │\n",
       "│ AK         │ Alaska         │ -147.72205903599973 │  64.84507995700051 │\n",
       "│ ·          │   ·            │          ·          │          ·         │\n",
       "│ ·          │   ·            │          ·          │          ·         │\n",
       "│ ·          │   ·            │          ·          │          ·         │\n",
       "│ AZ         │ Arizona        │ -111.76381127699972 │ 34.865970280000454 │\n",
       "│ IN         │ Indiana        │  -86.14996019399968 │ 39.766910452000445 │\n",
       "│ MN         │ Minnesota      │  -94.79420050299967 │  46.35564873600049 │\n",
       "│ HI         │ Hawaii         │ -157.85774940299973 │ 21.304850435000446 │\n",
       "│ NH         │ New Hampshire  │  -71.50036091999965 │  43.65595011300047 │\n",
       "│ AR         │ Arkansas       │  -92.27449074299966 │  34.74865012400045 │\n",
       "│ NY         │ New York       │  -75.54397042699964 │  42.82700103200045 │\n",
       "│ SC         │ South Carolina │  -81.04537120699968 │ 33.998821303000454 │\n",
       "│ CT         │ Connecticut    │  -72.64984095199964 │  41.56266102000046 │\n",
       "│ CO         │ Colorado       │ -106.13361092099967 │ 38.843840757000464 │\n",
       "├────────────┴────────────────┴─────────────────────┴────────────────────┤\n",
       "│ 51 rows (20 shown)                                           4 columns │\n",
       "└────────────────────────────────────────────────────────────────────────┘"
      ]
     },
     "execution_count": 93,
     "metadata": {},
     "output_type": "execute_result"
    }
   ],
   "source": [
    "conn.sql(\"\"\"\n",
    "    SELECT * FROM CDILocation\n",
    "\"\"\")"
   ]
  },
  {
   "cell_type": "code",
   "execution_count": 94,
   "id": "af00e009",
   "metadata": {},
   "outputs": [
    {
     "data": {
      "text/plain": [
       "┌─────────┬─────────────┬──────────────┬──────────────────┐\n",
       "│   Sex   │  Ethnicity  │    Origin    │ StratificationID │\n",
       "│ varchar │   varchar   │   varchar    │     varchar      │\n",
       "├─────────┼─────────────┼──────────────┼──────────────────┤\n",
       "│ Male    │ All         │ Both         │ B_M_ALL          │\n",
       "│ Both    │ White       │ Not Hispanic │ NH_B_WHITE       │\n",
       "│ Both    │ Black       │ Not Hispanic │ NH_B_BLACK       │\n",
       "│ Both    │ AIAN        │ Not Hispanic │ NH_B_AIAN        │\n",
       "│ Both    │ Multiracial │ Not Hispanic │ NH_B_MULTI       │\n",
       "│ Both    │ NHPI        │ Not Hispanic │ NH_B_NHPI        │\n",
       "│ Both    │ Other       │ Not Hispanic │ NH_B_OTHER       │\n",
       "│ Female  │ All         │ Both         │ B_F_ALL          │\n",
       "│ Both    │ All         │ Hispanic     │ H_B_ALL          │\n",
       "│ Both    │ All         │ Both         │ B_B_ALL          │\n",
       "│ Both    │ Asian       │ Not Hispanic │ NH_B_ASIAN       │\n",
       "├─────────┴─────────────┴──────────────┴──────────────────┤\n",
       "│ 11 rows                                       4 columns │\n",
       "└─────────────────────────────────────────────────────────┘"
      ]
     },
     "execution_count": 94,
     "metadata": {},
     "output_type": "execute_result"
    }
   ],
   "source": [
    "conn.sql(\"\"\"\n",
    "    SELECT * FROM CDIStratification\n",
    "\"\"\")"
   ]
  },
  {
   "cell_type": "code",
   "execution_count": 95,
   "id": "491e2cf5",
   "metadata": {},
   "outputs": [
    {
     "data": {
      "text/plain": [
       "┌───────────────────┬──────────────────────────────────────────┐\n",
       "│  DataValueTypeID  │              DataValueType               │\n",
       "│      varchar      │                 varchar                  │\n",
       "├───────────────────┼──────────────────────────────────────────┤\n",
       "│ MEDIAN            │ Median                                   │\n",
       "│ NMBR              │ Number                                   │\n",
       "│ AGEADJRATE        │ Age-adjusted Rate                        │\n",
       "│ PERCAPALC         │ Per capita alcohol consumption           │\n",
       "│ USD               │ US Dollars                               │\n",
       "│ AGEADJMEAN        │ Age-adjusted Mean                        │\n",
       "│ PREV              │ Prevalence                               │\n",
       "│ MEAN              │ Mean                                     │\n",
       "│ AVGANNCRDRATE     │ Average Annual Crude Rate                │\n",
       "│ CRDRATE           │ Crude Rate                               │\n",
       "│ AGEADJPREV        │ Age-adjusted Prevalence                  │\n",
       "│ AVGANNAGEADJRATE  │ Average Annual Age-adjusted Rate         │\n",
       "│ PRCT              │ Percent                                  │\n",
       "│ CRDPREV           │ Crude Prevalence                         │\n",
       "│ AGESEXRACEADJRATE │ Adjusted by age, sex, race and ethnicity │\n",
       "├───────────────────┴──────────────────────────────────────────┤\n",
       "│ 15 rows                                            2 columns │\n",
       "└──────────────────────────────────────────────────────────────┘"
      ]
     },
     "execution_count": 95,
     "metadata": {},
     "output_type": "execute_result"
    }
   ],
   "source": [
    "conn.sql(\"\"\"\n",
    "    SELECT * FROM DataValueType\n",
    "\"\"\")"
   ]
  },
  {
   "cell_type": "code",
   "execution_count": 96,
   "id": "b8467077",
   "metadata": {},
   "outputs": [
    {
     "data": {
      "text/plain": [
       "┌────────────┬─────────┬──────────────────────────────────────────────────────────────────────────────────────────────────────────────┬─────────────────────────────────────────────────┬──────────┬────────┐\n",
       "│ QuestionID │ TopicID │                                                   Question                                                   │                      Topic                      │ AgeStart │ AgeEnd │\n",
       "│  varchar   │ varchar │                                                   varchar                                                    │                     varchar                     │  double  │ double │\n",
       "├────────────┼─────────┼──────────────────────────────────────────────────────────────────────────────────────────────────────────────┼─────────────────────────────────────────────────┼──────────┼────────┤\n",
       "│ ART1_1     │ ART     │ Arthritis among adults aged >= 18 years                                                                      │ Arthritis                                       │     18.0 │    inf │\n",
       "│ ALC4_0     │ ALC     │ Binge drinking intensity among adults aged >= 18 years who binge drink                                       │ Alcohol                                         │     18.0 │    inf │\n",
       "│ NPAW2_3    │ NPAW    │ Overweight or obesity among women aged 18-44 years                                                           │ Nutrition, Physical Activity, and Weight Status │     18.0 │   44.0 │\n",
       "│ DIA7_0     │ DIA     │ Dilated eye examination among adults aged >= 18 years with diagnosed diabetes                                │ Diabetes                                        │     18.0 │    inf │\n",
       "│ ORH1_2     │ ORH     │ Dental visits among children and adolescents aged 1-17 years                                                 │ Oral Health                                     │      1.0 │   17.0 │\n",
       "│ OLD3_1     │ OLD     │ Proportion of older adults aged >= 65 years who are up to date on a core set of clinical preventive services │ Older Adults                                    │     65.0 │    inf │\n",
       "│ NPAW4_1    │ NPAW    │ Median daily frequency of fruit consumption among high school students                                       │ Nutrition, Physical Activity, and Weight Status │     14.0 │   18.0 │\n",
       "│ OVC6_2     │ OVC     │ Self-rated health status among women aged 18-44 years                                                        │ Overarching Conditions                          │     18.0 │   44.0 │\n",
       "│ DIA11_3    │ DIA     │ Prevalence of depressive disorders among adults aged >= 18 years with diagnosed diabetes                     │ Diabetes                                        │     18.0 │    inf │\n",
       "│ OVC5_0     │ OVC     │ Premature mortality among adults aged 45-64 years                                                            │ Overarching Conditions                          │     45.0 │   64.0 │\n",
       "│   ·        │  ·      │                         ·                                                                                    │           ·                                     │       ·  │     ·  │\n",
       "│   ·        │  ·      │                         ·                                                                                    │           ·                                     │       ·  │     ·  │\n",
       "│   ·        │  ·      │                         ·                                                                                    │           ·                                     │       ·  │     ·  │\n",
       "│ NPAW16_0   │ NPAW    │ Receiving formula supplementation within the first 2 days of life among breastfed infants                    │ Nutrition, Physical Activity, and Weight Status │     NULL │   NULL │\n",
       "│ RPH3_0     │ RPH     │ Folic acid supplementation                                                                                   │ Reproductive Health                             │     NULL │   NULL │\n",
       "│ NPAW13_2   │ NPAW    │ Secondary schools that allow students to purchase soda or fruit drinks                                       │ Nutrition, Physical Activity, and Weight Status │     NULL │   NULL │\n",
       "│ CAN6_2     │ CAN     │ Cancer of the female cervix, mortality                                                                       │ Cancer                                          │     NULL │   NULL │\n",
       "│ NPAW7_1    │ NPAW    │ Farmers markets that accept Women and Infant Children (WIC) farmers market nutrition program coupons         │ Nutrition, Physical Activity, and Weight Status │     NULL │   NULL │\n",
       "│ DIA3_2     │ DIA     │ Prevalence of gestational diabetes                                                                           │ Diabetes                                        │     NULL │   NULL │\n",
       "│ CVD1_4     │ CVD     │ Mortality from heart failure                                                                                 │ Cardiovascular Disease                          │     NULL │   NULL │\n",
       "│ COPD6_1    │ COPD    │ Emergency department visit rate for chronic obstructive pulmonary disease as first-listed diagnosis          │ Chronic Obstructive Pulmonary Disease           │     NULL │   NULL │\n",
       "│ ORH2_2     │ ORH     │ Preventive dental care before pregnancy                                                                      │ Oral Health                                     │     NULL │   NULL │\n",
       "│ CVD8_0     │ CVD     │ Pre-pregnancy hypertension                                                                                   │ Cardiovascular Disease                          │     NULL │   NULL │\n",
       "├────────────┴─────────┴──────────────────────────────────────────────────────────────────────────────────────────────────────────────┴─────────────────────────────────────────────────┴──────────┴────────┤\n",
       "│ 192 rows (20 shown)                                                                                                                                                                             6 columns │\n",
       "└───────────────────────────────────────────────────────────────────────────────────────────────────────────────────────────────────────────────────────────────────────────────────────────────────────────┘"
      ]
     },
     "execution_count": 96,
     "metadata": {},
     "output_type": "execute_result"
    }
   ],
   "source": [
    "conn.sql(\"\"\"\n",
    "    SELECT * FROM Question\n",
    "\"\"\")"
   ]
  },
  {
   "cell_type": "code",
   "execution_count": 97,
   "id": "046b4db9",
   "metadata": {},
   "outputs": [
    {
     "data": {
      "text/plain": [
       "┌─────────┬───────┬──────────────────┬───────┬────────────┐\n",
       "│ StateID │  Age  │ StratificationID │ Year  │ Population │\n",
       "│ varchar │ float │     varchar      │ int32 │   int64    │\n",
       "├─────────┼───────┼──────────────────┼───────┼────────────┤\n",
       "│ AL      │   0.0 │ NH_M_WHITE       │  2000 │      19270 │\n",
       "│ AL      │   0.0 │ NH_M_WHITE       │  2001 │      19612 │\n",
       "│ AL      │   0.0 │ NH_M_WHITE       │  2002 │      18731 │\n",
       "│ AL      │   0.0 │ NH_M_WHITE       │  2003 │      18623 │\n",
       "│ AL      │   0.0 │ NH_M_WHITE       │  2004 │      18659 │\n",
       "│ AL      │   0.0 │ NH_M_WHITE       │  2005 │      18816 │\n",
       "│ AL      │   0.0 │ NH_M_WHITE       │  2006 │      18877 │\n",
       "│ AL      │   0.0 │ NH_M_WHITE       │  2007 │      19027 │\n",
       "│ AL      │   0.0 │ NH_M_WHITE       │  2008 │      18937 │\n",
       "│ AL      │   0.0 │ NH_M_WHITE       │  2009 │      18039 │\n",
       "│ ·       │    ·  │     ·            │    ·  │          · │\n",
       "│ ·       │    ·  │     ·            │    ·  │          · │\n",
       "│ ·       │    ·  │     ·            │    ·  │          · │\n",
       "│ AL      │  53.0 │ H_M_MULTI        │  2000 │          3 │\n",
       "│ AL      │  53.0 │ H_M_MULTI        │  2001 │          4 │\n",
       "│ AL      │  53.0 │ H_M_MULTI        │  2002 │          9 │\n",
       "│ AL      │  53.0 │ H_M_MULTI        │  2003 │          6 │\n",
       "│ AL      │  53.0 │ H_M_MULTI        │  2004 │          9 │\n",
       "│ AL      │  53.0 │ H_M_MULTI        │  2005 │          7 │\n",
       "│ AL      │  53.0 │ H_M_MULTI        │  2006 │          8 │\n",
       "│ AL      │  53.0 │ H_M_MULTI        │  2007 │          7 │\n",
       "│ AL      │  53.0 │ H_M_MULTI        │  2008 │          8 │\n",
       "│ AL      │  53.0 │ H_M_MULTI        │  2009 │         11 │\n",
       "├─────────┴───────┴──────────────────┴───────┴────────────┤\n",
       "│ ? rows (>9999 rows, 20 shown)                 5 columns │\n",
       "└─────────────────────────────────────────────────────────┘"
      ]
     },
     "execution_count": 97,
     "metadata": {},
     "output_type": "execute_result"
    }
   ],
   "source": [
    "conn.sql(\"\"\"\n",
    "    SELECT * FROM Population\n",
    "\"\"\")"
   ]
  },
  {
   "cell_type": "code",
   "execution_count": 98,
   "id": "fb70f66e",
   "metadata": {},
   "outputs": [
    {
     "data": {
      "text/plain": [
       "┌───────────────┬─────────┐\n",
       "│     State     │ StateID │\n",
       "│    varchar    │ varchar │\n",
       "├───────────────┼─────────┤\n",
       "│ Mississippi   │ MS      │\n",
       "│ South Dakota  │ SD      │\n",
       "│ Utah          │ UT      │\n",
       "│ Kentucky      │ KY      │\n",
       "│ California    │ CA      │\n",
       "│ Nebraska      │ NE      │\n",
       "│ New Hampshire │ NH      │\n",
       "│ Delaware      │ DE      │\n",
       "│ Minnesota     │ MN      │\n",
       "│ Nevada        │ NV      │\n",
       "│   ·           │ ·       │\n",
       "│   ·           │ ·       │\n",
       "│   ·           │ ·       │\n",
       "│ Michigan      │ MI      │\n",
       "│ Illinois      │ IL      │\n",
       "│ Maryland      │ MD      │\n",
       "│ Alaska        │ AK      │\n",
       "│ Connecticut   │ CT      │\n",
       "│ Vermont       │ VT      │\n",
       "│ Massachusetts │ MA      │\n",
       "│ Oklahoma      │ OK      │\n",
       "│ West Virginia │ WV      │\n",
       "│ Virginia      │ VA      │\n",
       "├───────────────┴─────────┤\n",
       "│   51 rows (20 shown)    │\n",
       "└─────────────────────────┘"
      ]
     },
     "execution_count": 98,
     "metadata": {},
     "output_type": "execute_result"
    }
   ],
   "source": [
    "conn.sql(\"\"\"\n",
    "    SELECT * FROM PopulationState\n",
    "\"\"\")"
   ]
  },
  {
   "cell_type": "code",
   "execution_count": 99,
   "id": "f988f651",
   "metadata": {},
   "outputs": [
    {
     "data": {
      "text/plain": [
       "┌─────────┬─────────────┬──────────────┬──────────────────┐\n",
       "│   Sex   │  Ethnicity  │    Origin    │ StratificationID │\n",
       "│ varchar │   varchar   │   varchar    │     varchar      │\n",
       "├─────────┼─────────────┼──────────────┼──────────────────┤\n",
       "│ Female  │ Black       │ Not Hispanic │ NH_F_BLACK       │\n",
       "│ Female  │ Asian       │ Not Hispanic │ NH_F_ASIAN       │\n",
       "│ Female  │ NHPI        │ Hispanic     │ H_F_NHPI         │\n",
       "│ Male    │ Asian       │ Not Hispanic │ NH_M_ASIAN       │\n",
       "│ Male    │ White       │ Not Hispanic │ NH_M_WHITE       │\n",
       "│ Male    │ AIAN        │ Not Hispanic │ NH_M_AIAN        │\n",
       "│ Male    │ Multiracial │ Hispanic     │ H_M_MULTI        │\n",
       "│ Male    │ Black       │ Not Hispanic │ NH_M_BLACK       │\n",
       "│ Male    │ Black       │ Hispanic     │ H_M_BLACK        │\n",
       "│ Female  │ Asian       │ Hispanic     │ H_F_ASIAN        │\n",
       "│  ·      │   ·         │    ·         │     ·            │\n",
       "│  ·      │   ·         │    ·         │     ·            │\n",
       "│  ·      │   ·         │    ·         │     ·            │\n",
       "│ Male    │ Asian       │ Hispanic     │ H_M_ASIAN        │\n",
       "│ Male    │ AIAN        │ Hispanic     │ H_M_AIAN         │\n",
       "│ Female  │ Multiracial │ Hispanic     │ H_F_MULTI        │\n",
       "│ Female  │ White       │ Hispanic     │ H_F_WHITE        │\n",
       "│ Female  │ AIAN        │ Hispanic     │ H_F_AIAN         │\n",
       "│ Male    │ NHPI        │ Hispanic     │ H_M_NHPI         │\n",
       "│ Female  │ Multiracial │ Not Hispanic │ NH_F_MULTI       │\n",
       "│ Female  │ Black       │ Hispanic     │ H_F_BLACK        │\n",
       "│ Female  │ AIAN        │ Not Hispanic │ NH_F_AIAN        │\n",
       "│ Male    │ White       │ Hispanic     │ H_M_WHITE        │\n",
       "├─────────┴─────────────┴──────────────┴──────────────────┤\n",
       "│ 24 rows (20 shown)                            4 columns │\n",
       "└─────────────────────────────────────────────────────────┘"
      ]
     },
     "execution_count": 99,
     "metadata": {},
     "output_type": "execute_result"
    }
   ],
   "source": [
    "conn.sql(\"\"\"\n",
    "    SELECT * FROM PopulationStratification\n",
    "\"\"\")"
   ]
  },
  {
   "cell_type": "code",
   "execution_count": 100,
   "id": "4af62a5b",
   "metadata": {},
   "outputs": [
    {
     "data": {
      "text/plain": [
       "┌──────────────┐\n",
       "│ count_star() │\n",
       "│    int64     │\n",
       "├──────────────┤\n",
       "│           51 │\n",
       "└──────────────┘"
      ]
     },
     "execution_count": 100,
     "metadata": {},
     "output_type": "execute_result"
    }
   ],
   "source": [
    "conn.sql(\"\"\"\n",
    "    SELECT COUNT(*) \n",
    "    FROM PopulationState\n",
    "    -- WHERE COLUMNS(*) IS NOT NULL\n",
    "\"\"\")\n"
   ]
  },
  {
   "cell_type": "code",
   "execution_count": 101,
   "id": "b78fef44",
   "metadata": {},
   "outputs": [
    {
     "data": {
      "text/plain": [
       "┌───────────┬─────────┬────────────┬───────────────┬───────────┬────────────────────┬─────────────────────┬────────────┬─────────────────┬──────────────────┬────────┐\n",
       "│ YearStart │ YearEnd │ LocationID │ DataValueUnit │ DataValue │ LowConfidenceLimit │ HighConfidenceLimit │ QuestionID │ DataValueTypeID │ StratificationID │ LogID  │\n",
       "│   int32   │  int32  │  varchar   │    varchar    │  double   │       double       │       double        │  varchar   │     varchar     │     varchar      │ int32  │\n",
       "├───────────┼─────────┼────────────┼───────────────┼───────────┼────────────────────┼─────────────────────┼────────────┼─────────────────┼──────────────────┼────────┤\n",
       "│      2012 │    2012 │ MS         │ %             │      75.3 │               71.2 │                79.0 │ TOB9_0     │ PRCT            │ B_B_ALL          │ 678471 │\n",
       "│      2018 │    2018 │ MS         │ %             │      72.5 │               67.8 │                76.7 │ TOB9_0     │ PRCT            │ B_B_ALL          │ 678470 │\n",
       "│      2016 │    2016 │ ME         │ %             │      62.3 │               61.1 │                63.5 │ TOB9_0     │ PRCT            │ B_B_ALL          │ 678469 │\n",
       "│      2018 │    2018 │ HI         │ %             │      61.5 │               59.5 │                63.5 │ TOB9_0     │ PRCT            │ B_B_ALL          │ 678468 │\n",
       "│      2014 │    2014 │ AK         │ %             │      50.4 │               48.5 │                52.2 │ TOB9_0     │ PRCT            │ B_B_ALL          │ 678467 │\n",
       "│      2014 │    2014 │ MO         │ %             │      30.0 │               NULL │                NULL │ TOB8_0     │ PRCT            │ B_B_ALL          │ 678466 │\n",
       "│      2007 │    2007 │ TX         │ %             │      25.0 │               NULL │                NULL │ TOB8_0     │ PRCT            │ B_B_ALL          │ 678465 │\n",
       "│      2014 │    2014 │ MN         │ %             │      10.0 │               NULL │                NULL │ TOB8_0     │ PRCT            │ B_B_ALL          │ 678464 │\n",
       "│      2019 │    2019 │ NJ         │ %             │     100.0 │               NULL │                NULL │ TOB6_0     │ PRCT            │ B_B_ALL          │ 678463 │\n",
       "│      2019 │    2019 │ MN         │ %             │     100.0 │               NULL │                NULL │ TOB6_0     │ PRCT            │ B_B_ALL          │ 678462 │\n",
       "├───────────┴─────────┴────────────┴───────────────┴───────────┴────────────────────┴─────────────────────┴────────────┴─────────────────┴──────────────────┴────────┤\n",
       "│ 10 rows                                                                                                                                                 11 columns │\n",
       "└────────────────────────────────────────────────────────────────────────────────────────────────────────────────────────────────────────────────────────────────────┘"
      ]
     },
     "execution_count": 101,
     "metadata": {},
     "output_type": "execute_result"
    }
   ],
   "source": [
    "conn.sql(\"\"\"\n",
    "    SELECT *\n",
    "    FROM CDI\n",
    "    ORDER BY LogID DESC\n",
    "    LIMIT 10\n",
    "\"\"\")"
   ]
  },
  {
   "cell_type": "code",
   "execution_count": 102,
   "id": "b1565a3c",
   "metadata": {},
   "outputs": [
    {
     "data": {
      "text/plain": [
       "┌───────────┬─────────┬────────────────┬──────────┬────────┬─────────┬───────────┬──────────────┐\n",
       "│ YearStart │ YearEnd │  LocationDesc  │ AgeStart │ AgeEnd │   Sex   │ Ethnicity │    Origin    │\n",
       "│   int32   │  int32  │    varchar     │  double  │ double │ varchar │  varchar  │   varchar    │\n",
       "├───────────┼─────────┼────────────────┼──────────┼────────┼─────────┼───────────┼──────────────┤\n",
       "│      2019 │    2019 │ Connecticut    │     18.0 │    inf │ Both    │ All       │ Hispanic     │\n",
       "│      2020 │    2020 │ Vermont        │     18.0 │    inf │ Male    │ All       │ Both         │\n",
       "│      2015 │    2015 │ Alaska         │     18.0 │    inf │ Female  │ All       │ Both         │\n",
       "│      2015 │    2015 │ North Carolina │     18.0 │    inf │ Both    │ Black     │ Not Hispanic │\n",
       "│      2020 │    2020 │ Delaware       │     18.0 │    inf │ Both    │ White     │ Not Hispanic │\n",
       "│      2016 │    2016 │ Ohio           │     18.0 │    inf │ Male    │ All       │ Both         │\n",
       "│      2017 │    2017 │ Pennsylvania   │     18.0 │    inf │ Male    │ All       │ Both         │\n",
       "│      2014 │    2014 │ Nebraska       │     18.0 │    inf │ Both    │ White     │ Not Hispanic │\n",
       "│      2017 │    2017 │ Oregon         │     18.0 │    inf │ Female  │ All       │ Both         │\n",
       "│      2018 │    2018 │ Tennessee      │     18.0 │    inf │ Both    │ Black     │ Not Hispanic │\n",
       "│        ·  │      ·  │    ·           │       ·  │     ·  │  ·      │   ·       │      ·       │\n",
       "│        ·  │      ·  │    ·           │       ·  │     ·  │  ·      │   ·       │      ·       │\n",
       "│        ·  │      ·  │    ·           │       ·  │     ·  │  ·      │   ·       │      ·       │\n",
       "│      2020 │    2020 │ Maryland       │     21.0 │   65.0 │ Both    │ Other     │ Not Hispanic │\n",
       "│      2018 │    2018 │ Florida        │     21.0 │   65.0 │ Both    │ Other     │ Not Hispanic │\n",
       "│      2020 │    2020 │ Virginia       │     21.0 │   65.0 │ Both    │ Other     │ Not Hispanic │\n",
       "│      2016 │    2016 │ South Dakota   │     21.0 │   65.0 │ Both    │ Other     │ Not Hispanic │\n",
       "│      2018 │    2018 │ Indiana        │     21.0 │   65.0 │ Both    │ White     │ Not Hispanic │\n",
       "│      2020 │    2020 │ Ohio           │     21.0 │   44.0 │ Both    │ All       │ Hispanic     │\n",
       "│      2016 │    2016 │ Nevada         │     21.0 │   44.0 │ Both    │ White     │ Not Hispanic │\n",
       "│      2015 │    2015 │ Oregon         │     21.0 │   44.0 │ Both    │ All       │ Both         │\n",
       "│      2018 │    2018 │ North Dakota   │     21.0 │   44.0 │ Both    │ White     │ Not Hispanic │\n",
       "│      2014 │    2014 │ Delaware       │     21.0 │   44.0 │ Both    │ All       │ Both         │\n",
       "├───────────┴─────────┴────────────────┴──────────┴────────┴─────────┴───────────┴──────────────┤\n",
       "│ ? rows (>9999 rows, 20 shown)                                                       8 columns │\n",
       "└───────────────────────────────────────────────────────────────────────────────────────────────┘"
      ]
     },
     "execution_count": 102,
     "metadata": {},
     "output_type": "execute_result"
    }
   ],
   "source": [
    "conn.sql(\"\"\"\n",
    "    -- Create a 2nd CTE that will join the necessary\n",
    "    -- values from the dimension tables to the fact\n",
    "    -- table\n",
    "    WITH MergedCDI AS (\n",
    "    SELECT\n",
    "        c.LogID AS ID,\n",
    "        c.YearStart AS YearStart, \n",
    "        c.YearEnd AS YearEnd, \n",
    "        cl.LocationDesc AS LocationDesc, \n",
    "        c.DataValueUnit AS DataValueUnit,\n",
    "        c.DataValue AS DataValue,\n",
    "        q.Question AS Question,\n",
    "        q.AgeStart AS AgeStart,\n",
    "        q.AgeEnd AS AgeEnd,\n",
    "        dvt.DataValueType AS DataValueType,\n",
    "        cs.Sex AS Sex,\n",
    "        cs.Ethnicity AS Ethnicity,\n",
    "        cs.Origin AS Origin\n",
    "    FROM CDI c\n",
    "    LEFT JOIN CDILocation cl\n",
    "    ON c.LocationID = cl.LocationID\n",
    "    LEFT JOIN Question q\n",
    "    ON c.QuestionID = q.QuestionID\n",
    "    LEFT JOIN DataValueType dvt\n",
    "    ON c.DataValueTypeID = dvt.DataValueTypeID\n",
    "    LEFT JOIN CDIStratification cs\n",
    "    ON c.StratificationID = cs.StratificationID\n",
    "    WHERE q.AgeStart IS NOT NULL AND q.AgeEnd IS NOT NULL\n",
    "    )\n",
    "\n",
    "    -- groups the rows with the same YearStart, YearEnd, \n",
    "    -- LocationDesc, AgeStart, AgeEnd, Sex, Ethnicity, and Origin\n",
    "    -- as this will simulate the rows taking on different values\n",
    "    -- which we will need to dynamically aggregate the Population\n",
    "    -- table\n",
    "    SELECT \n",
    "    MAX(YearStart) AS YearStart, \n",
    "    MAX(YearEnd) AS YearEnd, \n",
    "    MAX(LocationDesc) AS LocationDesc, \n",
    "    MAX(AgeStart) AS AgeStart, \n",
    "    MAX(AgeEnd) AS AgeEnd, \n",
    "    MAX(Sex) AS Sex, \n",
    "    MAX(Ethnicity) AS Ethnicity, \n",
    "    MAX(Origin) AS Origin\n",
    "    FROM MergedCDI\n",
    "    GROUP BY (\n",
    "    YearStart, \n",
    "    YearEnd, \n",
    "    LocationDesc, \n",
    "    AgeStart, \n",
    "    AgeEnd,\n",
    "    Sex,\n",
    "    Ethnicity,\n",
    "    Origin\n",
    "    )\n",
    "\"\"\")"
   ]
  },
  {
   "cell_type": "code",
   "execution_count": 103,
   "id": "5fd3e324",
   "metadata": {},
   "outputs": [
    {
     "data": {
      "text/plain": [
       "┌───────┬─────────────────┐\n",
       "│ Year  │ TotalPopulation │\n",
       "│ int32 │     int128      │\n",
       "├───────┼─────────────────┤\n",
       "│  2011 │           17565 │\n",
       "│  2012 │           18734 │\n",
       "│  2013 │           19147 │\n",
       "└───────┴─────────────────┘"
      ]
     },
     "execution_count": 103,
     "metadata": {},
     "output_type": "execute_result"
    }
   ],
   "source": [
    "conn.sql(\"\"\"\n",
    "    WITH MergedPopulation AS (\n",
    "    SELECT \n",
    "        ps.State AS State,\n",
    "        p.Age AS Age,\n",
    "        p.Year AS Year,\n",
    "        pstr.Sex AS Sex,\n",
    "        pstr.Ethnicity AS Ethnicity,\n",
    "        pstr.Origin AS Origin,\n",
    "        p.Population AS Population\n",
    "    FROM Population p\n",
    "    LEFT JOIN PopulationState ps\n",
    "    ON p.StateID = ps.StateID\n",
    "    LEFT JOIN PopulationStratification pstr\n",
    "    ON p.StratificationID = pstr.StratificationID\n",
    "    )\n",
    "\n",
    "    SELECT Year, SUM(Population) AS TotalPopulation\n",
    "    FROM MergedPopulation\n",
    "    WHERE (Year BETWEEN 2011 AND 2013) AND\n",
    "    (Age BETWEEN 18 AND 85) AND\n",
    "    State = 'Wyoming' AND\n",
    "    Sex IN ('Male') AND\n",
    "    Ethnicity IN ('White', 'Black', 'AIAN', 'Asian', 'NHPI', 'Multiracial') AND\n",
    "    Origin IN ('Hispanic',)\n",
    "    GROUP BY Year\n",
    "    ORDER BY Year ASC\n",
    "\"\"\")"
   ]
  },
  {
   "cell_type": "markdown",
   "id": "7469de4a",
   "metadata": {},
   "source": [
    "I have loaded two fact tables CDI and Population and a couple dimension tables in DuckDB. I did joins on the CDI fact table and its respective dimension tables which yields a snippet of the table below CDI table merged\n",
    "\n",
    "And below is the Population fact table merged with its other dimension tables yielding this snippet below Population table merged enter image description here\n",
    "\n",
    "Now what I want to basically do is filter out the Population table based only on the values of this particular row of the CDI table. In this case the current row outlined in green will somehow do this query\n",
    "```\n",
    "SELECT Year, SUM(Population) AS TotalPopulation\n",
    "FROM Population\n",
    "WHERE (Year BETWEEN 2018 AND 2018) AND\n",
    "(Age BETWEEN 18 AND 85) AND\n",
    "State = 'Pennsylvania' AND\n",
    "Sex IN ('Male', 'Female') AND\n",
    "Ethnicity IN ('Multiracial') AND\n",
    "Origin IN ('Not Hispanic')\n",
    "GROUP BY Year\n",
    "ORDER BY Year ASC\n",
    "```\n",
    "\n",
    "This query aggregates the Population column values based on the row values of the CDI table. What I'm just at a loss in trying to implement is doing this aggregation operation for all row values in the CDI table. Here is a full visualization of what I'm trying to do. enter image description here\n",
    "\n",
    "How would I implement this type of varying filtering aggregation based on each row column values of the CDI table? I'm using DuckDB as the OLAP DB here so ANSI SQL is what I'm trying to use to implement this task. Could it be possible only using this kind of SQL?"
   ]
  },
  {
   "cell_type": "code",
   "execution_count": 104,
   "id": "52ffd8c5",
   "metadata": {},
   "outputs": [
    {
     "data": {
      "text/plain": [
       "┌──────────────────┐\n",
       "│ current_schema() │\n",
       "│     varchar      │\n",
       "├──────────────────┤\n",
       "│ main             │\n",
       "└──────────────────┘"
      ]
     },
     "execution_count": 104,
     "metadata": {},
     "output_type": "execute_result"
    }
   ],
   "source": [
    "conn.sql(\"\"\"\n",
    "    SELECT current_schema();\n",
    "\"\"\")"
   ]
  },
  {
   "cell_type": "code",
   "execution_count": 105,
   "id": "3a589054",
   "metadata": {},
   "outputs": [
    {
     "data": {
      "text/plain": [
       "┌─────────────────────────────┬──────────────┬─────────────┬────────────┬────────────────────┬───────────┬─────────────────────┬──────────────┬─────────┬──────────┬────────────────┬─────────────┬───────────┬──────────────┬──────────────────────────┬───────────────────┬─────────────────────────┬───────────────┐\n",
       "│        database_name        │ database_oid │ schema_name │ schema_oid │     table_name     │ table_oid │     column_name     │ column_index │ comment │ internal │ column_default │ is_nullable │ data_type │ data_type_id │ character_maximum_length │ numeric_precision │ numeric_precision_radix │ numeric_scale │\n",
       "│           varchar           │    int64     │   varchar   │   int64    │      varchar       │   int64   │       varchar       │    int32     │ varchar │ boolean  │    varchar     │   boolean   │  varchar  │    int64     │          int32           │       int32       │          int32          │     int32     │\n",
       "├─────────────────────────────┼──────────────┼─────────────┼────────────┼────────────────────┼───────────┼─────────────────────┼──────────────┼─────────┼──────────┼────────────────┼─────────────┼───────────┼──────────────┼──────────────────────────┼───────────────────┼─────────────────────────┼───────────────┤\n",
       "│ chronic_disease_analyses_db │          772 │ main        │       4838 │ PopulationState    │      4844 │ State               │            1 │ NULL    │ false    │ NULL           │ true        │ VARCHAR   │           25 │                     NULL │              NULL │                    NULL │          NULL │\n",
       "│ chronic_disease_analyses_db │          772 │ main        │       4838 │ PopulationState    │      4844 │ StateID             │            2 │ NULL    │ false    │ NULL           │ true        │ VARCHAR   │           25 │                     NULL │              NULL │                    NULL │          NULL │\n",
       "│ chronic_disease_analyses_db │          772 │ main        │       4838 │ CDI                │      4839 │ YearStart           │            1 │ NULL    │ false    │ NULL           │ true        │ INTEGER   │           13 │                     NULL │                32 │                       2 │             0 │\n",
       "│ chronic_disease_analyses_db │          772 │ main        │       4838 │ CDI                │      4839 │ YearEnd             │            2 │ NULL    │ false    │ NULL           │ true        │ INTEGER   │           13 │                     NULL │                32 │                       2 │             0 │\n",
       "│ chronic_disease_analyses_db │          772 │ main        │       4838 │ CDI                │      4839 │ LocationID          │            3 │ NULL    │ false    │ NULL           │ true        │ VARCHAR   │           25 │                     NULL │              NULL │                    NULL │          NULL │\n",
       "│ chronic_disease_analyses_db │          772 │ main        │       4838 │ CDI                │      4839 │ DataValueUnit       │            4 │ NULL    │ false    │ NULL           │ true        │ VARCHAR   │           25 │                     NULL │              NULL │                    NULL │          NULL │\n",
       "│ chronic_disease_analyses_db │          772 │ main        │       4838 │ CDI                │      4839 │ DataValue           │            5 │ NULL    │ false    │ NULL           │ true        │ DOUBLE    │           23 │                     NULL │                53 │                       2 │             0 │\n",
       "│ chronic_disease_analyses_db │          772 │ main        │       4838 │ CDI                │      4839 │ LowConfidenceLimit  │            6 │ NULL    │ false    │ NULL           │ true        │ DOUBLE    │           23 │                     NULL │                53 │                       2 │             0 │\n",
       "│ chronic_disease_analyses_db │          772 │ main        │       4838 │ CDI                │      4839 │ HighConfidenceLimit │            7 │ NULL    │ false    │ NULL           │ true        │ DOUBLE    │           23 │                     NULL │                53 │                       2 │             0 │\n",
       "│ chronic_disease_analyses_db │          772 │ main        │       4838 │ CDI                │      4839 │ QuestionID          │            8 │ NULL    │ false    │ NULL           │ true        │ VARCHAR   │           25 │                     NULL │              NULL │                    NULL │          NULL │\n",
       "│  ·                          │           ·  │  ·          │         ·  │  ·                 │        ·  │  ·                  │            · │  ·      │  ·       │  ·             │  ·          │    ·      │            · │                       ·  │                ·  │                      ·  │            ·  │\n",
       "│  ·                          │           ·  │  ·          │         ·  │  ·                 │        ·  │  ·                  │            · │  ·      │  ·       │  ·             │  ·          │    ·      │            · │                       ·  │                ·  │                      ·  │            ·  │\n",
       "│  ·                          │           ·  │  ·          │         ·  │  ·                 │        ·  │  ·                  │            · │  ·      │  ·       │  ·             │  ·          │    ·      │            · │                       ·  │                ·  │                      ·  │            ·  │\n",
       "│ temp                        │         7266 │ main        │       7267 │ sqlite_temp_master │      7344 │ type                │            1 │ NULL    │ true     │ NULL           │ true        │ VARCHAR   │           25 │                     NULL │              NULL │                    NULL │          NULL │\n",
       "│ temp                        │         7266 │ main        │       7267 │ sqlite_temp_master │      7344 │ name                │            2 │ NULL    │ true     │ NULL           │ true        │ VARCHAR   │           25 │                     NULL │              NULL │                    NULL │          NULL │\n",
       "│ temp                        │         7266 │ main        │       7267 │ sqlite_temp_master │      7344 │ tbl_name            │            3 │ NULL    │ true     │ NULL           │ true        │ VARCHAR   │           25 │                     NULL │              NULL │                    NULL │          NULL │\n",
       "│ temp                        │         7266 │ main        │       7267 │ sqlite_temp_master │      7344 │ rootpage            │            4 │ NULL    │ true     │ NULL           │ true        │ INTEGER   │           13 │                     NULL │                32 │                       2 │             0 │\n",
       "│ temp                        │         7266 │ main        │       7267 │ sqlite_temp_master │      7344 │ sql                 │            5 │ NULL    │ true     │ NULL           │ true        │ VARCHAR   │           25 │                     NULL │              NULL │                    NULL │          NULL │\n",
       "│ temp                        │         7266 │ main        │       7267 │ sqlite_temp_schema │      7345 │ type                │            1 │ NULL    │ true     │ NULL           │ true        │ VARCHAR   │           25 │                     NULL │              NULL │                    NULL │          NULL │\n",
       "│ temp                        │         7266 │ main        │       7267 │ sqlite_temp_schema │      7345 │ name                │            2 │ NULL    │ true     │ NULL           │ true        │ VARCHAR   │           25 │                     NULL │              NULL │                    NULL │          NULL │\n",
       "│ temp                        │         7266 │ main        │       7267 │ sqlite_temp_schema │      7345 │ tbl_name            │            3 │ NULL    │ true     │ NULL           │ true        │ VARCHAR   │           25 │                     NULL │              NULL │                    NULL │          NULL │\n",
       "│ temp                        │         7266 │ main        │       7267 │ sqlite_temp_schema │      7345 │ rootpage            │            4 │ NULL    │ true     │ NULL           │ true        │ INTEGER   │           13 │                     NULL │                32 │                       2 │             0 │\n",
       "│ temp                        │         7266 │ main        │       7267 │ sqlite_temp_schema │      7345 │ sql                 │            5 │ NULL    │ true     │ NULL           │ true        │ VARCHAR   │           25 │                     NULL │              NULL │                    NULL │          NULL │\n",
       "├─────────────────────────────┴──────────────┴─────────────┴────────────┴────────────────────┴───────────┴─────────────────────┴──────────────┴─────────┴──────────┴────────────────┴─────────────┴───────────┴──────────────┴──────────────────────────┴───────────────────┴─────────────────────────┴───────────────┤\n",
       "│ 1860 rows (20 shown)                                                                                                                                                                                                                                                                                     18 columns │\n",
       "└─────────────────────────────────────────────────────────────────────────────────────────────────────────────────────────────────────────────────────────────────────────────────────────────────────────────────────────────────────────────────────────────────────────────────────────────────────────────────────┘"
      ]
     },
     "execution_count": 105,
     "metadata": {},
     "output_type": "execute_result"
    }
   ],
   "source": [
    "conn.sql(\"\"\"\n",
    "    SELECT * FROM duckdb_columns();\n",
    "\"\"\")"
   ]
  },
  {
   "cell_type": "code",
   "execution_count": null,
   "id": "fe4446d8",
   "metadata": {},
   "outputs": [],
   "source": [
    "def test_prototype(state):\n",
    "    # query = f\"\"\"\n",
    "    #     WITH MergedPopulation AS (\n",
    "    #         SELECT \n",
    "    #             ps.State AS State,\n",
    "    #             p.Age AS Age,\n",
    "    #             p.Year AS Year,\n",
    "    #             pstr.Sex AS Sex,\n",
    "    #             pstr.Ethnicity AS Ethnicity,\n",
    "    #             pstr.Origin AS Origin,\n",
    "    #             p.Population AS Population\n",
    "    #         FROM Population p\n",
    "    #         LEFT JOIN PopulationState ps\n",
    "    #         ON p.StateID = ps.StateID\n",
    "    #         LEFT JOIN PopulationStratification pstr\n",
    "    #         ON p.StratificationID = pstr.StratificationID\n",
    "    #     )               \n",
    "        \n",
    "    #     SELECT SUM(Population) AS TotalPopulation\n",
    "    #     FROM MergedPopulation\n",
    "    #     WHERE State = '{state}'\n",
    "    # \"\"\"\n",
    "    # total_population = conn.sql(query).fetchall()[-1][-1]\n",
    "    total_population = len(state)\n",
    "    return total_population"
   ]
  },
  {
   "cell_type": "code",
   "execution_count": 107,
   "id": "5227be1d",
   "metadata": {},
   "outputs": [
    {
     "ename": "CatalogException",
     "evalue": "Catalog Error: Scalar Function with name \"test_prototype\" already exists!",
     "output_type": "error",
     "traceback": [
      "\u001b[31m---------------------------------------------------------------------------\u001b[39m",
      "\u001b[31mCatalogException\u001b[39m                          Traceback (most recent call last)",
      "\u001b[36mCell\u001b[39m\u001b[36m \u001b[39m\u001b[32mIn[107]\u001b[39m\u001b[32m, line 1\u001b[39m\n\u001b[32m----> \u001b[39m\u001b[32m1\u001b[39m \u001b[43mconn\u001b[49m\u001b[43m.\u001b[49m\u001b[43mcreate_function\u001b[49m\u001b[43m(\u001b[49m\u001b[33;43m\"\u001b[39;49m\u001b[33;43mtest_prototype\u001b[39;49m\u001b[33;43m\"\u001b[39;49m\u001b[43m,\u001b[49m\u001b[43m \u001b[49m\u001b[43mtest_prototype\u001b[49m\u001b[43m,\u001b[49m\u001b[43m \u001b[49m\u001b[43m[\u001b[49m\u001b[43mVARCHAR\u001b[49m\u001b[43m]\u001b[49m\u001b[43m,\u001b[49m\u001b[43m \u001b[49m\u001b[43mBIGINT\u001b[49m\u001b[43m)\u001b[49m\n",
      "\u001b[31mCatalogException\u001b[39m: Catalog Error: Scalar Function with name \"test_prototype\" already exists!"
     ]
    }
   ],
   "source": [
    "conn.create_function(\"test_prototype\", test_prototype, [VARCHAR], BIGINT)"
   ]
  },
  {
   "cell_type": "code",
   "execution_count": 108,
   "id": "2f828ab8",
   "metadata": {},
   "outputs": [
    {
     "ename": "InvalidInputException",
     "evalue": "Invalid Input Error: No function by the name of 'test_prototype' was found in the list of registered functions",
     "output_type": "error",
     "traceback": [
      "\u001b[31m---------------------------------------------------------------------------\u001b[39m",
      "\u001b[31mInvalidInputException\u001b[39m                     Traceback (most recent call last)",
      "\u001b[36mCell\u001b[39m\u001b[36m \u001b[39m\u001b[32mIn[108]\u001b[39m\u001b[32m, line 1\u001b[39m\n\u001b[32m----> \u001b[39m\u001b[32m1\u001b[39m \u001b[43mconn\u001b[49m\u001b[43m.\u001b[49m\u001b[43mremove_function\u001b[49m\u001b[43m(\u001b[49m\u001b[33;43m\"\u001b[39;49m\u001b[33;43mtest_prototype\u001b[39;49m\u001b[33;43m\"\u001b[39;49m\u001b[43m)\u001b[49m\n",
      "\u001b[31mInvalidInputException\u001b[39m: Invalid Input Error: No function by the name of 'test_prototype' was found in the list of registered functions"
     ]
    }
   ],
   "source": [
    "conn.remove_function(\"test_prototype\")"
   ]
  },
  {
   "cell_type": "code",
   "execution_count": 111,
   "id": "b2733d70",
   "metadata": {},
   "outputs": [
    {
     "ename": "ConnectionException",
     "evalue": "Connection Error: Connection already closed!",
     "output_type": "error",
     "traceback": [
      "\u001b[31m---------------------------------------------------------------------------\u001b[39m",
      "\u001b[31mConnectionException\u001b[39m                       Traceback (most recent call last)",
      "\u001b[36mCell\u001b[39m\u001b[36m \u001b[39m\u001b[32mIn[111]\u001b[39m\u001b[32m, line 1\u001b[39m\n\u001b[32m----> \u001b[39m\u001b[32m1\u001b[39m \u001b[43mconn\u001b[49m\u001b[43m.\u001b[49m\u001b[43msql\u001b[49m\u001b[43m(\u001b[49m\u001b[33;43m\"\"\"\u001b[39;49m\n\u001b[32m      2\u001b[39m \u001b[33;43m    -- Create a 2nd CTE that will join the necessary\u001b[39;49m\n\u001b[32m      3\u001b[39m \u001b[33;43m    -- values from the dimension tables to the fact\u001b[39;49m\n\u001b[32m      4\u001b[39m \u001b[33;43m    -- table\u001b[39;49m\n\u001b[32m      5\u001b[39m \u001b[33;43m    WITH MergedCDI AS (\u001b[39;49m\n\u001b[32m      6\u001b[39m \u001b[33;43m    SELECT\u001b[39;49m\n\u001b[32m      7\u001b[39m \u001b[33;43m        c.LogID AS ID,\u001b[39;49m\n\u001b[32m      8\u001b[39m \u001b[33;43m        c.YearStart AS YearStart, \u001b[39;49m\n\u001b[32m      9\u001b[39m \u001b[33;43m        c.YearEnd AS YearEnd, \u001b[39;49m\n\u001b[32m     10\u001b[39m \u001b[33;43m        cl.LocationDesc AS LocationDesc, \u001b[39;49m\n\u001b[32m     11\u001b[39m \u001b[33;43m        c.DataValueUnit AS DataValueUnit,\u001b[39;49m\n\u001b[32m     12\u001b[39m \u001b[33;43m        c.DataValue AS DataValue,\u001b[39;49m\n\u001b[32m     13\u001b[39m \u001b[33;43m        q.Question AS Question,\u001b[39;49m\n\u001b[32m     14\u001b[39m \u001b[33;43m        q.AgeStart AS AgeStart,\u001b[39;49m\n\u001b[32m     15\u001b[39m \u001b[33;43m        q.AgeEnd AS AgeEnd,\u001b[39;49m\n\u001b[32m     16\u001b[39m \u001b[33;43m        dvt.DataValueType AS DataValueType,\u001b[39;49m\n\u001b[32m     17\u001b[39m \u001b[33;43m        cs.Sex AS Sex,\u001b[39;49m\n\u001b[32m     18\u001b[39m \u001b[33;43m        cs.Ethnicity AS Ethnicity,\u001b[39;49m\n\u001b[32m     19\u001b[39m \u001b[33;43m        cs.Origin AS Origin\u001b[39;49m\n\u001b[32m     20\u001b[39m \u001b[33;43m    FROM CDI c\u001b[39;49m\n\u001b[32m     21\u001b[39m \u001b[33;43m    LEFT JOIN CDILocation cl\u001b[39;49m\n\u001b[32m     22\u001b[39m \u001b[33;43m    ON c.LocationID = cl.LocationID\u001b[39;49m\n\u001b[32m     23\u001b[39m \u001b[33;43m    LEFT JOIN Question q\u001b[39;49m\n\u001b[32m     24\u001b[39m \u001b[33;43m    ON c.QuestionID = q.QuestionID\u001b[39;49m\n\u001b[32m     25\u001b[39m \u001b[33;43m    LEFT JOIN DataValueType dvt\u001b[39;49m\n\u001b[32m     26\u001b[39m \u001b[33;43m    ON c.DataValueTypeID = dvt.DataValueTypeID\u001b[39;49m\n\u001b[32m     27\u001b[39m \u001b[33;43m    LEFT JOIN CDIStratification cs\u001b[39;49m\n\u001b[32m     28\u001b[39m \u001b[33;43m    ON c.StratificationID = cs.StratificationID\u001b[39;49m\n\u001b[32m     29\u001b[39m \u001b[33;43m    WHERE q.AgeStart IS NOT NULL AND q.AgeEnd IS NOT NULL\u001b[39;49m\n\u001b[32m     30\u001b[39m \u001b[33;43m    ),\u001b[39;49m\n\u001b[32m     31\u001b[39m \n\u001b[32m     32\u001b[39m \u001b[33;43m    -- groups the rows with the same YearStart, YearEnd, \u001b[39;49m\n\u001b[32m     33\u001b[39m \u001b[33;43m    -- LocationDesc, AgeStart, AgeEnd, Sex, Ethnicity, and Origin\u001b[39;49m\n\u001b[32m     34\u001b[39m \u001b[33;43m    -- as this will simulate the rows taking on different values\u001b[39;49m\n\u001b[32m     35\u001b[39m \u001b[33;43m    -- which we will need to dynamically aggregate the Population\u001b[39;49m\n\u001b[32m     36\u001b[39m \u001b[33;43m    -- table\u001b[39;49m\n\u001b[32m     37\u001b[39m \u001b[33;43m    FilteredMergedCDI AS (\u001b[39;49m\n\u001b[32m     38\u001b[39m \u001b[33;43m        SELECT \u001b[39;49m\n\u001b[32m     39\u001b[39m \u001b[33;43m            MAX(YearStart) AS YearStart, \u001b[39;49m\n\u001b[32m     40\u001b[39m \u001b[33;43m            MAX(YearEnd) AS YearEnd, \u001b[39;49m\n\u001b[32m     41\u001b[39m \u001b[33;43m            MAX(LocationDesc) AS LocationDesc, \u001b[39;49m\n\u001b[32m     42\u001b[39m \u001b[33;43m            MAX(AgeStart) AS AgeStart, \u001b[39;49m\n\u001b[32m     43\u001b[39m \u001b[33;43m            MAX(AgeEnd) AS AgeEnd, \u001b[39;49m\n\u001b[32m     44\u001b[39m \u001b[33;43m            MAX(Sex) AS Sex, \u001b[39;49m\n\u001b[32m     45\u001b[39m \u001b[33;43m            MAX(Ethnicity) AS Ethnicity, \u001b[39;49m\n\u001b[32m     46\u001b[39m \u001b[33;43m            MAX(Origin) AS Origin\u001b[39;49m\n\u001b[32m     47\u001b[39m \u001b[33;43m        FROM MergedCDI\u001b[39;49m\n\u001b[32m     48\u001b[39m \u001b[33;43m        GROUP BY (\u001b[39;49m\n\u001b[32m     49\u001b[39m \u001b[33;43m            YearStart, \u001b[39;49m\n\u001b[32m     50\u001b[39m \u001b[33;43m            YearEnd, \u001b[39;49m\n\u001b[32m     51\u001b[39m \u001b[33;43m            LocationDesc, \u001b[39;49m\n\u001b[32m     52\u001b[39m \u001b[33;43m            AgeStart, \u001b[39;49m\n\u001b[32m     53\u001b[39m \u001b[33;43m            AgeEnd,\u001b[39;49m\n\u001b[32m     54\u001b[39m \u001b[33;43m            Sex,\u001b[39;49m\n\u001b[32m     55\u001b[39m \u001b[33;43m            Ethnicity,\u001b[39;49m\n\u001b[32m     56\u001b[39m \u001b[33;43m            Origin\u001b[39;49m\n\u001b[32m     57\u001b[39m \u001b[33;43m        )\u001b[39;49m\n\u001b[32m     58\u001b[39m \u001b[33;43m    )\u001b[39;49m\n\u001b[32m     59\u001b[39m \n\u001b[32m     60\u001b[39m \u001b[33;43m    SELECT test_prototype(LocationDesc) AS TotalPopulation\u001b[39;49m\n\u001b[32m     61\u001b[39m \u001b[33;43m    FROM FilteredMergedCDI\u001b[39;49m\n\u001b[32m     62\u001b[39m \u001b[33;43m\"\"\"\u001b[39;49m\u001b[43m)\u001b[49m\n",
      "\u001b[31mConnectionException\u001b[39m: Connection Error: Connection already closed!"
     ]
    }
   ],
   "source": [
    "conn.sql(\"\"\"\n",
    "    -- Create a 2nd CTE that will join the necessary\n",
    "    -- values from the dimension tables to the fact\n",
    "    -- table\n",
    "    WITH MergedCDI AS (\n",
    "    SELECT\n",
    "        c.LogID AS ID,\n",
    "        c.YearStart AS YearStart, \n",
    "        c.YearEnd AS YearEnd, \n",
    "        cl.LocationDesc AS LocationDesc, \n",
    "        c.DataValueUnit AS DataValueUnit,\n",
    "        c.DataValue AS DataValue,\n",
    "        q.Question AS Question,\n",
    "        q.AgeStart AS AgeStart,\n",
    "        q.AgeEnd AS AgeEnd,\n",
    "        dvt.DataValueType AS DataValueType,\n",
    "        cs.Sex AS Sex,\n",
    "        cs.Ethnicity AS Ethnicity,\n",
    "        cs.Origin AS Origin\n",
    "    FROM CDI c\n",
    "    LEFT JOIN CDILocation cl\n",
    "    ON c.LocationID = cl.LocationID\n",
    "    LEFT JOIN Question q\n",
    "    ON c.QuestionID = q.QuestionID\n",
    "    LEFT JOIN DataValueType dvt\n",
    "    ON c.DataValueTypeID = dvt.DataValueTypeID\n",
    "    LEFT JOIN CDIStratification cs\n",
    "    ON c.StratificationID = cs.StratificationID\n",
    "    WHERE q.AgeStart IS NOT NULL AND q.AgeEnd IS NOT NULL\n",
    "    ),\n",
    "\n",
    "    -- groups the rows with the same YearStart, YearEnd, \n",
    "    -- LocationDesc, AgeStart, AgeEnd, Sex, Ethnicity, and Origin\n",
    "    -- as this will simulate the rows taking on different values\n",
    "    -- which we will need to dynamically aggregate the Population\n",
    "    -- table\n",
    "    FilteredMergedCDI AS (\n",
    "        SELECT \n",
    "            MAX(YearStart) AS YearStart, \n",
    "            MAX(YearEnd) AS YearEnd, \n",
    "            MAX(LocationDesc) AS LocationDesc, \n",
    "            MAX(AgeStart) AS AgeStart, \n",
    "            MAX(AgeEnd) AS AgeEnd, \n",
    "            MAX(Sex) AS Sex, \n",
    "            MAX(Ethnicity) AS Ethnicity, \n",
    "            MAX(Origin) AS Origin\n",
    "        FROM MergedCDI\n",
    "        GROUP BY (\n",
    "            YearStart, \n",
    "            YearEnd, \n",
    "            LocationDesc, \n",
    "            AgeStart, \n",
    "            AgeEnd,\n",
    "            Sex,\n",
    "            Ethnicity,\n",
    "            Origin\n",
    "        )\n",
    "    )\n",
    "         \n",
    "    SELECT test_prototype(LocationDesc) AS TotalPopulation\n",
    "    FROM FilteredMergedCDI\n",
    "\"\"\")"
   ]
  },
  {
   "cell_type": "code",
   "execution_count": 110,
   "id": "920963df",
   "metadata": {},
   "outputs": [],
   "source": [
    "conn.close()"
   ]
  }
 ],
 "metadata": {
  "kernelspec": {
   "display_name": "tech-interview",
   "language": "python",
   "name": "python3"
  },
  "language_info": {
   "codemirror_mode": {
    "name": "ipython",
    "version": 3
   },
   "file_extension": ".py",
   "mimetype": "text/x-python",
   "name": "python",
   "nbconvert_exporter": "python",
   "pygments_lexer": "ipython3",
   "version": "3.11.8"
  }
 },
 "nbformat": 4,
 "nbformat_minor": 5
}
