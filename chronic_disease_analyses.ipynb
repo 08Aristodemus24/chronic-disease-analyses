{
 "cells": [
  {
   "cell_type": "code",
   "execution_count": 1,
   "id": "675aa761",
   "metadata": {},
   "outputs": [],
   "source": [
    "import duckdb\n",
    "import os\n",
    "\n",
    "from dotenv import load_dotenv\n",
    "from pathlib import Path\n",
    "from duckdb.typing import *\n",
    "\n",
    "from utilities.utils import get_flat_table_rows\n",
    "\n",
    "%load_ext autoreload\n",
    "%autoreload 2"
   ]
  },
  {
   "cell_type": "markdown",
   "id": "a8d045d8",
   "metadata": {},
   "source": [
    "# Remote connection"
   ]
  },
  {
   "cell_type": "code",
   "execution_count": 2,
   "id": "ae47104e",
   "metadata": {},
   "outputs": [
    {
     "name": "stdout",
     "output_type": "stream",
     "text": [
      "loading env variables...\n",
      "env variables loaded.\n",
      "\n"
     ]
    }
   ],
   "source": [
    "# Build paths inside the project like this: BASE_DIR / 'subdir'.\n",
    "# use this only in development\n",
    "print(\"loading env variables...\")\n",
    "env_dir = Path('./').resolve()\n",
    "load_dotenv(os.path.join(env_dir, '.env'))\n",
    "print(\"env variables loaded.\\n\")"
   ]
  },
  {
   "cell_type": "code",
   "execution_count": 3,
   "id": "3cbd9dd0",
   "metadata": {},
   "outputs": [
    {
     "name": "stdout",
     "output_type": "stream",
     "text": [
      "connecting to duckdb...\n",
      "connected to duckdb.\n",
      "\n"
     ]
    }
   ],
   "source": [
    "# jdbc:duckdb:md:chronic_disease_analyses_db\n",
    "# duckdb:///md:chronic_disease_analyses_db\n",
    "print(\"connecting to duckdb...\")\n",
    "conn = duckdb.connect(f\"md:chronic_disease_analyses_db?motherduck_token={os.environ['MOTHERDUCK_TOKEN']}\")\n",
    "print(\"connected to duckdb.\\n\")"
   ]
  },
  {
   "cell_type": "code",
   "execution_count": 4,
   "id": "ff7b5a1b",
   "metadata": {},
   "outputs": [
    {
     "data": {
      "text/plain": [
       "['CDI',\n",
       " 'CDILocation',\n",
       " 'CDIStratification',\n",
       " 'DataValueType',\n",
       " 'Population',\n",
       " 'PopulationState',\n",
       " 'PopulationStratification',\n",
       " 'Question',\n",
       " 'Stratification',\n",
       " 'Topic']"
      ]
     },
     "execution_count": 4,
     "metadata": {},
     "output_type": "execute_result"
    }
   ],
   "source": [
    "tables = get_flat_table_rows(conn.sql(\"\"\"SHOW TABLES\"\"\").fetchall())\n",
    "tables"
   ]
  },
  {
   "cell_type": "code",
   "execution_count": 5,
   "id": "44e744fc",
   "metadata": {},
   "outputs": [
    {
     "name": "stdout",
     "output_type": "stream",
     "text": [
      "table CDI count: 678471\n",
      "table CDILocation count: 51\n",
      "table CDIStratification count: 11\n",
      "table DataValueType count: 15\n",
      "table Population count: 2947392\n",
      "table PopulationState count: 51\n",
      "table PopulationStratification count: 28\n",
      "table Question count: 192\n",
      "table Stratification count: 39\n",
      "table Topic count: 17\n"
     ]
    }
   ],
   "source": [
    "for table in tables:\n",
    "    count = conn.sql(f\"\"\"SELECT COUNT(*) FROM {table}\"\"\").fetchall()[0][0]\n",
    "    print(f\"table {table} count: {count}\")"
   ]
  },
  {
   "cell_type": "code",
   "execution_count": 6,
   "id": "eae5fdce",
   "metadata": {},
   "outputs": [
    {
     "data": {
      "text/plain": [
       "┌────────────┬─────────┬──────────────────────────────────────────────────────────────────────────────────────────────────────────────┬──────────┬────────┐\n",
       "│ QuestionID │ TopicID │                                                   Question                                                   │ AgeStart │ AgeEnd │\n",
       "│  varchar   │ varchar │                                                   varchar                                                    │  double  │ double │\n",
       "├────────────┼─────────┼──────────────────────────────────────────────────────────────────────────────────────────────────────────────┼──────────┼────────┤\n",
       "│ ART1_1     │ ART     │ Arthritis among adults aged >= 18 years                                                                      │     18.0 │    inf │\n",
       "│ ALC4_0     │ ALC     │ Binge drinking intensity among adults aged >= 18 years who binge drink                                       │     18.0 │    inf │\n",
       "│ NPAW2_3    │ NPAW    │ Overweight or obesity among women aged 18-44 years                                                           │     18.0 │   44.0 │\n",
       "│ DIA7_0     │ DIA     │ Dilated eye examination among adults aged >= 18 years with diagnosed diabetes                                │     18.0 │    inf │\n",
       "│ ORH1_2     │ ORH     │ Dental visits among children and adolescents aged 1-17 years                                                 │      1.0 │   17.0 │\n",
       "│ OLD3_1     │ OLD     │ Proportion of older adults aged >= 65 years who are up to date on a core set of clinical preventive services │     65.0 │    inf │\n",
       "│ NPAW4_1    │ NPAW    │ Median daily frequency of fruit consumption among high school students                                       │     14.0 │   18.0 │\n",
       "│ OVC6_2     │ OVC     │ Self-rated health status among women aged 18-44 years                                                        │     18.0 │   44.0 │\n",
       "│ DIA11_3    │ DIA     │ Prevalence of depressive disorders among adults aged >= 18 years with diagnosed diabetes                     │     18.0 │    inf │\n",
       "│ OVC5_0     │ OVC     │ Premature mortality among adults aged 45-64 years                                                            │     45.0 │   64.0 │\n",
       "│   ·        │  ·      │                         ·                                                                                    │       ·  │     ·  │\n",
       "│   ·        │  ·      │                         ·                                                                                    │       ·  │     ·  │\n",
       "│   ·        │  ·      │                         ·                                                                                    │       ·  │     ·  │\n",
       "│ NPAW16_0   │ NPAW    │ Receiving formula supplementation within the first 2 days of life among breastfed infants                    │     NULL │   NULL │\n",
       "│ RPH3_0     │ RPH     │ Folic acid supplementation                                                                                   │     NULL │   NULL │\n",
       "│ NPAW13_2   │ NPAW    │ Secondary schools that allow students to purchase soda or fruit drinks                                       │     NULL │   NULL │\n",
       "│ CAN6_2     │ CAN     │ Cancer of the female cervix, mortality                                                                       │     NULL │   NULL │\n",
       "│ NPAW7_1    │ NPAW    │ Farmers markets that accept Women and Infant Children (WIC) farmers market nutrition program coupons         │     NULL │   NULL │\n",
       "│ DIA3_2     │ DIA     │ Prevalence of gestational diabetes                                                                           │     NULL │   NULL │\n",
       "│ CVD1_4     │ CVD     │ Mortality from heart failure                                                                                 │     NULL │   NULL │\n",
       "│ COPD6_1    │ COPD    │ Emergency department visit rate for chronic obstructive pulmonary disease as first-listed diagnosis          │     NULL │   NULL │\n",
       "│ ORH2_2     │ ORH     │ Preventive dental care before pregnancy                                                                      │     NULL │   NULL │\n",
       "│ CVD8_0     │ CVD     │ Pre-pregnancy hypertension                                                                                   │     NULL │   NULL │\n",
       "├────────────┴─────────┴──────────────────────────────────────────────────────────────────────────────────────────────────────────────┴──────────┴────────┤\n",
       "│ 192 rows (20 shown)                                                                                                                           5 columns │\n",
       "└─────────────────────────────────────────────────────────────────────────────────────────────────────────────────────────────────────────────────────────┘"
      ]
     },
     "execution_count": 6,
     "metadata": {},
     "output_type": "execute_result"
    }
   ],
   "source": [
    "conn.sql(\"\"\"\n",
    "    SELECT * FROM Question\n",
    "\"\"\")"
   ]
  },
  {
   "cell_type": "markdown",
   "id": "ffa0b221",
   "metadata": {},
   "source": [
    "# Unique topics"
   ]
  },
  {
   "cell_type": "code",
   "execution_count": 7,
   "id": "39dccc49",
   "metadata": {},
   "outputs": [
    {
     "data": {
      "text/plain": [
       "[('CAN', 'Cancer'),\n",
       " ('MTH', 'Mental Health'),\n",
       " ('IMM', 'Immunization'),\n",
       " ('OLD', 'Older Adults'),\n",
       " ('CVD', 'Cardiovascular Disease'),\n",
       " ('ART', 'Arthritis'),\n",
       " ('NPAW', 'Nutrition, Physical Activity, and Weight Status'),\n",
       " ('CKD', 'Chronic Kidney Disease'),\n",
       " ('AST', 'Asthma'),\n",
       " ('DIS', 'Disability'),\n",
       " ('TOB', 'Tobacco'),\n",
       " ('DIA', 'Diabetes'),\n",
       " ('ORH', 'Oral Health'),\n",
       " ('OVC', 'Overarching Conditions'),\n",
       " ('ALC', 'Alcohol'),\n",
       " ('RPH', 'Reproductive Health'),\n",
       " ('COPD', 'Chronic Obstructive Pulmonary Disease')]"
      ]
     },
     "execution_count": 7,
     "metadata": {},
     "output_type": "execute_result"
    }
   ],
   "source": [
    "topic_id = get_flat_table_rows(conn.sql(\"\"\"\n",
    "    SELECT DISTINCT(Question.TopicID, Topic)\n",
    "    FROM Question\n",
    "    JOIN Topic\n",
    "    ON Question.TopicID = Topic.TopicID\n",
    "\"\"\").fetchall())\n",
    "topic_id"
   ]
  },
  {
   "cell_type": "code",
   "execution_count": 8,
   "id": "1d78873a",
   "metadata": {},
   "outputs": [
    {
     "data": {
      "text/plain": [
       "[('Number', 'NMBR'),\n",
       " ('Crude Prevalence', 'CRDPREV'),\n",
       " ('Percent', 'PRCT'),\n",
       " ('Average Annual Crude Rate', 'AVGANNCRDRATE'),\n",
       " ('Median', 'MEDIAN'),\n",
       " ('Age-adjusted Mean', 'AGEADJMEAN'),\n",
       " ('Per capita alcohol consumption', 'PERCAPALC'),\n",
       " ('Mean', 'MEAN'),\n",
       " ('Prevalence', 'PREV'),\n",
       " ('Crude Rate', 'CRDRATE'),\n",
       " ('Age-adjusted Prevalence', 'AGEADJPREV'),\n",
       " ('Adjusted by age, sex, race and ethnicity', 'AGESEXRACEADJRATE'),\n",
       " ('Age-adjusted Rate', 'AGEADJRATE'),\n",
       " ('US Dollars', 'USD'),\n",
       " ('Average Annual Age-adjusted Rate', 'AVGANNAGEADJRATE')]"
      ]
     },
     "execution_count": 8,
     "metadata": {},
     "output_type": "execute_result"
    }
   ],
   "source": [
    "dvt = get_flat_table_rows(conn.sql(\"\"\"\n",
    "    SELECT DISTINCT(DataValueType, DataValueTypeID)\n",
    "    FROM DataValueType\n",
    "\"\"\").fetchall())\n",
    "dvt"
   ]
  },
  {
   "cell_type": "markdown",
   "id": "e6a62f48",
   "metadata": {},
   "source": [
    "# unique questions under each unique topic"
   ]
  },
  {
   "cell_type": "code",
   "execution_count": 9,
   "id": "c6e5d933",
   "metadata": {},
   "outputs": [
    {
     "name": "stdout",
     "output_type": "stream",
     "text": [
      "topic Cancer, questions: ['Papanicolaou smear use among adult women aged 21-65 years', 'Recent Papanicolaou smear use among women aged 21-44 years', 'Mammography use among women aged 50-74 years', 'Fecal occult blood test, sigmoidoscopy, or colonoscopy among adults aged 50-75 years', 'Invasive cancer of the prostate, incidence', 'Cancer of the colon and rectum (colorectal), incidence', 'Cancer of the oral cavity and pharynx, mortality', 'Invasive cancer of the oral cavity or pharynx, incidence', 'Cancer of the female breast, mortality', 'Melanoma, mortality', 'Cancer of the prostate, mortality', 'Invasive cancer (all sites combined), incidence', 'Cancer of the lung and bronchus, mortality', 'Invasive cancer of the female breast, incidence', 'Cancer of the lung and bronchus, incidence', 'Cancer of the colon and rectum (colorectal), mortality', 'Invasive melanoma, incidence', 'Invasive cancer (all sites combined), mortality', 'Invasive cancer of the cervix, incidence', 'Cancer of the female cervix, mortality']\n",
      "\n",
      "topic Mental Health, questions: ['Recent mentally unhealthy days among adults aged >= 18 years', 'At least 14 recent mentally unhealthy days among women aged 18-44 years', 'Postpartum depressive symptoms']\n",
      "\n",
      "topic Immunization, questions: ['Influenza vaccination among noninstitutionalized adults aged >= 18 years']\n",
      "\n",
      "topic Older Adults, questions: ['Proportion of older adults aged >= 65 years who are up to date on a core set of clinical preventive services', 'Prevalence of 2 or more chronic conditions among Medicare-enrolled persons aged >= 65 years', 'Hospitalization for hip fracture among Medicare-eligible persons aged >= 65 years', 'Proportion of older adults aged 50-64 years who are up to date on a core set of clinical preventive services']\n",
      "\n",
      "topic Cardiovascular Disease, questions: ['Awareness of high blood pressure among adults aged >= 18 years', 'Pneumococcal vaccination among noninstitutionalized adults aged >= 65 years with a history of coronary heart disease', 'Hospitalization for heart failure among Medicare-eligible persons aged >= 65 years', 'Cholesterol screening among adults aged >= 18 years', 'Taking medicine for high blood pressure control among adults aged >= 18 years with high blood pressure', 'High cholesterol prevalence among adults aged >= 18 years', 'Influenza vaccination among noninstitutionalized adults aged >= 65 years with a history of coronary heart disease or stroke', 'Pneumococcal vaccination among noninstitutionalized adults aged 18-64 years with a history of coronary heart disease', 'Awareness of high blood pressure among women aged 18-44 years', 'Influenza vaccination among noninstitutionalized adults aged 18-64 years with a history of coronary heart disease or stroke', 'Hospitalization for acute myocardial infarction', 'Mortality from coronary heart disease', 'Hospitalization for stroke', 'Mortality from total cardiovascular diseases', 'Mortality from cerebrovascular disease (stroke)', 'Mortality from diseases of the heart', 'Mortality from heart failure', 'Pre-pregnancy hypertension']\n",
      "\n",
      "topic Arthritis, questions: ['Arthritis among adults aged >= 18 years', 'Arthritis among adults aged >= 18 years who have diabetes', 'Work limitation due to arthritis among adults aged 18-64 years who have doctor-diagnosed arthritis', 'Activity limitation due to arthritis among adults aged >= 18 years who have doctor-diagnosed arthritis', 'Fair or poor health among adults aged >= 18 years with arthritis', 'Physical inactivity among adults aged >= 18 years with arthritis', 'Arthritis among adults aged >= 18 years who are obese', 'Severe joint pain due to arthritis among adults aged >= 18 years who have doctor-diagnosed arthritis', 'Adults aged >= 18 years with arthritis who have taken a class to learn how to manage arthritis symptoms', 'Arthritis among adults aged >= 18 years who have heart disease']\n",
      "\n",
      "topic Nutrition, Physical Activity, and Weight Status, questions: ['Overweight or obesity among women aged 18-44 years', 'Median daily frequency of fruit consumption among high school students', 'Median daily frequency of vegetable consumption among adults aged >= 18 years', 'Meeting aerobic physical activity guidelines for additional and more extensive health benefits among adults aged >= 18 years', 'Overweight or obesity among adults aged >= 18 years', 'Soda consumption among high school students', 'Median daily frequency of fruit consumption among adults aged >= 18 years', 'Healthy weight among adults aged >= 18 years', 'Participation in daily school physical education classes among high school students', 'No leisure-time physical activity among adults aged >= 18 years', 'Obesity among high school students', 'Television viewing among high school students', 'Computer use among high school students', 'Overweight or obesity among high school students', 'Secondary schools that allow community-sponsored use of physical activity facilities by youth outside of normal school hours', 'Obesity among adults aged >= 18 years', 'Meeting aerobic physical activity guidelines for substantial health benefits and for muscle-strengthening activity among adults aged >= 18 years', 'Healthy weight among high school students', 'Median daily frequency of vegetable consumption among high school students', 'Meeting aerobic physical activity guidelines among high school students', 'Meeting aerobic physical activity guidelines for substantial health benefits among adults aged >= 18 years', 'Infants breastfed at 6 months', 'Number of farmers markets per 100,000 residents', 'Farmers markets that accept Supplemental Nutrition Assistance Program (SNAP) benefits', 'Mean maternity practices in infant nutrition care (mPINC) score', 'Secondary schools that offer less healthy foods as competitive foods', 'Secondary schools that allow students to purchase sports drinks', 'Live births occurring at Baby Friendly Facilities', 'Census tracts with healthier food retailers within � mile of boundary', 'Receiving formula supplementation within the first 2 days of life among breastfed infants', 'Secondary schools that allow students to purchase soda or fruit drinks', 'Farmers markets that accept Women and Infant Children (WIC) farmers market nutrition program coupons']\n",
      "\n",
      "topic Chronic Kidney Disease, questions: ['Prevalence of chronic kidney disease among adults aged >= 18 years', 'Mortality with end-stage renal disease', 'Incidence of treated end-stage renal disease attributed to diabetes', 'Incidence of treated end-stage renal disease']\n",
      "\n",
      "topic Asthma, questions: ['Influenza vaccination among noninstitutionalized adults aged >= 65 years with asthma', 'Pneumococcal vaccination among noninstitutionalized adults aged >= 65 years with asthma', 'Asthma prevalence among women aged 18-44 years', 'Current asthma prevalence among adults aged >= 18 years', 'Pneumococcal vaccination among noninstitutionalized adults aged 18-64 years with asthma', 'Influenza vaccination among noninstitutionalized adults aged 18-64 years with asthma', 'Asthma mortality rate', 'Hospitalizations for asthma', 'Emergency department visit rate for asthma']\n",
      "\n",
      "topic Disability, questions: ['Disability among adults aged >= 65 years']\n",
      "\n",
      "topic Tobacco, questions: ['Current cigarette smoking among youth', 'Current cigarette smoking among women aged 18-44 years', 'Current smoking among adults aged >= 18 years', 'Pneumococcal vaccination among noninstitutionalized adults aged >= 65 years who smoke', 'Current smokeless tobacco use among adults aged >= 18 years', 'Current smokeless tobacco use among youth', 'Pneumococcal vaccination among noninstitutionalized adults aged 18-64 years who smoke', 'Proportion of the population protected by a comprehensive smoke-free policy prohibiting smoking in all indoor areas of workplaces and public places, including restaurants and bars', 'Quit attempts in the past year among current smokers', 'Secondary schools that have a comprehensive tobacco-free school policy in place', 'Sale of cigarette packs', 'Cigarette smoking before pregnancy', 'Percent tobacco revenue to fund at CDC recommended level']\n",
      "\n",
      "topic Diabetes, questions: ['Dilated eye examination among adults aged >= 18 years with diagnosed diabetes', 'Prevalence of depressive disorders among adults aged >= 18 years with diagnosed diabetes', 'Pneumococcal vaccination among noninstitutionalized adults aged >= 65 years with diagnosed diabetes', 'Diabetes prevalence among women aged 18-44 years', 'Influenza vaccination among noninstitutionalized adults aged 18-64 years with diagnosed diabetes', 'Pneumococcal vaccination among noninstitutionalized adults aged 18-64 years with diagnosed diabetes', 'Prevalence of high blood pressure among adults aged >= 18 years with diagnosed diabetes', 'Adults with diagnosed diabetes aged >= 18 years who have taken a diabetes self-management course', 'Foot examination among adults aged >= 18 years with diagnosed diabetes', 'Visits to dentist or dental clinic among adults aged >= 18 years with diagnosed diabetes', 'Influenza vaccination among noninstitutionalized adults aged >= 65 years with diagnosed diabetes', 'Glycosylated hemoglobin measurement among adults aged >= 18 years with diagnosed diabetes', 'Prevalence of high cholesterol among adults aged >= 18 years with diagnosed diabetes', 'Prevalence of diagnosed diabetes among adults aged >= 18 years', 'Amputation of a lower extremity attributable to diabetes', 'Hospitalization with diabetes as a listed diagnosis', 'Prevalence of pre-pregnancy diabetes', 'Mortality due to diabetes reported as any listed cause of death', 'Mortality with diabetic ketoacidosis reported as any listed cause of death', 'Prevalence of gestational diabetes']\n",
      "\n",
      "topic Oral Health, questions: ['Dental visits among children and adolescents aged 1-17 years', 'Visits to dentist or dental clinic among adults aged >= 18 years', 'Six or more teeth lost among adults aged >= 65 years', 'No tooth loss among adults aged 18-64 years', 'All teeth lost among adults aged >= 65 years', 'Preventive dental visits among children and adolescents aged 1-17 years', 'Oral health services at Federally Qualified Health Centers', 'Population served by community water systems that receive fluoridated drinking water', 'Preventive dental care before pregnancy']\n",
      "\n",
      "topic Overarching Conditions, questions: ['Self-rated health status among women aged 18-44 years', 'Premature mortality among adults aged 45-64 years', 'Recent activity limitation among adults aged >= 18 years', 'Prevalence of sufficient sleep among adults aged >= 18 years', 'Fair or poor self-rated health status among adults aged >= 18 years', 'Current lack of health insurance among adults aged 18-64 years', 'High school completion among women aged 18-44 years', 'Current health care coverage among women aged 18-44 years', 'High school completion among adults aged 18-24 years', 'Recent physically unhealthy days among adults aged >= 18 years', 'Poverty among women aged 18-44 years', 'Poverty', 'Life expectancy at birth', 'Health insurance coverage before pregnancy', 'Life expectancy at age 65 years']\n",
      "\n",
      "topic Alcohol, questions: ['Binge drinking intensity among adults aged >= 18 years who binge drink', 'Heavy drinking among women aged 18-44 years', 'Per capita alcohol consumption among persons aged >= 14 years', 'Binge drinking prevalence among women aged 18-44 years', 'Heavy drinking among adults aged >= 18 years', 'Alcohol use among youth', 'Binge drinking prevalence among adults aged >= 18 years', 'Binge drinking frequency among adults aged >= 18 years who binge drink', 'Binge drinking prevalence among youth', 'Amount of alcohol excise tax by beverage type (distilled spirits)', 'Amount of alcohol excise tax by beverage type (wine)', 'Alcohol use before pregnancy', 'Amount of alcohol excise tax by beverage type (beer)', 'Chronic liver disease mortality']\n",
      "\n",
      "topic Reproductive Health, questions: ['Timeliness of routine health care checkup among women aged 18-44 years', 'Postpartum checkup', 'Folic acid supplementation']\n",
      "\n",
      "topic Chronic Obstructive Pulmonary Disease, questions: ['Hospitalization for chronic obstructive pulmonary disease as first-listed diagnosis among Medicare-eligible persons aged >= 65 years', 'Mortality with chronic obstructive pulmonary disease as underlying cause among adults aged >= 45 years', 'Hospitalization for chronic obstructive pulmonary disease as any diagnosis among Medicare-eligible persons aged >= 65 years', 'Mortality with chronic obstructive pulmonary disease as underlying or contributing cause among adults aged >= 45 years', 'Influenza vaccination among noninstitutionalized adults aged >= 45 years with chronic obstructive pulmonary disease', 'Pneumococcal vaccination among noninstitutionalized adults aged >= 45 years with chronic obstructive pulmonary disease', 'Prevalence of chronic obstructive pulmonary disease among adults >= 18', 'Prevalence of current smoking among adults >= 45 years with diagnosed chronic obstructive pulmonary disease', 'Prevalence of current smoking among adults >= 18 with diagnosed chronic obstructive pulmonary disease', 'Hospitalization for chronic obstructive pulmonary disease as first-listed diagnosis', 'Hospitalization for chronic obstructive pulmonary disease as any diagnosis', 'Emergency department visit rate for chronic obstructive pulmonary disease as any diagnosis', 'Prevalence of activity limitation among adults >= 45 years with diagnosed chronic obstructive pulmonary disease', 'Prevalence of activity limitation among adults >= 18 with diagnosed chronic obstructive pulmonary disease', 'Prevalence of chronic obstructive pulmonary disease among adults >= 45 years', 'Emergency department visit rate for chronic obstructive pulmonary disease as first-listed diagnosis']\n",
      "\n"
     ]
    }
   ],
   "source": [
    "for id, topic in topic_id:\n",
    "    topic_id_questions = get_flat_table_rows(conn.sql(f\"\"\"\n",
    "        SELECT Question\n",
    "        FROM Question\n",
    "        WHERE TopicID = '{id}'\n",
    "    \"\"\").fetchall())\n",
    "    print(f\"topic {topic}, questions: {topic_id_questions}\\n\")"
   ]
  },
  {
   "cell_type": "markdown",
   "id": "b4e42ff4",
   "metadata": {},
   "source": [
    "# Unique combinations of datavaluetype and datavalueunit"
   ]
  },
  {
   "cell_type": "code",
   "execution_count": 10,
   "id": "49487f3b",
   "metadata": {},
   "outputs": [],
   "source": [
    "dvt_dvu_pairs = conn.sql(f\"\"\"\n",
    "    SELECT max(cdi.DataValueUnit), MAX(dvt.DataValueType)\n",
    "    FROM CDI cdi\n",
    "    LEFT JOIN DataValueType dvt\n",
    "    ON cdi.DataValueTypeID = dvt.DataValueTypeID\n",
    "    GROUP BY cdi.DataValueTypeID, cdi.DataValueUnit                                   \n",
    "\"\"\")"
   ]
  },
  {
   "cell_type": "code",
   "execution_count": 11,
   "id": "04745a92",
   "metadata": {},
   "outputs": [
    {
     "data": {
      "text/plain": [
       "[('$', 'US Dollars'),\n",
       " ('%', 'Age-adjusted Prevalence'),\n",
       " ('%', 'Percent'),\n",
       " ('%', 'Prevalence'),\n",
       " ('%', 'Crude Prevalence'),\n",
       " ('Number', 'Median'),\n",
       " ('Number', 'Number'),\n",
       " ('Number', 'Age-adjusted Mean'),\n",
       " ('Number', 'Mean'),\n",
       " ('Years', 'Number'),\n",
       " ('cases per 1,000', 'Crude Rate'),\n",
       " ('cases per 1,000', 'Age-adjusted Rate'),\n",
       " ('cases per 1,000,000', 'Number'),\n",
       " ('cases per 1,000,000', 'Age-adjusted Rate'),\n",
       " ('cases per 1,000,000', 'Adjusted by age, sex, race and ethnicity'),\n",
       " ('cases per 1,000,000', 'Crude Rate'),\n",
       " ('cases per 10,000', 'Crude Rate'),\n",
       " ('cases per 10,000', 'Age-adjusted Rate'),\n",
       " ('cases per 100,000', 'Crude Rate'),\n",
       " ('cases per 100,000', 'Age-adjusted Rate'),\n",
       " ('cases per 100,000', 'Average Annual Age-adjusted Rate'),\n",
       " ('cases per 100,000', 'Number'),\n",
       " ('cases per 100,000', 'Average Annual Crude Rate'),\n",
       " ('gallons', 'Per capita alcohol consumption'),\n",
       " ('pack sales per capita', 'Number')]"
      ]
     },
     "execution_count": 11,
     "metadata": {},
     "output_type": "execute_result"
    }
   ],
   "source": [
    "sorted(dvt_dvu_pairs.fetchall(), key=lambda value: value[0])"
   ]
  },
  {
   "cell_type": "markdown",
   "id": "4088a551",
   "metadata": {},
   "source": [
    "# What we have to do here now is to identify which questions are more likely to make use of the population values from the Population table we've just calculated and from there "
   ]
  },
  {
   "cell_type": "markdown",
   "id": "1716c249",
   "metadata": {},
   "source": [
    "## Alcohol use among youth"
   ]
  },
  {
   "cell_type": "markdown",
   "id": "08ad9dbf",
   "metadata": {},
   "source": [
    "![intial powerbi analyses (1).png](./figures%20&%20images/intial%20powerbi%20analyses%20(1).png)"
   ]
  },
  {
   "cell_type": "markdown",
   "id": "f0699485",
   "metadata": {},
   "source": [
    "it seems that `alcohol use among youth` question is something that can't make use of the `Population` table at first glance as what is measured here is alcohol use. But if we look closely the data value can't exactly say for sure whether alcohol amount is used e.g. 3.6% isn't exactly a measurement of alcohol amount but more likely a percentage of population namely the youth using alcohol"
   ]
  },
  {
   "cell_type": "markdown",
   "id": "179bf492",
   "metadata": {},
   "source": [
    "![intial powerbi analyses (2).png](./figures%20&%20images/intial%20powerbi%20analyses%20(2).png)"
   ]
  },
  {
   "cell_type": "markdown",
   "id": "b0799c75",
   "metadata": {},
   "source": [
    "We also have other information like the datavaluetype used for the question. This is basically how PowerBI works when we put a slicer in our workspace we essentially get the unique values a unique value can take in, in this case a topic of `alcohol` has its unique questions like `alcohol use among youth` and then under it it has the unique `datavaluetype's` it uses like `crude prevalence`, and we know `crude prevalence` has exactly one corresponding `datavalueunit` which is the `%` symbol"
   ]
  },
  {
   "cell_type": "markdown",
   "id": "64cd0c1f",
   "metadata": {},
   "source": [
    "because this question can make use of the `Population` table we can calculate the population of youth using alcohol. $\\frac{datavalue}{100} \\cdot youth\\_population$"
   ]
  },
  {
   "cell_type": "markdown",
   "id": "ebcdf184",
   "metadata": {},
   "source": [
    "## amount of alcohol excise tax by beverage type (beer)"
   ]
  },
  {
   "cell_type": "markdown",
   "id": "953f1f07",
   "metadata": {},
   "source": [
    "![](./figures%20&%20images/intial%20powerbi%20analyses%20(4).png)"
   ]
  },
  {
   "cell_type": "markdown",
   "id": "5d585a01",
   "metadata": {},
   "source": [
    "in this case `amount of alcohol excise tax by beverage type (beer)` can't make use of the Population table as what is measured here is `amount of alcohol excise tax`"
   ]
  },
  {
   "cell_type": "markdown",
   "id": "2827b1d0",
   "metadata": {},
   "source": [
    "![](./figures%20&%20images/intial%20powerbi%20analyses%20(3).png)"
   ]
  },
  {
   "cell_type": "markdown",
   "id": "4efa9dcb",
   "metadata": {},
   "source": [
    "calculation will be made here and the `datavalue` alone would just be used. "
   ]
  },
  {
   "cell_type": "markdown",
   "id": "8b54ac0b",
   "metadata": {},
   "source": [
    "## binge drinking frequency among adults aged >= 18 years who binge drink"
   ]
  },
  {
   "cell_type": "markdown",
   "id": "3e0863ad",
   "metadata": {},
   "source": [
    "![](./figures%20&%20images/intial%20powerbi%20analyses%20(5).png)"
   ]
  },
  {
   "cell_type": "markdown",
   "id": "00673ff5",
   "metadata": {},
   "source": [
    "it seems that `binge drinking frequency among adults aged >= 18 years who binge drink` question is something that can't make use of the `Population` table as is only specific to the population of those 18+ **who binge drink**. To get a tangible number namely the drinking frequency of these people aged 18+ who binge drink, we need to get the prevalence of these people aged 18+ who indeed binge drink, which we know can be derived from other questions namely `binge drinking prevalence among adults aged >= 18 years` and then from there multiply it by the binge drinking frequency, since it is assumed that each person that binge drinks has this frequency."
   ]
  },
  {
   "cell_type": "markdown",
   "id": "505e0d08",
   "metadata": {},
   "source": [
    "![](./figures%20&%20images/intial%20powerbi%20analyses%20(6).png)"
   ]
  },
  {
   "cell_type": "markdown",
   "id": "085cf960",
   "metadata": {},
   "source": [
    "calculation would be $prevalence\\_of\\_binge\\_drinkers\\_aged\\_18+ \\cdot datavalue$ but since we don't have prevalence of binge drinkers aged 18+ until we further calculate it the alternative calculation would be $mean\\_binge\\_drinking\\_frequency\\_among\\_adults\\_aged\\_18+\\_who\\_binge\\_drink$, since its datavalueunit is just Number meaning this number as it is will be the representation of this indicator"
   ]
  },
  {
   "cell_type": "markdown",
   "id": "6b531726",
   "metadata": {},
   "source": [
    "## binge drinking prevalence among adults aged >=  18 years"
   ]
  },
  {
   "cell_type": "markdown",
   "id": "3488c5d4",
   "metadata": {},
   "source": [
    "![](./figures%20&%20images/intial%20powerbi%20analyses%20(7).png)"
   ]
  },
  {
   "cell_type": "markdown",
   "id": "6d786b2c",
   "metadata": {},
   "source": [
    "here `binge drinking prevalence among adults aged 18+` can make use of the `Population` table since the only demographic being focused on are adults aged 18+"
   ]
  },
  {
   "cell_type": "markdown",
   "id": "75f30cf5",
   "metadata": {},
   "source": [
    "![](./figures%20&%20images/intial%20powerbi%20analyses%20(8).png)"
   ]
  },
  {
   "cell_type": "markdown",
   "id": "06677152",
   "metadata": {},
   "source": [
    "we can calculate the number of cases or the so called prevalence of these adults aged 18+ that have binge drinking by $ \\frac{datavalue}{100} \\cdot population\\_of\\_adults\\_aged\\_18+$"
   ]
  },
  {
   "cell_type": "markdown",
   "id": "ab309490",
   "metadata": {},
   "source": [
    "## chronic liver disease mortality"
   ]
  },
  {
   "cell_type": "markdown",
   "id": "49a51bba",
   "metadata": {},
   "source": [
    "![](./figures%20&%20images/intial%20powerbi%20analyses%20(9).png)"
   ]
  },
  {
   "cell_type": "markdown",
   "id": "615b635f",
   "metadata": {},
   "source": [
    "There is not explicit age group listed in the question of `chronic liver disease mortality` so it is assumed that persons of all age groups will be in this pool, so we look to the stratification details of this data point. But because through secondary SQL transformation we have already created the table containing the `Population` table values based on age, sex, race, origin, state, and year. Again we can make use of the `Population` table here as we and calculate a tangible number pertaining not to the prevalence of a chronic disease indicator but the mortality rate of those having chronic disease.\n",
    "\n",
    "Again like previous questions each data point has its stratification which we need to take into account and we had taken into account during the creation of the `Population` table, all we have to do now is do calculations to this specific `Population` value coupled with the given `datavalue`"
   ]
  },
  {
   "cell_type": "markdown",
   "id": "3ce07988",
   "metadata": {},
   "source": [
    "![](./figures%20&%20images/intial%20powerbi%20analyses%20(10).png)"
   ]
  },
  {
   "cell_type": "markdown",
   "id": "00760f72",
   "metadata": {},
   "source": [
    "however we are looking now at the rate and we know for `datavaluetype`s of Age-Adjusted Rate and Crude Rate, these don't use `datavalueunit`s of % or percentages, where we can use our `datavalue` and divide it by mere 100. Since age-adjusted rate and crude rate vary in `datavalueunit`s namely cases per 1000, cases per 10000, cases per 100000, and cases per 1000000, we will have to conditionally change our denominator that our datavalue will divide to based on these `datavalueunit`s \n",
    "\n",
    "in this question the datavalueunit is not % but cases per 100000, so we should use 100000 as the denominator. Final calculation would be $\\frac{datavalue}{100000} \\cdot population\\_value(considering age, state, year, sex, race, ethnicity)$ "
   ]
  },
  {
   "cell_type": "markdown",
   "id": "748df09d",
   "metadata": {},
   "source": [
    "## Per capita alcohol consumption among persons aged >= 14 years "
   ]
  },
  {
   "cell_type": "markdown",
   "id": "5bb04afc",
   "metadata": {},
   "source": [
    "![](./figures%20&%20images/intial%20powerbi%20analyses%20(11).png)"
   ]
  },
  {
   "cell_type": "markdown",
   "id": "8e02d0d0",
   "metadata": {},
   "source": [
    "Again this wouldn't make sense for us to use the population value of those persons aged 14+ to calculate the number of cases of something as its not really the cases being measured here but the per capita alcohol consumption, but we can still make use of the `Population` table value for this data point in order to get the total amount of alcohol consumed by the whole population for this demographic of 14+ "
   ]
  },
  {
   "cell_type": "markdown",
   "id": "537c7929",
   "metadata": {},
   "source": [
    "![](./figures%20&%20images/intial%20powerbi%20analyses%20(12).png)"
   ]
  },
  {
   "cell_type": "markdown",
   "id": "d141259c",
   "metadata": {},
   "source": [
    "To get the total number of \"pack sales\" for this population, you would multiply the per capita consumption by the total population: $Per Capita Alcohol Consumption (DataValue) * Total Population (>= 14 years)$"
   ]
  },
  {
   "cell_type": "markdown",
   "id": "9bc9fa46",
   "metadata": {},
   "source": [
    "## We can actually do this in SQL instead of doing it in powerbi"
   ]
  },
  {
   "cell_type": "markdown",
   "id": "06dc7959",
   "metadata": {},
   "source": [
    "* '$', 'US Dollars', 'USD': $datavalue$\n",
    "* '%', 'Age-adjusted Prevalence', 'AGEADJPREV': $\\frac{datavalue}{100} \\cdot populationvalue$\n",
    "* '%', 'Crude Prevalence', 'CRDPREV': $\\frac{datavalue}{100} \\cdot populationvalue$\n",
    "* '%', 'Percent', 'PRCT': $\\frac{datavalue}{100} \\cdot populationvalue$\n",
    "* '%', 'Prevalence', 'PREV': $\\frac{datavalue}{100} \\cdot populationvalue$\n",
    "-----\n",
    "* 'Number', 'Median', 'MEDIAN': $datavalue$\n",
    "* 'Number', 'Age-adjusted Mean', 'AGEADJMEAN': $datavalue$ \n",
    "* 'Number', 'Mean', 'MEAN': $datavalue$\n",
    "* 'Number', 'Number', 'NMBR': $datavalue$\n",
    "* 'Years', 'Number', 'NMBR': $datavalue$\n",
    "-----\n",
    "* 'cases per 1,000', 'Crude Rate', 'CRDRATE': $\\frac{datavalue}{1000} \\cdot populationvalue$\n",
    "* 'cases per 1,000', 'Age-adjusted Rate', 'AGEADJRATE': $\\frac{datavalue}{1000} \\cdot populationvalue$\n",
    "-----\n",
    "* 'cases per 1,000,000', 'Number', 'NMBR': \n",
    "* 'cases per 1,000,000', 'Age-adjusted Rate', 'AGEADJRATE': $\\frac{datavalue}{1000000} \\cdot populationvalue$\n",
    "* 'cases per 1,000,000', 'Adjusted by age, sex, race and ethnicity', 'AGESEXRACEADJRATE': $\\frac{datavalue}{1000000} \\cdot populationvalue$\n",
    "* 'cases per 1,000,000', 'Crude Rate', 'CRDRATE': $\\frac{datavalue}{1000000} \\cdot populationvalue$\n",
    "-----\n",
    "* 'cases per 10,000', 'Crude Rate', 'CRDRATE': $\\frac{datavalue}{10000} \\cdot populationvalue$\n",
    "* 'cases per 10,000', 'Age-adjusted Rate', 'AGEADJRATE': $\\frac{datavalue}{10000} \\cdot populationvalue$\n",
    "-----\n",
    "* 'cases per 100,000', 'Average Annual Crude Rate', 'AVGANNCRDRATE': $\\frac{datavalue}{100000} \\cdot populationvalue$\n",
    "* 'cases per 100,000', 'Crude Rate', 'CRDRATE': $\\frac{datavalue}{100000} \\cdot populationvalue$\n",
    "* 'cases per 100,000', 'Age-adjusted Rate', 'AGEADJRATE': $\\frac{datavalue}{100000} \\cdot populationvalue$\n",
    "* 'cases per 100,000', 'Average Annual Age-adjusted Rate', 'AVGANNAGEADJRATE: $\\frac{datavalue}{100000} \\cdot populationvalue$\n",
    "* 'cases per 100,000', 'Number', 'NMBR':\n",
    "-----\n",
    "* 'gallons', 'Per capita alcohol consumption', 'PERCAPALC': \n",
    "* 'pack sales per capita', 'Number', 'NMBR': depends on question if what is measured can make use of the number of cases of people having the CDI"
   ]
  },
  {
   "cell_type": "markdown",
   "id": "6b06e0e9",
   "metadata": {},
   "source": [
    "# Asking questions"
   ]
  },
  {
   "cell_type": "markdown",
   "id": "39dddbfc",
   "metadata": {},
   "source": [
    "## 1. What is the prevalence of alcohol use among youth (male and female) in listed year ranges?"
   ]
  },
  {
   "cell_type": "markdown",
   "id": "983d5393",
   "metadata": {},
   "source": [
    "![](./figures%20&%20images/initial%20analyses%20powerbi%20(2).png)"
   ]
  },
  {
   "cell_type": "markdown",
   "id": "d37ca091",
   "metadata": {},
   "source": [
    "![](./figures%20&%20images/initial%20analyses%20powerbi.png)"
   ]
  },
  {
   "cell_type": "markdown",
   "id": "ea9ddee2",
   "metadata": {},
   "source": [
    "what we want to do now is to filter the chronic disease table into the `alcohol use among youth` question, with the stratification across hispanic and non hispanic, female and male, and all races"
   ]
  },
  {
   "cell_type": "markdown",
   "id": "fe586f18",
   "metadata": {},
   "source": [
    "we have this slicer here and it basically filters everything in the CDI table that has the alcohol use among youth question and so we want to calculate some sort of average of alcohol use among youth or any kind of calculation with the table resulting from the slicer filtering this question. Question is how can we use this calculated table visual to make aggregations to it and using some kind of DAX/SQL to queery from this table?"
   ]
  },
  {
   "cell_type": "markdown",
   "id": "40dcf8a0",
   "metadata": {},
   "source": [
    "**DAX query** to create the column `TotalEvents` representing the tangible number of a chronic disease indicator:\n",
    "```\n",
    "TotalEvents = SWITCH(\n",
    "    TRUE(),\n",
    "    'chronic_disease_analyses_db   main   CDI'[DataValueTypeID] IN {\"USD\", \"MEDIAN\", \"AGEADJMEAN\", \"NMBR\", \"MEAN\"},\n",
    "    'chronic_disease_analyses_db   main   CDI'[DataValue],\n",
    "\n",
    "    'chronic_disease_analyses_db   main   CDI'[DataValueTypeID] IN {\"AGEADJPREV\", \"CRDPREV\", \"PRCT\", \"PREV\"} && 'chronic_disease_analyses_db   main   CDI'[DataValueUnit] = \"%\",\n",
    "    ('chronic_disease_analyses_db   main   CDI'[DataValue] / 100) * RELATED('chronic_disease_analyses_db   main   CalculatedPopulation'[Population]),\n",
    "\n",
    "    'chronic_disease_analyses_db   main   CDI'[DataValueTypeID] IN {\"CRDRATE\", \"AGEADJRATE\"} && 'chronic_disease_analyses_db   main   CDI'[DataValueUnit] = \"cases per 1,000\",\n",
    "    ('chronic_disease_analyses_db   main   CDI'[DataValue] / 1000) * RELATED('chronic_disease_analyses_db   main   CalculatedPopulation'[Population]),\n",
    "\n",
    "    'chronic_disease_analyses_db   main   CDI'[DataValueTypeID] IN {\"CRDRATE\", \"AGEADJRATE\"} && 'chronic_disease_analyses_db   main   CDI'[DataValueUnit] = \"cases per 10,000\",\n",
    "    ('chronic_disease_analyses_db   main   CDI'[DataValue] / 10000) * RELATED('chronic_disease_analyses_db   main   CalculatedPopulation'[Population]),\n",
    "\n",
    "    'chronic_disease_analyses_db   main   CDI'[DataValueTypeID] IN {\"CRDRATE\", \"AGEADJRATE\", \"AVGANNCRDRATE\", \"AVGANNAGEADJRATE\"} && 'chronic_disease_analyses_db   main   CDI'[DataValueUnit] = \"cases per 100,000\",\n",
    "    ('chronic_disease_analyses_db   main   CDI'[DataValue] / 100000) * RELATED('chronic_disease_analyses_db   main   CalculatedPopulation'[Population]),\n",
    "\n",
    "    'chronic_disease_analyses_db   main   CDI'[DataValueTypeID] IN {\"CRDRATE\", \"AGEADJRATE\", \"AGESEXRACEADJRATE\"} && 'chronic_disease_analyses_db   main   CDI'[DataValueUnit] = \"cases per 1,000,000\",\n",
    "    ('chronic_disease_analyses_db   main   CDI'[DataValue] / 1000000) * RELATED('chronic_disease_analyses_db   main   CalculatedPopulation'[Population]),\n",
    "\n",
    "    'chronic_disease_analyses_db   main   CDI'[DataValueTypeID] IN {\"PERCAPALC\"} && 'chronic_disease_analyses_db   main   CDI'[DataValueUnit] = \"gallons\",\n",
    "    'chronic_disease_analyses_db   main   CDI'[DataValue] * RELATED('chronic_disease_analyses_db   main   CalculatedPopulation'[Population])\n",
    ")\n",
    "```"
   ]
  },
  {
   "cell_type": "markdown",
   "id": "27bcfbe4",
   "metadata": {},
   "source": [
    "Now that we have the `TotalEvents` column we can use it in a visual that shows the top states in a specific year range that has the most youth population estimates using alcohol"
   ]
  },
  {
   "cell_type": "markdown",
   "id": "183b29ac",
   "metadata": {},
   "source": [
    "![](./figures%20&%20images/initial%20analyses%20powerbi%20(4).png)"
   ]
  },
  {
   "cell_type": "markdown",
   "id": "0400e30c",
   "metadata": {},
   "source": [
    "this answers our question above in multiple ways\n",
    "- the states with the most estimated youth populations recorded in 2013 using alcohol were in Texas, New York, Florida, Illinois, and Ohio\n",
    "- the states with the most estimated youth populations recorded in 2015 using alcohol were in California, Florida, New York, Illinois, and Pennsylvania\n",
    "- the states with the most estimated youth populations recorded in 2017 using alcohol were in California, Texas, New York, Florida, and Pennsylvania\n",
    "- the states with the most estimated youth populations recorded in 2019 using alcohol were in California, Texas, New York, Florida, and Illinois"
   ]
  },
  {
   "cell_type": "markdown",
   "id": "23221755",
   "metadata": {},
   "source": [
    "# 2. "
   ]
  }
 ],
 "metadata": {
  "kernelspec": {
   "display_name": "tech-interview",
   "language": "python",
   "name": "python3"
  },
  "language_info": {
   "codemirror_mode": {
    "name": "ipython",
    "version": 3
   },
   "file_extension": ".py",
   "mimetype": "text/x-python",
   "name": "python",
   "nbconvert_exporter": "python",
   "pygments_lexer": "ipython3",
   "version": "3.11.8"
  }
 },
 "nbformat": 4,
 "nbformat_minor": 5
}
