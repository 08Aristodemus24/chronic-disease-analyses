{
 "cells": [
  {
   "cell_type": "markdown",
   "id": "bde2ade4",
   "metadata": {},
   "source": [
    "# Now that all necessary data have now been extracted, transformed, and dumped to parquet files we can start doing our analyses by reading these parquet files as tables with duckdb (an in process OLAP) and then use these tables to make our transformations and draw insights"
   ]
  },
  {
   "cell_type": "code",
   "execution_count": 11,
   "id": "73652265",
   "metadata": {},
   "outputs": [
    {
     "name": "stdout",
     "output_type": "stream",
     "text": [
      "The autoreload extension is already loaded. To reload it, use:\n",
      "  %reload_ext autoreload\n"
     ]
    }
   ],
   "source": [
    "import duckdb\n",
    "\n",
    "%load_ext autoreload\n",
    "%autoreload 2"
   ]
  },
  {
   "cell_type": "markdown",
   "id": "5ebc23d8",
   "metadata": {},
   "source": [
    "# loading transformed population tables"
   ]
  },
  {
   "cell_type": "code",
   "execution_count": 12,
   "id": "adeb3ac0",
   "metadata": {},
   "outputs": [],
   "source": [
    "us_populations_per_state_file_names = ['./data/population-data-transformed/us_populations_per_state.parquet/*.parquet']"
   ]
  },
  {
   "cell_type": "code",
   "execution_count": 13,
   "id": "0e66d8c4",
   "metadata": {},
   "outputs": [],
   "source": [
    "us_populations_per_state = duckdb.read_parquet(us_populations_per_state_file_names, union_by_name=True, filename=False)"
   ]
  },
  {
   "cell_type": "code",
   "execution_count": 14,
   "id": "e2e1e77a",
   "metadata": {},
   "outputs": [],
   "source": [
    "us_populations_per_state_by_sex_age_file_names = ['./data/population-data-transformed/us_populations_per_state_by_sex_age_2000_2009.parquet/*.parquet',\n",
    "    './data/population-data-transformed/us_populations_per_state_by_sex_age_2010_2019.parquet/*.parquet',\n",
    "    './data/population-data-transformed/us_populations_per_state_by_sex_age_2020_2023.parquet/*.parquet']"
   ]
  },
  {
   "cell_type": "code",
   "execution_count": 15,
   "id": "d312cd7d",
   "metadata": {},
   "outputs": [],
   "source": [
    "us_populations_per_state_by_sex_age = duckdb.read_parquet(us_populations_per_state_by_sex_age_file_names, union_by_name=True, filename=False)"
   ]
  },
  {
   "cell_type": "code",
   "execution_count": 16,
   "id": "c662d1e8",
   "metadata": {},
   "outputs": [],
   "source": [
    "us_populations_per_state_by_sex_race_ho_file_names = ['./data/population-data-transformed/us_populations_per_state_by_sex_race_ho_2000_2009.parquet/*.parquet',\n",
    "    './data/population-data-transformed/us_populations_per_state_by_sex_race_ho_2010_2019.parquet/*.parquet',\n",
    "    './data/population-data-transformed/us_populations_per_state_by_sex_race_ho_2020_2023.parquet/*.parquet']"
   ]
  },
  {
   "cell_type": "code",
   "execution_count": 17,
   "id": "d458336d",
   "metadata": {},
   "outputs": [],
   "source": [
    "us_populations_per_state_by_sex_race_ho = duckdb.read_parquet(us_populations_per_state_by_sex_race_ho_file_names, union_by_name=True, filename=False)"
   ]
  },
  {
   "cell_type": "code",
   "execution_count": null,
   "id": "062c8cc0",
   "metadata": {},
   "outputs": [
    {
     "data": {
      "text/plain": [
       "┌──────────────┐\n",
       "│ count_star() │\n",
       "│    int64     │\n",
       "├──────────────┤\n",
       "│        29376 │\n",
       "└──────────────┘"
      ]
     },
     "execution_count": 18,
     "metadata": {},
     "output_type": "execute_result"
    }
   ],
   "source": [
    "duckdb.sql(\"\"\"\n",
    "    SELECT COUNT(*)\n",
    "    FROM us_populations_per_state_by_sex_race_ho\n",
    "\"\"\")"
   ]
  },
  {
   "cell_type": "code",
   "execution_count": null,
   "id": "d991d32c",
   "metadata": {},
   "outputs": [
    {
     "data": {
      "text/plain": [
       "┌──────────────┐\n",
       "│ count_star() │\n",
       "│    int64     │\n",
       "├──────────────┤\n",
       "│       152388 │\n",
       "└──────────────┘"
      ]
     },
     "execution_count": 19,
     "metadata": {},
     "output_type": "execute_result"
    }
   ],
   "source": [
    "duckdb.sql(\"\"\"\n",
    "    SELECT COUNT(*)\n",
    "    FROM us_populations_per_state_by_sex_age\n",
    "\"\"\")"
   ]
  },
  {
   "cell_type": "code",
   "execution_count": null,
   "id": "0a9f884a",
   "metadata": {},
   "outputs": [
    {
     "data": {
      "text/plain": [
       "┌──────────────┐\n",
       "│ count_star() │\n",
       "│    int64     │\n",
       "├──────────────┤\n",
       "│         1071 │\n",
       "└──────────────┘"
      ]
     },
     "execution_count": 20,
     "metadata": {},
     "output_type": "execute_result"
    }
   ],
   "source": [
    "duckdb.sql(\"\"\"\n",
    "    SELECT COUNT(*)\n",
    "    FROM us_populations_per_state\n",
    "\"\"\")"
   ]
  },
  {
   "cell_type": "code",
   "execution_count": 21,
   "id": "673e38d1",
   "metadata": {},
   "outputs": [
    {
     "data": {
      "text/plain": [
       "┌────────────────┬───────┬────────────┬─────────┬──────────┬──────────┬────────┐\n",
       "│    Bracket     │ Year  │ Population │   Sex   │  State   │ AgeStart │ AgeEnd │\n",
       "│    varchar     │ int32 │   int64    │ varchar │ varchar  │  double  │ double │\n",
       "├────────────────┼───────┼────────────┼─────────┼──────────┼──────────┼────────┤\n",
       "│ under 5 years  │  2000 │     150609 │ Male    │ Alabama  │      0.0 │    5.0 │\n",
       "│ under 5 years  │  2001 │     151410 │ Male    │ Alabama  │      0.0 │    5.0 │\n",
       "│ under 5 years  │  2002 │     150856 │ Male    │ Alabama  │      0.0 │    5.0 │\n",
       "│ under 5 years  │  2003 │     150594 │ Male    │ Alabama  │      0.0 │    5.0 │\n",
       "│ under 5 years  │  2004 │     150699 │ Male    │ Alabama  │      0.0 │    5.0 │\n",
       "│ under 5 years  │  2005 │     150960 │ Male    │ Alabama  │      0.0 │    5.0 │\n",
       "│ under 5 years  │  2006 │     151442 │ Male    │ Alabama  │      0.0 │    5.0 │\n",
       "│ under 5 years  │  2007 │     153128 │ Male    │ Alabama  │      0.0 │    5.0 │\n",
       "│ under 5 years  │  2008 │     155061 │ Male    │ Alabama  │      0.0 │    5.0 │\n",
       "│ under 5 years  │  2009 │     155463 │ Male    │ Alabama  │      0.0 │    5.0 │\n",
       "│       ·        │    ·  │        ·   │  ·      │    ·     │       ·  │     ·  │\n",
       "│       ·        │    ·  │        ·   │  ·      │    ·     │       ·  │     ·  │\n",
       "│       ·        │    ·  │        ·   │  ·      │    ·     │       ·  │     ·  │\n",
       "│ 65 to 69 years │  2000 │      66501 │ Male    │ Kentucky │     65.0 │   69.0 │\n",
       "│ 65 to 69 years │  2001 │      67382 │ Male    │ Kentucky │     65.0 │   69.0 │\n",
       "│ 65 to 69 years │  2002 │      68023 │ Male    │ Kentucky │     65.0 │   69.0 │\n",
       "│ 65 to 69 years │  2003 │      69829 │ Male    │ Kentucky │     65.0 │   69.0 │\n",
       "│ 65 to 69 years │  2004 │      71802 │ Male    │ Kentucky │     65.0 │   69.0 │\n",
       "│ 65 to 69 years │  2005 │      73729 │ Male    │ Kentucky │     65.0 │   69.0 │\n",
       "│ 65 to 69 years │  2006 │      76169 │ Male    │ Kentucky │     65.0 │   69.0 │\n",
       "│ 65 to 69 years │  2007 │      79522 │ Male    │ Kentucky │     65.0 │   69.0 │\n",
       "│ 65 to 69 years │  2008 │      83315 │ Male    │ Kentucky │     65.0 │   69.0 │\n",
       "│ 65 to 69 years │  2009 │      85804 │ Male    │ Kentucky │     65.0 │   69.0 │\n",
       "├────────────────┴───────┴────────────┴─────────┴──────────┴──────────┴────────┤\n",
       "│ ? rows (>9999 rows, 20 shown)                                      7 columns │\n",
       "└──────────────────────────────────────────────────────────────────────────────┘"
      ]
     },
     "execution_count": 21,
     "metadata": {},
     "output_type": "execute_result"
    }
   ],
   "source": [
    "duckdb.sql(\"\"\"\n",
    "    SELECT *\n",
    "    FROM us_populations_per_state_by_sex_age\n",
    "\"\"\")"
   ]
  },
  {
   "cell_type": "code",
   "execution_count": 23,
   "id": "8e41c971",
   "metadata": {},
   "outputs": [
    {
     "data": {
      "text/plain": [
       "┌───────────┬──────────────┬─────────┬───────┬────────────┬──────────────┐\n",
       "│ Ethnicity │    Origin    │   Sex   │ Year  │ Population │    State     │\n",
       "│  varchar  │   varchar    │ varchar │ int32 │   int64    │   varchar    │\n",
       "├───────────┼──────────────┼─────────┼───────┼────────────┼──────────────┤\n",
       "│ White     │ Not Hispanic │ Male    │  2000 │    1526743 │ Alabama      │\n",
       "│ White     │ Not Hispanic │ Male    │  2001 │    1526185 │ Alabama      │\n",
       "│ White     │ Not Hispanic │ Male    │  2002 │    1524987 │ Alabama      │\n",
       "│ White     │ Not Hispanic │ Male    │  2003 │    1527793 │ Alabama      │\n",
       "│ White     │ Not Hispanic │ Male    │  2004 │    1530095 │ Alabama      │\n",
       "│ White     │ Not Hispanic │ Male    │  2005 │    1536529 │ Alabama      │\n",
       "│ White     │ Not Hispanic │ Male    │  2006 │    1548231 │ Alabama      │\n",
       "│ White     │ Not Hispanic │ Male    │  2007 │    1555756 │ Alabama      │\n",
       "│ White     │ Not Hispanic │ Male    │  2008 │    1562282 │ Alabama      │\n",
       "│ White     │ Not Hispanic │ Male    │  2009 │    1568357 │ Alabama      │\n",
       "│   ·       │      ·       │  ·      │    ·  │         ·  │    ·         │\n",
       "│   ·       │      ·       │  ·      │    ·  │         ·  │    ·         │\n",
       "│   ·       │      ·       │  ·      │    ·  │         ·  │    ·         │\n",
       "│ Asian     │ Not Hispanic │ Female  │  2000 │       2347 │ South Dakota │\n",
       "│ Asian     │ Not Hispanic │ Female  │  2001 │       2467 │ South Dakota │\n",
       "│ Asian     │ Not Hispanic │ Female  │  2002 │       2613 │ South Dakota │\n",
       "│ Asian     │ Not Hispanic │ Female  │  2003 │       2791 │ South Dakota │\n",
       "│ Asian     │ Not Hispanic │ Female  │  2004 │       2977 │ South Dakota │\n",
       "│ Asian     │ Not Hispanic │ Female  │  2005 │       3109 │ South Dakota │\n",
       "│ Asian     │ Not Hispanic │ Female  │  2006 │       3305 │ South Dakota │\n",
       "│ Asian     │ Not Hispanic │ Female  │  2007 │       3472 │ South Dakota │\n",
       "│ Asian     │ Not Hispanic │ Female  │  2008 │       3576 │ South Dakota │\n",
       "│ Asian     │ Not Hispanic │ Female  │  2009 │       3891 │ South Dakota │\n",
       "├───────────┴──────────────┴─────────┴───────┴────────────┴──────────────┤\n",
       "│ ? rows (>9999 rows, 20 shown)                                6 columns │\n",
       "└────────────────────────────────────────────────────────────────────────┘"
      ]
     },
     "execution_count": 23,
     "metadata": {},
     "output_type": "execute_result"
    }
   ],
   "source": [
    "duckdb.sql(\"\"\"\n",
    "    SELECT *\n",
    "    FROM us_populations_per_state_by_sex_race_ho\n",
    "\"\"\")"
   ]
  },
  {
   "cell_type": "code",
   "execution_count": 24,
   "id": "36753ea5",
   "metadata": {},
   "outputs": [
    {
     "data": {
      "text/plain": [
       "┌──────────────────────┬────────────┬───────┐\n",
       "│        State         │ Population │ Year  │\n",
       "│       varchar        │   int64    │ int32 │\n",
       "├──────────────────────┼────────────┼───────┤\n",
       "│ Alabama              │    4467634 │  2001 │\n",
       "│ Alaska               │     633714 │  2001 │\n",
       "│ Arizona              │    5273477 │  2001 │\n",
       "│ Arkansas             │    2691571 │  2001 │\n",
       "│ California           │   34479458 │  2001 │\n",
       "│ Colorado             │    4425687 │  2001 │\n",
       "│ Connecticut          │    3432835 │  2001 │\n",
       "│ Delaware             │     795699 │  2001 │\n",
       "│ District of Columbia │     574504 │  2001 │\n",
       "│ Florida              │   16356966 │  2001 │\n",
       "│    ·                 │        ·   │    ·  │\n",
       "│    ·                 │        ·   │    ·  │\n",
       "│    ·                 │        ·   │    ·  │\n",
       "│ South Dakota         │     896492 │  2021 │\n",
       "│ Tennessee            │    6965740 │  2021 │\n",
       "│ Texas                │   29570351 │  2021 │\n",
       "│ Utah                 │    3339738 │  2021 │\n",
       "│ Vermont              │     647210 │  2021 │\n",
       "│ Virginia             │    8658910 │  2021 │\n",
       "│ Washington           │    7743760 │  2021 │\n",
       "│ West Virginia        │    1785618 │  2021 │\n",
       "│ Wisconsin            │    5881608 │  2021 │\n",
       "│ Wyoming              │     579636 │  2021 │\n",
       "├──────────────────────┴────────────┴───────┤\n",
       "│ 1071 rows (20 shown)            3 columns │\n",
       "└───────────────────────────────────────────┘"
      ]
     },
     "execution_count": 24,
     "metadata": {},
     "output_type": "execute_result"
    }
   ],
   "source": [
    "duckdb.sql(\"\"\"\n",
    "    SELECT *\n",
    "    FROM us_populations_per_state\n",
    "\"\"\")"
   ]
  },
  {
   "cell_type": "markdown",
   "id": "e19e1ea0",
   "metadata": {},
   "source": [
    "# Loading transformed chronic disease indicators table"
   ]
  },
  {
   "cell_type": "code",
   "execution_count": 27,
   "id": "a9e86253",
   "metadata": {},
   "outputs": [],
   "source": [
    "cdi_file_name = \"./data/cdi-data-transformed/cdi.parquet/*.parquet\"\n",
    "cdi = duckdb.read_parquet(cdi_file_name)"
   ]
  },
  {
   "cell_type": "code",
   "execution_count": 28,
   "id": "550bb88b",
   "metadata": {},
   "outputs": [
    {
     "data": {
      "text/plain": [
       "┌──────────────┐\n",
       "│ count_star() │\n",
       "│    int64     │\n",
       "├──────────────┤\n",
       "│       699340 │\n",
       "└──────────────┘"
      ]
     },
     "execution_count": 28,
     "metadata": {},
     "output_type": "execute_result"
    }
   ],
   "source": [
    "duckdb.sql(\"\"\"\n",
    "    SELECT COUNT(*)\n",
    "    FROM cdi\n",
    "\"\"\")"
   ]
  },
  {
   "cell_type": "code",
   "execution_count": 29,
   "id": "dbfffdb7",
   "metadata": {},
   "outputs": [
    {
     "data": {
      "text/plain": [
       "┌───────────┬─────────┬──────────────┬────────────────┬─────────┬─────────────────────────────────────────────────────────────────────────────────────────┬───────────────┬─────────────────────────┬───────────┬────────────────────┬─────────────────────┬─────────────────────────┬────────────┬─────────┬────────────┬─────────────────┬───────────────────────────┬───────────────────┬─────────────────────┬────────────────────┬──────────┬────────┬─────────┬───────────┬──────────────┐\n",
       "│ YearStart │ YearEnd │ LocationAbbr │  LocationDesc  │  Topic  │                                        Question                                         │ DataValueUnit │      DataValueType      │ DataValue │ LowConfidenceLimit │ HighConfidenceLimit │ StratificationCategory1 │ LocationID │ TopicID │ QuestionID │ DataValueTypeID │ StratificationCategoryID1 │ StratificationID1 │      Latitude       │     Longitude      │ AgeStart │ AgeEnd │   Sex   │ Ethnicity │    Origin    │\n",
       "│   int32   │  int32  │   varchar    │    varchar     │ varchar │                                         varchar                                         │    varchar    │         varchar         │  double   │       double       │       double        │         varchar         │   int32    │ varchar │  varchar   │     varchar     │          varchar          │      varchar      │       double        │       double       │  double  │ double │ varchar │  varchar  │   varchar    │\n",
       "├───────────┼─────────┼──────────────┼────────────────┼─────────┼─────────────────────────────────────────────────────────────────────────────────────────┼───────────────┼─────────────────────────┼───────────┼────────────────────┼─────────────────────┼─────────────────────────┼────────────┼─────────┼────────────┼─────────────────┼───────────────────────────┼───────────────────┼─────────────────────┼────────────────────┼──────────┼────────┼─────────┼───────────┼──────────────┤\n",
       "│      2019 │    2019 │ IL           │ Illinois       │ Alcohol │ Alcohol use among youth                                                                 │ %             │ Crude Prevalence        │       9.2 │                4.0 │                19.6 │ Race/Ethnicity          │         17 │ ALC     │ ALC1_1     │ CRDPREV         │ RACE                      │ ASN               │  -88.99771017799969 │  40.48501028300046 │     18.0 │   24.0 │ Both    │ Asian     │ Not Hispanic │\n",
       "│      2017 │    2017 │ VA           │ Virginia       │ Alcohol │ Alcohol use among youth                                                                 │ %             │ Crude Prevalence        │       9.3 │                5.2 │                16.1 │ Race/Ethnicity          │         51 │ ALC     │ ALC1_1     │ CRDPREV         │ RACE                      │ ASN               │  -78.45789046299967 │  37.54268067400045 │     18.0 │   24.0 │ Both    │ Asian     │ Not Hispanic │\n",
       "│      2015 │    2015 │ VA           │ Virginia       │ Alcohol │ Alcohol use among youth                                                                 │ %             │ Crude Prevalence        │       9.8 │                6.0 │                15.4 │ Race/Ethnicity          │         51 │ ALC     │ ALC1_1     │ CRDPREV         │ RACE                      │ ASN               │  -78.45789046299967 │  37.54268067400045 │     18.0 │   24.0 │ Both    │ Asian     │ Not Hispanic │\n",
       "│      2013 │    2013 │ MI           │ Michigan       │ Alcohol │ Alcohol use among youth                                                                 │ %             │ Crude Prevalence        │      12.8 │                6.4 │                23.8 │ Race/Ethnicity          │         26 │ ALC     │ ALC1_1     │ CRDPREV         │ RACE                      │ ASN               │  -84.71439026999968 │   44.6613195430005 │     18.0 │   24.0 │ Both    │ Asian     │ Not Hispanic │\n",
       "│      2019 │    2019 │ NY           │ New York       │ Alcohol │ Alcohol use among youth                                                                 │ %             │ Crude Prevalence        │      11.1 │                7.9 │                15.4 │ Race/Ethnicity          │         36 │ ALC     │ ALC1_1     │ CRDPREV         │ RACE                      │ ASN               │  -75.54397042699964 │  42.82700103200045 │     18.0 │   24.0 │ Both    │ Asian     │ Not Hispanic │\n",
       "│      2017 │    2017 │ UT           │ Utah           │ Alcohol │ Alcohol use among youth                                                                 │ %             │ Crude Prevalence        │      11.2 │                8.0 │                15.5 │ Gender                  │         49 │ ALC     │ ALC1_1     │ CRDPREV         │ GENDER                    │ GENF              │ -111.58713063499971 │ 39.360700171000474 │     18.0 │   24.0 │ Female  │ All       │ Both         │\n",
       "│      2017 │    2017 │ CA           │ California     │ Alcohol │ Alcohol use among youth                                                                 │ %             │ Crude Prevalence        │      13.8 │                9.0 │                20.6 │ Race/Ethnicity          │          6 │ ALC     │ ALC1_1     │ CRDPREV         │ RACE                      │ ASN               │ -120.99999953799971 │  37.63864012300047 │     18.0 │   24.0 │ Both    │ Asian     │ Not Hispanic │\n",
       "│      2013 │    2013 │ UT           │ Utah           │ Alcohol │ Alcohol use among youth                                                                 │ %             │ Crude Prevalence        │      11.0 │                9.3 │                13.0 │ Overall                 │         49 │ ALC     │ ALC1_1     │ CRDPREV         │ OVERALL                   │ OVR               │ -111.58713063499971 │ 39.360700171000474 │     18.0 │   24.0 │ Both    │ All       │ Both         │\n",
       "│      2017 │    2017 │ SC           │ South Carolina │ Alcohol │ Alcohol use among youth                                                                 │ %             │ Crude Prevalence        │      15.6 │               11.2 │                21.4 │ Race/Ethnicity          │         45 │ ALC     │ ALC1_1     │ CRDPREV         │ RACE                      │ BLK               │  -81.04537120699968 │ 33.998821303000454 │     18.0 │   24.0 │ Both    │ Black     │ Not Hispanic │\n",
       "│      2019 │    2019 │ HI           │ Hawaii         │ Alcohol │ Alcohol use among youth                                                                 │ %             │ Crude Prevalence        │      14.2 │               11.7 │                17.0 │ Race/Ethnicity          │         15 │ ALC     │ ALC1_1     │ CRDPREV         │ RACE                      │ ASN               │ -157.85774940299973 │ 21.304850435000446 │     18.0 │   24.0 │ Both    │ Asian     │ Not Hispanic │\n",
       "│        ·  │      ·  │ ·            │   ·            │   ·     │            ·                                                                            │ ·             │        ·                │        ·  │                 ·  │                  ·  │   ·                     │          · │  ·      │   ·        │    ·            │  ·                        │  ·                │           ·         │          ·         │       ·  │     ·  │  ·      │  ·        │  ·           │\n",
       "│        ·  │      ·  │ ·            │   ·            │   ·     │            ·                                                                            │ ·             │        ·                │        ·  │                 ·  │                  ·  │   ·                     │          · │  ·      │   ·        │    ·            │  ·                        │  ·                │           ·         │          ·         │       ·  │     ·  │  ·      │  ·        │  ·           │\n",
       "│        ·  │      ·  │ ·            │   ·            │   ·     │            ·                                                                            │ ·             │        ·                │        ·  │                 ·  │                  ·  │   ·                     │          · │  ·      │   ·        │    ·            │  ·                        │  ·                │           ·         │          ·         │       ·  │     ·  │  ·      │  ·        │  ·           │\n",
       "│      2011 │    2011 │ NH           │ New Hampshire  │ Asthma  │ Pneumococcal vaccination among noninstitutionalized adults aged 18-64 years with asthma │ %             │ Crude Prevalence        │      36.8 │               26.1 │                49.1 │ Gender                  │         33 │ AST     │ AST6_1     │ CRDPREV         │ GENDER                    │ GENM              │  -71.50036091999965 │  43.65595011300047 │     18.0 │   64.0 │ Male    │ All       │ Both         │\n",
       "│      2011 │    2011 │ MS           │ Mississippi    │ Asthma  │ Pneumococcal vaccination among noninstitutionalized adults aged 18-64 years with asthma │ %             │ Crude Prevalence        │      31.8 │               26.2 │                38.0 │ Overall                 │         28 │ AST     │ AST6_1     │ CRDPREV         │ OVERALL                   │ OVR               │  -89.53803082499968 │ 32.745510099000455 │     18.0 │   64.0 │ Both    │ All       │ Both         │\n",
       "│      2021 │    2021 │ CO           │ Colorado       │ Asthma  │ Pneumococcal vaccination among noninstitutionalized adults aged 18-64 years with asthma │ %             │ Crude Prevalence        │      32.8 │               26.2 │                40.1 │ Gender                  │          8 │ AST     │ AST6_1     │ CRDPREV         │ GENDER                    │ GENM              │ -106.13361092099967 │ 38.843840757000464 │     18.0 │   64.0 │ Male    │ All       │ Both         │\n",
       "│      2011 │    2011 │ ND           │ North Dakota   │ Asthma  │ Pneumococcal vaccination among noninstitutionalized adults aged 18-64 years with asthma │ %             │ Crude Prevalence        │      34.8 │               26.2 │                44.6 │ Gender                  │         38 │ AST     │ AST6_1     │ CRDPREV         │ GENDER                    │ GENF              │ -100.11842104899966 │  47.47531977900047 │     18.0 │   64.0 │ Female  │ All       │ Both         │\n",
       "│      2014 │    2014 │ LA           │ Louisiana      │ Asthma  │ Pneumococcal vaccination among noninstitutionalized adults aged 18-64 years with asthma │ %             │ Age-adjusted Prevalence │      37.6 │               26.2 │                50.4 │ Gender                  │         22 │ AST     │ AST6_1     │ AGEADJPREV      │ GENDER                    │ GENM              │  -92.44568007099969 │  31.31266064400046 │     18.0 │   64.0 │ Male    │ All       │ Both         │\n",
       "│      2021 │    2021 │ ID           │ Idaho          │ Asthma  │ Pneumococcal vaccination among noninstitutionalized adults aged 18-64 years with asthma │ %             │ Age-adjusted Prevalence │      31.7 │               26.3 │                37.8 │ Overall                 │         16 │ AST     │ AST6_1     │ AGEADJPREV      │ OVERALL                   │ OVR               │  -114.3637300419997 │ 43.682630005000476 │     18.0 │   64.0 │ Both    │ All       │ Both         │\n",
       "│      2018 │    2018 │ CA           │ California     │ Asthma  │ Pneumococcal vaccination among noninstitutionalized adults aged 18-64 years with asthma │ %             │ Crude Prevalence        │      33.9 │               26.3 │                42.4 │ Gender                  │          6 │ AST     │ AST6_1     │ CRDPREV         │ GENDER                    │ GENM              │ -120.99999953799971 │  37.63864012300047 │     18.0 │   64.0 │ Male    │ All       │ Both         │\n",
       "│      2015 │    2015 │ ID           │ Idaho          │ Asthma  │ Pneumococcal vaccination among noninstitutionalized adults aged 18-64 years with asthma │ %             │ Crude Prevalence        │      33.9 │               26.3 │                42.5 │ Race/Ethnicity          │         16 │ AST     │ AST6_1     │ CRDPREV         │ RACE                      │ WHT               │  -114.3637300419997 │ 43.682630005000476 │     18.0 │   64.0 │ Both    │ White     │ Not Hispanic │\n",
       "│      2013 │    2013 │ WV           │ West Virginia  │ Asthma  │ Pneumococcal vaccination among noninstitutionalized adults aged 18-64 years with asthma │ %             │ Age-adjusted Prevalence │      31.6 │               26.6 │                37.0 │ Overall                 │         54 │ AST     │ AST6_1     │ AGEADJPREV      │ OVERALL                   │ OVR               │  -80.71264013499967 │  38.66551020200046 │     18.0 │   64.0 │ Both    │ All       │ Both         │\n",
       "│      2013 │    2013 │ NE           │ Nebraska       │ Asthma  │ Pneumococcal vaccination among noninstitutionalized adults aged 18-64 years with asthma │ %             │ Age-adjusted Prevalence │      33.2 │               26.8 │                40.4 │ Gender                  │         31 │ AST     │ AST6_1     │ AGEADJPREV      │ GENDER                    │ GENF              │  -99.36572062299967 │   41.6410409880005 │     18.0 │   64.0 │ Female  │ All       │ Both         │\n",
       "├───────────┴─────────┴──────────────┴────────────────┴─────────┴─────────────────────────────────────────────────────────────────────────────────────────┴───────────────┴─────────────────────────┴───────────┴────────────────────┴─────────────────────┴─────────────────────────┴────────────┴─────────┴────────────┴─────────────────┴───────────────────────────┴───────────────────┴─────────────────────┴────────────────────┴──────────┴────────┴─────────┴───────────┴──────────────┤\n",
       "│ ? rows (>9999 rows, 20 shown)                                                                                                                                                                                                                                                                                                                                                                                                                                                     25 columns │\n",
       "└──────────────────────────────────────────────────────────────────────────────────────────────────────────────────────────────────────────────────────────────────────────────────────────────────────────────────────────────────────────────────────────────────────────────────────────────────────────────────────────────────────────────────────────────────────────────────────────────────────────────────────────────────────────────────────────────────────────────────────────────┘"
      ]
     },
     "execution_count": 29,
     "metadata": {},
     "output_type": "execute_result"
    }
   ],
   "source": [
    "duckdb.sql(\"\"\"\n",
    "    SELECT *\n",
    "    FROM cdi\n",
    "\"\"\")"
   ]
  }
 ],
 "metadata": {
  "kernelspec": {
   "display_name": "tech-interview",
   "language": "python",
   "name": "python3"
  },
  "language_info": {
   "codemirror_mode": {
    "name": "ipython",
    "version": 3
   },
   "file_extension": ".py",
   "mimetype": "text/x-python",
   "name": "python",
   "nbconvert_exporter": "python",
   "pygments_lexer": "ipython3",
   "version": "3.12.3"
  }
 },
 "nbformat": 4,
 "nbformat_minor": 5
}
