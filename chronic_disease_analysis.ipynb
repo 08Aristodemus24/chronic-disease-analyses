{
 "cells": [
  {
   "cell_type": "markdown",
   "id": "bde2ade4",
   "metadata": {},
   "source": [
    "# Now that all necessary tables have now been cleaned and uploaded to sql server we can make our transformations and draw insights from these tables"
   ]
  },
  {
   "cell_type": "code",
   "execution_count": 1,
   "id": "73652265",
   "metadata": {},
   "outputs": [],
   "source": [
    "import pandas as pd\n",
    "import numpy as np\n",
    "import matplotlib.pyplot as plt\n",
    "\n",
    "from utilities.preprocessors import column_summary \n",
    "from utilities.visualizers import disp_cat_feat, view_feat_outliers\n",
    "\n",
    "%load_ext autoreload\n",
    "%autoreload 2"
   ]
  },
  {
   "cell_type": "code",
   "execution_count": null,
   "id": "d458336d",
   "metadata": {},
   "outputs": [],
   "source": []
  }
 ],
 "metadata": {
  "kernelspec": {
   "display_name": "tech-interview",
   "language": "python",
   "name": "python3"
  },
  "language_info": {
   "codemirror_mode": {
    "name": "ipython",
    "version": 3
   },
   "file_extension": ".py",
   "mimetype": "text/x-python",
   "name": "python",
   "nbconvert_exporter": "python",
   "pygments_lexer": "ipython3",
   "version": "3.12.3"
  }
 },
 "nbformat": 4,
 "nbformat_minor": 5
}
