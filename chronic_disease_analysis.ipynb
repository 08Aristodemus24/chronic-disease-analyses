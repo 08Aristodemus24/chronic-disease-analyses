{
 "cells": [
  {
   "cell_type": "markdown",
   "id": "bde2ade4",
   "metadata": {},
   "source": [
    "# Now that all necessary data have now been extracted, transformed, and dumped to parquet files we can start doing our analyses by reading these parquet files as tables with duckdb (an in process OLAP) and then use these tables to make our transformations and draw insights"
   ]
  },
  {
   "cell_type": "code",
   "execution_count": 1,
   "id": "73652265",
   "metadata": {},
   "outputs": [],
   "source": [
    "import duckdb\n",
    "\n",
    "%load_ext autoreload\n",
    "%autoreload 2"
   ]
  },
  {
   "cell_type": "markdown",
   "id": "8b5e2ed7",
   "metadata": {},
   "source": [
    "# Create database in order to persist data if one does not already exist. (DO NOT create a `.duckdb` file manually as this will not contain the instructions for duckdb to read and write data from and to)"
   ]
  },
  {
   "cell_type": "code",
   "execution_count": 2,
   "id": "577b1cba",
   "metadata": {},
   "outputs": [],
   "source": [
    "# conn = duckdb.connect(\"chronic_disease_analyses.duckdb\")"
   ]
  },
  {
   "cell_type": "markdown",
   "id": "5ebc23d8",
   "metadata": {},
   "source": [
    "# loading transformed population tables"
   ]
  },
  {
   "cell_type": "code",
   "execution_count": 13,
   "id": "adeb3ac0",
   "metadata": {},
   "outputs": [],
   "source": [
    "us_population_per_state_by_sex_age_race_ho_file_names = [\n",
    "    './data/population-data-transformed/Population_2000_2009.parquet/*.parquet',\n",
    "    './data/population-data-transformed/Population_2010_2019.parquet/*.parquet',\n",
    "    './data/population-data-transformed/Population_2020_2023.parquet/*.parquet',\n",
    "]"
   ]
  },
  {
   "cell_type": "code",
   "execution_count": 14,
   "id": "ca915ab5",
   "metadata": {},
   "outputs": [],
   "source": [
    "duckdb.sql(f\"\"\"\n",
    "    CREATE OR REPLACE TABLE us_population_per_state_by_sex_age_race_ho AS\n",
    "    SELECT *\n",
    "    FROM read_parquet({us_population_per_state_by_sex_age_race_ho_file_names}, union_by_name=True, filename=False)\n",
    "\"\"\")"
   ]
  },
  {
   "cell_type": "code",
   "execution_count": 15,
   "id": "70c8c667",
   "metadata": {},
   "outputs": [
    {
     "data": {
      "text/plain": [
       "┌─────────┬───────┬──────────────────┬───────┬────────────┐\n",
       "│ StateID │  Age  │ StratificationID │ Year  │ Population │\n",
       "│ varchar │ float │     varchar      │ int32 │   int64    │\n",
       "├─────────┼───────┼──────────────────┼───────┼────────────┤\n",
       "│ AL      │   0.0 │ NH_M_WHITE       │  2000 │      19270 │\n",
       "│ AL      │   0.0 │ NH_M_WHITE       │  2001 │      19612 │\n",
       "│ AL      │   0.0 │ NH_M_WHITE       │  2002 │      18731 │\n",
       "│ AL      │   0.0 │ NH_M_WHITE       │  2003 │      18623 │\n",
       "│ AL      │   0.0 │ NH_M_WHITE       │  2004 │      18659 │\n",
       "│ AL      │   0.0 │ NH_M_WHITE       │  2005 │      18816 │\n",
       "│ AL      │   0.0 │ NH_M_WHITE       │  2006 │      18877 │\n",
       "│ AL      │   0.0 │ NH_M_WHITE       │  2007 │      19027 │\n",
       "│ AL      │   0.0 │ NH_M_WHITE       │  2008 │      18937 │\n",
       "│ AL      │   0.0 │ NH_M_WHITE       │  2009 │      18039 │\n",
       "│ ·       │    ·  │     ·            │    ·  │          · │\n",
       "│ ·       │    ·  │     ·            │    ·  │          · │\n",
       "│ ·       │    ·  │     ·            │    ·  │          · │\n",
       "│ AL      │  53.0 │ H_M_MULTI        │  2000 │          3 │\n",
       "│ AL      │  53.0 │ H_M_MULTI        │  2001 │          4 │\n",
       "│ AL      │  53.0 │ H_M_MULTI        │  2002 │          9 │\n",
       "│ AL      │  53.0 │ H_M_MULTI        │  2003 │          6 │\n",
       "│ AL      │  53.0 │ H_M_MULTI        │  2004 │          9 │\n",
       "│ AL      │  53.0 │ H_M_MULTI        │  2005 │          7 │\n",
       "│ AL      │  53.0 │ H_M_MULTI        │  2006 │          8 │\n",
       "│ AL      │  53.0 │ H_M_MULTI        │  2007 │          7 │\n",
       "│ AL      │  53.0 │ H_M_MULTI        │  2008 │          8 │\n",
       "│ AL      │  53.0 │ H_M_MULTI        │  2009 │         11 │\n",
       "├─────────┴───────┴──────────────────┴───────┴────────────┤\n",
       "│ ? rows (>9999 rows, 20 shown)                 5 columns │\n",
       "└─────────────────────────────────────────────────────────┘"
      ]
     },
     "execution_count": 15,
     "metadata": {},
     "output_type": "execute_result"
    }
   ],
   "source": [
    "duckdb.sql(\"\"\"\n",
    "    SELECT *\n",
    "    FROM us_population_per_state_by_sex_age_race_ho\n",
    "\"\"\")"
   ]
  },
  {
   "cell_type": "code",
   "execution_count": 16,
   "id": "3507b9c1",
   "metadata": {},
   "outputs": [
    {
     "data": {
      "text/plain": [
       "┌──────────────┐\n",
       "│ count_star() │\n",
       "│    int64     │\n",
       "├──────────────┤\n",
       "│      2526336 │\n",
       "└──────────────┘"
      ]
     },
     "execution_count": 16,
     "metadata": {},
     "output_type": "execute_result"
    }
   ],
   "source": [
    "duckdb.sql(\"\"\"\n",
    "    SELECT COUNT(*)\n",
    "    FROM us_population_per_state_by_sex_age_race_ho\n",
    "\"\"\")"
   ]
  },
  {
   "cell_type": "code",
   "execution_count": 20,
   "id": "8ae18a79",
   "metadata": {},
   "outputs": [
    {
     "data": {
      "text/plain": [
       "┌───────┬──────────────────────┐\n",
       "│  Age  │ MeanPopulationPerAge │\n",
       "│ float │        double        │\n",
       "├───────┼──────────────────────┤\n",
       "│   0.0 │              3230.22 │\n",
       "│   1.0 │              3239.74 │\n",
       "│   2.0 │              3248.47 │\n",
       "│   3.0 │              3259.22 │\n",
       "│   4.0 │              3271.03 │\n",
       "│   5.0 │              3283.32 │\n",
       "│   6.0 │              3293.71 │\n",
       "│   7.0 │              3304.52 │\n",
       "│   8.0 │              3314.64 │\n",
       "│   9.0 │              3327.33 │\n",
       "│    ·  │                  ·   │\n",
       "│    ·  │                  ·   │\n",
       "│    ·  │                  ·   │\n",
       "│  76.0 │               1433.9 │\n",
       "│  77.0 │              1336.63 │\n",
       "│  78.0 │              1264.82 │\n",
       "│  79.0 │              1191.36 │\n",
       "│  80.0 │               1114.0 │\n",
       "│  81.0 │              1030.56 │\n",
       "│  82.0 │               953.07 │\n",
       "│  83.0 │               876.16 │\n",
       "│  84.0 │               799.87 │\n",
       "│  85.0 │               4573.9 │\n",
       "├───────┴──────────────────────┤\n",
       "│      86 rows (20 shown)      │\n",
       "└──────────────────────────────┘"
      ]
     },
     "execution_count": 20,
     "metadata": {},
     "output_type": "execute_result"
    }
   ],
   "source": [
    "duckdb.sql(\"\"\"\n",
    "    SELECT Age, ROUND(AVG(Population), 2) AS MeanPopulationPerAge\n",
    "    FROM us_population_per_state_by_sex_age_race_ho\n",
    "    GROUP BY Age\n",
    "    ORDER BY Age\n",
    "\"\"\")"
   ]
  },
  {
   "cell_type": "code",
   "execution_count": 21,
   "id": "b64ecf06",
   "metadata": {},
   "outputs": [
    {
     "data": {
      "text/plain": [
       "[('NH_F_ASIAN',),\n",
       " ('NH_F_NHPI',),\n",
       " ('H_F_BLACK',),\n",
       " ('H_F_WHITE',),\n",
       " ('NH_F_AIAN',),\n",
       " ('NH_M_BLACK',),\n",
       " ('NH_M_MULTI',),\n",
       " ('H_F_AIAN',),\n",
       " ('H_F_ASIAN',),\n",
       " ('H_M_MULTI',),\n",
       " ('NH_F_WHITE',),\n",
       " ('H_F_NHPI',),\n",
       " ('H_M_AIAN',),\n",
       " ('H_M_NHPI',),\n",
       " ('NH_F_BLACK',),\n",
       " ('H_M_WHITE',),\n",
       " ('NH_M_ASIAN',),\n",
       " ('H_M_ASIAN',),\n",
       " ('H_M_BLACK',),\n",
       " ('NH_F_MULTI',),\n",
       " ('NH_M_WHITE',),\n",
       " ('NH_M_AIAN',),\n",
       " ('H_F_MULTI',),\n",
       " ('NH_M_NHPI',)]"
      ]
     },
     "execution_count": 21,
     "metadata": {},
     "output_type": "execute_result"
    }
   ],
   "source": [
    "duckdb.sql(\"\"\"\n",
    "    SELECT DISTINCT(StratificationID)\n",
    "    FROM us_population_per_state_by_sex_age_race_ho\n",
    "\"\"\").fetchall()"
   ]
  },
  {
   "cell_type": "markdown",
   "id": "d6e6f1b2",
   "metadata": {},
   "source": [
    "# Loading population dimension tables"
   ]
  },
  {
   "cell_type": "code",
   "execution_count": 23,
   "id": "50d7dd49",
   "metadata": {},
   "outputs": [],
   "source": [
    "duckdb.sql(f\"\"\"\n",
    "    CREATE OR REPLACE TABLE PopulationState AS\n",
    "    SELECT *\n",
    "    FROM read_parquet({[\"./data/population-data-transformed/State.parquet/*.parquet\"]}, union_by_name=True, filename=False)\n",
    "\"\"\")"
   ]
  },
  {
   "cell_type": "code",
   "execution_count": 24,
   "id": "b75e3613",
   "metadata": {},
   "outputs": [
    {
     "data": {
      "text/plain": [
       "┌───────────────┬─────────┐\n",
       "│     State     │ StateID │\n",
       "│    varchar    │ varchar │\n",
       "├───────────────┼─────────┤\n",
       "│ Mississippi   │ MS      │\n",
       "│ South Dakota  │ SD      │\n",
       "│ Utah          │ UT      │\n",
       "│ Kentucky      │ KY      │\n",
       "│ California    │ CA      │\n",
       "│ Nebraska      │ NE      │\n",
       "│ New Hampshire │ NH      │\n",
       "│ Delaware      │ DE      │\n",
       "│ Minnesota     │ MN      │\n",
       "│ Nevada        │ NV      │\n",
       "│   ·           │ ·       │\n",
       "│   ·           │ ·       │\n",
       "│   ·           │ ·       │\n",
       "│ Michigan      │ MI      │\n",
       "│ Illinois      │ IL      │\n",
       "│ Maryland      │ MD      │\n",
       "│ Alaska        │ AK      │\n",
       "│ Connecticut   │ CT      │\n",
       "│ Vermont       │ VT      │\n",
       "│ Oklahoma      │ OK      │\n",
       "│ West Virginia │ WV      │\n",
       "│ Virginia      │ VA      │\n",
       "│ Massachusetts │ NULL    │\n",
       "├───────────────┴─────────┤\n",
       "│   51 rows (20 shown)    │\n",
       "└─────────────────────────┘"
      ]
     },
     "execution_count": 24,
     "metadata": {},
     "output_type": "execute_result"
    }
   ],
   "source": [
    "duckdb.sql(f\"\"\"\n",
    "    SELECT *\n",
    "    FROM PopulationState\n",
    "\"\"\")"
   ]
  },
  {
   "cell_type": "code",
   "execution_count": 25,
   "id": "39daed49",
   "metadata": {},
   "outputs": [],
   "source": [
    "duckdb.sql(f\"\"\"\n",
    "    CREATE OR REPLACE TABLE PopulationStratification AS\n",
    "    SELECT *\n",
    "    FROM read_parquet({[\"./data/population-data-transformed/Stratification.parquet/*.parquet\"]}, union_by_name=True, filename=False)\n",
    "\"\"\")"
   ]
  },
  {
   "cell_type": "code",
   "execution_count": 30,
   "id": "b1201c0b",
   "metadata": {},
   "outputs": [
    {
     "data": {
      "text/plain": [
       "┌─────────┬─────────────┬──────────────┬──────────────────┐\n",
       "│   Sex   │  Ethnicity  │    Origin    │ StratificationID │\n",
       "│ varchar │   varchar   │   varchar    │     varchar      │\n",
       "├─────────┼─────────────┼──────────────┼──────────────────┤\n",
       "│ Male    │ AIAN        │ Hispanic     │ H_M_AIAN         │\n",
       "│ Male    │ NHPI        │ Hispanic     │ H_M_NHPI         │\n",
       "│ Male    │ Black       │ Not Hispanic │ NH_M_BLACK       │\n",
       "│ Male    │ Asian       │ Not Hispanic │ NH_M_ASIAN       │\n",
       "│ Male    │ AIAN        │ Not Hispanic │ NH_M_AIAN        │\n",
       "│ Male    │ White       │ Not Hispanic │ NH_M_WHITE       │\n",
       "│ Male    │ Black       │ Hispanic     │ H_M_BLACK        │\n",
       "│ Male    │ NHPI        │ Not Hispanic │ NH_M_NHPI        │\n",
       "│ Male    │ Multiracial │ Not Hispanic │ NH_M_MULTI       │\n",
       "│ Male    │ White       │ Hispanic     │ H_M_WHITE        │\n",
       "│  ·      │  ·          │    ·         │    ·             │\n",
       "│  ·      │  ·          │    ·         │    ·             │\n",
       "│  ·      │  ·          │    ·         │    ·             │\n",
       "│ Female  │ AIAN        │ Hispanic     │ H_F_AIAN         │\n",
       "│ Female  │ Multiracial │ Not Hispanic │ NH_F_MULTI       │\n",
       "│ Female  │ NHPI        │ Not Hispanic │ NH_F_NHPI        │\n",
       "│ Female  │ Asian       │ Hispanic     │ H_F_ASIAN        │\n",
       "│ Female  │ Asian       │ Not Hispanic │ NH_F_ASIAN       │\n",
       "│ Female  │ Black       │ Hispanic     │ H_F_BLACK        │\n",
       "│ Female  │ AIAN        │ Not Hispanic │ NH_F_AIAN        │\n",
       "│ Female  │ White       │ Not Hispanic │ NH_F_WHITE       │\n",
       "│ Female  │ NHPI        │ Hispanic     │ H_F_NHPI         │\n",
       "│ Female  │ Black       │ Not Hispanic │ NH_F_BLACK       │\n",
       "├─────────┴─────────────┴──────────────┴──────────────────┤\n",
       "│ 24 rows (20 shown)                            4 columns │\n",
       "└─────────────────────────────────────────────────────────┘"
      ]
     },
     "execution_count": 30,
     "metadata": {},
     "output_type": "execute_result"
    }
   ],
   "source": [
    "duckdb.sql(f\"\"\"\n",
    "    SELECT *\n",
    "    FROM PopulationStratification\n",
    "    ORDER BY Sex DESC\n",
    "\"\"\")"
   ]
  },
  {
   "cell_type": "markdown",
   "id": "e19e1ea0",
   "metadata": {},
   "source": [
    "# Loading transformed chronic disease indicators table"
   ]
  },
  {
   "cell_type": "code",
   "execution_count": 6,
   "id": "a9e86253",
   "metadata": {},
   "outputs": [],
   "source": [
    "cdi_file_name = './data/cdi-data-transformed/CDI.parquet/*.parquet'"
   ]
  },
  {
   "cell_type": "code",
   "execution_count": 7,
   "id": "8e17d56a",
   "metadata": {},
   "outputs": [],
   "source": [
    "q = f\"\"\"\n",
    "    CREATE OR REPLACE TABLE cdi AS\n",
    "    SELECT *\n",
    "    FROM read_parquet('{cdi_file_name}')\n",
    "\"\"\""
   ]
  },
  {
   "cell_type": "code",
   "execution_count": 8,
   "id": "360725e8",
   "metadata": {},
   "outputs": [],
   "source": [
    "duckdb.sql(q)"
   ]
  },
  {
   "cell_type": "code",
   "execution_count": 9,
   "id": "550bb88b",
   "metadata": {},
   "outputs": [
    {
     "data": {
      "text/plain": [
       "┌──────────────┐\n",
       "│ count_star() │\n",
       "│    int64     │\n",
       "├──────────────┤\n",
       "│       678471 │\n",
       "└──────────────┘"
      ]
     },
     "execution_count": 9,
     "metadata": {},
     "output_type": "execute_result"
    }
   ],
   "source": [
    "duckdb.sql(\"\"\"\n",
    "    SELECT COUNT(*)\n",
    "    FROM cdi\n",
    "\"\"\")"
   ]
  },
  {
   "cell_type": "code",
   "execution_count": 10,
   "id": "dbfffdb7",
   "metadata": {},
   "outputs": [
    {
     "data": {
      "text/plain": [
       "┌───────────┬─────────┬────────────┬───────────────┬───────────┬────────────────────┬─────────────────────┬────────────┬─────────────────┬─────────────────────┬────────────────────┬──────────────────┐\n",
       "│ YearStart │ YearEnd │ LocationID │ DataValueUnit │ DataValue │ LowConfidenceLimit │ HighConfidenceLimit │ QuestionID │ DataValueTypeID │      Latitude       │     Longitude      │ StratificationID │\n",
       "│   int32   │  int32  │  varchar   │    varchar    │  double   │       double       │       double        │  varchar   │     varchar     │       double        │       double       │     varchar      │\n",
       "├───────────┼─────────┼────────────┼───────────────┼───────────┼────────────────────┼─────────────────────┼────────────┼─────────────────┼─────────────────────┼────────────────────┼──────────────────┤\n",
       "│      2015 │    2015 │ IL         │ %             │      10.6 │                4.8 │                22.2 │ ALC1_1     │ CRDPREV         │  -88.99771017799969 │  40.48501028300046 │ NH_B_ASIAN       │\n",
       "│      2015 │    2015 │ RI         │ %             │      12.6 │                7.3 │                21.0 │ ALC1_1     │ CRDPREV         │  -71.52247031399963 │  41.70828019300046 │ NH_B_ASIAN       │\n",
       "│      2013 │    2013 │ MA         │ %             │      13.6 │                8.6 │                20.7 │ ALC1_1     │ CRDPREV         │  -72.08269067499964 │  42.27687047000046 │ NH_B_ASIAN       │\n",
       "│      2015 │    2015 │ FL         │ %             │      16.0 │               11.0 │                22.9 │ ALC1_1     │ CRDPREV         │  -81.92896053899966 │ 28.932040377000476 │ NH_B_ASIAN       │\n",
       "│      2017 │    2017 │ SC         │ %             │      15.6 │               11.2 │                21.4 │ ALC1_1     │ CRDPREV         │  -81.04537120699968 │ 33.998821303000454 │ NH_B_BLACK       │\n",
       "│      2015 │    2015 │ CA         │ %             │      17.1 │               11.9 │                23.9 │ ALC1_1     │ CRDPREV         │ -120.99999953799971 │  37.63864012300047 │ NH_B_ASIAN       │\n",
       "│      2019 │    2019 │ VA         │ %             │      16.1 │               12.0 │                21.3 │ ALC1_1     │ CRDPREV         │  -78.45789046299967 │  37.54268067400045 │ NH_B_BLACK       │\n",
       "│      2017 │    2017 │ VA         │ %             │      17.8 │               14.0 │                22.3 │ ALC1_1     │ CRDPREV         │  -78.45789046299967 │  37.54268067400045 │ NH_B_BLACK       │\n",
       "│      2015 │    2015 │ VA         │ %             │      17.5 │               14.4 │                21.1 │ ALC1_1     │ CRDPREV         │  -78.45789046299967 │  37.54268067400045 │ NH_B_BLACK       │\n",
       "│      2019 │    2019 │ HI         │ %             │      19.4 │               15.1 │                24.5 │ ALC1_1     │ CRDPREV         │ -157.85774940299973 │ 21.304850435000446 │ NH_B_WHITE       │\n",
       "│        ·  │      ·  │ ·          │ ·             │        ·  │                 ·  │                  ·  │   ·        │    ·            │           ·         │          ·         │    ·             │\n",
       "│        ·  │      ·  │ ·          │ ·             │        ·  │                 ·  │                  ·  │   ·        │    ·            │           ·         │          ·         │    ·             │\n",
       "│        ·  │      ·  │ ·          │ ·             │        ·  │                 ·  │                  ·  │   ·        │    ·            │           ·         │          ·         │    ·             │\n",
       "│      2017 │    2017 │ IL         │ %             │      85.5 │               77.1 │                91.1 │ AST6_2     │ CRDPREV         │  -88.99771017799969 │  40.48501028300046 │ B_B_ALL          │\n",
       "│      2016 │    2016 │ MS         │ %             │      87.3 │               77.1 │                93.3 │ AST6_2     │ CRDPREV         │  -89.53803082499968 │ 32.745510099000455 │ NH_B_WHITE       │\n",
       "│      2014 │    2014 │ UT         │ %             │      83.7 │               77.2 │                88.6 │ AST6_2     │ CRDPREV         │ -111.58713063499971 │ 39.360700171000474 │ NH_B_WHITE       │\n",
       "│      2016 │    2016 │ TX         │ %             │      85.7 │               77.2 │                91.4 │ AST6_2     │ CRDPREV         │  -99.42677020599967 │ 31.827240407000488 │ B_B_ALL          │\n",
       "│      2014 │    2014 │ LA         │ %             │      86.4 │               77.2 │                92.2 │ AST6_2     │ AGEADJPREV      │  -92.44568007099969 │  31.31266064400046 │ B_F_ALL          │\n",
       "│      2019 │    2019 │ CO         │ %             │      87.2 │               77.2 │                93.2 │ AST6_2     │ CRDPREV         │ -106.13361092099967 │ 38.843840757000464 │ B_M_ALL          │\n",
       "│      2013 │    2013 │ TX         │ %             │      85.8 │               77.3 │                91.5 │ AST6_2     │ CRDPREV         │  -99.42677020599967 │ 31.827240407000488 │ B_F_ALL          │\n",
       "│      2012 │    2012 │ DE         │ %             │      87.0 │               77.5 │                92.8 │ AST6_2     │ CRDPREV         │  -75.57774116799965 │ 39.008830667000495 │ B_B_ALL          │\n",
       "│      2013 │    2013 │ FL         │ %             │      84.4 │               77.6 │                89.3 │ AST6_2     │ AGEADJPREV      │  -81.92896053899966 │ 28.932040377000476 │ B_F_ALL          │\n",
       "│      2019 │    2019 │ AZ         │ %             │      84.7 │               77.6 │                89.8 │ AST6_2     │ AGEADJPREV      │ -111.76381127699972 │ 34.865970280000454 │ NH_B_WHITE       │\n",
       "├───────────┴─────────┴────────────┴───────────────┴───────────┴────────────────────┴─────────────────────┴────────────┴─────────────────┴─────────────────────┴────────────────────┴──────────────────┤\n",
       "│ ? rows (>9999 rows, 20 shown)                                                                                                                                                             12 columns │\n",
       "└──────────────────────────────────────────────────────────────────────────────────────────────────────────────────────────────────────────────────────────────────────────────────────────────────────┘"
      ]
     },
     "execution_count": 10,
     "metadata": {},
     "output_type": "execute_result"
    }
   ],
   "source": [
    "duckdb.sql(\"\"\"\n",
    "    SELECT *\n",
    "    FROM cdi\n",
    "\"\"\")"
   ]
  },
  {
   "cell_type": "code",
   "execution_count": 11,
   "id": "6b88464e",
   "metadata": {},
   "outputs": [
    {
     "data": {
      "text/plain": [
       "┌──────────────────┐\n",
       "│ StratificationID │\n",
       "│     varchar      │\n",
       "├──────────────────┤\n",
       "│ H_B_ALL          │\n",
       "│ NH_B_MULTI       │\n",
       "│ NH_B_NHPI        │\n",
       "│ NH_B_ASIAN       │\n",
       "│ B_M_ALL          │\n",
       "│ B_B_ALL          │\n",
       "│ NH_B_BLACK       │\n",
       "│ B_F_ALL          │\n",
       "│ NH_B_WHITE       │\n",
       "│ NH_B_AIAN        │\n",
       "│ NH_B_OTHER       │\n",
       "├──────────────────┤\n",
       "│     11 rows      │\n",
       "└──────────────────┘"
      ]
     },
     "execution_count": 11,
     "metadata": {},
     "output_type": "execute_result"
    }
   ],
   "source": [
    "duckdb.sql(\"\"\"\n",
    "    SELECT DISTINCT(StratificationID)\n",
    "    FROM cdi\n",
    "\"\"\")"
   ]
  },
  {
   "cell_type": "code",
   "execution_count": 12,
   "id": "f6a67d20",
   "metadata": {},
   "outputs": [
    {
     "data": {
      "text/plain": [
       "[('NC',),\n",
       " ('MN',),\n",
       " ('ID',),\n",
       " ('KS',),\n",
       " ('PA',),\n",
       " ('IA',),\n",
       " ('TX',),\n",
       " ('VT',),\n",
       " ('WV',),\n",
       " ('AK',),\n",
       " ('SC',),\n",
       " ('ND',),\n",
       " ('TN',),\n",
       " ('AZ',),\n",
       " ('DE',),\n",
       " ('NJ',),\n",
       " ('AL',),\n",
       " ('MI',),\n",
       " ('MT',),\n",
       " ('NY',),\n",
       " ('WY',),\n",
       " ('IL',),\n",
       " ('MS',),\n",
       " ('OK',),\n",
       " ('FL',),\n",
       " ('AR',),\n",
       " ('CO',),\n",
       " ('MD',),\n",
       " ('OH',),\n",
       " ('DC',),\n",
       " ('WA',),\n",
       " ('RI',),\n",
       " ('GA',),\n",
       " ('CT',),\n",
       " ('MA',),\n",
       " ('NE',),\n",
       " ('IN',),\n",
       " ('WI',),\n",
       " ('HI',),\n",
       " ('LA',),\n",
       " ('VA',),\n",
       " ('CA',),\n",
       " ('ME',),\n",
       " ('NH',),\n",
       " ('NV',),\n",
       " ('SD',),\n",
       " ('KY',),\n",
       " ('UT',),\n",
       " ('OR',),\n",
       " ('NM',),\n",
       " ('MO',)]"
      ]
     },
     "execution_count": 12,
     "metadata": {},
     "output_type": "execute_result"
    }
   ],
   "source": [
    "cdi_unique_states = duckdb.sql(\"\"\"\n",
    "    SELECT DISTINCT(LocationID)\n",
    "    FROM cdi\n",
    "\"\"\").fetchall()\n",
    "cdi_unique_states"
   ]
  }
 ],
 "metadata": {
  "kernelspec": {
   "display_name": "tech-interview",
   "language": "python",
   "name": "python3"
  },
  "language_info": {
   "codemirror_mode": {
    "name": "ipython",
    "version": 3
   },
   "file_extension": ".py",
   "mimetype": "text/x-python",
   "name": "python",
   "nbconvert_exporter": "python",
   "pygments_lexer": "ipython3",
   "version": "3.11.8"
  }
 },
 "nbformat": 4,
 "nbformat_minor": 5
}
