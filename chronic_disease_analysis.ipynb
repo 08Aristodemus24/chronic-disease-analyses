{
 "cells": [
  {
   "cell_type": "markdown",
   "id": "bde2ade4",
   "metadata": {},
   "source": [
    "# Now that all necessary data have now been extracted, transformed, and dumped to parquet files we can start doing our analyses by reading these parquet files as tables with duckdb (an in process OLAP) and then use these tables to make our transformations and draw insights"
   ]
  },
  {
   "cell_type": "code",
   "execution_count": 375,
   "id": "73652265",
   "metadata": {},
   "outputs": [
    {
     "name": "stdout",
     "output_type": "stream",
     "text": [
      "The autoreload extension is already loaded. To reload it, use:\n",
      "  %reload_ext autoreload\n"
     ]
    }
   ],
   "source": [
    "import duckdb\n",
    "\n",
    "%load_ext autoreload\n",
    "%autoreload 2"
   ]
  },
  {
   "cell_type": "markdown",
   "id": "8b5e2ed7",
   "metadata": {},
   "source": [
    "# Create database in order to persist data if one does not already exist. (DO NOT create a `.duckdb` file manually as this will not contain the instructions for duckdb to read and write data from and to)"
   ]
  },
  {
   "cell_type": "code",
   "execution_count": null,
   "id": "577b1cba",
   "metadata": {},
   "outputs": [],
   "source": [
    "conn = duckdb.connect(\"chronic_disease_analyses.duckdb\")"
   ]
  },
  {
   "cell_type": "markdown",
   "id": "5ebc23d8",
   "metadata": {},
   "source": [
    "# loading transformed population tables"
   ]
  },
  {
   "cell_type": "code",
   "execution_count": 377,
   "id": "adeb3ac0",
   "metadata": {},
   "outputs": [],
   "source": [
    "us_populations_per_state_file_names = ['./data/population-data-transformed/us_populations_per_state.parquet/*.parquet']"
   ]
  },
  {
   "cell_type": "code",
   "execution_count": 378,
   "id": "0e66d8c4",
   "metadata": {},
   "outputs": [],
   "source": [
    "us_populations_per_state = duckdb.read_parquet(us_populations_per_state_file_names, union_by_name=True, filename=False)"
   ]
  },
  {
   "cell_type": "code",
   "execution_count": 379,
   "id": "e2e1e77a",
   "metadata": {},
   "outputs": [],
   "source": [
    "us_populations_per_state_by_sex_age_file_names = ['./data/population-data-transformed/us_populations_per_state_by_sex_age_2000_2009.parquet/*.parquet',\n",
    "    './data/population-data-transformed/us_populations_per_state_by_sex_age_2010_2019.parquet/*.parquet',\n",
    "    './data/population-data-transformed/us_populations_per_state_by_sex_age_2020_2023.parquet/*.parquet']"
   ]
  },
  {
   "cell_type": "code",
   "execution_count": 380,
   "id": "d312cd7d",
   "metadata": {},
   "outputs": [],
   "source": [
    "us_populations_per_state_by_sex_age = duckdb.read_parquet(us_populations_per_state_by_sex_age_file_names, union_by_name=True, filename=False)"
   ]
  },
  {
   "cell_type": "code",
   "execution_count": 381,
   "id": "c662d1e8",
   "metadata": {},
   "outputs": [],
   "source": [
    "us_populations_per_state_by_sex_race_ho_file_names = ['./data/population-data-transformed/us_populations_per_state_by_sex_race_ho_2000_2009.parquet/*.parquet',\n",
    "    './data/population-data-transformed/us_populations_per_state_by_sex_race_ho_2010_2019.parquet/*.parquet',\n",
    "    './data/population-data-transformed/us_populations_per_state_by_sex_race_ho_2020_2023.parquet/*.parquet']"
   ]
  },
  {
   "cell_type": "code",
   "execution_count": 382,
   "id": "d458336d",
   "metadata": {},
   "outputs": [],
   "source": [
    "us_populations_per_state_by_sex_race_ho = duckdb.read_parquet(us_populations_per_state_by_sex_race_ho_file_names, union_by_name=True, filename=False)"
   ]
  },
  {
   "cell_type": "markdown",
   "id": "5f73e3be",
   "metadata": {},
   "source": [
    "# Creating tables to copy population tables into"
   ]
  },
  {
   "cell_type": "code",
   "execution_count": 383,
   "id": "d7fd47da",
   "metadata": {},
   "outputs": [],
   "source": [
    "# duckdb.sql(\"\"\"\n",
    "#     CREATE TABLE IF NOT EXISTS us_populations_per_state (\n",
    "#         State VARCHAR,\n",
    "#         Population BIGINT,\n",
    "#         Year INT,\n",
    "#     )\n",
    "# \"\"\")"
   ]
  },
  {
   "cell_type": "code",
   "execution_count": 384,
   "id": "ecdf3ab3",
   "metadata": {},
   "outputs": [],
   "source": [
    "# duckdb.sql(\"\"\"\n",
    "#     CREATE TABLE IF NOT EXISTS us_populations_per_state_by_sex_age (\n",
    "#         Bracket VARCHAR,\n",
    "#         Year INT,\n",
    "#         Population BIGINT,\n",
    "#         Sex VARCHAR,\n",
    "#         State VARCHAR,\n",
    "#         AgeStart DOUBLE,\n",
    "#         AgeEnd DOUBLE\n",
    "#     )\n",
    "# \"\"\")"
   ]
  },
  {
   "cell_type": "code",
   "execution_count": 385,
   "id": "b931b7d2",
   "metadata": {},
   "outputs": [],
   "source": [
    "# duckdb.sql(\"\"\"\n",
    "#     CREATE TABLE IF NOT EXISTS us_populations_per_state_by_sex_race_ho (\n",
    "#         Ethnicity VARCHAR,\n",
    "#         Origin VARCHAR,\n",
    "#         Sex VARCHAR,\n",
    "#         Year INT,\n",
    "#         Population BIGINT,\n",
    "#         State VARCHAR\n",
    "#     )\n",
    "# \"\"\")"
   ]
  },
  {
   "cell_type": "markdown",
   "id": "fbab350d",
   "metadata": {},
   "source": [
    "# Insert data into table"
   ]
  },
  {
   "cell_type": "markdown",
   "id": "23511de7",
   "metadata": {},
   "source": [
    "#### us populations per state"
   ]
  },
  {
   "cell_type": "code",
   "execution_count": 386,
   "id": "235804a0",
   "metadata": {},
   "outputs": [],
   "source": [
    "# q = f\"\"\"\n",
    "#     INSERT INTO us_populations_per_state\n",
    "#     SELECT * FROM read_parquet({us_populations_per_state_file_names}, union_by_name=True, filename=False)\n",
    "# \"\"\""
   ]
  },
  {
   "cell_type": "code",
   "execution_count": 387,
   "id": "b3eef391",
   "metadata": {},
   "outputs": [],
   "source": [
    "# q"
   ]
  },
  {
   "cell_type": "code",
   "execution_count": 388,
   "id": "ad6fba0f",
   "metadata": {},
   "outputs": [],
   "source": [
    "# duckdb.sql(q)"
   ]
  },
  {
   "cell_type": "markdown",
   "id": "4171dc1f",
   "metadata": {},
   "source": [
    "#### us populations per state by sex and age"
   ]
  },
  {
   "cell_type": "code",
   "execution_count": 389,
   "id": "87f9af24",
   "metadata": {},
   "outputs": [],
   "source": [
    "# q = f\"\"\"\n",
    "#     INSERT INTO us_populations_per_state_by_sex_age\n",
    "#     SELECT * FROM read_parquet({us_populations_per_state_by_sex_age_file_names}, union_by_name=True, filename=False)\n",
    "# \"\"\""
   ]
  },
  {
   "cell_type": "code",
   "execution_count": 390,
   "id": "888cafe5",
   "metadata": {},
   "outputs": [],
   "source": [
    "# q"
   ]
  },
  {
   "cell_type": "code",
   "execution_count": 391,
   "id": "90435eb6",
   "metadata": {},
   "outputs": [],
   "source": [
    "# duckdb.sql(q)"
   ]
  },
  {
   "cell_type": "code",
   "execution_count": 392,
   "id": "d1aa971d",
   "metadata": {},
   "outputs": [],
   "source": [
    "# duckdb.sql(\"\"\"\n",
    "#     SELECT Sex FROM us_populations_per_state_by_sex_age\n",
    "# \"\"\")"
   ]
  },
  {
   "cell_type": "markdown",
   "id": "37c5001e",
   "metadata": {},
   "source": [
    "#### us populations per state by sex, race, and ethnicity"
   ]
  },
  {
   "cell_type": "code",
   "execution_count": 393,
   "id": "9434b4ae",
   "metadata": {},
   "outputs": [],
   "source": [
    "# q = f\"\"\"\n",
    "#     INSERT INTO us_populations_per_state_by_sex_race_ho\n",
    "#     SELECT * FROM read_parquet({us_populations_per_state_by_sex_race_ho_file_names}, union_by_name=True, filename=False)\n",
    "# \"\"\""
   ]
  },
  {
   "cell_type": "code",
   "execution_count": 394,
   "id": "7f743958",
   "metadata": {},
   "outputs": [],
   "source": [
    "# q"
   ]
  },
  {
   "cell_type": "code",
   "execution_count": 395,
   "id": "80e4ca89",
   "metadata": {},
   "outputs": [],
   "source": [
    "# duckdb.sql(q)"
   ]
  },
  {
   "cell_type": "code",
   "execution_count": 406,
   "id": "668dc600",
   "metadata": {},
   "outputs": [
    {
     "data": {
      "text/plain": [
       "┌──────────────┐\n",
       "│ count_star() │\n",
       "│    int64     │\n",
       "├──────────────┤\n",
       "│         1071 │\n",
       "└──────────────┘"
      ]
     },
     "execution_count": 406,
     "metadata": {},
     "output_type": "execute_result"
    }
   ],
   "source": [
    "duckdb.sql(\"\"\"\n",
    "    SELECT COUNT(*)\n",
    "    FROM us_populations_per_state\n",
    "\"\"\")"
   ]
  },
  {
   "cell_type": "code",
   "execution_count": 405,
   "id": "cf21ad5b",
   "metadata": {},
   "outputs": [
    {
     "data": {
      "text/plain": [
       "┌──────────────┐\n",
       "│ count_star() │\n",
       "│    int64     │\n",
       "├──────────────┤\n",
       "│       152388 │\n",
       "└──────────────┘"
      ]
     },
     "execution_count": 405,
     "metadata": {},
     "output_type": "execute_result"
    }
   ],
   "source": [
    "duckdb.sql(\"\"\"\n",
    "    SELECT COUNT(*)\n",
    "    FROM us_populations_per_state_by_sex_age\n",
    "\"\"\")"
   ]
  },
  {
   "cell_type": "code",
   "execution_count": 404,
   "id": "2e0634f4",
   "metadata": {},
   "outputs": [
    {
     "data": {
      "text/plain": [
       "┌──────────────┐\n",
       "│ count_star() │\n",
       "│    int64     │\n",
       "├──────────────┤\n",
       "│        29376 │\n",
       "└──────────────┘"
      ]
     },
     "execution_count": 404,
     "metadata": {},
     "output_type": "execute_result"
    }
   ],
   "source": [
    "duckdb.sql(\"\"\"\n",
    "    SELECT COUNT(*)\n",
    "    FROM us_populations_per_state_by_sex_race_ho\n",
    "\"\"\")"
   ]
  },
  {
   "cell_type": "code",
   "execution_count": 401,
   "id": "68eb6c9f",
   "metadata": {},
   "outputs": [],
   "source": [
    "duckdb.sql(\"\"\"\n",
    "    DROP TABLE us_populations_per_state\n",
    "\"\"\")"
   ]
  },
  {
   "cell_type": "code",
   "execution_count": 402,
   "id": "900be971",
   "metadata": {},
   "outputs": [],
   "source": [
    "duckdb.sql(\"\"\"\n",
    "    DROP TABLE us_populations_per_state_by_sex_age\n",
    "\"\"\")\n",
    "    "
   ]
  },
  {
   "cell_type": "code",
   "execution_count": 403,
   "id": "7d957a03",
   "metadata": {},
   "outputs": [],
   "source": [
    "duckdb.sql(\"\"\"\n",
    "    DROP TABLE us_populations_per_state_by_sex_race_ho\n",
    "\"\"\")"
   ]
  },
  {
   "cell_type": "markdown",
   "id": "e19e1ea0",
   "metadata": {},
   "source": [
    "# Loading transformed chronic disease indicators table"
   ]
  },
  {
   "cell_type": "code",
   "execution_count": null,
   "id": "a9e86253",
   "metadata": {},
   "outputs": [],
   "source": [
    "cdi_file_name = \"./data/cdi-data-transformed/cdi.parquet/*.parquet\"\n",
    "cdi = duckdb.read_parquet(cdi_file_name)"
   ]
  },
  {
   "cell_type": "code",
   "execution_count": null,
   "id": "550bb88b",
   "metadata": {},
   "outputs": [],
   "source": [
    "duckdb.sql(\"\"\"\n",
    "    SELECT COUNT(*)\n",
    "    FROM cdi\n",
    "\"\"\")"
   ]
  },
  {
   "cell_type": "code",
   "execution_count": null,
   "id": "dbfffdb7",
   "metadata": {},
   "outputs": [],
   "source": [
    "duckdb.sql(\"\"\"\n",
    "    SELECT *\n",
    "    FROM cdi\n",
    "\"\"\")"
   ]
  },
  {
   "cell_type": "code",
   "execution_count": 407,
   "id": "74297c46",
   "metadata": {},
   "outputs": [],
   "source": [
    "conn.close()"
   ]
  }
 ],
 "metadata": {
  "kernelspec": {
   "display_name": "tech-interview",
   "language": "python",
   "name": "python3"
  },
  "language_info": {
   "codemirror_mode": {
    "name": "ipython",
    "version": 3
   },
   "file_extension": ".py",
   "mimetype": "text/x-python",
   "name": "python",
   "nbconvert_exporter": "python",
   "pygments_lexer": "ipython3",
   "version": "3.12.3"
  }
 },
 "nbformat": 4,
 "nbformat_minor": 5
}
