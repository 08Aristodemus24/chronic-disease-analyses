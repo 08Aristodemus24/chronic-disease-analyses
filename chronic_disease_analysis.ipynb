{
 "cells": [
  {
   "cell_type": "markdown",
   "id": "bde2ade4",
   "metadata": {},
   "source": [
    "# Now that all necessary data have now been extracted, transformed, and dumped to parquet files we can start doing our analyses by reading these parquet files as tables with duckdb (an in process OLAP) and then use these tables to make our transformations and draw insights"
   ]
  },
  {
   "cell_type": "code",
   "execution_count": 183,
   "id": "73652265",
   "metadata": {},
   "outputs": [
    {
     "name": "stdout",
     "output_type": "stream",
     "text": [
      "The autoreload extension is already loaded. To reload it, use:\n",
      "  %reload_ext autoreload\n"
     ]
    }
   ],
   "source": [
    "import duckdb\n",
    "\n",
    "%load_ext autoreload\n",
    "%autoreload 2"
   ]
  },
  {
   "cell_type": "markdown",
   "id": "8b5e2ed7",
   "metadata": {},
   "source": [
    "# Create database in order to persist data if one does not already exist. (DO NOT create a `.duckdb` file manually as this will not contain the instructions for duckdb to read and write data from and to)"
   ]
  },
  {
   "cell_type": "code",
   "execution_count": 184,
   "id": "577b1cba",
   "metadata": {},
   "outputs": [],
   "source": [
    "# conn = duckdb.connect(\"chronic_disease_analyses.duckdb\")"
   ]
  },
  {
   "cell_type": "markdown",
   "id": "5ebc23d8",
   "metadata": {},
   "source": [
    "# loading transformed population tables"
   ]
  },
  {
   "cell_type": "code",
   "execution_count": 185,
   "id": "adeb3ac0",
   "metadata": {},
   "outputs": [],
   "source": [
    "us_populations_per_state_file_names = ['./data/population-data-transformed/us_populations_per_state.parquet/*.parquet']"
   ]
  },
  {
   "cell_type": "code",
   "execution_count": 186,
   "id": "ca915ab5",
   "metadata": {},
   "outputs": [],
   "source": [
    "duckdb.sql(f\"\"\"\n",
    "    CREATE OR REPLACE TABLE us_populations_per_state AS\n",
    "    SELECT *\n",
    "    FROM read_parquet({us_populations_per_state_file_names}, union_by_name=True, filename=False)\n",
    "\"\"\")"
   ]
  },
  {
   "cell_type": "code",
   "execution_count": 187,
   "id": "e2e1e77a",
   "metadata": {},
   "outputs": [],
   "source": [
    "us_populations_per_state_by_sex_age_file_names = ['./data/population-data-transformed/us_populations_per_state_by_sex_age_2000_2009.parquet/*.parquet',\n",
    "    './data/population-data-transformed/us_populations_per_state_by_sex_age_2010_2019.parquet/*.parquet',\n",
    "    './data/population-data-transformed/us_populations_per_state_by_sex_age_2020_2023.parquet/*.parquet']"
   ]
  },
  {
   "cell_type": "code",
   "execution_count": 188,
   "id": "495b7032",
   "metadata": {},
   "outputs": [],
   "source": [
    "duckdb.sql(f\"\"\"\n",
    "    CREATE OR REPLACE TABLE us_populations_per_state_by_sex_age AS\n",
    "    SELECT *\n",
    "    FROM read_parquet({us_populations_per_state_by_sex_age_file_names}, union_by_name=True, filename=False)\n",
    "\"\"\")"
   ]
  },
  {
   "cell_type": "code",
   "execution_count": 189,
   "id": "c662d1e8",
   "metadata": {},
   "outputs": [],
   "source": [
    "us_populations_per_state_by_sex_race_ho_file_names = ['./data/population-data-transformed/us_populations_per_state_by_sex_race_ho_2000_2009.parquet/*.parquet',\n",
    "    './data/population-data-transformed/us_populations_per_state_by_sex_race_ho_2010_2019.parquet/*.parquet',\n",
    "    './data/population-data-transformed/us_populations_per_state_by_sex_race_ho_2020_2023.parquet/*.parquet']"
   ]
  },
  {
   "cell_type": "code",
   "execution_count": 190,
   "id": "521bca7d",
   "metadata": {},
   "outputs": [],
   "source": [
    "duckdb.sql(f\"\"\"\n",
    "    CREATE OR REPLACE TABLE us_populations_per_state_by_sex_race_ho AS\n",
    "    SELECT *\n",
    "    FROM read_parquet({us_populations_per_state_by_sex_race_ho_file_names}, union_by_name=True, filename=False)\n",
    "\"\"\")"
   ]
  },
  {
   "cell_type": "code",
   "execution_count": 191,
   "id": "5d1fa2be",
   "metadata": {},
   "outputs": [],
   "source": [
    "us_populations_per_state_by_sex_age_race_ho_file_names = ['./data/population-data-transformed/us_populations_per_state_by_sex_age_race_ho_2000_2009.parquet/*.parquet',\n",
    "    './data/population-data-transformed/us_populations_per_state_by_sex_age_race_ho_2010_2019.parquet/*.parquet',\n",
    "    './data/population-data-transformed/us_populations_per_state_by_sex_age_race_ho_2020_2023.parquet/*.parquet']"
   ]
  },
  {
   "cell_type": "code",
   "execution_count": 192,
   "id": "442fd904",
   "metadata": {},
   "outputs": [],
   "source": [
    "duckdb.sql(f\"\"\"\n",
    "    CREATE OR REPLACE TABLE us_populations_per_state_by_sex_age_race_ho AS\n",
    "    SELECT *\n",
    "    FROM read_parquet({us_populations_per_state_by_sex_age_race_ho_file_names}, union_by_name=True, filename=False)\n",
    "\"\"\")"
   ]
  },
  {
   "cell_type": "code",
   "execution_count": 193,
   "id": "668dc600",
   "metadata": {},
   "outputs": [
    {
     "data": {
      "text/plain": [
       "┌──────────────┐\n",
       "│ count_star() │\n",
       "│    int64     │\n",
       "├──────────────┤\n",
       "│         1071 │\n",
       "└──────────────┘"
      ]
     },
     "execution_count": 193,
     "metadata": {},
     "output_type": "execute_result"
    }
   ],
   "source": [
    "duckdb.sql(\"\"\"\n",
    "    SELECT COUNT(*)\n",
    "    FROM us_populations_per_state\n",
    "\"\"\")"
   ]
  },
  {
   "cell_type": "code",
   "execution_count": 194,
   "id": "cf21ad5b",
   "metadata": {},
   "outputs": [
    {
     "data": {
      "text/plain": [
       "┌────────────────┬───────┬────────────┬─────────┬──────────┬──────────┬────────┐\n",
       "│    Bracket     │ Year  │ Population │   Sex   │  State   │ AgeStart │ AgeEnd │\n",
       "│    varchar     │ int32 │   int64    │ varchar │ varchar  │  double  │ double │\n",
       "├────────────────┼───────┼────────────┼─────────┼──────────┼──────────┼────────┤\n",
       "│ under 5 years  │  2000 │     150609 │ Male    │ Alabama  │      0.0 │    5.0 │\n",
       "│ under 5 years  │  2001 │     151410 │ Male    │ Alabama  │      0.0 │    5.0 │\n",
       "│ under 5 years  │  2002 │     150856 │ Male    │ Alabama  │      0.0 │    5.0 │\n",
       "│ under 5 years  │  2003 │     150594 │ Male    │ Alabama  │      0.0 │    5.0 │\n",
       "│ under 5 years  │  2004 │     150699 │ Male    │ Alabama  │      0.0 │    5.0 │\n",
       "│ under 5 years  │  2005 │     150960 │ Male    │ Alabama  │      0.0 │    5.0 │\n",
       "│ under 5 years  │  2006 │     151442 │ Male    │ Alabama  │      0.0 │    5.0 │\n",
       "│ under 5 years  │  2007 │     153128 │ Male    │ Alabama  │      0.0 │    5.0 │\n",
       "│ under 5 years  │  2008 │     155061 │ Male    │ Alabama  │      0.0 │    5.0 │\n",
       "│ under 5 years  │  2009 │     155463 │ Male    │ Alabama  │      0.0 │    5.0 │\n",
       "│       ·        │    ·  │        ·   │  ·      │    ·     │       ·  │     ·  │\n",
       "│       ·        │    ·  │        ·   │  ·      │    ·     │       ·  │     ·  │\n",
       "│       ·        │    ·  │        ·   │  ·      │    ·     │       ·  │     ·  │\n",
       "│ 65 to 69 years │  2000 │      66501 │ Male    │ Kentucky │     65.0 │   69.0 │\n",
       "│ 65 to 69 years │  2001 │      67382 │ Male    │ Kentucky │     65.0 │   69.0 │\n",
       "│ 65 to 69 years │  2002 │      68023 │ Male    │ Kentucky │     65.0 │   69.0 │\n",
       "│ 65 to 69 years │  2003 │      69829 │ Male    │ Kentucky │     65.0 │   69.0 │\n",
       "│ 65 to 69 years │  2004 │      71802 │ Male    │ Kentucky │     65.0 │   69.0 │\n",
       "│ 65 to 69 years │  2005 │      73729 │ Male    │ Kentucky │     65.0 │   69.0 │\n",
       "│ 65 to 69 years │  2006 │      76169 │ Male    │ Kentucky │     65.0 │   69.0 │\n",
       "│ 65 to 69 years │  2007 │      79522 │ Male    │ Kentucky │     65.0 │   69.0 │\n",
       "│ 65 to 69 years │  2008 │      83315 │ Male    │ Kentucky │     65.0 │   69.0 │\n",
       "│ 65 to 69 years │  2009 │      85804 │ Male    │ Kentucky │     65.0 │   69.0 │\n",
       "├────────────────┴───────┴────────────┴─────────┴──────────┴──────────┴────────┤\n",
       "│ ? rows (>9999 rows, 20 shown)                                      7 columns │\n",
       "└──────────────────────────────────────────────────────────────────────────────┘"
      ]
     },
     "execution_count": 194,
     "metadata": {},
     "output_type": "execute_result"
    }
   ],
   "source": [
    "duckdb.sql(\"\"\"\n",
    "    SELECT *\n",
    "    FROM us_populations_per_state_by_sex_age\n",
    "\"\"\")"
   ]
  },
  {
   "cell_type": "code",
   "execution_count": 195,
   "id": "2e0634f4",
   "metadata": {},
   "outputs": [
    {
     "data": {
      "text/plain": [
       "┌──────────────┐\n",
       "│ count_star() │\n",
       "│    int64     │\n",
       "├──────────────┤\n",
       "│        29376 │\n",
       "└──────────────┘"
      ]
     },
     "execution_count": 195,
     "metadata": {},
     "output_type": "execute_result"
    }
   ],
   "source": [
    "duckdb.sql(\"\"\"\n",
    "    SELECT COUNT(*)\n",
    "    FROM us_populations_per_state_by_sex_race_ho\n",
    "\"\"\")"
   ]
  },
  {
   "cell_type": "code",
   "execution_count": 196,
   "id": "4ffb1a51",
   "metadata": {},
   "outputs": [
    {
     "data": {
      "text/plain": [
       "┌─────────────┐\n",
       "│  Ethnicity  │\n",
       "│   varchar   │\n",
       "├─────────────┤\n",
       "│ Multiracial │\n",
       "│ Asian       │\n",
       "│ Nhpi        │\n",
       "│ White       │\n",
       "│ Black       │\n",
       "│ Aian        │\n",
       "│ NHPI        │\n",
       "│ AIAN        │\n",
       "└─────────────┘"
      ]
     },
     "execution_count": 196,
     "metadata": {},
     "output_type": "execute_result"
    }
   ],
   "source": [
    "duckdb.sql(\"\"\"\n",
    "    SELECT DISTINCT(Ethnicity)\n",
    "    FROM us_populations_per_state_by_sex_race_ho\n",
    "\"\"\")"
   ]
  },
  {
   "cell_type": "code",
   "execution_count": 197,
   "id": "70c8c667",
   "metadata": {},
   "outputs": [
    {
     "data": {
      "text/plain": [
       "┌─────────┬─────────┬───────┬─────────────┬──────────────┬─────────┬──────────────────┬───────┬────────────┐\n",
       "│ StateID │  State  │  Age  │  Ethnicity  │    Origin    │   Sex   │ StratificationID │ Year  │ Population │\n",
       "│ varchar │ varchar │ float │   varchar   │   varchar    │ varchar │     varchar      │ int32 │   int64    │\n",
       "├─────────┼─────────┼───────┼─────────────┼──────────────┼─────────┼──────────────────┼───────┼────────────┤\n",
       "│ AL      │ Alabama │   0.0 │ White       │ Not Hispanic │ Male    │ NH_M_WHITE       │  2000 │      19270 │\n",
       "│ AL      │ Alabama │   0.0 │ White       │ Not Hispanic │ Male    │ NH_M_WHITE       │  2001 │      19612 │\n",
       "│ AL      │ Alabama │   0.0 │ White       │ Not Hispanic │ Male    │ NH_M_WHITE       │  2002 │      18731 │\n",
       "│ AL      │ Alabama │   0.0 │ White       │ Not Hispanic │ Male    │ NH_M_WHITE       │  2003 │      18623 │\n",
       "│ AL      │ Alabama │   0.0 │ White       │ Not Hispanic │ Male    │ NH_M_WHITE       │  2004 │      18659 │\n",
       "│ AL      │ Alabama │   0.0 │ White       │ Not Hispanic │ Male    │ NH_M_WHITE       │  2005 │      18816 │\n",
       "│ AL      │ Alabama │   0.0 │ White       │ Not Hispanic │ Male    │ NH_M_WHITE       │  2006 │      18877 │\n",
       "│ AL      │ Alabama │   0.0 │ White       │ Not Hispanic │ Male    │ NH_M_WHITE       │  2007 │      19027 │\n",
       "│ AL      │ Alabama │   0.0 │ White       │ Not Hispanic │ Male    │ NH_M_WHITE       │  2008 │      18937 │\n",
       "│ AL      │ Alabama │   0.0 │ White       │ Not Hispanic │ Male    │ NH_M_WHITE       │  2009 │      18039 │\n",
       "│ ·       │    ·    │    ·  │   ·         │    ·         │  ·      │     ·            │    ·  │          · │\n",
       "│ ·       │    ·    │    ·  │   ·         │    ·         │  ·      │     ·            │    ·  │          · │\n",
       "│ ·       │    ·    │    ·  │   ·         │    ·         │  ·      │     ·            │    ·  │          · │\n",
       "│ AL      │ Alabama │  53.0 │ Multiracial │ Hispanic     │ Male    │ H_M_MULTI        │  2000 │          3 │\n",
       "│ AL      │ Alabama │  53.0 │ Multiracial │ Hispanic     │ Male    │ H_M_MULTI        │  2001 │          4 │\n",
       "│ AL      │ Alabama │  53.0 │ Multiracial │ Hispanic     │ Male    │ H_M_MULTI        │  2002 │          9 │\n",
       "│ AL      │ Alabama │  53.0 │ Multiracial │ Hispanic     │ Male    │ H_M_MULTI        │  2003 │          6 │\n",
       "│ AL      │ Alabama │  53.0 │ Multiracial │ Hispanic     │ Male    │ H_M_MULTI        │  2004 │          9 │\n",
       "│ AL      │ Alabama │  53.0 │ Multiracial │ Hispanic     │ Male    │ H_M_MULTI        │  2005 │          7 │\n",
       "│ AL      │ Alabama │  53.0 │ Multiracial │ Hispanic     │ Male    │ H_M_MULTI        │  2006 │          8 │\n",
       "│ AL      │ Alabama │  53.0 │ Multiracial │ Hispanic     │ Male    │ H_M_MULTI        │  2007 │          7 │\n",
       "│ AL      │ Alabama │  53.0 │ Multiracial │ Hispanic     │ Male    │ H_M_MULTI        │  2008 │          8 │\n",
       "│ AL      │ Alabama │  53.0 │ Multiracial │ Hispanic     │ Male    │ H_M_MULTI        │  2009 │         11 │\n",
       "├─────────┴─────────┴───────┴─────────────┴──────────────┴─────────┴──────────────────┴───────┴────────────┤\n",
       "│ ? rows (>9999 rows, 20 shown)                                                                  9 columns │\n",
       "└──────────────────────────────────────────────────────────────────────────────────────────────────────────┘"
      ]
     },
     "execution_count": 197,
     "metadata": {},
     "output_type": "execute_result"
    }
   ],
   "source": [
    "duckdb.sql(\"\"\"\n",
    "    SELECT *\n",
    "    FROM us_populations_per_state_by_sex_age_race_ho\n",
    "\"\"\")"
   ]
  },
  {
   "cell_type": "code",
   "execution_count": 217,
   "id": "3507b9c1",
   "metadata": {},
   "outputs": [
    {
     "data": {
      "text/plain": [
       "┌──────────────┐\n",
       "│ count_star() │\n",
       "│    int64     │\n",
       "├──────────────┤\n",
       "│      2526336 │\n",
       "└──────────────┘"
      ]
     },
     "execution_count": 217,
     "metadata": {},
     "output_type": "execute_result"
    }
   ],
   "source": [
    "duckdb.sql(\"\"\"\n",
    "    SELECT COUNT(*)\n",
    "    FROM us_populations_per_state_by_sex_age_race_ho\n",
    "\"\"\")"
   ]
  },
  {
   "cell_type": "code",
   "execution_count": 198,
   "id": "8ae18a79",
   "metadata": {},
   "outputs": [
    {
     "data": {
      "text/plain": [
       "┌───────┬────────┐\n",
       "│  Age  │ AgeOcc │\n",
       "│ float │ int64  │\n",
       "├───────┼────────┤\n",
       "│  76.0 │  29376 │\n",
       "│  79.0 │  29376 │\n",
       "│  84.0 │  29376 │\n",
       "│   0.0 │  29376 │\n",
       "│  11.0 │  29376 │\n",
       "│  21.0 │  29376 │\n",
       "│  40.0 │  29376 │\n",
       "│  70.0 │  29376 │\n",
       "│   3.0 │  29376 │\n",
       "│  23.0 │  29376 │\n",
       "│    ·  │    ·   │\n",
       "│    ·  │    ·   │\n",
       "│    ·  │    ·   │\n",
       "│   8.0 │  29376 │\n",
       "│  24.0 │  29376 │\n",
       "│  49.0 │  29376 │\n",
       "│  18.0 │  29376 │\n",
       "│  34.0 │  29376 │\n",
       "│  42.0 │  29376 │\n",
       "│  66.0 │  29376 │\n",
       "│  82.0 │  29376 │\n",
       "│  36.0 │  29376 │\n",
       "│  59.0 │  29376 │\n",
       "├───────┴────────┤\n",
       "│    86 rows     │\n",
       "│   (20 shown)   │\n",
       "└────────────────┘"
      ]
     },
     "execution_count": 198,
     "metadata": {},
     "output_type": "execute_result"
    }
   ],
   "source": [
    "duckdb.sql(\"\"\"\n",
    "    SELECT Age, COUNT(Age) AS AgeOcc\n",
    "    FROM us_populations_per_state_by_sex_age_race_ho\n",
    "    GROUP BY Age\n",
    "\"\"\")"
   ]
  },
  {
   "cell_type": "code",
   "execution_count": 199,
   "id": "b64ecf06",
   "metadata": {},
   "outputs": [
    {
     "data": {
      "text/plain": [
       "[('H_M_BLACK',),\n",
       " ('H_F_NHPI',),\n",
       " ('H_M_AIAN',),\n",
       " ('H_F_MULTI',),\n",
       " ('NH_M_NHPI',),\n",
       " ('H_M_NHPI',),\n",
       " ('NH_F_BLACK',),\n",
       " ('NH_F_AIAN',),\n",
       " ('H_F_WHITE',),\n",
       " ('NH_M_WHITE',),\n",
       " ('NH_M_AIAN',),\n",
       " ('NH_M_ASIAN',),\n",
       " ('H_M_ASIAN',),\n",
       " ('H_M_WHITE',),\n",
       " ('NH_F_ASIAN',),\n",
       " ('NH_F_NHPI',),\n",
       " ('H_F_BLACK',),\n",
       " ('NH_F_MULTI',),\n",
       " ('H_F_AIAN',),\n",
       " ('H_F_ASIAN',),\n",
       " ('NH_M_BLACK',),\n",
       " ('NH_M_MULTI',),\n",
       " ('H_M_MULTI',),\n",
       " ('NH_F_WHITE',)]"
      ]
     },
     "execution_count": 199,
     "metadata": {},
     "output_type": "execute_result"
    }
   ],
   "source": [
    "duckdb.sql(\"\"\"\n",
    "    SELECT DISTINCT(StratificationID)\n",
    "    FROM us_populations_per_state_by_sex_age_race_ho\n",
    "\"\"\").fetchall()"
   ]
  },
  {
   "cell_type": "code",
   "execution_count": 200,
   "id": "50d7dd49",
   "metadata": {},
   "outputs": [
    {
     "data": {
      "text/plain": [
       "┌─────────┬──────────────┬─────────────┬──────────────────┐\n",
       "│   Sex   │    Origin    │  Ethnicity  │ StratificationID │\n",
       "│ varchar │   varchar    │   varchar   │     varchar      │\n",
       "├─────────┼──────────────┼─────────────┼──────────────────┤\n",
       "│ Male    │ Not Hispanic │ White       │ NH_M_WHITE       │\n",
       "│ Male    │ Not Hispanic │ White       │ NH_M_WHITE       │\n",
       "│ Male    │ Not Hispanic │ White       │ NH_M_WHITE       │\n",
       "│ Male    │ Not Hispanic │ White       │ NH_M_WHITE       │\n",
       "│ Male    │ Not Hispanic │ White       │ NH_M_WHITE       │\n",
       "│ Male    │ Not Hispanic │ White       │ NH_M_WHITE       │\n",
       "│ Male    │ Not Hispanic │ White       │ NH_M_WHITE       │\n",
       "│ Male    │ Not Hispanic │ White       │ NH_M_WHITE       │\n",
       "│ Male    │ Not Hispanic │ White       │ NH_M_WHITE       │\n",
       "│ Male    │ Not Hispanic │ White       │ NH_M_WHITE       │\n",
       "│  ·      │    ·         │   ·         │     ·            │\n",
       "│  ·      │    ·         │   ·         │     ·            │\n",
       "│  ·      │    ·         │   ·         │     ·            │\n",
       "│ Male    │ Hispanic     │ Multiracial │ H_M_MULTI        │\n",
       "│ Male    │ Hispanic     │ Multiracial │ H_M_MULTI        │\n",
       "│ Male    │ Hispanic     │ Multiracial │ H_M_MULTI        │\n",
       "│ Male    │ Hispanic     │ Multiracial │ H_M_MULTI        │\n",
       "│ Male    │ Hispanic     │ Multiracial │ H_M_MULTI        │\n",
       "│ Male    │ Hispanic     │ Multiracial │ H_M_MULTI        │\n",
       "│ Male    │ Hispanic     │ Multiracial │ H_M_MULTI        │\n",
       "│ Male    │ Hispanic     │ Multiracial │ H_M_MULTI        │\n",
       "│ Male    │ Hispanic     │ Multiracial │ H_M_MULTI        │\n",
       "│ Male    │ Hispanic     │ Multiracial │ H_M_MULTI        │\n",
       "├─────────┴──────────────┴─────────────┴──────────────────┤\n",
       "│ ? rows (>9999 rows, 20 shown)                 4 columns │\n",
       "└─────────────────────────────────────────────────────────┘"
      ]
     },
     "execution_count": 200,
     "metadata": {},
     "output_type": "execute_result"
    }
   ],
   "source": [
    "duckdb.sql(\"\"\"\n",
    "    SELECT Sex, Origin, Ethnicity, StratificationID\n",
    "    FROM us_populations_per_state_by_sex_age_race_ho\n",
    "\"\"\")"
   ]
  },
  {
   "cell_type": "code",
   "execution_count": 201,
   "id": "f3523e3b",
   "metadata": {},
   "outputs": [],
   "source": [
    "population_unique_states = duckdb.sql(\"\"\"\n",
    "    SELECT DISTINCT(State)\n",
    "    FROM us_populations_per_state\n",
    "\"\"\").fetchall()"
   ]
  },
  {
   "cell_type": "code",
   "execution_count": 202,
   "id": "6d27c048",
   "metadata": {},
   "outputs": [
    {
     "data": {
      "text/plain": [
       "('New Mexico',\n",
       " 'Washington',\n",
       " 'New Jersey',\n",
       " 'Tennessee',\n",
       " 'Wisconsin',\n",
       " 'Alabama',\n",
       " 'California',\n",
       " 'Colorado',\n",
       " 'Illinois',\n",
       " 'Mississippi',\n",
       " 'Arizona',\n",
       " 'Delaware',\n",
       " 'Hawaii',\n",
       " 'North Dakota',\n",
       " 'Kentucky',\n",
       " 'New York',\n",
       " 'Indiana',\n",
       " 'Maryland',\n",
       " 'Iowa',\n",
       " 'Kansas',\n",
       " 'Louisiana',\n",
       " 'Ohio',\n",
       " 'Rhode Island',\n",
       " 'Texas',\n",
       " 'Alaska',\n",
       " 'District of Columbia',\n",
       " 'Florida',\n",
       " 'Minnesota',\n",
       " 'Nevada',\n",
       " 'New Hampshire',\n",
       " 'Arkansas',\n",
       " 'Idaho',\n",
       " 'South Carolina',\n",
       " 'West Virginia',\n",
       " 'Georgia',\n",
       " 'South Dakota',\n",
       " 'Vermont',\n",
       " 'Oklahoma',\n",
       " 'Utah',\n",
       " 'Virginia',\n",
       " 'Wyoming',\n",
       " 'Montana',\n",
       " 'Nebraska',\n",
       " 'North Carolina',\n",
       " 'Connecticut',\n",
       " 'Maine',\n",
       " 'Massachusetts',\n",
       " 'Oregon',\n",
       " 'Michigan',\n",
       " 'Missouri',\n",
       " 'Pennsylvania')"
      ]
     },
     "execution_count": 202,
     "metadata": {},
     "output_type": "execute_result"
    }
   ],
   "source": [
    "population_state_names = list(zip(*population_unique_states))[0]\n",
    "population_state_names"
   ]
  },
  {
   "cell_type": "markdown",
   "id": "e19e1ea0",
   "metadata": {},
   "source": [
    "# Loading transformed chronic disease indicators table"
   ]
  },
  {
   "cell_type": "code",
   "execution_count": 203,
   "id": "a9e86253",
   "metadata": {},
   "outputs": [],
   "source": [
    "cdi_file_name = './data/cdi-data-transformed/cdi.parquet/*.parquet'"
   ]
  },
  {
   "cell_type": "code",
   "execution_count": 204,
   "id": "8e17d56a",
   "metadata": {},
   "outputs": [],
   "source": [
    "q = f\"\"\"\n",
    "    CREATE OR REPLACE TABLE cdi AS\n",
    "    SELECT *\n",
    "    FROM read_parquet('{cdi_file_name}')\n",
    "\"\"\""
   ]
  },
  {
   "cell_type": "code",
   "execution_count": 205,
   "id": "360725e8",
   "metadata": {},
   "outputs": [],
   "source": [
    "duckdb.sql(q)"
   ]
  },
  {
   "cell_type": "code",
   "execution_count": 206,
   "id": "550bb88b",
   "metadata": {},
   "outputs": [
    {
     "data": {
      "text/plain": [
       "┌──────────────┐\n",
       "│ count_star() │\n",
       "│    int64     │\n",
       "├──────────────┤\n",
       "│       678471 │\n",
       "└──────────────┘"
      ]
     },
     "execution_count": 206,
     "metadata": {},
     "output_type": "execute_result"
    }
   ],
   "source": [
    "duckdb.sql(\"\"\"\n",
    "    SELECT COUNT(*)\n",
    "    FROM cdi\n",
    "\"\"\")"
   ]
  },
  {
   "cell_type": "code",
   "execution_count": 207,
   "id": "dbfffdb7",
   "metadata": {},
   "outputs": [
    {
     "data": {
      "text/plain": [
       "┌───────────┬─────────┬──────────────┬────────────────┬─────────┬─────────────────────────────────────────────────────────────────────────────────────────┬───────────────┬─────────────────────────┬───────────┬────────────────────┬─────────────────────┬────────────┬─────────┬────────────┬─────────────────┬─────────────────────┬────────────────────┬──────────┬────────┬─────────┬───────────┬──────────────┬───────────────────┐\n",
       "│ YearStart │ YearEnd │ LocationAbbr │  LocationDesc  │  Topic  │                                        Question                                         │ DataValueUnit │      DataValueType      │ DataValue │ LowConfidenceLimit │ HighConfidenceLimit │ LocationID │ TopicID │ QuestionID │ DataValueTypeID │      Latitude       │     Longitude      │ AgeStart │ AgeEnd │   Sex   │ Ethnicity │    Origin    │ Stratification1ID │\n",
       "│   int32   │  int32  │   varchar    │    varchar     │ varchar │                                         varchar                                         │    varchar    │         varchar         │  double   │       double       │       double        │   int32    │ varchar │  varchar   │     varchar     │       double        │       double       │  double  │ double │ varchar │  varchar  │   varchar    │      varchar      │\n",
       "├───────────┼─────────┼──────────────┼────────────────┼─────────┼─────────────────────────────────────────────────────────────────────────────────────────┼───────────────┼─────────────────────────┼───────────┼────────────────────┼─────────────────────┼────────────┼─────────┼────────────┼─────────────────┼─────────────────────┼────────────────────┼──────────┼────────┼─────────┼───────────┼──────────────┼───────────────────┤\n",
       "│      2015 │    2015 │ IL           │ Illinois       │ Alcohol │ Alcohol use among youth                                                                 │ %             │ Crude Prevalence        │      10.6 │                4.8 │                22.2 │         17 │ ALC     │ ALC1_1     │ CRDPREV         │  -88.99771017799969 │  40.48501028300046 │     18.0 │   24.0 │ Both    │ Asian     │ Not Hispanic │ NH_B_ASIAN        │\n",
       "│      2015 │    2015 │ RI           │ Rhode Island   │ Alcohol │ Alcohol use among youth                                                                 │ %             │ Crude Prevalence        │      12.6 │                7.3 │                21.0 │         44 │ ALC     │ ALC1_1     │ CRDPREV         │  -71.52247031399963 │  41.70828019300046 │     18.0 │   24.0 │ Both    │ Asian     │ Not Hispanic │ NH_B_ASIAN        │\n",
       "│      2013 │    2013 │ MA           │ Massachusetts  │ Alcohol │ Alcohol use among youth                                                                 │ %             │ Crude Prevalence        │      13.6 │                8.6 │                20.7 │         25 │ ALC     │ ALC1_1     │ CRDPREV         │  -72.08269067499964 │  42.27687047000046 │     18.0 │   24.0 │ Both    │ Asian     │ Not Hispanic │ NH_B_ASIAN        │\n",
       "│      2015 │    2015 │ FL           │ Florida        │ Alcohol │ Alcohol use among youth                                                                 │ %             │ Crude Prevalence        │      16.0 │               11.0 │                22.9 │         12 │ ALC     │ ALC1_1     │ CRDPREV         │  -81.92896053899966 │ 28.932040377000476 │     18.0 │   24.0 │ Both    │ Asian     │ Not Hispanic │ NH_B_ASIAN        │\n",
       "│      2017 │    2017 │ SC           │ South Carolina │ Alcohol │ Alcohol use among youth                                                                 │ %             │ Crude Prevalence        │      15.6 │               11.2 │                21.4 │         45 │ ALC     │ ALC1_1     │ CRDPREV         │  -81.04537120699968 │ 33.998821303000454 │     18.0 │   24.0 │ Both    │ Black     │ Not Hispanic │ NH_B_BLACK        │\n",
       "│      2015 │    2015 │ CA           │ California     │ Alcohol │ Alcohol use among youth                                                                 │ %             │ Crude Prevalence        │      17.1 │               11.9 │                23.9 │          6 │ ALC     │ ALC1_1     │ CRDPREV         │ -120.99999953799971 │  37.63864012300047 │     18.0 │   24.0 │ Both    │ Asian     │ Not Hispanic │ NH_B_ASIAN        │\n",
       "│      2019 │    2019 │ VA           │ Virginia       │ Alcohol │ Alcohol use among youth                                                                 │ %             │ Crude Prevalence        │      16.1 │               12.0 │                21.3 │         51 │ ALC     │ ALC1_1     │ CRDPREV         │  -78.45789046299967 │  37.54268067400045 │     18.0 │   24.0 │ Both    │ Black     │ Not Hispanic │ NH_B_BLACK        │\n",
       "│      2017 │    2017 │ VA           │ Virginia       │ Alcohol │ Alcohol use among youth                                                                 │ %             │ Crude Prevalence        │      17.8 │               14.0 │                22.3 │         51 │ ALC     │ ALC1_1     │ CRDPREV         │  -78.45789046299967 │  37.54268067400045 │     18.0 │   24.0 │ Both    │ Black     │ Not Hispanic │ NH_B_BLACK        │\n",
       "│      2015 │    2015 │ VA           │ Virginia       │ Alcohol │ Alcohol use among youth                                                                 │ %             │ Crude Prevalence        │      17.5 │               14.4 │                21.1 │         51 │ ALC     │ ALC1_1     │ CRDPREV         │  -78.45789046299967 │  37.54268067400045 │     18.0 │   24.0 │ Both    │ Black     │ Not Hispanic │ NH_B_BLACK        │\n",
       "│      2019 │    2019 │ HI           │ Hawaii         │ Alcohol │ Alcohol use among youth                                                                 │ %             │ Crude Prevalence        │      19.4 │               15.1 │                24.5 │         15 │ ALC     │ ALC1_1     │ CRDPREV         │ -157.85774940299973 │ 21.304850435000446 │     18.0 │   24.0 │ Both    │ White     │ Not Hispanic │ NH_B_WHITE        │\n",
       "│        ·  │      ·  │ ·            │   ·            │   ·     │            ·                                                                            │ ·             │        ·                │        ·  │                 ·  │                  ·  │          · │  ·      │   ·        │    ·            │           ·         │          ·         │       ·  │     ·  │  ·      │  ·        │  ·           │    ·              │\n",
       "│        ·  │      ·  │ ·            │   ·            │   ·     │            ·                                                                            │ ·             │        ·                │        ·  │                 ·  │                  ·  │          · │  ·      │   ·        │    ·            │           ·         │          ·         │       ·  │     ·  │  ·      │  ·        │  ·           │    ·              │\n",
       "│        ·  │      ·  │ ·            │   ·            │   ·     │            ·                                                                            │ ·             │        ·                │        ·  │                 ·  │                  ·  │          · │  ·      │   ·        │    ·            │           ·         │          ·         │       ·  │     ·  │  ·      │  ·        │  ·           │    ·              │\n",
       "│      2017 │    2017 │ IL           │ Illinois       │ Asthma  │ Pneumococcal vaccination among noninstitutionalized adults aged >= 65 years with asthma │ %             │ Crude Prevalence        │      85.5 │               77.1 │                91.1 │         17 │ AST     │ AST6_2     │ CRDPREV         │  -88.99771017799969 │  40.48501028300046 │     65.0 │    inf │ Both    │ All       │ Both         │ B_B_ALL           │\n",
       "│      2016 │    2016 │ MS           │ Mississippi    │ Asthma  │ Pneumococcal vaccination among noninstitutionalized adults aged >= 65 years with asthma │ %             │ Crude Prevalence        │      87.3 │               77.1 │                93.3 │         28 │ AST     │ AST6_2     │ CRDPREV         │  -89.53803082499968 │ 32.745510099000455 │     65.0 │    inf │ Both    │ White     │ Not Hispanic │ NH_B_WHITE        │\n",
       "│      2014 │    2014 │ UT           │ Utah           │ Asthma  │ Pneumococcal vaccination among noninstitutionalized adults aged >= 65 years with asthma │ %             │ Crude Prevalence        │      83.7 │               77.2 │                88.6 │         49 │ AST     │ AST6_2     │ CRDPREV         │ -111.58713063499971 │ 39.360700171000474 │     65.0 │    inf │ Both    │ White     │ Not Hispanic │ NH_B_WHITE        │\n",
       "│      2016 │    2016 │ TX           │ Texas          │ Asthma  │ Pneumococcal vaccination among noninstitutionalized adults aged >= 65 years with asthma │ %             │ Crude Prevalence        │      85.7 │               77.2 │                91.4 │         48 │ AST     │ AST6_2     │ CRDPREV         │  -99.42677020599967 │ 31.827240407000488 │     65.0 │    inf │ Both    │ All       │ Both         │ B_B_ALL           │\n",
       "│      2014 │    2014 │ LA           │ Louisiana      │ Asthma  │ Pneumococcal vaccination among noninstitutionalized adults aged >= 65 years with asthma │ %             │ Age-adjusted Prevalence │      86.4 │               77.2 │                92.2 │         22 │ AST     │ AST6_2     │ AGEADJPREV      │  -92.44568007099969 │  31.31266064400046 │     65.0 │    inf │ Female  │ All       │ Both         │ B_F_ALL           │\n",
       "│      2019 │    2019 │ CO           │ Colorado       │ Asthma  │ Pneumococcal vaccination among noninstitutionalized adults aged >= 65 years with asthma │ %             │ Crude Prevalence        │      87.2 │               77.2 │                93.2 │          8 │ AST     │ AST6_2     │ CRDPREV         │ -106.13361092099967 │ 38.843840757000464 │     65.0 │    inf │ Male    │ All       │ Both         │ B_M_ALL           │\n",
       "│      2013 │    2013 │ TX           │ Texas          │ Asthma  │ Pneumococcal vaccination among noninstitutionalized adults aged >= 65 years with asthma │ %             │ Crude Prevalence        │      85.8 │               77.3 │                91.5 │         48 │ AST     │ AST6_2     │ CRDPREV         │  -99.42677020599967 │ 31.827240407000488 │     65.0 │    inf │ Female  │ All       │ Both         │ B_F_ALL           │\n",
       "│      2012 │    2012 │ DE           │ Delaware       │ Asthma  │ Pneumococcal vaccination among noninstitutionalized adults aged >= 65 years with asthma │ %             │ Crude Prevalence        │      87.0 │               77.5 │                92.8 │         10 │ AST     │ AST6_2     │ CRDPREV         │  -75.57774116799965 │ 39.008830667000495 │     65.0 │    inf │ Both    │ All       │ Both         │ B_B_ALL           │\n",
       "│      2013 │    2013 │ FL           │ Florida        │ Asthma  │ Pneumococcal vaccination among noninstitutionalized adults aged >= 65 years with asthma │ %             │ Age-adjusted Prevalence │      84.4 │               77.6 │                89.3 │         12 │ AST     │ AST6_2     │ AGEADJPREV      │  -81.92896053899966 │ 28.932040377000476 │     65.0 │    inf │ Female  │ All       │ Both         │ B_F_ALL           │\n",
       "│      2019 │    2019 │ AZ           │ Arizona        │ Asthma  │ Pneumococcal vaccination among noninstitutionalized adults aged >= 65 years with asthma │ %             │ Age-adjusted Prevalence │      84.7 │               77.6 │                89.8 │          4 │ AST     │ AST6_2     │ AGEADJPREV      │ -111.76381127699972 │ 34.865970280000454 │     65.0 │    inf │ Both    │ White     │ Not Hispanic │ NH_B_WHITE        │\n",
       "├───────────┴─────────┴──────────────┴────────────────┴─────────┴─────────────────────────────────────────────────────────────────────────────────────────┴───────────────┴─────────────────────────┴───────────┴────────────────────┴─────────────────────┴────────────┴─────────┴────────────┴─────────────────┴─────────────────────┴────────────────────┴──────────┴────────┴─────────┴───────────┴──────────────┴───────────────────┤\n",
       "│ ? rows (>9999 rows, 20 shown)                                                                                                                                                                                                                                                                                                                                                                                               23 columns │\n",
       "└────────────────────────────────────────────────────────────────────────────────────────────────────────────────────────────────────────────────────────────────────────────────────────────────────────────────────────────────────────────────────────────────────────────────────────────────────────────────────────────────────────────────────────────────────────────────────────────────────────────────────────────────────────┘"
      ]
     },
     "execution_count": 207,
     "metadata": {},
     "output_type": "execute_result"
    }
   ],
   "source": [
    "duckdb.sql(\"\"\"\n",
    "    SELECT *\n",
    "    FROM cdi\n",
    "\"\"\")"
   ]
  },
  {
   "cell_type": "markdown",
   "id": "fbf03b8f",
   "metadata": {},
   "source": [
    "#### unique pairs of question id and topic id"
   ]
  },
  {
   "cell_type": "code",
   "execution_count": 208,
   "id": "6b88464e",
   "metadata": {},
   "outputs": [
    {
     "data": {
      "text/plain": [
       "┌─────────┬────────────┐\n",
       "│ TopicID │ QuestionID │\n",
       "│ varchar │  varchar   │\n",
       "├─────────┼────────────┤\n",
       "│ CKD     │ CKD3_0     │\n",
       "│ CVD     │ CVD3_1     │\n",
       "│ NPAW    │ NPAW10_0   │\n",
       "│ NPAW    │ NPAW11_3   │\n",
       "│ NPAW    │ NPAW18_0   │\n",
       "│ OLD     │ OLD3_1     │\n",
       "│ OVC     │ OVC2_2     │\n",
       "│ TOB     │ TOB11_1    │\n",
       "│ TOB     │ TOB2_1     │\n",
       "│ ALC     │ ALC5_1     │\n",
       "│  ·      │   ·        │\n",
       "│  ·      │   ·        │\n",
       "│  ·      │   ·        │\n",
       "│ NPAW    │ NPAW12_2   │\n",
       "│ OLD     │ OLD3_2     │\n",
       "│ OVC     │ OVC2_1     │\n",
       "│ OVC     │ OVC7_2     │\n",
       "│ TOB     │ TOB9_0     │\n",
       "│ ALC     │ ALC4_0     │\n",
       "│ ART     │ ART1_2     │\n",
       "│ AST     │ AST6_1     │\n",
       "│ CAN     │ CAN4_2     │\n",
       "│ CAN     │ CAN8_2     │\n",
       "├─────────┴────────────┤\n",
       "│ 192 rows (20 shown)  │\n",
       "└──────────────────────┘"
      ]
     },
     "execution_count": 208,
     "metadata": {},
     "output_type": "execute_result"
    }
   ],
   "source": [
    "duckdb.sql(\"\"\"\n",
    "    SELECT TopicID, QuestionID\n",
    "    FROM cdi\n",
    "    GROUP BY TopicID, QuestionID\n",
    "\"\"\")"
   ]
  },
  {
   "cell_type": "code",
   "execution_count": 209,
   "id": "f6a67d20",
   "metadata": {},
   "outputs": [
    {
     "data": {
      "text/plain": [
       "[('DE', 'Delaware'),\n",
       " ('GA', 'Georgia'),\n",
       " ('AR', 'Arkansas'),\n",
       " ('VT', 'Vermont'),\n",
       " ('MT', 'Montana'),\n",
       " ('MN', 'Minnesota'),\n",
       " ('OH', 'Ohio'),\n",
       " ('NV', 'Nevada'),\n",
       " ('MS', 'Mississippi'),\n",
       " ('HI', 'Hawaii'),\n",
       " ('WY', 'Wyoming'),\n",
       " ('KS', 'Kansas'),\n",
       " ('AK', 'Alaska'),\n",
       " ('TN', 'Tennessee'),\n",
       " ('MO', 'Missouri'),\n",
       " ('CA', 'California'),\n",
       " ('LA', 'Louisiana'),\n",
       " ('KY', 'Kentucky'),\n",
       " ('AL', 'Alabama'),\n",
       " ('SC', 'South Carolina'),\n",
       " ('SD', 'South Dakota'),\n",
       " ('IA', 'Iowa'),\n",
       " ('OK', 'Oklahoma'),\n",
       " ('RI', 'Rhode Island'),\n",
       " ('UT', 'Utah'),\n",
       " ('NE', 'Nebraska'),\n",
       " ('CO', 'Colorado'),\n",
       " ('ME', 'Maine'),\n",
       " ('IN', 'Indiana'),\n",
       " ('DC', 'District of Columbia'),\n",
       " ('WV', 'West Virginia'),\n",
       " ('ID', 'Idaho'),\n",
       " ('WA', 'Washington'),\n",
       " ('MI', 'Michigan'),\n",
       " ('NM', 'New Mexico'),\n",
       " ('IL', 'Illinois'),\n",
       " ('NH', 'New Hampshire'),\n",
       " ('MD', 'Maryland'),\n",
       " ('WI', 'Wisconsin'),\n",
       " ('AZ', 'Arizona'),\n",
       " ('ND', 'North Dakota'),\n",
       " ('FL', 'Florida'),\n",
       " ('PA', 'Pennsylvania'),\n",
       " ('VA', 'Virginia'),\n",
       " ('CT', 'Connecticut'),\n",
       " ('TX', 'Texas'),\n",
       " ('NY', 'New York'),\n",
       " ('OR', 'Oregon'),\n",
       " ('NC', 'North Carolina'),\n",
       " ('NJ', 'New Jersey'),\n",
       " ('MA', 'Massachusetts')]"
      ]
     },
     "execution_count": 209,
     "metadata": {},
     "output_type": "execute_result"
    }
   ],
   "source": [
    "cdi_unique_states = duckdb.sql(\"\"\"\n",
    "    SELECT LocationAbbr, LocationDesc\n",
    "    FROM cdi\n",
    "    GROUP BY LocationAbbr, LocationDesc\n",
    "\"\"\").fetchall()\n",
    "cdi_unique_states"
   ]
  },
  {
   "cell_type": "code",
   "execution_count": 210,
   "id": "ddf3ee80",
   "metadata": {},
   "outputs": [
    {
     "data": {
      "text/plain": [
       "('DE',\n",
       " 'GA',\n",
       " 'AR',\n",
       " 'VT',\n",
       " 'MT',\n",
       " 'MN',\n",
       " 'OH',\n",
       " 'NV',\n",
       " 'MS',\n",
       " 'HI',\n",
       " 'WY',\n",
       " 'KS',\n",
       " 'AK',\n",
       " 'TN',\n",
       " 'MO',\n",
       " 'CA',\n",
       " 'LA',\n",
       " 'KY',\n",
       " 'AL',\n",
       " 'SC',\n",
       " 'SD',\n",
       " 'IA',\n",
       " 'OK',\n",
       " 'RI',\n",
       " 'UT',\n",
       " 'NE',\n",
       " 'CO',\n",
       " 'ME',\n",
       " 'IN',\n",
       " 'DC',\n",
       " 'WV',\n",
       " 'ID',\n",
       " 'WA',\n",
       " 'MI',\n",
       " 'NM',\n",
       " 'IL',\n",
       " 'NH',\n",
       " 'MD',\n",
       " 'WI',\n",
       " 'AZ',\n",
       " 'ND',\n",
       " 'FL',\n",
       " 'PA',\n",
       " 'VA',\n",
       " 'CT',\n",
       " 'TX',\n",
       " 'NY',\n",
       " 'OR',\n",
       " 'NC',\n",
       " 'NJ',\n",
       " 'MA')"
      ]
     },
     "execution_count": 210,
     "metadata": {},
     "output_type": "execute_result"
    }
   ],
   "source": [
    "cdi_state_codes, cdi_state_names = zip(*cdi_unique_states)\n",
    "cdi_state_codes"
   ]
  },
  {
   "cell_type": "code",
   "execution_count": 211,
   "id": "4440160e",
   "metadata": {},
   "outputs": [
    {
     "data": {
      "text/plain": [
       "set()"
      ]
     },
     "execution_count": 211,
     "metadata": {},
     "output_type": "execute_result"
    }
   ],
   "source": [
    "set(cdi_state_names) - set(population_state_names)"
   ]
  },
  {
   "cell_type": "code",
   "execution_count": 212,
   "id": "9442e9b9",
   "metadata": {},
   "outputs": [
    {
     "data": {
      "text/plain": [
       "┌─────────┬─────────────┬──────────────┐\n",
       "│   Sex   │  Ethnicity  │    Origin    │\n",
       "│ varchar │   varchar   │   varchar    │\n",
       "├─────────┼─────────────┼──────────────┤\n",
       "│ Both    │ Black       │ Not Hispanic │\n",
       "│ Both    │ Multiracial │ Not Hispanic │\n",
       "│ Both    │ Asian       │ Not Hispanic │\n",
       "│ Both    │ White       │ Not Hispanic │\n",
       "│ Both    │ All         │ Both         │\n",
       "│ Female  │ All         │ Both         │\n",
       "│ Both    │ AIAN        │ Not Hispanic │\n",
       "│ Male    │ All         │ Both         │\n",
       "│ Both    │ All         │ Hispanic     │\n",
       "│ Both    │ NHPI        │ Not Hispanic │\n",
       "│ Both    │ Other       │ Not Hispanic │\n",
       "├─────────┴─────────────┴──────────────┤\n",
       "│ 11 rows                    3 columns │\n",
       "└──────────────────────────────────────┘"
      ]
     },
     "execution_count": 212,
     "metadata": {},
     "output_type": "execute_result"
    }
   ],
   "source": [
    "duckdb.sql(\"\"\"\n",
    "    SELECT Sex, Ethnicity, Origin\n",
    "    FROM cdi\n",
    "    GROUP BY Sex, Ethnicity, Origin\n",
    "\"\"\")"
   ]
  },
  {
   "cell_type": "code",
   "execution_count": 213,
   "id": "84fbfee7",
   "metadata": {},
   "outputs": [
    {
     "data": {
      "text/plain": [
       "┌─────────┐\n",
       "│   Sex   │\n",
       "│ varchar │\n",
       "├─────────┤\n",
       "│ Female  │\n",
       "│ Male    │\n",
       "│ Both    │\n",
       "└─────────┘"
      ]
     },
     "execution_count": 213,
     "metadata": {},
     "output_type": "execute_result"
    }
   ],
   "source": [
    "duckdb.sql(\"\"\"\n",
    "    SELECT DISTINCT(Sex)\n",
    "    FROM cdi\n",
    "\"\"\")"
   ]
  },
  {
   "cell_type": "code",
   "execution_count": 214,
   "id": "c8c0e484",
   "metadata": {},
   "outputs": [
    {
     "data": {
      "text/plain": [
       "┌─────────────┐\n",
       "│  Ethnicity  │\n",
       "│   varchar   │\n",
       "├─────────────┤\n",
       "│ NHPI        │\n",
       "│ Multiracial │\n",
       "│ All         │\n",
       "│ White       │\n",
       "│ Black       │\n",
       "│ AIAN        │\n",
       "│ Other       │\n",
       "│ Asian       │\n",
       "└─────────────┘"
      ]
     },
     "execution_count": 214,
     "metadata": {},
     "output_type": "execute_result"
    }
   ],
   "source": [
    "duckdb.sql(\"\"\"\n",
    "    SELECT DISTINCT(Ethnicity)\n",
    "    FROM cdi\n",
    "\"\"\")"
   ]
  },
  {
   "cell_type": "code",
   "execution_count": 215,
   "id": "5dd745dd",
   "metadata": {},
   "outputs": [
    {
     "data": {
      "text/plain": [
       "┌──────────────┐\n",
       "│    Origin    │\n",
       "│   varchar    │\n",
       "├──────────────┤\n",
       "│ Both         │\n",
       "│ Hispanic     │\n",
       "│ Not Hispanic │\n",
       "└──────────────┘"
      ]
     },
     "execution_count": 215,
     "metadata": {},
     "output_type": "execute_result"
    }
   ],
   "source": [
    "duckdb.sql(\"\"\"\n",
    "    SELECT DISTINCT(Origin)\n",
    "    FROM cdi\n",
    "\"\"\")"
   ]
  },
  {
   "cell_type": "code",
   "execution_count": 216,
   "id": "bd22fc87",
   "metadata": {},
   "outputs": [
    {
     "data": {
      "text/plain": [
       "┌─────────┬─────────────┬──────────────┬──────────────────┐\n",
       "│   Sex   │  Ethnicity  │    Origin    │ StratificationID │\n",
       "│ varchar │   varchar   │   varchar    │      int64       │\n",
       "├─────────┼─────────────┼──────────────┼──────────────────┤\n",
       "│ Male    │ All         │ Both         │               11 │\n",
       "│ Both    │ AIAN        │ Not Hispanic │                1 │\n",
       "│ Female  │ All         │ Both         │               10 │\n",
       "│ Both    │ All         │ Both         │                2 │\n",
       "│ Both    │ Asian       │ Not Hispanic │                4 │\n",
       "│ Both    │ White       │ Not Hispanic │                9 │\n",
       "│ Both    │ Multiracial │ Not Hispanic │                6 │\n",
       "│ Both    │ All         │ Hispanic     │                3 │\n",
       "│ Both    │ Black       │ Not Hispanic │                5 │\n",
       "│ Both    │ NHPI        │ Not Hispanic │                7 │\n",
       "│ Both    │ Other       │ Not Hispanic │                8 │\n",
       "├─────────┴─────────────┴──────────────┴──────────────────┤\n",
       "│ 11 rows                                       4 columns │\n",
       "└─────────────────────────────────────────────────────────┘"
      ]
     },
     "execution_count": 216,
     "metadata": {},
     "output_type": "execute_result"
    }
   ],
   "source": [
    "duckdb.sql(\"\"\"\n",
    "    WITH Stratifications AS (\n",
    "        SELECT Sex, Ethnicity, Origin, DENSE_RANK() OVER(ORDER BY Sex, Ethnicity, Origin) AS StratificationID\n",
    "        FROM cdi\n",
    "    )\n",
    "           \n",
    "    SELECT *\n",
    "    FROM Stratifications\n",
    "    GROUP BY Sex, Ethnicity, Origin, StratificationID\n",
    "\"\"\")"
   ]
  }
 ],
 "metadata": {
  "kernelspec": {
   "display_name": "tech-interview",
   "language": "python",
   "name": "python3"
  },
  "language_info": {
   "codemirror_mode": {
    "name": "ipython",
    "version": 3
   },
   "file_extension": ".py",
   "mimetype": "text/x-python",
   "name": "python",
   "nbconvert_exporter": "python",
   "pygments_lexer": "ipython3",
   "version": "3.11.8"
  }
 },
 "nbformat": 4,
 "nbformat_minor": 5
}
