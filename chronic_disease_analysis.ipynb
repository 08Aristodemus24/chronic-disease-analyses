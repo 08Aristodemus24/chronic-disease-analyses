{
 "cells": [
  {
   "cell_type": "markdown",
   "id": "bde2ade4",
   "metadata": {},
   "source": [
    "# Now that all necessary data have now been extracted, transformed, and dumped to parquet files we can start doing our analyses by reading these parquet files as tables with duckdb (an in process OLAP) and then use these tables to make our transformations and draw insights"
   ]
  },
  {
   "cell_type": "code",
   "execution_count": 2,
   "id": "73652265",
   "metadata": {},
   "outputs": [],
   "source": [
    "import duckdb\n",
    "\n",
    "%load_ext autoreload\n",
    "%autoreload 2"
   ]
  },
  {
   "cell_type": "markdown",
   "id": "8b5e2ed7",
   "metadata": {},
   "source": [
    "# Create database in order to persist data if one does not already exist. (DO NOT create a `.duckdb` file manually as this will not contain the instructions for duckdb to read and write data from and to)"
   ]
  },
  {
   "cell_type": "code",
   "execution_count": 3,
   "id": "577b1cba",
   "metadata": {},
   "outputs": [],
   "source": [
    "# conn = duckdb.connect(\"chronic_disease_analyses.duckdb\")"
   ]
  },
  {
   "cell_type": "markdown",
   "id": "5ebc23d8",
   "metadata": {},
   "source": [
    "# loading transformed population tables"
   ]
  },
  {
   "cell_type": "code",
   "execution_count": 4,
   "id": "adeb3ac0",
   "metadata": {},
   "outputs": [],
   "source": [
    "us_populations_per_state_file_names = ['./data/population-data-transformed/us_populations_per_state.parquet/*.parquet']"
   ]
  },
  {
   "cell_type": "code",
   "execution_count": 5,
   "id": "ca915ab5",
   "metadata": {},
   "outputs": [],
   "source": [
    "duckdb.sql(f\"\"\"\n",
    "    CREATE OR REPLACE TABLE us_populations_per_state AS\n",
    "    SELECT *\n",
    "    FROM read_parquet({us_populations_per_state_file_names}, union_by_name=True, filename=False)\n",
    "\"\"\")"
   ]
  },
  {
   "cell_type": "code",
   "execution_count": 6,
   "id": "e2e1e77a",
   "metadata": {},
   "outputs": [],
   "source": [
    "us_populations_per_state_by_sex_age_file_names = ['./data/population-data-transformed/us_populations_per_state_by_sex_age_2000_2009.parquet/*.parquet',\n",
    "    './data/population-data-transformed/us_populations_per_state_by_sex_age_2010_2019.parquet/*.parquet',\n",
    "    './data/population-data-transformed/us_populations_per_state_by_sex_age_2020_2023.parquet/*.parquet']"
   ]
  },
  {
   "cell_type": "code",
   "execution_count": 7,
   "id": "495b7032",
   "metadata": {},
   "outputs": [],
   "source": [
    "duckdb.sql(f\"\"\"\n",
    "    CREATE OR REPLACE TABLE us_populations_per_state_by_sex_age AS\n",
    "    SELECT *\n",
    "    FROM read_parquet({us_populations_per_state_by_sex_age_file_names}, union_by_name=True, filename=False)\n",
    "\"\"\")"
   ]
  },
  {
   "cell_type": "code",
   "execution_count": 8,
   "id": "c662d1e8",
   "metadata": {},
   "outputs": [],
   "source": [
    "us_populations_per_state_by_sex_race_ho_file_names = ['./data/population-data-transformed/us_populations_per_state_by_sex_race_ho_2000_2009.parquet/*.parquet',\n",
    "    './data/population-data-transformed/us_populations_per_state_by_sex_race_ho_2010_2019.parquet/*.parquet',\n",
    "    './data/population-data-transformed/us_populations_per_state_by_sex_race_ho_2020_2023.parquet/*.parquet']"
   ]
  },
  {
   "cell_type": "code",
   "execution_count": 9,
   "id": "521bca7d",
   "metadata": {},
   "outputs": [],
   "source": [
    "duckdb.sql(f\"\"\"\n",
    "    CREATE OR REPLACE TABLE us_populations_per_state_by_sex_race_ho AS\n",
    "    SELECT *\n",
    "    FROM read_parquet({us_populations_per_state_by_sex_race_ho_file_names}, union_by_name=True, filename=False)\n",
    "\"\"\")"
   ]
  },
  {
   "cell_type": "code",
   "execution_count": 10,
   "id": "5d1fa2be",
   "metadata": {},
   "outputs": [],
   "source": [
    "us_populations_per_state_by_sex_age_race_ho_file_names = ['./data/population-data-transformed/us_populations_per_state_by_sex_age_race_ho_2000_2009.parquet/*.parquet',\n",
    "    './data/population-data-transformed/us_populations_per_state_by_sex_age_race_ho_2010_2019.parquet/*.parquet',\n",
    "    './data/population-data-transformed/us_populations_per_state_by_sex_age_race_ho_2020_2023.parquet/*.parquet']"
   ]
  },
  {
   "cell_type": "code",
   "execution_count": 11,
   "id": "442fd904",
   "metadata": {},
   "outputs": [],
   "source": [
    "duckdb.sql(f\"\"\"\n",
    "    CREATE OR REPLACE TABLE us_populations_per_state_by_sex_age_race_ho AS\n",
    "    SELECT *\n",
    "    FROM read_parquet({us_populations_per_state_by_sex_age_race_ho_file_names}, union_by_name=True, filename=False)\n",
    "\"\"\")"
   ]
  },
  {
   "cell_type": "code",
   "execution_count": 12,
   "id": "668dc600",
   "metadata": {},
   "outputs": [
    {
     "data": {
      "text/plain": [
       "┌──────────────┐\n",
       "│ count_star() │\n",
       "│    int64     │\n",
       "├──────────────┤\n",
       "│         1071 │\n",
       "└──────────────┘"
      ]
     },
     "execution_count": 12,
     "metadata": {},
     "output_type": "execute_result"
    }
   ],
   "source": [
    "duckdb.sql(\"\"\"\n",
    "    SELECT COUNT(*)\n",
    "    FROM us_populations_per_state\n",
    "\"\"\")"
   ]
  },
  {
   "cell_type": "code",
   "execution_count": 13,
   "id": "cf21ad5b",
   "metadata": {},
   "outputs": [
    {
     "data": {
      "text/plain": [
       "┌────────────────┬───────┬────────────┬─────────┬──────────┬──────────┬────────┐\n",
       "│    Bracket     │ Year  │ Population │   Sex   │  State   │ AgeStart │ AgeEnd │\n",
       "│    varchar     │ int32 │   int64    │ varchar │ varchar  │  double  │ double │\n",
       "├────────────────┼───────┼────────────┼─────────┼──────────┼──────────┼────────┤\n",
       "│ under 5 years  │  2000 │     150609 │ Male    │ Alabama  │      0.0 │    5.0 │\n",
       "│ under 5 years  │  2001 │     151410 │ Male    │ Alabama  │      0.0 │    5.0 │\n",
       "│ under 5 years  │  2002 │     150856 │ Male    │ Alabama  │      0.0 │    5.0 │\n",
       "│ under 5 years  │  2003 │     150594 │ Male    │ Alabama  │      0.0 │    5.0 │\n",
       "│ under 5 years  │  2004 │     150699 │ Male    │ Alabama  │      0.0 │    5.0 │\n",
       "│ under 5 years  │  2005 │     150960 │ Male    │ Alabama  │      0.0 │    5.0 │\n",
       "│ under 5 years  │  2006 │     151442 │ Male    │ Alabama  │      0.0 │    5.0 │\n",
       "│ under 5 years  │  2007 │     153128 │ Male    │ Alabama  │      0.0 │    5.0 │\n",
       "│ under 5 years  │  2008 │     155061 │ Male    │ Alabama  │      0.0 │    5.0 │\n",
       "│ under 5 years  │  2009 │     155463 │ Male    │ Alabama  │      0.0 │    5.0 │\n",
       "│       ·        │    ·  │        ·   │  ·      │    ·     │       ·  │     ·  │\n",
       "│       ·        │    ·  │        ·   │  ·      │    ·     │       ·  │     ·  │\n",
       "│       ·        │    ·  │        ·   │  ·      │    ·     │       ·  │     ·  │\n",
       "│ 65 to 69 years │  2000 │      66501 │ Male    │ Kentucky │     65.0 │   69.0 │\n",
       "│ 65 to 69 years │  2001 │      67382 │ Male    │ Kentucky │     65.0 │   69.0 │\n",
       "│ 65 to 69 years │  2002 │      68023 │ Male    │ Kentucky │     65.0 │   69.0 │\n",
       "│ 65 to 69 years │  2003 │      69829 │ Male    │ Kentucky │     65.0 │   69.0 │\n",
       "│ 65 to 69 years │  2004 │      71802 │ Male    │ Kentucky │     65.0 │   69.0 │\n",
       "│ 65 to 69 years │  2005 │      73729 │ Male    │ Kentucky │     65.0 │   69.0 │\n",
       "│ 65 to 69 years │  2006 │      76169 │ Male    │ Kentucky │     65.0 │   69.0 │\n",
       "│ 65 to 69 years │  2007 │      79522 │ Male    │ Kentucky │     65.0 │   69.0 │\n",
       "│ 65 to 69 years │  2008 │      83315 │ Male    │ Kentucky │     65.0 │   69.0 │\n",
       "│ 65 to 69 years │  2009 │      85804 │ Male    │ Kentucky │     65.0 │   69.0 │\n",
       "├────────────────┴───────┴────────────┴─────────┴──────────┴──────────┴────────┤\n",
       "│ ? rows (>9999 rows, 20 shown)                                      7 columns │\n",
       "└──────────────────────────────────────────────────────────────────────────────┘"
      ]
     },
     "execution_count": 13,
     "metadata": {},
     "output_type": "execute_result"
    }
   ],
   "source": [
    "duckdb.sql(\"\"\"\n",
    "    SELECT *\n",
    "    FROM us_populations_per_state_by_sex_age\n",
    "\"\"\")"
   ]
  },
  {
   "cell_type": "code",
   "execution_count": 14,
   "id": "2e0634f4",
   "metadata": {},
   "outputs": [
    {
     "data": {
      "text/plain": [
       "┌──────────────┐\n",
       "│ count_star() │\n",
       "│    int64     │\n",
       "├──────────────┤\n",
       "│        29376 │\n",
       "└──────────────┘"
      ]
     },
     "execution_count": 14,
     "metadata": {},
     "output_type": "execute_result"
    }
   ],
   "source": [
    "duckdb.sql(\"\"\"\n",
    "    SELECT COUNT(*)\n",
    "    FROM us_populations_per_state_by_sex_race_ho\n",
    "\"\"\")"
   ]
  },
  {
   "cell_type": "code",
   "execution_count": 15,
   "id": "4ffb1a51",
   "metadata": {},
   "outputs": [
    {
     "data": {
      "text/plain": [
       "┌─────────────┐\n",
       "│  Ethnicity  │\n",
       "│   varchar   │\n",
       "├─────────────┤\n",
       "│ White       │\n",
       "│ Black       │\n",
       "│ Aian        │\n",
       "│ AIAN        │\n",
       "│ Multiracial │\n",
       "│ Nhpi        │\n",
       "│ Asian       │\n",
       "│ NHPI        │\n",
       "└─────────────┘"
      ]
     },
     "execution_count": 15,
     "metadata": {},
     "output_type": "execute_result"
    }
   ],
   "source": [
    "duckdb.sql(\"\"\"\n",
    "    SELECT DISTINCT(Ethnicity)\n",
    "    FROM us_populations_per_state_by_sex_race_ho\n",
    "\"\"\")"
   ]
  },
  {
   "cell_type": "code",
   "execution_count": 16,
   "id": "70c8c667",
   "metadata": {},
   "outputs": [
    {
     "data": {
      "text/plain": [
       "┌─────────┬───────┬─────────────┬──────────────┬─────────┬───────┬────────────┐\n",
       "│  State  │  Age  │  Ethnicity  │    Origin    │   Sex   │ Year  │ Population │\n",
       "│ varchar │ int32 │   varchar   │   varchar    │ varchar │ int32 │   int64    │\n",
       "├─────────┼───────┼─────────────┼──────────────┼─────────┼───────┼────────────┤\n",
       "│ Alabama │     0 │ White       │ Not Hispanic │ Male    │  2000 │      19270 │\n",
       "│ Alabama │     0 │ White       │ Not Hispanic │ Male    │  2001 │      19612 │\n",
       "│ Alabama │     0 │ White       │ Not Hispanic │ Male    │  2002 │      18731 │\n",
       "│ Alabama │     0 │ White       │ Not Hispanic │ Male    │  2003 │      18623 │\n",
       "│ Alabama │     0 │ White       │ Not Hispanic │ Male    │  2004 │      18659 │\n",
       "│ Alabama │     0 │ White       │ Not Hispanic │ Male    │  2005 │      18816 │\n",
       "│ Alabama │     0 │ White       │ Not Hispanic │ Male    │  2006 │      18877 │\n",
       "│ Alabama │     0 │ White       │ Not Hispanic │ Male    │  2007 │      19027 │\n",
       "│ Alabama │     0 │ White       │ Not Hispanic │ Male    │  2008 │      18937 │\n",
       "│ Alabama │     0 │ White       │ Not Hispanic │ Male    │  2009 │      18039 │\n",
       "│    ·    │     · │   ·         │    ·         │  ·      │    ·  │          · │\n",
       "│    ·    │     · │   ·         │    ·         │  ·      │    ·  │          · │\n",
       "│    ·    │     · │   ·         │    ·         │  ·      │    ·  │          · │\n",
       "│ Alabama │    53 │ Multiracial │ Hispanic     │ Male    │  2000 │          3 │\n",
       "│ Alabama │    53 │ Multiracial │ Hispanic     │ Male    │  2001 │          4 │\n",
       "│ Alabama │    53 │ Multiracial │ Hispanic     │ Male    │  2002 │          9 │\n",
       "│ Alabama │    53 │ Multiracial │ Hispanic     │ Male    │  2003 │          6 │\n",
       "│ Alabama │    53 │ Multiracial │ Hispanic     │ Male    │  2004 │          9 │\n",
       "│ Alabama │    53 │ Multiracial │ Hispanic     │ Male    │  2005 │          7 │\n",
       "│ Alabama │    53 │ Multiracial │ Hispanic     │ Male    │  2006 │          8 │\n",
       "│ Alabama │    53 │ Multiracial │ Hispanic     │ Male    │  2007 │          7 │\n",
       "│ Alabama │    53 │ Multiracial │ Hispanic     │ Male    │  2008 │          8 │\n",
       "│ Alabama │    53 │ Multiracial │ Hispanic     │ Male    │  2009 │         11 │\n",
       "├─────────┴───────┴─────────────┴──────────────┴─────────┴───────┴────────────┤\n",
       "│ ? rows (>9999 rows, 20 shown)                                     7 columns │\n",
       "└─────────────────────────────────────────────────────────────────────────────┘"
      ]
     },
     "execution_count": 16,
     "metadata": {},
     "output_type": "execute_result"
    }
   ],
   "source": [
    "duckdb.sql(\"\"\"\n",
    "    SELECT *\n",
    "    FROM us_populations_per_state_by_sex_age_race_ho\n",
    "\"\"\")"
   ]
  },
  {
   "cell_type": "code",
   "execution_count": 17,
   "id": "8ae18a79",
   "metadata": {},
   "outputs": [
    {
     "data": {
      "text/plain": [
       "┌───────┬────────┐\n",
       "│  Age  │ AgeOcc │\n",
       "│ int32 │ int64  │\n",
       "├───────┼────────┤\n",
       "│     0 │  29376 │\n",
       "│     1 │  29376 │\n",
       "│     2 │  29376 │\n",
       "│     3 │  29376 │\n",
       "│     4 │  29376 │\n",
       "│     5 │  29376 │\n",
       "│     6 │  29376 │\n",
       "│     7 │  29376 │\n",
       "│     8 │  29376 │\n",
       "│     9 │  29376 │\n",
       "│     · │    ·   │\n",
       "│     · │    ·   │\n",
       "│     · │    ·   │\n",
       "│    76 │  29376 │\n",
       "│    77 │  29376 │\n",
       "│    78 │  29376 │\n",
       "│    79 │  29376 │\n",
       "│    80 │  29376 │\n",
       "│    81 │  29376 │\n",
       "│    82 │  29376 │\n",
       "│    83 │  29376 │\n",
       "│    84 │  29376 │\n",
       "│    85 │  29376 │\n",
       "├───────┴────────┤\n",
       "│    86 rows     │\n",
       "│   (20 shown)   │\n",
       "└────────────────┘"
      ]
     },
     "execution_count": 17,
     "metadata": {},
     "output_type": "execute_result"
    }
   ],
   "source": [
    "duckdb.sql(\"\"\"\n",
    "    SELECT Age, COUNT(Age) AS AgeOcc\n",
    "    FROM us_populations_per_state_by_sex_age_race_ho\n",
    "    GROUP BY Age\n",
    "\"\"\")"
   ]
  },
  {
   "cell_type": "code",
   "execution_count": 18,
   "id": "f3523e3b",
   "metadata": {},
   "outputs": [],
   "source": [
    "population_unique_states = duckdb.sql(\"\"\"\n",
    "    SELECT DISTINCT(State)\n",
    "    FROM us_populations_per_state\n",
    "\"\"\").fetchall()"
   ]
  },
  {
   "cell_type": "code",
   "execution_count": 19,
   "id": "6d27c048",
   "metadata": {},
   "outputs": [
    {
     "data": {
      "text/plain": [
       "('Arizona',\n",
       " 'Montana',\n",
       " 'Nebraska',\n",
       " 'North Carolina',\n",
       " 'Alabama',\n",
       " 'California',\n",
       " 'Colorado',\n",
       " 'Illinois',\n",
       " 'Mississippi',\n",
       " 'Indiana',\n",
       " 'Maryland',\n",
       " 'New Mexico',\n",
       " 'Washington',\n",
       " 'Michigan',\n",
       " 'Missouri',\n",
       " 'Pennsylvania',\n",
       " 'Georgia',\n",
       " 'South Dakota',\n",
       " 'Vermont',\n",
       " 'Oklahoma',\n",
       " 'Utah',\n",
       " 'Virginia',\n",
       " 'Wyoming',\n",
       " 'Delaware',\n",
       " 'Hawaii',\n",
       " 'North Dakota',\n",
       " 'Arkansas',\n",
       " 'Idaho',\n",
       " 'South Carolina',\n",
       " 'West Virginia',\n",
       " 'Connecticut',\n",
       " 'Maine',\n",
       " 'Massachusetts',\n",
       " 'Oregon',\n",
       " 'New Jersey',\n",
       " 'Tennessee',\n",
       " 'Wisconsin',\n",
       " 'Iowa',\n",
       " 'Kansas',\n",
       " 'Louisiana',\n",
       " 'Ohio',\n",
       " 'Rhode Island',\n",
       " 'Texas',\n",
       " 'Kentucky',\n",
       " 'New York',\n",
       " 'Alaska',\n",
       " 'District of Columbia',\n",
       " 'Florida',\n",
       " 'Minnesota',\n",
       " 'Nevada',\n",
       " 'New Hampshire')"
      ]
     },
     "execution_count": 19,
     "metadata": {},
     "output_type": "execute_result"
    }
   ],
   "source": [
    "population_state_names = list(zip(*population_unique_states))[0]\n",
    "population_state_names"
   ]
  },
  {
   "cell_type": "markdown",
   "id": "e19e1ea0",
   "metadata": {},
   "source": [
    "# Loading transformed chronic disease indicators table"
   ]
  },
  {
   "cell_type": "code",
   "execution_count": 20,
   "id": "a9e86253",
   "metadata": {},
   "outputs": [],
   "source": [
    "cdi_file_name = './data/cdi-data-transformed/cdi.parquet/*.parquet'"
   ]
  },
  {
   "cell_type": "code",
   "execution_count": 21,
   "id": "8e17d56a",
   "metadata": {},
   "outputs": [],
   "source": [
    "q = f\"\"\"\n",
    "    CREATE OR REPLACE TABLE cdi AS\n",
    "    SELECT *\n",
    "    FROM read_parquet('{cdi_file_name}')\n",
    "\"\"\""
   ]
  },
  {
   "cell_type": "code",
   "execution_count": 22,
   "id": "360725e8",
   "metadata": {},
   "outputs": [],
   "source": [
    "duckdb.sql(q)"
   ]
  },
  {
   "cell_type": "code",
   "execution_count": 23,
   "id": "550bb88b",
   "metadata": {},
   "outputs": [
    {
     "data": {
      "text/plain": [
       "┌──────────────┐\n",
       "│ count_star() │\n",
       "│    int64     │\n",
       "├──────────────┤\n",
       "│       678471 │\n",
       "└──────────────┘"
      ]
     },
     "execution_count": 23,
     "metadata": {},
     "output_type": "execute_result"
    }
   ],
   "source": [
    "duckdb.sql(\"\"\"\n",
    "    SELECT COUNT(*)\n",
    "    FROM cdi\n",
    "\"\"\")"
   ]
  },
  {
   "cell_type": "code",
   "execution_count": 24,
   "id": "dbfffdb7",
   "metadata": {},
   "outputs": [
    {
     "data": {
      "text/plain": [
       "┌───────────┬─────────┬──────────────┬────────────────┬─────────┬─────────────────────────────────────────────────────────────────────────────────────────┬───────────────┬─────────────────────────┬───────────┬────────────────────┬─────────────────────┬─────────────────────────┬────────────┬─────────┬────────────┬─────────────────┬───────────────────────────┬───────────────────┬─────────────────────┬────────────────────┬──────────┬────────┬─────────┬───────────┬──────────────┐\n",
       "│ YearStart │ YearEnd │ LocationAbbr │  LocationDesc  │  Topic  │                                        Question                                         │ DataValueUnit │      DataValueType      │ DataValue │ LowConfidenceLimit │ HighConfidenceLimit │ StratificationCategory1 │ LocationID │ TopicID │ QuestionID │ DataValueTypeID │ StratificationCategory1ID │ Stratification1ID │      Latitude       │     Longitude      │ AgeStart │ AgeEnd │   Sex   │ Ethnicity │    Origin    │\n",
       "│   int32   │  int32  │   varchar    │    varchar     │ varchar │                                         varchar                                         │    varchar    │         varchar         │  double   │       double       │       double        │         varchar         │   int32    │ varchar │  varchar   │     varchar     │          varchar          │      varchar      │       double        │       double       │  double  │ double │ varchar │  varchar  │   varchar    │\n",
       "├───────────┼─────────┼──────────────┼────────────────┼─────────┼─────────────────────────────────────────────────────────────────────────────────────────┼───────────────┼─────────────────────────┼───────────┼────────────────────┼─────────────────────┼─────────────────────────┼────────────┼─────────┼────────────┼─────────────────┼───────────────────────────┼───────────────────┼─────────────────────┼────────────────────┼──────────┼────────┼─────────┼───────────┼──────────────┤\n",
       "│      2019 │    2019 │ IL           │ Illinois       │ Alcohol │ Alcohol use among youth                                                                 │ %             │ Crude Prevalence        │       9.2 │                4.0 │                19.6 │ Race/Ethnicity          │         17 │ ALC     │ ALC1_1     │ CRDPREV         │ RACE                      │ ASN               │  -88.99771017799969 │  40.48501028300046 │     18.0 │   24.0 │ Both    │ Asian     │ Not Hispanic │\n",
       "│      2017 │    2017 │ VA           │ Virginia       │ Alcohol │ Alcohol use among youth                                                                 │ %             │ Crude Prevalence        │       9.3 │                5.2 │                16.1 │ Race/Ethnicity          │         51 │ ALC     │ ALC1_1     │ CRDPREV         │ RACE                      │ ASN               │  -78.45789046299967 │  37.54268067400045 │     18.0 │   24.0 │ Both    │ Asian     │ Not Hispanic │\n",
       "│      2015 │    2015 │ VA           │ Virginia       │ Alcohol │ Alcohol use among youth                                                                 │ %             │ Crude Prevalence        │       9.8 │                6.0 │                15.4 │ Race/Ethnicity          │         51 │ ALC     │ ALC1_1     │ CRDPREV         │ RACE                      │ ASN               │  -78.45789046299967 │  37.54268067400045 │     18.0 │   24.0 │ Both    │ Asian     │ Not Hispanic │\n",
       "│      2013 │    2013 │ MI           │ Michigan       │ Alcohol │ Alcohol use among youth                                                                 │ %             │ Crude Prevalence        │      12.8 │                6.4 │                23.8 │ Race/Ethnicity          │         26 │ ALC     │ ALC1_1     │ CRDPREV         │ RACE                      │ ASN               │  -84.71439026999968 │   44.6613195430005 │     18.0 │   24.0 │ Both    │ Asian     │ Not Hispanic │\n",
       "│      2019 │    2019 │ NY           │ New York       │ Alcohol │ Alcohol use among youth                                                                 │ %             │ Crude Prevalence        │      11.1 │                7.9 │                15.4 │ Race/Ethnicity          │         36 │ ALC     │ ALC1_1     │ CRDPREV         │ RACE                      │ ASN               │  -75.54397042699964 │  42.82700103200045 │     18.0 │   24.0 │ Both    │ Asian     │ Not Hispanic │\n",
       "│      2017 │    2017 │ UT           │ Utah           │ Alcohol │ Alcohol use among youth                                                                 │ %             │ Crude Prevalence        │      11.2 │                8.0 │                15.5 │ Gender                  │         49 │ ALC     │ ALC1_1     │ CRDPREV         │ GENDER                    │ GENF              │ -111.58713063499971 │ 39.360700171000474 │     18.0 │   24.0 │ Female  │ All       │ Both         │\n",
       "│      2017 │    2017 │ CA           │ California     │ Alcohol │ Alcohol use among youth                                                                 │ %             │ Crude Prevalence        │      13.8 │                9.0 │                20.6 │ Race/Ethnicity          │          6 │ ALC     │ ALC1_1     │ CRDPREV         │ RACE                      │ ASN               │ -120.99999953799971 │  37.63864012300047 │     18.0 │   24.0 │ Both    │ Asian     │ Not Hispanic │\n",
       "│      2013 │    2013 │ UT           │ Utah           │ Alcohol │ Alcohol use among youth                                                                 │ %             │ Crude Prevalence        │      11.0 │                9.3 │                13.0 │ Overall                 │         49 │ ALC     │ ALC1_1     │ CRDPREV         │ OVERALL                   │ OVR               │ -111.58713063499971 │ 39.360700171000474 │     18.0 │   24.0 │ Both    │ All       │ Both         │\n",
       "│      2017 │    2017 │ SC           │ South Carolina │ Alcohol │ Alcohol use among youth                                                                 │ %             │ Crude Prevalence        │      15.6 │               11.2 │                21.4 │ Race/Ethnicity          │         45 │ ALC     │ ALC1_1     │ CRDPREV         │ RACE                      │ BLK               │  -81.04537120699968 │ 33.998821303000454 │     18.0 │   24.0 │ Both    │ Black     │ Not Hispanic │\n",
       "│      2019 │    2019 │ HI           │ Hawaii         │ Alcohol │ Alcohol use among youth                                                                 │ %             │ Crude Prevalence        │      14.2 │               11.7 │                17.0 │ Race/Ethnicity          │         15 │ ALC     │ ALC1_1     │ CRDPREV         │ RACE                      │ ASN               │ -157.85774940299973 │ 21.304850435000446 │     18.0 │   24.0 │ Both    │ Asian     │ Not Hispanic │\n",
       "│        ·  │      ·  │ ·            │   ·            │   ·     │            ·                                                                            │ ·             │        ·                │        ·  │                 ·  │                  ·  │   ·                     │          · │  ·      │   ·        │    ·            │  ·                        │  ·                │           ·         │          ·         │       ·  │     ·  │  ·      │  ·        │  ·           │\n",
       "│        ·  │      ·  │ ·            │   ·            │   ·     │            ·                                                                            │ ·             │        ·                │        ·  │                 ·  │                  ·  │   ·                     │          · │  ·      │   ·        │    ·            │  ·                        │  ·                │           ·         │          ·         │       ·  │     ·  │  ·      │  ·        │  ·           │\n",
       "│        ·  │      ·  │ ·            │   ·            │   ·     │            ·                                                                            │ ·             │        ·                │        ·  │                 ·  │                  ·  │   ·                     │          · │  ·      │   ·        │    ·            │  ·                        │  ·                │           ·         │          ·         │       ·  │     ·  │  ·      │  ·        │  ·           │\n",
       "│      2016 │    2016 │ CT           │ Connecticut    │ Asthma  │ Pneumococcal vaccination among noninstitutionalized adults aged >= 65 years with asthma │ %             │ Crude Prevalence        │      79.5 │               65.1 │                88.9 │ Gender                  │          9 │ AST     │ AST6_2     │ CRDPREV         │ GENDER                    │ GENM              │  -72.64984095199964 │  41.56266102000046 │     65.0 │    inf │ Male    │ All       │ Both         │\n",
       "│      2021 │    2021 │ ME           │ Maine          │ Asthma  │ Pneumococcal vaccination among noninstitutionalized adults aged >= 65 years with asthma │ %             │ Crude Prevalence        │      76.7 │               65.3 │                85.1 │ Gender                  │         23 │ AST     │ AST6_2     │ CRDPREV         │ GENDER                    │ GENM              │  -68.98503133599962 │ 45.254228894000505 │     65.0 │    inf │ Male    │ All       │ Both         │\n",
       "│      2013 │    2013 │ HI           │ Hawaii         │ Asthma  │ Pneumococcal vaccination among noninstitutionalized adults aged >= 65 years with asthma │ %             │ Crude Prevalence        │      83.7 │               65.3 │                93.3 │ Race/Ethnicity          │         15 │ AST     │ AST6_2     │ CRDPREV         │ RACE                      │ WHT               │ -157.85774940299973 │ 21.304850435000446 │     65.0 │    inf │ Both    │ White     │ Not Hispanic │\n",
       "│      2020 │    2020 │ MD           │ Maryland       │ Asthma  │ Pneumococcal vaccination among noninstitutionalized adults aged >= 65 years with asthma │ %             │ Crude Prevalence        │      80.2 │               65.4 │                89.7 │ Race/Ethnicity          │         24 │ AST     │ AST6_2     │ CRDPREV         │ RACE                      │ BLK               │  -76.60926011099963 │  39.29058096400047 │     65.0 │    inf │ Both    │ Black     │ Not Hispanic │\n",
       "│      2011 │    2011 │ ID           │ Idaho          │ Asthma  │ Pneumococcal vaccination among noninstitutionalized adults aged >= 65 years with asthma │ %             │ Age-adjusted Prevalence │      81.1 │               65.4 │                90.7 │ Race/Ethnicity          │         16 │ AST     │ AST6_2     │ AGEADJPREV      │ RACE                      │ WHT               │  -114.3637300419997 │ 43.682630005000476 │     65.0 │    inf │ Both    │ White     │ Not Hispanic │\n",
       "│      2019 │    2019 │ GA           │ Georgia        │ Asthma  │ Pneumococcal vaccination among noninstitutionalized adults aged >= 65 years with asthma │ %             │ Age-adjusted Prevalence │      78.2 │               65.8 │                86.9 │ Gender                  │         13 │ AST     │ AST6_2     │ AGEADJPREV      │ GENDER                    │ GENF              │  -83.62758034599966 │  32.83968109300048 │     65.0 │    inf │ Female  │ All       │ Both         │\n",
       "│      2020 │    2020 │ PA           │ Pennsylvania   │ Asthma  │ Pneumococcal vaccination among noninstitutionalized adults aged >= 65 years with asthma │ %             │ Crude Prevalence        │      78.4 │               65.8 │                87.2 │ Overall                 │         42 │ AST     │ AST6_2     │ CRDPREV         │ OVERALL                   │ OVR               │  -77.86070029399963 │  40.79373015200048 │     65.0 │    inf │ Both    │ All       │ Both         │\n",
       "│      2021 │    2021 │ KY           │ Kentucky       │ Asthma  │ Pneumococcal vaccination among noninstitutionalized adults aged >= 65 years with asthma │ %             │ Age-adjusted Prevalence │      76.9 │               65.9 │                85.2 │ Race/Ethnicity          │         21 │ AST     │ AST6_2     │ AGEADJPREV      │ RACE                      │ WHT               │  -84.77497104799966 │ 37.645970271000465 │     65.0 │    inf │ Both    │ White     │ Not Hispanic │\n",
       "│      2017 │    2017 │ MA           │ Massachusetts  │ Asthma  │ Pneumococcal vaccination among noninstitutionalized adults aged >= 65 years with asthma │ %             │ Age-adjusted Prevalence │      83.3 │               66.0 │                92.8 │ Gender                  │         25 │ AST     │ AST6_2     │ AGEADJPREV      │ GENDER                    │ GENF              │  -72.08269067499964 │  42.27687047000046 │     65.0 │    inf │ Female  │ All       │ Both         │\n",
       "│      2018 │    2018 │ NC           │ North Carolina │ Asthma  │ Pneumococcal vaccination among noninstitutionalized adults aged >= 65 years with asthma │ %             │ Age-adjusted Prevalence │      84.2 │               66.1 │                93.6 │ Race/Ethnicity          │         37 │ AST     │ AST6_2     │ AGEADJPREV      │ RACE                      │ WHT               │  -79.15925046299964 │ 35.466220975000454 │     65.0 │    inf │ Both    │ White     │ Not Hispanic │\n",
       "├───────────┴─────────┴──────────────┴────────────────┴─────────┴─────────────────────────────────────────────────────────────────────────────────────────┴───────────────┴─────────────────────────┴───────────┴────────────────────┴─────────────────────┴─────────────────────────┴────────────┴─────────┴────────────┴─────────────────┴───────────────────────────┴───────────────────┴─────────────────────┴────────────────────┴──────────┴────────┴─────────┴───────────┴──────────────┤\n",
       "│ ? rows (>9999 rows, 20 shown)                                                                                                                                                                                                                                                                                                                                                                                                                                                     25 columns │\n",
       "└──────────────────────────────────────────────────────────────────────────────────────────────────────────────────────────────────────────────────────────────────────────────────────────────────────────────────────────────────────────────────────────────────────────────────────────────────────────────────────────────────────────────────────────────────────────────────────────────────────────────────────────────────────────────────────────────────────────────────────────────┘"
      ]
     },
     "execution_count": 24,
     "metadata": {},
     "output_type": "execute_result"
    }
   ],
   "source": [
    "duckdb.sql(\"\"\"\n",
    "    SELECT *\n",
    "    FROM cdi\n",
    "\"\"\")"
   ]
  },
  {
   "cell_type": "markdown",
   "id": "fbf03b8f",
   "metadata": {},
   "source": [
    "#### unique pairs of question id and topic id"
   ]
  },
  {
   "cell_type": "code",
   "execution_count": 25,
   "id": "6b88464e",
   "metadata": {},
   "outputs": [
    {
     "data": {
      "text/plain": [
       "┌─────────┬────────────┐\n",
       "│ TopicID │ QuestionID │\n",
       "│ varchar │  varchar   │\n",
       "├─────────┼────────────┤\n",
       "│ COPD    │ COPD5_4    │\n",
       "│ COPD    │ COPD6_2    │\n",
       "│ CVD     │ CVD4_0     │\n",
       "│ CVD     │ CVD7_0     │\n",
       "│ DIA     │ DIA11_1    │\n",
       "│ DIA     │ DIA12_1    │\n",
       "│ IMM     │ IMM1_0     │\n",
       "│ NPAW    │ NPAW1_2    │\n",
       "│ ORH     │ ORH4_2     │\n",
       "│ OVC     │ OVC6_2     │\n",
       "│  ·      │   ·        │\n",
       "│  ·      │   ·        │\n",
       "│  ·      │   ·        │\n",
       "│ COPD    │ COPD5_2    │\n",
       "│ CVD     │ CVD1_5     │\n",
       "│ DIA     │ DIA7_0     │\n",
       "│ NPAW    │ NPAW4_1    │\n",
       "│ NPAW    │ NPAW5_2    │\n",
       "│ OVC     │ OVC1_1     │\n",
       "│ OVC     │ OVC7_1     │\n",
       "│ AST     │ AST4_1     │\n",
       "│ AST     │ AST5_1     │\n",
       "│ CAN     │ CAN9_1     │\n",
       "├─────────┴────────────┤\n",
       "│ 192 rows (20 shown)  │\n",
       "└──────────────────────┘"
      ]
     },
     "execution_count": 25,
     "metadata": {},
     "output_type": "execute_result"
    }
   ],
   "source": [
    "duckdb.sql(\"\"\"\n",
    "    SELECT TopicID, QuestionID\n",
    "    FROM cdi\n",
    "    GROUP BY TopicID, QuestionID\n",
    "\"\"\")"
   ]
  },
  {
   "cell_type": "code",
   "execution_count": 26,
   "id": "f6a67d20",
   "metadata": {},
   "outputs": [
    {
     "data": {
      "text/plain": [
       "[('UT', 'Utah'),\n",
       " ('RI', 'Rhode Island'),\n",
       " ('AK', 'Alaska'),\n",
       " ('KS', 'Kansas'),\n",
       " ('TN', 'Tennessee'),\n",
       " ('OH', 'Ohio'),\n",
       " ('MS', 'Mississippi'),\n",
       " ('WY', 'Wyoming'),\n",
       " ('MN', 'Minnesota'),\n",
       " ('NV', 'Nevada'),\n",
       " ('HI', 'Hawaii'),\n",
       " ('ND', 'North Dakota'),\n",
       " ('FL', 'Florida'),\n",
       " ('NM', 'New Mexico'),\n",
       " ('WI', 'Wisconsin'),\n",
       " ('AZ', 'Arizona'),\n",
       " ('IL', 'Illinois'),\n",
       " ('MD', 'Maryland'),\n",
       " ('NH', 'New Hampshire'),\n",
       " ('NE', 'Nebraska'),\n",
       " ('WV', 'West Virginia'),\n",
       " ('CO', 'Colorado'),\n",
       " ('IN', 'Indiana'),\n",
       " ('DC', 'District of Columbia'),\n",
       " ('ME', 'Maine'),\n",
       " ('DE', 'Delaware'),\n",
       " ('GA', 'Georgia'),\n",
       " ('VT', 'Vermont'),\n",
       " ('MT', 'Montana'),\n",
       " ('AR', 'Arkansas'),\n",
       " ('LA', 'Louisiana'),\n",
       " ('CA', 'California'),\n",
       " ('KY', 'Kentucky'),\n",
       " ('MO', 'Missouri'),\n",
       " ('TX', 'Texas'),\n",
       " ('CT', 'Connecticut'),\n",
       " ('NY', 'New York'),\n",
       " ('SC', 'South Carolina'),\n",
       " ('SD', 'South Dakota'),\n",
       " ('OK', 'Oklahoma'),\n",
       " ('IA', 'Iowa'),\n",
       " ('AL', 'Alabama'),\n",
       " ('MI', 'Michigan'),\n",
       " ('WA', 'Washington'),\n",
       " ('ID', 'Idaho'),\n",
       " ('OR', 'Oregon'),\n",
       " ('MA', 'Massachusetts'),\n",
       " ('NJ', 'New Jersey'),\n",
       " ('NC', 'North Carolina'),\n",
       " ('PA', 'Pennsylvania'),\n",
       " ('VA', 'Virginia')]"
      ]
     },
     "execution_count": 26,
     "metadata": {},
     "output_type": "execute_result"
    }
   ],
   "source": [
    "cdi_unique_states = duckdb.sql(\"\"\"\n",
    "    SELECT LocationAbbr, LocationDesc\n",
    "    FROM cdi\n",
    "    GROUP BY LocationAbbr, LocationDesc\n",
    "\"\"\").fetchall()\n",
    "cdi_unique_states"
   ]
  },
  {
   "cell_type": "code",
   "execution_count": 27,
   "id": "ddf3ee80",
   "metadata": {},
   "outputs": [
    {
     "data": {
      "text/plain": [
       "('UT',\n",
       " 'RI',\n",
       " 'AK',\n",
       " 'KS',\n",
       " 'TN',\n",
       " 'OH',\n",
       " 'MS',\n",
       " 'WY',\n",
       " 'MN',\n",
       " 'NV',\n",
       " 'HI',\n",
       " 'ND',\n",
       " 'FL',\n",
       " 'NM',\n",
       " 'WI',\n",
       " 'AZ',\n",
       " 'IL',\n",
       " 'MD',\n",
       " 'NH',\n",
       " 'NE',\n",
       " 'WV',\n",
       " 'CO',\n",
       " 'IN',\n",
       " 'DC',\n",
       " 'ME',\n",
       " 'DE',\n",
       " 'GA',\n",
       " 'VT',\n",
       " 'MT',\n",
       " 'AR',\n",
       " 'LA',\n",
       " 'CA',\n",
       " 'KY',\n",
       " 'MO',\n",
       " 'TX',\n",
       " 'CT',\n",
       " 'NY',\n",
       " 'SC',\n",
       " 'SD',\n",
       " 'OK',\n",
       " 'IA',\n",
       " 'AL',\n",
       " 'MI',\n",
       " 'WA',\n",
       " 'ID',\n",
       " 'OR',\n",
       " 'MA',\n",
       " 'NJ',\n",
       " 'NC',\n",
       " 'PA',\n",
       " 'VA')"
      ]
     },
     "execution_count": 27,
     "metadata": {},
     "output_type": "execute_result"
    }
   ],
   "source": [
    "cdi_state_codes, cdi_state_names = zip(*cdi_unique_states)\n",
    "cdi_state_codes"
   ]
  },
  {
   "cell_type": "code",
   "execution_count": 28,
   "id": "4440160e",
   "metadata": {},
   "outputs": [
    {
     "data": {
      "text/plain": [
       "set()"
      ]
     },
     "execution_count": 28,
     "metadata": {},
     "output_type": "execute_result"
    }
   ],
   "source": [
    "set(cdi_state_names) - set(population_state_names)"
   ]
  },
  {
   "cell_type": "code",
   "execution_count": 29,
   "id": "9442e9b9",
   "metadata": {},
   "outputs": [
    {
     "data": {
      "text/plain": [
       "┌─────────┬─────────────┬──────────────┐\n",
       "│   Sex   │  Ethnicity  │    Origin    │\n",
       "│ varchar │   varchar   │   varchar    │\n",
       "├─────────┼─────────────┼──────────────┤\n",
       "│ Both    │ All         │ Both         │\n",
       "│ Female  │ All         │ Both         │\n",
       "│ Both    │ Other       │ Not Hispanic │\n",
       "│ Both    │ NHPI        │ Not Hispanic │\n",
       "│ Both    │ Multiracial │ Not Hispanic │\n",
       "│ Both    │ Black       │ Not Hispanic │\n",
       "│ Both    │ Asian       │ Not Hispanic │\n",
       "│ Both    │ All         │ Hispanic     │\n",
       "│ Both    │ White       │ Not Hispanic │\n",
       "│ Both    │ AIAN        │ Not Hispanic │\n",
       "│ Male    │ All         │ Both         │\n",
       "├─────────┴─────────────┴──────────────┤\n",
       "│ 11 rows                    3 columns │\n",
       "└──────────────────────────────────────┘"
      ]
     },
     "execution_count": 29,
     "metadata": {},
     "output_type": "execute_result"
    }
   ],
   "source": [
    "duckdb.sql(\"\"\"\n",
    "    SELECT Sex, Ethnicity, Origin\n",
    "    FROM cdi\n",
    "    GROUP BY Sex, Ethnicity, Origin\n",
    "\"\"\")"
   ]
  },
  {
   "cell_type": "code",
   "execution_count": 30,
   "id": "84fbfee7",
   "metadata": {},
   "outputs": [
    {
     "data": {
      "text/plain": [
       "┌─────────┐\n",
       "│   Sex   │\n",
       "│ varchar │\n",
       "├─────────┤\n",
       "│ Both    │\n",
       "│ Male    │\n",
       "│ Female  │\n",
       "└─────────┘"
      ]
     },
     "execution_count": 30,
     "metadata": {},
     "output_type": "execute_result"
    }
   ],
   "source": [
    "duckdb.sql(\"\"\"\n",
    "    SELECT DISTINCT(Sex)\n",
    "    FROM cdi\n",
    "\"\"\")"
   ]
  },
  {
   "cell_type": "code",
   "execution_count": 31,
   "id": "c8c0e484",
   "metadata": {},
   "outputs": [
    {
     "data": {
      "text/plain": [
       "┌─────────────┐\n",
       "│  Ethnicity  │\n",
       "│   varchar   │\n",
       "├─────────────┤\n",
       "│ Other       │\n",
       "│ Asian       │\n",
       "│ White       │\n",
       "│ Black       │\n",
       "│ Multiracial │\n",
       "│ AIAN        │\n",
       "│ All         │\n",
       "│ NHPI        │\n",
       "└─────────────┘"
      ]
     },
     "execution_count": 31,
     "metadata": {},
     "output_type": "execute_result"
    }
   ],
   "source": [
    "duckdb.sql(\"\"\"\n",
    "    SELECT DISTINCT(Ethnicity)\n",
    "    FROM cdi\n",
    "\"\"\")"
   ]
  },
  {
   "cell_type": "code",
   "execution_count": 32,
   "id": "5dd745dd",
   "metadata": {},
   "outputs": [
    {
     "data": {
      "text/plain": [
       "┌──────────────┐\n",
       "│    Origin    │\n",
       "│   varchar    │\n",
       "├──────────────┤\n",
       "│ Hispanic     │\n",
       "│ Not Hispanic │\n",
       "│ Both         │\n",
       "└──────────────┘"
      ]
     },
     "execution_count": 32,
     "metadata": {},
     "output_type": "execute_result"
    }
   ],
   "source": [
    "duckdb.sql(\"\"\"\n",
    "    SELECT DISTINCT(Origin)\n",
    "    FROM cdi\n",
    "\"\"\")"
   ]
  }
 ],
 "metadata": {
  "kernelspec": {
   "display_name": "tech-interview",
   "language": "python",
   "name": "python3"
  },
  "language_info": {
   "codemirror_mode": {
    "name": "ipython",
    "version": 3
   },
   "file_extension": ".py",
   "mimetype": "text/x-python",
   "name": "python",
   "nbconvert_exporter": "python",
   "pygments_lexer": "ipython3",
   "version": "3.12.3"
  }
 },
 "nbformat": 4,
 "nbformat_minor": 5
}
