{
 "cells": [
  {
   "cell_type": "code",
   "execution_count": 87,
   "id": "84da2a7c",
   "metadata": {},
   "outputs": [],
   "source": [
    "import os\n",
    "import numpy as np\n",
    "import ast\n",
    "import re\n",
    "\n",
    "import pyspark.sql.functions as f\n",
    "# f.lit\n",
    "from pyspark.sql import SparkSession\n",
    "from pyspark.sql.types import StringType, ArrayType, StructField, StructType, FloatType, DoubleType"
   ]
  },
  {
   "cell_type": "code",
   "execution_count": 88,
   "id": "fac357c1",
   "metadata": {},
   "outputs": [
    {
     "name": "stdout",
     "output_type": "stream",
     "text": [
      "+---------+-------+------------+--------------------+----------+------+--------------------+--------+-------------+-------------+---------+------------+-----------------------+-----------------+------------------+-------------------+-----------------------+-------------------+-----------------------+---------------+-----------------------+---------------+--------------------+----------+----------+-------+----------+---------------+-------------------------+-----------------+-------------------------+-----------------+-------------------------+-----------------+\n",
      "|YearStart|YearEnd|LocationAbbr|        LocationDesc|DataSource| Topic|            Question|Response|DataValueUnit|DataValueType|DataValue|DataValueAlt|DataValueFootnoteSymbol|DatavalueFootnote|LowConfidenceLimit|HighConfidenceLimit|StratificationCategory1|    Stratification1|StratificationCategory2|Stratification2|StratificationCategory3|Stratification3|         GeoLocation|ResponseID|LocationID|TopicID|QuestionID|DataValueTypeID|StratificationCategoryID1|StratificationID1|StratificationCategoryID2|StratificationID2|StratificationCategoryID3|StratificationID3|\n",
      "+---------+-------+------------+--------------------+----------+------+--------------------+--------+-------------+-------------+---------+------------+-----------------------+-----------------+------------------+-------------------+-----------------------+-------------------+-----------------------+---------------+-----------------------+---------------+--------------------+----------+----------+-------+----------+---------------+-------------------------+-----------------+-------------------------+-----------------+-------------------------+-----------------+\n",
      "|     2014|   2014|          AR|            Arkansas| SEDD; SID|Asthma|Hospitalizations ...|    NULL|         NULL|       Number|      916|       916.0|                   NULL|             NULL|              NULL|               NULL|                 Gender|               Male|                   NULL|           NULL|                   NULL|           NULL|POINT (-92.274490...|      NULL|         5|    AST|    AST3_1|           NMBR|                   GENDER|             GENM|                     NULL|             NULL|                     NULL|             NULL|\n",
      "|     2018|   2018|          CO|            Colorado| SEDD; SID|Asthma|Hospitalizations ...|    NULL|         NULL|       Number|     2227|      2227.0|                   NULL|             NULL|              NULL|               NULL|                Overall|            Overall|                   NULL|           NULL|                   NULL|           NULL|POINT (-106.13361...|      NULL|         8|    AST|    AST3_1|           NMBR|                  OVERALL|              OVR|                     NULL|             NULL|                     NULL|             NULL|\n",
      "|     2018|   2018|          DC|District of Columbia| SEDD; SID|Asthma|Hospitalizations ...|    NULL|         NULL|       Number|      708|       708.0|                   NULL|             NULL|              NULL|               NULL|                Overall|            Overall|                   NULL|           NULL|                   NULL|           NULL|POINT (-77.036871...|      NULL|        11|    AST|    AST3_1|           NMBR|                  OVERALL|              OVR|                     NULL|             NULL|                     NULL|             NULL|\n",
      "|     2017|   2017|          GA|             Georgia| SEDD; SID|Asthma|Hospitalizations ...|    NULL|         NULL|       Number|     3520|      3520.0|                   NULL|             NULL|              NULL|               NULL|                 Gender|             Female|                   NULL|           NULL|                   NULL|           NULL|POINT (-83.627580...|      NULL|        13|    AST|    AST3_1|           NMBR|                   GENDER|             GENF|                     NULL|             NULL|                     NULL|             NULL|\n",
      "|     2010|   2010|          MI|            Michigan| SEDD; SID|Asthma|Hospitalizations ...|    NULL|         NULL|       Number|      123|       123.0|                   NULL|             NULL|              NULL|               NULL|         Race/Ethnicity|           Hispanic|                   NULL|           NULL|                   NULL|           NULL|POINT (-84.714390...|      NULL|        26|    AST|    AST3_1|           NMBR|                     RACE|              HIS|                     NULL|             NULL|                     NULL|             NULL|\n",
      "|     2015|   2015|          MT|             Montana| SEDD; SID|Asthma|Hospitalizations ...|    NULL|         NULL|       Number|     NULL|        NULL|                      -|No data available|              NULL|               NULL|         Race/Ethnicity|           Hispanic|                   NULL|           NULL|                   NULL|           NULL|POINT (-109.42442...|      NULL|        30|    AST|    AST3_1|           NMBR|                     RACE|              HIS|                     NULL|             NULL|                     NULL|             NULL|\n",
      "|     2013|   2013|          OR|              Oregon| SEDD; SID|Asthma|Hospitalizations ...|    NULL|         NULL|       Number|      760|       760.0|                   NULL|             NULL|              NULL|               NULL|                 Gender|               Male|                   NULL|           NULL|                   NULL|           NULL|POINT (-120.15503...|      NULL|        41|    AST|    AST3_1|           NMBR|                   GENDER|             GENM|                     NULL|             NULL|                     NULL|             NULL|\n",
      "|     2013|   2013|          PR|         Puerto Rico| SEDD; SID|Asthma|Hospitalizations ...|    NULL|         NULL|       Number|     NULL|        NULL|                      -|No data available|              NULL|               NULL|                Overall|            Overall|                   NULL|           NULL|                   NULL|           NULL|POINT (-66.590149...|      NULL|        72|    AST|    AST3_1|           NMBR|                  OVERALL|              OVR|                     NULL|             NULL|                     NULL|             NULL|\n",
      "|     2017|   2017|          PR|         Puerto Rico| SEDD; SID|Asthma|Hospitalizations ...|    NULL|         NULL|       Number|     NULL|        NULL|                      -|No data available|              NULL|               NULL|                Overall|            Overall|                   NULL|           NULL|                   NULL|           NULL|POINT (-66.590149...|      NULL|        72|    AST|    AST3_1|           NMBR|                  OVERALL|              OVR|                     NULL|             NULL|                     NULL|             NULL|\n",
      "|     2010|   2010|          WI|           Wisconsin| SEDD; SID|Asthma|Hospitalizations ...|    NULL|         NULL|       Number|     1967|      1967.0|                   NULL|             NULL|              NULL|               NULL|                 Gender|               Male|                   NULL|           NULL|                   NULL|           NULL|POINT (-89.816370...|      NULL|        55|    AST|    AST3_1|           NMBR|                   GENDER|             GENM|                     NULL|             NULL|                     NULL|             NULL|\n",
      "|     2016|   2016|          WI|           Wisconsin| SEDD; SID|Asthma|Hospitalizations ...|    NULL|         NULL|       Number|      110|       110.0|                   NULL|             NULL|              NULL|               NULL|         Race/Ethnicity|           Hispanic|                   NULL|           NULL|                   NULL|           NULL|POINT (-89.816370...|      NULL|        55|    AST|    AST3_1|           NMBR|                     RACE|              HIS|                     NULL|             NULL|                     NULL|             NULL|\n",
      "|     2014|   2014|          AL|             Alabama|      NVSS|Asthma|Asthma mortality ...|    NULL|         NULL|       Number|       22|        22.0|                   NULL|             NULL|              NULL|               NULL|                 Gender|               Male|                   NULL|           NULL|                   NULL|           NULL|POINT (-86.631860...|      NULL|         1|    AST|    AST4_1|           NMBR|                   GENDER|             GENM|                     NULL|             NULL|                     NULL|             NULL|\n",
      "|     2015|   2015|          ID|               Idaho|      NVSS|Asthma|Asthma mortality ...|    NULL|         NULL|       Number|       21|        21.0|                   NULL|             NULL|              NULL|               NULL|                Overall|            Overall|                   NULL|           NULL|                   NULL|           NULL|POINT (-114.36373...|      NULL|        16|    AST|    AST4_1|           NMBR|                  OVERALL|              OVR|                     NULL|             NULL|                     NULL|             NULL|\n",
      "|     2016|   2016|          ID|               Idaho|      NVSS|Asthma|Asthma mortality ...|    NULL|         NULL|       Number|       21|        21.0|                   NULL|             NULL|              NULL|               NULL|                Overall|            Overall|                   NULL|           NULL|                   NULL|           NULL|POINT (-114.36373...|      NULL|        16|    AST|    AST4_1|           NMBR|                  OVERALL|              OVR|                     NULL|             NULL|                     NULL|             NULL|\n",
      "|     2020|   2020|          IL|            Illinois|      NVSS|Asthma|Asthma mortality ...|    NULL|       Number|       Number|       89|        89.0|                   NULL|             NULL|              NULL|               NULL|                 Gender|               Male|                   NULL|           NULL|                   NULL|           NULL|POINT (-88.997710...|      NULL|        17|    AST|    AST4_1|           NMBR|                   GENDER|             GENM|                     NULL|             NULL|                     NULL|             NULL|\n",
      "|     2012|   2012|          KS|              Kansas|      NVSS|Asthma|Asthma mortality ...|    NULL|         NULL|       Number|       24|        24.0|                   NULL|             NULL|              NULL|               NULL|         Race/Ethnicity|White, non-Hispanic|                   NULL|           NULL|                   NULL|           NULL|POINT (-98.200781...|      NULL|        20|    AST|    AST4_1|           NMBR|                     RACE|              WHT|                     NULL|             NULL|                     NULL|             NULL|\n",
      "|     2015|   2015|          KS|              Kansas|      NVSS|Asthma|Asthma mortality ...|    NULL|         NULL|       Number|       29|        29.0|                   NULL|             NULL|              NULL|               NULL|                Overall|            Overall|                   NULL|           NULL|                   NULL|           NULL|POINT (-98.200781...|      NULL|        20|    AST|    AST4_1|           NMBR|                  OVERALL|              OVR|                     NULL|             NULL|                     NULL|             NULL|\n",
      "|     2018|   2018|          KS|              Kansas|      NVSS|Asthma|Asthma mortality ...|    NULL|       Number|       Number|       29|        29.0|                   NULL|             NULL|              NULL|               NULL|                Overall|            Overall|                   NULL|           NULL|                   NULL|           NULL|POINT (-98.200781...|      NULL|        20|    AST|    AST4_1|           NMBR|                  OVERALL|              OVR|                     NULL|             NULL|                     NULL|             NULL|\n",
      "|     2017|   2017|          LA|           Louisiana|      NVSS|Asthma|Asthma mortality ...|    NULL|         NULL|       Number|       21|        21.0|                   NULL|             NULL|              NULL|               NULL|                 Gender|               Male|                   NULL|           NULL|                   NULL|           NULL|POINT (-92.445680...|      NULL|        22|    AST|    AST4_1|           NMBR|                   GENDER|             GENM|                     NULL|             NULL|                     NULL|             NULL|\n",
      "|     2017|   2017|          MA|       Massachusetts|      NVSS|Asthma|Asthma mortality ...|    NULL|         NULL|       Number|       28|        28.0|                   NULL|             NULL|              NULL|               NULL|                 Gender|               Male|                   NULL|           NULL|                   NULL|           NULL|POINT (-72.082690...|      NULL|        25|    AST|    AST4_1|           NMBR|                   GENDER|             GENM|                     NULL|             NULL|                     NULL|             NULL|\n",
      "+---------+-------+------------+--------------------+----------+------+--------------------+--------+-------------+-------------+---------+------------+-----------------------+-----------------+------------------+-------------------+-----------------------+-------------------+-----------------------+---------------+-----------------------+---------------+--------------------+----------+----------+-------+----------+---------------+-------------------------+-----------------+-------------------------+-----------------+-------------------------+-----------------+\n",
      "only showing top 20 rows\n",
      "\n"
     ]
    }
   ],
   "source": [
    "DATA_DIR = \"./data/chronic-disease-data\"\n",
    "\n",
    "path = os.path.join(DATA_DIR, \"U.S._Chronic_Disease_Indicators__CDI___2023_Release.csv\")\n",
    "\n",
    "spark = SparkSession.builder.appName('test')\\\n",
    "    .config(\"spark.executor.memory\", \"16g\")\\\n",
    "    .getOrCreate()\n",
    "\n",
    "test_spark_df_00_10 = spark.read.format(\"csv\")\\\n",
    "    .option(\"header\", \"true\")\\\n",
    "    .option(\"inferSchema\", \"true\")\\\n",
    "    .load(path)\n",
    "\n",
    "test_spark_df_00_10.show()"
   ]
  },
  {
   "cell_type": "markdown",
   "id": "cf4546e0",
   "metadata": {},
   "source": [
    "# Drop uneccessary columns"
   ]
  },
  {
   "cell_type": "code",
   "execution_count": 89,
   "id": "692fc784",
   "metadata": {},
   "outputs": [
    {
     "name": "stdout",
     "output_type": "stream",
     "text": [
      "+---------+-------+------------+--------------------+----------+------+--------------------+-------------+-------------+---------+------------+------------------+-------------------+-----------------------+-------------------+--------------------+----------+-------+----------+---------------+\n",
      "|YearStart|YearEnd|LocationAbbr|        LocationDesc|DataSource| Topic|            Question|DataValueUnit|DataValueType|DataValue|DataValueAlt|LowConfidenceLimit|HighConfidenceLimit|StratificationCategory1|    Stratification1|         GeoLocation|LocationID|TopicID|QuestionID|DataValueTypeID|\n",
      "+---------+-------+------------+--------------------+----------+------+--------------------+-------------+-------------+---------+------------+------------------+-------------------+-----------------------+-------------------+--------------------+----------+-------+----------+---------------+\n",
      "|     2014|   2014|          AR|            Arkansas| SEDD; SID|Asthma|Hospitalizations ...|         NULL|       Number|      916|       916.0|              NULL|               NULL|                 Gender|               Male|POINT (-92.274490...|         5|    AST|    AST3_1|           NMBR|\n",
      "|     2018|   2018|          CO|            Colorado| SEDD; SID|Asthma|Hospitalizations ...|         NULL|       Number|     2227|      2227.0|              NULL|               NULL|                Overall|            Overall|POINT (-106.13361...|         8|    AST|    AST3_1|           NMBR|\n",
      "|     2018|   2018|          DC|District of Columbia| SEDD; SID|Asthma|Hospitalizations ...|         NULL|       Number|      708|       708.0|              NULL|               NULL|                Overall|            Overall|POINT (-77.036871...|        11|    AST|    AST3_1|           NMBR|\n",
      "|     2017|   2017|          GA|             Georgia| SEDD; SID|Asthma|Hospitalizations ...|         NULL|       Number|     3520|      3520.0|              NULL|               NULL|                 Gender|             Female|POINT (-83.627580...|        13|    AST|    AST3_1|           NMBR|\n",
      "|     2010|   2010|          MI|            Michigan| SEDD; SID|Asthma|Hospitalizations ...|         NULL|       Number|      123|       123.0|              NULL|               NULL|         Race/Ethnicity|           Hispanic|POINT (-84.714390...|        26|    AST|    AST3_1|           NMBR|\n",
      "|     2015|   2015|          MT|             Montana| SEDD; SID|Asthma|Hospitalizations ...|         NULL|       Number|     NULL|        NULL|              NULL|               NULL|         Race/Ethnicity|           Hispanic|POINT (-109.42442...|        30|    AST|    AST3_1|           NMBR|\n",
      "|     2013|   2013|          OR|              Oregon| SEDD; SID|Asthma|Hospitalizations ...|         NULL|       Number|      760|       760.0|              NULL|               NULL|                 Gender|               Male|POINT (-120.15503...|        41|    AST|    AST3_1|           NMBR|\n",
      "|     2013|   2013|          PR|         Puerto Rico| SEDD; SID|Asthma|Hospitalizations ...|         NULL|       Number|     NULL|        NULL|              NULL|               NULL|                Overall|            Overall|POINT (-66.590149...|        72|    AST|    AST3_1|           NMBR|\n",
      "|     2017|   2017|          PR|         Puerto Rico| SEDD; SID|Asthma|Hospitalizations ...|         NULL|       Number|     NULL|        NULL|              NULL|               NULL|                Overall|            Overall|POINT (-66.590149...|        72|    AST|    AST3_1|           NMBR|\n",
      "|     2010|   2010|          WI|           Wisconsin| SEDD; SID|Asthma|Hospitalizations ...|         NULL|       Number|     1967|      1967.0|              NULL|               NULL|                 Gender|               Male|POINT (-89.816370...|        55|    AST|    AST3_1|           NMBR|\n",
      "|     2016|   2016|          WI|           Wisconsin| SEDD; SID|Asthma|Hospitalizations ...|         NULL|       Number|      110|       110.0|              NULL|               NULL|         Race/Ethnicity|           Hispanic|POINT (-89.816370...|        55|    AST|    AST3_1|           NMBR|\n",
      "|     2014|   2014|          AL|             Alabama|      NVSS|Asthma|Asthma mortality ...|         NULL|       Number|       22|        22.0|              NULL|               NULL|                 Gender|               Male|POINT (-86.631860...|         1|    AST|    AST4_1|           NMBR|\n",
      "|     2015|   2015|          ID|               Idaho|      NVSS|Asthma|Asthma mortality ...|         NULL|       Number|       21|        21.0|              NULL|               NULL|                Overall|            Overall|POINT (-114.36373...|        16|    AST|    AST4_1|           NMBR|\n",
      "|     2016|   2016|          ID|               Idaho|      NVSS|Asthma|Asthma mortality ...|         NULL|       Number|       21|        21.0|              NULL|               NULL|                Overall|            Overall|POINT (-114.36373...|        16|    AST|    AST4_1|           NMBR|\n",
      "|     2020|   2020|          IL|            Illinois|      NVSS|Asthma|Asthma mortality ...|       Number|       Number|       89|        89.0|              NULL|               NULL|                 Gender|               Male|POINT (-88.997710...|        17|    AST|    AST4_1|           NMBR|\n",
      "|     2012|   2012|          KS|              Kansas|      NVSS|Asthma|Asthma mortality ...|         NULL|       Number|       24|        24.0|              NULL|               NULL|         Race/Ethnicity|White, non-Hispanic|POINT (-98.200781...|        20|    AST|    AST4_1|           NMBR|\n",
      "|     2015|   2015|          KS|              Kansas|      NVSS|Asthma|Asthma mortality ...|         NULL|       Number|       29|        29.0|              NULL|               NULL|                Overall|            Overall|POINT (-98.200781...|        20|    AST|    AST4_1|           NMBR|\n",
      "|     2018|   2018|          KS|              Kansas|      NVSS|Asthma|Asthma mortality ...|       Number|       Number|       29|        29.0|              NULL|               NULL|                Overall|            Overall|POINT (-98.200781...|        20|    AST|    AST4_1|           NMBR|\n",
      "|     2017|   2017|          LA|           Louisiana|      NVSS|Asthma|Asthma mortality ...|         NULL|       Number|       21|        21.0|              NULL|               NULL|                 Gender|               Male|POINT (-92.445680...|        22|    AST|    AST4_1|           NMBR|\n",
      "|     2017|   2017|          MA|       Massachusetts|      NVSS|Asthma|Asthma mortality ...|         NULL|       Number|       28|        28.0|              NULL|               NULL|                 Gender|               Male|POINT (-72.082690...|        25|    AST|    AST4_1|           NMBR|\n",
      "+---------+-------+------------+--------------------+----------+------+--------------------+-------------+-------------+---------+------------+------------------+-------------------+-----------------------+-------------------+--------------------+----------+-------+----------+---------------+\n",
      "only showing top 20 rows\n",
      "\n"
     ]
    }
   ],
   "source": [
    "cols_to_drop = [\"Response\",\n",
    "    \"ResponseID\",\n",
    "    \"DataValueFootnoteSymbol\",\n",
    "    \"DatavalueFootnote\",\n",
    "\n",
    "    \"StratificationCategory2\",\n",
    "    \"Stratification2\",\n",
    "    \"StratificationCategory3\",\n",
    "    \"Stratification3\",\n",
    "\n",
    "    \"StratificationCategoryID1\",\n",
    "    \"StratificationID1\",\n",
    "    \"StratificationCategoryID2\",\n",
    "    \"StratificationID2\",\n",
    "    \"StratificationCategoryID3\",\n",
    "    \"StratificationID3\"]\n",
    "test_spark_df_00_10 = test_spark_df_00_10.drop(*cols_to_drop)\n",
    "test_spark_df_00_10.show()"
   ]
  },
  {
   "cell_type": "code",
   "execution_count": 90,
   "id": "93bf3843",
   "metadata": {},
   "outputs": [
    {
     "data": {
      "text/plain": [
       "1185676"
      ]
     },
     "execution_count": 90,
     "metadata": {},
     "output_type": "execute_result"
    }
   ],
   "source": [
    "test_spark_df_00_10.count()"
   ]
  },
  {
   "cell_type": "code",
   "execution_count": 91,
   "id": "b9da3972",
   "metadata": {},
   "outputs": [
    {
     "data": {
      "text/plain": [
       "[Row(YearStart=2020, YearEnd=2020, LocationAbbr='WY', LocationDesc='Wyoming', DataSource='BRFSS', Topic='Diabetes', Question='Dilated eye examination among adults aged >= 18 years with diagnosed diabetes', DataValueUnit='%', DataValueType='Age-adjusted Prevalence', DataValue=None, DataValueAlt=None, LowConfidenceLimit=None, HighConfidenceLimit=None, StratificationCategory1='Race/Ethnicity', Stratification1='White, non-Hispanic', GeoLocation='POINT (-108.10983035299967 43.23554134300048)', LocationID=56, TopicID='DIA', QuestionID='DIA7_0', DataValueTypeID='AGEADJPREV'),\n",
       " Row(YearStart=2020, YearEnd=2020, LocationAbbr='WY', LocationDesc='Wyoming', DataSource='BRFSS', Topic='Older Adults', Question='Proportion of older adults aged >= 65 years who are up to date on a core set of clinical preventive services', DataValueUnit='%', DataValueType='Crude Prevalence', DataValue='41.5', DataValueAlt=41.5, LowConfidenceLimit=38.5, HighConfidenceLimit=44.6, StratificationCategory1='Race/Ethnicity', Stratification1='White, non-Hispanic', GeoLocation='POINT (-108.10983035299967 43.23554134300048)', LocationID=56, TopicID='OLD', QuestionID='OLD3_1', DataValueTypeID='CRDPREV'),\n",
       " Row(YearStart=2017, YearEnd=2017, LocationAbbr='IA', LocationDesc='Iowa', DataSource='BRFSS', Topic='Arthritis', Question='Activity limitation due to arthritis among adults aged >= 18 years who have doctor-diagnosed arthritis', DataValueUnit='%', DataValueType='Age-adjusted Prevalence', DataValue=None, DataValueAlt=None, LowConfidenceLimit=None, HighConfidenceLimit=None, StratificationCategory1='Race/Ethnicity', Stratification1='Hispanic', GeoLocation='POINT (-93.81649055599968 42.46940091300047)', LocationID=19, TopicID='ART', QuestionID='ART2_1', DataValueTypeID='AGEADJPREV'),\n",
       " Row(YearStart=2020, YearEnd=2020, LocationAbbr='WY', LocationDesc='Wyoming', DataSource='BRFSS', Topic='Diabetes', Question='Diabetes prevalence among women aged 18-44 years', DataValueUnit='%', DataValueType='Crude Prevalence', DataValue=None, DataValueAlt=None, LowConfidenceLimit=None, HighConfidenceLimit=None, StratificationCategory1='Race/Ethnicity', Stratification1='Hispanic', GeoLocation='POINT (-108.10983035299967 43.23554134300048)', LocationID=56, TopicID='DIA', QuestionID='DIA2_2', DataValueTypeID='CRDPREV'),\n",
       " Row(YearStart=2019, YearEnd=2019, LocationAbbr='RI', LocationDesc='Rhode Island', DataSource='BRFSS', Topic='Arthritis', Question='Activity limitation due to arthritis among adults aged >= 18 years who have doctor-diagnosed arthritis', DataValueUnit='%', DataValueType='Crude Prevalence', DataValue='39.5', DataValueAlt=39.5, LowConfidenceLimit=36.6, HighConfidenceLimit=42.3, StratificationCategory1='Overall', Stratification1='Overall', GeoLocation='POINT (-71.52247031399963 41.70828019300046)', LocationID=44, TopicID='ART', QuestionID='ART2_1', DataValueTypeID='CRDPREV')]"
      ]
     },
     "execution_count": 91,
     "metadata": {},
     "output_type": "execute_result"
    }
   ],
   "source": [
    "test_spark_df_00_10.tail(5)"
   ]
  },
  {
   "cell_type": "code",
   "execution_count": 92,
   "id": "1584e418",
   "metadata": {},
   "outputs": [
    {
     "name": "stdout",
     "output_type": "stream",
     "text": [
      "+---------+-------+------------+--------------------+----------+------+--------------------+-------------+-------------+---------+------------+------------------+-------------------+-----------------------+---------------+--------------------+----------+-------+----------+---------------+\n",
      "|YearStart|YearEnd|LocationAbbr|        LocationDesc|DataSource| Topic|            Question|DataValueUnit|DataValueType|DataValue|DataValueAlt|LowConfidenceLimit|HighConfidenceLimit|StratificationCategory1|Stratification1|         GeoLocation|LocationID|TopicID|QuestionID|DataValueTypeID|\n",
      "+---------+-------+------------+--------------------+----------+------+--------------------+-------------+-------------+---------+------------+------------------+-------------------+-----------------------+---------------+--------------------+----------+-------+----------+---------------+\n",
      "|     2014|   2014|          AR|            Arkansas| SEDD; SID|Asthma|Hospitalizations ...|         NULL|       Number|      916|       916.0|              NULL|               NULL|                 Gender|           Male|POINT (-92.274490...|         5|    AST|    AST3_1|           NMBR|\n",
      "|     2018|   2018|          CO|            Colorado| SEDD; SID|Asthma|Hospitalizations ...|         NULL|       Number|     2227|      2227.0|              NULL|               NULL|                Overall|        Overall|POINT (-106.13361...|         8|    AST|    AST3_1|           NMBR|\n",
      "|     2018|   2018|          DC|District of Columbia| SEDD; SID|Asthma|Hospitalizations ...|         NULL|       Number|      708|       708.0|              NULL|               NULL|                Overall|        Overall|POINT (-77.036871...|        11|    AST|    AST3_1|           NMBR|\n",
      "|     2017|   2017|          GA|             Georgia| SEDD; SID|Asthma|Hospitalizations ...|         NULL|       Number|     3520|      3520.0|              NULL|               NULL|                 Gender|         Female|POINT (-83.627580...|        13|    AST|    AST3_1|           NMBR|\n",
      "|     2010|   2010|          MI|            Michigan| SEDD; SID|Asthma|Hospitalizations ...|         NULL|       Number|      123|       123.0|              NULL|               NULL|         Race/Ethnicity|       Hispanic|POINT (-84.714390...|        26|    AST|    AST3_1|           NMBR|\n",
      "+---------+-------+------------+--------------------+----------+------+--------------------+-------------+-------------+---------+------------+------------------+-------------------+-----------------------+---------------+--------------------+----------+-------+----------+---------------+\n",
      "only showing top 5 rows\n",
      "\n"
     ]
    }
   ],
   "source": [
    "test_spark_df_00_10.show(5)"
   ]
  },
  {
   "cell_type": "markdown",
   "id": "a67f002f",
   "metadata": {},
   "source": [
    "# Extract latitude and longitude from geolocation"
   ]
  },
  {
   "cell_type": "code",
   "execution_count": 93,
   "id": "622cef4f",
   "metadata": {},
   "outputs": [
    {
     "name": "stdout",
     "output_type": "stream",
     "text": [
      "+---------+-------+------------+--------------------+----------+------+--------------------+-------------+-------------+---------+------------+------------------+-------------------+-----------------------+-------------------+--------------------+----------+-------+----------+---------------+\n",
      "|YearStart|YearEnd|LocationAbbr|        LocationDesc|DataSource| Topic|            Question|DataValueUnit|DataValueType|DataValue|DataValueAlt|LowConfidenceLimit|HighConfidenceLimit|StratificationCategory1|    Stratification1|         GeoLocation|LocationID|TopicID|QuestionID|DataValueTypeID|\n",
      "+---------+-------+------------+--------------------+----------+------+--------------------+-------------+-------------+---------+------------+------------------+-------------------+-----------------------+-------------------+--------------------+----------+-------+----------+---------------+\n",
      "|     2014|   2014|          AR|            Arkansas| SEDD; SID|Asthma|Hospitalizations ...|         NULL|       Number|      916|       916.0|              NULL|               NULL|                 Gender|               Male|[-92.274490742999...|         5|    AST|    AST3_1|           NMBR|\n",
      "|     2018|   2018|          CO|            Colorado| SEDD; SID|Asthma|Hospitalizations ...|         NULL|       Number|     2227|      2227.0|              NULL|               NULL|                Overall|            Overall|[-106.13361092099...|         8|    AST|    AST3_1|           NMBR|\n",
      "|     2018|   2018|          DC|District of Columbia| SEDD; SID|Asthma|Hospitalizations ...|         NULL|       Number|      708|       708.0|              NULL|               NULL|                Overall|            Overall|[-77.036871, 38.9...|        11|    AST|    AST3_1|           NMBR|\n",
      "|     2017|   2017|          GA|             Georgia| SEDD; SID|Asthma|Hospitalizations ...|         NULL|       Number|     3520|      3520.0|              NULL|               NULL|                 Gender|             Female|[-83.627580345999...|        13|    AST|    AST3_1|           NMBR|\n",
      "|     2010|   2010|          MI|            Michigan| SEDD; SID|Asthma|Hospitalizations ...|         NULL|       Number|      123|       123.0|              NULL|               NULL|         Race/Ethnicity|           Hispanic|[-84.714390269999...|        26|    AST|    AST3_1|           NMBR|\n",
      "|     2015|   2015|          MT|             Montana| SEDD; SID|Asthma|Hospitalizations ...|         NULL|       Number|     NULL|        NULL|              NULL|               NULL|         Race/Ethnicity|           Hispanic|[-109.42442064499...|        30|    AST|    AST3_1|           NMBR|\n",
      "|     2013|   2013|          OR|              Oregon| SEDD; SID|Asthma|Hospitalizations ...|         NULL|       Number|      760|       760.0|              NULL|               NULL|                 Gender|               Male|[-120.15503132599...|        41|    AST|    AST3_1|           NMBR|\n",
      "|     2013|   2013|          PR|         Puerto Rico| SEDD; SID|Asthma|Hospitalizations ...|         NULL|       Number|     NULL|        NULL|              NULL|               NULL|                Overall|            Overall|[-66.590149, 18.2...|        72|    AST|    AST3_1|           NMBR|\n",
      "|     2017|   2017|          PR|         Puerto Rico| SEDD; SID|Asthma|Hospitalizations ...|         NULL|       Number|     NULL|        NULL|              NULL|               NULL|                Overall|            Overall|[-66.590149, 18.2...|        72|    AST|    AST3_1|           NMBR|\n",
      "|     2010|   2010|          WI|           Wisconsin| SEDD; SID|Asthma|Hospitalizations ...|         NULL|       Number|     1967|      1967.0|              NULL|               NULL|                 Gender|               Male|[-89.816370741999...|        55|    AST|    AST3_1|           NMBR|\n",
      "|     2016|   2016|          WI|           Wisconsin| SEDD; SID|Asthma|Hospitalizations ...|         NULL|       Number|      110|       110.0|              NULL|               NULL|         Race/Ethnicity|           Hispanic|[-89.816370741999...|        55|    AST|    AST3_1|           NMBR|\n",
      "|     2014|   2014|          AL|             Alabama|      NVSS|Asthma|Asthma mortality ...|         NULL|       Number|       22|        22.0|              NULL|               NULL|                 Gender|               Male|[-86.631860761999...|         1|    AST|    AST4_1|           NMBR|\n",
      "|     2015|   2015|          ID|               Idaho|      NVSS|Asthma|Asthma mortality ...|         NULL|       Number|       21|        21.0|              NULL|               NULL|                Overall|            Overall|[-114.36373004199...|        16|    AST|    AST4_1|           NMBR|\n",
      "|     2016|   2016|          ID|               Idaho|      NVSS|Asthma|Asthma mortality ...|         NULL|       Number|       21|        21.0|              NULL|               NULL|                Overall|            Overall|[-114.36373004199...|        16|    AST|    AST4_1|           NMBR|\n",
      "|     2020|   2020|          IL|            Illinois|      NVSS|Asthma|Asthma mortality ...|       Number|       Number|       89|        89.0|              NULL|               NULL|                 Gender|               Male|[-88.997710177999...|        17|    AST|    AST4_1|           NMBR|\n",
      "|     2012|   2012|          KS|              Kansas|      NVSS|Asthma|Asthma mortality ...|         NULL|       Number|       24|        24.0|              NULL|               NULL|         Race/Ethnicity|White, non-Hispanic|[-98.200781226999...|        20|    AST|    AST4_1|           NMBR|\n",
      "|     2015|   2015|          KS|              Kansas|      NVSS|Asthma|Asthma mortality ...|         NULL|       Number|       29|        29.0|              NULL|               NULL|                Overall|            Overall|[-98.200781226999...|        20|    AST|    AST4_1|           NMBR|\n",
      "|     2018|   2018|          KS|              Kansas|      NVSS|Asthma|Asthma mortality ...|       Number|       Number|       29|        29.0|              NULL|               NULL|                Overall|            Overall|[-98.200781226999...|        20|    AST|    AST4_1|           NMBR|\n",
      "|     2017|   2017|          LA|           Louisiana|      NVSS|Asthma|Asthma mortality ...|         NULL|       Number|       21|        21.0|              NULL|               NULL|                 Gender|               Male|[-92.445680070999...|        22|    AST|    AST4_1|           NMBR|\n",
      "|     2017|   2017|          MA|       Massachusetts|      NVSS|Asthma|Asthma mortality ...|         NULL|       Number|       28|        28.0|              NULL|               NULL|                 Gender|               Male|[-72.082690674999...|        25|    AST|    AST4_1|           NMBR|\n",
      "+---------+-------+------------+--------------------+----------+------+--------------------+-------------+-------------+---------+------------+------------------+-------------------+-----------------------+-------------------+--------------------+----------+-------+----------+---------------+\n",
      "only showing top 20 rows\n",
      "\n"
     ]
    }
   ],
   "source": [
    "test_spark_df_00_10 = test_spark_df_00_10.withColumn(\"GeoLocation\", f.regexp_extract_all(f.col(\"GeoLocation\"), f.lit(\"(-*\\\\d+.\\\\d+)\"), 1))\n",
    "test_spark_df_00_10.show()"
   ]
  },
  {
   "cell_type": "markdown",
   "id": "48bff012",
   "metadata": {},
   "source": [
    "# Cast latitude and longitude str columns to doubles"
   ]
  },
  {
   "cell_type": "code",
   "execution_count": 94,
   "id": "4b397641",
   "metadata": {},
   "outputs": [],
   "source": [
    "test_spark_df_00_10 = test_spark_df_00_10.withColumn(\"Latitude\", test_spark_df_00_10.GeoLocation[0].cast(DoubleType()))\n",
    "test_spark_df_00_10 = test_spark_df_00_10.withColumn(\"Longitude\", test_spark_df_00_10.GeoLocation[1].cast(DoubleType()))"
   ]
  },
  {
   "cell_type": "code",
   "execution_count": 95,
   "id": "eab404a0",
   "metadata": {},
   "outputs": [
    {
     "name": "stdout",
     "output_type": "stream",
     "text": [
      "+---------+-------+------------+--------------------+----------+------+--------------------+-------------+-------------+---------+------------+------------------+-------------------+-----------------------+---------------+--------------------+----------+-------+----------+---------------+-------------------+------------------+\n",
      "|YearStart|YearEnd|LocationAbbr|        LocationDesc|DataSource| Topic|            Question|DataValueUnit|DataValueType|DataValue|DataValueAlt|LowConfidenceLimit|HighConfidenceLimit|StratificationCategory1|Stratification1|         GeoLocation|LocationID|TopicID|QuestionID|DataValueTypeID|           Latitude|         Longitude|\n",
      "+---------+-------+------------+--------------------+----------+------+--------------------+-------------+-------------+---------+------------+------------------+-------------------+-----------------------+---------------+--------------------+----------+-------+----------+---------------+-------------------+------------------+\n",
      "|     2014|   2014|          AR|            Arkansas| SEDD; SID|Asthma|Hospitalizations ...|         NULL|       Number|      916|       916.0|              NULL|               NULL|                 Gender|           Male|[-92.274490742999...|         5|    AST|    AST3_1|           NMBR| -92.27449074299966| 34.74865012400045|\n",
      "|     2018|   2018|          CO|            Colorado| SEDD; SID|Asthma|Hospitalizations ...|         NULL|       Number|     2227|      2227.0|              NULL|               NULL|                Overall|        Overall|[-106.13361092099...|         8|    AST|    AST3_1|           NMBR|-106.13361092099967|38.843840757000464|\n",
      "|     2018|   2018|          DC|District of Columbia| SEDD; SID|Asthma|Hospitalizations ...|         NULL|       Number|      708|       708.0|              NULL|               NULL|                Overall|        Overall|[-77.036871, 38.9...|        11|    AST|    AST3_1|           NMBR|         -77.036871|         38.907192|\n",
      "|     2017|   2017|          GA|             Georgia| SEDD; SID|Asthma|Hospitalizations ...|         NULL|       Number|     3520|      3520.0|              NULL|               NULL|                 Gender|         Female|[-83.627580345999...|        13|    AST|    AST3_1|           NMBR| -83.62758034599966| 32.83968109300048|\n",
      "|     2010|   2010|          MI|            Michigan| SEDD; SID|Asthma|Hospitalizations ...|         NULL|       Number|      123|       123.0|              NULL|               NULL|         Race/Ethnicity|       Hispanic|[-84.714390269999...|        26|    AST|    AST3_1|           NMBR| -84.71439026999968|  44.6613195430005|\n",
      "+---------+-------+------------+--------------------+----------+------+--------------------+-------------+-------------+---------+------------+------------------+-------------------+-----------------------+---------------+--------------------+----------+-------+----------+---------------+-------------------+------------------+\n",
      "only showing top 5 rows\n",
      "\n"
     ]
    }
   ],
   "source": [
    "test_spark_df_00_10.show(5)"
   ]
  },
  {
   "cell_type": "markdown",
   "id": "cec9dd66",
   "metadata": {},
   "source": [
    "# Delete GeoLocation, DataSource, and DataValue columns as these are redundant"
   ]
  },
  {
   "cell_type": "code",
   "execution_count": 96,
   "id": "a90572cb",
   "metadata": {},
   "outputs": [
    {
     "name": "stdout",
     "output_type": "stream",
     "text": [
      "+---------+-------+------------+--------------------+------+--------------------+-------------+-------------+------------+------------------+-------------------+-----------------------+---------------+----------+-------+----------+---------------+-------------------+------------------+\n",
      "|YearStart|YearEnd|LocationAbbr|        LocationDesc| Topic|            Question|DataValueUnit|DataValueType|DataValueAlt|LowConfidenceLimit|HighConfidenceLimit|StratificationCategory1|Stratification1|LocationID|TopicID|QuestionID|DataValueTypeID|           Latitude|         Longitude|\n",
      "+---------+-------+------------+--------------------+------+--------------------+-------------+-------------+------------+------------------+-------------------+-----------------------+---------------+----------+-------+----------+---------------+-------------------+------------------+\n",
      "|     2014|   2014|          AR|            Arkansas|Asthma|Hospitalizations ...|         NULL|       Number|       916.0|              NULL|               NULL|                 Gender|           Male|         5|    AST|    AST3_1|           NMBR| -92.27449074299966| 34.74865012400045|\n",
      "|     2018|   2018|          CO|            Colorado|Asthma|Hospitalizations ...|         NULL|       Number|      2227.0|              NULL|               NULL|                Overall|        Overall|         8|    AST|    AST3_1|           NMBR|-106.13361092099967|38.843840757000464|\n",
      "|     2018|   2018|          DC|District of Columbia|Asthma|Hospitalizations ...|         NULL|       Number|       708.0|              NULL|               NULL|                Overall|        Overall|        11|    AST|    AST3_1|           NMBR|         -77.036871|         38.907192|\n",
      "|     2017|   2017|          GA|             Georgia|Asthma|Hospitalizations ...|         NULL|       Number|      3520.0|              NULL|               NULL|                 Gender|         Female|        13|    AST|    AST3_1|           NMBR| -83.62758034599966| 32.83968109300048|\n",
      "|     2010|   2010|          MI|            Michigan|Asthma|Hospitalizations ...|         NULL|       Number|       123.0|              NULL|               NULL|         Race/Ethnicity|       Hispanic|        26|    AST|    AST3_1|           NMBR| -84.71439026999968|  44.6613195430005|\n",
      "+---------+-------+------------+--------------------+------+--------------------+-------------+-------------+------------+------------------+-------------------+-----------------------+---------------+----------+-------+----------+---------------+-------------------+------------------+\n",
      "only showing top 5 rows\n",
      "\n"
     ]
    }
   ],
   "source": [
    "test_spark_df_00_10 = test_spark_df_00_10.drop(*[\"GeoLocation\", \"DataSource\", \"DataValue\"])\n",
    "test_spark_df_00_10.show(5)"
   ]
  },
  {
   "cell_type": "markdown",
   "id": "ea107691",
   "metadata": {},
   "source": [
    "# rename datavaluealt column (which is already a double) to just datavalue "
   ]
  },
  {
   "cell_type": "code",
   "execution_count": 97,
   "id": "be1f6f8b",
   "metadata": {},
   "outputs": [
    {
     "name": "stdout",
     "output_type": "stream",
     "text": [
      "+---------+-------+------------+--------------------+------+--------------------+-------------+-------------+---------+------------------+-------------------+-----------------------+---------------+----------+-------+----------+---------------+-------------------+------------------+\n",
      "|YearStart|YearEnd|LocationAbbr|        LocationDesc| Topic|            Question|DataValueUnit|DataValueType|DataValue|LowConfidenceLimit|HighConfidenceLimit|StratificationCategory1|Stratification1|LocationID|TopicID|QuestionID|DataValueTypeID|           Latitude|         Longitude|\n",
      "+---------+-------+------------+--------------------+------+--------------------+-------------+-------------+---------+------------------+-------------------+-----------------------+---------------+----------+-------+----------+---------------+-------------------+------------------+\n",
      "|     2014|   2014|          AR|            Arkansas|Asthma|Hospitalizations ...|         NULL|       Number|    916.0|              NULL|               NULL|                 Gender|           Male|         5|    AST|    AST3_1|           NMBR| -92.27449074299966| 34.74865012400045|\n",
      "|     2018|   2018|          CO|            Colorado|Asthma|Hospitalizations ...|         NULL|       Number|   2227.0|              NULL|               NULL|                Overall|        Overall|         8|    AST|    AST3_1|           NMBR|-106.13361092099967|38.843840757000464|\n",
      "|     2018|   2018|          DC|District of Columbia|Asthma|Hospitalizations ...|         NULL|       Number|    708.0|              NULL|               NULL|                Overall|        Overall|        11|    AST|    AST3_1|           NMBR|         -77.036871|         38.907192|\n",
      "|     2017|   2017|          GA|             Georgia|Asthma|Hospitalizations ...|         NULL|       Number|   3520.0|              NULL|               NULL|                 Gender|         Female|        13|    AST|    AST3_1|           NMBR| -83.62758034599966| 32.83968109300048|\n",
      "|     2010|   2010|          MI|            Michigan|Asthma|Hospitalizations ...|         NULL|       Number|    123.0|              NULL|               NULL|         Race/Ethnicity|       Hispanic|        26|    AST|    AST3_1|           NMBR| -84.71439026999968|  44.6613195430005|\n",
      "+---------+-------+------------+--------------------+------+--------------------+-------------+-------------+---------+------------------+-------------------+-----------------------+---------------+----------+-------+----------+---------------+-------------------+------------------+\n",
      "only showing top 5 rows\n",
      "\n"
     ]
    }
   ],
   "source": [
    "test_spark_df_00_10 = test_spark_df_00_10.withColumnRenamed(\"DataValueAlt\", \"DataValue\")\n",
    "test_spark_df_00_10.show(5)"
   ]
  },
  {
   "cell_type": "code",
   "execution_count": 98,
   "id": "2b5f29b2",
   "metadata": {},
   "outputs": [
    {
     "data": {
      "text/plain": [
       "1185676"
      ]
     },
     "execution_count": 98,
     "metadata": {},
     "output_type": "execute_result"
    }
   ],
   "source": [
    "test_spark_df_00_10.count()"
   ]
  },
  {
   "cell_type": "markdown",
   "id": "3fcde413",
   "metadata": {},
   "source": [
    "# Remove rows with null values either in datavalue, datavalueunit, and datavaluetype"
   ]
  },
  {
   "cell_type": "code",
   "execution_count": null,
   "id": "172d7e08",
   "metadata": {},
   "outputs": [
    {
     "name": "stdout",
     "output_type": "stream",
     "text": [
      "+---------+-------+------------+--------------+-------------------+--------------------+-----------------+-----------------+---------+------------------+-------------------+-----------------------+--------------------+----------+-------+----------+---------------+-------------------+------------------+\n",
      "|YearStart|YearEnd|LocationAbbr|  LocationDesc|              Topic|            Question|    DataValueUnit|    DataValueType|DataValue|LowConfidenceLimit|HighConfidenceLimit|StratificationCategory1|     Stratification1|LocationID|TopicID|QuestionID|DataValueTypeID|           Latitude|         Longitude|\n",
      "+---------+-------+------------+--------------+-------------------+--------------------+-----------------+-----------------+---------+------------------+-------------------+-----------------------+--------------------+----------+-------+----------+---------------+-------------------+------------------+\n",
      "|     2020|   2020|          IL|      Illinois|             Asthma|Asthma mortality ...|           Number|           Number|     89.0|              NULL|               NULL|                 Gender|                Male|        17|    AST|    AST4_1|           NMBR| -88.99771017799969| 40.48501028300046|\n",
      "|     2018|   2018|          KS|        Kansas|             Asthma|Asthma mortality ...|           Number|           Number|     29.0|              NULL|               NULL|                Overall|             Overall|        20|    AST|    AST4_1|           NMBR| -98.20078122699965| 38.34774030000045|\n",
      "|     2019|   2019|          MS|   Mississippi|             Asthma|Asthma mortality ...|           Number|           Number|     58.0|              NULL|               NULL|                Overall|             Overall|        28|    AST|    AST4_1|           NMBR| -89.53803082499968|32.745510099000455|\n",
      "|     2020|   2020|          NM|    New Mexico|             Asthma|Asthma mortality ...|           Number|           Number|     26.0|              NULL|               NULL|                 Gender|              Female|        35|    AST|    AST4_1|           NMBR|-106.24058098499967| 34.52088095200048|\n",
      "|     2020|   2020|          LA|     Louisiana|           Diabetes|Mortality with di...|           Number|           Number|     55.0|              NULL|               NULL|                 Gender|                Male|        22|    DIA|    DIA1_2|           NMBR| -92.44568007099969| 31.31266064400046|\n",
      "|     2018|   2018|          US| United States|         Disability|Disability among ...|                %| Crude Prevalence|     39.2|              35.2|               43.2|                 Gender|                Male|        59|    DIS|    DIS1_0|        CRDPREV|               NULL|              NULL|\n",
      "|     2012|   2012|          US| United States|Reproductive Health|Folic acid supple...|                %| Crude Prevalence|     33.1|              32.3|               33.9|                Overall|             Overall|        59|    RPH|    RPH3_0|        CRDPREV|               NULL|              NULL|\n",
      "|     2015|   2015|          CO|      Colorado|            Alcohol|Alcohol use befor...|                %| Crude Prevalence|     18.8|               9.0|               35.1|         Race/Ethnicity|Asian or Pacific ...|         8|    ALC|    ALC1_2|        CRDPREV|-106.13361092099967|38.843840757000464|\n",
      "|     2017|   2017|          ME|         Maine|            Alcohol|Alcohol use among...|                %| Crude Prevalence|     22.2|              20.8|               23.7|         Race/Ethnicity| White, non-Hispanic|        23|    ALC|    ALC1_1|        CRDPREV| -68.98503133599962|45.254228894000505|\n",
      "|     2013|   2013|          MA| Massachusetts|            Alcohol|Chronic liver dis...|cases per 100,000|Age-adjusted Rate|      6.9|               4.5|               10.2|         Race/Ethnicity|            Hispanic|        25|    ALC|    ALC6_0|     AGEADJRATE| -72.08269067499964| 42.27687047000046|\n",
      "|     2013|   2013|          AK|        Alaska|            Alcohol|Chronic liver dis...|cases per 100,000|       Crude Rate|     11.4|               8.3|               15.3|                 Gender|                Male|         2|    ALC|    ALC6_0|        CRDRATE|-147.72205903599973| 64.84507995700051|\n",
      "|     2012|   2012|          CT|   Connecticut|            Alcohol|Chronic liver dis...|cases per 100,000|Age-adjusted Rate|      7.9|               6.9|                8.8|         Race/Ethnicity| White, non-Hispanic|         9|    ALC|    ALC6_0|     AGEADJRATE| -72.64984095199964| 41.56266102000046|\n",
      "|     2010|   2010|          OH|          Ohio|            Alcohol|Chronic liver dis...|cases per 100,000|Age-adjusted Rate|     12.9|              12.0|               13.8|                 Gender|                Male|        39|    ALC|    ALC6_0|     AGEADJRATE| -82.40426005599966| 40.06021014100048|\n",
      "|     2013|   2013|          MN|     Minnesota|            Alcohol|Chronic liver dis...|cases per 100,000|Age-adjusted Rate|     43.3|              27.7|               64.4|         Race/Ethnicity|American Indian o...|        27|    ALC|    ALC6_0|     AGEADJRATE| -94.79420050299967| 46.35564873600049|\n",
      "|     2013|   2013|          NC|North Carolina|            Alcohol|Chronic liver dis...|cases per 100,000|Age-adjusted Rate|      7.6|               6.4|                8.8|         Race/Ethnicity| Black, non-Hispanic|        37|    ALC|    ALC6_0|     AGEADJRATE| -79.15925046299964|35.466220975000454|\n",
      "|     2017|   2017|          GA|       Georgia|            Alcohol|Chronic liver dis...|cases per 100,000|Age-adjusted Rate|      6.0|               5.1|                6.9|         Race/Ethnicity| Black, non-Hispanic|        13|    ALC|    ALC6_0|     AGEADJRATE| -83.62758034599966| 32.83968109300048|\n",
      "|     2013|   2013|          OH|          Ohio|            Alcohol|Alcohol use among...|                %| Crude Prevalence|     32.2|              25.6|               39.5|                 Gender|                Male|        39|    ALC|    ALC1_1|        CRDPREV| -82.40426005599966| 40.06021014100048|\n",
      "|     2019|   2019|          US| United States|            Alcohol|Alcohol use among...|                %| Crude Prevalence|     13.9|              10.4|               18.4|         Race/Ethnicity| Asian, non-Hispanic|        59|    ALC|    ALC1_1|        CRDPREV|               NULL|              NULL|\n",
      "|     2017|   2017|          TN|     Tennessee|            Alcohol|Binge drinking pr...|                %| Crude Prevalence|     12.9|              10.8|               15.4|         Race/Ethnicity| White, non-Hispanic|        47|    ALC|    ALC2_1|        CRDPREV| -85.77449091399967| 35.68094058000048|\n",
      "|     2013|   2013|          MT|       Montana|            Alcohol|Alcohol use among...|                %| Crude Prevalence|     37.4|              34.8|               40.1|         Race/Ethnicity| White, non-Hispanic|        30|    ALC|    ALC1_1|        CRDPREV|-109.42442064499971| 47.06652897200047|\n",
      "+---------+-------+------------+--------------+-------------------+--------------------+-----------------+-----------------+---------+------------------+-------------------+-----------------------+--------------------+----------+-------+----------+---------------+-------------------+------------------+\n",
      "only showing top 20 rows\n",
      "\n"
     ]
    }
   ],
   "source": [
    "# means thhat if datavalueunit or datavalue or \n",
    "# datavaluetype is null then return true and negate it\n",
    "cond = ~(f.isnull(\"DataValueUnit\") | f.isnull(\"DataValue\") | f.isnull(\"DataValueType\"))\n",
    "test_spark_df_00_10 = test_spark_df_00_10.filter(cond)\n",
    "test_spark_df_00_10.show()"
   ]
  },
  {
   "cell_type": "markdown",
   "id": "b35fd48a",
   "metadata": {},
   "source": [
    "# Replace `per 100,000` and `per 100,000 residents` with `cases per 100,000` instead to reduce redundancy"
   ]
  },
  {
   "cell_type": "code",
   "execution_count": 102,
   "id": "6a305d7d",
   "metadata": {},
   "outputs": [
    {
     "data": {
      "text/plain": [
       "[Row(DataValueUnit='Number'),\n",
       " Row(DataValueUnit='cases per 1,000,000'),\n",
       " Row(DataValueUnit='per 100,000'),\n",
       " Row(DataValueUnit='cases per 10,000'),\n",
       " Row(DataValueUnit='cases per 100,000'),\n",
       " Row(DataValueUnit='%'),\n",
       " Row(DataValueUnit='gallons'),\n",
       " Row(DataValueUnit='$'),\n",
       " Row(DataValueUnit='cases per 1,000'),\n",
       " Row(DataValueUnit='pack sales per capita'),\n",
       " Row(DataValueUnit='Years'),\n",
       " Row(DataValueUnit='per 100,000 residents')]"
      ]
     },
     "execution_count": 102,
     "metadata": {},
     "output_type": "execute_result"
    }
   ],
   "source": [
    "test_spark_df_00_10.select(\"DataValueUnit\").distinct().collect()"
   ]
  },
  {
   "cell_type": "code",
   "execution_count": 104,
   "id": "55789afe",
   "metadata": {},
   "outputs": [
    {
     "name": "stdout",
     "output_type": "stream",
     "text": [
      "+---------+-------+------------+--------------+-------------------+--------------------+-----------------+-----------------+---------+------------------+-------------------+-----------------------+--------------------+----------+-------+----------+---------------+-------------------+------------------+\n",
      "|YearStart|YearEnd|LocationAbbr|  LocationDesc|              Topic|            Question|    DataValueUnit|    DataValueType|DataValue|LowConfidenceLimit|HighConfidenceLimit|StratificationCategory1|     Stratification1|LocationID|TopicID|QuestionID|DataValueTypeID|           Latitude|         Longitude|\n",
      "+---------+-------+------------+--------------+-------------------+--------------------+-----------------+-----------------+---------+------------------+-------------------+-----------------------+--------------------+----------+-------+----------+---------------+-------------------+------------------+\n",
      "|     2020|   2020|          IL|      Illinois|             Asthma|Asthma mortality ...|           Number|           Number|     89.0|              NULL|               NULL|                 Gender|                Male|        17|    AST|    AST4_1|           NMBR| -88.99771017799969| 40.48501028300046|\n",
      "|     2018|   2018|          KS|        Kansas|             Asthma|Asthma mortality ...|           Number|           Number|     29.0|              NULL|               NULL|                Overall|             Overall|        20|    AST|    AST4_1|           NMBR| -98.20078122699965| 38.34774030000045|\n",
      "|     2019|   2019|          MS|   Mississippi|             Asthma|Asthma mortality ...|           Number|           Number|     58.0|              NULL|               NULL|                Overall|             Overall|        28|    AST|    AST4_1|           NMBR| -89.53803082499968|32.745510099000455|\n",
      "|     2020|   2020|          NM|    New Mexico|             Asthma|Asthma mortality ...|           Number|           Number|     26.0|              NULL|               NULL|                 Gender|              Female|        35|    AST|    AST4_1|           NMBR|-106.24058098499967| 34.52088095200048|\n",
      "|     2020|   2020|          LA|     Louisiana|           Diabetes|Mortality with di...|           Number|           Number|     55.0|              NULL|               NULL|                 Gender|                Male|        22|    DIA|    DIA1_2|           NMBR| -92.44568007099969| 31.31266064400046|\n",
      "|     2018|   2018|          US| United States|         Disability|Disability among ...|                %| Crude Prevalence|     39.2|              35.2|               43.2|                 Gender|                Male|        59|    DIS|    DIS1_0|        CRDPREV|               NULL|              NULL|\n",
      "|     2012|   2012|          US| United States|Reproductive Health|Folic acid supple...|                %| Crude Prevalence|     33.1|              32.3|               33.9|                Overall|             Overall|        59|    RPH|    RPH3_0|        CRDPREV|               NULL|              NULL|\n",
      "|     2015|   2015|          CO|      Colorado|            Alcohol|Alcohol use befor...|                %| Crude Prevalence|     18.8|               9.0|               35.1|         Race/Ethnicity|Asian or Pacific ...|         8|    ALC|    ALC1_2|        CRDPREV|-106.13361092099967|38.843840757000464|\n",
      "|     2017|   2017|          ME|         Maine|            Alcohol|Alcohol use among...|                %| Crude Prevalence|     22.2|              20.8|               23.7|         Race/Ethnicity| White, non-Hispanic|        23|    ALC|    ALC1_1|        CRDPREV| -68.98503133599962|45.254228894000505|\n",
      "|     2013|   2013|          MA| Massachusetts|            Alcohol|Chronic liver dis...|cases per 100,000|Age-adjusted Rate|      6.9|               4.5|               10.2|         Race/Ethnicity|            Hispanic|        25|    ALC|    ALC6_0|     AGEADJRATE| -72.08269067499964| 42.27687047000046|\n",
      "|     2013|   2013|          AK|        Alaska|            Alcohol|Chronic liver dis...|cases per 100,000|       Crude Rate|     11.4|               8.3|               15.3|                 Gender|                Male|         2|    ALC|    ALC6_0|        CRDRATE|-147.72205903599973| 64.84507995700051|\n",
      "|     2012|   2012|          CT|   Connecticut|            Alcohol|Chronic liver dis...|cases per 100,000|Age-adjusted Rate|      7.9|               6.9|                8.8|         Race/Ethnicity| White, non-Hispanic|         9|    ALC|    ALC6_0|     AGEADJRATE| -72.64984095199964| 41.56266102000046|\n",
      "|     2010|   2010|          OH|          Ohio|            Alcohol|Chronic liver dis...|cases per 100,000|Age-adjusted Rate|     12.9|              12.0|               13.8|                 Gender|                Male|        39|    ALC|    ALC6_0|     AGEADJRATE| -82.40426005599966| 40.06021014100048|\n",
      "|     2013|   2013|          MN|     Minnesota|            Alcohol|Chronic liver dis...|cases per 100,000|Age-adjusted Rate|     43.3|              27.7|               64.4|         Race/Ethnicity|American Indian o...|        27|    ALC|    ALC6_0|     AGEADJRATE| -94.79420050299967| 46.35564873600049|\n",
      "|     2013|   2013|          NC|North Carolina|            Alcohol|Chronic liver dis...|cases per 100,000|Age-adjusted Rate|      7.6|               6.4|                8.8|         Race/Ethnicity| Black, non-Hispanic|        37|    ALC|    ALC6_0|     AGEADJRATE| -79.15925046299964|35.466220975000454|\n",
      "|     2017|   2017|          GA|       Georgia|            Alcohol|Chronic liver dis...|cases per 100,000|Age-adjusted Rate|      6.0|               5.1|                6.9|         Race/Ethnicity| Black, non-Hispanic|        13|    ALC|    ALC6_0|     AGEADJRATE| -83.62758034599966| 32.83968109300048|\n",
      "|     2013|   2013|          OH|          Ohio|            Alcohol|Alcohol use among...|                %| Crude Prevalence|     32.2|              25.6|               39.5|                 Gender|                Male|        39|    ALC|    ALC1_1|        CRDPREV| -82.40426005599966| 40.06021014100048|\n",
      "|     2019|   2019|          US| United States|            Alcohol|Alcohol use among...|                %| Crude Prevalence|     13.9|              10.4|               18.4|         Race/Ethnicity| Asian, non-Hispanic|        59|    ALC|    ALC1_1|        CRDPREV|               NULL|              NULL|\n",
      "|     2017|   2017|          TN|     Tennessee|            Alcohol|Binge drinking pr...|                %| Crude Prevalence|     12.9|              10.8|               15.4|         Race/Ethnicity| White, non-Hispanic|        47|    ALC|    ALC2_1|        CRDPREV| -85.77449091399967| 35.68094058000048|\n",
      "|     2013|   2013|          MT|       Montana|            Alcohol|Alcohol use among...|                %| Crude Prevalence|     37.4|              34.8|               40.1|         Race/Ethnicity| White, non-Hispanic|        30|    ALC|    ALC1_1|        CRDPREV|-109.42442064499971| 47.06652897200047|\n",
      "+---------+-------+------------+--------------+-------------------+--------------------+-----------------+-----------------+---------+------------------+-------------------+-----------------------+--------------------+----------+-------+----------+---------------+-------------------+------------------+\n",
      "only showing top 20 rows\n",
      "\n"
     ]
    }
   ],
   "source": [
    "test_spark_df_00_10 = test_spark_df_00_10.withColumn(\"DataValueUnit\", f.when(f.col(\"DataValueUnit\") == \"per 100,000\", \"cases per 100,000\").when(f.col(\"DataValueUnit\") == \"per 100,000 residents\", \"cases per 100,000\").otherwise(f.col(\"DataValueUnit\")))\n",
    "test_spark_df_00_10.show()"
   ]
  },
  {
   "cell_type": "code",
   "execution_count": 105,
   "id": "b67dbf85",
   "metadata": {},
   "outputs": [
    {
     "data": {
      "text/plain": [
       "[Row(DataValueUnit='Number'),\n",
       " Row(DataValueUnit='cases per 1,000,000'),\n",
       " Row(DataValueUnit='cases per 10,000'),\n",
       " Row(DataValueUnit='cases per 100,000'),\n",
       " Row(DataValueUnit='%'),\n",
       " Row(DataValueUnit='gallons'),\n",
       " Row(DataValueUnit='$'),\n",
       " Row(DataValueUnit='cases per 1,000'),\n",
       " Row(DataValueUnit='pack sales per capita'),\n",
       " Row(DataValueUnit='Years')]"
      ]
     },
     "execution_count": 105,
     "metadata": {},
     "output_type": "execute_result"
    }
   ],
   "source": [
    "test_spark_df_00_10.select(\"DataValueUnit\").distinct().collect()"
   ]
  },
  {
   "cell_type": "markdown",
   "id": "420e6d7f",
   "metadata": {},
   "source": [
    "# Extract out the age brackets in each question if there are any"
   ]
  },
  {
   "cell_type": "code",
   "execution_count": null,
   "id": "1aaef41d",
   "metadata": {},
   "outputs": [],
   "source": [
    "test_spark_df_00_10.withColumn(\"Question\", f.regexp_substr(f.col(\"Question\"), f.lit(\"\")))"
   ]
  },
  {
   "cell_type": "code",
   "execution_count": null,
   "id": "04f3771c",
   "metadata": {},
   "outputs": [
    {
     "data": {
      "text/plain": [
       "[('YearStart', 'int'),\n",
       " ('YearEnd', 'int'),\n",
       " ('LocationAbbr', 'string'),\n",
       " ('LocationDesc', 'string'),\n",
       " ('Topic', 'string'),\n",
       " ('Question', 'string'),\n",
       " ('DataValueUnit', 'string'),\n",
       " ('DataValueType', 'string'),\n",
       " ('DataValue', 'double'),\n",
       " ('LowConfidenceLimit', 'double'),\n",
       " ('HighConfidenceLimit', 'double'),\n",
       " ('StratificationCategory1', 'string'),\n",
       " ('Stratification1', 'string'),\n",
       " ('LocationID', 'int'),\n",
       " ('TopicID', 'string'),\n",
       " ('QuestionID', 'string'),\n",
       " ('DataValueTypeID', 'string'),\n",
       " ('Latitude', 'double'),\n",
       " ('Longitude', 'double')]"
      ]
     },
     "execution_count": 71,
     "metadata": {},
     "output_type": "execute_result"
    }
   ],
   "source": [
    "test_spark_df_00_10.dtypes"
   ]
  },
  {
   "cell_type": "markdown",
   "id": "ba3fae6e",
   "metadata": {},
   "source": [
    "# Errors\n",
    "* Out of memory error: \n",
    "- https://stackoverflow.com/questions/73111729/pyspark-java-heap-out-of-memory-when-saving-5m-rows-dataframe\n",
    "- https://medium.com/@rakeshchanda/spark-out-of-memory-issue-memory-tuning-and-management-in-pyspark-802b757b562f\n",
    "- https://stackoverflow.com/questions/21138751/spark-java-lang-outofmemoryerror-java-heap-space\n",
    "* EOF errror: "
   ]
  }
 ],
 "metadata": {
  "kernelspec": {
   "display_name": "tech-interview",
   "language": "python",
   "name": "python3"
  },
  "language_info": {
   "codemirror_mode": {
    "name": "ipython",
    "version": 3
   },
   "file_extension": ".py",
   "mimetype": "text/x-python",
   "name": "python",
   "nbconvert_exporter": "python",
   "pygments_lexer": "ipython3",
   "version": "3.12.3"
  }
 },
 "nbformat": 4,
 "nbformat_minor": 5
}
