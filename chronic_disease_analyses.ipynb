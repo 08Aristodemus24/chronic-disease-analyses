{
 "cells": [
  {
   "cell_type": "code",
   "execution_count": 1,
   "id": "675aa761",
   "metadata": {},
   "outputs": [],
   "source": [
    "import matplotlib.pyplot as plt\n",
    "import pandas as pd\n",
    "import duckdb\n",
    "import os\n",
    "\n",
    "from dotenv import load_dotenv\n",
    "from pathlib import Path\n",
    "from duckdb.typing import *\n",
    "\n",
    "from utilities.utils import get_flat_table_rows\n",
    "\n",
    "\n",
    "%load_ext autoreload\n",
    "%autoreload 2"
   ]
  },
  {
   "cell_type": "markdown",
   "id": "a8d045d8",
   "metadata": {},
   "source": [
    "# Remote connection"
   ]
  },
  {
   "cell_type": "code",
   "execution_count": 2,
   "id": "ae47104e",
   "metadata": {},
   "outputs": [
    {
     "name": "stdout",
     "output_type": "stream",
     "text": [
      "loading env variables...\n",
      "env variables loaded.\n",
      "\n"
     ]
    }
   ],
   "source": [
    "# Build paths inside the project like this: BASE_DIR / 'subdir'.\n",
    "# use this only in development\n",
    "print(\"loading env variables...\")\n",
    "env_dir = Path('./').resolve()\n",
    "load_dotenv(os.path.join(env_dir, '.env'))\n",
    "print(\"env variables loaded.\\n\")"
   ]
  },
  {
   "cell_type": "code",
   "execution_count": 3,
   "id": "3cbd9dd0",
   "metadata": {},
   "outputs": [
    {
     "name": "stdout",
     "output_type": "stream",
     "text": [
      "connecting to duckdb...\n",
      "connected to duckdb.\n",
      "\n"
     ]
    }
   ],
   "source": [
    "# jdbc:duckdb:md:chronic_disease_analyses_db\n",
    "# duckdb:///md:chronic_disease_analyses_db\n",
    "print(\"connecting to duckdb...\")\n",
    "conn = duckdb.connect(f\"md:chronic_disease_analyses_db?motherduck_token={os.environ['MOTHERDUCK_TOKEN']}\")\n",
    "print(\"connected to duckdb.\\n\")"
   ]
  },
  {
   "cell_type": "code",
   "execution_count": 4,
   "id": "ff7b5a1b",
   "metadata": {},
   "outputs": [
    {
     "data": {
      "text/plain": [
       "['CDI',\n",
       " 'CDILocation',\n",
       " 'CDIStratification',\n",
       " 'DataValueType',\n",
       " 'Population',\n",
       " 'PopulationState',\n",
       " 'PopulationStratification',\n",
       " 'Question',\n",
       " 'Stratification',\n",
       " 'Topic']"
      ]
     },
     "execution_count": 4,
     "metadata": {},
     "output_type": "execute_result"
    }
   ],
   "source": [
    "tables = get_flat_table_rows(conn.sql(\"\"\"SHOW TABLES\"\"\").fetchall())\n",
    "tables"
   ]
  },
  {
   "cell_type": "code",
   "execution_count": 5,
   "id": "44e744fc",
   "metadata": {},
   "outputs": [
    {
     "name": "stdout",
     "output_type": "stream",
     "text": [
      "table CDI count: 678471\n",
      "table CDILocation count: 51\n",
      "table CDIStratification count: 11\n",
      "table DataValueType count: 15\n",
      "table Population count: 2947392\n",
      "table PopulationState count: 51\n",
      "table PopulationStratification count: 28\n",
      "table Question count: 192\n",
      "table Stratification count: 39\n",
      "table Topic count: 17\n"
     ]
    }
   ],
   "source": [
    "for table in tables:\n",
    "    count = conn.sql(f\"\"\"SELECT COUNT(*) FROM {table}\"\"\").fetchall()[0][0]\n",
    "    print(f\"table {table} count: {count}\")"
   ]
  },
  {
   "cell_type": "code",
   "execution_count": 6,
   "id": "eae5fdce",
   "metadata": {},
   "outputs": [
    {
     "data": {
      "text/plain": [
       "┌────────────┬─────────┬──────────────────────────────────────────────────────────────────────────────────────────────────────────────┬──────────┬────────┐\n",
       "│ QuestionID │ TopicID │                                                   Question                                                   │ AgeStart │ AgeEnd │\n",
       "│  varchar   │ varchar │                                                   varchar                                                    │  double  │ double │\n",
       "├────────────┼─────────┼──────────────────────────────────────────────────────────────────────────────────────────────────────────────┼──────────┼────────┤\n",
       "│ ART1_1     │ ART     │ Arthritis among adults aged >= 18 years                                                                      │     18.0 │    inf │\n",
       "│ ALC4_0     │ ALC     │ Binge drinking intensity among adults aged >= 18 years who binge drink                                       │     18.0 │    inf │\n",
       "│ NPAW2_3    │ NPAW    │ Overweight or obesity among women aged 18-44 years                                                           │     18.0 │   44.0 │\n",
       "│ DIA7_0     │ DIA     │ Dilated eye examination among adults aged >= 18 years with diagnosed diabetes                                │     18.0 │    inf │\n",
       "│ ORH1_2     │ ORH     │ Dental visits among children and adolescents aged 1-17 years                                                 │      1.0 │   17.0 │\n",
       "│ OLD3_1     │ OLD     │ Proportion of older adults aged >= 65 years who are up to date on a core set of clinical preventive services │     65.0 │    inf │\n",
       "│ NPAW4_1    │ NPAW    │ Median daily frequency of fruit consumption among high school students                                       │     14.0 │   18.0 │\n",
       "│ OVC6_2     │ OVC     │ Self-rated health status among women aged 18-44 years                                                        │     18.0 │   44.0 │\n",
       "│ DIA11_3    │ DIA     │ Prevalence of depressive disorders among adults aged >= 18 years with diagnosed diabetes                     │     18.0 │    inf │\n",
       "│ OVC5_0     │ OVC     │ Premature mortality among adults aged 45-64 years                                                            │     45.0 │   64.0 │\n",
       "│   ·        │  ·      │                         ·                                                                                    │       ·  │     ·  │\n",
       "│   ·        │  ·      │                         ·                                                                                    │       ·  │     ·  │\n",
       "│   ·        │  ·      │                         ·                                                                                    │       ·  │     ·  │\n",
       "│ NPAW16_0   │ NPAW    │ Receiving formula supplementation within the first 2 days of life among breastfed infants                    │     NULL │   NULL │\n",
       "│ RPH3_0     │ RPH     │ Folic acid supplementation                                                                                   │     NULL │   NULL │\n",
       "│ NPAW13_2   │ NPAW    │ Secondary schools that allow students to purchase soda or fruit drinks                                       │     NULL │   NULL │\n",
       "│ CAN6_2     │ CAN     │ Cancer of the female cervix, mortality                                                                       │     NULL │   NULL │\n",
       "│ NPAW7_1    │ NPAW    │ Farmers markets that accept Women and Infant Children (WIC) farmers market nutrition program coupons         │     NULL │   NULL │\n",
       "│ DIA3_2     │ DIA     │ Prevalence of gestational diabetes                                                                           │     NULL │   NULL │\n",
       "│ CVD1_4     │ CVD     │ Mortality from heart failure                                                                                 │     NULL │   NULL │\n",
       "│ COPD6_1    │ COPD    │ Emergency department visit rate for chronic obstructive pulmonary disease as first-listed diagnosis          │     NULL │   NULL │\n",
       "│ ORH2_2     │ ORH     │ Preventive dental care before pregnancy                                                                      │     NULL │   NULL │\n",
       "│ CVD8_0     │ CVD     │ Pre-pregnancy hypertension                                                                                   │     NULL │   NULL │\n",
       "├────────────┴─────────┴──────────────────────────────────────────────────────────────────────────────────────────────────────────────┴──────────┴────────┤\n",
       "│ 192 rows (20 shown)                                                                                                                           5 columns │\n",
       "└─────────────────────────────────────────────────────────────────────────────────────────────────────────────────────────────────────────────────────────┘"
      ]
     },
     "execution_count": 6,
     "metadata": {},
     "output_type": "execute_result"
    }
   ],
   "source": [
    "conn.sql(\"\"\"\n",
    "    SELECT * FROM Question\n",
    "\"\"\")"
   ]
  },
  {
   "cell_type": "markdown",
   "id": "ffa0b221",
   "metadata": {},
   "source": [
    "# Unique topics"
   ]
  },
  {
   "cell_type": "code",
   "execution_count": 7,
   "id": "39dccc49",
   "metadata": {},
   "outputs": [
    {
     "data": {
      "text/plain": [
       "[('TOB', 'Tobacco'),\n",
       " ('CAN', 'Cancer'),\n",
       " ('CKD', 'Chronic Kidney Disease'),\n",
       " ('MTH', 'Mental Health'),\n",
       " ('ALC', 'Alcohol'),\n",
       " ('IMM', 'Immunization'),\n",
       " ('RPH', 'Reproductive Health'),\n",
       " ('ART', 'Arthritis'),\n",
       " ('OLD', 'Older Adults'),\n",
       " ('COPD', 'Chronic Obstructive Pulmonary Disease'),\n",
       " ('NPAW', 'Nutrition, Physical Activity, and Weight Status'),\n",
       " ('DIA', 'Diabetes'),\n",
       " ('ORH', 'Oral Health'),\n",
       " ('AST', 'Asthma'),\n",
       " ('CVD', 'Cardiovascular Disease'),\n",
       " ('DIS', 'Disability'),\n",
       " ('OVC', 'Overarching Conditions')]"
      ]
     },
     "execution_count": 7,
     "metadata": {},
     "output_type": "execute_result"
    }
   ],
   "source": [
    "topic_id = get_flat_table_rows(conn.sql(\"\"\"\n",
    "    SELECT DISTINCT(Question.TopicID, Topic)\n",
    "    FROM Question\n",
    "    JOIN Topic\n",
    "    ON Question.TopicID = Topic.TopicID\n",
    "\"\"\").fetchall())\n",
    "topic_id"
   ]
  },
  {
   "cell_type": "code",
   "execution_count": 8,
   "id": "1d78873a",
   "metadata": {},
   "outputs": [
    {
     "data": {
      "text/plain": [
       "[('US Dollars', 'USD'),\n",
       " ('Mean', 'MEAN'),\n",
       " ('Crude Rate', 'CRDRATE'),\n",
       " ('Adjusted by age, sex, race and ethnicity', 'AGESEXRACEADJRATE'),\n",
       " ('Per capita alcohol consumption', 'PERCAPALC'),\n",
       " ('Age-adjusted Mean', 'AGEADJMEAN'),\n",
       " ('Percent', 'PRCT'),\n",
       " ('Median', 'MEDIAN'),\n",
       " ('Crude Prevalence', 'CRDPREV'),\n",
       " ('Number', 'NMBR'),\n",
       " ('Prevalence', 'PREV'),\n",
       " ('Average Annual Crude Rate', 'AVGANNCRDRATE'),\n",
       " ('Age-adjusted Prevalence', 'AGEADJPREV'),\n",
       " ('Average Annual Age-adjusted Rate', 'AVGANNAGEADJRATE'),\n",
       " ('Age-adjusted Rate', 'AGEADJRATE')]"
      ]
     },
     "execution_count": 8,
     "metadata": {},
     "output_type": "execute_result"
    }
   ],
   "source": [
    "dvt = get_flat_table_rows(conn.sql(\"\"\"\n",
    "    SELECT DISTINCT(DataValueType, DataValueTypeID)\n",
    "    FROM DataValueType\n",
    "\"\"\").fetchall())\n",
    "dvt"
   ]
  },
  {
   "cell_type": "markdown",
   "id": "e6a62f48",
   "metadata": {},
   "source": [
    "# unique questions under each unique topic"
   ]
  },
  {
   "cell_type": "code",
   "execution_count": 9,
   "id": "c6e5d933",
   "metadata": {},
   "outputs": [
    {
     "name": "stdout",
     "output_type": "stream",
     "text": [
      "topic Tobacco, questions: ['Current cigarette smoking among youth', 'Current cigarette smoking among women aged 18-44 years', 'Current smoking among adults aged >= 18 years', 'Pneumococcal vaccination among noninstitutionalized adults aged >= 65 years who smoke', 'Current smokeless tobacco use among adults aged >= 18 years', 'Current smokeless tobacco use among youth', 'Pneumococcal vaccination among noninstitutionalized adults aged 18-64 years who smoke', 'Proportion of the population protected by a comprehensive smoke-free policy prohibiting smoking in all indoor areas of workplaces and public places, including restaurants and bars', 'Quit attempts in the past year among current smokers', 'Secondary schools that have a comprehensive tobacco-free school policy in place', 'Sale of cigarette packs', 'Cigarette smoking before pregnancy', 'Percent tobacco revenue to fund at CDC recommended level']\n",
      "\n",
      "topic Cancer, questions: ['Papanicolaou smear use among adult women aged 21-65 years', 'Recent Papanicolaou smear use among women aged 21-44 years', 'Mammography use among women aged 50-74 years', 'Fecal occult blood test, sigmoidoscopy, or colonoscopy among adults aged 50-75 years', 'Invasive cancer of the prostate, incidence', 'Cancer of the colon and rectum (colorectal), incidence', 'Cancer of the oral cavity and pharynx, mortality', 'Invasive cancer of the oral cavity or pharynx, incidence', 'Cancer of the female breast, mortality', 'Melanoma, mortality', 'Cancer of the prostate, mortality', 'Invasive cancer (all sites combined), incidence', 'Cancer of the lung and bronchus, mortality', 'Invasive cancer of the female breast, incidence', 'Cancer of the lung and bronchus, incidence', 'Cancer of the colon and rectum (colorectal), mortality', 'Invasive melanoma, incidence', 'Invasive cancer (all sites combined), mortality', 'Invasive cancer of the cervix, incidence', 'Cancer of the female cervix, mortality']\n",
      "\n",
      "topic Chronic Kidney Disease, questions: ['Prevalence of chronic kidney disease among adults aged >= 18 years', 'Mortality with end-stage renal disease', 'Incidence of treated end-stage renal disease attributed to diabetes', 'Incidence of treated end-stage renal disease']\n",
      "\n",
      "topic Mental Health, questions: ['Recent mentally unhealthy days among adults aged >= 18 years', 'At least 14 recent mentally unhealthy days among women aged 18-44 years', 'Postpartum depressive symptoms']\n",
      "\n",
      "topic Alcohol, questions: ['Binge drinking intensity among adults aged >= 18 years who binge drink', 'Heavy drinking among women aged 18-44 years', 'Per capita alcohol consumption among persons aged >= 14 years', 'Binge drinking prevalence among women aged 18-44 years', 'Heavy drinking among adults aged >= 18 years', 'Alcohol use among youth', 'Binge drinking prevalence among adults aged >= 18 years', 'Binge drinking frequency among adults aged >= 18 years who binge drink', 'Binge drinking prevalence among youth', 'Amount of alcohol excise tax by beverage type (distilled spirits)', 'Amount of alcohol excise tax by beverage type (wine)', 'Alcohol use before pregnancy', 'Amount of alcohol excise tax by beverage type (beer)', 'Chronic liver disease mortality']\n",
      "\n",
      "topic Immunization, questions: ['Influenza vaccination among noninstitutionalized adults aged >= 18 years']\n",
      "\n",
      "topic Reproductive Health, questions: ['Timeliness of routine health care checkup among women aged 18-44 years', 'Postpartum checkup', 'Folic acid supplementation']\n",
      "\n",
      "topic Arthritis, questions: ['Arthritis among adults aged >= 18 years', 'Arthritis among adults aged >= 18 years who have diabetes', 'Work limitation due to arthritis among adults aged 18-64 years who have doctor-diagnosed arthritis', 'Activity limitation due to arthritis among adults aged >= 18 years who have doctor-diagnosed arthritis', 'Fair or poor health among adults aged >= 18 years with arthritis', 'Physical inactivity among adults aged >= 18 years with arthritis', 'Arthritis among adults aged >= 18 years who are obese', 'Severe joint pain due to arthritis among adults aged >= 18 years who have doctor-diagnosed arthritis', 'Adults aged >= 18 years with arthritis who have taken a class to learn how to manage arthritis symptoms', 'Arthritis among adults aged >= 18 years who have heart disease']\n",
      "\n",
      "topic Older Adults, questions: ['Proportion of older adults aged >= 65 years who are up to date on a core set of clinical preventive services', 'Prevalence of 2 or more chronic conditions among Medicare-enrolled persons aged >= 65 years', 'Hospitalization for hip fracture among Medicare-eligible persons aged >= 65 years', 'Proportion of older adults aged 50-64 years who are up to date on a core set of clinical preventive services']\n",
      "\n",
      "topic Chronic Obstructive Pulmonary Disease, questions: ['Hospitalization for chronic obstructive pulmonary disease as first-listed diagnosis among Medicare-eligible persons aged >= 65 years', 'Mortality with chronic obstructive pulmonary disease as underlying cause among adults aged >= 45 years', 'Hospitalization for chronic obstructive pulmonary disease as any diagnosis among Medicare-eligible persons aged >= 65 years', 'Mortality with chronic obstructive pulmonary disease as underlying or contributing cause among adults aged >= 45 years', 'Influenza vaccination among noninstitutionalized adults aged >= 45 years with chronic obstructive pulmonary disease', 'Pneumococcal vaccination among noninstitutionalized adults aged >= 45 years with chronic obstructive pulmonary disease', 'Prevalence of chronic obstructive pulmonary disease among adults >= 18', 'Prevalence of current smoking among adults >= 45 years with diagnosed chronic obstructive pulmonary disease', 'Prevalence of current smoking among adults >= 18 with diagnosed chronic obstructive pulmonary disease', 'Hospitalization for chronic obstructive pulmonary disease as first-listed diagnosis', 'Hospitalization for chronic obstructive pulmonary disease as any diagnosis', 'Emergency department visit rate for chronic obstructive pulmonary disease as any diagnosis', 'Prevalence of activity limitation among adults >= 45 years with diagnosed chronic obstructive pulmonary disease', 'Prevalence of activity limitation among adults >= 18 with diagnosed chronic obstructive pulmonary disease', 'Prevalence of chronic obstructive pulmonary disease among adults >= 45 years', 'Emergency department visit rate for chronic obstructive pulmonary disease as first-listed diagnosis']\n",
      "\n",
      "topic Nutrition, Physical Activity, and Weight Status, questions: ['Overweight or obesity among women aged 18-44 years', 'Median daily frequency of fruit consumption among high school students', 'Median daily frequency of vegetable consumption among adults aged >= 18 years', 'Meeting aerobic physical activity guidelines for additional and more extensive health benefits among adults aged >= 18 years', 'Overweight or obesity among adults aged >= 18 years', 'Soda consumption among high school students', 'Median daily frequency of fruit consumption among adults aged >= 18 years', 'Healthy weight among adults aged >= 18 years', 'Participation in daily school physical education classes among high school students', 'No leisure-time physical activity among adults aged >= 18 years', 'Obesity among high school students', 'Television viewing among high school students', 'Computer use among high school students', 'Overweight or obesity among high school students', 'Secondary schools that allow community-sponsored use of physical activity facilities by youth outside of normal school hours', 'Obesity among adults aged >= 18 years', 'Meeting aerobic physical activity guidelines for substantial health benefits and for muscle-strengthening activity among adults aged >= 18 years', 'Healthy weight among high school students', 'Median daily frequency of vegetable consumption among high school students', 'Meeting aerobic physical activity guidelines among high school students', 'Meeting aerobic physical activity guidelines for substantial health benefits among adults aged >= 18 years', 'Infants breastfed at 6 months', 'Number of farmers markets per 100,000 residents', 'Farmers markets that accept Supplemental Nutrition Assistance Program (SNAP) benefits', 'Mean maternity practices in infant nutrition care (mPINC) score', 'Secondary schools that offer less healthy foods as competitive foods', 'Secondary schools that allow students to purchase sports drinks', 'Live births occurring at Baby Friendly Facilities', 'Census tracts with healthier food retailers within � mile of boundary', 'Receiving formula supplementation within the first 2 days of life among breastfed infants', 'Secondary schools that allow students to purchase soda or fruit drinks', 'Farmers markets that accept Women and Infant Children (WIC) farmers market nutrition program coupons']\n",
      "\n",
      "topic Diabetes, questions: ['Dilated eye examination among adults aged >= 18 years with diagnosed diabetes', 'Prevalence of depressive disorders among adults aged >= 18 years with diagnosed diabetes', 'Pneumococcal vaccination among noninstitutionalized adults aged >= 65 years with diagnosed diabetes', 'Diabetes prevalence among women aged 18-44 years', 'Influenza vaccination among noninstitutionalized adults aged 18-64 years with diagnosed diabetes', 'Pneumococcal vaccination among noninstitutionalized adults aged 18-64 years with diagnosed diabetes', 'Prevalence of high blood pressure among adults aged >= 18 years with diagnosed diabetes', 'Adults with diagnosed diabetes aged >= 18 years who have taken a diabetes self-management course', 'Foot examination among adults aged >= 18 years with diagnosed diabetes', 'Visits to dentist or dental clinic among adults aged >= 18 years with diagnosed diabetes', 'Influenza vaccination among noninstitutionalized adults aged >= 65 years with diagnosed diabetes', 'Glycosylated hemoglobin measurement among adults aged >= 18 years with diagnosed diabetes', 'Prevalence of high cholesterol among adults aged >= 18 years with diagnosed diabetes', 'Prevalence of diagnosed diabetes among adults aged >= 18 years', 'Amputation of a lower extremity attributable to diabetes', 'Hospitalization with diabetes as a listed diagnosis', 'Prevalence of pre-pregnancy diabetes', 'Mortality due to diabetes reported as any listed cause of death', 'Mortality with diabetic ketoacidosis reported as any listed cause of death', 'Prevalence of gestational diabetes']\n",
      "\n",
      "topic Oral Health, questions: ['Dental visits among children and adolescents aged 1-17 years', 'Visits to dentist or dental clinic among adults aged >= 18 years', 'Six or more teeth lost among adults aged >= 65 years', 'No tooth loss among adults aged 18-64 years', 'All teeth lost among adults aged >= 65 years', 'Preventive dental visits among children and adolescents aged 1-17 years', 'Oral health services at Federally Qualified Health Centers', 'Population served by community water systems that receive fluoridated drinking water', 'Preventive dental care before pregnancy']\n",
      "\n",
      "topic Asthma, questions: ['Influenza vaccination among noninstitutionalized adults aged >= 65 years with asthma', 'Pneumococcal vaccination among noninstitutionalized adults aged >= 65 years with asthma', 'Asthma prevalence among women aged 18-44 years', 'Current asthma prevalence among adults aged >= 18 years', 'Pneumococcal vaccination among noninstitutionalized adults aged 18-64 years with asthma', 'Influenza vaccination among noninstitutionalized adults aged 18-64 years with asthma', 'Asthma mortality rate', 'Hospitalizations for asthma', 'Emergency department visit rate for asthma']\n",
      "\n",
      "topic Cardiovascular Disease, questions: ['Awareness of high blood pressure among adults aged >= 18 years', 'Pneumococcal vaccination among noninstitutionalized adults aged >= 65 years with a history of coronary heart disease', 'Hospitalization for heart failure among Medicare-eligible persons aged >= 65 years', 'Cholesterol screening among adults aged >= 18 years', 'Taking medicine for high blood pressure control among adults aged >= 18 years with high blood pressure', 'High cholesterol prevalence among adults aged >= 18 years', 'Influenza vaccination among noninstitutionalized adults aged >= 65 years with a history of coronary heart disease or stroke', 'Pneumococcal vaccination among noninstitutionalized adults aged 18-64 years with a history of coronary heart disease', 'Awareness of high blood pressure among women aged 18-44 years', 'Influenza vaccination among noninstitutionalized adults aged 18-64 years with a history of coronary heart disease or stroke', 'Hospitalization for acute myocardial infarction', 'Mortality from coronary heart disease', 'Hospitalization for stroke', 'Mortality from total cardiovascular diseases', 'Mortality from cerebrovascular disease (stroke)', 'Mortality from diseases of the heart', 'Mortality from heart failure', 'Pre-pregnancy hypertension']\n",
      "\n",
      "topic Disability, questions: ['Disability among adults aged >= 65 years']\n",
      "\n",
      "topic Overarching Conditions, questions: ['Self-rated health status among women aged 18-44 years', 'Premature mortality among adults aged 45-64 years', 'Recent activity limitation among adults aged >= 18 years', 'Prevalence of sufficient sleep among adults aged >= 18 years', 'Fair or poor self-rated health status among adults aged >= 18 years', 'Current lack of health insurance among adults aged 18-64 years', 'High school completion among women aged 18-44 years', 'Current health care coverage among women aged 18-44 years', 'High school completion among adults aged 18-24 years', 'Recent physically unhealthy days among adults aged >= 18 years', 'Poverty among women aged 18-44 years', 'Poverty', 'Life expectancy at birth', 'Health insurance coverage before pregnancy', 'Life expectancy at age 65 years']\n",
      "\n"
     ]
    }
   ],
   "source": [
    "for id, topic in topic_id:\n",
    "    topic_id_questions = get_flat_table_rows(conn.sql(f\"\"\"\n",
    "        SELECT Question\n",
    "        FROM Question\n",
    "        WHERE TopicID = '{id}'\n",
    "    \"\"\").fetchall())\n",
    "    print(f\"topic {topic}, questions: {topic_id_questions}\\n\")"
   ]
  },
  {
   "cell_type": "markdown",
   "id": "b4e42ff4",
   "metadata": {},
   "source": [
    "# Unique combinations of datavaluetype and datavalueunit"
   ]
  },
  {
   "cell_type": "code",
   "execution_count": 10,
   "id": "49487f3b",
   "metadata": {},
   "outputs": [],
   "source": [
    "dvt_dvu_pairs = conn.sql(f\"\"\"\n",
    "    SELECT max(cdi.DataValueUnit), MAX(dvt.DataValueType)\n",
    "    FROM CDI cdi\n",
    "    LEFT JOIN DataValueType dvt\n",
    "    ON cdi.DataValueTypeID = dvt.DataValueTypeID\n",
    "    GROUP BY cdi.DataValueTypeID, cdi.DataValueUnit                                   \n",
    "\"\"\")"
   ]
  },
  {
   "cell_type": "code",
   "execution_count": 11,
   "id": "04745a92",
   "metadata": {},
   "outputs": [
    {
     "data": {
      "text/plain": [
       "[('$', 'US Dollars'),\n",
       " ('%', 'Prevalence'),\n",
       " ('%', 'Age-adjusted Prevalence'),\n",
       " ('%', 'Crude Prevalence'),\n",
       " ('%', 'Percent'),\n",
       " ('Number', 'Median'),\n",
       " ('Number', 'Age-adjusted Mean'),\n",
       " ('Number', 'Number'),\n",
       " ('Number', 'Mean'),\n",
       " ('Years', 'Number'),\n",
       " ('cases per 1,000', 'Crude Rate'),\n",
       " ('cases per 1,000', 'Age-adjusted Rate'),\n",
       " ('cases per 1,000,000', 'Number'),\n",
       " ('cases per 1,000,000', 'Adjusted by age, sex, race and ethnicity'),\n",
       " ('cases per 1,000,000', 'Crude Rate'),\n",
       " ('cases per 1,000,000', 'Age-adjusted Rate'),\n",
       " ('cases per 10,000', 'Crude Rate'),\n",
       " ('cases per 10,000', 'Age-adjusted Rate'),\n",
       " ('cases per 100,000', 'Crude Rate'),\n",
       " ('cases per 100,000', 'Average Annual Age-adjusted Rate'),\n",
       " ('cases per 100,000', 'Number'),\n",
       " ('cases per 100,000', 'Average Annual Crude Rate'),\n",
       " ('cases per 100,000', 'Age-adjusted Rate'),\n",
       " ('gallons', 'Per capita alcohol consumption'),\n",
       " ('pack sales per capita', 'Number')]"
      ]
     },
     "execution_count": 11,
     "metadata": {},
     "output_type": "execute_result"
    }
   ],
   "source": [
    "sorted(dvt_dvu_pairs.fetchall(), key=lambda value: value[0])"
   ]
  },
  {
   "cell_type": "markdown",
   "id": "4088a551",
   "metadata": {},
   "source": [
    "# What we have to do here now is to identify which questions are more likely to make use of the population values from the Population table we've just calculated and from there "
   ]
  },
  {
   "cell_type": "markdown",
   "id": "1716c249",
   "metadata": {},
   "source": [
    "## Alcohol use among youth"
   ]
  },
  {
   "cell_type": "markdown",
   "id": "08ad9dbf",
   "metadata": {},
   "source": [
    "![intial powerbi analyses (1).png](./figures%20&%20images/intial%20powerbi%20analyses%20(1).png)"
   ]
  },
  {
   "cell_type": "markdown",
   "id": "f0699485",
   "metadata": {},
   "source": [
    "it seems that `alcohol use among youth` question is something that can't make use of the `Population` table at first glance as what is measured here is alcohol use. But if we look closely the data value can't exactly say for sure whether alcohol amount is used e.g. 3.6% isn't exactly a measurement of alcohol amount but more likely a percentage of population namely the youth using alcohol"
   ]
  },
  {
   "cell_type": "markdown",
   "id": "179bf492",
   "metadata": {},
   "source": [
    "![intial powerbi analyses (2).png](./figures%20&%20images/intial%20powerbi%20analyses%20(2).png)"
   ]
  },
  {
   "cell_type": "markdown",
   "id": "b0799c75",
   "metadata": {},
   "source": [
    "We also have other information like the datavaluetype used for the question. This is basically how PowerBI works when we put a slicer in our workspace we essentially get the unique values a unique value can take in, in this case a topic of `alcohol` has its unique questions like `alcohol use among youth` and then under it it has the unique `datavaluetype's` it uses like `crude prevalence`, and we know `crude prevalence` has exactly one corresponding `datavalueunit` which is the `%` symbol"
   ]
  },
  {
   "cell_type": "markdown",
   "id": "64cd0c1f",
   "metadata": {},
   "source": [
    "because this question can make use of the `Population` table we can calculate the population of youth using alcohol. $\\frac{datavalue}{100} \\cdot youth\\_population$"
   ]
  },
  {
   "cell_type": "markdown",
   "id": "ebcdf184",
   "metadata": {},
   "source": [
    "## amount of alcohol excise tax by beverage type (beer)"
   ]
  },
  {
   "cell_type": "markdown",
   "id": "953f1f07",
   "metadata": {},
   "source": [
    "![](./figures%20&%20images/intial%20powerbi%20analyses%20(4).png)"
   ]
  },
  {
   "cell_type": "markdown",
   "id": "5d585a01",
   "metadata": {},
   "source": [
    "in this case `amount of alcohol excise tax by beverage type (beer)` can't make use of the Population table as what is measured here is `amount of alcohol excise tax`"
   ]
  },
  {
   "cell_type": "markdown",
   "id": "2827b1d0",
   "metadata": {},
   "source": [
    "![](./figures%20&%20images/intial%20powerbi%20analyses%20(3).png)"
   ]
  },
  {
   "cell_type": "markdown",
   "id": "4efa9dcb",
   "metadata": {},
   "source": [
    "calculation will be made here and the `datavalue` alone would just be used. "
   ]
  },
  {
   "cell_type": "markdown",
   "id": "8b54ac0b",
   "metadata": {},
   "source": [
    "## binge drinking frequency among adults aged >= 18 years who binge drink"
   ]
  },
  {
   "cell_type": "markdown",
   "id": "3e0863ad",
   "metadata": {},
   "source": [
    "![](./figures%20&%20images/intial%20powerbi%20analyses%20(5).png)"
   ]
  },
  {
   "cell_type": "markdown",
   "id": "00673ff5",
   "metadata": {},
   "source": [
    "it seems that `binge drinking frequency among adults aged >= 18 years who binge drink` question is something that can't make use of the `Population` table as is only specific to the population of those 18+ **who binge drink**. To get a tangible number namely the drinking frequency of these people aged 18+ who binge drink, we need to get the prevalence of these people aged 18+ who indeed binge drink, which we know can be derived from other questions namely `binge drinking prevalence among adults aged >= 18 years` and then from there multiply it by the binge drinking frequency, since it is assumed that each person that binge drinks has this frequency."
   ]
  },
  {
   "cell_type": "markdown",
   "id": "505e0d08",
   "metadata": {},
   "source": [
    "![](./figures%20&%20images/intial%20powerbi%20analyses%20(6).png)"
   ]
  },
  {
   "cell_type": "markdown",
   "id": "085cf960",
   "metadata": {},
   "source": [
    "calculation would be $prevalence\\_of\\_binge\\_drinkers\\_aged\\_18+ \\cdot datavalue$ but since we don't have prevalence of binge drinkers aged 18+ until we further calculate it the alternative calculation would be $mean\\_binge\\_drinking\\_frequency\\_among\\_adults\\_aged\\_18+\\_who\\_binge\\_drink$, since its datavalueunit is just Number meaning this number as it is will be the representation of this indicator"
   ]
  },
  {
   "cell_type": "markdown",
   "id": "6b531726",
   "metadata": {},
   "source": [
    "## binge drinking prevalence among adults aged >=  18 years"
   ]
  },
  {
   "cell_type": "markdown",
   "id": "3488c5d4",
   "metadata": {},
   "source": [
    "![](./figures%20&%20images/intial%20powerbi%20analyses%20(7).png)"
   ]
  },
  {
   "cell_type": "markdown",
   "id": "6d786b2c",
   "metadata": {},
   "source": [
    "here `binge drinking prevalence among adults aged 18+` can make use of the `Population` table since the only demographic being focused on are adults aged 18+"
   ]
  },
  {
   "cell_type": "markdown",
   "id": "75f30cf5",
   "metadata": {},
   "source": [
    "![](./figures%20&%20images/intial%20powerbi%20analyses%20(8).png)"
   ]
  },
  {
   "cell_type": "markdown",
   "id": "06677152",
   "metadata": {},
   "source": [
    "we can calculate the number of cases or the so called prevalence of these adults aged 18+ that have binge drinking by $ \\frac{datavalue}{100} \\cdot population\\_of\\_adults\\_aged\\_18+$"
   ]
  },
  {
   "cell_type": "markdown",
   "id": "ab309490",
   "metadata": {},
   "source": [
    "## chronic liver disease mortality"
   ]
  },
  {
   "cell_type": "markdown",
   "id": "49a51bba",
   "metadata": {},
   "source": [
    "![](./figures%20&%20images/intial%20powerbi%20analyses%20(9).png)"
   ]
  },
  {
   "cell_type": "markdown",
   "id": "615b635f",
   "metadata": {},
   "source": [
    "There is not explicit age group listed in the question of `chronic liver disease mortality` so it is assumed that persons of all age groups will be in this pool, so we look to the stratification details of this data point. But because through secondary SQL transformation we have already created the table containing the `Population` table values based on age, sex, race, origin, state, and year. Again we can make use of the `Population` table here as we and calculate a tangible number pertaining not to the prevalence of a chronic disease indicator but the mortality rate of those having chronic disease.\n",
    "\n",
    "Again like previous questions each data point has its stratification which we need to take into account and we had taken into account during the creation of the `Population` table, all we have to do now is do calculations to this specific `Population` value coupled with the given `datavalue`"
   ]
  },
  {
   "cell_type": "markdown",
   "id": "3ce07988",
   "metadata": {},
   "source": [
    "![](./figures%20&%20images/intial%20powerbi%20analyses%20(10).png)"
   ]
  },
  {
   "cell_type": "markdown",
   "id": "00760f72",
   "metadata": {},
   "source": [
    "however we are looking now at the rate and we know for `datavaluetype`s of Age-Adjusted Rate and Crude Rate, these don't use `datavalueunit`s of % or percentages, where we can use our `datavalue` and divide it by mere 100. Since age-adjusted rate and crude rate vary in `datavalueunit`s namely cases per 1000, cases per 10000, cases per 100000, and cases per 1000000, we will have to conditionally change our denominator that our datavalue will divide to based on these `datavalueunit`s \n",
    "\n",
    "in this question the datavalueunit is not % but cases per 100000, so we should use 100000 as the denominator. Final calculation would be $\\frac{datavalue}{100000} \\cdot population\\_value(considering age, state, year, sex, race, ethnicity)$ "
   ]
  },
  {
   "cell_type": "markdown",
   "id": "748df09d",
   "metadata": {},
   "source": [
    "## Per capita alcohol consumption among persons aged >= 14 years "
   ]
  },
  {
   "cell_type": "markdown",
   "id": "5bb04afc",
   "metadata": {},
   "source": [
    "![](./figures%20&%20images/intial%20powerbi%20analyses%20(11).png)"
   ]
  },
  {
   "cell_type": "markdown",
   "id": "8e02d0d0",
   "metadata": {},
   "source": [
    "Again this wouldn't make sense for us to use the population value of those persons aged 14+ to calculate the number of cases of something as its not really the cases being measured here but the per capita alcohol consumption, but we can still make use of the `Population` table value for this data point in order to get the total amount of alcohol consumed by the whole population for this demographic of 14+ "
   ]
  },
  {
   "cell_type": "markdown",
   "id": "537c7929",
   "metadata": {},
   "source": [
    "![](./figures%20&%20images/intial%20powerbi%20analyses%20(12).png)"
   ]
  },
  {
   "cell_type": "markdown",
   "id": "d141259c",
   "metadata": {},
   "source": [
    "To get the total number of \"pack sales\" for this population, you would multiply the per capita consumption by the total population: $Per Capita Alcohol Consumption (DataValue) * Total Population (>= 14 years)$"
   ]
  },
  {
   "cell_type": "markdown",
   "id": "9bc9fa46",
   "metadata": {},
   "source": [
    "## We can actually do this in SQL instead of doing it in powerbi"
   ]
  },
  {
   "cell_type": "markdown",
   "id": "06dc7959",
   "metadata": {},
   "source": [
    "* '$', 'US Dollars', 'USD': $datavalue$\n",
    "* '%', 'Age-adjusted Prevalence', 'AGEADJPREV': $\\frac{datavalue}{100} \\cdot populationvalue$\n",
    "* '%', 'Crude Prevalence', 'CRDPREV': $\\frac{datavalue}{100} \\cdot populationvalue$\n",
    "* '%', 'Percent', 'PRCT': $\\frac{datavalue}{100} \\cdot populationvalue$\n",
    "* '%', 'Prevalence', 'PREV': $\\frac{datavalue}{100} \\cdot populationvalue$\n",
    "-----\n",
    "* 'Number', 'Median', 'MEDIAN': $datavalue$\n",
    "* 'Number', 'Age-adjusted Mean', 'AGEADJMEAN': $datavalue$ \n",
    "* 'Number', 'Mean', 'MEAN': $datavalue$\n",
    "* 'Number', 'Number', 'NMBR': $datavalue$\n",
    "* 'Years', 'Number', 'NMBR': $datavalue$\n",
    "-----\n",
    "* 'cases per 1,000', 'Crude Rate', 'CRDRATE': $\\frac{datavalue}{1000} \\cdot populationvalue$\n",
    "* 'cases per 1,000', 'Age-adjusted Rate', 'AGEADJRATE': $\\frac{datavalue}{1000} \\cdot populationvalue$\n",
    "-----\n",
    "* 'cases per 1,000,000', 'Number', 'NMBR': \n",
    "* 'cases per 1,000,000', 'Age-adjusted Rate', 'AGEADJRATE': $\\frac{datavalue}{1000000} \\cdot populationvalue$\n",
    "* 'cases per 1,000,000', 'Adjusted by age, sex, race and ethnicity', 'AGESEXRACEADJRATE': $\\frac{datavalue}{1000000} \\cdot populationvalue$\n",
    "* 'cases per 1,000,000', 'Crude Rate', 'CRDRATE': $\\frac{datavalue}{1000000} \\cdot populationvalue$\n",
    "-----\n",
    "* 'cases per 10,000', 'Crude Rate', 'CRDRATE': $\\frac{datavalue}{10000} \\cdot populationvalue$\n",
    "* 'cases per 10,000', 'Age-adjusted Rate', 'AGEADJRATE': $\\frac{datavalue}{10000} \\cdot populationvalue$\n",
    "-----\n",
    "* 'cases per 100,000', 'Average Annual Crude Rate', 'AVGANNCRDRATE': $\\frac{datavalue}{100000} \\cdot populationvalue$\n",
    "* 'cases per 100,000', 'Crude Rate', 'CRDRATE': $\\frac{datavalue}{100000} \\cdot populationvalue$\n",
    "* 'cases per 100,000', 'Age-adjusted Rate', 'AGEADJRATE': $\\frac{datavalue}{100000} \\cdot populationvalue$\n",
    "* 'cases per 100,000', 'Average Annual Age-adjusted Rate', 'AVGANNAGEADJRATE: $\\frac{datavalue}{100000} \\cdot populationvalue$\n",
    "* 'cases per 100,000', 'Number', 'NMBR':\n",
    "-----\n",
    "* 'gallons', 'Per capita alcohol consumption', 'PERCAPALC': \n",
    "* 'pack sales per capita', 'Number', 'NMBR': depends on question if what is measured can make use of the number of cases of people having the CDI"
   ]
  },
  {
   "cell_type": "markdown",
   "id": "6b06e0e9",
   "metadata": {},
   "source": [
    "# Asking questions"
   ]
  },
  {
   "cell_type": "markdown",
   "id": "39dddbfc",
   "metadata": {},
   "source": [
    "## 1. What is the prevalence of alcohol use among youth (male and female) in listed year ranges?"
   ]
  },
  {
   "cell_type": "markdown",
   "id": "983d5393",
   "metadata": {},
   "source": [
    "![](./figures%20&%20images/initial%20analyses%20powerbi%20(2).png)"
   ]
  },
  {
   "cell_type": "markdown",
   "id": "d37ca091",
   "metadata": {},
   "source": [
    "![](./figures%20&%20images/initial%20analyses%20powerbi.png)"
   ]
  },
  {
   "cell_type": "markdown",
   "id": "ea9ddee2",
   "metadata": {},
   "source": [
    "what we want to do now is to filter the chronic disease table into the `alcohol use among youth` question, with the stratification across hispanic and non hispanic, female and male, and all races"
   ]
  },
  {
   "cell_type": "markdown",
   "id": "fe586f18",
   "metadata": {},
   "source": [
    "we have this slicer here and it basically filters everything in the CDI table that has the alcohol use among youth question and so we want to calculate some sort of average of alcohol use among youth or any kind of calculation with the table resulting from the slicer filtering this question. Question is how can we use this calculated table visual to make aggregations to it and using some kind of DAX/SQL to queery from this table?"
   ]
  },
  {
   "cell_type": "markdown",
   "id": "40dcf8a0",
   "metadata": {},
   "source": [
    "**DAX query** to create the column `TotalEvents` representing the tangible number of a chronic disease indicator:\n",
    "```\n",
    "TotalEvents = SWITCH(\n",
    "    TRUE(),\n",
    "    'chronic_disease_analyses_db   main   CDI'[DataValueTypeID] IN {\"USD\", \"MEDIAN\", \"AGEADJMEAN\", \"NMBR\", \"MEAN\"},\n",
    "    'chronic_disease_analyses_db   main   CDI'[DataValue],\n",
    "\n",
    "    'chronic_disease_analyses_db   main   CDI'[DataValueTypeID] IN {\"AGEADJPREV\", \"CRDPREV\", \"PRCT\", \"PREV\"} && 'chronic_disease_analyses_db   main   CDI'[DataValueUnit] = \"%\",\n",
    "    ('chronic_disease_analyses_db   main   CDI'[DataValue] / 100) * RELATED('chronic_disease_analyses_db   main   CalculatedPopulation'[Population]),\n",
    "\n",
    "    'chronic_disease_analyses_db   main   CDI'[DataValueTypeID] IN {\"CRDRATE\", \"AGEADJRATE\"} && 'chronic_disease_analyses_db   main   CDI'[DataValueUnit] = \"cases per 1,000\",\n",
    "    ('chronic_disease_analyses_db   main   CDI'[DataValue] / 1000) * RELATED('chronic_disease_analyses_db   main   CalculatedPopulation'[Population]),\n",
    "\n",
    "    'chronic_disease_analyses_db   main   CDI'[DataValueTypeID] IN {\"CRDRATE\", \"AGEADJRATE\"} && 'chronic_disease_analyses_db   main   CDI'[DataValueUnit] = \"cases per 10,000\",\n",
    "    ('chronic_disease_analyses_db   main   CDI'[DataValue] / 10000) * RELATED('chronic_disease_analyses_db   main   CalculatedPopulation'[Population]),\n",
    "\n",
    "    'chronic_disease_analyses_db   main   CDI'[DataValueTypeID] IN {\"CRDRATE\", \"AGEADJRATE\", \"AVGANNCRDRATE\", \"AVGANNAGEADJRATE\"} && 'chronic_disease_analyses_db   main   CDI'[DataValueUnit] = \"cases per 100,000\",\n",
    "    ('chronic_disease_analyses_db   main   CDI'[DataValue] / 100000) * RELATED('chronic_disease_analyses_db   main   CalculatedPopulation'[Population]),\n",
    "\n",
    "    'chronic_disease_analyses_db   main   CDI'[DataValueTypeID] IN {\"CRDRATE\", \"AGEADJRATE\", \"AGESEXRACEADJRATE\"} && 'chronic_disease_analyses_db   main   CDI'[DataValueUnit] = \"cases per 1,000,000\",\n",
    "    ('chronic_disease_analyses_db   main   CDI'[DataValue] / 1000000) * RELATED('chronic_disease_analyses_db   main   CalculatedPopulation'[Population]),\n",
    "\n",
    "    'chronic_disease_analyses_db   main   CDI'[DataValueTypeID] IN {\"PERCAPALC\"} && 'chronic_disease_analyses_db   main   CDI'[DataValueUnit] = \"gallons\",\n",
    "    'chronic_disease_analyses_db   main   CDI'[DataValue] * RELATED('chronic_disease_analyses_db   main   CalculatedPopulation'[Population])\n",
    ")\n",
    "```"
   ]
  },
  {
   "cell_type": "markdown",
   "id": "27bcfbe4",
   "metadata": {},
   "source": [
    "Now that we have the `TotalEvents` column we can use it in a visual that shows the top states in a specific year range that has the most youth population estimates using alcohol"
   ]
  },
  {
   "cell_type": "markdown",
   "id": "183b29ac",
   "metadata": {},
   "source": [
    "![](./figures%20&%20images/initial%20analyses%20powerbi%20(4).png)"
   ]
  },
  {
   "cell_type": "markdown",
   "id": "0400e30c",
   "metadata": {},
   "source": [
    "this answers our question above in multiple ways\n",
    "- the states with the most estimated youth populations recorded in 2013 using alcohol were in Texas, New York, Florida, Illinois, and Ohio\n",
    "- the states with the most estimated youth populations recorded in 2015 using alcohol were in California, Florida, New York, Illinois, and Pennsylvania\n",
    "- the states with the most estimated youth populations recorded in 2017 using alcohol were in California, Texas, New York, Florida, and Pennsylvania\n",
    "- the states with the most estimated youth populations recorded in 2019 using alcohol were in California, Texas, New York, Florida, and Illinois"
   ]
  },
  {
   "cell_type": "markdown",
   "id": "23221755",
   "metadata": {},
   "source": [
    "## 2. what is average binge drinking prevalence among adults aged >= 18 from 2001 to 2021"
   ]
  },
  {
   "cell_type": "markdown",
   "id": "db0d1f29",
   "metadata": {},
   "source": [
    "![](./figures%20&%20images/initial%20analyses%20powerbi%20(10).png)"
   ]
  },
  {
   "cell_type": "markdown",
   "id": "d91ad674",
   "metadata": {},
   "source": [
    "Our question of the prevalene of adults aged >= 18 year who binge drink is answered in multiple ways:\n",
    "1. The 1st graph which is the `estimated population of adults aged >= 18 years who binge drink across all states and all years per gender and datavaluetype` combines population in all states and all years of those who binge drink by using their average. \n",
    "- **We see that the average age adjusted prevalence of males who binge drink is 554k its crude prevalence slightly lower 540k, and average age adjusted prevalence of females who binge drink is 327k its crude prevalence**\n",
    "2. the 2nd graph which is the `estimated population of adults aged >= 18 years who binge drink across all years per gender and per state` combines population in all years and datavaluetypes who binge drink by using their average. \n",
    "- **We see that the top 5 highest populations who binge drink per state are from california, texas, florida, new york, and illinois (a trend relatively consistent to the prevalence of alcohol use in youth) with ranges from 2.05M to 5.23M**\n",
    "- **top 5 lowest populations who binge drink per state are from delaware, north dakota, alaska, vermont, and wyoming with ranges from 80k to 140k** \n",
    "3. the 3rd graph is the `population percentages of male and female adults aged >= 18 years who binge drink across all years per state and per gender` which combines population in all years and datavaluetypes who binge drink by using their average\n",
    "- it is relatively consistent that the difference between male populations and female populations who binge drink per state **is 30%**"
   ]
  },
  {
   "cell_type": "markdown",
   "id": "36a68dee",
   "metadata": {},
   "source": [
    "As there are many years recorded for the `binge drinking prevalence among adults aged >= 18 years`, we can create a line graph instead that better visualizes these populations per year per state. These graphs we see **are the states with the highest prevalence of binge drinking**."
   ]
  },
  {
   "cell_type": "markdown",
   "id": "203ccbec",
   "metadata": {},
   "source": [
    "#### California\n",
    "![](./figures%20&%20images/initial%20analyses%20powerbi%20(11).png)"
   ]
  },
  {
   "cell_type": "markdown",
   "id": "2c28b0a9",
   "metadata": {},
   "source": [
    "#### Texas\n",
    "![](./figures%20&%20images/initial%20analyses%20powerbi%20(13).png)"
   ]
  },
  {
   "cell_type": "markdown",
   "id": "bd61b8a1",
   "metadata": {},
   "source": [
    "#### Florida\n",
    "![](./figures%20&%20images/initial%20analyses%20powerbi%20(14).png)"
   ]
  },
  {
   "cell_type": "markdown",
   "id": "08f95e80",
   "metadata": {},
   "source": [
    "#### New York\n",
    "![](./figures%20&%20images/initial%20analyses%20powerbi%20(15).png)"
   ]
  },
  {
   "cell_type": "markdown",
   "id": "35dba6e7",
   "metadata": {},
   "source": [
    "#### Illinois\n",
    "![](./figures%20&%20images/initial%20analyses%20powerbi%20(12).png)"
   ]
  },
  {
   "cell_type": "markdown",
   "id": "be4d8d49",
   "metadata": {},
   "source": [
    "4th graph shows shows the `average population size of the top 5 states associated the most with having high prevalence of individuals who binge drink across all years ranging from 2011 to 2021` which combines population in all datavaluetypes by using the average"
   ]
  },
  {
   "cell_type": "markdown",
   "id": "60f2d628",
   "metadata": {},
   "source": [
    "Since the male population across all states and all years tend to have on average the highest prevalence of binge drinking the trends in each state convey the ff.\n",
    "- state of *california* seems to have it's **male population have a seasonal trend of rising and falling prevalence of binge drinking males**. It's highest was 2011 then after 3 years it was at it's lowest and after 3 years in 2017 the prevalence shot up almost approximating the previous high in 2011 then came down again after 4 years in 2021\n",
    "- **the trend of the female population of binge drinkers seem to be steady with little spikes**\n",
    "- In the state of *texas* both male and female populations of binge drinkers **seem to have a gradual uptrend starting from 2011 up to 2021** but no seasonal pattern involved.\n",
    "- in the state of *florida* there seems to be a seasonal patten involved like in california as **for both male and female populations of binge drinkers, the number starting from 2011 decreases after 1 to 2 years then inreases again after 1 to 2 years with a new and slightly higher population of binge drinkers in each gender as before**\n",
    "- *Illinois* seems interesting as its pattern shows a downtrend starting from 2011 all the way to 2020 but rose in 2021 slightly. The **recorded number of binge drinkers of each gender was at an all time high in 2011 at 1.49M and 880K for male and female respectively and then came down at its lowest in 2020 at 860K and 530K respectively.**\n",
    "- *New York* seems to have a down trend over the years as both male and female populations of binge drinkers **started out high in 2011 with a recorded number of 1.91m and 1.24m respectively and then came down in 2014 and 2012 respectively then started to rise again slightly thereafter and then had continually gradual decline**\n"
   ]
  },
  {
   "cell_type": "markdown",
   "id": "b9bd4843",
   "metadata": {},
   "source": [
    "![](./figures%20&%20images/initial%20analyses%20powerbi%20(17).png)"
   ]
  },
  {
   "cell_type": "markdown",
   "id": "15c74701",
   "metadata": {},
   "source": [
    "![](./figures%20&%20images/initial%20analyses%20powerbi%20(18).png)"
   ]
  },
  {
   "cell_type": "markdown",
   "id": "b3277db6",
   "metadata": {},
   "source": [
    "![](./figures%20&%20images/initial%20analyses%20powebi%20(20).png)"
   ]
  },
  {
   "cell_type": "markdown",
   "id": "d5cf5f45",
   "metadata": {},
   "source": [
    "![](./figures%20&%20images/initial%20analyses%20powerbi%20(15).png)"
   ]
  },
  {
   "cell_type": "markdown",
   "id": "a8e16020",
   "metadata": {},
   "source": [
    "![](./figures%20&%20images/initial%20analyses%20powerbi%20(19).png)"
   ]
  },
  {
   "cell_type": "markdown",
   "id": "47697506",
   "metadata": {},
   "source": [
    "![](./figures%20&%20images/initial%20analyses%20powerbi%20(16).png)"
   ]
  },
  {
   "cell_type": "markdown",
   "id": "dc8eb2bc",
   "metadata": {},
   "source": [
    "## 3. what is the combined drinking intensity and frequency among adults aged >= 18 years who binge drink"
   ]
  },
  {
   "cell_type": "markdown",
   "id": "49fa0268",
   "metadata": {},
   "source": [
    "question of `binge drinking intensity among adults aged >= 18 years who binge drink` has id `ALC4_0`, `Binge drinking frequency among adults aged >= 18 years who binge drink` has id `ALC3_0`, and the question of `Binge drinking prevalence among adults aged >= 18 years` has id `ALC2_2`. What we want to do here is use a filtered version of the CDI table with the `question_id` as `ALC2_2` which would be the ff."
   ]
  },
  {
   "cell_type": "markdown",
   "id": "11cb8d1a",
   "metadata": {},
   "source": [
    "![](./figures%20&%20images/initial%20analyses%20powerbi%20(7).png)"
   ]
  },
  {
   "cell_type": "markdown",
   "id": "ba11eb15",
   "metadata": {},
   "source": [
    "and then join it to another filtered version of the CDI table with the `question_id` as `ALC4_0` or `AL3_0` which are the `binge drinking frequency/intensity among adults aged >= 18 years who binge drink` questions, as we know this pertains only to the population of those who binge drink which we have already calculated in the totalevents representing the total prevalence of those who indeed binge drinks in a specific state, year, sex, ethnicity, and origin"
   ]
  },
  {
   "cell_type": "markdown",
   "id": "20f20a69",
   "metadata": {},
   "source": [
    "since these two tables already have their `ageend`s and `agestart`s to be the same we don't need to join these tables on specific join conditions that factors in the age group. We only need to join them based on their `DataValueType`, `LocationDesc`, `YearStart`, `YearEnd`, and `StratificationID`. E.g. `(binge drinking prevalence among adults aged >= 18 years, age-adjusted prevalence, tennessee, 2012, 2012, b_f_all, ...)` must be joined with `(binge drinking frequency among adults aged >= 18 years who binge drink, age-adjusted mean, tennessee, 2012, 2012, b_f_all, ...)`\n",
    "\n",
    "then the `TotalEvents` in the `ALC2_2` filtered table must be multiplied with the `DataValue` of the `ALC3_0` or `ALC4_0` filtered table"
   ]
  },
  {
   "cell_type": "code",
   "execution_count": 12,
   "id": "e84aa294",
   "metadata": {},
   "outputs": [],
   "source": [
    "alc2_2 = conn.sql(\"\"\"\n",
    "    SELECT *\n",
    "    FROM CDI\n",
    "    WHERE QuestionID = 'ALC2_2' AND (StratificationID = 'B_F_ALL' OR StratificationID = 'B_M_ALL')\n",
    "\"\"\")"
   ]
  },
  {
   "cell_type": "code",
   "execution_count": 13,
   "id": "46cd36d0",
   "metadata": {},
   "outputs": [
    {
     "data": {
      "text/plain": [
       "┌───────────┬─────────┬────────────┬───────────────┬───────────┬────────────────────┬─────────────────────┬────────────┬─────────────────┬──────────────────┬────────┬────────────┐\n",
       "│ YearStart │ YearEnd │ LocationID │ DataValueUnit │ DataValue │ LowConfidenceLimit │ HighConfidenceLimit │ QuestionID │ DataValueTypeID │ StratificationID │ LogID  │ Population │\n",
       "│   int32   │  int32  │  varchar   │    varchar    │  double   │       double       │       double        │  varchar   │     varchar     │     varchar      │ int32  │   int64    │\n",
       "├───────────┼─────────┼────────────┼───────────────┼───────────┼────────────────────┼─────────────────────┼────────────┼─────────────────┼──────────────────┼────────┼────────────┤\n",
       "│      2015 │    2015 │ WV         │ %             │       5.8 │                4.8 │                 7.0 │ ALC2_2     │ AGEADJPREV      │ B_F_ALL          │    242 │     783908 │\n",
       "│      2011 │    2011 │ WV         │ %             │       5.9 │                4.8 │                 7.1 │ ALC2_2     │ AGEADJPREV      │ B_F_ALL          │    243 │     789871 │\n",
       "│      2013 │    2013 │ TN         │ %             │       6.5 │                5.3 │                 7.9 │ ALC2_2     │ CRDPREV         │ B_F_ALL          │    244 │    2727088 │\n",
       "│      2014 │    2014 │ NM         │ %             │       7.4 │                6.3 │                 8.7 │ ALC2_2     │ CRDPREV         │ B_F_ALL          │    252 │     848132 │\n",
       "│      2011 │    2011 │ MS         │ %             │       7.8 │                6.7 │                 9.0 │ ALC2_2     │ CRDPREV         │ B_F_ALL          │    257 │    1223599 │\n",
       "│      2013 │    2013 │ WV         │ %             │       7.9 │                6.7 │                 9.2 │ ALC2_2     │ AGEADJPREV      │ B_F_ALL          │    258 │     788644 │\n",
       "│      2018 │    2018 │ OK         │ %             │       8.6 │                7.4 │                10.1 │ ALC2_2     │ CRDPREV         │ B_F_ALL          │    273 │    1597721 │\n",
       "│      2021 │    2021 │ MS         │ %             │       9.0 │                7.4 │                11.0 │ ALC2_2     │ AGEADJPREV      │ B_F_ALL          │    274 │    1235749 │\n",
       "│      2012 │    2012 │ NC         │ %             │       8.8 │                7.8 │                 9.9 │ ALC2_2     │ AGEADJPREV      │ B_F_ALL          │    283 │    4077902 │\n",
       "│      2020 │    2020 │ IL         │ %             │       9.5 │                7.8 │                11.6 │ ALC2_2     │ CRDPREV         │ B_F_ALL          │    284 │    5317992 │\n",
       "│        ·  │      ·  │ ·          │ ·             │        ·  │                 ·  │                  ·  │   ·        │    ·            │    ·             │     ·  │       ·    │\n",
       "│        ·  │      ·  │ ·          │ ·             │        ·  │                 ·  │                  ·  │   ·        │    ·            │    ·             │     ·  │       ·    │\n",
       "│        ·  │      ·  │ ·          │ ·             │        ·  │                 ·  │                  ·  │   ·        │    ·            │    ·             │     ·  │       ·    │\n",
       "│      2020 │    2020 │ LA         │ %             │      25.6 │               23.0 │                28.3 │ ALC2_2     │ CRDPREV         │ B_M_ALL          │ 651437 │    1802128 │\n",
       "│      2015 │    2015 │ HI         │ %             │      26.1 │               23.9 │                28.3 │ ALC2_2     │ CRDPREV         │ B_M_ALL          │ 651439 │     584187 │\n",
       "│      2012 │    2012 │ HI         │ %             │      26.2 │               24.0 │                28.5 │ ALC2_2     │ AGEADJPREV      │ B_M_ALL          │ 651440 │     568648 │\n",
       "│      2011 │    2011 │ CO         │ %             │      26.3 │               24.4 │                28.2 │ ALC2_2     │ CRDPREV         │ B_M_ALL          │ 651442 │    2032100 │\n",
       "│      2013 │    2013 │ MN         │ %             │      27.2 │               25.3 │                29.1 │ ALC2_2     │ AGEADJPREV      │ B_M_ALL          │ 651443 │    2138347 │\n",
       "│      2019 │    2019 │ IA         │ %             │      27.0 │               25.5 │                28.6 │ ALC2_2     │ CRDPREV         │ B_M_ALL          │ 651444 │    1259044 │\n",
       "│      2017 │    2017 │ IA         │ %             │      27.4 │               25.7 │                29.3 │ ALC2_2     │ CRDPREV         │ B_M_ALL          │ 651445 │    1247817 │\n",
       "│      2014 │    2014 │ IA         │ %             │      29.3 │               27.2 │                31.5 │ ALC2_2     │ AGEADJPREV      │ B_M_ALL          │ 651446 │    1229966 │\n",
       "│      2014 │    2014 │ ND         │ %             │      30.1 │               27.5 │                32.7 │ ALC2_2     │ AGEADJPREV      │ B_M_ALL          │ 651447 │     305953 │\n",
       "│      2018 │    2018 │ WI         │ %             │      30.6 │               28.1 │                33.2 │ ALC2_2     │ AGEADJPREV      │ B_M_ALL          │ 651448 │    2348790 │\n",
       "├───────────┴─────────┴────────────┴───────────────┴───────────┴────────────────────┴─────────────────────┴────────────┴─────────────────┴──────────────────┴────────┴────────────┤\n",
       "│ 2236 rows (20 shown)                                                                                                                                                 12 columns │\n",
       "└─────────────────────────────────────────────────────────────────────────────────────────────────────────────────────────────────────────────────────────────────────────────────┘"
      ]
     },
     "execution_count": 13,
     "metadata": {},
     "output_type": "execute_result"
    }
   ],
   "source": [
    "alc2_2"
   ]
  },
  {
   "cell_type": "code",
   "execution_count": 14,
   "id": "68fb7fe1",
   "metadata": {},
   "outputs": [
    {
     "data": {
      "text/plain": [
       "2236"
      ]
     },
     "execution_count": 14,
     "metadata": {},
     "output_type": "execute_result"
    }
   ],
   "source": [
    "alc2_2s = alc2_2.fetchall()\n",
    "len(alc2_2s)"
   ]
  },
  {
   "cell_type": "code",
   "execution_count": 15,
   "id": "fd28ab7f",
   "metadata": {},
   "outputs": [],
   "source": [
    "alc4_0 = conn.sql(\"\"\"\n",
    "    SELECT *\n",
    "    FROM CDI\n",
    "    WHERE QuestionID = 'ALC4_0' AND (StratificationID = 'B_F_ALL' OR StratificationID = 'B_M_ALL')\n",
    "\"\"\")"
   ]
  },
  {
   "cell_type": "code",
   "execution_count": 16,
   "id": "c5d98aa0",
   "metadata": {},
   "outputs": [
    {
     "data": {
      "text/plain": [
       "┌───────────┬─────────┬────────────┬───────────────┬───────────┬────────────────────┬─────────────────────┬────────────┬─────────────────┬──────────────────┬────────┬────────────┐\n",
       "│ YearStart │ YearEnd │ LocationID │ DataValueUnit │ DataValue │ LowConfidenceLimit │ HighConfidenceLimit │ QuestionID │ DataValueTypeID │ StratificationID │ LogID  │ Population │\n",
       "│   int32   │  int32  │  varchar   │    varchar    │  double   │       double       │       double        │  varchar   │     varchar     │     varchar      │ int32  │   int64    │\n",
       "├───────────┼─────────┼────────────┼───────────────┼───────────┼────────────────────┼─────────────────────┼────────────┼─────────────────┼──────────────────┼────────┼────────────┤\n",
       "│      2019 │    2019 │ MA         │ Number        │       4.5 │                4.3 │                 4.8 │ ALC4_0     │ AGEADJMEAN      │ B_F_ALL          │   1467 │    3028874 │\n",
       "│      2021 │    2021 │ NV         │ Number        │       4.8 │                4.3 │                 5.2 │ ALC4_0     │ MEAN            │ B_F_ALL          │   1468 │    1283049 │\n",
       "│      2012 │    2012 │ NH         │ Number        │       4.7 │                4.5 │                 4.9 │ ALC4_0     │ AGEADJMEAN      │ B_F_ALL          │   1470 │     562349 │\n",
       "│      2020 │    2020 │ CT         │ Number        │       4.8 │                4.5 │                 5.1 │ ALC4_0     │ AGEADJMEAN      │ B_F_ALL          │   1471 │    1532270 │\n",
       "│      2019 │    2019 │ ME         │ Number        │       4.8 │                4.6 │                 5.0 │ ALC4_0     │ AGEADJMEAN      │ B_F_ALL          │   1474 │     593024 │\n",
       "│      2018 │    2018 │ NY         │ Number        │       4.8 │                4.6 │                 5.0 │ ALC4_0     │ AGEADJMEAN      │ B_F_ALL          │   1475 │    8459582 │\n",
       "│      2013 │    2013 │ CA         │ Number        │       4.9 │                4.6 │                 5.1 │ ALC4_0     │ AGEADJMEAN      │ B_F_ALL          │   1476 │   15520311 │\n",
       "│      2016 │    2016 │ MA         │ Number        │       4.9 │                4.6 │                 5.1 │ ALC4_0     │ AGEADJMEAN      │ B_F_ALL          │   1477 │    2980358 │\n",
       "│      2014 │    2014 │ RI         │ Number        │       4.9 │                4.7 │                 5.2 │ ALC4_0     │ AGEADJMEAN      │ B_F_ALL          │   1478 │     461995 │\n",
       "│      2012 │    2012 │ TX         │ Number        │       4.9 │                4.7 │                 5.2 │ ALC4_0     │ AGEADJMEAN      │ B_F_ALL          │   1479 │   10204816 │\n",
       "│        ·  │      ·  │ ·          │   ·           │        ·  │                 ·  │                  ·  │   ·        │  ·              │    ·             │     ·  │       ·    │\n",
       "│        ·  │      ·  │ ·          │   ·           │        ·  │                 ·  │                  ·  │   ·        │  ·              │    ·             │     ·  │       ·    │\n",
       "│        ·  │      ·  │ ·          │   ·           │        ·  │                 ·  │                  ·  │   ·        │  ·              │    ·             │     ·  │       ·    │\n",
       "│      2016 │    2016 │ MS         │ Number        │       9.0 │                8.2 │                 9.7 │ ALC4_0     │ MEAN            │ B_M_ALL          │ 651936 │    1135682 │\n",
       "│      2015 │    2015 │ MN         │ Number        │       8.6 │                8.3 │                 8.9 │ ALC4_0     │ MEAN            │ B_M_ALL          │ 651937 │    2174361 │\n",
       "│      2013 │    2013 │ PA         │ Number        │       8.7 │                8.3 │                 9.1 │ ALC4_0     │ AGEADJMEAN      │ B_M_ALL          │ 651938 │    5096960 │\n",
       "│      2016 │    2016 │ ME         │ Number        │       8.8 │                8.3 │                 9.4 │ ALC4_0     │ MEAN            │ B_M_ALL          │ 651939 │     547261 │\n",
       "│      2019 │    2019 │ HI         │ Number        │       9.1 │                8.5 │                 9.6 │ ALC4_0     │ AGEADJMEAN      │ B_M_ALL          │ 651940 │     581688 │\n",
       "│      2011 │    2011 │ IA         │ Number        │       9.1 │                8.7 │                 9.5 │ ALC4_0     │ AGEADJMEAN      │ B_M_ALL          │ 651941 │    1205307 │\n",
       "│      2017 │    2017 │ KY         │ Number        │       9.4 │                8.7 │                10.1 │ ALC4_0     │ MEAN            │ B_M_ALL          │ 651942 │    1759659 │\n",
       "│      2018 │    2018 │ IA         │ Number        │       9.1 │                8.8 │                 9.5 │ ALC4_0     │ MEAN            │ B_M_ALL          │ 651943 │    1253416 │\n",
       "│      2021 │    2021 │ ND         │ Number        │       9.4 │                8.8 │                10.0 │ ALC4_0     │ MEAN            │ B_M_ALL          │ 651944 │     320010 │\n",
       "│      2019 │    2019 │ WV         │ Number        │       9.6 │                8.8 │                10.4 │ ALC4_0     │ AGEADJMEAN      │ B_M_ALL          │ 651945 │     738394 │\n",
       "├───────────┴─────────┴────────────┴───────────────┴───────────┴────────────────────┴─────────────────────┴────────────┴─────────────────┴──────────────────┴────────┴────────────┤\n",
       "│ 2236 rows (20 shown)                                                                                                                                                 12 columns │\n",
       "└─────────────────────────────────────────────────────────────────────────────────────────────────────────────────────────────────────────────────────────────────────────────────┘"
      ]
     },
     "execution_count": 16,
     "metadata": {},
     "output_type": "execute_result"
    }
   ],
   "source": [
    "alc4_0"
   ]
  },
  {
   "cell_type": "code",
   "execution_count": 17,
   "id": "f205ba7e",
   "metadata": {},
   "outputs": [
    {
     "data": {
      "text/plain": [
       "2236"
      ]
     },
     "execution_count": 17,
     "metadata": {},
     "output_type": "execute_result"
    }
   ],
   "source": [
    "len(alc4_0.fetchall())"
   ]
  },
  {
   "cell_type": "markdown",
   "id": "a737efbe",
   "metadata": {},
   "source": [
    "it seems like the average binge drinking prevalence among those aged >= 18 fin 2011 is highest in California what I want to be able to do is use this average binge drinking drinking intensity/frequency of those who already binge drink \n",
    "\n",
    "the question specifically targets the subpopulation of \"adults aged >= 18 years who binge drink,\" the total adult population of Arizona is not directly applicable for converting this average frequency into a tangible number of individuals or binge drinking episodes.\n",
    "\n",
    "Here's why:\n",
    "\n",
    "The Average is Conditional: The average binge drinking frequency of 3.6 is conditional on the individual being a binge drinker. It's calculated only among those who engage in this behavior.\n",
    "We Don't Know the Number of Binge Drinkers: The total adult population includes both binge drinkers and non-binge drinkers. Without knowing the prevalence (i.e., the proportion or number) of binge drinkers within that 150,000 adult population, we can't determine how many individuals this average applies to.\n",
    "\n",
    "What the 3.6 Tells Us:\n",
    "\n",
    "On average, an adult in Arizona aged 18 and above who binge drinks does so approximately 3.6 times within the specified time period (e.g., per month, per year - this timeframe isn't provided).\n",
    "\n",
    "\n",
    "To get a tangible number, you would need additional information:\n",
    "\n",
    "Prevalence of Binge Drinking: You would need to know what percentage or the actual number of adults aged 18 and above in Arizona in 2015 were classified as binge drinkers.\n",
    "\n",
    "Example: If a study showed that 20% of the 150,000 adults in Arizona were binge drinkers, then the number of binge drinkers would be 0.20 * 150,000 = 30,000.\n",
    "\n",
    "\n",
    "\n",
    "Calculating Tangible Numbers with Prevalence:\n",
    "\n",
    "Number of Binge Drinkers: Once you have the prevalence, you can calculate the estimated number of individuals in the target demographic who engage in binge drinking (as shown in the example above).\n",
    "Total Binge Drinking Episodes: You could then estimate the total number of binge drinking episodes in that population by multiplying the number of binge drinkers by their average frequency: 30,000 binge drinkers * 3.6 episodes/period = 108,000 binge drinking episodes per period.\n",
    "\n",
    "\n",
    "that means I have to do a self join on the filtered table containing the \"binge drinking prevalence among adults aged >= 18 question\" from 2001 to 2021 in all states and join these  "
   ]
  },
  {
   "cell_type": "code",
   "execution_count": 18,
   "id": "ad05f301",
   "metadata": {},
   "outputs": [
    {
     "data": {
      "text/plain": [
       "┌────────┬───────────┬──────────┬───────────┬──────────────────┬─────────────────┬──────────────────┬──────────────────────┬─────────────────────┬──────────────────────┬────────────────────────┬───────────────────────┬────────────────────────┬──────────────────┬────────────┬───────────┬─────────┬────────────┬─────────────────────────┬─────────────────────┬──────────────────────┐\n",
       "│ LogID  │ AlcPrevID │ AlcIntID │ AlcFreqID │ AlcPrevDataValue │ AlcIntDataValue │ AlcFreqDataValue │ AlcPrevDataValueUnit │ AlcIntDataValueUnit │ AlcFreqDataValueUnit │ AlcPrevDataValueTypeID │ AlcIntDataValueTypeID │ AlcFreqDataValueTypeID │ StratificationID │ LocationID │ YearStart │ YearEnd │ Population │ BingeDrinkingPopulation │ BingeDrinkingPopInt │ BingeDrinkingPopFreq │\n",
       "│ int32  │  varchar  │ varchar  │  varchar  │      double      │     double      │      double      │       varchar        │       varchar       │       varchar        │        varchar         │        varchar        │        varchar         │     varchar      │  varchar   │   int32   │  int32  │   int64    │         double          │       double        │        double        │\n",
       "├────────┼───────────┼──────────┼───────────┼──────────────────┼─────────────────┼──────────────────┼──────────────────────┼─────────────────────┼──────────────────────┼────────────────────────┼───────────────────────┼────────────────────────┼──────────────────┼────────────┼───────────┼─────────┼────────────┼─────────────────────────┼─────────────────────┼──────────────────────┤\n",
       "│ 325736 │ ALC2_2    │ ALC4_0   │ ALC3_0    │             13.1 │             4.8 │              2.8 │ %                    │ Number              │ Number               │ AGEADJPREV             │ AGEADJMEAN            │ AGEADJMEAN             │ B_F_ALL          │ CT         │      2011 │    2011 │    1520015 │              199121.965 │   955785.4319999999 │           557541.502 │\n",
       "│ 488901 │ ALC2_2    │ ALC4_0   │ ALC3_0    │             21.9 │             5.1 │              2.8 │ %                    │ Number              │ Number               │ CRDPREV                │ MEAN                  │ MEAN                   │ B_F_ALL          │ DC         │      2015 │    2015 │     310981 │       68104.83899999999 │  347334.67889999994 │   190693.54919999998 │\n",
       "│ 162740 │ ALC2_2    │ ALC4_0   │ ALC3_0    │             11.7 │             5.1 │              3.3 │ %                    │ Number              │ Number               │ CRDPREV                │ MEAN                  │ MEAN                   │ B_F_ALL          │ LA         │      2016 │    2016 │    1936225 │      226538.32499999998 │  1155345.4574999998 │    747576.4724999999 │\n",
       "│ 379633 │ ALC2_2    │ ALC4_0   │ ALC3_0    │              6.5 │             5.2 │              3.0 │ %                    │ Number              │ Number               │ CRDPREV                │ MEAN                  │ MEAN                   │ B_F_ALL          │ AL         │      2013 │    2013 │    2040551 │              132635.815 │          689706.238 │           397907.445 │\n",
       "│  54556 │ ALC2_2    │ ALC4_0   │ ALC3_0    │             12.4 │             5.2 │              3.4 │ %                    │ Number              │ Number               │ AGEADJPREV             │ AGEADJMEAN            │ AGEADJMEAN             │ B_F_ALL          │ NC         │      2021 │    2021 │    4475402 │              554949.848 │        2885739.2096 │         1886829.4832 │\n",
       "│ 488472 │ ALC2_2    │ ALC4_0   │ ALC3_0    │             10.6 │             5.3 │              3.5 │ %                    │ Number              │ Number               │ AGEADJPREV             │ AGEADJMEAN            │ AGEADJMEAN             │ B_F_ALL          │ GA         │      2018 │    2018 │    4376091 │              463865.646 │        2458487.9238 │          1623529.761 │\n",
       "│ 217254 │ ALC2_2    │ ALC4_0   │ ALC3_0    │             16.0 │             5.4 │              4.1 │ %                    │ Number              │ Number               │ AGEADJPREV             │ AGEADJMEAN            │ AGEADJMEAN             │ B_F_ALL          │ VT         │      2021 │    2021 │     282123 │                45139.68 │  243754.27200000003 │           185072.688 │\n",
       "│ 217092 │ ALC2_2    │ ALC4_0   │ ALC3_0    │             11.2 │             5.3 │              3.6 │ %                    │ Number              │ Number               │ CRDPREV                │ MEAN                  │ MEAN                   │ B_F_ALL          │ NY         │      2020 │    2020 │    8641386 │       967835.2319999998 │   5129526.729599999 │   3484206.8351999996 │\n",
       "│  54453 │ ALC2_2    │ ALC4_0   │ ALC3_0    │              9.8 │             5.6 │              3.4 │ %                    │ Number              │ Number               │ CRDPREV                │ MEAN                  │ MEAN                   │ B_F_ALL          │ DE         │      2020 │    2020 │     427293 │               41874.714 │  234498.39839999998 │          142374.0276 │\n",
       "│ 379912 │ ALC2_2    │ ALC4_0   │ ALC3_0    │             16.0 │             5.7 │              3.2 │ %                    │ Number              │ Number               │ AGEADJPREV             │ AGEADJMEAN            │ AGEADJMEAN             │ B_F_ALL          │ SD         │      2016 │    2016 │     340130 │                 54420.8 │           310198.56 │   174146.56000000003 │\n",
       "│     ·  │   ·       │   ·      │   ·       │               ·  │              ·  │               ·  │ ·                    │   ·                 │   ·                  │     ·                  │     ·                 │     ·                  │    ·             │ ·          │        ·  │      ·  │        ·   │                    ·    │               ·     │            ·         │\n",
       "│     ·  │   ·       │   ·      │   ·       │               ·  │              ·  │               ·  │ ·                    │   ·                 │   ·                  │     ·                  │     ·                 │     ·                  │    ·             │ ·          │        ·  │      ·  │        ·   │                    ·    │               ·     │            ·         │\n",
       "│     ·  │   ·       │   ·      │   ·       │               ·  │              ·  │               ·  │ ·                    │   ·                 │   ·                  │     ·                  │     ·                 │     ·                  │    ·             │ ·          │        ·  │      ·  │        ·   │                    ·    │               ·     │            ·         │\n",
       "│    814 │ ALC2_2    │ ALC4_0   │ ALC3_0    │             24.2 │             8.4 │              5.1 │ %                    │ Number              │ Number               │ AGEADJPREV             │ AGEADJMEAN            │ AGEADJMEAN             │ B_M_ALL          │ MO         │      2012 │    2012 │    2345531 │              567618.502 │        4767995.4168 │   2894854.3601999995 │\n",
       "│ 326048 │ ALC2_2    │ ALC4_0   │ ALC3_0    │             21.7 │             8.5 │              5.2 │ %                    │ Number              │ Number               │ CRDPREV                │ MEAN                  │ MEAN                   │ B_M_ALL          │ FL         │      2013 │    2013 │    7877508 │             1709419.236 │  14530063.506000001 │         8888980.0272 │\n",
       "│ 597582 │ ALC2_2    │ ALC4_0   │ ALC3_0    │             21.7 │             8.6 │              5.7 │ %                    │ Number              │ Number               │ AGEADJPREV             │ AGEADJMEAN            │ AGEADJMEAN             │ B_M_ALL          │ NM         │      2020 │    2020 │     851326 │              184737.742 │        1588744.5812 │         1053005.1294 │\n",
       "│ 543570 │ ALC2_2    │ ALC4_0   │ ALC3_0    │             23.7 │             8.7 │              5.3 │ %                    │ Number              │ Number               │ CRDPREV                │ MEAN                  │ MEAN                   │ B_M_ALL          │ MI         │      2018 │    2018 │    4001050 │               948248.85 │   8249764.994999999 │    5025718.904999999 │\n",
       "│ 543565 │ ALC2_2    │ ALC4_0   │ ALC3_0    │             23.4 │             8.8 │              4.8 │ %                    │ Number              │ Number               │ CRDPREV                │ MEAN                  │ MEAN                   │ B_M_ALL          │ IN         │      2011 │    2011 │    2508504 │              586989.936 │        5165511.4368 │         2817551.6928 │\n",
       "│ 271992 │ ALC2_2    │ ALC4_0   │ ALC3_0    │             27.2 │             9.1 │              5.4 │ %                    │ Number              │ Number               │ CRDPREV                │ MEAN                  │ MEAN                   │ B_M_ALL          │ DE         │      2011 │    2011 │     351724 │               95668.928 │         870587.2448 │          516612.2112 │\n",
       "│ 163230 │ ALC2_2    │ ALC4_0   │ ALC3_0    │             26.8 │             8.9 │              4.6 │ %                    │ Number              │ Number               │ CRDPREV                │ MEAN                  │ MEAN                   │ B_M_ALL          │ NE         │      2014 │    2014 │     731475 │      196035.30000000002 │  1744714.1700000002 │            901762.38 │\n",
       "│ 543595 │ ALC2_2    │ ALC4_0   │ ALC3_0    │             28.5 │             9.1 │              4.4 │ %                    │ Number              │ Number               │ CRDPREV                │ MEAN                  │ MEAN                   │ B_M_ALL          │ IA         │      2012 │    2012 │    1212233 │      345486.40499999997 │  3143926.2854999998 │          1520140.182 │\n",
       "│ 651444 │ ALC2_2    │ ALC4_0   │ ALC3_0    │             27.0 │             9.4 │              5.2 │ %                    │ Number              │ Number               │ CRDPREV                │ MEAN                  │ MEAN                   │ B_M_ALL          │ IA         │      2019 │    2019 │    1259044 │               339941.88 │  3195453.6720000003 │          1767697.776 │\n",
       "│ 597683 │ ALC2_2    │ ALC4_0   │ ALC3_0    │             30.8 │             9.8 │              5.1 │ %                    │ Number              │ Number               │ CRDPREV                │ MEAN                  │ MEAN                   │ B_M_ALL          │ IA         │      2011 │    2011 │    1205307 │              371234.556 │        3638098.6488 │   1893296.2355999998 │\n",
       "├────────┴───────────┴──────────┴───────────┴──────────────────┴─────────────────┴──────────────────┴──────────────────────┴─────────────────────┴──────────────────────┴────────────────────────┴───────────────────────┴────────────────────────┴──────────────────┴────────────┴───────────┴─────────┴────────────┴─────────────────────────┴─────────────────────┴──────────────────────┤\n",
       "│ 2236 rows (20 shown)                                                                                                                                                                                                                                                                                                                                                           21 columns │\n",
       "└───────────────────────────────────────────────────────────────────────────────────────────────────────────────────────────────────────────────────────────────────────────────────────────────────────────────────────────────────────────────────────────────────────────────────────────────────────────────────────────────────────────────────────────────────────────────────────────┘"
      ]
     },
     "execution_count": 18,
     "metadata": {},
     "output_type": "execute_result"
    }
   ],
   "source": [
    "conn.sql(\"\"\"\n",
    "    WITH ALC2_2 AS (\n",
    "        SELECT \n",
    "            *,\n",
    "            CASE\n",
    "                WHEN DataValueTypeID IN ('USD', 'MEDIAN', 'AGEADJMEAN', 'NMBR', 'MEAN') THEN DataValue\n",
    "                WHEN DataValueTypeID IN ('AGEADJPREV', 'CRDPREV', 'PRCT', 'PREV') AND DataValueUnit = '%' THEN ((DataValue / 100) * Population)\n",
    "                WHEN DataValueTypeID IN ('CRDRATE', 'AGEADJRATE') AND DataValueUnit = 'cases per 1,000' THEN ((DataValue / 1000) * Population)\n",
    "                WHEN DataValueTypeID IN ('CRDRATE', 'AGEADJRATE') AND DataValueUnit = 'cases per 10,000' THEN ((DataValue / 10000) * Population)\n",
    "                WHEN DataValueTypeID IN ('CRDRATE', 'AGEADJRATE', 'AVGANNCRDRATE', 'AVGANNAGEADJRATE') AND DataValueUnit = 'cases per 100,000' THEN ((DataValue / 100000) * Population)\n",
    "                WHEN DataValueTypeID IN ('CRDRATE', 'AGEADJRATE', 'AGESEXRACEADJRATE') AND DataValueUnit = 'cases per 1,000,000' THEN ((DataValue / 1000000) * Population)\n",
    "                WHEN DataValueTypeID IN ('PERCAPALC') AND DataValueUnit = 'gallons' THEN DataValue * Population\n",
    "                ELSE DataValue\n",
    "            END AS TotalEvents\n",
    "        FROM CDI\n",
    "        WHERE QuestionID = 'ALC2_2' AND (StratificationID = 'B_F_ALL' OR StratificationID = 'B_M_ALL')\n",
    "    ),\n",
    "\n",
    "    -- this table contains the questions related to binge drinking intensity\n",
    "    ALC4_0 AS (\n",
    "        SELECT *\n",
    "        FROM CDI\n",
    "        WHERE QuestionID = 'ALC4_0' AND (StratificationID = 'B_F_ALL' OR StratificationID = 'B_M_ALL')\n",
    "    ),\n",
    "         \n",
    "    -- this table contains the questions related to binge drinking frequency\n",
    "    ALC3_0 AS (\n",
    "        SELECT *\n",
    "        FROM CDI\n",
    "        WHERE QuestionID = 'ALC3_0' AND (StratificationID = 'B_F_ALL' OR StratificationID = 'B_M_ALL')\n",
    "    ),\n",
    "    \n",
    "    -- we self join all the tables on the condition that their \n",
    "    -- LocationID, StratificationID, YearStart, YearEnd are the same\n",
    "    BingeDrinkingIntFreq AS (\n",
    "        SELECT \n",
    "            ALC2_2.LogID,\n",
    "            ALC2_2.QuestionID AS AlcPrevID,\n",
    "            ALC4_0.QuestionID AS AlcIntID,\n",
    "            ALC3_0.QuestionID AS AlcFreqID,\n",
    "            ALC2_2.DataValue AS AlcPrevDataValue,\n",
    "            ALC4_0.DataValue AS AlcIntDataValue,\n",
    "            ALC3_0.DataValue AS AlcFreqDataValue,\n",
    "            ALC2_2.DataValueUnit AS AlcPrevDataValueUnit,\n",
    "            ALC4_0.DataValueUnit AS AlcIntDataValueUnit,\n",
    "            ALC3_0.DataValueUnit AS AlcFreqDataValueUnit,\n",
    "            ALC2_2.DataValueTypeID AS AlcPrevDataValueTypeID,\n",
    "            ALC4_0.DataValueTypeID AS AlcIntDataValueTypeID,\n",
    "            ALC3_0.DataValueTypeID AS AlcFreqDataValueTypeID,\n",
    "            ALC2_2.StratificationID,\n",
    "            ALC2_2.LocationID,\n",
    "            ALC2_2.YearStart,\n",
    "            ALC2_2.YearEnd,\n",
    "            ALC2_2.Population,\n",
    "            ALC2_2.TotalEvents AS BingeDrinkingPopulation,\n",
    "            (ALC2_2.TotalEvents * ALC4_0.DataValue) AS BingeDrinkingPopInt,\n",
    "            (ALC2_2.TotalEvents * ALC3_0.DataValue) AS BingeDrinkingPopFreq\n",
    "        FROM ALC2_2\n",
    "        INNER JOIN ALC4_0\n",
    "        ON (\n",
    "            (ALC2_2.DataValueTypeID = 'AGEADJPREV' AND ALC4_0.DataValueTypeID = 'AGEADJMEAN')\n",
    "            OR (ALC2_2.DataValueTypeID = 'CRDPREV' AND ALC4_0.DataValueTypeID = 'MEAN')\n",
    "        )\n",
    "        AND (ALC2_2.StratificationID = ALC4_0.StratificationID)\n",
    "        AND (ALC2_2.LocationID = ALC4_0.LocationID)\n",
    "        AND (ALC2_2.YearStart = ALC4_0.YearStart)\n",
    "        AND (ALC2_2.YearEnd = ALC4_0.YearEnd)\n",
    "        INNER JOIN ALC3_0\n",
    "        ON (\n",
    "            (ALC2_2.DataValueTypeID = 'AGEADJPREV' AND ALC3_0.DataValueTypeID = 'AGEADJMEAN')\n",
    "            OR (ALC2_2.DataValueTypeID = 'CRDPREV' AND ALC3_0.DataValueTypeID = 'MEAN')\n",
    "        )\n",
    "        AND (ALC2_2.StratificationID = ALC3_0.StratificationID)\n",
    "        AND (ALC2_2.LocationID = ALC3_0.LocationID)\n",
    "        AND (ALC2_2.YearStart = ALC3_0.YearStart)\n",
    "        AND (ALC2_2.YearEnd = ALC3_0.YearEnd)\n",
    "    )\n",
    "                                   \n",
    "    SELECT *\n",
    "    FROM BingeDrinkingIntFreq\n",
    "\"\"\")"
   ]
  },
  {
   "cell_type": "code",
   "execution_count": 19,
   "id": "b28f98cd",
   "metadata": {},
   "outputs": [],
   "source": [
    "binge_drinking_int_freq = conn.sql(\"\"\"\n",
    "    -- binge drinking prevalence among adults aged >= 18 years only and not among women aged 18-44 \n",
    "    -- years and among youth, since these latter demongraphics have no binge drinking frequencies\n",
    "    -- and intensities we can join on\n",
    "    WITH BingeDrinkingPrev AS (\n",
    "        SELECT \n",
    "            *,\n",
    "            CASE\n",
    "                WHEN DataValueTypeID IN ('USD', 'MEDIAN', 'AGEADJMEAN', 'NMBR', 'MEAN') THEN DataValue\n",
    "                WHEN DataValueTypeID IN ('AGEADJPREV', 'CRDPREV', 'PRCT', 'PREV') AND DataValueUnit = '%' THEN ((DataValue / 100) * Population)\n",
    "                WHEN DataValueTypeID IN ('CRDRATE', 'AGEADJRATE') AND DataValueUnit = 'cases per 1,000' THEN ((DataValue / 1000) * Population)\n",
    "                WHEN DataValueTypeID IN ('CRDRATE', 'AGEADJRATE') AND DataValueUnit = 'cases per 10,000' THEN ((DataValue / 10000) * Population)\n",
    "                WHEN DataValueTypeID IN ('CRDRATE', 'AGEADJRATE', 'AVGANNCRDRATE', 'AVGANNAGEADJRATE') AND DataValueUnit = 'cases per 100,000' THEN ((DataValue / 100000) * Population)\n",
    "                WHEN DataValueTypeID IN ('CRDRATE', 'AGEADJRATE', 'AGESEXRACEADJRATE') AND DataValueUnit = 'cases per 1,000,000' THEN ((DataValue / 1000000) * Population)\n",
    "                WHEN DataValueTypeID IN ('PERCAPALC') AND DataValueUnit = 'gallons' THEN DataValue * Population\n",
    "                ELSE DataValue\n",
    "            END AS TotalEvents\n",
    "        FROM CDI\n",
    "        WHERE QuestionID = 'ALC2_2' AND StratificationID IN ('B_B_ALL', 'B_M_ALL', 'B_F_ALL', 'H_B_ALL', 'NH_B_BLACK', 'NH_B_MULTI', 'NH_B_OTHER', 'NH_B_WHITE')\n",
    "    ),\n",
    "                                \n",
    "\n",
    "    -- this table contains the questions related to binge drinking intensity\n",
    "    ALC4_0 AS (\n",
    "        SELECT *\n",
    "        FROM CDI\n",
    "        WHERE QuestionID = 'ALC4_0' AND StratificationID IN ('B_B_ALL', 'B_M_ALL', 'B_F_ALL', 'H_B_ALL', 'NH_B_BLACK', 'NH_B_MULTI', 'NH_B_OTHER', 'NH_B_WHITE')\n",
    "    ),\n",
    "         \n",
    "    -- this table contains the questions related to binge drinking frequency\n",
    "    ALC3_0 AS (\n",
    "        SELECT *\n",
    "        FROM CDI\n",
    "        WHERE QuestionID = 'ALC3_0' AND StratificationID IN ('B_B_ALL', 'B_M_ALL', 'B_F_ALL', 'H_B_ALL', 'NH_B_BLACK', 'NH_B_MULTI', 'NH_B_OTHER', 'NH_B_WHITE')\n",
    "    ),\n",
    "    \n",
    "    -- we self join all the tables on the condition that their \n",
    "    -- LocationID, StratificationID, YearStart, YearEnd are the same\n",
    "    BingeDrinkingIntFreq AS (\n",
    "        SELECT \n",
    "            BingeDrinkingPrev.LogID,\n",
    "            BingeDrinkingPrev.QuestionID AS AlcPrevID,\n",
    "            ALC4_0.QuestionID AS AlcIntID,\n",
    "            ALC3_0.QuestionID AS AlcFreqID,\n",
    "            BingeDrinkingPrev.DataValue AS AlcPrevDataValue,\n",
    "            ALC4_0.DataValue AS AlcIntDataValue,\n",
    "            ALC3_0.DataValue AS AlcFreqDataValue,\n",
    "            BingeDrinkingPrev.DataValueUnit AS AlcPrevDataValueUnit,\n",
    "            ALC4_0.DataValueUnit AS AlcIntDataValueUnit,\n",
    "            ALC3_0.DataValueUnit AS AlcFreqDataValueUnit,\n",
    "            BingeDrinkingPrev.DataValueTypeID AS AlcPrevDataValueTypeID,\n",
    "            ALC4_0.DataValueTypeID AS AlcIntDataValueTypeID,\n",
    "            ALC3_0.DataValueTypeID AS AlcFreqDataValueTypeID,\n",
    "            BingeDrinkingPrev.StratificationID,\n",
    "            BingeDrinkingPrev.LocationID,\n",
    "            BingeDrinkingPrev.YearStart,\n",
    "            BingeDrinkingPrev.YearEnd,\n",
    "            BingeDrinkingPrev.Population,\n",
    "            BingeDrinkingPrev.TotalEvents AS BingeDrinkingPopulation,\n",
    "            (BingeDrinkingPrev.TotalEvents * ALC4_0.DataValue) AS BingeDrinkingPopInt,\n",
    "            (BingeDrinkingPrev.TotalEvents * ALC3_0.DataValue) AS BingeDrinkingPopFreq\n",
    "        FROM BingeDrinkingPrev\n",
    "        INNER JOIN ALC4_0\n",
    "        ON (\n",
    "            (BingeDrinkingPrev.DataValueTypeID = 'AGEADJPREV' AND ALC4_0.DataValueTypeID = 'AGEADJMEAN')\n",
    "            OR (BingeDrinkingPrev.DataValueTypeID = 'CRDPREV' AND ALC4_0.DataValueTypeID = 'MEAN')\n",
    "        )\n",
    "        AND (BingeDrinkingPrev.StratificationID = ALC4_0.StratificationID)\n",
    "        AND (BingeDrinkingPrev.LocationID = ALC4_0.LocationID)\n",
    "        AND (BingeDrinkingPrev.YearStart = ALC4_0.YearStart)\n",
    "        AND (BingeDrinkingPrev.YearEnd = ALC4_0.YearEnd)\n",
    "        INNER JOIN ALC3_0\n",
    "        ON (\n",
    "            (BingeDrinkingPrev.DataValueTypeID = 'AGEADJPREV' AND ALC3_0.DataValueTypeID = 'AGEADJMEAN')\n",
    "            OR (BingeDrinkingPrev.DataValueTypeID = 'CRDPREV' AND ALC3_0.DataValueTypeID = 'MEAN')\n",
    "        )\n",
    "        AND (BingeDrinkingPrev.StratificationID = ALC3_0.StratificationID)\n",
    "        AND (BingeDrinkingPrev.LocationID = ALC3_0.LocationID)\n",
    "        AND (BingeDrinkingPrev.YearStart = ALC3_0.YearStart)\n",
    "        AND (BingeDrinkingPrev.YearEnd = ALC3_0.YearEnd)\n",
    "    )\n",
    "                                   \n",
    "    SELECT \n",
    "        MAX(LogID) AS LogID,\n",
    "        AVG(AlcPrevDataValue) AS AvgAlcPrevDataValue,\n",
    "        AVG(AlcIntDataValue) AS AvgAlcIntDataValue,\n",
    "        AVG(AlcFreqDataValue) AS AvgAlcFreqDataValue,\n",
    "        LocationID,\n",
    "        StratificationID,\n",
    "        YearEnd,\n",
    "        YearStart,\n",
    "        AVG(BingeDrinkingPopInt) AS AvgBingeDrinkingPopInt,\n",
    "        AVG(BingeDrinkingPopFreq) AS AvgBingeDrinkingPopFreq,\n",
    "        AVG(BingeDrinkingPopulation) AS AvgBingeDrinkingPopulation\n",
    "    FROM BingeDrinkingIntFreq\n",
    "    GROUP BY LocationID, StratificationID, YearEnd, YearStart, AlcPrevID, AlcIntID, AlcFreqID\n",
    "\"\"\")"
   ]
  },
  {
   "cell_type": "code",
   "execution_count": 20,
   "id": "dda528c6",
   "metadata": {},
   "outputs": [
    {
     "data": {
      "text/plain": [
       "┌────────┬─────────────────────┬────────────────────┬─────────────────────┬────────────┬──────────────────┬─────────┬───────────┬────────────────────────┬─────────────────────────┬────────────────────────────┐\n",
       "│ LogID  │ AvgAlcPrevDataValue │ AvgAlcIntDataValue │ AvgAlcFreqDataValue │ LocationID │ StratificationID │ YearEnd │ YearStart │ AvgBingeDrinkingPopInt │ AvgBingeDrinkingPopFreq │ AvgBingeDrinkingPopulation │\n",
       "│ int32  │       double        │       double       │       double        │  varchar   │     varchar      │  int32  │   int32   │         double         │         double          │           double           │\n",
       "├────────┼─────────────────────┼────────────────────┼─────────────────────┼────────────┼──────────────────┼─────────┼───────────┼────────────────────────┼─────────────────────────┼────────────────────────────┤\n",
       "│ 325736 │                12.5 │  4.949999999999999 │  2.8499999999999996 │ CT         │ B_F_ALL          │    2011 │      2011 │      939141.2677499999 │            541049.33925 │                 190001.875 │\n",
       "│ 597301 │                14.3 │               7.15 │                4.95 │ NV         │ B_B_ALL          │    2015 │      2015 │     2361249.0250000004 │      1635670.1070000003 │         330228.47000000003 │\n",
       "│ 597669 │  25.549999999999997 │  7.949999999999999 │   4.800000000000001 │ ND         │ NH_B_WHITE       │    2016 │      2016 │          1028827.15725 │            621806.36045 │                129474.3695 │\n",
       "│ 651203 │               12.05 │               5.55 │                3.35 │ NV         │ B_F_ALL          │    2016 │      2016 │      788736.8696499999 │      476578.88139999995 │                142077.5735 │\n",
       "│ 162845 │                16.3 │  5.949999999999999 │                3.55 │ TX         │ NH_B_BLACK       │    2019 │      2019 │          2547894.27335 │           1519439.50095 │                 428085.107 │\n",
       "│ 379804 │                14.3 │                6.6 │                4.55 │ LA         │ NH_B_BLACK       │    2015 │      2015 │     1024541.1461999998 │       706421.0117499998 │         155233.50699999998 │\n",
       "│ 325698 │                12.1 │                5.0 │                 3.4 │ LA         │ B_F_ALL          │    2016 │      2016 │     1170641.6349999998 │              797337.455 │         234283.22499999998 │\n",
       "│ 434331 │                18.2 │  6.699999999999999 │   4.699999999999999 │ ME         │ B_B_ALL          │    2018 │      2018 │           1392365.0403 │       979262.0720999998 │                 208037.466 │\n",
       "│ 651361 │                17.9 │               7.15 │                5.05 │ TX         │ B_B_ALL          │    2016 │      2016 │         27681503.21365 │      19551271.500549998 │                3871538.911 │\n",
       "│ 488706 │                16.3 │               7.25 │                 3.8 │ CA         │ H_B_ALL          │    2016 │      2016 │         13048913.95875 │             6814451.205 │                1795595.775 │\n",
       "│    ·   │                  ·  │                 ·  │                  ·  │ ·          │    ·             │      ·  │        ·  │                ·       │                  ·      │                      ·     │\n",
       "│    ·   │                  ·  │                 ·  │                  ·  │ ·          │    ·             │      ·  │        ·  │                ·       │                  ·      │                      ·     │\n",
       "│    ·   │                  ·  │                 ·  │                  ·  │ ·          │    ·             │      ·  │        ·  │                ·       │                  ·      │                      ·     │\n",
       "│ 380192 │               24.35 │  7.949999999999999 │   4.550000000000001 │ CO         │ B_M_ALL          │    2016 │      2016 │      4350748.771199999 │            2490846.3788 │                 547327.612 │\n",
       "│ 543290 │               14.95 │                6.0 │                 3.6 │ NE         │ B_F_ALL          │    2021 │      2021 │            697206.1278 │             418627.0296 │         116285.28600000001 │\n",
       "│ 108388 │                14.7 │               5.85 │                 4.7 │ DC         │ NH_B_BLACK       │    2013 │      2013 │     210854.15824999998 │             169384.4985 │                  36039.255 │\n",
       "│  54876 │                19.7 │  7.199999999999999 │                 5.7 │ NV         │ NH_B_WHITE       │    2020 │      2020 │     1780504.7075999998 │      1411357.2894000001 │                 247606.542 │\n",
       "│ 597389 │               15.75 │               7.75 │                 4.5 │ IN         │ NH_B_WHITE       │    2013 │      2013 │            5049073.899 │             2937530.079 │                 652094.415 │\n",
       "│ 380029 │               17.75 │                8.0 │                 5.0 │ TN         │ B_M_ALL          │    2017 │      2017 │           3733145.4813 │            2334695.6625 │         466939.13250000007 │\n",
       "│ 488538 │                12.0 │  5.199999999999999 │  2.8499999999999996 │ MD         │ B_F_ALL          │    2012 │      2012 │     1555531.5006000001 │       852586.8903000001 │         299284.56000000006 │\n",
       "│ 543410 │               18.85 │                5.5 │                 5.0 │ DC         │ NH_B_BLACK       │    2019 │      2019 │     255003.87600000002 │              231754.608 │         46375.524000000005 │\n",
       "│ 271945 │                23.4 │  8.649999999999999 │                 4.1 │ AZ         │ B_M_ALL          │    2011 │      2011 │            5088733.875 │      2410426.4359999998 │                  588031.47 │\n",
       "│ 489000 │                26.0 │  7.300000000000001 │                4.15 │ WI         │ NH_B_WHITE       │    2016 │      2016 │      7202310.828000001 │             4099332.966 │          987242.1000000001 │\n",
       "├────────┴─────────────────────┴────────────────────┴─────────────────────┴────────────┴──────────────────┴─────────┴───────────┴────────────────────────┴─────────────────────────┴────────────────────────────┤\n",
       "│ 2889 rows (20 shown)                                                                                                                                                                               11 columns │\n",
       "└───────────────────────────────────────────────────────────────────────────────────────────────────────────────────────────────────────────────────────────────────────────────────────────────────────────────┘"
      ]
     },
     "execution_count": 20,
     "metadata": {},
     "output_type": "execute_result"
    }
   ],
   "source": [
    "binge_drinking_int_freq"
   ]
  },
  {
   "cell_type": "markdown",
   "id": "66b9846f",
   "metadata": {},
   "source": [
    "as shown here we don't really know really know what is measured when the data value of let's say a data point's question of `binge drinking intensity among adults aged >= 18 years who binge drink` is 5.6. The number alone is not enough because you might think is it 5.6 miles per hour? 5.6 kilometers per hour? 5.6 revolutions per second? So 5.6 doesn't really mean anything, however it could mean several very different things, depending on the source's methodology:\n",
    "\n",
    "1. Average Number of Drinks Per Binge Episode - This is the most common interpretation for \"intensity.\" It would mean that, among adults who binge drink, the average number of alcoholic drinks consumed during a single binge drinking episode is 5.6. For context a \"binge drinking episode\" is usually defined as consuming 4 or more drinks for women, or 5 or more drinks for men, on one occasion. So, 5.6 means they're going beyond the minimum threshold.\n",
    "\n",
    "2. Average Number of Binge Episodes Per Time Period (e.g., per month, per year) - Less likely to be called \"intensity\" but possible. It would mean that, among adults who binge drink, they average 5.6 binge drinking episodes in a given timeframe (e.g., 5.6 times per month).\n",
    "Distinction: This is more about frequency than intensity. Your previous question \"binge drinking frequency among adults aged >= 18 years who binge drink\" with a value of 3.6 directly points to this. So, if your current data value is also 5.6 for \"intensity,\" it's highly likely they are distinct measures, and \"intensity\" refers to drinks per episode.\n",
    "\n",
    "3. A Composite Score - Sometimes, researchers create a composite \"intensity\" score based on a weighted combination of factors (e.g., number of drinks, speed of consumption, negative consequences experienced). In this case, 5.6 would be a point on an arbitrary scale, and you'd need the methodology to understand it. This is less common for \"intensity\" alone.\n",
    "\n",
    "For the Most Probable Meaning for \"Intensity\" given that I separately have a \"binge drinking frequency\" measure, it's highly probable that \"binge drinking intensity\" with a value of 5.6 refers to the average number of drinks consumed per binge drinking occasion by those who binge drink.\n",
    "\n",
    "You would need to refer to the metadata, documentation, or codebook of the Chronic Disease Indicators (CDI) dataset itself. Somewhere within that documentation, there should be a precise definition for \"binge drinking intensity\" and its unit of measure. It might be:\n",
    "- \"Average number of alcoholic drinks consumed per binge drinking occasion.\"\n",
    "- \"Mean number of drinks consumed on days when alcohol is consumed (among those who drink).\""
   ]
  },
  {
   "cell_type": "code",
   "execution_count": 21,
   "id": "f117e519",
   "metadata": {},
   "outputs": [
    {
     "data": {
      "text/html": [
       "<div>\n",
       "<style scoped>\n",
       "    .dataframe tbody tr th:only-of-type {\n",
       "        vertical-align: middle;\n",
       "    }\n",
       "\n",
       "    .dataframe tbody tr th {\n",
       "        vertical-align: top;\n",
       "    }\n",
       "\n",
       "    .dataframe thead th {\n",
       "        text-align: right;\n",
       "    }\n",
       "</style>\n",
       "<table border=\"1\" class=\"dataframe\">\n",
       "  <thead>\n",
       "    <tr style=\"text-align: right;\">\n",
       "      <th></th>\n",
       "      <th>LogID</th>\n",
       "      <th>AvgAlcPrevDataValue</th>\n",
       "      <th>AvgAlcIntDataValue</th>\n",
       "      <th>AvgAlcFreqDataValue</th>\n",
       "      <th>LocationID</th>\n",
       "      <th>StratificationID</th>\n",
       "      <th>YearEnd</th>\n",
       "      <th>YearStart</th>\n",
       "      <th>AvgBingeDrinkingPopInt</th>\n",
       "      <th>AvgBingeDrinkingPopFreq</th>\n",
       "      <th>AvgBingeDrinkingPopulation</th>\n",
       "    </tr>\n",
       "  </thead>\n",
       "  <tbody>\n",
       "    <tr>\n",
       "      <th>0</th>\n",
       "      <td>488901</td>\n",
       "      <td>20.55</td>\n",
       "      <td>4.95</td>\n",
       "      <td>3.10</td>\n",
       "      <td>DC</td>\n",
       "      <td>B_F_ALL</td>\n",
       "      <td>2015</td>\n",
       "      <td>2015</td>\n",
       "      <td>3.169674e+05</td>\n",
       "      <td>1.968510e+05</td>\n",
       "      <td>63906.5955</td>\n",
       "    </tr>\n",
       "    <tr>\n",
       "      <th>1</th>\n",
       "      <td>597352</td>\n",
       "      <td>13.90</td>\n",
       "      <td>5.50</td>\n",
       "      <td>3.80</td>\n",
       "      <td>MI</td>\n",
       "      <td>B_F_ALL</td>\n",
       "      <td>2017</td>\n",
       "      <td>2017</td>\n",
       "      <td>3.203007e+06</td>\n",
       "      <td>2.214108e+06</td>\n",
       "      <td>583433.3180</td>\n",
       "    </tr>\n",
       "    <tr>\n",
       "      <th>2</th>\n",
       "      <td>271538</td>\n",
       "      <td>12.40</td>\n",
       "      <td>6.30</td>\n",
       "      <td>3.70</td>\n",
       "      <td>AL</td>\n",
       "      <td>NH_B_BLACK</td>\n",
       "      <td>2019</td>\n",
       "      <td>2019</td>\n",
       "      <td>7.687664e+05</td>\n",
       "      <td>4.515555e+05</td>\n",
       "      <td>122042.0400</td>\n",
       "    </tr>\n",
       "    <tr>\n",
       "      <th>3</th>\n",
       "      <td>217300</td>\n",
       "      <td>18.30</td>\n",
       "      <td>7.00</td>\n",
       "      <td>4.20</td>\n",
       "      <td>DC</td>\n",
       "      <td>NH_B_BLACK</td>\n",
       "      <td>2011</td>\n",
       "      <td>2011</td>\n",
       "      <td>3.065413e+05</td>\n",
       "      <td>1.841355e+05</td>\n",
       "      <td>43818.9840</td>\n",
       "    </tr>\n",
       "    <tr>\n",
       "      <th>4</th>\n",
       "      <td>488654</td>\n",
       "      <td>14.80</td>\n",
       "      <td>6.65</td>\n",
       "      <td>5.40</td>\n",
       "      <td>ID</td>\n",
       "      <td>B_B_ALL</td>\n",
       "      <td>2020</td>\n",
       "      <td>2020</td>\n",
       "      <td>1.436546e+06</td>\n",
       "      <td>1.167814e+06</td>\n",
       "      <td>216153.7040</td>\n",
       "    </tr>\n",
       "    <tr>\n",
       "      <th>...</th>\n",
       "      <td>...</td>\n",
       "      <td>...</td>\n",
       "      <td>...</td>\n",
       "      <td>...</td>\n",
       "      <td>...</td>\n",
       "      <td>...</td>\n",
       "      <td>...</td>\n",
       "      <td>...</td>\n",
       "      <td>...</td>\n",
       "      <td>...</td>\n",
       "      <td>...</td>\n",
       "    </tr>\n",
       "    <tr>\n",
       "      <th>2884</th>\n",
       "      <td>597208</td>\n",
       "      <td>12.15</td>\n",
       "      <td>5.45</td>\n",
       "      <td>3.20</td>\n",
       "      <td>VA</td>\n",
       "      <td>B_F_ALL</td>\n",
       "      <td>2016</td>\n",
       "      <td>2016</td>\n",
       "      <td>2.332561e+06</td>\n",
       "      <td>1.369430e+06</td>\n",
       "      <td>428332.4550</td>\n",
       "    </tr>\n",
       "    <tr>\n",
       "      <th>2885</th>\n",
       "      <td>597243</td>\n",
       "      <td>13.20</td>\n",
       "      <td>5.90</td>\n",
       "      <td>3.45</td>\n",
       "      <td>OH</td>\n",
       "      <td>B_F_ALL</td>\n",
       "      <td>2014</td>\n",
       "      <td>2014</td>\n",
       "      <td>3.783898e+06</td>\n",
       "      <td>2.216311e+06</td>\n",
       "      <td>641915.6040</td>\n",
       "    </tr>\n",
       "    <tr>\n",
       "      <th>2886</th>\n",
       "      <td>597263</td>\n",
       "      <td>14.05</td>\n",
       "      <td>6.50</td>\n",
       "      <td>2.95</td>\n",
       "      <td>CA</td>\n",
       "      <td>NH_B_OTHER</td>\n",
       "      <td>2013</td>\n",
       "      <td>2013</td>\n",
       "      <td>8.777306e+05</td>\n",
       "      <td>3.982185e+05</td>\n",
       "      <td>134769.8480</td>\n",
       "    </tr>\n",
       "    <tr>\n",
       "      <th>2887</th>\n",
       "      <td>434049</td>\n",
       "      <td>13.80</td>\n",
       "      <td>6.75</td>\n",
       "      <td>5.10</td>\n",
       "      <td>KS</td>\n",
       "      <td>NH_B_OTHER</td>\n",
       "      <td>2021</td>\n",
       "      <td>2021</td>\n",
       "      <td>9.247336e+04</td>\n",
       "      <td>6.910228e+04</td>\n",
       "      <td>13677.7320</td>\n",
       "    </tr>\n",
       "    <tr>\n",
       "      <th>2888</th>\n",
       "      <td>380052</td>\n",
       "      <td>19.15</td>\n",
       "      <td>6.90</td>\n",
       "      <td>4.00</td>\n",
       "      <td>AK</td>\n",
       "      <td>NH_B_WHITE</td>\n",
       "      <td>2016</td>\n",
       "      <td>2016</td>\n",
       "      <td>4.775271e+05</td>\n",
       "      <td>2.768739e+05</td>\n",
       "      <td>69209.4405</td>\n",
       "    </tr>\n",
       "  </tbody>\n",
       "</table>\n",
       "<p>2889 rows × 11 columns</p>\n",
       "</div>"
      ],
      "text/plain": [
       "       LogID  AvgAlcPrevDataValue  AvgAlcIntDataValue  AvgAlcFreqDataValue  \\\n",
       "0     488901                20.55                4.95                 3.10   \n",
       "1     597352                13.90                5.50                 3.80   \n",
       "2     271538                12.40                6.30                 3.70   \n",
       "3     217300                18.30                7.00                 4.20   \n",
       "4     488654                14.80                6.65                 5.40   \n",
       "...      ...                  ...                 ...                  ...   \n",
       "2884  597208                12.15                5.45                 3.20   \n",
       "2885  597243                13.20                5.90                 3.45   \n",
       "2886  597263                14.05                6.50                 2.95   \n",
       "2887  434049                13.80                6.75                 5.10   \n",
       "2888  380052                19.15                6.90                 4.00   \n",
       "\n",
       "     LocationID StratificationID  YearEnd  YearStart  AvgBingeDrinkingPopInt  \\\n",
       "0            DC          B_F_ALL     2015       2015            3.169674e+05   \n",
       "1            MI          B_F_ALL     2017       2017            3.203007e+06   \n",
       "2            AL       NH_B_BLACK     2019       2019            7.687664e+05   \n",
       "3            DC       NH_B_BLACK     2011       2011            3.065413e+05   \n",
       "4            ID          B_B_ALL     2020       2020            1.436546e+06   \n",
       "...         ...              ...      ...        ...                     ...   \n",
       "2884         VA          B_F_ALL     2016       2016            2.332561e+06   \n",
       "2885         OH          B_F_ALL     2014       2014            3.783898e+06   \n",
       "2886         CA       NH_B_OTHER     2013       2013            8.777306e+05   \n",
       "2887         KS       NH_B_OTHER     2021       2021            9.247336e+04   \n",
       "2888         AK       NH_B_WHITE     2016       2016            4.775271e+05   \n",
       "\n",
       "      AvgBingeDrinkingPopFreq  AvgBingeDrinkingPopulation  \n",
       "0                1.968510e+05                  63906.5955  \n",
       "1                2.214108e+06                 583433.3180  \n",
       "2                4.515555e+05                 122042.0400  \n",
       "3                1.841355e+05                  43818.9840  \n",
       "4                1.167814e+06                 216153.7040  \n",
       "...                       ...                         ...  \n",
       "2884             1.369430e+06                 428332.4550  \n",
       "2885             2.216311e+06                 641915.6040  \n",
       "2886             3.982185e+05                 134769.8480  \n",
       "2887             6.910228e+04                  13677.7320  \n",
       "2888             2.768739e+05                  69209.4405  \n",
       "\n",
       "[2889 rows x 11 columns]"
      ]
     },
     "execution_count": 21,
     "metadata": {},
     "output_type": "execute_result"
    }
   ],
   "source": [
    "binge_drinking_int_freq_df = binge_drinking_int_freq.fetchdf()\n",
    "binge_drinking_int_freq_df"
   ]
  },
  {
   "cell_type": "code",
   "execution_count": 22,
   "id": "365d9288",
   "metadata": {},
   "outputs": [],
   "source": [
    "VIZ_DIR = \"./data/visualizers-data/\"\n",
    "os.makedirs(VIZ_DIR, exist_ok=True)\n",
    "binge_drinking_int_freq_df.to_csv(f\"{VIZ_DIR}/binge_drinking_int_freq.csv\")"
   ]
  },
  {
   "cell_type": "markdown",
   "id": "005551b4",
   "metadata": {},
   "source": [
    "however we cannot directly write sql queries in powerbi, so somehow we have to create this binge drinking intensity frequency table using DAX measures or using the power query editor, which both use different syntax"
   ]
  },
  {
   "cell_type": "markdown",
   "id": "f686f3c8",
   "metadata": {},
   "source": [
    "So far this is what I've achieved. I have no clue how to join these tables on multiple conditions using only DAX\n",
    "```\n",
    "BingeDrinkingIntFreq = \n",
    "VAR ALC2_2 = FILTER(\n",
    "    'chronic_disease_analyses_db   main   CDI', \n",
    "    'chronic_disease_analyses_db   main   CDI'[QuestionID] = \"ALC2_2\" && ('chronic_disease_analyses_db   main   CDI'[StratificationID] = \"B_F_ALL\" || 'chronic_disease_analyses_db   main   CDI'[StratificationID] = \"B_M_ALL\")\n",
    ")\n",
    "\n",
    "VAR ALC4_0 = FILTER(\n",
    "    'chronic_disease_analyses_db   main   CDI', \n",
    "    'chronic_disease_analyses_db   main   CDI'[QuestionID] = \"ALC4_0\" && ('chronic_disease_analyses_db   main   CDI'[StratificationID] = \"B_F_ALL\" || 'chronic_disease_analyses_db   main   CDI'[StratificationID] = \"B_M_ALL\")\n",
    ")\n",
    "\n",
    "VAR ALC3_0 = FILTER(\n",
    "    'chronic_disease_analyses_db   main   CDI', \n",
    "    'chronic_disease_analyses_db   main   CDI'[QuestionID] = \"ALC3_0\" && ('chronic_disease_analyses_db   main   CDI'[StratificationID] = \"B_F_ALL\" || 'chronic_disease_analyses_db   main   CDI'[StratificationID] = \"B_M_ALL\")\n",
    ")\n",
    "\n",
    "// VAR JoinedWithALC4_0 = ADDCOLUMNS(\n",
    "//     ALC2_2,\n",
    "//     \"AlcIntID\",\n",
    "//     VAR _currentLoc = [LocationID]\n",
    "//     VAR _currentStrat = [StratificationID]\n",
    "//     VAR _currentYS = [YearStart]\n",
    "//     VAR _currentYE = [YearEnd]\n",
    "//     VAR _currentDVType = [DataValueTypeID]\n",
    "//     RETURN ALC4_0[QuestionID]\n",
    "    // \"AlcIntDataValue\",\n",
    "    //     VAR _currentLoc = [LocationID]\n",
    "    //     VAR _currentStrat = [StratificationID]\n",
    "    //     VAR _currentYS = [YearStart]\n",
    "    //     VAR _currentYE = [YearEnd]\n",
    "    //     VAR _currentDVType = [DataValueTypeID]\n",
    "    //     RETURN\n",
    "    //         CALCULATE(\n",
    "    //             SELECTEDVALUE(ALC4_0[DataValue]), // Use SELECTEDVALUE for a single value lookup\n",
    "    //             ALC4_0[LocationID] = _currentLoc,\n",
    "    //             ALC4_0[StratificationID] = _currentStrat,\n",
    "    //             ALC4_0[YearStart] = _currentYS,\n",
    "    //             ALC4_0[YearEnd] = _currentYE,\n",
    "    //             (\n",
    "    //                 (_currentDVType = \"AGEADJPREV\" && ALC4_0[DataValueTypeID] = \"AGEADJMEAN\") ||\n",
    "    //                 (_currentDVType = \"CRDPREV\" && ALC4_0[DataValueTypeID] = \"MEAN\")\n",
    "    //             )\n",
    "    //         ),\n",
    "    // \"AlcIntDataValueUnit\",\n",
    "    //     VAR _currentLoc = [LocationID]\n",
    "    //     VAR _currentStrat = [StratificationID]\n",
    "    //     VAR _currentYS = [YearStart]\n",
    "    //     VAR _currentYE = [YearEnd]\n",
    "    //     VAR _currentDVType = [DataValueTypeID]\n",
    "    //     RETURN\n",
    "    //         CALCULATE(\n",
    "    //             SELECTEDVALUE(ALC4_0[DataValueUnit]),\n",
    "    //             ALC4_0[LocationID] = _currentLoc,\n",
    "    //             ALC4_0[StratificationID] = _currentStrat,\n",
    "    //             ALC4_0[YearStart] = _currentYS,\n",
    "    //             ALC4_0[YearEnd] = _currentYE,\n",
    "    //             (\n",
    "    //                 (_currentDVType = \"AGEADJPREV\" && ALC4_0[DataValueTypeID] = \"AGEADJMEAN\") ||\n",
    "    //                 (_currentDVType = \"CRDPREV\" && ALC4_0[DataValueTypeID] = \"MEAN\")\n",
    "    //             )\n",
    "    //         ),\n",
    "    // \"AlcIntDataValueTypeID\",\n",
    "    //     VAR _currentLoc = [LocationID]\n",
    "    //     VAR _currentStrat = [StratificationID]\n",
    "    //     VAR _currentYS = [YearStart]\n",
    "    //     VAR _currentYE = [YearEnd]\n",
    "    //     VAR _currentDVType = [DataValueTypeID]\n",
    "    //     RETURN\n",
    "    //         CALCULATE(\n",
    "    //             SELECTEDVALUE(ALC4_0[DataValueTypeID]),\n",
    "    //             ALC4_0[LocationID] = _currentLoc,\n",
    "    //             ALC4_0[StratificationID] = _currentStrat,\n",
    "    //             ALC4_0[YearStart] = _currentYS,\n",
    "    //             ALC4_0[YearEnd] = _currentYE,\n",
    "    //             (\n",
    "    //                 (_currentDVType = \"AGEADJPREV\" && ALC4_0[DataValueTypeID] = \"AGEADJMEAN\") ||\n",
    "    //                 (_currentDVType = \"CRDPREV\" && ALC4_0[DataValueTypeID] = \"MEAN\")\n",
    "    //             )\n",
    "    //         )\n",
    "\n",
    "RETURN ALC4_0\n",
    "```"
   ]
  },
  {
   "cell_type": "code",
   "execution_count": null,
   "id": "95cbe2c9",
   "metadata": {},
   "outputs": [],
   "source": [
    "conn.sql(\"\"\"\n",
    "    \n",
    "\"\"\")"
   ]
  }
 ],
 "metadata": {
  "kernelspec": {
   "display_name": "tech-interview",
   "language": "python",
   "name": "python3"
  },
  "language_info": {
   "codemirror_mode": {
    "name": "ipython",
    "version": 3
   },
   "file_extension": ".py",
   "mimetype": "text/x-python",
   "name": "python",
   "nbconvert_exporter": "python",
   "pygments_lexer": "ipython3",
   "version": "3.11.8"
  }
 },
 "nbformat": 4,
 "nbformat_minor": 5
}
