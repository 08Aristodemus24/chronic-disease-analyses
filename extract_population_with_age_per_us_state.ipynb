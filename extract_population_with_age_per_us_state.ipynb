{
 "cells": [
  {
   "cell_type": "code",
   "execution_count": 1,
   "metadata": {},
   "outputs": [],
   "source": [
    "from selenium import webdriver\n",
    "\n",
    "from selenium.webdriver.chrome.service import Service as ChromeService\n",
    "from selenium.webdriver.chrome.options import Options as ChromeOptions\n",
    "from webdriver_manager.chrome import ChromeDriverManager\n",
    "\n",
    "from selenium.webdriver.common.by import By\n",
    "from selenium.webdriver.support.wait import WebDriverWait\n",
    "from selenium.common.exceptions import NoSuchElementException, StaleElementReferenceException\n",
    "from selenium.webdriver.support import expected_conditions as EC\n",
    "\n",
    "import pandas as pd\n",
    "import time\n",
    "import os\n",
    "import shutil\n",
    "\n",
    "from concurrent.futures import ThreadPoolExecutor\n",
    "from argparse import ArgumentParser\n",
    "from utilities.loaders import download_dataset\n",
    "\n",
    "import re\n",
    "\n",
    "%load_ext autoreload\n",
    "%autoreload 2"
   ]
  },
  {
   "cell_type": "code",
   "execution_count": 2,
   "metadata": {},
   "outputs": [],
   "source": [
    "# initialize driver\n",
    "chrome_options = ChromeOptions()\n",
    "\n",
    "# service = ChromeService(executable_path=\"C:/Executables/chromedriver-win64/chromedriver.exe\")\n",
    "# chrome_options.add_experimental_option('detach', True)\n",
    "service = ChromeService(executable_path=ChromeDriverManager().install())\n",
    "driver = webdriver.Chrome(service=service, options=chrome_options)"
   ]
  },
  {
   "cell_type": "code",
   "execution_count": 3,
   "metadata": {},
   "outputs": [],
   "source": [
    "populations_01_10_url = \"https://www.census.gov/data/tables/time-series/demo/popest/intercensal-2000-2010-state.html\"\n",
    "populations_10_19_url = \"https://www.census.gov/data/tables/time-series/demo/popest/2010s-state-detail.html\"\n",
    "populations_20_23_url = \"https://www.census.gov/data/tables/time-series/demo/popest/2020s-state-detail.html\""
   ]
  },
  {
   "cell_type": "code",
   "execution_count": 4,
   "metadata": {},
   "outputs": [],
   "source": [
    "keyword_01_10_url = \"Intercensal Estimates of the Resident Population by Sex and Age for States: April 1, 2000 to July 1, 2010\"\n",
    "keyword_10_19_url = \"Annual Estimates of the Resident Population by Single Year of Age and Sex: April 1, 2010 to July 1, 2019\"\n",
    "keyword_20_23_url = \"Annual Estimates of the Resident Population by Single Year of Age and Sex: April 1, 2020 to July 1, 2023 (SC-EST2023-SYASEX)\""
   ]
  },
  {
   "cell_type": "markdown",
   "metadata": {},
   "source": [
    "#### extracting 2000 - 2010 populations"
   ]
  },
  {
   "cell_type": "code",
   "execution_count": 5,
   "metadata": {},
   "outputs": [],
   "source": [
    "# go to page\n",
    "driver.get(populations_01_10_url)\n",
    "\n",
    "# sleep\n",
    "time.sleep(5)"
   ]
  },
  {
   "cell_type": "markdown",
   "metadata": {},
   "source": [
    "#### select only the sections ith certain keywords"
   ]
  },
  {
   "cell_type": "code",
   "execution_count": 6,
   "metadata": {},
   "outputs": [],
   "source": [
    "section_index = -1"
   ]
  },
  {
   "cell_type": "code",
   "execution_count": 7,
   "metadata": {},
   "outputs": [],
   "source": [
    "sections = driver.find_elements(By.CSS_SELECTOR, value=\"#data-uscb-state-list-selector\")"
   ]
  },
  {
   "cell_type": "code",
   "execution_count": 8,
   "metadata": {},
   "outputs": [],
   "source": [
    "for i, section in enumerate(sections):\n",
    "    for header in section.find_elements(by=By.CSS_SELECTOR, value=\"p\"):\n",
    "        if keyword_01_10_url in header.text:\n",
    "            section_index = i"
   ]
  },
  {
   "cell_type": "code",
   "execution_count": 9,
   "metadata": {},
   "outputs": [
    {
     "data": {
      "text/plain": [
       "'Sex and Age\\nIntercensal Estimates of the Resident Population by Sex and Age for States: April 1, 2000 to July 1, 2010\\nAlabama\\nAlaska\\nArizona\\nArkansas\\nCalifornia\\nColorado\\nConnecticut\\nDelaware\\nDistrict of Columbia\\nFlorida\\nGeorgia\\nHawaii\\nIdaho\\nIllinois\\nIndiana\\nIowa\\nKansas\\nKentucky\\nLouisiana\\nMaine\\nMaryland\\nMassachusetts\\nMichigan\\nMinnesota\\nMississippi\\nMissouri\\nMontana\\nNebraska\\nNevada\\nNew Hampshire\\nNew Jersey\\nNew Mexico\\nNew York\\nNorth Carolina\\nNorth Dakota\\nOhio\\nOklahoma\\nOregon\\nPennsylvania\\nRhode Island\\nSouth Carolina\\nSouth Dakota\\nTennessee\\nTexas\\nUtah\\nVermont\\nVirginia\\nWashington\\nWest Virginia\\nWisconsin\\nWyoming'"
      ]
     },
     "execution_count": 9,
     "metadata": {},
     "output_type": "execute_result"
    }
   ],
   "source": [
    "chosen_section = sections[section_index]\n",
    "chosen_section.text"
   ]
  },
  {
   "cell_type": "code",
   "execution_count": 10,
   "metadata": {},
   "outputs": [],
   "source": [
    "states = chosen_section.find_elements(by=By.CSS_SELECTOR, value=\"ul.uscb-margin-5 li.uscb-list-attachment a\")"
   ]
  },
  {
   "cell_type": "code",
   "execution_count": 39,
   "metadata": {},
   "outputs": [
    {
     "data": {
      "text/plain": [
       "<selenium.webdriver.remote.webelement.WebElement (session=\"d00ed53b094183665d4244c62e4af6af\", element=\"f.A280F4EC4F6F4982858C7CE22991810E.d.EC483D2BB742D2C8AC801C52DC657D67.e.77\")>"
      ]
     },
     "execution_count": 39,
     "metadata": {},
     "output_type": "execute_result"
    }
   ],
   "source": [
    "states[0]"
   ]
  },
  {
   "cell_type": "code",
   "execution_count": 11,
   "metadata": {},
   "outputs": [
    {
     "data": {
      "text/plain": [
       "51"
      ]
     },
     "execution_count": 11,
     "metadata": {},
     "output_type": "execute_result"
    }
   ],
   "source": [
    "len(states)"
   ]
  },
  {
   "cell_type": "code",
   "execution_count": 16,
   "metadata": {},
   "outputs": [],
   "source": [
    "def download_files(elements: list, downloads_path=\"C:/Users/LARRY/Downloads\", output_dir=\"./data/population-data\"):\n",
    "    \n",
    "    # def helper(element):\n",
    "    #     # extract href from anchor tag\n",
    "    #     link = element.get_attribute(\"href\")\n",
    "    #     state = element.text\n",
    "\n",
    "    #     # derivve necessary information from url path to create file names\n",
    "    #     file_name = link.split('/')[-1]\n",
    "    #     file_dir = \"/\".join(link.split('/')[:-1])\n",
    "    #     years = re.search(r\"\\d+-\\d+\", file_dir)[0]\n",
    "    #     extension = re.search(r\".[A-Za-z]+$\", file_name)[0]\n",
    "    #     new_file_name = f\"{state}_{years}{extension}\"\n",
    "    #     # record = {\n",
    "    #     #     \"file_name\": file_name,\n",
    "    #     #     \"file_dir\": file_dir,\n",
    "    #     #     \"new_file_name\": new_file_name,\n",
    "    #     #     \"state\": state\n",
    "    #     # }\n",
    "\n",
    "    #     # download file by clicking element\n",
    "    #     element.click()\n",
    "    #     time.sleep(3)\n",
    "\n",
    "    #     # print(records)\n",
    "    #     return file_name, file_dir, new_file_name, state\n",
    "    \n",
    "    # with ThreadPoolExecutor(max_workers=5) as exe:\n",
    "    #     file_names, file_dirs, new_file_names, states = zip(*list(exe.map(helper, elements)))\n",
    "\n",
    "    for element in elements:\n",
    "        link = element.get_attribute(\"href\")\n",
    "        state = element.text\n",
    "\n",
    "        # derivve necessary information from url path to create file names\n",
    "        file_name = link.split('/')[-1]\n",
    "        file_dir = \"/\".join(link.split('/')[:-1])\n",
    "        years = re.search(r\"\\d+-\\d+\", file_dir)[0]\n",
    "        extension = re.search(r\".[A-Za-z]+$\", file_name)[0]\n",
    "\n",
    "        # download file by clicking element\n",
    "        element.click()\n",
    "        time.sleep(3)\n",
    "\n",
    "        # get the recently downloaded file and rename it\n",
    "        file_path = max([os.path.join(downloads_path, f) for f in os.listdir(downloads_path)], key=os.path.getctime)\n",
    "        new_file_name = f\"{state}_{years}{extension}\"\n",
    "        new_file_path = os.path.join(downloads_path, new_file_name)\n",
    "        os.rename(file_path, new_file_path)\n",
    "\n",
    "        # move downloaded file to current working directory of the script\n",
    "        relocated_path = os.path.join(output_dir, new_file_name)\n",
    "        shutil.move(new_file_path, relocated_path)"
   ]
  },
  {
   "cell_type": "code",
   "execution_count": 104,
   "metadata": {},
   "outputs": [],
   "source": [
    "downloaded_files = download_files(states)"
   ]
  },
  {
   "cell_type": "markdown",
   "metadata": {},
   "source": [
    "#### extracting 2010 - 2019 populations"
   ]
  },
  {
   "cell_type": "code",
   "execution_count": 5,
   "metadata": {},
   "outputs": [],
   "source": [
    "# go to page\n",
    "driver.get(populations_10_19_url)\n",
    "\n",
    "# sleep\n",
    "time.sleep(5)"
   ]
  },
  {
   "cell_type": "code",
   "execution_count": 14,
   "metadata": {},
   "outputs": [
    {
     "data": {
      "text/plain": [
       "51"
      ]
     },
     "execution_count": 14,
     "metadata": {},
     "output_type": "execute_result"
    }
   ],
   "source": [
    "section = driver.find_element(By.XPATH, value='/html/body/div[3]/div/div/div[8]/div/div[9]')\n",
    "states = section.find_elements(By.CSS_SELECTOR, value=\"#data-uscb-state-list-selector > span > ul > li > a\")\n",
    "len(states)"
   ]
  },
  {
   "cell_type": "code",
   "execution_count": 17,
   "metadata": {},
   "outputs": [],
   "source": [
    "downloaded_files = download_files(states)"
   ]
  },
  {
   "cell_type": "code",
   "execution_count": 18,
   "metadata": {},
   "outputs": [],
   "source": [
    "driver.get(populations_20_23_url)\n",
    "time.sleep(5)"
   ]
  },
  {
   "cell_type": "markdown",
   "metadata": {},
   "source": [
    "#### extracting 2020 - 2023 populations"
   ]
  },
  {
   "cell_type": "code",
   "execution_count": 19,
   "metadata": {},
   "outputs": [
    {
     "data": {
      "text/plain": [
       "51"
      ]
     },
     "execution_count": 19,
     "metadata": {},
     "output_type": "execute_result"
    }
   ],
   "source": [
    "section = driver.find_element(By.XPATH, value=\"/html/body/div[3]/div/div/div[8]/div/div[12]/div/div/div[5]\")\n",
    "states = section.find_elements(By.CSS_SELECTOR, value=\"#data-uscb-state-list-selector > span > ul > li > a\")\n",
    "len(states)"
   ]
  },
  {
   "cell_type": "code",
   "execution_count": 21,
   "metadata": {},
   "outputs": [],
   "source": [
    "downloaded_files = download_files(states)"
   ]
  }
 ],
 "metadata": {
  "kernelspec": {
   "display_name": "tech-interview",
   "language": "python",
   "name": "python3"
  },
  "language_info": {
   "codemirror_mode": {
    "name": "ipython",
    "version": 3
   },
   "file_extension": ".py",
   "mimetype": "text/x-python",
   "name": "python",
   "nbconvert_exporter": "python",
   "pygments_lexer": "ipython3",
   "version": "3.12.3"
  }
 },
 "nbformat": 4,
 "nbformat_minor": 2
}
