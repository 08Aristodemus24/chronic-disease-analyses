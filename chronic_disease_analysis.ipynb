{
 "cells": [
  {
   "cell_type": "markdown",
   "id": "bde2ade4",
   "metadata": {},
   "source": [
    "# Now that all necessary data have now been extracted, transformed, and dumped to parquet files we can start doing our analyses by reading these parquet files as tables with duckdb (an in process OLAP) and then use these tables to make our transformations and draw insights"
   ]
  },
  {
   "cell_type": "code",
   "execution_count": 1,
   "id": "73652265",
   "metadata": {},
   "outputs": [],
   "source": [
    "import duckdb\n",
    "import os\n",
    "from dotenv import load_dotenv\n",
    "from pathlib import Path\n",
    "\n",
    "%load_ext autoreload\n",
    "%autoreload 2"
   ]
  },
  {
   "cell_type": "code",
   "execution_count": null,
   "id": "1de20656",
   "metadata": {},
   "outputs": [],
   "source": [
    "# C:\\Users\\LARRY\\Documents\\Scripts\\data-engineering-path\\chronic-disease-analyses\\chronic_disease_analyses_db.db\n",
    "conn = duckdb.connect(\"chronic_disease_analyses_db.db\")"
   ]
  },
  {
   "cell_type": "code",
   "execution_count": 3,
   "id": "9cb4f604",
   "metadata": {},
   "outputs": [
    {
     "data": {
      "text/plain": [
       "['CDI',\n",
       " 'CDILocation',\n",
       " 'CDIStratification',\n",
       " 'DataValueType',\n",
       " 'Population',\n",
       " 'PopulationState',\n",
       " 'PopulationStratification',\n",
       " 'Question']"
      ]
     },
     "execution_count": 3,
     "metadata": {},
     "output_type": "execute_result"
    }
   ],
   "source": [
    "tables = [\n",
    "    table\n",
    "    for table_tuple in conn.sql(\"\"\"SHOW TABLES\"\"\").fetchall()\n",
    "    for table in table_tuple \n",
    "]\n",
    "tables"
   ]
  },
  {
   "cell_type": "code",
   "execution_count": 4,
   "id": "139809ba",
   "metadata": {},
   "outputs": [
    {
     "name": "stdout",
     "output_type": "stream",
     "text": [
      "678471\n",
      "51\n",
      "11\n",
      "15\n",
      "2526336\n",
      "51\n",
      "24\n",
      "192\n"
     ]
    }
   ],
   "source": [
    "for table in tables:\n",
    "    counts = conn.sql(f\"\"\"SELECT COUNT(*) FROM {table}\"\"\").fetchall()[0][0]\n",
    "    print(counts)"
   ]
  },
  {
   "cell_type": "code",
   "execution_count": 5,
   "id": "9bf51a09",
   "metadata": {},
   "outputs": [
    {
     "data": {
      "text/plain": [
       "┌────────────┬────────────────┬─────────────────────┬────────────────────┐\n",
       "│ LocationID │  LocationDesc  │      Latitude       │     Longitude      │\n",
       "│  varchar   │    varchar     │       double        │       double       │\n",
       "├────────────┼────────────────┼─────────────────────┼────────────────────┤\n",
       "│ NM         │ New Mexico     │ -106.24058098499967 │  34.52088095200048 │\n",
       "│ OK         │ Oklahoma       │  -97.52107021399968 │  35.47203135600046 │\n",
       "│ GA         │ Georgia        │  -83.62758034599966 │  32.83968109300048 │\n",
       "│ KY         │ Kentucky       │  -84.77497104799966 │ 37.645970271000465 │\n",
       "│ ND         │ North Dakota   │ -100.11842104899966 │  47.47531977900047 │\n",
       "│ WY         │ Wyoming        │ -108.10983035299967 │  43.23554134300048 │\n",
       "│ TN         │ Tennessee      │  -85.77449091399967 │  35.68094058000048 │\n",
       "│ LA         │ Louisiana      │  -92.44568007099969 │  31.31266064400046 │\n",
       "│ NE         │ Nebraska       │  -99.36572062299967 │   41.6410409880005 │\n",
       "│ AK         │ Alaska         │ -147.72205903599973 │  64.84507995700051 │\n",
       "│ ·          │   ·            │          ·          │          ·         │\n",
       "│ ·          │   ·            │          ·          │          ·         │\n",
       "│ ·          │   ·            │          ·          │          ·         │\n",
       "│ AZ         │ Arizona        │ -111.76381127699972 │ 34.865970280000454 │\n",
       "│ IN         │ Indiana        │  -86.14996019399968 │ 39.766910452000445 │\n",
       "│ MN         │ Minnesota      │  -94.79420050299967 │  46.35564873600049 │\n",
       "│ HI         │ Hawaii         │ -157.85774940299973 │ 21.304850435000446 │\n",
       "│ NH         │ New Hampshire  │  -71.50036091999965 │  43.65595011300047 │\n",
       "│ AR         │ Arkansas       │  -92.27449074299966 │  34.74865012400045 │\n",
       "│ NY         │ New York       │  -75.54397042699964 │  42.82700103200045 │\n",
       "│ SC         │ South Carolina │  -81.04537120699968 │ 33.998821303000454 │\n",
       "│ CT         │ Connecticut    │  -72.64984095199964 │  41.56266102000046 │\n",
       "│ CO         │ Colorado       │ -106.13361092099967 │ 38.843840757000464 │\n",
       "├────────────┴────────────────┴─────────────────────┴────────────────────┤\n",
       "│ 51 rows (20 shown)                                           4 columns │\n",
       "└────────────────────────────────────────────────────────────────────────┘"
      ]
     },
     "execution_count": 5,
     "metadata": {},
     "output_type": "execute_result"
    }
   ],
   "source": [
    "conn.sql(\"\"\"\n",
    "    SELECT * FROM CDILocation\n",
    "\"\"\")"
   ]
  },
  {
   "cell_type": "code",
   "execution_count": 6,
   "id": "af00e009",
   "metadata": {},
   "outputs": [
    {
     "data": {
      "text/plain": [
       "┌─────────┬─────────────┬──────────────┬──────────────────┐\n",
       "│   Sex   │  Ethnicity  │    Origin    │ StratificationID │\n",
       "│ varchar │   varchar   │   varchar    │     varchar      │\n",
       "├─────────┼─────────────┼──────────────┼──────────────────┤\n",
       "│ Male    │ All         │ Both         │ B_M_ALL          │\n",
       "│ Both    │ White       │ Not Hispanic │ NH_B_WHITE       │\n",
       "│ Both    │ Black       │ Not Hispanic │ NH_B_BLACK       │\n",
       "│ Both    │ AIAN        │ Not Hispanic │ NH_B_AIAN        │\n",
       "│ Both    │ Multiracial │ Not Hispanic │ NH_B_MULTI       │\n",
       "│ Both    │ NHPI        │ Not Hispanic │ NH_B_NHPI        │\n",
       "│ Both    │ Other       │ Not Hispanic │ NH_B_OTHER       │\n",
       "│ Female  │ All         │ Both         │ B_F_ALL          │\n",
       "│ Both    │ All         │ Hispanic     │ H_B_ALL          │\n",
       "│ Both    │ All         │ Both         │ B_B_ALL          │\n",
       "│ Both    │ Asian       │ Not Hispanic │ NH_B_ASIAN       │\n",
       "├─────────┴─────────────┴──────────────┴──────────────────┤\n",
       "│ 11 rows                                       4 columns │\n",
       "└─────────────────────────────────────────────────────────┘"
      ]
     },
     "execution_count": 6,
     "metadata": {},
     "output_type": "execute_result"
    }
   ],
   "source": [
    "conn.sql(\"\"\"\n",
    "    SELECT * FROM CDIStratification\n",
    "\"\"\")"
   ]
  },
  {
   "cell_type": "code",
   "execution_count": 7,
   "id": "491e2cf5",
   "metadata": {},
   "outputs": [
    {
     "data": {
      "text/plain": [
       "┌───────────────────┬──────────────────────────────────────────┐\n",
       "│  DataValueTypeID  │              DataValueType               │\n",
       "│      varchar      │                 varchar                  │\n",
       "├───────────────────┼──────────────────────────────────────────┤\n",
       "│ MEDIAN            │ Median                                   │\n",
       "│ NMBR              │ Number                                   │\n",
       "│ AGEADJRATE        │ Age-adjusted Rate                        │\n",
       "│ PERCAPALC         │ Per capita alcohol consumption           │\n",
       "│ USD               │ US Dollars                               │\n",
       "│ AGEADJMEAN        │ Age-adjusted Mean                        │\n",
       "│ PREV              │ Prevalence                               │\n",
       "│ MEAN              │ Mean                                     │\n",
       "│ AVGANNCRDRATE     │ Average Annual Crude Rate                │\n",
       "│ CRDRATE           │ Crude Rate                               │\n",
       "│ AGEADJPREV        │ Age-adjusted Prevalence                  │\n",
       "│ AVGANNAGEADJRATE  │ Average Annual Age-adjusted Rate         │\n",
       "│ PRCT              │ Percent                                  │\n",
       "│ CRDPREV           │ Crude Prevalence                         │\n",
       "│ AGESEXRACEADJRATE │ Adjusted by age, sex, race and ethnicity │\n",
       "├───────────────────┴──────────────────────────────────────────┤\n",
       "│ 15 rows                                            2 columns │\n",
       "└──────────────────────────────────────────────────────────────┘"
      ]
     },
     "execution_count": 7,
     "metadata": {},
     "output_type": "execute_result"
    }
   ],
   "source": [
    "conn.sql(\"\"\"\n",
    "    SELECT * FROM DataValueType\n",
    "\"\"\")"
   ]
  },
  {
   "cell_type": "code",
   "execution_count": 8,
   "id": "b8467077",
   "metadata": {},
   "outputs": [
    {
     "data": {
      "text/plain": [
       "┌────────────┬─────────┬──────────────────────────────────────────────────────────────────────────────────────────────────────────────┬─────────────────────────────────────────────────┬──────────┬────────┐\n",
       "│ QuestionID │ TopicID │                                                   Question                                                   │                      Topic                      │ AgeStart │ AgeEnd │\n",
       "│  varchar   │ varchar │                                                   varchar                                                    │                     varchar                     │  double  │ double │\n",
       "├────────────┼─────────┼──────────────────────────────────────────────────────────────────────────────────────────────────────────────┼─────────────────────────────────────────────────┼──────────┼────────┤\n",
       "│ ART1_1     │ ART     │ Arthritis among adults aged >= 18 years                                                                      │ Arthritis                                       │     18.0 │    inf │\n",
       "│ ALC4_0     │ ALC     │ Binge drinking intensity among adults aged >= 18 years who binge drink                                       │ Alcohol                                         │     18.0 │    inf │\n",
       "│ NPAW2_3    │ NPAW    │ Overweight or obesity among women aged 18-44 years                                                           │ Nutrition, Physical Activity, and Weight Status │     18.0 │   44.0 │\n",
       "│ DIA7_0     │ DIA     │ Dilated eye examination among adults aged >= 18 years with diagnosed diabetes                                │ Diabetes                                        │     18.0 │    inf │\n",
       "│ ORH1_2     │ ORH     │ Dental visits among children and adolescents aged 1-17 years                                                 │ Oral Health                                     │      1.0 │   17.0 │\n",
       "│ OLD3_1     │ OLD     │ Proportion of older adults aged >= 65 years who are up to date on a core set of clinical preventive services │ Older Adults                                    │     65.0 │    inf │\n",
       "│ NPAW4_1    │ NPAW    │ Median daily frequency of fruit consumption among high school students                                       │ Nutrition, Physical Activity, and Weight Status │     14.0 │   18.0 │\n",
       "│ OVC6_2     │ OVC     │ Self-rated health status among women aged 18-44 years                                                        │ Overarching Conditions                          │     18.0 │   44.0 │\n",
       "│ DIA11_3    │ DIA     │ Prevalence of depressive disorders among adults aged >= 18 years with diagnosed diabetes                     │ Diabetes                                        │     18.0 │    inf │\n",
       "│ OVC5_0     │ OVC     │ Premature mortality among adults aged 45-64 years                                                            │ Overarching Conditions                          │     45.0 │   64.0 │\n",
       "│   ·        │  ·      │                         ·                                                                                    │           ·                                     │       ·  │     ·  │\n",
       "│   ·        │  ·      │                         ·                                                                                    │           ·                                     │       ·  │     ·  │\n",
       "│   ·        │  ·      │                         ·                                                                                    │           ·                                     │       ·  │     ·  │\n",
       "│ NPAW16_0   │ NPAW    │ Receiving formula supplementation within the first 2 days of life among breastfed infants                    │ Nutrition, Physical Activity, and Weight Status │     NULL │   NULL │\n",
       "│ RPH3_0     │ RPH     │ Folic acid supplementation                                                                                   │ Reproductive Health                             │     NULL │   NULL │\n",
       "│ NPAW13_2   │ NPAW    │ Secondary schools that allow students to purchase soda or fruit drinks                                       │ Nutrition, Physical Activity, and Weight Status │     NULL │   NULL │\n",
       "│ CAN6_2     │ CAN     │ Cancer of the female cervix, mortality                                                                       │ Cancer                                          │     NULL │   NULL │\n",
       "│ NPAW7_1    │ NPAW    │ Farmers markets that accept Women and Infant Children (WIC) farmers market nutrition program coupons         │ Nutrition, Physical Activity, and Weight Status │     NULL │   NULL │\n",
       "│ DIA3_2     │ DIA     │ Prevalence of gestational diabetes                                                                           │ Diabetes                                        │     NULL │   NULL │\n",
       "│ CVD1_4     │ CVD     │ Mortality from heart failure                                                                                 │ Cardiovascular Disease                          │     NULL │   NULL │\n",
       "│ COPD6_1    │ COPD    │ Emergency department visit rate for chronic obstructive pulmonary disease as first-listed diagnosis          │ Chronic Obstructive Pulmonary Disease           │     NULL │   NULL │\n",
       "│ ORH2_2     │ ORH     │ Preventive dental care before pregnancy                                                                      │ Oral Health                                     │     NULL │   NULL │\n",
       "│ CVD8_0     │ CVD     │ Pre-pregnancy hypertension                                                                                   │ Cardiovascular Disease                          │     NULL │   NULL │\n",
       "├────────────┴─────────┴──────────────────────────────────────────────────────────────────────────────────────────────────────────────┴─────────────────────────────────────────────────┴──────────┴────────┤\n",
       "│ 192 rows (20 shown)                                                                                                                                                                             6 columns │\n",
       "└───────────────────────────────────────────────────────────────────────────────────────────────────────────────────────────────────────────────────────────────────────────────────────────────────────────┘"
      ]
     },
     "execution_count": 8,
     "metadata": {},
     "output_type": "execute_result"
    }
   ],
   "source": [
    "conn.sql(\"\"\"\n",
    "    SELECT * FROM Question\n",
    "\"\"\")"
   ]
  },
  {
   "cell_type": "code",
   "execution_count": 9,
   "id": "046b4db9",
   "metadata": {},
   "outputs": [
    {
     "data": {
      "text/plain": [
       "┌─────────┬───────┬──────────────────┬───────┬────────────┐\n",
       "│ StateID │  Age  │ StratificationID │ Year  │ Population │\n",
       "│ varchar │ float │     varchar      │ int32 │   int64    │\n",
       "├─────────┼───────┼──────────────────┼───────┼────────────┤\n",
       "│ AL      │   0.0 │ NH_M_WHITE       │  2000 │      19270 │\n",
       "│ AL      │   0.0 │ NH_M_WHITE       │  2001 │      19612 │\n",
       "│ AL      │   0.0 │ NH_M_WHITE       │  2002 │      18731 │\n",
       "│ AL      │   0.0 │ NH_M_WHITE       │  2003 │      18623 │\n",
       "│ AL      │   0.0 │ NH_M_WHITE       │  2004 │      18659 │\n",
       "│ AL      │   0.0 │ NH_M_WHITE       │  2005 │      18816 │\n",
       "│ AL      │   0.0 │ NH_M_WHITE       │  2006 │      18877 │\n",
       "│ AL      │   0.0 │ NH_M_WHITE       │  2007 │      19027 │\n",
       "│ AL      │   0.0 │ NH_M_WHITE       │  2008 │      18937 │\n",
       "│ AL      │   0.0 │ NH_M_WHITE       │  2009 │      18039 │\n",
       "│ ·       │    ·  │     ·            │    ·  │          · │\n",
       "│ ·       │    ·  │     ·            │    ·  │          · │\n",
       "│ ·       │    ·  │     ·            │    ·  │          · │\n",
       "│ AL      │  53.0 │ H_M_MULTI        │  2000 │          3 │\n",
       "│ AL      │  53.0 │ H_M_MULTI        │  2001 │          4 │\n",
       "│ AL      │  53.0 │ H_M_MULTI        │  2002 │          9 │\n",
       "│ AL      │  53.0 │ H_M_MULTI        │  2003 │          6 │\n",
       "│ AL      │  53.0 │ H_M_MULTI        │  2004 │          9 │\n",
       "│ AL      │  53.0 │ H_M_MULTI        │  2005 │          7 │\n",
       "│ AL      │  53.0 │ H_M_MULTI        │  2006 │          8 │\n",
       "│ AL      │  53.0 │ H_M_MULTI        │  2007 │          7 │\n",
       "│ AL      │  53.0 │ H_M_MULTI        │  2008 │          8 │\n",
       "│ AL      │  53.0 │ H_M_MULTI        │  2009 │         11 │\n",
       "├─────────┴───────┴──────────────────┴───────┴────────────┤\n",
       "│ ? rows (>9999 rows, 20 shown)                 5 columns │\n",
       "└─────────────────────────────────────────────────────────┘"
      ]
     },
     "execution_count": 9,
     "metadata": {},
     "output_type": "execute_result"
    }
   ],
   "source": [
    "conn.sql(\"\"\"\n",
    "    SELECT * FROM Population\n",
    "\"\"\")"
   ]
  },
  {
   "cell_type": "code",
   "execution_count": 10,
   "id": "fb70f66e",
   "metadata": {},
   "outputs": [
    {
     "data": {
      "text/plain": [
       "┌───────────────┬─────────┐\n",
       "│     State     │ StateID │\n",
       "│    varchar    │ varchar │\n",
       "├───────────────┼─────────┤\n",
       "│ Mississippi   │ MS      │\n",
       "│ South Dakota  │ SD      │\n",
       "│ Utah          │ UT      │\n",
       "│ Kentucky      │ KY      │\n",
       "│ California    │ CA      │\n",
       "│ Nebraska      │ NE      │\n",
       "│ New Hampshire │ NH      │\n",
       "│ Delaware      │ DE      │\n",
       "│ Minnesota     │ MN      │\n",
       "│ Nevada        │ NV      │\n",
       "│   ·           │ ·       │\n",
       "│   ·           │ ·       │\n",
       "│   ·           │ ·       │\n",
       "│ Michigan      │ MI      │\n",
       "│ Illinois      │ IL      │\n",
       "│ Maryland      │ MD      │\n",
       "│ Alaska        │ AK      │\n",
       "│ Connecticut   │ CT      │\n",
       "│ Vermont       │ VT      │\n",
       "│ Massachusetts │ MA      │\n",
       "│ Oklahoma      │ OK      │\n",
       "│ West Virginia │ WV      │\n",
       "│ Virginia      │ VA      │\n",
       "├───────────────┴─────────┤\n",
       "│   51 rows (20 shown)    │\n",
       "└─────────────────────────┘"
      ]
     },
     "execution_count": 10,
     "metadata": {},
     "output_type": "execute_result"
    }
   ],
   "source": [
    "conn.sql(\"\"\"\n",
    "    SELECT * FROM PopulationState\n",
    "\"\"\")"
   ]
  },
  {
   "cell_type": "code",
   "execution_count": 11,
   "id": "f988f651",
   "metadata": {},
   "outputs": [
    {
     "data": {
      "text/plain": [
       "┌─────────┬─────────────┬──────────────┬──────────────────┐\n",
       "│   Sex   │  Ethnicity  │    Origin    │ StratificationID │\n",
       "│ varchar │   varchar   │   varchar    │     varchar      │\n",
       "├─────────┼─────────────┼──────────────┼──────────────────┤\n",
       "│ Female  │ Black       │ Not Hispanic │ NH_F_BLACK       │\n",
       "│ Female  │ Asian       │ Not Hispanic │ NH_F_ASIAN       │\n",
       "│ Female  │ NHPI        │ Hispanic     │ H_F_NHPI         │\n",
       "│ Male    │ Asian       │ Not Hispanic │ NH_M_ASIAN       │\n",
       "│ Male    │ White       │ Not Hispanic │ NH_M_WHITE       │\n",
       "│ Male    │ AIAN        │ Not Hispanic │ NH_M_AIAN        │\n",
       "│ Male    │ Multiracial │ Hispanic     │ H_M_MULTI        │\n",
       "│ Male    │ Black       │ Not Hispanic │ NH_M_BLACK       │\n",
       "│ Male    │ Black       │ Hispanic     │ H_M_BLACK        │\n",
       "│ Female  │ Asian       │ Hispanic     │ H_F_ASIAN        │\n",
       "│  ·      │   ·         │    ·         │     ·            │\n",
       "│  ·      │   ·         │    ·         │     ·            │\n",
       "│  ·      │   ·         │    ·         │     ·            │\n",
       "│ Male    │ Asian       │ Hispanic     │ H_M_ASIAN        │\n",
       "│ Male    │ AIAN        │ Hispanic     │ H_M_AIAN         │\n",
       "│ Female  │ Multiracial │ Hispanic     │ H_F_MULTI        │\n",
       "│ Female  │ White       │ Hispanic     │ H_F_WHITE        │\n",
       "│ Female  │ AIAN        │ Hispanic     │ H_F_AIAN         │\n",
       "│ Male    │ NHPI        │ Hispanic     │ H_M_NHPI         │\n",
       "│ Female  │ Multiracial │ Not Hispanic │ NH_F_MULTI       │\n",
       "│ Female  │ Black       │ Hispanic     │ H_F_BLACK        │\n",
       "│ Female  │ AIAN        │ Not Hispanic │ NH_F_AIAN        │\n",
       "│ Male    │ White       │ Hispanic     │ H_M_WHITE        │\n",
       "├─────────┴─────────────┴──────────────┴──────────────────┤\n",
       "│ 24 rows (20 shown)                            4 columns │\n",
       "└─────────────────────────────────────────────────────────┘"
      ]
     },
     "execution_count": 11,
     "metadata": {},
     "output_type": "execute_result"
    }
   ],
   "source": [
    "conn.sql(\"\"\"\n",
    "    SELECT * FROM PopulationStratification\n",
    "\"\"\")"
   ]
  },
  {
   "cell_type": "code",
   "execution_count": 12,
   "id": "4af62a5b",
   "metadata": {},
   "outputs": [],
   "source": [
    "# # Loading CDI dimension tables\n",
    "# #### location table\n",
    "# cdi_location_url = \"s3://chronic-disease-analyses-bucket/cdi-data-transformed/Location.parquet/*.parquet\"\n",
    "# query = f\"\"\"\n",
    "#     SELECT *\n",
    "#     FROM read_parquet('{cdi_location_url}', union_by_name=True, filename=False)\n",
    "# \"\"\"\n",
    "# conn.sql(query)"
   ]
  },
  {
   "cell_type": "code",
   "execution_count": 13,
   "id": "920963df",
   "metadata": {},
   "outputs": [],
   "source": [
    "conn.close()"
   ]
  }
 ],
 "metadata": {
  "kernelspec": {
   "display_name": "tech-interview",
   "language": "python",
   "name": "python3"
  },
  "language_info": {
   "codemirror_mode": {
    "name": "ipython",
    "version": 3
   },
   "file_extension": ".py",
   "mimetype": "text/x-python",
   "name": "python",
   "nbconvert_exporter": "python",
   "pygments_lexer": "ipython3",
   "version": "3.11.8"
  }
 },
 "nbformat": 4,
 "nbformat_minor": 5
}
