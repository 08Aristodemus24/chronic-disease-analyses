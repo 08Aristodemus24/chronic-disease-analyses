{
 "cells": [
  {
   "cell_type": "code",
   "execution_count": 170,
   "id": "84da2a7c",
   "metadata": {},
   "outputs": [],
   "source": [
    "import os\n",
    "import numpy as np\n",
    "import ast\n",
    "import re\n",
    "\n",
    "import pyspark.sql.functions as f\n",
    "# f.lit\n",
    "from pyspark.sql import SparkSession\n",
    "from pyspark.sql.types import StringType, ArrayType, StructField, StructType, FloatType, DoubleType"
   ]
  },
  {
   "cell_type": "code",
   "execution_count": 171,
   "id": "fac357c1",
   "metadata": {},
   "outputs": [
    {
     "name": "stdout",
     "output_type": "stream",
     "text": [
      "+---------+-------+------------+--------------------+----------+------+--------------------+--------+-------------+-------------+---------+------------+-----------------------+-----------------+------------------+-------------------+-----------------------+-------------------+-----------------------+---------------+-----------------------+---------------+--------------------+----------+----------+-------+----------+---------------+-------------------------+-----------------+-------------------------+-----------------+-------------------------+-----------------+\n",
      "|YearStart|YearEnd|LocationAbbr|        LocationDesc|DataSource| Topic|            Question|Response|DataValueUnit|DataValueType|DataValue|DataValueAlt|DataValueFootnoteSymbol|DatavalueFootnote|LowConfidenceLimit|HighConfidenceLimit|StratificationCategory1|    Stratification1|StratificationCategory2|Stratification2|StratificationCategory3|Stratification3|         GeoLocation|ResponseID|LocationID|TopicID|QuestionID|DataValueTypeID|StratificationCategoryID1|StratificationID1|StratificationCategoryID2|StratificationID2|StratificationCategoryID3|StratificationID3|\n",
      "+---------+-------+------------+--------------------+----------+------+--------------------+--------+-------------+-------------+---------+------------+-----------------------+-----------------+------------------+-------------------+-----------------------+-------------------+-----------------------+---------------+-----------------------+---------------+--------------------+----------+----------+-------+----------+---------------+-------------------------+-----------------+-------------------------+-----------------+-------------------------+-----------------+\n",
      "|     2014|   2014|          AR|            Arkansas| SEDD; SID|Asthma|Hospitalizations ...|    NULL|         NULL|       Number|      916|       916.0|                   NULL|             NULL|              NULL|               NULL|                 Gender|               Male|                   NULL|           NULL|                   NULL|           NULL|POINT (-92.274490...|      NULL|         5|    AST|    AST3_1|           NMBR|                   GENDER|             GENM|                     NULL|             NULL|                     NULL|             NULL|\n",
      "|     2018|   2018|          CO|            Colorado| SEDD; SID|Asthma|Hospitalizations ...|    NULL|         NULL|       Number|     2227|      2227.0|                   NULL|             NULL|              NULL|               NULL|                Overall|            Overall|                   NULL|           NULL|                   NULL|           NULL|POINT (-106.13361...|      NULL|         8|    AST|    AST3_1|           NMBR|                  OVERALL|              OVR|                     NULL|             NULL|                     NULL|             NULL|\n",
      "|     2018|   2018|          DC|District of Columbia| SEDD; SID|Asthma|Hospitalizations ...|    NULL|         NULL|       Number|      708|       708.0|                   NULL|             NULL|              NULL|               NULL|                Overall|            Overall|                   NULL|           NULL|                   NULL|           NULL|POINT (-77.036871...|      NULL|        11|    AST|    AST3_1|           NMBR|                  OVERALL|              OVR|                     NULL|             NULL|                     NULL|             NULL|\n",
      "|     2017|   2017|          GA|             Georgia| SEDD; SID|Asthma|Hospitalizations ...|    NULL|         NULL|       Number|     3520|      3520.0|                   NULL|             NULL|              NULL|               NULL|                 Gender|             Female|                   NULL|           NULL|                   NULL|           NULL|POINT (-83.627580...|      NULL|        13|    AST|    AST3_1|           NMBR|                   GENDER|             GENF|                     NULL|             NULL|                     NULL|             NULL|\n",
      "|     2010|   2010|          MI|            Michigan| SEDD; SID|Asthma|Hospitalizations ...|    NULL|         NULL|       Number|      123|       123.0|                   NULL|             NULL|              NULL|               NULL|         Race/Ethnicity|           Hispanic|                   NULL|           NULL|                   NULL|           NULL|POINT (-84.714390...|      NULL|        26|    AST|    AST3_1|           NMBR|                     RACE|              HIS|                     NULL|             NULL|                     NULL|             NULL|\n",
      "|     2015|   2015|          MT|             Montana| SEDD; SID|Asthma|Hospitalizations ...|    NULL|         NULL|       Number|     NULL|        NULL|                      -|No data available|              NULL|               NULL|         Race/Ethnicity|           Hispanic|                   NULL|           NULL|                   NULL|           NULL|POINT (-109.42442...|      NULL|        30|    AST|    AST3_1|           NMBR|                     RACE|              HIS|                     NULL|             NULL|                     NULL|             NULL|\n",
      "|     2013|   2013|          OR|              Oregon| SEDD; SID|Asthma|Hospitalizations ...|    NULL|         NULL|       Number|      760|       760.0|                   NULL|             NULL|              NULL|               NULL|                 Gender|               Male|                   NULL|           NULL|                   NULL|           NULL|POINT (-120.15503...|      NULL|        41|    AST|    AST3_1|           NMBR|                   GENDER|             GENM|                     NULL|             NULL|                     NULL|             NULL|\n",
      "|     2013|   2013|          PR|         Puerto Rico| SEDD; SID|Asthma|Hospitalizations ...|    NULL|         NULL|       Number|     NULL|        NULL|                      -|No data available|              NULL|               NULL|                Overall|            Overall|                   NULL|           NULL|                   NULL|           NULL|POINT (-66.590149...|      NULL|        72|    AST|    AST3_1|           NMBR|                  OVERALL|              OVR|                     NULL|             NULL|                     NULL|             NULL|\n",
      "|     2017|   2017|          PR|         Puerto Rico| SEDD; SID|Asthma|Hospitalizations ...|    NULL|         NULL|       Number|     NULL|        NULL|                      -|No data available|              NULL|               NULL|                Overall|            Overall|                   NULL|           NULL|                   NULL|           NULL|POINT (-66.590149...|      NULL|        72|    AST|    AST3_1|           NMBR|                  OVERALL|              OVR|                     NULL|             NULL|                     NULL|             NULL|\n",
      "|     2010|   2010|          WI|           Wisconsin| SEDD; SID|Asthma|Hospitalizations ...|    NULL|         NULL|       Number|     1967|      1967.0|                   NULL|             NULL|              NULL|               NULL|                 Gender|               Male|                   NULL|           NULL|                   NULL|           NULL|POINT (-89.816370...|      NULL|        55|    AST|    AST3_1|           NMBR|                   GENDER|             GENM|                     NULL|             NULL|                     NULL|             NULL|\n",
      "|     2016|   2016|          WI|           Wisconsin| SEDD; SID|Asthma|Hospitalizations ...|    NULL|         NULL|       Number|      110|       110.0|                   NULL|             NULL|              NULL|               NULL|         Race/Ethnicity|           Hispanic|                   NULL|           NULL|                   NULL|           NULL|POINT (-89.816370...|      NULL|        55|    AST|    AST3_1|           NMBR|                     RACE|              HIS|                     NULL|             NULL|                     NULL|             NULL|\n",
      "|     2014|   2014|          AL|             Alabama|      NVSS|Asthma|Asthma mortality ...|    NULL|         NULL|       Number|       22|        22.0|                   NULL|             NULL|              NULL|               NULL|                 Gender|               Male|                   NULL|           NULL|                   NULL|           NULL|POINT (-86.631860...|      NULL|         1|    AST|    AST4_1|           NMBR|                   GENDER|             GENM|                     NULL|             NULL|                     NULL|             NULL|\n",
      "|     2015|   2015|          ID|               Idaho|      NVSS|Asthma|Asthma mortality ...|    NULL|         NULL|       Number|       21|        21.0|                   NULL|             NULL|              NULL|               NULL|                Overall|            Overall|                   NULL|           NULL|                   NULL|           NULL|POINT (-114.36373...|      NULL|        16|    AST|    AST4_1|           NMBR|                  OVERALL|              OVR|                     NULL|             NULL|                     NULL|             NULL|\n",
      "|     2016|   2016|          ID|               Idaho|      NVSS|Asthma|Asthma mortality ...|    NULL|         NULL|       Number|       21|        21.0|                   NULL|             NULL|              NULL|               NULL|                Overall|            Overall|                   NULL|           NULL|                   NULL|           NULL|POINT (-114.36373...|      NULL|        16|    AST|    AST4_1|           NMBR|                  OVERALL|              OVR|                     NULL|             NULL|                     NULL|             NULL|\n",
      "|     2020|   2020|          IL|            Illinois|      NVSS|Asthma|Asthma mortality ...|    NULL|       Number|       Number|       89|        89.0|                   NULL|             NULL|              NULL|               NULL|                 Gender|               Male|                   NULL|           NULL|                   NULL|           NULL|POINT (-88.997710...|      NULL|        17|    AST|    AST4_1|           NMBR|                   GENDER|             GENM|                     NULL|             NULL|                     NULL|             NULL|\n",
      "|     2012|   2012|          KS|              Kansas|      NVSS|Asthma|Asthma mortality ...|    NULL|         NULL|       Number|       24|        24.0|                   NULL|             NULL|              NULL|               NULL|         Race/Ethnicity|White, non-Hispanic|                   NULL|           NULL|                   NULL|           NULL|POINT (-98.200781...|      NULL|        20|    AST|    AST4_1|           NMBR|                     RACE|              WHT|                     NULL|             NULL|                     NULL|             NULL|\n",
      "|     2015|   2015|          KS|              Kansas|      NVSS|Asthma|Asthma mortality ...|    NULL|         NULL|       Number|       29|        29.0|                   NULL|             NULL|              NULL|               NULL|                Overall|            Overall|                   NULL|           NULL|                   NULL|           NULL|POINT (-98.200781...|      NULL|        20|    AST|    AST4_1|           NMBR|                  OVERALL|              OVR|                     NULL|             NULL|                     NULL|             NULL|\n",
      "|     2018|   2018|          KS|              Kansas|      NVSS|Asthma|Asthma mortality ...|    NULL|       Number|       Number|       29|        29.0|                   NULL|             NULL|              NULL|               NULL|                Overall|            Overall|                   NULL|           NULL|                   NULL|           NULL|POINT (-98.200781...|      NULL|        20|    AST|    AST4_1|           NMBR|                  OVERALL|              OVR|                     NULL|             NULL|                     NULL|             NULL|\n",
      "|     2017|   2017|          LA|           Louisiana|      NVSS|Asthma|Asthma mortality ...|    NULL|         NULL|       Number|       21|        21.0|                   NULL|             NULL|              NULL|               NULL|                 Gender|               Male|                   NULL|           NULL|                   NULL|           NULL|POINT (-92.445680...|      NULL|        22|    AST|    AST4_1|           NMBR|                   GENDER|             GENM|                     NULL|             NULL|                     NULL|             NULL|\n",
      "|     2017|   2017|          MA|       Massachusetts|      NVSS|Asthma|Asthma mortality ...|    NULL|         NULL|       Number|       28|        28.0|                   NULL|             NULL|              NULL|               NULL|                 Gender|               Male|                   NULL|           NULL|                   NULL|           NULL|POINT (-72.082690...|      NULL|        25|    AST|    AST4_1|           NMBR|                   GENDER|             GENM|                     NULL|             NULL|                     NULL|             NULL|\n",
      "+---------+-------+------------+--------------------+----------+------+--------------------+--------+-------------+-------------+---------+------------+-----------------------+-----------------+------------------+-------------------+-----------------------+-------------------+-----------------------+---------------+-----------------------+---------------+--------------------+----------+----------+-------+----------+---------------+-------------------------+-----------------+-------------------------+-----------------+-------------------------+-----------------+\n",
      "only showing top 20 rows\n",
      "\n"
     ]
    }
   ],
   "source": [
    "DATA_DIR = \"./data/chronic-disease-data\"\n",
    "\n",
    "path = os.path.join(DATA_DIR, \"U.S._Chronic_Disease_Indicators__CDI___2023_Release.csv\")\n",
    "\n",
    "spark = SparkSession.builder.appName('test')\\\n",
    "    .config(\"spark.executor.memory\", \"16g\")\\\n",
    "    .getOrCreate()\n",
    "\n",
    "test_spark_df_00_10 = spark.read.format(\"csv\")\\\n",
    "    .option(\"header\", \"true\")\\\n",
    "    .option(\"inferSchema\", \"true\")\\\n",
    "    .load(path)\n",
    "\n",
    "test_spark_df_00_10.show()"
   ]
  },
  {
   "cell_type": "code",
   "execution_count": 172,
   "id": "692fc784",
   "metadata": {},
   "outputs": [
    {
     "name": "stdout",
     "output_type": "stream",
     "text": [
      "+---------+-------+------------+--------------------+----------+------+--------------------+-------------+-------------+---------+------------+------------------+-------------------+-----------------------+-------------------+--------------------+----------+-------+----------+---------------+\n",
      "|YearStart|YearEnd|LocationAbbr|        LocationDesc|DataSource| Topic|            Question|DataValueUnit|DataValueType|DataValue|DataValueAlt|LowConfidenceLimit|HighConfidenceLimit|StratificationCategory1|    Stratification1|         GeoLocation|LocationID|TopicID|QuestionID|DataValueTypeID|\n",
      "+---------+-------+------------+--------------------+----------+------+--------------------+-------------+-------------+---------+------------+------------------+-------------------+-----------------------+-------------------+--------------------+----------+-------+----------+---------------+\n",
      "|     2014|   2014|          AR|            Arkansas| SEDD; SID|Asthma|Hospitalizations ...|         NULL|       Number|      916|       916.0|              NULL|               NULL|                 Gender|               Male|POINT (-92.274490...|         5|    AST|    AST3_1|           NMBR|\n",
      "|     2018|   2018|          CO|            Colorado| SEDD; SID|Asthma|Hospitalizations ...|         NULL|       Number|     2227|      2227.0|              NULL|               NULL|                Overall|            Overall|POINT (-106.13361...|         8|    AST|    AST3_1|           NMBR|\n",
      "|     2018|   2018|          DC|District of Columbia| SEDD; SID|Asthma|Hospitalizations ...|         NULL|       Number|      708|       708.0|              NULL|               NULL|                Overall|            Overall|POINT (-77.036871...|        11|    AST|    AST3_1|           NMBR|\n",
      "|     2017|   2017|          GA|             Georgia| SEDD; SID|Asthma|Hospitalizations ...|         NULL|       Number|     3520|      3520.0|              NULL|               NULL|                 Gender|             Female|POINT (-83.627580...|        13|    AST|    AST3_1|           NMBR|\n",
      "|     2010|   2010|          MI|            Michigan| SEDD; SID|Asthma|Hospitalizations ...|         NULL|       Number|      123|       123.0|              NULL|               NULL|         Race/Ethnicity|           Hispanic|POINT (-84.714390...|        26|    AST|    AST3_1|           NMBR|\n",
      "|     2015|   2015|          MT|             Montana| SEDD; SID|Asthma|Hospitalizations ...|         NULL|       Number|     NULL|        NULL|              NULL|               NULL|         Race/Ethnicity|           Hispanic|POINT (-109.42442...|        30|    AST|    AST3_1|           NMBR|\n",
      "|     2013|   2013|          OR|              Oregon| SEDD; SID|Asthma|Hospitalizations ...|         NULL|       Number|      760|       760.0|              NULL|               NULL|                 Gender|               Male|POINT (-120.15503...|        41|    AST|    AST3_1|           NMBR|\n",
      "|     2013|   2013|          PR|         Puerto Rico| SEDD; SID|Asthma|Hospitalizations ...|         NULL|       Number|     NULL|        NULL|              NULL|               NULL|                Overall|            Overall|POINT (-66.590149...|        72|    AST|    AST3_1|           NMBR|\n",
      "|     2017|   2017|          PR|         Puerto Rico| SEDD; SID|Asthma|Hospitalizations ...|         NULL|       Number|     NULL|        NULL|              NULL|               NULL|                Overall|            Overall|POINT (-66.590149...|        72|    AST|    AST3_1|           NMBR|\n",
      "|     2010|   2010|          WI|           Wisconsin| SEDD; SID|Asthma|Hospitalizations ...|         NULL|       Number|     1967|      1967.0|              NULL|               NULL|                 Gender|               Male|POINT (-89.816370...|        55|    AST|    AST3_1|           NMBR|\n",
      "|     2016|   2016|          WI|           Wisconsin| SEDD; SID|Asthma|Hospitalizations ...|         NULL|       Number|      110|       110.0|              NULL|               NULL|         Race/Ethnicity|           Hispanic|POINT (-89.816370...|        55|    AST|    AST3_1|           NMBR|\n",
      "|     2014|   2014|          AL|             Alabama|      NVSS|Asthma|Asthma mortality ...|         NULL|       Number|       22|        22.0|              NULL|               NULL|                 Gender|               Male|POINT (-86.631860...|         1|    AST|    AST4_1|           NMBR|\n",
      "|     2015|   2015|          ID|               Idaho|      NVSS|Asthma|Asthma mortality ...|         NULL|       Number|       21|        21.0|              NULL|               NULL|                Overall|            Overall|POINT (-114.36373...|        16|    AST|    AST4_1|           NMBR|\n",
      "|     2016|   2016|          ID|               Idaho|      NVSS|Asthma|Asthma mortality ...|         NULL|       Number|       21|        21.0|              NULL|               NULL|                Overall|            Overall|POINT (-114.36373...|        16|    AST|    AST4_1|           NMBR|\n",
      "|     2020|   2020|          IL|            Illinois|      NVSS|Asthma|Asthma mortality ...|       Number|       Number|       89|        89.0|              NULL|               NULL|                 Gender|               Male|POINT (-88.997710...|        17|    AST|    AST4_1|           NMBR|\n",
      "|     2012|   2012|          KS|              Kansas|      NVSS|Asthma|Asthma mortality ...|         NULL|       Number|       24|        24.0|              NULL|               NULL|         Race/Ethnicity|White, non-Hispanic|POINT (-98.200781...|        20|    AST|    AST4_1|           NMBR|\n",
      "|     2015|   2015|          KS|              Kansas|      NVSS|Asthma|Asthma mortality ...|         NULL|       Number|       29|        29.0|              NULL|               NULL|                Overall|            Overall|POINT (-98.200781...|        20|    AST|    AST4_1|           NMBR|\n",
      "|     2018|   2018|          KS|              Kansas|      NVSS|Asthma|Asthma mortality ...|       Number|       Number|       29|        29.0|              NULL|               NULL|                Overall|            Overall|POINT (-98.200781...|        20|    AST|    AST4_1|           NMBR|\n",
      "|     2017|   2017|          LA|           Louisiana|      NVSS|Asthma|Asthma mortality ...|         NULL|       Number|       21|        21.0|              NULL|               NULL|                 Gender|               Male|POINT (-92.445680...|        22|    AST|    AST4_1|           NMBR|\n",
      "|     2017|   2017|          MA|       Massachusetts|      NVSS|Asthma|Asthma mortality ...|         NULL|       Number|       28|        28.0|              NULL|               NULL|                 Gender|               Male|POINT (-72.082690...|        25|    AST|    AST4_1|           NMBR|\n",
      "+---------+-------+------------+--------------------+----------+------+--------------------+-------------+-------------+---------+------------+------------------+-------------------+-----------------------+-------------------+--------------------+----------+-------+----------+---------------+\n",
      "only showing top 20 rows\n",
      "\n"
     ]
    }
   ],
   "source": [
    "cols_to_drop = [\"Response\",\n",
    "    \"ResponseID\",\n",
    "    \"DataValueFootnoteSymbol\",\n",
    "    \"DatavalueFootnote\",\n",
    "\n",
    "    \"StratificationCategory2\",\n",
    "    \"Stratification2\",\n",
    "    \"StratificationCategory3\",\n",
    "    \"Stratification3\",\n",
    "\n",
    "    \"StratificationCategoryID1\",\n",
    "    \"StratificationID1\",\n",
    "    \"StratificationCategoryID2\",\n",
    "    \"StratificationID2\",\n",
    "    \"StratificationCategoryID3\",\n",
    "    \"StratificationID3\"]\n",
    "test_spark_df_00_10 = test_spark_df_00_10.drop(*cols_to_drop)\n",
    "test_spark_df_00_10.show()"
   ]
  },
  {
   "cell_type": "code",
   "execution_count": 173,
   "id": "14dbf9fb",
   "metadata": {},
   "outputs": [
    {
     "data": {
      "text/plain": [
       "[('YearStart', 'int'),\n",
       " ('YearEnd', 'int'),\n",
       " ('LocationAbbr', 'string'),\n",
       " ('LocationDesc', 'string'),\n",
       " ('DataSource', 'string'),\n",
       " ('Topic', 'string'),\n",
       " ('Question', 'string'),\n",
       " ('DataValueUnit', 'string'),\n",
       " ('DataValueType', 'string'),\n",
       " ('DataValue', 'string'),\n",
       " ('DataValueAlt', 'double'),\n",
       " ('LowConfidenceLimit', 'double'),\n",
       " ('HighConfidenceLimit', 'double'),\n",
       " ('StratificationCategory1', 'string'),\n",
       " ('Stratification1', 'string'),\n",
       " ('GeoLocation', 'string'),\n",
       " ('LocationID', 'int'),\n",
       " ('TopicID', 'string'),\n",
       " ('QuestionID', 'string'),\n",
       " ('DataValueTypeID', 'string')]"
      ]
     },
     "execution_count": 173,
     "metadata": {},
     "output_type": "execute_result"
    }
   ],
   "source": [
    "test_spark_df_00_10.dtypes"
   ]
  },
  {
   "cell_type": "code",
   "execution_count": 174,
   "id": "93bf3843",
   "metadata": {},
   "outputs": [
    {
     "data": {
      "text/plain": [
       "1185676"
      ]
     },
     "execution_count": 174,
     "metadata": {},
     "output_type": "execute_result"
    }
   ],
   "source": [
    "test_spark_df_00_10.count()"
   ]
  },
  {
   "cell_type": "code",
   "execution_count": 175,
   "id": "b9da3972",
   "metadata": {},
   "outputs": [
    {
     "data": {
      "text/plain": [
       "[Row(YearStart=2020, YearEnd=2020, LocationAbbr='WY', LocationDesc='Wyoming', DataSource='BRFSS', Topic='Diabetes', Question='Dilated eye examination among adults aged >= 18 years with diagnosed diabetes', DataValueUnit='%', DataValueType='Age-adjusted Prevalence', DataValue=None, DataValueAlt=None, LowConfidenceLimit=None, HighConfidenceLimit=None, StratificationCategory1='Race/Ethnicity', Stratification1='White, non-Hispanic', GeoLocation='POINT (-108.10983035299967 43.23554134300048)', LocationID=56, TopicID='DIA', QuestionID='DIA7_0', DataValueTypeID='AGEADJPREV'),\n",
       " Row(YearStart=2020, YearEnd=2020, LocationAbbr='WY', LocationDesc='Wyoming', DataSource='BRFSS', Topic='Older Adults', Question='Proportion of older adults aged >= 65 years who are up to date on a core set of clinical preventive services', DataValueUnit='%', DataValueType='Crude Prevalence', DataValue='41.5', DataValueAlt=41.5, LowConfidenceLimit=38.5, HighConfidenceLimit=44.6, StratificationCategory1='Race/Ethnicity', Stratification1='White, non-Hispanic', GeoLocation='POINT (-108.10983035299967 43.23554134300048)', LocationID=56, TopicID='OLD', QuestionID='OLD3_1', DataValueTypeID='CRDPREV'),\n",
       " Row(YearStart=2017, YearEnd=2017, LocationAbbr='IA', LocationDesc='Iowa', DataSource='BRFSS', Topic='Arthritis', Question='Activity limitation due to arthritis among adults aged >= 18 years who have doctor-diagnosed arthritis', DataValueUnit='%', DataValueType='Age-adjusted Prevalence', DataValue=None, DataValueAlt=None, LowConfidenceLimit=None, HighConfidenceLimit=None, StratificationCategory1='Race/Ethnicity', Stratification1='Hispanic', GeoLocation='POINT (-93.81649055599968 42.46940091300047)', LocationID=19, TopicID='ART', QuestionID='ART2_1', DataValueTypeID='AGEADJPREV'),\n",
       " Row(YearStart=2020, YearEnd=2020, LocationAbbr='WY', LocationDesc='Wyoming', DataSource='BRFSS', Topic='Diabetes', Question='Diabetes prevalence among women aged 18-44 years', DataValueUnit='%', DataValueType='Crude Prevalence', DataValue=None, DataValueAlt=None, LowConfidenceLimit=None, HighConfidenceLimit=None, StratificationCategory1='Race/Ethnicity', Stratification1='Hispanic', GeoLocation='POINT (-108.10983035299967 43.23554134300048)', LocationID=56, TopicID='DIA', QuestionID='DIA2_2', DataValueTypeID='CRDPREV'),\n",
       " Row(YearStart=2019, YearEnd=2019, LocationAbbr='RI', LocationDesc='Rhode Island', DataSource='BRFSS', Topic='Arthritis', Question='Activity limitation due to arthritis among adults aged >= 18 years who have doctor-diagnosed arthritis', DataValueUnit='%', DataValueType='Crude Prevalence', DataValue='39.5', DataValueAlt=39.5, LowConfidenceLimit=36.6, HighConfidenceLimit=42.3, StratificationCategory1='Overall', Stratification1='Overall', GeoLocation='POINT (-71.52247031399963 41.70828019300046)', LocationID=44, TopicID='ART', QuestionID='ART2_1', DataValueTypeID='CRDPREV')]"
      ]
     },
     "execution_count": 175,
     "metadata": {},
     "output_type": "execute_result"
    }
   ],
   "source": [
    "test_spark_df_00_10.tail(5)"
   ]
  },
  {
   "cell_type": "code",
   "execution_count": 176,
   "id": "0d6dc15b",
   "metadata": {},
   "outputs": [
    {
     "data": {
      "text/plain": [
       "[Row(YearStart=2014, YearEnd=2014, LocationAbbr='AR', LocationDesc='Arkansas', DataSource='SEDD; SID', Topic='Asthma', Question='Hospitalizations for asthma', DataValueUnit=None, DataValueType='Number', DataValue='916', DataValueAlt=916.0, LowConfidenceLimit=None, HighConfidenceLimit=None, StratificationCategory1='Gender', Stratification1='Male', GeoLocation='POINT (-92.27449074299966 34.74865012400045)', LocationID=5, TopicID='AST', QuestionID='AST3_1', DataValueTypeID='NMBR'),\n",
       " Row(YearStart=2018, YearEnd=2018, LocationAbbr='CO', LocationDesc='Colorado', DataSource='SEDD; SID', Topic='Asthma', Question='Hospitalizations for asthma', DataValueUnit=None, DataValueType='Number', DataValue='2227', DataValueAlt=2227.0, LowConfidenceLimit=None, HighConfidenceLimit=None, StratificationCategory1='Overall', Stratification1='Overall', GeoLocation='POINT (-106.13361092099967 38.843840757000464)', LocationID=8, TopicID='AST', QuestionID='AST3_1', DataValueTypeID='NMBR'),\n",
       " Row(YearStart=2018, YearEnd=2018, LocationAbbr='DC', LocationDesc='District of Columbia', DataSource='SEDD; SID', Topic='Asthma', Question='Hospitalizations for asthma', DataValueUnit=None, DataValueType='Number', DataValue='708', DataValueAlt=708.0, LowConfidenceLimit=None, HighConfidenceLimit=None, StratificationCategory1='Overall', Stratification1='Overall', GeoLocation='POINT (-77.036871 38.907192)', LocationID=11, TopicID='AST', QuestionID='AST3_1', DataValueTypeID='NMBR'),\n",
       " Row(YearStart=2017, YearEnd=2017, LocationAbbr='GA', LocationDesc='Georgia', DataSource='SEDD; SID', Topic='Asthma', Question='Hospitalizations for asthma', DataValueUnit=None, DataValueType='Number', DataValue='3520', DataValueAlt=3520.0, LowConfidenceLimit=None, HighConfidenceLimit=None, StratificationCategory1='Gender', Stratification1='Female', GeoLocation='POINT (-83.62758034599966 32.83968109300048)', LocationID=13, TopicID='AST', QuestionID='AST3_1', DataValueTypeID='NMBR'),\n",
       " Row(YearStart=2010, YearEnd=2010, LocationAbbr='MI', LocationDesc='Michigan', DataSource='SEDD; SID', Topic='Asthma', Question='Hospitalizations for asthma', DataValueUnit=None, DataValueType='Number', DataValue='123', DataValueAlt=123.0, LowConfidenceLimit=None, HighConfidenceLimit=None, StratificationCategory1='Race/Ethnicity', Stratification1='Hispanic', GeoLocation='POINT (-84.71439026999968 44.6613195430005)', LocationID=26, TopicID='AST', QuestionID='AST3_1', DataValueTypeID='NMBR')]"
      ]
     },
     "execution_count": 176,
     "metadata": {},
     "output_type": "execute_result"
    }
   ],
   "source": [
    "test_spark_df_00_10.head(5)"
   ]
  },
  {
   "cell_type": "code",
   "execution_count": 177,
   "id": "1584e418",
   "metadata": {},
   "outputs": [
    {
     "name": "stdout",
     "output_type": "stream",
     "text": [
      "+---------+-------+------------+--------------------+----------+------+--------------------+-------------+-------------+---------+------------+------------------+-------------------+-----------------------+---------------+--------------------+----------+-------+----------+---------------+\n",
      "|YearStart|YearEnd|LocationAbbr|        LocationDesc|DataSource| Topic|            Question|DataValueUnit|DataValueType|DataValue|DataValueAlt|LowConfidenceLimit|HighConfidenceLimit|StratificationCategory1|Stratification1|         GeoLocation|LocationID|TopicID|QuestionID|DataValueTypeID|\n",
      "+---------+-------+------------+--------------------+----------+------+--------------------+-------------+-------------+---------+------------+------------------+-------------------+-----------------------+---------------+--------------------+----------+-------+----------+---------------+\n",
      "|     2014|   2014|          AR|            Arkansas| SEDD; SID|Asthma|Hospitalizations ...|         NULL|       Number|      916|       916.0|              NULL|               NULL|                 Gender|           Male|POINT (-92.274490...|         5|    AST|    AST3_1|           NMBR|\n",
      "|     2018|   2018|          CO|            Colorado| SEDD; SID|Asthma|Hospitalizations ...|         NULL|       Number|     2227|      2227.0|              NULL|               NULL|                Overall|        Overall|POINT (-106.13361...|         8|    AST|    AST3_1|           NMBR|\n",
      "|     2018|   2018|          DC|District of Columbia| SEDD; SID|Asthma|Hospitalizations ...|         NULL|       Number|      708|       708.0|              NULL|               NULL|                Overall|        Overall|POINT (-77.036871...|        11|    AST|    AST3_1|           NMBR|\n",
      "|     2017|   2017|          GA|             Georgia| SEDD; SID|Asthma|Hospitalizations ...|         NULL|       Number|     3520|      3520.0|              NULL|               NULL|                 Gender|         Female|POINT (-83.627580...|        13|    AST|    AST3_1|           NMBR|\n",
      "|     2010|   2010|          MI|            Michigan| SEDD; SID|Asthma|Hospitalizations ...|         NULL|       Number|      123|       123.0|              NULL|               NULL|         Race/Ethnicity|       Hispanic|POINT (-84.714390...|        26|    AST|    AST3_1|           NMBR|\n",
      "+---------+-------+------------+--------------------+----------+------+--------------------+-------------+-------------+---------+------------+------------------+-------------------+-----------------------+---------------+--------------------+----------+-------+----------+---------------+\n",
      "only showing top 5 rows\n",
      "\n"
     ]
    }
   ],
   "source": [
    "test_spark_df_00_10.show(5)"
   ]
  },
  {
   "cell_type": "code",
   "execution_count": 178,
   "id": "e667e834",
   "metadata": {},
   "outputs": [],
   "source": [
    "# test_spark_df_00_10.select(f.regexp_extract_all(f.col(\"GeoLocation\"), r\"(-*\\d+.\\d+)\", 2).alias(\"lat_long\")).collect()"
   ]
  },
  {
   "cell_type": "code",
   "execution_count": 179,
   "id": "622cef4f",
   "metadata": {},
   "outputs": [
    {
     "name": "stdout",
     "output_type": "stream",
     "text": [
      "+---------+-------+------------+--------------------+----------+------+--------------------+-------------+-------------+---------+------------+------------------+-------------------+-----------------------+-------------------+--------------------+----------+-------+----------+---------------+\n",
      "|YearStart|YearEnd|LocationAbbr|        LocationDesc|DataSource| Topic|            Question|DataValueUnit|DataValueType|DataValue|DataValueAlt|LowConfidenceLimit|HighConfidenceLimit|StratificationCategory1|    Stratification1|         GeoLocation|LocationID|TopicID|QuestionID|DataValueTypeID|\n",
      "+---------+-------+------------+--------------------+----------+------+--------------------+-------------+-------------+---------+------------+------------------+-------------------+-----------------------+-------------------+--------------------+----------+-------+----------+---------------+\n",
      "|     2014|   2014|          AR|            Arkansas| SEDD; SID|Asthma|Hospitalizations ...|         NULL|       Number|      916|       916.0|              NULL|               NULL|                 Gender|               Male|[-92.274490742999...|         5|    AST|    AST3_1|           NMBR|\n",
      "|     2018|   2018|          CO|            Colorado| SEDD; SID|Asthma|Hospitalizations ...|         NULL|       Number|     2227|      2227.0|              NULL|               NULL|                Overall|            Overall|[-106.13361092099...|         8|    AST|    AST3_1|           NMBR|\n",
      "|     2018|   2018|          DC|District of Columbia| SEDD; SID|Asthma|Hospitalizations ...|         NULL|       Number|      708|       708.0|              NULL|               NULL|                Overall|            Overall|[-77.036871, 38.9...|        11|    AST|    AST3_1|           NMBR|\n",
      "|     2017|   2017|          GA|             Georgia| SEDD; SID|Asthma|Hospitalizations ...|         NULL|       Number|     3520|      3520.0|              NULL|               NULL|                 Gender|             Female|[-83.627580345999...|        13|    AST|    AST3_1|           NMBR|\n",
      "|     2010|   2010|          MI|            Michigan| SEDD; SID|Asthma|Hospitalizations ...|         NULL|       Number|      123|       123.0|              NULL|               NULL|         Race/Ethnicity|           Hispanic|[-84.714390269999...|        26|    AST|    AST3_1|           NMBR|\n",
      "|     2015|   2015|          MT|             Montana| SEDD; SID|Asthma|Hospitalizations ...|         NULL|       Number|     NULL|        NULL|              NULL|               NULL|         Race/Ethnicity|           Hispanic|[-109.42442064499...|        30|    AST|    AST3_1|           NMBR|\n",
      "|     2013|   2013|          OR|              Oregon| SEDD; SID|Asthma|Hospitalizations ...|         NULL|       Number|      760|       760.0|              NULL|               NULL|                 Gender|               Male|[-120.15503132599...|        41|    AST|    AST3_1|           NMBR|\n",
      "|     2013|   2013|          PR|         Puerto Rico| SEDD; SID|Asthma|Hospitalizations ...|         NULL|       Number|     NULL|        NULL|              NULL|               NULL|                Overall|            Overall|[-66.590149, 18.2...|        72|    AST|    AST3_1|           NMBR|\n",
      "|     2017|   2017|          PR|         Puerto Rico| SEDD; SID|Asthma|Hospitalizations ...|         NULL|       Number|     NULL|        NULL|              NULL|               NULL|                Overall|            Overall|[-66.590149, 18.2...|        72|    AST|    AST3_1|           NMBR|\n",
      "|     2010|   2010|          WI|           Wisconsin| SEDD; SID|Asthma|Hospitalizations ...|         NULL|       Number|     1967|      1967.0|              NULL|               NULL|                 Gender|               Male|[-89.816370741999...|        55|    AST|    AST3_1|           NMBR|\n",
      "|     2016|   2016|          WI|           Wisconsin| SEDD; SID|Asthma|Hospitalizations ...|         NULL|       Number|      110|       110.0|              NULL|               NULL|         Race/Ethnicity|           Hispanic|[-89.816370741999...|        55|    AST|    AST3_1|           NMBR|\n",
      "|     2014|   2014|          AL|             Alabama|      NVSS|Asthma|Asthma mortality ...|         NULL|       Number|       22|        22.0|              NULL|               NULL|                 Gender|               Male|[-86.631860761999...|         1|    AST|    AST4_1|           NMBR|\n",
      "|     2015|   2015|          ID|               Idaho|      NVSS|Asthma|Asthma mortality ...|         NULL|       Number|       21|        21.0|              NULL|               NULL|                Overall|            Overall|[-114.36373004199...|        16|    AST|    AST4_1|           NMBR|\n",
      "|     2016|   2016|          ID|               Idaho|      NVSS|Asthma|Asthma mortality ...|         NULL|       Number|       21|        21.0|              NULL|               NULL|                Overall|            Overall|[-114.36373004199...|        16|    AST|    AST4_1|           NMBR|\n",
      "|     2020|   2020|          IL|            Illinois|      NVSS|Asthma|Asthma mortality ...|       Number|       Number|       89|        89.0|              NULL|               NULL|                 Gender|               Male|[-88.997710177999...|        17|    AST|    AST4_1|           NMBR|\n",
      "|     2012|   2012|          KS|              Kansas|      NVSS|Asthma|Asthma mortality ...|         NULL|       Number|       24|        24.0|              NULL|               NULL|         Race/Ethnicity|White, non-Hispanic|[-98.200781226999...|        20|    AST|    AST4_1|           NMBR|\n",
      "|     2015|   2015|          KS|              Kansas|      NVSS|Asthma|Asthma mortality ...|         NULL|       Number|       29|        29.0|              NULL|               NULL|                Overall|            Overall|[-98.200781226999...|        20|    AST|    AST4_1|           NMBR|\n",
      "|     2018|   2018|          KS|              Kansas|      NVSS|Asthma|Asthma mortality ...|       Number|       Number|       29|        29.0|              NULL|               NULL|                Overall|            Overall|[-98.200781226999...|        20|    AST|    AST4_1|           NMBR|\n",
      "|     2017|   2017|          LA|           Louisiana|      NVSS|Asthma|Asthma mortality ...|         NULL|       Number|       21|        21.0|              NULL|               NULL|                 Gender|               Male|[-92.445680070999...|        22|    AST|    AST4_1|           NMBR|\n",
      "|     2017|   2017|          MA|       Massachusetts|      NVSS|Asthma|Asthma mortality ...|         NULL|       Number|       28|        28.0|              NULL|               NULL|                 Gender|               Male|[-72.082690674999...|        25|    AST|    AST4_1|           NMBR|\n",
      "+---------+-------+------------+--------------------+----------+------+--------------------+-------------+-------------+---------+------------+------------------+-------------------+-----------------------+-------------------+--------------------+----------+-------+----------+---------------+\n",
      "only showing top 20 rows\n",
      "\n"
     ]
    }
   ],
   "source": [
    "test_spark_df_00_10 = test_spark_df_00_10.withColumn(\"GeoLocation\", f.regexp_extract_all(f.col(\"GeoLocation\"), f.lit(\"(-*\\\\d+.\\\\d+)\"), 1))\n",
    "test_spark_df_00_10.show()"
   ]
  },
  {
   "cell_type": "code",
   "execution_count": 180,
   "id": "4b397641",
   "metadata": {},
   "outputs": [],
   "source": [
    "test_spark_df_00_10 = test_spark_df_00_10.withColumn(\"Latitude\", test_spark_df_00_10.GeoLocation[0].cast(DoubleType()))\n",
    "test_spark_df_00_10 = test_spark_df_00_10.withColumn(\"Longitude\", test_spark_df_00_10.GeoLocation[1].cast(DoubleType()))"
   ]
  },
  {
   "cell_type": "code",
   "execution_count": 181,
   "id": "eab404a0",
   "metadata": {},
   "outputs": [
    {
     "name": "stdout",
     "output_type": "stream",
     "text": [
      "+---------+-------+------------+--------------------+----------+------+--------------------+-------------+-------------+---------+------------+------------------+-------------------+-----------------------+---------------+--------------------+----------+-------+----------+---------------+-------------------+------------------+\n",
      "|YearStart|YearEnd|LocationAbbr|        LocationDesc|DataSource| Topic|            Question|DataValueUnit|DataValueType|DataValue|DataValueAlt|LowConfidenceLimit|HighConfidenceLimit|StratificationCategory1|Stratification1|         GeoLocation|LocationID|TopicID|QuestionID|DataValueTypeID|           Latitude|         Longitude|\n",
      "+---------+-------+------------+--------------------+----------+------+--------------------+-------------+-------------+---------+------------+------------------+-------------------+-----------------------+---------------+--------------------+----------+-------+----------+---------------+-------------------+------------------+\n",
      "|     2014|   2014|          AR|            Arkansas| SEDD; SID|Asthma|Hospitalizations ...|         NULL|       Number|      916|       916.0|              NULL|               NULL|                 Gender|           Male|[-92.274490742999...|         5|    AST|    AST3_1|           NMBR| -92.27449074299966| 34.74865012400045|\n",
      "|     2018|   2018|          CO|            Colorado| SEDD; SID|Asthma|Hospitalizations ...|         NULL|       Number|     2227|      2227.0|              NULL|               NULL|                Overall|        Overall|[-106.13361092099...|         8|    AST|    AST3_1|           NMBR|-106.13361092099967|38.843840757000464|\n",
      "|     2018|   2018|          DC|District of Columbia| SEDD; SID|Asthma|Hospitalizations ...|         NULL|       Number|      708|       708.0|              NULL|               NULL|                Overall|        Overall|[-77.036871, 38.9...|        11|    AST|    AST3_1|           NMBR|         -77.036871|         38.907192|\n",
      "|     2017|   2017|          GA|             Georgia| SEDD; SID|Asthma|Hospitalizations ...|         NULL|       Number|     3520|      3520.0|              NULL|               NULL|                 Gender|         Female|[-83.627580345999...|        13|    AST|    AST3_1|           NMBR| -83.62758034599966| 32.83968109300048|\n",
      "|     2010|   2010|          MI|            Michigan| SEDD; SID|Asthma|Hospitalizations ...|         NULL|       Number|      123|       123.0|              NULL|               NULL|         Race/Ethnicity|       Hispanic|[-84.714390269999...|        26|    AST|    AST3_1|           NMBR| -84.71439026999968|  44.6613195430005|\n",
      "+---------+-------+------------+--------------------+----------+------+--------------------+-------------+-------------+---------+------------+------------------+-------------------+-----------------------+---------------+--------------------+----------+-------+----------+---------------+-------------------+------------------+\n",
      "only showing top 5 rows\n",
      "\n"
     ]
    }
   ],
   "source": [
    "test_spark_df_00_10.show(5)"
   ]
  },
  {
   "cell_type": "markdown",
   "id": "cec9dd66",
   "metadata": {},
   "source": [
    "# Delete GeoLocation column"
   ]
  },
  {
   "cell_type": "code",
   "execution_count": 182,
   "id": "a90572cb",
   "metadata": {},
   "outputs": [
    {
     "name": "stdout",
     "output_type": "stream",
     "text": [
      "+---------+-------+------------+--------------------+----------+------+--------------------+-------------+-------------+---------+------------+------------------+-------------------+-----------------------+-------------------+----------+-------+----------+---------------+-------------------+------------------+\n",
      "|YearStart|YearEnd|LocationAbbr|        LocationDesc|DataSource| Topic|            Question|DataValueUnit|DataValueType|DataValue|DataValueAlt|LowConfidenceLimit|HighConfidenceLimit|StratificationCategory1|    Stratification1|LocationID|TopicID|QuestionID|DataValueTypeID|           Latitude|         Longitude|\n",
      "+---------+-------+------------+--------------------+----------+------+--------------------+-------------+-------------+---------+------------+------------------+-------------------+-----------------------+-------------------+----------+-------+----------+---------------+-------------------+------------------+\n",
      "|     2014|   2014|          AR|            Arkansas| SEDD; SID|Asthma|Hospitalizations ...|         NULL|       Number|      916|       916.0|              NULL|               NULL|                 Gender|               Male|         5|    AST|    AST3_1|           NMBR| -92.27449074299966| 34.74865012400045|\n",
      "|     2018|   2018|          CO|            Colorado| SEDD; SID|Asthma|Hospitalizations ...|         NULL|       Number|     2227|      2227.0|              NULL|               NULL|                Overall|            Overall|         8|    AST|    AST3_1|           NMBR|-106.13361092099967|38.843840757000464|\n",
      "|     2018|   2018|          DC|District of Columbia| SEDD; SID|Asthma|Hospitalizations ...|         NULL|       Number|      708|       708.0|              NULL|               NULL|                Overall|            Overall|        11|    AST|    AST3_1|           NMBR|         -77.036871|         38.907192|\n",
      "|     2017|   2017|          GA|             Georgia| SEDD; SID|Asthma|Hospitalizations ...|         NULL|       Number|     3520|      3520.0|              NULL|               NULL|                 Gender|             Female|        13|    AST|    AST3_1|           NMBR| -83.62758034599966| 32.83968109300048|\n",
      "|     2010|   2010|          MI|            Michigan| SEDD; SID|Asthma|Hospitalizations ...|         NULL|       Number|      123|       123.0|              NULL|               NULL|         Race/Ethnicity|           Hispanic|        26|    AST|    AST3_1|           NMBR| -84.71439026999968|  44.6613195430005|\n",
      "|     2015|   2015|          MT|             Montana| SEDD; SID|Asthma|Hospitalizations ...|         NULL|       Number|     NULL|        NULL|              NULL|               NULL|         Race/Ethnicity|           Hispanic|        30|    AST|    AST3_1|           NMBR|-109.42442064499971| 47.06652897200047|\n",
      "|     2013|   2013|          OR|              Oregon| SEDD; SID|Asthma|Hospitalizations ...|         NULL|       Number|      760|       760.0|              NULL|               NULL|                 Gender|               Male|        41|    AST|    AST3_1|           NMBR|-120.15503132599969| 44.56744942400047|\n",
      "|     2013|   2013|          PR|         Puerto Rico| SEDD; SID|Asthma|Hospitalizations ...|         NULL|       Number|     NULL|        NULL|              NULL|               NULL|                Overall|            Overall|        72|    AST|    AST3_1|           NMBR|         -66.590149|         18.220833|\n",
      "|     2017|   2017|          PR|         Puerto Rico| SEDD; SID|Asthma|Hospitalizations ...|         NULL|       Number|     NULL|        NULL|              NULL|               NULL|                Overall|            Overall|        72|    AST|    AST3_1|           NMBR|         -66.590149|         18.220833|\n",
      "|     2010|   2010|          WI|           Wisconsin| SEDD; SID|Asthma|Hospitalizations ...|         NULL|       Number|     1967|      1967.0|              NULL|               NULL|                 Gender|               Male|        55|    AST|    AST3_1|           NMBR| -89.81637074199966| 44.39319117400049|\n",
      "|     2016|   2016|          WI|           Wisconsin| SEDD; SID|Asthma|Hospitalizations ...|         NULL|       Number|      110|       110.0|              NULL|               NULL|         Race/Ethnicity|           Hispanic|        55|    AST|    AST3_1|           NMBR| -89.81637074199966| 44.39319117400049|\n",
      "|     2014|   2014|          AL|             Alabama|      NVSS|Asthma|Asthma mortality ...|         NULL|       Number|       22|        22.0|              NULL|               NULL|                 Gender|               Male|         1|    AST|    AST4_1|           NMBR| -86.63186076199969| 32.84057112200048|\n",
      "|     2015|   2015|          ID|               Idaho|      NVSS|Asthma|Asthma mortality ...|         NULL|       Number|       21|        21.0|              NULL|               NULL|                Overall|            Overall|        16|    AST|    AST4_1|           NMBR| -114.3637300419997|43.682630005000476|\n",
      "|     2016|   2016|          ID|               Idaho|      NVSS|Asthma|Asthma mortality ...|         NULL|       Number|       21|        21.0|              NULL|               NULL|                Overall|            Overall|        16|    AST|    AST4_1|           NMBR| -114.3637300419997|43.682630005000476|\n",
      "|     2020|   2020|          IL|            Illinois|      NVSS|Asthma|Asthma mortality ...|       Number|       Number|       89|        89.0|              NULL|               NULL|                 Gender|               Male|        17|    AST|    AST4_1|           NMBR| -88.99771017799969| 40.48501028300046|\n",
      "|     2012|   2012|          KS|              Kansas|      NVSS|Asthma|Asthma mortality ...|         NULL|       Number|       24|        24.0|              NULL|               NULL|         Race/Ethnicity|White, non-Hispanic|        20|    AST|    AST4_1|           NMBR| -98.20078122699965| 38.34774030000045|\n",
      "|     2015|   2015|          KS|              Kansas|      NVSS|Asthma|Asthma mortality ...|         NULL|       Number|       29|        29.0|              NULL|               NULL|                Overall|            Overall|        20|    AST|    AST4_1|           NMBR| -98.20078122699965| 38.34774030000045|\n",
      "|     2018|   2018|          KS|              Kansas|      NVSS|Asthma|Asthma mortality ...|       Number|       Number|       29|        29.0|              NULL|               NULL|                Overall|            Overall|        20|    AST|    AST4_1|           NMBR| -98.20078122699965| 38.34774030000045|\n",
      "|     2017|   2017|          LA|           Louisiana|      NVSS|Asthma|Asthma mortality ...|         NULL|       Number|       21|        21.0|              NULL|               NULL|                 Gender|               Male|        22|    AST|    AST4_1|           NMBR| -92.44568007099969| 31.31266064400046|\n",
      "|     2017|   2017|          MA|       Massachusetts|      NVSS|Asthma|Asthma mortality ...|         NULL|       Number|       28|        28.0|              NULL|               NULL|                 Gender|               Male|        25|    AST|    AST4_1|           NMBR| -72.08269067499964| 42.27687047000046|\n",
      "+---------+-------+------------+--------------------+----------+------+--------------------+-------------+-------------+---------+------------+------------------+-------------------+-----------------------+-------------------+----------+-------+----------+---------------+-------------------+------------------+\n",
      "only showing top 20 rows\n",
      "\n"
     ]
    }
   ],
   "source": [
    "test_spark_df_00_10 = test_spark_df_00_10.drop(\"GeoLocation\")\n",
    "test_spark_df_00_10.show()"
   ]
  },
  {
   "cell_type": "code",
   "execution_count": 183,
   "id": "04f3771c",
   "metadata": {},
   "outputs": [
    {
     "data": {
      "text/plain": [
       "[('YearStart', 'int'),\n",
       " ('YearEnd', 'int'),\n",
       " ('LocationAbbr', 'string'),\n",
       " ('LocationDesc', 'string'),\n",
       " ('DataSource', 'string'),\n",
       " ('Topic', 'string'),\n",
       " ('Question', 'string'),\n",
       " ('DataValueUnit', 'string'),\n",
       " ('DataValueType', 'string'),\n",
       " ('DataValue', 'string'),\n",
       " ('DataValueAlt', 'double'),\n",
       " ('LowConfidenceLimit', 'double'),\n",
       " ('HighConfidenceLimit', 'double'),\n",
       " ('StratificationCategory1', 'string'),\n",
       " ('Stratification1', 'string'),\n",
       " ('LocationID', 'int'),\n",
       " ('TopicID', 'string'),\n",
       " ('QuestionID', 'string'),\n",
       " ('DataValueTypeID', 'string'),\n",
       " ('Latitude', 'double'),\n",
       " ('Longitude', 'double')]"
      ]
     },
     "execution_count": 183,
     "metadata": {},
     "output_type": "execute_result"
    }
   ],
   "source": [
    "test_spark_df_00_10.dtypes"
   ]
  },
  {
   "cell_type": "markdown",
   "id": "ba3fae6e",
   "metadata": {},
   "source": [
    "# Errors\n",
    "* Out of memory error: \n",
    "- https://stackoverflow.com/questions/73111729/pyspark-java-heap-out-of-memory-when-saving-5m-rows-dataframe\n",
    "- https://medium.com/@rakeshchanda/spark-out-of-memory-issue-memory-tuning-and-management-in-pyspark-802b757b562f\n",
    "- https://stackoverflow.com/questions/21138751/spark-java-lang-outofmemoryerror-java-heap-space\n",
    "* EOF errror: "
   ]
  },
  {
   "cell_type": "markdown",
   "id": "bbe76a93",
   "metadata": {},
   "source": []
  },
  {
   "cell_type": "markdown",
   "id": "928e25b8",
   "metadata": {},
   "source": []
  },
  {
   "cell_type": "markdown",
   "id": "b303ba1e",
   "metadata": {},
   "source": []
  },
  {
   "cell_type": "markdown",
   "id": "5eeb26dc",
   "metadata": {},
   "source": []
  },
  {
   "cell_type": "markdown",
   "id": "baf9fe65",
   "metadata": {},
   "source": []
  },
  {
   "cell_type": "markdown",
   "id": "1ae02483",
   "metadata": {},
   "source": []
  },
  {
   "cell_type": "markdown",
   "id": "fd04ba59",
   "metadata": {},
   "source": []
  }
 ],
 "metadata": {
  "kernelspec": {
   "display_name": "tech-interview",
   "language": "python",
   "name": "python3"
  },
  "language_info": {
   "codemirror_mode": {
    "name": "ipython",
    "version": 3
   },
   "file_extension": ".py",
   "mimetype": "text/x-python",
   "name": "python",
   "nbconvert_exporter": "python",
   "pygments_lexer": "ipython3",
   "version": "3.12.3"
  }
 },
 "nbformat": 4,
 "nbformat_minor": 5
}
