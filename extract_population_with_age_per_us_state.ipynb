{
 "cells": [
  {
   "cell_type": "code",
   "execution_count": 98,
   "metadata": {},
   "outputs": [
    {
     "name": "stdout",
     "output_type": "stream",
     "text": [
      "The autoreload extension is already loaded. To reload it, use:\n",
      "  %reload_ext autoreload\n"
     ]
    }
   ],
   "source": [
    "from selenium import webdriver\n",
    "\n",
    "from selenium.webdriver.chrome.service import Service as ChromeService\n",
    "from selenium.webdriver.chrome.options import Options as ChromeOptions\n",
    "from webdriver_manager.chrome import ChromeDriverManager\n",
    "\n",
    "from selenium.webdriver.common.by import By\n",
    "from selenium.webdriver.support.wait import WebDriverWait\n",
    "from selenium.common.exceptions import NoSuchElementException, StaleElementReferenceException\n",
    "from selenium.webdriver.support import expected_conditions as EC\n",
    "\n",
    "import pandas as pd\n",
    "import time\n",
    "import os\n",
    "import shutil\n",
    "\n",
    "from concurrent.futures import ThreadPoolExecutor\n",
    "from argparse import ArgumentParser\n",
    "from utilities.loaders import download_dataset\n",
    "\n",
    "import re\n",
    "\n",
    "%load_ext autoreload\n",
    "%autoreload 2"
   ]
  },
  {
   "cell_type": "code",
   "execution_count": 2,
   "metadata": {},
   "outputs": [],
   "source": [
    "# initialize driver\n",
    "chrome_options = ChromeOptions()\n",
    "\n",
    "# service = ChromeService(executable_path=\"C:/Executables/chromedriver-win64/chromedriver.exe\")\n",
    "# chrome_options.add_experimental_option('detach', True)\n",
    "service = ChromeService(executable_path=ChromeDriverManager().install())\n",
    "driver = webdriver.Chrome(service=service, options=chrome_options)"
   ]
  },
  {
   "cell_type": "code",
   "execution_count": 3,
   "metadata": {},
   "outputs": [],
   "source": [
    "populations_01_10_url = \"https://www.census.gov/data/tables/time-series/demo/popest/intercensal-2000-2010-state.html\"\n",
    "populations_10_19_url = \"https://www.census.gov/data/tables/time-series/demo/popest/2010s-state-detail.html\"\n",
    "populations_20_23_url = \"https://www.census.gov/data/tables/time-series/demo/popest/2020s-state-detail.html\""
   ]
  },
  {
   "cell_type": "code",
   "execution_count": 4,
   "metadata": {},
   "outputs": [],
   "source": [
    "keyword_01_10_url = \"Intercensal Estimates of the Resident Population by Sex and Age for States: April 1, 2000 to July 1, 2010\"\n",
    "keyword_10_19_url = \"Annual Estimates of the Resident Population by Single Year of Age and Sex: April 1, 2010 to July 1, 2019\"\n",
    "keyword_20_23_url = \"Annual Estimates of the Resident Population by Single Year of Age and Sex: April 1, 2020 to July 1, 2023 (SC-EST2023-SYASEX)\""
   ]
  },
  {
   "cell_type": "code",
   "execution_count": 5,
   "metadata": {},
   "outputs": [],
   "source": [
    "# go to page\n",
    "driver.get(populations_01_10_url)\n",
    "\n",
    "# sleep\n",
    "time.sleep(5)"
   ]
  },
  {
   "cell_type": "markdown",
   "metadata": {},
   "source": [
    "#### select only the sections ith certain keywords"
   ]
  },
  {
   "cell_type": "code",
   "execution_count": 6,
   "metadata": {},
   "outputs": [],
   "source": [
    "section_index = -1"
   ]
  },
  {
   "cell_type": "code",
   "execution_count": 7,
   "metadata": {},
   "outputs": [],
   "source": [
    "sections = driver.find_elements(By.CSS_SELECTOR, value=\"#data-uscb-state-list-selector\")"
   ]
  },
  {
   "cell_type": "code",
   "execution_count": 8,
   "metadata": {},
   "outputs": [],
   "source": [
    "for i, section in enumerate(sections):\n",
    "    for header in section.find_elements(by=By.CSS_SELECTOR, value=\"p\"):\n",
    "        if keyword_01_10_url in header.text:\n",
    "            section_index = i"
   ]
  },
  {
   "cell_type": "code",
   "execution_count": 9,
   "metadata": {},
   "outputs": [
    {
     "data": {
      "text/plain": [
       "'Sex and Age\\nIntercensal Estimates of the Resident Population by Sex and Age for States: April 1, 2000 to July 1, 2010\\nAlabama\\nAlaska\\nArizona\\nArkansas\\nCalifornia\\nColorado\\nConnecticut\\nDelaware\\nDistrict of Columbia\\nFlorida\\nGeorgia\\nHawaii\\nIdaho\\nIllinois\\nIndiana\\nIowa\\nKansas\\nKentucky\\nLouisiana\\nMaine\\nMaryland\\nMassachusetts\\nMichigan\\nMinnesota\\nMississippi\\nMissouri\\nMontana\\nNebraska\\nNevada\\nNew Hampshire\\nNew Jersey\\nNew Mexico\\nNew York\\nNorth Carolina\\nNorth Dakota\\nOhio\\nOklahoma\\nOregon\\nPennsylvania\\nRhode Island\\nSouth Carolina\\nSouth Dakota\\nTennessee\\nTexas\\nUtah\\nVermont\\nVirginia\\nWashington\\nWest Virginia\\nWisconsin\\nWyoming'"
      ]
     },
     "execution_count": 9,
     "metadata": {},
     "output_type": "execute_result"
    }
   ],
   "source": [
    "chosen_section = sections[section_index]\n",
    "chosen_section.text"
   ]
  },
  {
   "cell_type": "code",
   "execution_count": 10,
   "metadata": {},
   "outputs": [],
   "source": [
    "states = chosen_section.find_elements(by=By.CSS_SELECTOR, value=\"ul.uscb-margin-5 li.uscb-list-attachment a\")"
   ]
  },
  {
   "cell_type": "code",
   "execution_count": 39,
   "metadata": {},
   "outputs": [
    {
     "data": {
      "text/plain": [
       "<selenium.webdriver.remote.webelement.WebElement (session=\"d00ed53b094183665d4244c62e4af6af\", element=\"f.A280F4EC4F6F4982858C7CE22991810E.d.EC483D2BB742D2C8AC801C52DC657D67.e.77\")>"
      ]
     },
     "execution_count": 39,
     "metadata": {},
     "output_type": "execute_result"
    }
   ],
   "source": [
    "states[0]"
   ]
  },
  {
   "cell_type": "code",
   "execution_count": 11,
   "metadata": {},
   "outputs": [
    {
     "data": {
      "text/plain": [
       "51"
      ]
     },
     "execution_count": 11,
     "metadata": {},
     "output_type": "execute_result"
    }
   ],
   "source": [
    "len(states)"
   ]
  },
  {
   "cell_type": "code",
   "execution_count": 103,
   "metadata": {},
   "outputs": [],
   "source": [
    "def download_files(elements: list, downloads_path=\"C:/Users/LARRY/Downloads\", output_dir=\"./data/population-data\"):\n",
    "    \n",
    "    # def helper(element):\n",
    "    #     # extract href from anchor tag\n",
    "    #     link = element.get_attribute(\"href\")\n",
    "    #     state = element.text\n",
    "\n",
    "    #     # derivve necessary information from url path to create file names\n",
    "    #     file_name = link.split('/')[-1]\n",
    "    #     file_dir = \"/\".join(link.split('/')[:-1])\n",
    "    #     years = re.search(r\"\\d+-\\d+\", file_dir)[0]\n",
    "    #     extension = re.search(r\".[A-Za-z]+$\", file_name)[0]\n",
    "    #     new_file_name = f\"{state}_{years}{extension}\"\n",
    "    #     # record = {\n",
    "    #     #     \"file_name\": file_name,\n",
    "    #     #     \"file_dir\": file_dir,\n",
    "    #     #     \"new_file_name\": new_file_name,\n",
    "    #     #     \"state\": state\n",
    "    #     # }\n",
    "\n",
    "    #     # download file by clicking element\n",
    "    #     element.click()\n",
    "    #     time.sleep(3)\n",
    "\n",
    "    #     # print(records)\n",
    "    #     return file_name, file_dir, new_file_name, state\n",
    "    \n",
    "    # with ThreadPoolExecutor(max_workers=5) as exe:\n",
    "    #     file_names, file_dirs, new_file_names, states = zip(*list(exe.map(helper, elements)))\n",
    "\n",
    "    for element in elements:\n",
    "        link = element.get_attribute(\"href\")\n",
    "        state = element.text\n",
    "\n",
    "        # derivve necessary information from url path to create file names\n",
    "        file_name = link.split('/')[-1]\n",
    "        file_dir = \"/\".join(link.split('/')[:-1])\n",
    "        years = re.search(r\"\\d+-\\d+\", file_dir)[0]\n",
    "        extension = re.search(r\".[A-Za-z]+$\", file_name)[0]\n",
    "\n",
    "        # download file by clicking element\n",
    "        element.click()\n",
    "        time.sleep(3)\n",
    "\n",
    "        # get the recently downloaded file and rename it\n",
    "        file_path = max([os.path.join(downloads_path, f) for f in os.listdir(downloads_path)], key=os.path.getctime)\n",
    "        new_file_name = f\"{state}_{years}{extension}\"\n",
    "        new_file_path = os.path.join(downloads_path, new_file_name)\n",
    "        os.rename(file_path, new_file_path)\n",
    "\n",
    "        # move downloaded file to current working directory of the script\n",
    "        relocated_path = os.path.join(output_dir, new_file_name)\n",
    "        shutil.move(new_file_path, relocated_path)"
   ]
  },
  {
   "cell_type": "code",
   "execution_count": 104,
   "metadata": {},
   "outputs": [],
   "source": [
    "downloaded_files = download_files(states)"
   ]
  },
  {
   "cell_type": "code",
   "execution_count": 105,
   "metadata": {},
   "outputs": [],
   "source": [
    "# go to page\n",
    "driver.get(populations_10_19_url)\n",
    "\n",
    "# sleep\n",
    "time.sleep(5)"
   ]
  },
  {
   "cell_type": "code",
   "execution_count": 106,
   "metadata": {},
   "outputs": [
    {
     "data": {
      "text/plain": [
       "10"
      ]
     },
     "execution_count": 106,
     "metadata": {},
     "output_type": "execute_result"
    }
   ],
   "source": [
    "sections = driver.find_elements(By.CSS_SELECTOR, value=\"div.responsivegrid.aem-GridColumn--tablet--12\")\n",
    "len(sections)"
   ]
  },
  {
   "cell_type": "code",
   "execution_count": null,
   "metadata": {},
   "outputs": [
    {
     "ename": "StaleElementReferenceException",
     "evalue": "Message: stale element reference: stale element not found\n  (Session info: chrome=134.0.6998.178); For documentation on this error, please visit: https://www.selenium.dev/documentation/webdriver/troubleshooting/errors#stale-element-reference-exception\nStacktrace:\n\tGetHandleVerifier [0x0114C7F3+24435]\n\t(No symbol) [0x010D2074]\n\t(No symbol) [0x00FA06E3]\n\t(No symbol) [0x00FB2321]\n\t(No symbol) [0x00FB1400]\n\t(No symbol) [0x00FA7B12]\n\t(No symbol) [0x00FA5F1A]\n\t(No symbol) [0x00FA935A]\n\t(No symbol) [0x00FA93D7]\n\t(No symbol) [0x00FE383E]\n\t(No symbol) [0x0100D7BC]\n\t(No symbol) [0x00FDE114]\n\t(No symbol) [0x0100DA34]\n\t(No symbol) [0x0102F20A]\n\t(No symbol) [0x0100D5B6]\n\t(No symbol) [0x00FDC54F]\n\t(No symbol) [0x00FDD894]\n\tGetHandleVerifier [0x014570A3+3213347]\n\tGetHandleVerifier [0x0146B0C9+3295305]\n\tGetHandleVerifier [0x0146558C+3271948]\n\tGetHandleVerifier [0x011E7360+658144]\n\t(No symbol) [0x010DB27D]\n\t(No symbol) [0x010D8208]\n\t(No symbol) [0x010D83A9]\n\t(No symbol) [0x010CAAC0]\n\tBaseThreadInitThunk [0x76A35D49+25]\n\tRtlInitializeExceptionChain [0x7753CE3B+107]\n\tRtlGetAppContainerNamedObjectPath [0x7753CDC1+561]\n",
     "output_type": "error",
     "traceback": [
      "\u001b[31m---------------------------------------------------------------------------\u001b[39m",
      "\u001b[31mStaleElementReferenceException\u001b[39m            Traceback (most recent call last)",
      "\u001b[36mCell\u001b[39m\u001b[36m \u001b[39m\u001b[32mIn[107]\u001b[39m\u001b[32m, line 2\u001b[39m\n\u001b[32m      1\u001b[39m \u001b[38;5;28;01mfor\u001b[39;00m i, section \u001b[38;5;129;01min\u001b[39;00m \u001b[38;5;28menumerate\u001b[39m(sections):\n\u001b[32m----> \u001b[39m\u001b[32m2\u001b[39m     \u001b[38;5;28;01mif\u001b[39;00m keyword_10_19_url \u001b[38;5;129;01min\u001b[39;00m \u001b[43mheader\u001b[49m\u001b[43m.\u001b[49m\u001b[43mtext\u001b[49m:\n\u001b[32m      3\u001b[39m         section_index = i\n",
      "\u001b[36mFile \u001b[39m\u001b[32mc:\\Users\\LARRY\\anaconda3\\envs\\tech-interview\\Lib\\site-packages\\selenium\\webdriver\\remote\\webelement.py:109\u001b[39m, in \u001b[36mWebElement.text\u001b[39m\u001b[34m(self)\u001b[39m\n\u001b[32m     96\u001b[39m \u001b[38;5;129m@property\u001b[39m\n\u001b[32m     97\u001b[39m \u001b[38;5;28;01mdef\u001b[39;00m\u001b[38;5;250m \u001b[39m\u001b[34mtext\u001b[39m(\u001b[38;5;28mself\u001b[39m) -> \u001b[38;5;28mstr\u001b[39m:\n\u001b[32m     98\u001b[39m \u001b[38;5;250m    \u001b[39m\u001b[33;03m\"\"\"The text of the element.\u001b[39;00m\n\u001b[32m     99\u001b[39m \n\u001b[32m    100\u001b[39m \u001b[33;03m    Returns:\u001b[39;00m\n\u001b[32m   (...)\u001b[39m\u001b[32m    107\u001b[39m \u001b[33;03m    >>> print(element.text)\u001b[39;00m\n\u001b[32m    108\u001b[39m \u001b[33;03m    \"\"\"\u001b[39;00m\n\u001b[32m--> \u001b[39m\u001b[32m109\u001b[39m     \u001b[38;5;28;01mreturn\u001b[39;00m \u001b[38;5;28;43mself\u001b[39;49m\u001b[43m.\u001b[49m\u001b[43m_execute\u001b[49m\u001b[43m(\u001b[49m\u001b[43mCommand\u001b[49m\u001b[43m.\u001b[49m\u001b[43mGET_ELEMENT_TEXT\u001b[49m\u001b[43m)\u001b[49m[\u001b[33m\"\u001b[39m\u001b[33mvalue\u001b[39m\u001b[33m\"\u001b[39m]\n",
      "\u001b[36mFile \u001b[39m\u001b[32mc:\\Users\\LARRY\\anaconda3\\envs\\tech-interview\\Lib\\site-packages\\selenium\\webdriver\\remote\\webelement.py:572\u001b[39m, in \u001b[36mWebElement._execute\u001b[39m\u001b[34m(self, command, params)\u001b[39m\n\u001b[32m    570\u001b[39m     params = {}\n\u001b[32m    571\u001b[39m params[\u001b[33m\"\u001b[39m\u001b[33mid\u001b[39m\u001b[33m\"\u001b[39m] = \u001b[38;5;28mself\u001b[39m._id\n\u001b[32m--> \u001b[39m\u001b[32m572\u001b[39m \u001b[38;5;28;01mreturn\u001b[39;00m \u001b[38;5;28;43mself\u001b[39;49m\u001b[43m.\u001b[49m\u001b[43m_parent\u001b[49m\u001b[43m.\u001b[49m\u001b[43mexecute\u001b[49m\u001b[43m(\u001b[49m\u001b[43mcommand\u001b[49m\u001b[43m,\u001b[49m\u001b[43m \u001b[49m\u001b[43mparams\u001b[49m\u001b[43m)\u001b[49m\n",
      "\u001b[36mFile \u001b[39m\u001b[32mc:\\Users\\LARRY\\anaconda3\\envs\\tech-interview\\Lib\\site-packages\\selenium\\webdriver\\remote\\webdriver.py:429\u001b[39m, in \u001b[36mWebDriver.execute\u001b[39m\u001b[34m(self, driver_command, params)\u001b[39m\n\u001b[32m    427\u001b[39m response = \u001b[38;5;28mself\u001b[39m.command_executor.execute(driver_command, params)\n\u001b[32m    428\u001b[39m \u001b[38;5;28;01mif\u001b[39;00m response:\n\u001b[32m--> \u001b[39m\u001b[32m429\u001b[39m     \u001b[38;5;28;43mself\u001b[39;49m\u001b[43m.\u001b[49m\u001b[43merror_handler\u001b[49m\u001b[43m.\u001b[49m\u001b[43mcheck_response\u001b[49m\u001b[43m(\u001b[49m\u001b[43mresponse\u001b[49m\u001b[43m)\u001b[49m\n\u001b[32m    430\u001b[39m     response[\u001b[33m\"\u001b[39m\u001b[33mvalue\u001b[39m\u001b[33m\"\u001b[39m] = \u001b[38;5;28mself\u001b[39m._unwrap_value(response.get(\u001b[33m\"\u001b[39m\u001b[33mvalue\u001b[39m\u001b[33m\"\u001b[39m, \u001b[38;5;28;01mNone\u001b[39;00m))\n\u001b[32m    431\u001b[39m     \u001b[38;5;28;01mreturn\u001b[39;00m response\n",
      "\u001b[36mFile \u001b[39m\u001b[32mc:\\Users\\LARRY\\anaconda3\\envs\\tech-interview\\Lib\\site-packages\\selenium\\webdriver\\remote\\errorhandler.py:232\u001b[39m, in \u001b[36mErrorHandler.check_response\u001b[39m\u001b[34m(self, response)\u001b[39m\n\u001b[32m    230\u001b[39m         alert_text = value[\u001b[33m\"\u001b[39m\u001b[33malert\u001b[39m\u001b[33m\"\u001b[39m].get(\u001b[33m\"\u001b[39m\u001b[33mtext\u001b[39m\u001b[33m\"\u001b[39m)\n\u001b[32m    231\u001b[39m     \u001b[38;5;28;01mraise\u001b[39;00m exception_class(message, screen, stacktrace, alert_text)  \u001b[38;5;66;03m# type: ignore[call-arg]  # mypy is not smart enough here\u001b[39;00m\n\u001b[32m--> \u001b[39m\u001b[32m232\u001b[39m \u001b[38;5;28;01mraise\u001b[39;00m exception_class(message, screen, stacktrace)\n",
      "\u001b[31mStaleElementReferenceException\u001b[39m: Message: stale element reference: stale element not found\n  (Session info: chrome=134.0.6998.178); For documentation on this error, please visit: https://www.selenium.dev/documentation/webdriver/troubleshooting/errors#stale-element-reference-exception\nStacktrace:\n\tGetHandleVerifier [0x0114C7F3+24435]\n\t(No symbol) [0x010D2074]\n\t(No symbol) [0x00FA06E3]\n\t(No symbol) [0x00FB2321]\n\t(No symbol) [0x00FB1400]\n\t(No symbol) [0x00FA7B12]\n\t(No symbol) [0x00FA5F1A]\n\t(No symbol) [0x00FA935A]\n\t(No symbol) [0x00FA93D7]\n\t(No symbol) [0x00FE383E]\n\t(No symbol) [0x0100D7BC]\n\t(No symbol) [0x00FDE114]\n\t(No symbol) [0x0100DA34]\n\t(No symbol) [0x0102F20A]\n\t(No symbol) [0x0100D5B6]\n\t(No symbol) [0x00FDC54F]\n\t(No symbol) [0x00FDD894]\n\tGetHandleVerifier [0x014570A3+3213347]\n\tGetHandleVerifier [0x0146B0C9+3295305]\n\tGetHandleVerifier [0x0146558C+3271948]\n\tGetHandleVerifier [0x011E7360+658144]\n\t(No symbol) [0x010DB27D]\n\t(No symbol) [0x010D8208]\n\t(No symbol) [0x010D83A9]\n\t(No symbol) [0x010CAAC0]\n\tBaseThreadInitThunk [0x76A35D49+25]\n\tRtlInitializeExceptionChain [0x7753CE3B+107]\n\tRtlGetAppContainerNamedObjectPath [0x7753CDC1+561]\n"
     ]
    }
   ],
   "source": [
    "for i, section in enumerate(sections):\n",
    "    if keyword_10_19_url in section.text:\n",
    "        section_index = i"
   ]
  },
  {
   "cell_type": "code",
   "execution_count": null,
   "metadata": {},
   "outputs": [],
   "source": []
  }
 ],
 "metadata": {
  "kernelspec": {
   "display_name": "tech-interview",
   "language": "python",
   "name": "python3"
  },
  "language_info": {
   "codemirror_mode": {
    "name": "ipython",
    "version": 3
   },
   "file_extension": ".py",
   "mimetype": "text/x-python",
   "name": "python",
   "nbconvert_exporter": "python",
   "pygments_lexer": "ipython3",
   "version": "3.12.3"
  }
 },
 "nbformat": 4,
 "nbformat_minor": 2
}
