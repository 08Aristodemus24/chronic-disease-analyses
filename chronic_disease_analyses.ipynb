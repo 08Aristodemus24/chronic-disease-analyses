{
 "cells": [
  {
   "cell_type": "code",
   "execution_count": 26,
   "id": "675aa761",
   "metadata": {},
   "outputs": [
    {
     "name": "stdout",
     "output_type": "stream",
     "text": [
      "The autoreload extension is already loaded. To reload it, use:\n",
      "  %reload_ext autoreload\n"
     ]
    }
   ],
   "source": [
    "import duckdb\n",
    "import os\n",
    "\n",
    "from dotenv import load_dotenv\n",
    "from pathlib import Path\n",
    "from duckdb.typing import *\n",
    "\n",
    "from utilities.utils import get_flat_table_rows\n",
    "\n",
    "%load_ext autoreload\n",
    "%autoreload 2"
   ]
  },
  {
   "cell_type": "markdown",
   "id": "a8d045d8",
   "metadata": {},
   "source": [
    "# Remote connection"
   ]
  },
  {
   "cell_type": "code",
   "execution_count": 27,
   "id": "ae47104e",
   "metadata": {},
   "outputs": [
    {
     "name": "stdout",
     "output_type": "stream",
     "text": [
      "loading env variables...\n",
      "env variables loaded.\n",
      "\n"
     ]
    }
   ],
   "source": [
    "# Build paths inside the project like this: BASE_DIR / 'subdir'.\n",
    "# use this only in development\n",
    "print(\"loading env variables...\")\n",
    "env_dir = Path('./').resolve()\n",
    "load_dotenv(os.path.join(env_dir, '.env'))\n",
    "print(\"env variables loaded.\\n\")"
   ]
  },
  {
   "cell_type": "code",
   "execution_count": 28,
   "id": "3cbd9dd0",
   "metadata": {},
   "outputs": [
    {
     "name": "stdout",
     "output_type": "stream",
     "text": [
      "connecting to duckdb...\n",
      "connected to duckdb.\n",
      "\n"
     ]
    }
   ],
   "source": [
    "# jdbc:duckdb:md:chronic_disease_analyses_db\n",
    "# duckdb:///md:chronic_disease_analyses_db\n",
    "print(\"connecting to duckdb...\")\n",
    "conn = duckdb.connect(f\"md:chronic_disease_analyses_db?motherduck_token={os.environ['MOTHERDUCK_TOKEN']}\")\n",
    "print(\"connected to duckdb.\\n\")"
   ]
  },
  {
   "cell_type": "code",
   "execution_count": 29,
   "id": "ff7b5a1b",
   "metadata": {},
   "outputs": [
    {
     "data": {
      "text/plain": [
       "['CDI',\n",
       " 'CDILocation',\n",
       " 'CDIStratification',\n",
       " 'CalculatedPopulation',\n",
       " 'DataValueType',\n",
       " 'Population',\n",
       " 'PopulationState',\n",
       " 'PopulationStratification',\n",
       " 'Question',\n",
       " 'Stratification',\n",
       " 'Topic']"
      ]
     },
     "execution_count": 29,
     "metadata": {},
     "output_type": "execute_result"
    }
   ],
   "source": [
    "tables = get_flat_table_rows(conn.sql(\"\"\"SHOW TABLES\"\"\").fetchall())\n",
    "tables"
   ]
  },
  {
   "cell_type": "code",
   "execution_count": 30,
   "id": "44e744fc",
   "metadata": {},
   "outputs": [
    {
     "name": "stdout",
     "output_type": "stream",
     "text": [
      "table CDI count: 678471\n",
      "table CDILocation count: 51\n",
      "table CDIStratification count: 11\n",
      "table CalculatedPopulation count: 678471\n",
      "table DataValueType count: 15\n",
      "table Population count: 2947392\n",
      "table PopulationState count: 51\n",
      "table PopulationStratification count: 28\n",
      "table Question count: 192\n",
      "table Stratification count: 39\n",
      "table Topic count: 17\n"
     ]
    }
   ],
   "source": [
    "for table in tables:\n",
    "    count = conn.sql(f\"\"\"SELECT COUNT(*) FROM {table}\"\"\").fetchall()[0][0]\n",
    "    print(f\"table {table} count: {count}\")"
   ]
  },
  {
   "cell_type": "code",
   "execution_count": 31,
   "id": "eae5fdce",
   "metadata": {},
   "outputs": [
    {
     "data": {
      "text/plain": [
       "┌────────────┬─────────┬──────────────────────────────────────────────────────────────────────────────────────────────────────────────┬──────────┬────────┐\n",
       "│ QuestionID │ TopicID │                                                   Question                                                   │ AgeStart │ AgeEnd │\n",
       "│  varchar   │ varchar │                                                   varchar                                                    │  double  │ double │\n",
       "├────────────┼─────────┼──────────────────────────────────────────────────────────────────────────────────────────────────────────────┼──────────┼────────┤\n",
       "│ ART1_1     │ ART     │ Arthritis among adults aged >= 18 years                                                                      │     18.0 │    inf │\n",
       "│ ALC4_0     │ ALC     │ Binge drinking intensity among adults aged >= 18 years who binge drink                                       │     18.0 │    inf │\n",
       "│ NPAW2_3    │ NPAW    │ Overweight or obesity among women aged 18-44 years                                                           │     18.0 │   44.0 │\n",
       "│ DIA7_0     │ DIA     │ Dilated eye examination among adults aged >= 18 years with diagnosed diabetes                                │     18.0 │    inf │\n",
       "│ ORH1_2     │ ORH     │ Dental visits among children and adolescents aged 1-17 years                                                 │      1.0 │   17.0 │\n",
       "│ OLD3_1     │ OLD     │ Proportion of older adults aged >= 65 years who are up to date on a core set of clinical preventive services │     65.0 │    inf │\n",
       "│ NPAW4_1    │ NPAW    │ Median daily frequency of fruit consumption among high school students                                       │     14.0 │   18.0 │\n",
       "│ OVC6_2     │ OVC     │ Self-rated health status among women aged 18-44 years                                                        │     18.0 │   44.0 │\n",
       "│ DIA11_3    │ DIA     │ Prevalence of depressive disorders among adults aged >= 18 years with diagnosed diabetes                     │     18.0 │    inf │\n",
       "│ OVC5_0     │ OVC     │ Premature mortality among adults aged 45-64 years                                                            │     45.0 │   64.0 │\n",
       "│   ·        │  ·      │                         ·                                                                                    │       ·  │     ·  │\n",
       "│   ·        │  ·      │                         ·                                                                                    │       ·  │     ·  │\n",
       "│   ·        │  ·      │                         ·                                                                                    │       ·  │     ·  │\n",
       "│ NPAW16_0   │ NPAW    │ Receiving formula supplementation within the first 2 days of life among breastfed infants                    │     NULL │   NULL │\n",
       "│ RPH3_0     │ RPH     │ Folic acid supplementation                                                                                   │     NULL │   NULL │\n",
       "│ NPAW13_2   │ NPAW    │ Secondary schools that allow students to purchase soda or fruit drinks                                       │     NULL │   NULL │\n",
       "│ CAN6_2     │ CAN     │ Cancer of the female cervix, mortality                                                                       │     NULL │   NULL │\n",
       "│ NPAW7_1    │ NPAW    │ Farmers markets that accept Women and Infant Children (WIC) farmers market nutrition program coupons         │     NULL │   NULL │\n",
       "│ DIA3_2     │ DIA     │ Prevalence of gestational diabetes                                                                           │     NULL │   NULL │\n",
       "│ CVD1_4     │ CVD     │ Mortality from heart failure                                                                                 │     NULL │   NULL │\n",
       "│ COPD6_1    │ COPD    │ Emergency department visit rate for chronic obstructive pulmonary disease as first-listed diagnosis          │     NULL │   NULL │\n",
       "│ ORH2_2     │ ORH     │ Preventive dental care before pregnancy                                                                      │     NULL │   NULL │\n",
       "│ CVD8_0     │ CVD     │ Pre-pregnancy hypertension                                                                                   │     NULL │   NULL │\n",
       "├────────────┴─────────┴──────────────────────────────────────────────────────────────────────────────────────────────────────────────┴──────────┴────────┤\n",
       "│ 192 rows (20 shown)                                                                                                                           5 columns │\n",
       "└─────────────────────────────────────────────────────────────────────────────────────────────────────────────────────────────────────────────────────────┘"
      ]
     },
     "execution_count": 31,
     "metadata": {},
     "output_type": "execute_result"
    }
   ],
   "source": [
    "conn.sql(\"\"\"\n",
    "    SELECT * FROM Question\n",
    "\"\"\")"
   ]
  },
  {
   "cell_type": "code",
   "execution_count": 36,
   "id": "39dccc49",
   "metadata": {},
   "outputs": [
    {
     "data": {
      "text/plain": [
       "[('CAN', 'Cancer'),\n",
       " ('MTH', 'Mental Health'),\n",
       " ('IMM', 'Immunization'),\n",
       " ('OLD', 'Older Adults'),\n",
       " ('CVD', 'Cardiovascular Disease'),\n",
       " ('DIA', 'Diabetes'),\n",
       " ('ART', 'Arthritis'),\n",
       " ('COPD', 'Chronic Obstructive Pulmonary Disease'),\n",
       " ('ALC', 'Alcohol'),\n",
       " ('RPH', 'Reproductive Health'),\n",
       " ('NPAW', 'Nutrition, Physical Activity, and Weight Status'),\n",
       " ('CKD', 'Chronic Kidney Disease'),\n",
       " ('TOB', 'Tobacco'),\n",
       " ('AST', 'Asthma'),\n",
       " ('DIS', 'Disability'),\n",
       " ('ORH', 'Oral Health'),\n",
       " ('OVC', 'Overarching Conditions')]"
      ]
     },
     "execution_count": 36,
     "metadata": {},
     "output_type": "execute_result"
    }
   ],
   "source": [
    "topic_id = get_flat_table_rows(conn.sql(\"\"\"\n",
    "    SELECT DISTINCT(Question.TopicID, Topic)\n",
    "    FROM Question\n",
    "    JOIN Topic\n",
    "    ON Question.TopicID = Topic.TopicID\n",
    "\"\"\").fetchall())\n",
    "topic_id"
   ]
  },
  {
   "cell_type": "code",
   "execution_count": 42,
   "id": "c6e5d933",
   "metadata": {},
   "outputs": [
    {
     "name": "stdout",
     "output_type": "stream",
     "text": [
      "topic Cancer, questions: ['Papanicolaou smear use among adult women aged 21-65 years', 'Recent Papanicolaou smear use among women aged 21-44 years', 'Mammography use among women aged 50-74 years', 'Fecal occult blood test, sigmoidoscopy, or colonoscopy among adults aged 50-75 years', 'Invasive cancer of the prostate, incidence', 'Cancer of the colon and rectum (colorectal), incidence', 'Cancer of the oral cavity and pharynx, mortality', 'Invasive cancer of the oral cavity or pharynx, incidence', 'Cancer of the female breast, mortality', 'Melanoma, mortality', 'Cancer of the prostate, mortality', 'Invasive cancer (all sites combined), incidence', 'Cancer of the lung and bronchus, mortality', 'Invasive cancer of the female breast, incidence', 'Cancer of the lung and bronchus, incidence', 'Cancer of the colon and rectum (colorectal), mortality', 'Invasive melanoma, incidence', 'Invasive cancer (all sites combined), mortality', 'Invasive cancer of the cervix, incidence', 'Cancer of the female cervix, mortality']\n",
      "\n",
      "topic Mental Health, questions: ['Recent mentally unhealthy days among adults aged >= 18 years', 'At least 14 recent mentally unhealthy days among women aged 18-44 years', 'Postpartum depressive symptoms']\n",
      "\n",
      "topic Immunization, questions: ['Influenza vaccination among noninstitutionalized adults aged >= 18 years']\n",
      "\n",
      "topic Older Adults, questions: ['Proportion of older adults aged >= 65 years who are up to date on a core set of clinical preventive services', 'Prevalence of 2 or more chronic conditions among Medicare-enrolled persons aged >= 65 years', 'Hospitalization for hip fracture among Medicare-eligible persons aged >= 65 years', 'Proportion of older adults aged 50-64 years who are up to date on a core set of clinical preventive services']\n",
      "\n",
      "topic Cardiovascular Disease, questions: ['Awareness of high blood pressure among adults aged >= 18 years', 'Pneumococcal vaccination among noninstitutionalized adults aged >= 65 years with a history of coronary heart disease', 'Hospitalization for heart failure among Medicare-eligible persons aged >= 65 years', 'Cholesterol screening among adults aged >= 18 years', 'Taking medicine for high blood pressure control among adults aged >= 18 years with high blood pressure', 'High cholesterol prevalence among adults aged >= 18 years', 'Influenza vaccination among noninstitutionalized adults aged >= 65 years with a history of coronary heart disease or stroke', 'Pneumococcal vaccination among noninstitutionalized adults aged 18-64 years with a history of coronary heart disease', 'Awareness of high blood pressure among women aged 18-44 years', 'Influenza vaccination among noninstitutionalized adults aged 18-64 years with a history of coronary heart disease or stroke', 'Hospitalization for acute myocardial infarction', 'Mortality from coronary heart disease', 'Hospitalization for stroke', 'Mortality from total cardiovascular diseases', 'Mortality from cerebrovascular disease (stroke)', 'Mortality from diseases of the heart', 'Mortality from heart failure', 'Pre-pregnancy hypertension']\n",
      "\n",
      "topic Diabetes, questions: ['Dilated eye examination among adults aged >= 18 years with diagnosed diabetes', 'Prevalence of depressive disorders among adults aged >= 18 years with diagnosed diabetes', 'Pneumococcal vaccination among noninstitutionalized adults aged >= 65 years with diagnosed diabetes', 'Diabetes prevalence among women aged 18-44 years', 'Influenza vaccination among noninstitutionalized adults aged 18-64 years with diagnosed diabetes', 'Pneumococcal vaccination among noninstitutionalized adults aged 18-64 years with diagnosed diabetes', 'Prevalence of high blood pressure among adults aged >= 18 years with diagnosed diabetes', 'Adults with diagnosed diabetes aged >= 18 years who have taken a diabetes self-management course', 'Foot examination among adults aged >= 18 years with diagnosed diabetes', 'Visits to dentist or dental clinic among adults aged >= 18 years with diagnosed diabetes', 'Influenza vaccination among noninstitutionalized adults aged >= 65 years with diagnosed diabetes', 'Glycosylated hemoglobin measurement among adults aged >= 18 years with diagnosed diabetes', 'Prevalence of high cholesterol among adults aged >= 18 years with diagnosed diabetes', 'Prevalence of diagnosed diabetes among adults aged >= 18 years', 'Amputation of a lower extremity attributable to diabetes', 'Hospitalization with diabetes as a listed diagnosis', 'Prevalence of pre-pregnancy diabetes', 'Mortality due to diabetes reported as any listed cause of death', 'Mortality with diabetic ketoacidosis reported as any listed cause of death', 'Prevalence of gestational diabetes']\n",
      "\n",
      "topic Arthritis, questions: ['Arthritis among adults aged >= 18 years', 'Arthritis among adults aged >= 18 years who have diabetes', 'Work limitation due to arthritis among adults aged 18-64 years who have doctor-diagnosed arthritis', 'Activity limitation due to arthritis among adults aged >= 18 years who have doctor-diagnosed arthritis', 'Fair or poor health among adults aged >= 18 years with arthritis', 'Physical inactivity among adults aged >= 18 years with arthritis', 'Arthritis among adults aged >= 18 years who are obese', 'Severe joint pain due to arthritis among adults aged >= 18 years who have doctor-diagnosed arthritis', 'Adults aged >= 18 years with arthritis who have taken a class to learn how to manage arthritis symptoms', 'Arthritis among adults aged >= 18 years who have heart disease']\n",
      "\n",
      "topic Chronic Obstructive Pulmonary Disease, questions: ['Hospitalization for chronic obstructive pulmonary disease as first-listed diagnosis among Medicare-eligible persons aged >= 65 years', 'Mortality with chronic obstructive pulmonary disease as underlying cause among adults aged >= 45 years', 'Hospitalization for chronic obstructive pulmonary disease as any diagnosis among Medicare-eligible persons aged >= 65 years', 'Mortality with chronic obstructive pulmonary disease as underlying or contributing cause among adults aged >= 45 years', 'Influenza vaccination among noninstitutionalized adults aged >= 45 years with chronic obstructive pulmonary disease', 'Pneumococcal vaccination among noninstitutionalized adults aged >= 45 years with chronic obstructive pulmonary disease', 'Prevalence of chronic obstructive pulmonary disease among adults >= 18', 'Prevalence of current smoking among adults >= 45 years with diagnosed chronic obstructive pulmonary disease', 'Prevalence of current smoking among adults >= 18 with diagnosed chronic obstructive pulmonary disease', 'Hospitalization for chronic obstructive pulmonary disease as first-listed diagnosis', 'Hospitalization for chronic obstructive pulmonary disease as any diagnosis', 'Emergency department visit rate for chronic obstructive pulmonary disease as any diagnosis', 'Prevalence of activity limitation among adults >= 45 years with diagnosed chronic obstructive pulmonary disease', 'Prevalence of activity limitation among adults >= 18 with diagnosed chronic obstructive pulmonary disease', 'Prevalence of chronic obstructive pulmonary disease among adults >= 45 years', 'Emergency department visit rate for chronic obstructive pulmonary disease as first-listed diagnosis']\n",
      "\n",
      "topic Alcohol, questions: ['Binge drinking intensity among adults aged >= 18 years who binge drink', 'Heavy drinking among women aged 18-44 years', 'Per capita alcohol consumption among persons aged >= 14 years', 'Binge drinking prevalence among women aged 18-44 years', 'Heavy drinking among adults aged >= 18 years', 'Alcohol use among youth', 'Binge drinking prevalence among adults aged >= 18 years', 'Binge drinking frequency among adults aged >= 18 years who binge drink', 'Binge drinking prevalence among youth', 'Amount of alcohol excise tax by beverage type (distilled spirits)', 'Amount of alcohol excise tax by beverage type (wine)', 'Alcohol use before pregnancy', 'Amount of alcohol excise tax by beverage type (beer)', 'Chronic liver disease mortality']\n",
      "\n",
      "topic Reproductive Health, questions: ['Timeliness of routine health care checkup among women aged 18-44 years', 'Postpartum checkup', 'Folic acid supplementation']\n",
      "\n",
      "topic Nutrition, Physical Activity, and Weight Status, questions: ['Overweight or obesity among women aged 18-44 years', 'Median daily frequency of fruit consumption among high school students', 'Median daily frequency of vegetable consumption among adults aged >= 18 years', 'Meeting aerobic physical activity guidelines for additional and more extensive health benefits among adults aged >= 18 years', 'Overweight or obesity among adults aged >= 18 years', 'Soda consumption among high school students', 'Median daily frequency of fruit consumption among adults aged >= 18 years', 'Healthy weight among adults aged >= 18 years', 'Participation in daily school physical education classes among high school students', 'No leisure-time physical activity among adults aged >= 18 years', 'Obesity among high school students', 'Television viewing among high school students', 'Computer use among high school students', 'Overweight or obesity among high school students', 'Secondary schools that allow community-sponsored use of physical activity facilities by youth outside of normal school hours', 'Obesity among adults aged >= 18 years', 'Meeting aerobic physical activity guidelines for substantial health benefits and for muscle-strengthening activity among adults aged >= 18 years', 'Healthy weight among high school students', 'Median daily frequency of vegetable consumption among high school students', 'Meeting aerobic physical activity guidelines among high school students', 'Meeting aerobic physical activity guidelines for substantial health benefits among adults aged >= 18 years', 'Infants breastfed at 6 months', 'Number of farmers markets per 100,000 residents', 'Farmers markets that accept Supplemental Nutrition Assistance Program (SNAP) benefits', 'Mean maternity practices in infant nutrition care (mPINC) score', 'Secondary schools that offer less healthy foods as competitive foods', 'Secondary schools that allow students to purchase sports drinks', 'Live births occurring at Baby Friendly Facilities', 'Census tracts with healthier food retailers within � mile of boundary', 'Receiving formula supplementation within the first 2 days of life among breastfed infants', 'Secondary schools that allow students to purchase soda or fruit drinks', 'Farmers markets that accept Women and Infant Children (WIC) farmers market nutrition program coupons']\n",
      "\n",
      "topic Chronic Kidney Disease, questions: ['Prevalence of chronic kidney disease among adults aged >= 18 years', 'Mortality with end-stage renal disease', 'Incidence of treated end-stage renal disease attributed to diabetes', 'Incidence of treated end-stage renal disease']\n",
      "\n",
      "topic Tobacco, questions: ['Current cigarette smoking among youth', 'Current cigarette smoking among women aged 18-44 years', 'Current smoking among adults aged >= 18 years', 'Pneumococcal vaccination among noninstitutionalized adults aged >= 65 years who smoke', 'Current smokeless tobacco use among adults aged >= 18 years', 'Current smokeless tobacco use among youth', 'Pneumococcal vaccination among noninstitutionalized adults aged 18-64 years who smoke', 'Proportion of the population protected by a comprehensive smoke-free policy prohibiting smoking in all indoor areas of workplaces and public places, including restaurants and bars', 'Quit attempts in the past year among current smokers', 'Secondary schools that have a comprehensive tobacco-free school policy in place', 'Sale of cigarette packs', 'Cigarette smoking before pregnancy', 'Percent tobacco revenue to fund at CDC recommended level']\n",
      "\n",
      "topic Asthma, questions: ['Influenza vaccination among noninstitutionalized adults aged >= 65 years with asthma', 'Pneumococcal vaccination among noninstitutionalized adults aged >= 65 years with asthma', 'Asthma prevalence among women aged 18-44 years', 'Current asthma prevalence among adults aged >= 18 years', 'Pneumococcal vaccination among noninstitutionalized adults aged 18-64 years with asthma', 'Influenza vaccination among noninstitutionalized adults aged 18-64 years with asthma', 'Asthma mortality rate', 'Hospitalizations for asthma', 'Emergency department visit rate for asthma']\n",
      "\n",
      "topic Disability, questions: ['Disability among adults aged >= 65 years']\n",
      "\n",
      "topic Oral Health, questions: ['Dental visits among children and adolescents aged 1-17 years', 'Visits to dentist or dental clinic among adults aged >= 18 years', 'Six or more teeth lost among adults aged >= 65 years', 'No tooth loss among adults aged 18-64 years', 'All teeth lost among adults aged >= 65 years', 'Preventive dental visits among children and adolescents aged 1-17 years', 'Oral health services at Federally Qualified Health Centers', 'Population served by community water systems that receive fluoridated drinking water', 'Preventive dental care before pregnancy']\n",
      "\n",
      "topic Overarching Conditions, questions: ['Self-rated health status among women aged 18-44 years', 'Premature mortality among adults aged 45-64 years', 'Recent activity limitation among adults aged >= 18 years', 'Prevalence of sufficient sleep among adults aged >= 18 years', 'Fair or poor self-rated health status among adults aged >= 18 years', 'Current lack of health insurance among adults aged 18-64 years', 'High school completion among women aged 18-44 years', 'Current health care coverage among women aged 18-44 years', 'High school completion among adults aged 18-24 years', 'Recent physically unhealthy days among adults aged >= 18 years', 'Poverty among women aged 18-44 years', 'Poverty', 'Life expectancy at birth', 'Health insurance coverage before pregnancy', 'Life expectancy at age 65 years']\n",
      "\n"
     ]
    }
   ],
   "source": [
    "for id, topic in topic_id:\n",
    "    topic_id_questions = get_flat_table_rows(conn.sql(f\"\"\"\n",
    "        SELECT Question\n",
    "        FROM Question\n",
    "        WHERE TopicID = '{id}'  \n",
    "    \"\"\").fetchall())\n",
    "    print(f\"topic {topic}, questions: {topic_id_questions}\\n\")"
   ]
  },
  {
   "cell_type": "markdown",
   "id": "39dddbfc",
   "metadata": {},
   "source": [
    "#### Job here is to now identify which questions one by one if I have to the ones that can be compatible with my CalculatedPopulation table containing the populations by sex age race and origin. "
   ]
  }
 ],
 "metadata": {
  "kernelspec": {
   "display_name": "tech-interview",
   "language": "python",
   "name": "python3"
  },
  "language_info": {
   "codemirror_mode": {
    "name": "ipython",
    "version": 3
   },
   "file_extension": ".py",
   "mimetype": "text/x-python",
   "name": "python",
   "nbconvert_exporter": "python",
   "pygments_lexer": "ipython3",
   "version": "3.11.8"
  }
 },
 "nbformat": 4,
 "nbformat_minor": 5
}
