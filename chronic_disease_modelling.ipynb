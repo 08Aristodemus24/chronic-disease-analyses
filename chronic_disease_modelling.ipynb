{
 "cells": [
  {
   "cell_type": "code",
   "execution_count": 27,
   "id": "84da2a7c",
   "metadata": {},
   "outputs": [],
   "source": [
    "import os\n",
    "import numpy as np\n",
    "import ast\n",
    "import re\n",
    "\n",
    "import pyspark.sql.functions as f\n",
    "# f.lit\n",
    "from pyspark.sql import SparkSession\n",
    "from pyspark.sql.types import StringType, ArrayType, StructField, StructType, FloatType, DoubleType"
   ]
  },
  {
   "cell_type": "code",
   "execution_count": 28,
   "id": "fac357c1",
   "metadata": {},
   "outputs": [
    {
     "name": "stdout",
     "output_type": "stream",
     "text": [
      "+---------+-------+------------+--------------------+----------+------+--------------------+--------+-------------+-------------+---------+------------+-----------------------+-----------------+------------------+-------------------+-----------------------+-------------------+-----------------------+---------------+-----------------------+---------------+--------------------+----------+----------+-------+----------+---------------+-------------------------+-----------------+-------------------------+-----------------+-------------------------+-----------------+\n",
      "|YearStart|YearEnd|LocationAbbr|        LocationDesc|DataSource| Topic|            Question|Response|DataValueUnit|DataValueType|DataValue|DataValueAlt|DataValueFootnoteSymbol|DatavalueFootnote|LowConfidenceLimit|HighConfidenceLimit|StratificationCategory1|    Stratification1|StratificationCategory2|Stratification2|StratificationCategory3|Stratification3|         GeoLocation|ResponseID|LocationID|TopicID|QuestionID|DataValueTypeID|StratificationCategoryID1|StratificationID1|StratificationCategoryID2|StratificationID2|StratificationCategoryID3|StratificationID3|\n",
      "+---------+-------+------------+--------------------+----------+------+--------------------+--------+-------------+-------------+---------+------------+-----------------------+-----------------+------------------+-------------------+-----------------------+-------------------+-----------------------+---------------+-----------------------+---------------+--------------------+----------+----------+-------+----------+---------------+-------------------------+-----------------+-------------------------+-----------------+-------------------------+-----------------+\n",
      "|     2014|   2014|          AR|            Arkansas| SEDD; SID|Asthma|Hospitalizations ...|    NULL|         NULL|       Number|      916|       916.0|                   NULL|             NULL|              NULL|               NULL|                 Gender|               Male|                   NULL|           NULL|                   NULL|           NULL|POINT (-92.274490...|      NULL|         5|    AST|    AST3_1|           NMBR|                   GENDER|             GENM|                     NULL|             NULL|                     NULL|             NULL|\n",
      "|     2018|   2018|          CO|            Colorado| SEDD; SID|Asthma|Hospitalizations ...|    NULL|         NULL|       Number|     2227|      2227.0|                   NULL|             NULL|              NULL|               NULL|                Overall|            Overall|                   NULL|           NULL|                   NULL|           NULL|POINT (-106.13361...|      NULL|         8|    AST|    AST3_1|           NMBR|                  OVERALL|              OVR|                     NULL|             NULL|                     NULL|             NULL|\n",
      "|     2018|   2018|          DC|District of Columbia| SEDD; SID|Asthma|Hospitalizations ...|    NULL|         NULL|       Number|      708|       708.0|                   NULL|             NULL|              NULL|               NULL|                Overall|            Overall|                   NULL|           NULL|                   NULL|           NULL|POINT (-77.036871...|      NULL|        11|    AST|    AST3_1|           NMBR|                  OVERALL|              OVR|                     NULL|             NULL|                     NULL|             NULL|\n",
      "|     2017|   2017|          GA|             Georgia| SEDD; SID|Asthma|Hospitalizations ...|    NULL|         NULL|       Number|     3520|      3520.0|                   NULL|             NULL|              NULL|               NULL|                 Gender|             Female|                   NULL|           NULL|                   NULL|           NULL|POINT (-83.627580...|      NULL|        13|    AST|    AST3_1|           NMBR|                   GENDER|             GENF|                     NULL|             NULL|                     NULL|             NULL|\n",
      "|     2010|   2010|          MI|            Michigan| SEDD; SID|Asthma|Hospitalizations ...|    NULL|         NULL|       Number|      123|       123.0|                   NULL|             NULL|              NULL|               NULL|         Race/Ethnicity|           Hispanic|                   NULL|           NULL|                   NULL|           NULL|POINT (-84.714390...|      NULL|        26|    AST|    AST3_1|           NMBR|                     RACE|              HIS|                     NULL|             NULL|                     NULL|             NULL|\n",
      "|     2015|   2015|          MT|             Montana| SEDD; SID|Asthma|Hospitalizations ...|    NULL|         NULL|       Number|     NULL|        NULL|                      -|No data available|              NULL|               NULL|         Race/Ethnicity|           Hispanic|                   NULL|           NULL|                   NULL|           NULL|POINT (-109.42442...|      NULL|        30|    AST|    AST3_1|           NMBR|                     RACE|              HIS|                     NULL|             NULL|                     NULL|             NULL|\n",
      "|     2013|   2013|          OR|              Oregon| SEDD; SID|Asthma|Hospitalizations ...|    NULL|         NULL|       Number|      760|       760.0|                   NULL|             NULL|              NULL|               NULL|                 Gender|               Male|                   NULL|           NULL|                   NULL|           NULL|POINT (-120.15503...|      NULL|        41|    AST|    AST3_1|           NMBR|                   GENDER|             GENM|                     NULL|             NULL|                     NULL|             NULL|\n",
      "|     2013|   2013|          PR|         Puerto Rico| SEDD; SID|Asthma|Hospitalizations ...|    NULL|         NULL|       Number|     NULL|        NULL|                      -|No data available|              NULL|               NULL|                Overall|            Overall|                   NULL|           NULL|                   NULL|           NULL|POINT (-66.590149...|      NULL|        72|    AST|    AST3_1|           NMBR|                  OVERALL|              OVR|                     NULL|             NULL|                     NULL|             NULL|\n",
      "|     2017|   2017|          PR|         Puerto Rico| SEDD; SID|Asthma|Hospitalizations ...|    NULL|         NULL|       Number|     NULL|        NULL|                      -|No data available|              NULL|               NULL|                Overall|            Overall|                   NULL|           NULL|                   NULL|           NULL|POINT (-66.590149...|      NULL|        72|    AST|    AST3_1|           NMBR|                  OVERALL|              OVR|                     NULL|             NULL|                     NULL|             NULL|\n",
      "|     2010|   2010|          WI|           Wisconsin| SEDD; SID|Asthma|Hospitalizations ...|    NULL|         NULL|       Number|     1967|      1967.0|                   NULL|             NULL|              NULL|               NULL|                 Gender|               Male|                   NULL|           NULL|                   NULL|           NULL|POINT (-89.816370...|      NULL|        55|    AST|    AST3_1|           NMBR|                   GENDER|             GENM|                     NULL|             NULL|                     NULL|             NULL|\n",
      "|     2016|   2016|          WI|           Wisconsin| SEDD; SID|Asthma|Hospitalizations ...|    NULL|         NULL|       Number|      110|       110.0|                   NULL|             NULL|              NULL|               NULL|         Race/Ethnicity|           Hispanic|                   NULL|           NULL|                   NULL|           NULL|POINT (-89.816370...|      NULL|        55|    AST|    AST3_1|           NMBR|                     RACE|              HIS|                     NULL|             NULL|                     NULL|             NULL|\n",
      "|     2014|   2014|          AL|             Alabama|      NVSS|Asthma|Asthma mortality ...|    NULL|         NULL|       Number|       22|        22.0|                   NULL|             NULL|              NULL|               NULL|                 Gender|               Male|                   NULL|           NULL|                   NULL|           NULL|POINT (-86.631860...|      NULL|         1|    AST|    AST4_1|           NMBR|                   GENDER|             GENM|                     NULL|             NULL|                     NULL|             NULL|\n",
      "|     2015|   2015|          ID|               Idaho|      NVSS|Asthma|Asthma mortality ...|    NULL|         NULL|       Number|       21|        21.0|                   NULL|             NULL|              NULL|               NULL|                Overall|            Overall|                   NULL|           NULL|                   NULL|           NULL|POINT (-114.36373...|      NULL|        16|    AST|    AST4_1|           NMBR|                  OVERALL|              OVR|                     NULL|             NULL|                     NULL|             NULL|\n",
      "|     2016|   2016|          ID|               Idaho|      NVSS|Asthma|Asthma mortality ...|    NULL|         NULL|       Number|       21|        21.0|                   NULL|             NULL|              NULL|               NULL|                Overall|            Overall|                   NULL|           NULL|                   NULL|           NULL|POINT (-114.36373...|      NULL|        16|    AST|    AST4_1|           NMBR|                  OVERALL|              OVR|                     NULL|             NULL|                     NULL|             NULL|\n",
      "|     2020|   2020|          IL|            Illinois|      NVSS|Asthma|Asthma mortality ...|    NULL|       Number|       Number|       89|        89.0|                   NULL|             NULL|              NULL|               NULL|                 Gender|               Male|                   NULL|           NULL|                   NULL|           NULL|POINT (-88.997710...|      NULL|        17|    AST|    AST4_1|           NMBR|                   GENDER|             GENM|                     NULL|             NULL|                     NULL|             NULL|\n",
      "|     2012|   2012|          KS|              Kansas|      NVSS|Asthma|Asthma mortality ...|    NULL|         NULL|       Number|       24|        24.0|                   NULL|             NULL|              NULL|               NULL|         Race/Ethnicity|White, non-Hispanic|                   NULL|           NULL|                   NULL|           NULL|POINT (-98.200781...|      NULL|        20|    AST|    AST4_1|           NMBR|                     RACE|              WHT|                     NULL|             NULL|                     NULL|             NULL|\n",
      "|     2015|   2015|          KS|              Kansas|      NVSS|Asthma|Asthma mortality ...|    NULL|         NULL|       Number|       29|        29.0|                   NULL|             NULL|              NULL|               NULL|                Overall|            Overall|                   NULL|           NULL|                   NULL|           NULL|POINT (-98.200781...|      NULL|        20|    AST|    AST4_1|           NMBR|                  OVERALL|              OVR|                     NULL|             NULL|                     NULL|             NULL|\n",
      "|     2018|   2018|          KS|              Kansas|      NVSS|Asthma|Asthma mortality ...|    NULL|       Number|       Number|       29|        29.0|                   NULL|             NULL|              NULL|               NULL|                Overall|            Overall|                   NULL|           NULL|                   NULL|           NULL|POINT (-98.200781...|      NULL|        20|    AST|    AST4_1|           NMBR|                  OVERALL|              OVR|                     NULL|             NULL|                     NULL|             NULL|\n",
      "|     2017|   2017|          LA|           Louisiana|      NVSS|Asthma|Asthma mortality ...|    NULL|         NULL|       Number|       21|        21.0|                   NULL|             NULL|              NULL|               NULL|                 Gender|               Male|                   NULL|           NULL|                   NULL|           NULL|POINT (-92.445680...|      NULL|        22|    AST|    AST4_1|           NMBR|                   GENDER|             GENM|                     NULL|             NULL|                     NULL|             NULL|\n",
      "|     2017|   2017|          MA|       Massachusetts|      NVSS|Asthma|Asthma mortality ...|    NULL|         NULL|       Number|       28|        28.0|                   NULL|             NULL|              NULL|               NULL|                 Gender|               Male|                   NULL|           NULL|                   NULL|           NULL|POINT (-72.082690...|      NULL|        25|    AST|    AST4_1|           NMBR|                   GENDER|             GENM|                     NULL|             NULL|                     NULL|             NULL|\n",
      "+---------+-------+------------+--------------------+----------+------+--------------------+--------+-------------+-------------+---------+------------+-----------------------+-----------------+------------------+-------------------+-----------------------+-------------------+-----------------------+---------------+-----------------------+---------------+--------------------+----------+----------+-------+----------+---------------+-------------------------+-----------------+-------------------------+-----------------+-------------------------+-----------------+\n",
      "only showing top 20 rows\n",
      "\n"
     ]
    }
   ],
   "source": [
    "DATA_DIR = \"./data/chronic-disease-data\"\n",
    "\n",
    "path = os.path.join(DATA_DIR, \"U.S._Chronic_Disease_Indicators__CDI___2023_Release.csv\")\n",
    "\n",
    "spark = SparkSession.builder.appName('test')\\\n",
    "    .config(\"spark.executor.memory\", \"6g\")\\\n",
    "    .getOrCreate()\n",
    "\n",
    "test_spark_df_00_10 = spark.read.format(\"csv\")\\\n",
    "    .option(\"header\", \"true\")\\\n",
    "    .option(\"inferSchema\", \"true\")\\\n",
    "    .load(path)\n",
    "\n",
    "test_spark_df_00_10.show()"
   ]
  },
  {
   "cell_type": "markdown",
   "id": "cf4546e0",
   "metadata": {},
   "source": [
    "# Drop uneccessary columns"
   ]
  },
  {
   "cell_type": "code",
   "execution_count": 29,
   "id": "692fc784",
   "metadata": {},
   "outputs": [
    {
     "name": "stdout",
     "output_type": "stream",
     "text": [
      "+---------+-------+------------+--------------------+------+--------------------+-------------+-------------+------------+------------------+-------------------+-----------------------+---------------+--------------------+----------+-------+----------+---------------+\n",
      "|YearStart|YearEnd|LocationAbbr|        LocationDesc| Topic|            Question|DataValueUnit|DataValueType|DataValueAlt|LowConfidenceLimit|HighConfidenceLimit|StratificationCategory1|Stratification1|         GeoLocation|LocationID|TopicID|QuestionID|DataValueTypeID|\n",
      "+---------+-------+------------+--------------------+------+--------------------+-------------+-------------+------------+------------------+-------------------+-----------------------+---------------+--------------------+----------+-------+----------+---------------+\n",
      "|     2014|   2014|          AR|            Arkansas|Asthma|Hospitalizations ...|         NULL|       Number|       916.0|              NULL|               NULL|                 Gender|           Male|POINT (-92.274490...|         5|    AST|    AST3_1|           NMBR|\n",
      "|     2018|   2018|          CO|            Colorado|Asthma|Hospitalizations ...|         NULL|       Number|      2227.0|              NULL|               NULL|                Overall|        Overall|POINT (-106.13361...|         8|    AST|    AST3_1|           NMBR|\n",
      "|     2018|   2018|          DC|District of Columbia|Asthma|Hospitalizations ...|         NULL|       Number|       708.0|              NULL|               NULL|                Overall|        Overall|POINT (-77.036871...|        11|    AST|    AST3_1|           NMBR|\n",
      "|     2017|   2017|          GA|             Georgia|Asthma|Hospitalizations ...|         NULL|       Number|      3520.0|              NULL|               NULL|                 Gender|         Female|POINT (-83.627580...|        13|    AST|    AST3_1|           NMBR|\n",
      "|     2010|   2010|          MI|            Michigan|Asthma|Hospitalizations ...|         NULL|       Number|       123.0|              NULL|               NULL|         Race/Ethnicity|       Hispanic|POINT (-84.714390...|        26|    AST|    AST3_1|           NMBR|\n",
      "+---------+-------+------------+--------------------+------+--------------------+-------------+-------------+------------+------------------+-------------------+-----------------------+---------------+--------------------+----------+-------+----------+---------------+\n",
      "only showing top 5 rows\n",
      "\n"
     ]
    }
   ],
   "source": [
    "cols_to_drop = [\"Response\",\n",
    "    \"ResponseID\",\n",
    "    \"DataValueFootnoteSymbol\",\n",
    "    \"DatavalueFootnote\",\n",
    "    \n",
    "    \"DataSource\", \n",
    "    \"DataValue\",\n",
    "\n",
    "    \"StratificationCategory2\",\n",
    "    \"Stratification2\",\n",
    "    \"StratificationCategory3\",\n",
    "    \"Stratification3\",\n",
    "\n",
    "    \"StratificationCategoryID1\",\n",
    "    \"StratificationID1\",\n",
    "    \"StratificationCategoryID2\",\n",
    "    \"StratificationID2\",\n",
    "    \"StratificationCategoryID3\",\n",
    "    \"StratificationID3\"]\n",
    "test_spark_df_00_10 = test_spark_df_00_10.drop(*cols_to_drop)\n",
    "test_spark_df_00_10.show(5)"
   ]
  },
  {
   "cell_type": "code",
   "execution_count": 30,
   "id": "93bf3843",
   "metadata": {},
   "outputs": [
    {
     "data": {
      "text/plain": [
       "1185676"
      ]
     },
     "execution_count": 30,
     "metadata": {},
     "output_type": "execute_result"
    }
   ],
   "source": [
    "test_spark_df_00_10.count()"
   ]
  },
  {
   "cell_type": "code",
   "execution_count": 31,
   "id": "ff91523a",
   "metadata": {},
   "outputs": [
    {
     "name": "stdout",
     "output_type": "stream",
     "text": [
      "+---------+-------+------------+------------+-------+--------------------+-----------------+----------------+------------+------------------+-------------------+-----------------------+-------------------+--------------------+----------+-------+----------+---------------+\n",
      "|YearStart|YearEnd|LocationAbbr|LocationDesc|  Topic|            Question|    DataValueUnit|   DataValueType|DataValueAlt|LowConfidenceLimit|HighConfidenceLimit|StratificationCategory1|    Stratification1|         GeoLocation|LocationID|TopicID|QuestionID|DataValueTypeID|\n",
      "+---------+-------+------------+------------+-------+--------------------+-----------------+----------------+------------+------------------+-------------------+-----------------------+-------------------+--------------------+----------+-------+----------+---------------+\n",
      "|     2012|   2012|          MO|    Missouri|Alcohol|Chronic liver dis...|cases per 100,000|      Crude Rate|         6.4|               5.5|                7.3|                 Gender|             Female|POINT (-92.566300...|        29|    ALC|    ALC6_0|        CRDRATE|\n",
      "|     2017|   2017|          OK|    Oklahoma|Alcohol|Chronic liver dis...|cases per 100,000|      Crude Rate|        17.0|              15.8|               18.3|                Overall|            Overall|POINT (-97.521070...|        40|    ALC|    ALC6_0|        CRDRATE|\n",
      "|     2019|   2019|          PR| Puerto Rico|Alcohol|Binge drinking pr...|                %|Crude Prevalence|        10.1|               8.0|               12.7|                Overall|            Overall|POINT (-66.590149...|        72|    ALC|    ALC2_1|        CRDPREV|\n",
      "|     2015|   2015|          RI|Rhode Island|Alcohol|Alcohol use among...|                %|Crude Prevalence|        12.6|               7.3|               21.0|         Race/Ethnicity|Asian, non-Hispanic|POINT (-71.522470...|        44|    ALC|    ALC1_1|        CRDPREV|\n",
      "|     2013|   2013|          TN|   Tennessee|Alcohol|Alcohol use befor...|                %|Crude Prevalence|        52.7|              47.2|               58.2|         Race/Ethnicity|White, non-Hispanic|POINT (-85.774490...|        47|    ALC|    ALC1_2|        CRDPREV|\n",
      "+---------+-------+------------+------------+-------+--------------------+-----------------+----------------+------------+------------------+-------------------+-----------------------+-------------------+--------------------+----------+-------+----------+---------------+\n",
      "only showing top 5 rows\n",
      "\n"
     ]
    }
   ],
   "source": [
    "test_spark_df_00_10 = test_spark_df_00_10.dropDuplicates()\n",
    "test_spark_df_00_10.show(5)"
   ]
  },
  {
   "cell_type": "code",
   "execution_count": 32,
   "id": "2f643ca1",
   "metadata": {},
   "outputs": [
    {
     "data": {
      "text/plain": [
       "1185676"
      ]
     },
     "execution_count": 32,
     "metadata": {},
     "output_type": "execute_result"
    }
   ],
   "source": [
    "test_spark_df_00_10.count()"
   ]
  },
  {
   "cell_type": "markdown",
   "id": "25d77c8a",
   "metadata": {},
   "source": [
    "# Remove rows with null values either in datavalue, datavalueunit, and datavaluetype"
   ]
  },
  {
   "cell_type": "code",
   "execution_count": 33,
   "id": "e952cc60",
   "metadata": {},
   "outputs": [
    {
     "name": "stdout",
     "output_type": "stream",
     "text": [
      "+---------+-------+------------+--------------------+-------+--------------------+-------------+----------------+------------+------------------+-------------------+-----------------------+-------------------+--------------------+----------+-------+----------+---------------+\n",
      "|YearStart|YearEnd|LocationAbbr|        LocationDesc|  Topic|            Question|DataValueUnit|   DataValueType|DataValueAlt|LowConfidenceLimit|HighConfidenceLimit|StratificationCategory1|    Stratification1|         GeoLocation|LocationID|TopicID|QuestionID|DataValueTypeID|\n",
      "+---------+-------+------------+--------------------+-------+--------------------+-------------+----------------+------------+------------------+-------------------+-----------------------+-------------------+--------------------+----------+-------+----------+---------------+\n",
      "|     2015|   2015|          RI|        Rhode Island|Alcohol|Alcohol use among...|            %|Crude Prevalence|        12.6|               7.3|               21.0|         Race/Ethnicity|Asian, non-Hispanic|POINT (-71.522470...|        44|    ALC|    ALC1_1|        CRDPREV|\n",
      "|     2015|   2015|          US|       United States|Alcohol|Alcohol use among...|            %|Crude Prevalence|        13.1|               9.8|               17.3|         Race/Ethnicity|Asian, non-Hispanic|                NULL|        59|    ALC|    ALC1_1|        CRDPREV|\n",
      "|     2019|   2019|          HI|              Hawaii|Alcohol|Alcohol use among...|            %|Crude Prevalence|        14.2|              11.7|               17.0|         Race/Ethnicity|Asian, non-Hispanic|POINT (-157.85774...|        15|    ALC|    ALC1_1|        CRDPREV|\n",
      "|     2015|   2015|          CA|          California|Alcohol|Alcohol use among...|            %|Crude Prevalence|        17.1|              11.9|               23.9|         Race/Ethnicity|Asian, non-Hispanic|POINT (-120.99999...|         6|    ALC|    ALC1_1|        CRDPREV|\n",
      "|     2019|   2019|          MS|         Mississippi|Alcohol|Alcohol use among...|            %|Crude Prevalence|        18.2|              15.1|               21.8|         Race/Ethnicity|Black, non-Hispanic|POINT (-89.538030...|        28|    ALC|    ALC1_1|        CRDPREV|\n",
      "|     2019|   2019|          NM|          New Mexico|Alcohol|Alcohol use among...|            %|Crude Prevalence|        23.8|              15.8|               34.3|         Race/Ethnicity|Black, non-Hispanic|POINT (-106.24058...|        35|    ALC|    ALC1_1|        CRDPREV|\n",
      "|     2015|   2015|          MD|            Maryland|Alcohol|Alcohol use among...|            %|Crude Prevalence|        18.1|              17.2|               19.1|         Race/Ethnicity|Black, non-Hispanic|POINT (-76.609260...|        24|    ALC|    ALC1_1|        CRDPREV|\n",
      "|     2013|   2013|          WI|           Wisconsin|Alcohol|Alcohol use among...|            %|Crude Prevalence|        23.4|              17.3|               30.7|         Race/Ethnicity|Asian, non-Hispanic|POINT (-89.816370...|        55|    ALC|    ALC1_1|        CRDPREV|\n",
      "|     2019|   2019|          NE|            Nebraska|Alcohol|Alcohol use among...|            %|Crude Prevalence|        21.6|              17.7|               26.2|         Race/Ethnicity|White, non-Hispanic|POINT (-99.365720...|        31|    ALC|    ALC1_1|        CRDPREV|\n",
      "|     2015|   2015|          NC|      North Carolina|Alcohol|Alcohol use among...|            %|Crude Prevalence|        24.2|              17.9|               31.8|         Race/Ethnicity|           Hispanic|POINT (-79.159250...|        37|    ALC|    ALC1_1|        CRDPREV|\n",
      "|     2017|   2017|          SC|      South Carolina|Alcohol|Alcohol use among...|            %|Crude Prevalence|        22.9|              18.1|               28.5|                 Gender|               Male|POINT (-81.045371...|        45|    ALC|    ALC1_1|        CRDPREV|\n",
      "|     2013|   2013|          NJ|          New Jersey|Alcohol|Alcohol use among...|            %|Crude Prevalence|        22.5|              18.3|               27.4|         Race/Ethnicity|Asian, non-Hispanic|POINT (-74.273691...|        34|    ALC|    ALC1_1|        CRDPREV|\n",
      "|     2019|   2019|          DC|District of Columbia|Alcohol|Alcohol use among...|            %|Crude Prevalence|        20.1|              18.4|               21.8|         Race/Ethnicity|           Hispanic|POINT (-77.036871...|        11|    ALC|    ALC1_1|        CRDPREV|\n",
      "|     2019|   2019|          NC|      North Carolina|Alcohol|Alcohol use among...|            %|Crude Prevalence|        21.2|              18.4|               24.2|                 Gender|               Male|POINT (-79.159250...|        37|    ALC|    ALC1_1|        CRDPREV|\n",
      "|     2013|   2013|          NE|            Nebraska|Alcohol|Alcohol use among...|            %|Crude Prevalence|        22.4|              19.0|               26.1|         Race/Ethnicity|White, non-Hispanic|POINT (-99.365720...|        31|    ALC|    ALC1_1|        CRDPREV|\n",
      "|     2017|   2017|          AK|              Alaska|Alcohol|Alcohol use among...|            %|Crude Prevalence|        22.8|              19.2|               26.8|                Overall|            Overall|POINT (-147.72205...|         2|    ALC|    ALC1_1|        CRDPREV|\n",
      "|     2013|   2013|          VA|            Virginia|Alcohol|Alcohol use among...|            %|Crude Prevalence|        24.9|              19.9|               30.7|         Race/Ethnicity|           Hispanic|POINT (-78.457890...|        51|    ALC|    ALC1_1|        CRDPREV|\n",
      "|     2013|   2013|          CT|         Connecticut|Alcohol|Alcohol use among...|            %|Crude Prevalence|        27.9|              19.9|               37.7|         Race/Ethnicity|Black, non-Hispanic|POINT (-72.649840...|         9|    ALC|    ALC1_1|        CRDPREV|\n",
      "|     2017|   2017|          NE|            Nebraska|Alcohol|Alcohol use among...|            %|Crude Prevalence|        27.0|              20.1|               35.2|         Race/Ethnicity|           Hispanic|POINT (-99.365720...|        31|    ALC|    ALC1_1|        CRDPREV|\n",
      "|     2019|   2019|          KY|            Kentucky|Alcohol|Alcohol use among...|            %|Crude Prevalence|        23.6|              20.2|               27.3|                 Gender|               Male|POINT (-84.774971...|        21|    ALC|    ALC1_1|        CRDPREV|\n",
      "+---------+-------+------------+--------------------+-------+--------------------+-------------+----------------+------------+------------------+-------------------+-----------------------+-------------------+--------------------+----------+-------+----------+---------------+\n",
      "only showing top 20 rows\n",
      "\n"
     ]
    }
   ],
   "source": [
    "# means thhat if datavalueunit or datavalue or \n",
    "# datavaluetype is null then return true and negate it\n",
    "cond = ~(f.isnull(\"DataValueUnit\") | f.isnull(\"DataValue\") | f.isnull(\"DataValueType\"))\n",
    "test_spark_df_00_10 = test_spark_df_00_10.filter(cond)\n",
    "test_spark_df_00_10.show()"
   ]
  },
  {
   "cell_type": "code",
   "execution_count": 34,
   "id": "c85788bf",
   "metadata": {},
   "outputs": [
    {
     "data": {
      "text/plain": [
       "699340"
      ]
     },
     "execution_count": 34,
     "metadata": {},
     "output_type": "execute_result"
    }
   ],
   "source": [
    "test_spark_df_00_10.count()"
   ]
  },
  {
   "cell_type": "markdown",
   "id": "a67f002f",
   "metadata": {},
   "source": [
    "# Extract latitude and longitude from geolocation"
   ]
  },
  {
   "cell_type": "code",
   "execution_count": 35,
   "id": "622cef4f",
   "metadata": {},
   "outputs": [
    {
     "name": "stdout",
     "output_type": "stream",
     "text": [
      "+---------+-------+------------+--------------------+-------+--------------------+-------------+----------------+------------+------------------+-------------------+-----------------------+-------------------+--------------------+----------+-------+----------+---------------+\n",
      "|YearStart|YearEnd|LocationAbbr|        LocationDesc|  Topic|            Question|DataValueUnit|   DataValueType|DataValueAlt|LowConfidenceLimit|HighConfidenceLimit|StratificationCategory1|    Stratification1|         GeoLocation|LocationID|TopicID|QuestionID|DataValueTypeID|\n",
      "+---------+-------+------------+--------------------+-------+--------------------+-------------+----------------+------------+------------------+-------------------+-----------------------+-------------------+--------------------+----------+-------+----------+---------------+\n",
      "|     2015|   2015|          RI|        Rhode Island|Alcohol|Alcohol use among...|            %|Crude Prevalence|        12.6|               7.3|               21.0|         Race/Ethnicity|Asian, non-Hispanic|[-71.522470313999...|        44|    ALC|    ALC1_1|        CRDPREV|\n",
      "|     2015|   2015|          US|       United States|Alcohol|Alcohol use among...|            %|Crude Prevalence|        13.1|               9.8|               17.3|         Race/Ethnicity|Asian, non-Hispanic|                NULL|        59|    ALC|    ALC1_1|        CRDPREV|\n",
      "|     2019|   2019|          HI|              Hawaii|Alcohol|Alcohol use among...|            %|Crude Prevalence|        14.2|              11.7|               17.0|         Race/Ethnicity|Asian, non-Hispanic|[-157.85774940299...|        15|    ALC|    ALC1_1|        CRDPREV|\n",
      "|     2015|   2015|          CA|          California|Alcohol|Alcohol use among...|            %|Crude Prevalence|        17.1|              11.9|               23.9|         Race/Ethnicity|Asian, non-Hispanic|[-120.99999953799...|         6|    ALC|    ALC1_1|        CRDPREV|\n",
      "|     2019|   2019|          MS|         Mississippi|Alcohol|Alcohol use among...|            %|Crude Prevalence|        18.2|              15.1|               21.8|         Race/Ethnicity|Black, non-Hispanic|[-89.538030824999...|        28|    ALC|    ALC1_1|        CRDPREV|\n",
      "|     2019|   2019|          NM|          New Mexico|Alcohol|Alcohol use among...|            %|Crude Prevalence|        23.8|              15.8|               34.3|         Race/Ethnicity|Black, non-Hispanic|[-106.24058098499...|        35|    ALC|    ALC1_1|        CRDPREV|\n",
      "|     2015|   2015|          MD|            Maryland|Alcohol|Alcohol use among...|            %|Crude Prevalence|        18.1|              17.2|               19.1|         Race/Ethnicity|Black, non-Hispanic|[-76.609260110999...|        24|    ALC|    ALC1_1|        CRDPREV|\n",
      "|     2013|   2013|          WI|           Wisconsin|Alcohol|Alcohol use among...|            %|Crude Prevalence|        23.4|              17.3|               30.7|         Race/Ethnicity|Asian, non-Hispanic|[-89.816370741999...|        55|    ALC|    ALC1_1|        CRDPREV|\n",
      "|     2019|   2019|          NE|            Nebraska|Alcohol|Alcohol use among...|            %|Crude Prevalence|        21.6|              17.7|               26.2|         Race/Ethnicity|White, non-Hispanic|[-99.365720622999...|        31|    ALC|    ALC1_1|        CRDPREV|\n",
      "|     2015|   2015|          NC|      North Carolina|Alcohol|Alcohol use among...|            %|Crude Prevalence|        24.2|              17.9|               31.8|         Race/Ethnicity|           Hispanic|[-79.159250462999...|        37|    ALC|    ALC1_1|        CRDPREV|\n",
      "|     2017|   2017|          SC|      South Carolina|Alcohol|Alcohol use among...|            %|Crude Prevalence|        22.9|              18.1|               28.5|                 Gender|               Male|[-81.045371206999...|        45|    ALC|    ALC1_1|        CRDPREV|\n",
      "|     2013|   2013|          NJ|          New Jersey|Alcohol|Alcohol use among...|            %|Crude Prevalence|        22.5|              18.3|               27.4|         Race/Ethnicity|Asian, non-Hispanic|[-74.273691287999...|        34|    ALC|    ALC1_1|        CRDPREV|\n",
      "|     2019|   2019|          DC|District of Columbia|Alcohol|Alcohol use among...|            %|Crude Prevalence|        20.1|              18.4|               21.8|         Race/Ethnicity|           Hispanic|[-77.036871, 38.9...|        11|    ALC|    ALC1_1|        CRDPREV|\n",
      "|     2019|   2019|          NC|      North Carolina|Alcohol|Alcohol use among...|            %|Crude Prevalence|        21.2|              18.4|               24.2|                 Gender|               Male|[-79.159250462999...|        37|    ALC|    ALC1_1|        CRDPREV|\n",
      "|     2013|   2013|          NE|            Nebraska|Alcohol|Alcohol use among...|            %|Crude Prevalence|        22.4|              19.0|               26.1|         Race/Ethnicity|White, non-Hispanic|[-99.365720622999...|        31|    ALC|    ALC1_1|        CRDPREV|\n",
      "|     2017|   2017|          AK|              Alaska|Alcohol|Alcohol use among...|            %|Crude Prevalence|        22.8|              19.2|               26.8|                Overall|            Overall|[-147.72205903599...|         2|    ALC|    ALC1_1|        CRDPREV|\n",
      "|     2013|   2013|          VA|            Virginia|Alcohol|Alcohol use among...|            %|Crude Prevalence|        24.9|              19.9|               30.7|         Race/Ethnicity|           Hispanic|[-78.457890462999...|        51|    ALC|    ALC1_1|        CRDPREV|\n",
      "|     2013|   2013|          CT|         Connecticut|Alcohol|Alcohol use among...|            %|Crude Prevalence|        27.9|              19.9|               37.7|         Race/Ethnicity|Black, non-Hispanic|[-72.649840951999...|         9|    ALC|    ALC1_1|        CRDPREV|\n",
      "|     2017|   2017|          NE|            Nebraska|Alcohol|Alcohol use among...|            %|Crude Prevalence|        27.0|              20.1|               35.2|         Race/Ethnicity|           Hispanic|[-99.365720622999...|        31|    ALC|    ALC1_1|        CRDPREV|\n",
      "|     2019|   2019|          KY|            Kentucky|Alcohol|Alcohol use among...|            %|Crude Prevalence|        23.6|              20.2|               27.3|                 Gender|               Male|[-84.774971047999...|        21|    ALC|    ALC1_1|        CRDPREV|\n",
      "+---------+-------+------------+--------------------+-------+--------------------+-------------+----------------+------------+------------------+-------------------+-----------------------+-------------------+--------------------+----------+-------+----------+---------------+\n",
      "only showing top 20 rows\n",
      "\n"
     ]
    }
   ],
   "source": [
    "test_spark_df_00_10 = test_spark_df_00_10.withColumn(\"GeoLocation\", f.regexp_extract_all(f.col(\"GeoLocation\"), f.lit(\"(-*\\\\d+.\\\\d+)\"), 1))\n",
    "test_spark_df_00_10.show()"
   ]
  },
  {
   "cell_type": "markdown",
   "id": "f94d6c7d",
   "metadata": {},
   "source": [
    "# Cast latitude and longitude str columns to doubles"
   ]
  },
  {
   "cell_type": "code",
   "execution_count": 36,
   "id": "bd5b48d8",
   "metadata": {},
   "outputs": [],
   "source": [
    "test_spark_df_00_10 = test_spark_df_00_10.withColumn(\"Latitude\", test_spark_df_00_10.GeoLocation[0].cast(DoubleType()))\n",
    "test_spark_df_00_10 = test_spark_df_00_10.withColumn(\"Longitude\", test_spark_df_00_10.GeoLocation[1].cast(DoubleType()))"
   ]
  },
  {
   "cell_type": "markdown",
   "id": "cec9dd66",
   "metadata": {},
   "source": [
    "# Delete GeoLocation after extracting latitude and longitude as this is redundant"
   ]
  },
  {
   "cell_type": "code",
   "execution_count": 37,
   "id": "a90572cb",
   "metadata": {},
   "outputs": [
    {
     "name": "stdout",
     "output_type": "stream",
     "text": [
      "+---------+-------+------------+-------------+-------+--------------------+-------------+----------------+------------+------------------+-------------------+-----------------------+-------------------+----------+-------+----------+---------------+-------------------+------------------+\n",
      "|YearStart|YearEnd|LocationAbbr| LocationDesc|  Topic|            Question|DataValueUnit|   DataValueType|DataValueAlt|LowConfidenceLimit|HighConfidenceLimit|StratificationCategory1|    Stratification1|LocationID|TopicID|QuestionID|DataValueTypeID|           Latitude|         Longitude|\n",
      "+---------+-------+------------+-------------+-------+--------------------+-------------+----------------+------------+------------------+-------------------+-----------------------+-------------------+----------+-------+----------+---------------+-------------------+------------------+\n",
      "|     2015|   2015|          RI| Rhode Island|Alcohol|Alcohol use among...|            %|Crude Prevalence|        12.6|               7.3|               21.0|         Race/Ethnicity|Asian, non-Hispanic|        44|    ALC|    ALC1_1|        CRDPREV| -71.52247031399963| 41.70828019300046|\n",
      "|     2015|   2015|          US|United States|Alcohol|Alcohol use among...|            %|Crude Prevalence|        13.1|               9.8|               17.3|         Race/Ethnicity|Asian, non-Hispanic|        59|    ALC|    ALC1_1|        CRDPREV|               NULL|              NULL|\n",
      "|     2019|   2019|          HI|       Hawaii|Alcohol|Alcohol use among...|            %|Crude Prevalence|        14.2|              11.7|               17.0|         Race/Ethnicity|Asian, non-Hispanic|        15|    ALC|    ALC1_1|        CRDPREV|-157.85774940299973|21.304850435000446|\n",
      "|     2015|   2015|          CA|   California|Alcohol|Alcohol use among...|            %|Crude Prevalence|        17.1|              11.9|               23.9|         Race/Ethnicity|Asian, non-Hispanic|         6|    ALC|    ALC1_1|        CRDPREV|-120.99999953799971| 37.63864012300047|\n",
      "|     2019|   2019|          MS|  Mississippi|Alcohol|Alcohol use among...|            %|Crude Prevalence|        18.2|              15.1|               21.8|         Race/Ethnicity|Black, non-Hispanic|        28|    ALC|    ALC1_1|        CRDPREV| -89.53803082499968|32.745510099000455|\n",
      "+---------+-------+------------+-------------+-------+--------------------+-------------+----------------+------------+------------------+-------------------+-----------------------+-------------------+----------+-------+----------+---------------+-------------------+------------------+\n",
      "only showing top 5 rows\n",
      "\n"
     ]
    }
   ],
   "source": [
    "test_spark_df_00_10 = test_spark_df_00_10.drop(*[\"GeoLocation\"])\n",
    "test_spark_df_00_10.show(5)"
   ]
  },
  {
   "cell_type": "markdown",
   "id": "ea107691",
   "metadata": {},
   "source": [
    "# rename datavaluealt column (which is already a double) to just datavalue "
   ]
  },
  {
   "cell_type": "code",
   "execution_count": 38,
   "id": "be1f6f8b",
   "metadata": {},
   "outputs": [
    {
     "name": "stdout",
     "output_type": "stream",
     "text": [
      "+---------+-------+------------+-------------+-------+--------------------+-------------+----------------+---------+------------------+-------------------+-----------------------+-------------------+----------+-------+----------+---------------+-------------------+------------------+\n",
      "|YearStart|YearEnd|LocationAbbr| LocationDesc|  Topic|            Question|DataValueUnit|   DataValueType|DataValue|LowConfidenceLimit|HighConfidenceLimit|StratificationCategory1|    Stratification1|LocationID|TopicID|QuestionID|DataValueTypeID|           Latitude|         Longitude|\n",
      "+---------+-------+------------+-------------+-------+--------------------+-------------+----------------+---------+------------------+-------------------+-----------------------+-------------------+----------+-------+----------+---------------+-------------------+------------------+\n",
      "|     2015|   2015|          RI| Rhode Island|Alcohol|Alcohol use among...|            %|Crude Prevalence|     12.6|               7.3|               21.0|         Race/Ethnicity|Asian, non-Hispanic|        44|    ALC|    ALC1_1|        CRDPREV| -71.52247031399963| 41.70828019300046|\n",
      "|     2015|   2015|          US|United States|Alcohol|Alcohol use among...|            %|Crude Prevalence|     13.1|               9.8|               17.3|         Race/Ethnicity|Asian, non-Hispanic|        59|    ALC|    ALC1_1|        CRDPREV|               NULL|              NULL|\n",
      "|     2019|   2019|          HI|       Hawaii|Alcohol|Alcohol use among...|            %|Crude Prevalence|     14.2|              11.7|               17.0|         Race/Ethnicity|Asian, non-Hispanic|        15|    ALC|    ALC1_1|        CRDPREV|-157.85774940299973|21.304850435000446|\n",
      "|     2015|   2015|          CA|   California|Alcohol|Alcohol use among...|            %|Crude Prevalence|     17.1|              11.9|               23.9|         Race/Ethnicity|Asian, non-Hispanic|         6|    ALC|    ALC1_1|        CRDPREV|-120.99999953799971| 37.63864012300047|\n",
      "|     2019|   2019|          MS|  Mississippi|Alcohol|Alcohol use among...|            %|Crude Prevalence|     18.2|              15.1|               21.8|         Race/Ethnicity|Black, non-Hispanic|        28|    ALC|    ALC1_1|        CRDPREV| -89.53803082499968|32.745510099000455|\n",
      "+---------+-------+------------+-------------+-------+--------------------+-------------+----------------+---------+------------------+-------------------+-----------------------+-------------------+----------+-------+----------+---------------+-------------------+------------------+\n",
      "only showing top 5 rows\n",
      "\n"
     ]
    }
   ],
   "source": [
    "test_spark_df_00_10 = test_spark_df_00_10.withColumnRenamed(\"DataValueAlt\", \"DataValue\")\n",
    "test_spark_df_00_10.show(5)"
   ]
  },
  {
   "cell_type": "markdown",
   "id": "b35fd48a",
   "metadata": {},
   "source": [
    "# Replace `per 100,000` and `per 100,000 residents` with `cases per 100,000` instead to reduce redundancy"
   ]
  },
  {
   "cell_type": "code",
   "execution_count": 39,
   "id": "6a305d7d",
   "metadata": {},
   "outputs": [
    {
     "data": {
      "text/plain": [
       "[Row(DataValueUnit='Number'),\n",
       " Row(DataValueUnit='cases per 1,000,000'),\n",
       " Row(DataValueUnit='per 100,000'),\n",
       " Row(DataValueUnit='cases per 10,000'),\n",
       " Row(DataValueUnit='pack sales per capita'),\n",
       " Row(DataValueUnit='cases per 100,000'),\n",
       " Row(DataValueUnit='Years'),\n",
       " Row(DataValueUnit='%'),\n",
       " Row(DataValueUnit='gallons'),\n",
       " Row(DataValueUnit='per 100,000 residents'),\n",
       " Row(DataValueUnit='cases per 1,000'),\n",
       " Row(DataValueUnit='$')]"
      ]
     },
     "execution_count": 39,
     "metadata": {},
     "output_type": "execute_result"
    }
   ],
   "source": [
    "test_spark_df_00_10.select(\"DataValueUnit\").distinct().collect()"
   ]
  },
  {
   "cell_type": "code",
   "execution_count": 40,
   "id": "55789afe",
   "metadata": {},
   "outputs": [
    {
     "name": "stdout",
     "output_type": "stream",
     "text": [
      "+---------+-------+------------+--------------------+-------+--------------------+-------------+----------------+---------+------------------+-------------------+-----------------------+-------------------+----------+-------+----------+---------------+-------------------+------------------+\n",
      "|YearStart|YearEnd|LocationAbbr|        LocationDesc|  Topic|            Question|DataValueUnit|   DataValueType|DataValue|LowConfidenceLimit|HighConfidenceLimit|StratificationCategory1|    Stratification1|LocationID|TopicID|QuestionID|DataValueTypeID|           Latitude|         Longitude|\n",
      "+---------+-------+------------+--------------------+-------+--------------------+-------------+----------------+---------+------------------+-------------------+-----------------------+-------------------+----------+-------+----------+---------------+-------------------+------------------+\n",
      "|     2015|   2015|          RI|        Rhode Island|Alcohol|Alcohol use among...|            %|Crude Prevalence|     12.6|               7.3|               21.0|         Race/Ethnicity|Asian, non-Hispanic|        44|    ALC|    ALC1_1|        CRDPREV| -71.52247031399963| 41.70828019300046|\n",
      "|     2015|   2015|          US|       United States|Alcohol|Alcohol use among...|            %|Crude Prevalence|     13.1|               9.8|               17.3|         Race/Ethnicity|Asian, non-Hispanic|        59|    ALC|    ALC1_1|        CRDPREV|               NULL|              NULL|\n",
      "|     2019|   2019|          HI|              Hawaii|Alcohol|Alcohol use among...|            %|Crude Prevalence|     14.2|              11.7|               17.0|         Race/Ethnicity|Asian, non-Hispanic|        15|    ALC|    ALC1_1|        CRDPREV|-157.85774940299973|21.304850435000446|\n",
      "|     2015|   2015|          CA|          California|Alcohol|Alcohol use among...|            %|Crude Prevalence|     17.1|              11.9|               23.9|         Race/Ethnicity|Asian, non-Hispanic|         6|    ALC|    ALC1_1|        CRDPREV|-120.99999953799971| 37.63864012300047|\n",
      "|     2019|   2019|          MS|         Mississippi|Alcohol|Alcohol use among...|            %|Crude Prevalence|     18.2|              15.1|               21.8|         Race/Ethnicity|Black, non-Hispanic|        28|    ALC|    ALC1_1|        CRDPREV| -89.53803082499968|32.745510099000455|\n",
      "|     2019|   2019|          NM|          New Mexico|Alcohol|Alcohol use among...|            %|Crude Prevalence|     23.8|              15.8|               34.3|         Race/Ethnicity|Black, non-Hispanic|        35|    ALC|    ALC1_1|        CRDPREV|-106.24058098499967| 34.52088095200048|\n",
      "|     2015|   2015|          MD|            Maryland|Alcohol|Alcohol use among...|            %|Crude Prevalence|     18.1|              17.2|               19.1|         Race/Ethnicity|Black, non-Hispanic|        24|    ALC|    ALC1_1|        CRDPREV| -76.60926011099963| 39.29058096400047|\n",
      "|     2013|   2013|          WI|           Wisconsin|Alcohol|Alcohol use among...|            %|Crude Prevalence|     23.4|              17.3|               30.7|         Race/Ethnicity|Asian, non-Hispanic|        55|    ALC|    ALC1_1|        CRDPREV| -89.81637074199966| 44.39319117400049|\n",
      "|     2019|   2019|          NE|            Nebraska|Alcohol|Alcohol use among...|            %|Crude Prevalence|     21.6|              17.7|               26.2|         Race/Ethnicity|White, non-Hispanic|        31|    ALC|    ALC1_1|        CRDPREV| -99.36572062299967|  41.6410409880005|\n",
      "|     2015|   2015|          NC|      North Carolina|Alcohol|Alcohol use among...|            %|Crude Prevalence|     24.2|              17.9|               31.8|         Race/Ethnicity|           Hispanic|        37|    ALC|    ALC1_1|        CRDPREV| -79.15925046299964|35.466220975000454|\n",
      "|     2017|   2017|          SC|      South Carolina|Alcohol|Alcohol use among...|            %|Crude Prevalence|     22.9|              18.1|               28.5|                 Gender|               Male|        45|    ALC|    ALC1_1|        CRDPREV| -81.04537120699968|33.998821303000454|\n",
      "|     2013|   2013|          NJ|          New Jersey|Alcohol|Alcohol use among...|            %|Crude Prevalence|     22.5|              18.3|               27.4|         Race/Ethnicity|Asian, non-Hispanic|        34|    ALC|    ALC1_1|        CRDPREV| -74.27369128799967| 40.13057004800049|\n",
      "|     2019|   2019|          DC|District of Columbia|Alcohol|Alcohol use among...|            %|Crude Prevalence|     20.1|              18.4|               21.8|         Race/Ethnicity|           Hispanic|        11|    ALC|    ALC1_1|        CRDPREV|         -77.036871|         38.907192|\n",
      "|     2019|   2019|          NC|      North Carolina|Alcohol|Alcohol use among...|            %|Crude Prevalence|     21.2|              18.4|               24.2|                 Gender|               Male|        37|    ALC|    ALC1_1|        CRDPREV| -79.15925046299964|35.466220975000454|\n",
      "|     2013|   2013|          NE|            Nebraska|Alcohol|Alcohol use among...|            %|Crude Prevalence|     22.4|              19.0|               26.1|         Race/Ethnicity|White, non-Hispanic|        31|    ALC|    ALC1_1|        CRDPREV| -99.36572062299967|  41.6410409880005|\n",
      "|     2017|   2017|          AK|              Alaska|Alcohol|Alcohol use among...|            %|Crude Prevalence|     22.8|              19.2|               26.8|                Overall|            Overall|         2|    ALC|    ALC1_1|        CRDPREV|-147.72205903599973| 64.84507995700051|\n",
      "|     2013|   2013|          VA|            Virginia|Alcohol|Alcohol use among...|            %|Crude Prevalence|     24.9|              19.9|               30.7|         Race/Ethnicity|           Hispanic|        51|    ALC|    ALC1_1|        CRDPREV| -78.45789046299967| 37.54268067400045|\n",
      "|     2013|   2013|          CT|         Connecticut|Alcohol|Alcohol use among...|            %|Crude Prevalence|     27.9|              19.9|               37.7|         Race/Ethnicity|Black, non-Hispanic|         9|    ALC|    ALC1_1|        CRDPREV| -72.64984095199964| 41.56266102000046|\n",
      "|     2017|   2017|          NE|            Nebraska|Alcohol|Alcohol use among...|            %|Crude Prevalence|     27.0|              20.1|               35.2|         Race/Ethnicity|           Hispanic|        31|    ALC|    ALC1_1|        CRDPREV| -99.36572062299967|  41.6410409880005|\n",
      "|     2019|   2019|          KY|            Kentucky|Alcohol|Alcohol use among...|            %|Crude Prevalence|     23.6|              20.2|               27.3|                 Gender|               Male|        21|    ALC|    ALC1_1|        CRDPREV| -84.77497104799966|37.645970271000465|\n",
      "+---------+-------+------------+--------------------+-------+--------------------+-------------+----------------+---------+------------------+-------------------+-----------------------+-------------------+----------+-------+----------+---------------+-------------------+------------------+\n",
      "only showing top 20 rows\n",
      "\n"
     ]
    }
   ],
   "source": [
    "cases = f.when(f.col(\"DataValueUnit\") == \"per 100,000\", \"cases per 100,000\")\\\n",
    ".when(f.col(\"DataValueUnit\") == \"per 100,000 residents\", \"cases per 100,000\")\\\n",
    ".otherwise(f.col(\"DataValueUnit\"))\n",
    "test_spark_df_00_10 = test_spark_df_00_10.withColumn(\"DataValueUnit\", cases)\n",
    "test_spark_df_00_10.show()"
   ]
  },
  {
   "cell_type": "code",
   "execution_count": 41,
   "id": "b67dbf85",
   "metadata": {},
   "outputs": [
    {
     "data": {
      "text/plain": [
       "[Row(DataValueUnit='Number'),\n",
       " Row(DataValueUnit='cases per 1,000,000'),\n",
       " Row(DataValueUnit='cases per 10,000'),\n",
       " Row(DataValueUnit='pack sales per capita'),\n",
       " Row(DataValueUnit='cases per 100,000'),\n",
       " Row(DataValueUnit='Years'),\n",
       " Row(DataValueUnit='%'),\n",
       " Row(DataValueUnit='gallons'),\n",
       " Row(DataValueUnit='cases per 1,000'),\n",
       " Row(DataValueUnit='$')]"
      ]
     },
     "execution_count": 41,
     "metadata": {},
     "output_type": "execute_result"
    }
   ],
   "source": [
    "test_spark_df_00_10.select(\"DataValueUnit\").distinct().collect()"
   ]
  },
  {
   "cell_type": "markdown",
   "id": "420e6d7f",
   "metadata": {},
   "source": [
    "# Extract out the age brackets in each question if there are any. \n",
    "in previous experimentation the unique age brackets found were the ff.\n",
    "```\n",
    "['aged >= 18 years',\n",
    " 'aged >= 65 years',\n",
    " 'aged 18-64 years',\n",
    " 'aged >= 45 years',\n",
    " 'aged 18-44 years',\n",
    " 'aged 45-64 years',\n",
    " 'aged 50-75 years',\n",
    " 'aged 50-64 years',\n",
    " 'aged 21-65 years',\n",
    " 'aged 50-74 years',\n",
    " 'aged 18-24 years',\n",
    " 'aged 1-17 years',\n",
    " 'aged 21-44 years',\n",
    " 'aged >= 14 years']\n",
    "```\n",
    "\n",
    "however other strings that might imply an age bracket would be the youth which is defined by United Nations—without prejudice to any other definitions made by Member States, as the persons between the ages of 18 and 24 years. Others like high school students may according to data from US range from ages 14 to 18, middle school is 11 to 13, and elementary school is 5 to 10\n",
    "\n"
   ]
  },
  {
   "cell_type": "code",
   "execution_count": 51,
   "id": "12e0ffbc",
   "metadata": {},
   "outputs": [
    {
     "data": {
      "text/plain": [
       "[Row(Question='Cancer of the female cervix, mortality'),\n",
       " Row(Question='Soda consumption among high school students'),\n",
       " Row(Question='Chronic liver disease mortality'),\n",
       " Row(Question='Invasive cancer (all sites combined), incidence'),\n",
       " Row(Question='Prevalence of gestational diabetes'),\n",
       " Row(Question='Fecal occult blood test, sigmoidoscopy, or colonoscopy among adults aged 50-75 years'),\n",
       " Row(Question='Prevalence of activity limitation among adults >= 18 with diagnosed chronic obstructive pulmonary disease'),\n",
       " Row(Question='Per capita alcohol consumption among persons aged >= 14 years'),\n",
       " Row(Question='Cancer of the female breast, mortality'),\n",
       " Row(Question='Heavy drinking among adults aged >= 18 years'),\n",
       " Row(Question='Visits to dentist or dental clinic among adults aged >= 18 years with diagnosed diabetes'),\n",
       " Row(Question='Prevalence of current smoking among adults >= 45 years with diagnosed chronic obstructive pulmonary disease'),\n",
       " Row(Question='Farmers markets that accept Supplemental Nutrition Assistance Program (SNAP) benefits'),\n",
       " Row(Question='Pneumococcal vaccination among noninstitutionalized adults aged >= 65 years who smoke'),\n",
       " Row(Question='Prevalence of high blood pressure among adults aged >= 18 years with diagnosed diabetes'),\n",
       " Row(Question='Pneumococcal vaccination among noninstitutionalized adults aged 18-64 years who smoke'),\n",
       " Row(Question='Obesity among adults aged >= 18 years'),\n",
       " Row(Question='Overweight or obesity among high school students'),\n",
       " Row(Question='Timeliness of routine health care checkup among women aged 18-44 years'),\n",
       " Row(Question='Percent tobacco revenue to fund at CDC recommended level'),\n",
       " Row(Question='Hospitalization for acute myocardial infarction'),\n",
       " Row(Question='Mortality from coronary heart disease'),\n",
       " Row(Question='Pneumococcal vaccination among noninstitutionalized adults aged >= 45 years with chronic obstructive pulmonary disease'),\n",
       " Row(Question='Invasive cancer of the prostate, incidence'),\n",
       " Row(Question='Median daily frequency of vegetable consumption among high school students'),\n",
       " Row(Question='Secondary schools that allow students to purchase sports drinks'),\n",
       " Row(Question='Self-rated health status among women aged 18-44 years'),\n",
       " Row(Question='Hospitalization for stroke'),\n",
       " Row(Question='Prevalence of depressive disorders among adults aged >= 18 years with diagnosed diabetes'),\n",
       " Row(Question='Pneumococcal vaccination among noninstitutionalized adults aged >= 65 years with a history of coronary heart disease'),\n",
       " Row(Question='Television viewing among high school students'),\n",
       " Row(Question='Mortality from total cardiovascular diseases'),\n",
       " Row(Question='Participation in daily school physical education classes among high school students'),\n",
       " Row(Question='Current cigarette smoking among women aged 18-44 years'),\n",
       " Row(Question='Arthritis among adults aged >= 18 years who have diabetes'),\n",
       " Row(Question='Prevalence of chronic obstructive pulmonary disease among adults >= 18'),\n",
       " Row(Question='Hospitalization for chronic obstructive pulmonary disease as first-listed diagnosis'),\n",
       " Row(Question='Heavy drinking among women aged 18-44 years'),\n",
       " Row(Question='Hospitalizations for asthma'),\n",
       " Row(Question='Pneumococcal vaccination among noninstitutionalized adults aged >= 65 years with diagnosed diabetes'),\n",
       " Row(Question='Secondary schools that have a comprehensive tobacco-free school policy in place'),\n",
       " Row(Question='Fair or poor self-rated health status among adults aged >= 18 years'),\n",
       " Row(Question='Number of farmers markets per 100,000 residents'),\n",
       " Row(Question='Recent activity limitation among adults aged >= 18 years'),\n",
       " Row(Question='Prevalence of 2 or more chronic conditions among Medicare-enrolled persons aged >= 65 years'),\n",
       " Row(Question='Receiving formula supplementation within the first 2 days of life among breastfed infants'),\n",
       " Row(Question='Median daily frequency of fruit consumption among high school students'),\n",
       " Row(Question='Arthritis among adults aged >= 18 years'),\n",
       " Row(Question='Hospitalization for chronic obstructive pulmonary disease as any diagnosis'),\n",
       " Row(Question='Recent physically unhealthy days among adults aged >= 18 years'),\n",
       " Row(Question='Adults with diagnosed diabetes aged >= 18 years who have taken a diabetes self-management course'),\n",
       " Row(Question='Mortality with diabetic ketoacidosis reported as any listed cause of death'),\n",
       " Row(Question='Asthma mortality rate'),\n",
       " Row(Question='Dental visits among children and adolescents aged 1-17 years'),\n",
       " Row(Question='Hospitalization for heart failure among Medicare-eligible persons aged >= 65 years'),\n",
       " Row(Question='Work limitation due to arthritis among adults aged 18-64 years who have doctor-diagnosed arthritis'),\n",
       " Row(Question='At least 14 recent mentally unhealthy days among women aged 18-44 years'),\n",
       " Row(Question='Hospitalization with diabetes as a listed diagnosis'),\n",
       " Row(Question='Life expectancy at birth'),\n",
       " Row(Question='Prevalence of chronic obstructive pulmonary disease among adults >= 45 years'),\n",
       " Row(Question='Farmers markets that accept Women and Infant Children (WIC) farmers market nutrition program coupons'),\n",
       " Row(Question='Visits to dentist or dental clinic among adults aged >= 18 years'),\n",
       " Row(Question='Melanoma, mortality'),\n",
       " Row(Question='Proportion of older adults aged 50-64 years who are up to date on a core set of clinical preventive services'),\n",
       " Row(Question='Population served by community water systems that receive fluoridated drinking water'),\n",
       " Row(Question='Taking medicine for high blood pressure control among adults aged >= 18 years with high blood pressure'),\n",
       " Row(Question='Current cigarette smoking among youth'),\n",
       " Row(Question='Overweight or obesity among adults aged >= 18 years'),\n",
       " Row(Question='Prevalence of sufficient sleep among adults aged >= 18 years'),\n",
       " Row(Question='Oral health services at Federally Qualified Health Centers'),\n",
       " Row(Question='Pneumococcal vaccination among noninstitutionalized adults aged 18-64 years with diagnosed diabetes'),\n",
       " Row(Question='Health insurance coverage before pregnancy'),\n",
       " Row(Question='Activity limitation due to arthritis among adults aged >= 18 years who have doctor-diagnosed arthritis'),\n",
       " Row(Question='Foot examination among adults aged >= 18 years with diagnosed diabetes'),\n",
       " Row(Question='Postpartum checkup'),\n",
       " Row(Question='Mammography use among women aged 50-74 years'),\n",
       " Row(Question='Awareness of high blood pressure among adults aged >= 18 years'),\n",
       " Row(Question='Meeting aerobic physical activity guidelines for substantial health benefits and for muscle-strengthening activity among adults aged >= 18 years'),\n",
       " Row(Question='Healthy weight among high school students'),\n",
       " Row(Question='Amount of alcohol excise tax by beverage type (wine)'),\n",
       " Row(Question='Adults aged >= 18 years with arthritis who have taken a class to learn how to manage arthritis symptoms'),\n",
       " Row(Question='Sale of cigarette packs'),\n",
       " Row(Question='Current asthma prevalence among adults aged >= 18 years'),\n",
       " Row(Question='No tooth loss among adults aged 18-64 years'),\n",
       " Row(Question='Prevalence of high cholesterol among adults aged >= 18 years with diagnosed diabetes'),\n",
       " Row(Question='High school completion among women aged 18-44 years'),\n",
       " Row(Question='Secondary schools that offer less healthy foods as competitive foods'),\n",
       " Row(Question='Mortality with end-stage renal disease'),\n",
       " Row(Question='Awareness of high blood pressure among women aged 18-44 years'),\n",
       " Row(Question='Dilated eye examination among adults aged >= 18 years with diagnosed diabetes'),\n",
       " Row(Question='Emergency department visit rate for chronic obstructive pulmonary disease as first-listed diagnosis'),\n",
       " Row(Question='Prevalence of diagnosed diabetes among adults aged >= 18 years'),\n",
       " Row(Question='Cholesterol screening among adults aged >= 18 years'),\n",
       " Row(Question='Preventive dental visits among children and adolescents aged 1-17 years'),\n",
       " Row(Question='Current health care coverage among women aged 18-44 years'),\n",
       " Row(Question='Binge drinking prevalence among youth'),\n",
       " Row(Question='Cancer of the lung and bronchus, mortality'),\n",
       " Row(Question='Mortality from heart failure'),\n",
       " Row(Question='Fair or poor health among adults aged >= 18 years with arthritis'),\n",
       " Row(Question='Influenza vaccination among noninstitutionalized adults aged >= 18 years'),\n",
       " Row(Question='Hospitalization for chronic obstructive pulmonary disease as any diagnosis among Medicare-eligible persons aged >= 65 years'),\n",
       " Row(Question='Influenza vaccination among noninstitutionalized adults aged >= 65 years with a history of coronary heart disease or stroke'),\n",
       " Row(Question='Secondary schools that allow students to purchase soda or fruit drinks'),\n",
       " Row(Question='Overweight or obesity among women aged 18-44 years'),\n",
       " Row(Question='Binge drinking prevalence among women aged 18-44 years'),\n",
       " Row(Question='Live births occurring at Baby Friendly Facilities'),\n",
       " Row(Question='Cancer of the colon and rectum (colorectal), mortality'),\n",
       " Row(Question='Glycosylated hemoglobin measurement among adults aged >= 18 years with diagnosed diabetes'),\n",
       " Row(Question='Mortality with chronic obstructive pulmonary disease as underlying or contributing cause among adults aged >= 45 years'),\n",
       " Row(Question='Amount of alcohol excise tax by beverage type (distilled spirits)'),\n",
       " Row(Question='Postpartum depressive symptoms'),\n",
       " Row(Question='Mortality from diseases of the heart'),\n",
       " Row(Question='Cigarette smoking before pregnancy'),\n",
       " Row(Question='Current smokeless tobacco use among youth'),\n",
       " Row(Question='Cancer of the prostate, mortality'),\n",
       " Row(Question='Invasive cancer of the female breast, incidence'),\n",
       " Row(Question='Computer use among high school students'),\n",
       " Row(Question='Current smoking among adults aged >= 18 years'),\n",
       " Row(Question='Influenza vaccination among noninstitutionalized adults aged >= 65 years with diagnosed diabetes'),\n",
       " Row(Question='Quit attempts in the past year among current smokers'),\n",
       " Row(Question='Poverty'),\n",
       " Row(Question='Alcohol use among youth'),\n",
       " Row(Question='Arthritis among adults aged >= 18 years who are obese'),\n",
       " Row(Question='Pneumococcal vaccination among noninstitutionalized adults aged 18-64 years with asthma'),\n",
       " Row(Question='Premature mortality among adults aged 45-64 years'),\n",
       " Row(Question='Prevalence of activity limitation among adults >= 45 years with diagnosed chronic obstructive pulmonary disease'),\n",
       " Row(Question='Secondary schools that allow community-sponsored use of physical activity facilities by youth outside of normal school hours'),\n",
       " Row(Question='Mortality with chronic obstructive pulmonary disease as underlying cause among adults aged >= 45 years'),\n",
       " Row(Question='Emergency department visit rate for chronic obstructive pulmonary disease as any diagnosis'),\n",
       " Row(Question='Median daily frequency of fruit consumption among adults aged >= 18 years'),\n",
       " Row(Question='Emergency department visit rate for asthma'),\n",
       " Row(Question='Median daily frequency of vegetable consumption among adults aged >= 18 years'),\n",
       " Row(Question='Prevalence of current smoking among adults >= 18 with diagnosed chronic obstructive pulmonary disease'),\n",
       " Row(Question='Mortality from cerebrovascular disease (stroke)'),\n",
       " Row(Question='No leisure-time physical activity among adults aged >= 18 years'),\n",
       " Row(Question='Preventive dental care before pregnancy'),\n",
       " Row(Question='Binge drinking frequency among adults aged >= 18 years who binge drink'),\n",
       " Row(Question='Amount of alcohol excise tax by beverage type (beer)'),\n",
       " Row(Question='Disability among adults aged >= 65 years'),\n",
       " Row(Question='Asthma prevalence among women aged 18-44 years'),\n",
       " Row(Question='Invasive cancer of the cervix, incidence'),\n",
       " Row(Question='Meeting aerobic physical activity guidelines for substantial health benefits among adults aged >= 18 years'),\n",
       " Row(Question='Physical inactivity among adults aged >= 18 years with arthritis'),\n",
       " Row(Question='Folic acid supplementation'),\n",
       " Row(Question='Current smokeless tobacco use among adults aged >= 18 years'),\n",
       " Row(Question='Mean maternity practices in infant nutrition care (mPINC) score'),\n",
       " Row(Question='Papanicolaou smear use among adult women aged 21-65 years'),\n",
       " Row(Question='Obesity among high school students'),\n",
       " Row(Question='Invasive cancer (all sites combined), mortality'),\n",
       " Row(Question='Meeting aerobic physical activity guidelines for additional and more extensive health benefits among adults aged >= 18 years'),\n",
       " Row(Question='Hospitalization for hip fracture among Medicare-eligible persons aged >= 65 years'),\n",
       " Row(Question='Cancer of the oral cavity and pharynx, mortality'),\n",
       " Row(Question='Pneumococcal vaccination among noninstitutionalized adults aged 18-64 years with a history of coronary heart disease'),\n",
       " Row(Question='Binge drinking intensity among adults aged >= 18 years who binge drink'),\n",
       " Row(Question='Life expectancy at age 65 years'),\n",
       " Row(Question='Prevalence of pre-pregnancy diabetes'),\n",
       " Row(Question='Influenza vaccination among noninstitutionalized adults aged >= 65 years with asthma'),\n",
       " Row(Question='Alcohol use before pregnancy'),\n",
       " Row(Question='Amputation of a lower extremity attributable to diabetes'),\n",
       " Row(Question='Poverty among women aged 18-44 years'),\n",
       " Row(Question='Prevalence of chronic kidney disease among adults aged >= 18 years'),\n",
       " Row(Question='Census tracts with healthier food retailers within � mile of boundary'),\n",
       " Row(Question='Meeting aerobic physical activity guidelines among high school students'),\n",
       " Row(Question='Hospitalization for chronic obstructive pulmonary disease as first-listed diagnosis among Medicare-eligible persons aged >= 65 years'),\n",
       " Row(Question='Cancer of the lung and bronchus, incidence'),\n",
       " Row(Question='Invasive melanoma, incidence'),\n",
       " Row(Question='Cancer of the colon and rectum (colorectal), incidence'),\n",
       " Row(Question='Healthy weight among adults aged >= 18 years'),\n",
       " Row(Question='Recent Papanicolaou smear use among women aged 21-44 years'),\n",
       " Row(Question='Diabetes prevalence among women aged 18-44 years'),\n",
       " Row(Question='Proportion of older adults aged >= 65 years who are up to date on a core set of clinical preventive services'),\n",
       " Row(Question='Influenza vaccination among noninstitutionalized adults aged 18-64 years with diagnosed diabetes'),\n",
       " Row(Question='Recent mentally unhealthy days among adults aged >= 18 years'),\n",
       " Row(Question='Arthritis among adults aged >= 18 years who have heart disease'),\n",
       " Row(Question='Influenza vaccination among noninstitutionalized adults aged 18-64 years with asthma'),\n",
       " Row(Question='Incidence of treated end-stage renal disease'),\n",
       " Row(Question='High school completion among adults aged 18-24 years'),\n",
       " Row(Question='Severe joint pain due to arthritis among adults aged >= 18 years who have doctor-diagnosed arthritis'),\n",
       " Row(Question='Current lack of health insurance among adults aged 18-64 years'),\n",
       " Row(Question='Binge drinking prevalence among adults aged >= 18 years'),\n",
       " Row(Question='Proportion of the population protected by a comprehensive smoke-free policy prohibiting smoking in all indoor areas of workplaces and public places, including restaurants and bars'),\n",
       " Row(Question='Pneumococcal vaccination among noninstitutionalized adults aged >= 65 years with asthma'),\n",
       " Row(Question='High cholesterol prevalence among adults aged >= 18 years'),\n",
       " Row(Question='Six or more teeth lost among adults aged >= 65 years'),\n",
       " Row(Question='Incidence of treated end-stage renal disease attributed to diabetes'),\n",
       " Row(Question='All teeth lost among adults aged >= 65 years'),\n",
       " Row(Question='Infants breastfed at 6 months'),\n",
       " Row(Question='Influenza vaccination among noninstitutionalized adults aged >= 45 years with chronic obstructive pulmonary disease'),\n",
       " Row(Question='Mortality due to diabetes reported as any listed cause of death'),\n",
       " Row(Question='Influenza vaccination among noninstitutionalized adults aged 18-64 years with a history of coronary heart disease or stroke'),\n",
       " Row(Question='Invasive cancer of the oral cavity or pharynx, incidence'),\n",
       " Row(Question='Pre-pregnancy hypertension')]"
      ]
     },
     "execution_count": 51,
     "metadata": {},
     "output_type": "execute_result"
    }
   ],
   "source": [
    "test_spark_df_00_10.select(\"Question\").distinct().collect()"
   ]
  },
  {
   "cell_type": "code",
   "execution_count": 55,
   "id": "b8d09347",
   "metadata": {},
   "outputs": [],
   "source": [
    "pattern = r\"(aged\\s*[><=]*\\s*\\d*-*\\d*\\s*years|youth|high school student|middle school student|elementary student)\""
   ]
  },
  {
   "cell_type": "code",
   "execution_count": 56,
   "id": "1aaef41d",
   "metadata": {},
   "outputs": [
    {
     "data": {
      "text/plain": [
       "[Row(Expr='aged >= 45 years'),\n",
       " Row(Expr='aged 50-75 years'),\n",
       " Row(Expr='aged 18-24 years'),\n",
       " Row(Expr='aged >= 18 years'),\n",
       " Row(Expr='aged >= 65 years'),\n",
       " Row(Expr='aged 21-44 years'),\n",
       " Row(Expr='aged 50-64 years'),\n",
       " Row(Expr='youth'),\n",
       " Row(Expr='aged 18-44 years'),\n",
       " Row(Expr='high school student'),\n",
       " Row(Expr='aged 21-65 years'),\n",
       " Row(Expr='aged >= 14 years'),\n",
       " Row(Expr='aged 45-64 years'),\n",
       " Row(Expr='aged 18-64 years'),\n",
       " Row(Expr='aged 50-74 years'),\n",
       " Row(Expr='aged 1-17 years'),\n",
       " Row(Expr=None)]"
      ]
     },
     "execution_count": 56,
     "metadata": {},
     "output_type": "execute_result"
    }
   ],
   "source": [
    "test_spark_df_00_10.withColumn(\"Expr\", f.regexp_substr(f.col(\"Question\"), f.lit(pattern))).select(\"Expr\").distinct().collect()"
   ]
  },
  {
   "cell_type": "code",
   "execution_count": 61,
   "id": "5cc17534",
   "metadata": {},
   "outputs": [
    {
     "name": "stdout",
     "output_type": "stream",
     "text": [
      "+---------+-------+------------+--------------------+-------+--------------------+-------------+----------------+---------+------------------+-------------------+-----------------------+-------------------+----------+-------+----------+---------------+-------------------+------------------+\n",
      "|YearStart|YearEnd|LocationAbbr|        LocationDesc|  Topic|            Question|DataValueUnit|   DataValueType|DataValue|LowConfidenceLimit|HighConfidenceLimit|StratificationCategory1|    Stratification1|LocationID|TopicID|QuestionID|DataValueTypeID|           Latitude|         Longitude|\n",
      "+---------+-------+------------+--------------------+-------+--------------------+-------------+----------------+---------+------------------+-------------------+-----------------------+-------------------+----------+-------+----------+---------------+-------------------+------------------+\n",
      "|     2015|   2015|          RI|        Rhode Island|Alcohol|Alcohol use among...|            %|Crude Prevalence|     12.6|               7.3|               21.0|         Race/Ethnicity|Asian, non-Hispanic|        44|    ALC|    ALC1_1|        CRDPREV| -71.52247031399963| 41.70828019300046|\n",
      "|     2015|   2015|          US|       United States|Alcohol|Alcohol use among...|            %|Crude Prevalence|     13.1|               9.8|               17.3|         Race/Ethnicity|Asian, non-Hispanic|        59|    ALC|    ALC1_1|        CRDPREV|               NULL|              NULL|\n",
      "|     2019|   2019|          HI|              Hawaii|Alcohol|Alcohol use among...|            %|Crude Prevalence|     14.2|              11.7|               17.0|         Race/Ethnicity|Asian, non-Hispanic|        15|    ALC|    ALC1_1|        CRDPREV|-157.85774940299973|21.304850435000446|\n",
      "|     2015|   2015|          CA|          California|Alcohol|Alcohol use among...|            %|Crude Prevalence|     17.1|              11.9|               23.9|         Race/Ethnicity|Asian, non-Hispanic|         6|    ALC|    ALC1_1|        CRDPREV|-120.99999953799971| 37.63864012300047|\n",
      "|     2019|   2019|          MS|         Mississippi|Alcohol|Alcohol use among...|            %|Crude Prevalence|     18.2|              15.1|               21.8|         Race/Ethnicity|Black, non-Hispanic|        28|    ALC|    ALC1_1|        CRDPREV| -89.53803082499968|32.745510099000455|\n",
      "|     2019|   2019|          NM|          New Mexico|Alcohol|Alcohol use among...|            %|Crude Prevalence|     23.8|              15.8|               34.3|         Race/Ethnicity|Black, non-Hispanic|        35|    ALC|    ALC1_1|        CRDPREV|-106.24058098499967| 34.52088095200048|\n",
      "|     2015|   2015|          MD|            Maryland|Alcohol|Alcohol use among...|            %|Crude Prevalence|     18.1|              17.2|               19.1|         Race/Ethnicity|Black, non-Hispanic|        24|    ALC|    ALC1_1|        CRDPREV| -76.60926011099963| 39.29058096400047|\n",
      "|     2013|   2013|          WI|           Wisconsin|Alcohol|Alcohol use among...|            %|Crude Prevalence|     23.4|              17.3|               30.7|         Race/Ethnicity|Asian, non-Hispanic|        55|    ALC|    ALC1_1|        CRDPREV| -89.81637074199966| 44.39319117400049|\n",
      "|     2019|   2019|          NE|            Nebraska|Alcohol|Alcohol use among...|            %|Crude Prevalence|     21.6|              17.7|               26.2|         Race/Ethnicity|White, non-Hispanic|        31|    ALC|    ALC1_1|        CRDPREV| -99.36572062299967|  41.6410409880005|\n",
      "|     2015|   2015|          NC|      North Carolina|Alcohol|Alcohol use among...|            %|Crude Prevalence|     24.2|              17.9|               31.8|         Race/Ethnicity|           Hispanic|        37|    ALC|    ALC1_1|        CRDPREV| -79.15925046299964|35.466220975000454|\n",
      "|     2017|   2017|          SC|      South Carolina|Alcohol|Alcohol use among...|            %|Crude Prevalence|     22.9|              18.1|               28.5|                 Gender|               Male|        45|    ALC|    ALC1_1|        CRDPREV| -81.04537120699968|33.998821303000454|\n",
      "|     2013|   2013|          NJ|          New Jersey|Alcohol|Alcohol use among...|            %|Crude Prevalence|     22.5|              18.3|               27.4|         Race/Ethnicity|Asian, non-Hispanic|        34|    ALC|    ALC1_1|        CRDPREV| -74.27369128799967| 40.13057004800049|\n",
      "|     2019|   2019|          DC|District of Columbia|Alcohol|Alcohol use among...|            %|Crude Prevalence|     20.1|              18.4|               21.8|         Race/Ethnicity|           Hispanic|        11|    ALC|    ALC1_1|        CRDPREV|         -77.036871|         38.907192|\n",
      "|     2019|   2019|          NC|      North Carolina|Alcohol|Alcohol use among...|            %|Crude Prevalence|     21.2|              18.4|               24.2|                 Gender|               Male|        37|    ALC|    ALC1_1|        CRDPREV| -79.15925046299964|35.466220975000454|\n",
      "|     2013|   2013|          NE|            Nebraska|Alcohol|Alcohol use among...|            %|Crude Prevalence|     22.4|              19.0|               26.1|         Race/Ethnicity|White, non-Hispanic|        31|    ALC|    ALC1_1|        CRDPREV| -99.36572062299967|  41.6410409880005|\n",
      "|     2017|   2017|          AK|              Alaska|Alcohol|Alcohol use among...|            %|Crude Prevalence|     22.8|              19.2|               26.8|                Overall|            Overall|         2|    ALC|    ALC1_1|        CRDPREV|-147.72205903599973| 64.84507995700051|\n",
      "|     2013|   2013|          VA|            Virginia|Alcohol|Alcohol use among...|            %|Crude Prevalence|     24.9|              19.9|               30.7|         Race/Ethnicity|           Hispanic|        51|    ALC|    ALC1_1|        CRDPREV| -78.45789046299967| 37.54268067400045|\n",
      "|     2013|   2013|          CT|         Connecticut|Alcohol|Alcohol use among...|            %|Crude Prevalence|     27.9|              19.9|               37.7|         Race/Ethnicity|Black, non-Hispanic|         9|    ALC|    ALC1_1|        CRDPREV| -72.64984095199964| 41.56266102000046|\n",
      "|     2017|   2017|          NE|            Nebraska|Alcohol|Alcohol use among...|            %|Crude Prevalence|     27.0|              20.1|               35.2|         Race/Ethnicity|           Hispanic|        31|    ALC|    ALC1_1|        CRDPREV| -99.36572062299967|  41.6410409880005|\n",
      "|     2019|   2019|          KY|            Kentucky|Alcohol|Alcohol use among...|            %|Crude Prevalence|     23.6|              20.2|               27.3|                 Gender|               Male|        21|    ALC|    ALC1_1|        CRDPREV| -84.77497104799966|37.645970271000465|\n",
      "+---------+-------+------------+--------------------+-------+--------------------+-------------+----------------+---------+------------------+-------------------+-----------------------+-------------------+----------+-------+----------+---------------+-------------------+------------------+\n",
      "only showing top 20 rows\n",
      "\n"
     ]
    }
   ],
   "source": [
    "cond = f.regexp(f.col(\"Question\"), f.lit(pattern))\n",
    "test_spark_df_w_ages_00_10 = test_spark_df_00_10.filter(cond)\n",
    "test_spark_df_w_ages_00_10.show()"
   ]
  },
  {
   "cell_type": "code",
   "execution_count": 62,
   "id": "314d8916",
   "metadata": {},
   "outputs": [
    {
     "data": {
      "text/plain": [
       "472089"
      ]
     },
     "execution_count": 62,
     "metadata": {},
     "output_type": "execute_result"
    }
   ],
   "source": [
    "test_spark_df_w_ages_00_10.count()"
   ]
  },
  {
   "cell_type": "code",
   "execution_count": 63,
   "id": "7bdea1af",
   "metadata": {},
   "outputs": [
    {
     "name": "stdout",
     "output_type": "stream",
     "text": [
      "+---------+-------+------------+------------+-------+--------------------+-------------+----------------+---------+------------------+-------------------+-----------------------+--------------------+----------+-------+----------+---------------+-------------------+------------------+\n",
      "|YearStart|YearEnd|LocationAbbr|LocationDesc|  Topic|            Question|DataValueUnit|   DataValueType|DataValue|LowConfidenceLimit|HighConfidenceLimit|StratificationCategory1|     Stratification1|LocationID|TopicID|QuestionID|DataValueTypeID|           Latitude|         Longitude|\n",
      "+---------+-------+------------+------------+-------+--------------------+-------------+----------------+---------+------------------+-------------------+-----------------------+--------------------+----------+-------+----------+---------------+-------------------+------------------+\n",
      "|     2015|   2015|          PA|Pennsylvania|Alcohol|Alcohol use befor...|            %|Crude Prevalence|     26.1|              13.0|               45.5|         Race/Ethnicity|Asian or Pacific ...|        42|    ALC|    ALC1_2|        CRDPREV| -77.86070029399963| 40.79373015200048|\n",
      "|     2016|   2016|          UT|        Utah|Alcohol|Alcohol use befor...|            %|Crude Prevalence|     29.1|              13.6|               51.6|         Race/Ethnicity|Asian or Pacific ...|        49|    ALC|    ALC1_2|        CRDPREV|-111.58713063499971|39.360700171000474|\n",
      "|     2017|   2017|          SD|South Dakota|Alcohol|Alcohol use befor...|            %|Crude Prevalence|     22.2|              15.4|               31.0|         Race/Ethnicity| Black, non-Hispanic|        46|    ALC|    ALC1_2|        CRDPREV| -100.3735306369997|44.353130053000484|\n",
      "|     2012|   2012|          MD|    Maryland|Alcohol|Alcohol use befor...|            %|Crude Prevalence|     25.1|              15.9|               37.2|         Race/Ethnicity|Asian or Pacific ...|        24|    ALC|    ALC1_2|        CRDPREV| -76.60926011099963| 39.29058096400047|\n",
      "|     2020|   2020|          MI|    Michigan|Alcohol|Alcohol use befor...|            %|Crude Prevalence|     28.5|              16.0|               45.4|         Race/Ethnicity|Asian or Pacific ...|        26|    ALC|    ALC1_2|        CRDPREV| -84.71439026999968|  44.6613195430005|\n",
      "|     2015|   2015|          OK|    Oklahoma|Alcohol|Alcohol use befor...|            %|Crude Prevalence|     24.0|              16.5|               33.5|         Race/Ethnicity|            Hispanic|        40|    ALC|    ALC1_2|        CRDPREV| -97.52107021399968| 35.47203135600046|\n",
      "|     2019|   2019|          VA|    Virginia|Alcohol|Alcohol use befor...|            %|Crude Prevalence|     41.9|              17.6|               70.8|         Race/Ethnicity| Other, non-Hispanic|        51|    ALC|    ALC1_2|        CRDPREV| -78.45789046299967| 37.54268067400045|\n",
      "|     2014|   2014|          WI|   Wisconsin|Alcohol|Alcohol use befor...|            %|Crude Prevalence|     25.8|              17.9|               35.7|         Race/Ethnicity|Asian or Pacific ...|        55|    ALC|    ALC1_2|        CRDPREV| -89.81637074199966| 44.39319117400049|\n",
      "|     2012|   2012|          OK|    Oklahoma|Alcohol|Alcohol use befor...|            %|Crude Prevalence|     26.0|              18.0|               36.0|         Race/Ethnicity|            Hispanic|        40|    ALC|    ALC1_2|        CRDPREV| -97.52107021399968| 35.47203135600046|\n",
      "|     2012|   2012|          UT|        Utah|Alcohol|Alcohol use befor...|            %|Crude Prevalence|     22.9|              20.6|               25.4|                Overall|             Overall|        49|    ALC|    ALC1_2|        CRDPREV|-111.58713063499971|39.360700171000474|\n",
      "|     2019|   2019|          NJ|  New Jersey|Alcohol|Alcohol use befor...|            %|Crude Prevalence|     26.5|              20.6|               33.4|         Race/Ethnicity|Asian or Pacific ...|        34|    ALC|    ALC1_2|        CRDPREV| -74.27369128799967| 40.13057004800049|\n",
      "|     2014|   2014|          NJ|  New Jersey|Alcohol|Alcohol use befor...|            %|Crude Prevalence|     27.1|              21.5|               33.5|         Race/Ethnicity|Asian or Pacific ...|        34|    ALC|    ALC1_2|        CRDPREV| -74.27369128799967| 40.13057004800049|\n",
      "|     2013|   2013|          WI|   Wisconsin|Alcohol|Alcohol use befor...|            %|Crude Prevalence|     30.5|              21.7|               41.0|         Race/Ethnicity|Asian or Pacific ...|        55|    ALC|    ALC1_2|        CRDPREV| -89.81637074199966| 44.39319117400049|\n",
      "|     2017|   2017|          NM|  New Mexico|Alcohol|Alcohol use befor...|            %|Crude Prevalence|     30.5|              22.9|               39.4|         Race/Ethnicity|American Indian o...|        35|    ALC|    ALC1_2|        CRDPREV|-106.24058098499967| 34.52088095200048|\n",
      "|     2015|   2015|          AK|      Alaska|Alcohol|Alcohol use befor...|            %|Crude Prevalence|     34.1|              22.9|               47.3|         Race/Ethnicity|Asian or Pacific ...|         2|    ALC|    ALC1_2|        CRDPREV|-147.72205903599973| 64.84507995700051|\n",
      "|     2014|   2014|          WA|  Washington|Alcohol|Alcohol use befor...|            %|Crude Prevalence|     31.0|              24.6|               38.1|         Race/Ethnicity|            Hispanic|        53|    ALC|    ALC1_2|        CRDPREV|-120.47001078999972| 47.52227862900048|\n",
      "|     2019|   2019|          UT|        Utah|Alcohol|Alcohol use befor...|            %|Crude Prevalence|     28.5|              25.4|               31.8|         Race/Ethnicity| White, non-Hispanic|        49|    ALC|    ALC1_2|        CRDPREV|-111.58713063499971|39.360700171000474|\n",
      "|     2016|   2016|          CT| Connecticut|Alcohol|Alcohol use befor...|            %|Crude Prevalence|     30.8|              25.5|               36.7|         Race/Ethnicity|Asian or Pacific ...|         9|    ALC|    ALC1_2|        CRDPREV| -72.64984095199964| 41.56266102000046|\n",
      "|     2020|   2020|          PA|Pennsylvania|Alcohol|Alcohol use befor...|            %|Crude Prevalence|     38.1|              25.6|               52.4|         Race/Ethnicity|Asian or Pacific ...|        42|    ALC|    ALC1_2|        CRDPREV| -77.86070029399963| 40.79373015200048|\n",
      "|     2014|   2014|          WA|  Washington|Alcohol|Alcohol use befor...|            %|Crude Prevalence|     32.2|              25.9|               39.2|         Race/Ethnicity|Asian or Pacific ...|        53|    ALC|    ALC1_2|        CRDPREV|-120.47001078999972| 47.52227862900048|\n",
      "+---------+-------+------------+------------+-------+--------------------+-------------+----------------+---------+------------------+-------------------+-----------------------+--------------------+----------+-------+----------+---------------+-------------------+------------------+\n",
      "only showing top 20 rows\n",
      "\n"
     ]
    }
   ],
   "source": [
    "test_spark_df_wo_ages_00_10 = test_spark_df_00_10.filter(~cond)\n",
    "test_spark_df_wo_ages_00_10.show()"
   ]
  },
  {
   "cell_type": "code",
   "execution_count": 64,
   "id": "d854f18f",
   "metadata": {},
   "outputs": [
    {
     "data": {
      "text/plain": [
       "227251"
      ]
     },
     "execution_count": 64,
     "metadata": {},
     "output_type": "execute_result"
    }
   ],
   "source": [
    "test_spark_df_wo_ages_00_10.count()"
   ]
  },
  {
   "cell_type": "code",
   "execution_count": 65,
   "id": "2484e230",
   "metadata": {},
   "outputs": [
    {
     "data": {
      "text/plain": [
       "Row(YearStart=2015, YearEnd=2015, LocationAbbr='PA', LocationDesc='Pennsylvania', Topic='Alcohol', Question='Alcohol use before pregnancy', DataValueUnit='%', DataValueType='Crude Prevalence', DataValue=26.1, LowConfidenceLimit=13.0, HighConfidenceLimit=45.5, StratificationCategory1='Race/Ethnicity', Stratification1='Asian or Pacific Islander', LocationID=42, TopicID='ALC', QuestionID='ALC1_2', DataValueTypeID='CRDPREV', Latitude=-77.86070029399963, Longitude=40.79373015200048)"
      ]
     },
     "execution_count": 65,
     "metadata": {},
     "output_type": "execute_result"
    }
   ],
   "source": [
    "test_spark_df_wo_ages_00_10.head()"
   ]
  },
  {
   "cell_type": "markdown",
   "id": "80ff44e2",
   "metadata": {},
   "source": [
    "# Clear the previous dataframe from memory"
   ]
  },
  {
   "cell_type": "code",
   "execution_count": 66,
   "id": "6448b865",
   "metadata": {},
   "outputs": [
    {
     "data": {
      "text/plain": [
       "DataFrame[YearStart: int, YearEnd: int, LocationAbbr: string, LocationDesc: string, Topic: string, Question: string, DataValueUnit: string, DataValueType: string, DataValue: double, LowConfidenceLimit: double, HighConfidenceLimit: double, StratificationCategory1: string, Stratification1: string, LocationID: int, TopicID: string, QuestionID: string, DataValueTypeID: string, Latitude: double, Longitude: double]"
      ]
     },
     "execution_count": 66,
     "metadata": {},
     "output_type": "execute_result"
    }
   ],
   "source": [
    "test_spark_df_00_10.unpersist()"
   ]
  },
  {
   "cell_type": "code",
   "execution_count": 100,
   "id": "a262b035",
   "metadata": {},
   "outputs": [
    {
     "data": {
      "text/plain": [
       "[Row(AgeBracket='aged >= 45 years'),\n",
       " Row(AgeBracket='aged 50-75 years'),\n",
       " Row(AgeBracket='aged 18-24 years'),\n",
       " Row(AgeBracket='aged >= 18 years'),\n",
       " Row(AgeBracket='aged >= 65 years'),\n",
       " Row(AgeBracket='aged 21-44 years'),\n",
       " Row(AgeBracket='aged 50-64 years'),\n",
       " Row(AgeBracket='youth'),\n",
       " Row(AgeBracket='aged 18-44 years'),\n",
       " Row(AgeBracket='high school student'),\n",
       " Row(AgeBracket='aged 21-65 years'),\n",
       " Row(AgeBracket='aged >= 14 years'),\n",
       " Row(AgeBracket='aged 45-64 years'),\n",
       " Row(AgeBracket='aged 18-64 years'),\n",
       " Row(AgeBracket='aged 50-74 years'),\n",
       " Row(AgeBracket='aged 1-17 years')]"
      ]
     },
     "execution_count": 100,
     "metadata": {},
     "output_type": "execute_result"
    }
   ],
   "source": [
    "# expr = f.regexp_extract_all(f.col(\"Question\"), f.lit(pattern))\n",
    "# cond = f.regexp(f.col(\"Question\"), f.lit(pattern))\n",
    "\n",
    "# cases = f.when(f.regexp(f.col(\"Question\"), f.lit(r\"aged\\s*[>=]*\\d*\")), f.regexp_extract_all(f.col(\"Question\"), f.lit(r\"\\d+\"), 1))\\\n",
    "# .otherwise(f.col(\"Question\"))\n",
    "# .when(f.regexp(f.col(\"Question\"), f.lit(r\"youth\"), [18, 25]), \"cases per 100,000\")\\\n",
    "expr = f.regexp_extract_all(\n",
    "    f.regexp_extract(f.col(\"Question\"), pattern, 1), \n",
    "    f.lit(r\"(\\d+)\"),\n",
    "    1\n",
    ")\n",
    "\n",
    "test = test_spark_df_w_ages_00_10.withColumn(\n",
    "    \"AgeBracket\",\n",
    "    # expr\n",
    "    f.regexp_extract(f.col(\"Question\"), pattern, 1)\n",
    ")\n",
    "test.select(\"AgeBracket\").distinct().collect()"
   ]
  },
  {
   "cell_type": "markdown",
   "id": "8ef91403",
   "metadata": {},
   "source": [
    "when using expr\n",
    "```\n",
    "[Row(AgeBracket=['50', '75']),\n",
    " Row(AgeBracket=[]),\n",
    " Row(AgeBracket=['18']),\n",
    " Row(AgeBracket=['50', '74']),\n",
    " Row(AgeBracket=['1', '17']),\n",
    " Row(AgeBracket=['18', '44']),\n",
    " Row(AgeBracket=['21', '65']),\n",
    " Row(AgeBracket=['21', '44']),\n",
    " Row(AgeBracket=['50', '64']),\n",
    " Row(AgeBracket=['18', '64']),\n",
    " Row(AgeBracket=['65']),\n",
    " Row(AgeBracket=['18', '24']),\n",
    " Row(AgeBracket=['14']),\n",
    " Row(AgeBracket=['45']),\n",
    " Row(AgeBracket=['45', '64'])]\n",
    "```\n",
    "else\n",
    "```\n",
    "[Row(AgeBracket='aged >= 45 years'),\n",
    " Row(AgeBracket='aged 50-75 years'),\n",
    " Row(AgeBracket='aged 18-24 years'),\n",
    " Row(AgeBracket='aged >= 18 years'),\n",
    " Row(AgeBracket='aged >= 65 years'),\n",
    " Row(AgeBracket='aged 21-44 years'),\n",
    " Row(AgeBracket='aged 50-64 years'),\n",
    " Row(AgeBracket='youth'),\n",
    " Row(AgeBracket='aged 18-44 years'),\n",
    " Row(AgeBracket='high school student'),\n",
    " Row(AgeBracket='aged 21-65 years'),\n",
    " Row(AgeBracket='aged >= 14 years'),\n",
    " Row(AgeBracket='aged 45-64 years'),\n",
    " Row(AgeBracket='aged 18-64 years'),\n",
    " Row(AgeBracket='aged 50-74 years'),\n",
    " Row(AgeBracket='aged 1-17 years')]\n",
    "```"
   ]
  },
  {
   "cell_type": "code",
   "execution_count": 43,
   "id": "04f3771c",
   "metadata": {},
   "outputs": [
    {
     "data": {
      "text/plain": [
       "[('YearStart', 'int'),\n",
       " ('YearEnd', 'int'),\n",
       " ('LocationAbbr', 'string'),\n",
       " ('LocationDesc', 'string'),\n",
       " ('Topic', 'string'),\n",
       " ('Question', 'string'),\n",
       " ('DataValueUnit', 'string'),\n",
       " ('DataValueType', 'string'),\n",
       " ('DataValue', 'double'),\n",
       " ('LowConfidenceLimit', 'double'),\n",
       " ('HighConfidenceLimit', 'double'),\n",
       " ('StratificationCategory1', 'string'),\n",
       " ('Stratification1', 'string'),\n",
       " ('LocationID', 'int'),\n",
       " ('TopicID', 'string'),\n",
       " ('QuestionID', 'string'),\n",
       " ('DataValueTypeID', 'string'),\n",
       " ('Latitude', 'double'),\n",
       " ('Longitude', 'double')]"
      ]
     },
     "execution_count": 43,
     "metadata": {},
     "output_type": "execute_result"
    }
   ],
   "source": [
    "test_spark_df_00_10.dtypes"
   ]
  },
  {
   "cell_type": "markdown",
   "id": "ba3fae6e",
   "metadata": {},
   "source": [
    "# Errors\n",
    "* Out of memory error: \n",
    "- https://stackoverflow.com/questions/73111729/pyspark-java-heap-out-of-memory-when-saving-5m-rows-dataframe\n",
    "- https://medium.com/@rakeshchanda/spark-out-of-memory-issue-memory-tuning-and-management-in-pyspark-802b757b562f\n",
    "- https://stackoverflow.com/questions/21138751/spark-java-lang-outofmemoryerror-java-heap-space\n",
    "* EOF errror: "
   ]
  }
 ],
 "metadata": {
  "kernelspec": {
   "display_name": "tech-interview",
   "language": "python",
   "name": "python3"
  },
  "language_info": {
   "codemirror_mode": {
    "name": "ipython",
    "version": 3
   },
   "file_extension": ".py",
   "mimetype": "text/x-python",
   "name": "python",
   "nbconvert_exporter": "python",
   "pygments_lexer": "ipython3",
   "version": "3.12.3"
  }
 },
 "nbformat": 4,
 "nbformat_minor": 5
}
