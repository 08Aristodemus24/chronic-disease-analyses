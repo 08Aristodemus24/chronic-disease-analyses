{
 "cells": [
  {
   "cell_type": "code",
   "execution_count": 1,
   "id": "d9d27179",
   "metadata": {},
   "outputs": [],
   "source": [
    "import pandas as pd\n",
    "import numpy as np\n",
    "import matplotlib.pyplot as plt\n",
    "import os\n",
    "import re\n",
    "import ast\n",
    "\n",
    "from concurrent.futures import ThreadPoolExecutor\n",
    "\n",
    "from utilities.preprocessors import column_summary, model_population_table, model_population_by_sex_race_ho_table, get_state_populations\n",
    "from utilities.visualizers import disp_cat_feat, view_feat_outliers\n",
    "\n",
    "\n",
    "%load_ext autoreload\n",
    "%autoreload 2"
   ]
  },
  {
   "cell_type": "code",
   "execution_count": 2,
   "id": "195640ee",
   "metadata": {},
   "outputs": [
    {
     "data": {
      "text/plain": [
       "(51, 51, 51)"
      ]
     },
     "execution_count": 2,
     "metadata": {},
     "output_type": "execute_result"
    }
   ],
   "source": [
    "DATA_DIR = './data/population-data'\n",
    "EXCLUSIONS = [\"us_populations_per_state_2001_to_2021.csv\"]\n",
    "files = list(filter(lambda file: not file in EXCLUSIONS, os.listdir(DATA_DIR)))\n",
    "populations_by_sex_age_00_10 = list(filter(lambda file: \"2000-2010\" in file and \"by_sex_and_age\" in file, files))\n",
    "populations_by_sex_race_ho_00_10 = list(filter(lambda file: \"2000-2010\" in file and \"by_sex_race_and_ho\" in file, files))\n",
    "populations_by_sex_age_10_19 = list(filter(lambda file: \"2010-2019\" in file and \"by_sex_and_age\" in file, files))\n",
    "populations_by_sex_race_ho_10_19 = list(filter(lambda file: \"2010-2019\" in file and \"by_sex_race_and_ho\" in file, files))\n",
    "populations_by_sex_age_20_23 = list(filter(lambda file: \"2020-2023\" in file and \"by_sex_and_age\" in file, files))\n",
    "populations_by_sex_race_ho_20_23 = list(filter(lambda file: \"2020-2023\" in file and \"by_sex_race_and_ho\" in file, files))\n",
    "len(populations_by_sex_age_00_10), len(populations_by_sex_age_10_19), len(populations_by_sex_age_20_23),"
   ]
  },
  {
   "cell_type": "code",
   "execution_count": 3,
   "id": "bcd196e8",
   "metadata": {},
   "outputs": [
    {
     "data": {
      "text/plain": [
       "(51, 51, 51)"
      ]
     },
     "execution_count": 3,
     "metadata": {},
     "output_type": "execute_result"
    }
   ],
   "source": [
    "len(populations_by_sex_race_ho_00_10), len(populations_by_sex_race_ho_10_19), len(populations_by_sex_race_ho_20_23),"
   ]
  },
  {
   "cell_type": "markdown",
   "id": "fbbaef29",
   "metadata": {},
   "source": [
    "# Read sample excel sheet"
   ]
  },
  {
   "cell_type": "code",
   "execution_count": 4,
   "id": "612033ef",
   "metadata": {},
   "outputs": [
    {
     "data": {
      "text/html": [
       "<div>\n",
       "<style scoped>\n",
       "    .dataframe tbody tr th:only-of-type {\n",
       "        vertical-align: middle;\n",
       "    }\n",
       "\n",
       "    .dataframe tbody tr th {\n",
       "        vertical-align: top;\n",
       "    }\n",
       "\n",
       "    .dataframe thead th {\n",
       "        text-align: right;\n",
       "    }\n",
       "</style>\n",
       "<table border=\"1\" class=\"dataframe\">\n",
       "  <thead>\n",
       "    <tr style=\"text-align: right;\">\n",
       "      <th></th>\n",
       "      <th>0</th>\n",
       "      <th>1</th>\n",
       "      <th>2</th>\n",
       "      <th>3</th>\n",
       "      <th>4</th>\n",
       "      <th>5</th>\n",
       "      <th>6</th>\n",
       "      <th>7</th>\n",
       "      <th>8</th>\n",
       "      <th>9</th>\n",
       "      <th>10</th>\n",
       "      <th>11</th>\n",
       "      <th>12</th>\n",
       "      <th>13</th>\n",
       "    </tr>\n",
       "  </thead>\n",
       "  <tbody>\n",
       "    <tr>\n",
       "      <th>0</th>\n",
       "      <td>table with row headers in column A and column ...</td>\n",
       "      <td>NaN</td>\n",
       "      <td>NaN</td>\n",
       "      <td>NaN</td>\n",
       "      <td>NaN</td>\n",
       "      <td>NaN</td>\n",
       "      <td>NaN</td>\n",
       "      <td>NaN</td>\n",
       "      <td>NaN</td>\n",
       "      <td>NaN</td>\n",
       "      <td>NaN</td>\n",
       "      <td>NaN</td>\n",
       "      <td>NaN</td>\n",
       "      <td>NaN</td>\n",
       "    </tr>\n",
       "    <tr>\n",
       "      <th>1</th>\n",
       "      <td>Table 2. Intercensal Estimates of the Resident...</td>\n",
       "      <td>NaN</td>\n",
       "      <td>NaN</td>\n",
       "      <td>NaN</td>\n",
       "      <td>NaN</td>\n",
       "      <td>NaN</td>\n",
       "      <td>NaN</td>\n",
       "      <td>NaN</td>\n",
       "      <td>NaN</td>\n",
       "      <td>NaN</td>\n",
       "      <td>NaN</td>\n",
       "      <td>NaN</td>\n",
       "      <td>NaN</td>\n",
       "      <td>NaN</td>\n",
       "    </tr>\n",
       "    <tr>\n",
       "      <th>2</th>\n",
       "      <td>Sex and Age</td>\n",
       "      <td>April 1, 20001</td>\n",
       "      <td>Intercensal Estimates (as of July 1)</td>\n",
       "      <td>NaN</td>\n",
       "      <td>NaN</td>\n",
       "      <td>NaN</td>\n",
       "      <td>NaN</td>\n",
       "      <td>NaN</td>\n",
       "      <td>NaN</td>\n",
       "      <td>NaN</td>\n",
       "      <td>NaN</td>\n",
       "      <td>NaN</td>\n",
       "      <td>April 1, 20102</td>\n",
       "      <td>July 1, 20103</td>\n",
       "    </tr>\n",
       "    <tr>\n",
       "      <th>3</th>\n",
       "      <td>NaN</td>\n",
       "      <td>NaN</td>\n",
       "      <td>2000</td>\n",
       "      <td>2001</td>\n",
       "      <td>2002</td>\n",
       "      <td>2003</td>\n",
       "      <td>2004</td>\n",
       "      <td>2005</td>\n",
       "      <td>2006</td>\n",
       "      <td>2007</td>\n",
       "      <td>2008</td>\n",
       "      <td>2009</td>\n",
       "      <td>NaN</td>\n",
       "      <td>NaN</td>\n",
       "    </tr>\n",
       "    <tr>\n",
       "      <th>4</th>\n",
       "      <td>BOTH SEXES</td>\n",
       "      <td>4447207</td>\n",
       "      <td>4452173</td>\n",
       "      <td>4467634</td>\n",
       "      <td>4480089</td>\n",
       "      <td>4503491</td>\n",
       "      <td>4530729</td>\n",
       "      <td>4569805</td>\n",
       "      <td>4628981</td>\n",
       "      <td>4672840</td>\n",
       "      <td>4718206</td>\n",
       "      <td>4757938</td>\n",
       "      <td>4779736</td>\n",
       "      <td>4785298</td>\n",
       "    </tr>\n",
       "    <tr>\n",
       "      <th>5</th>\n",
       "      <td>.Under 5 years</td>\n",
       "      <td>296000</td>\n",
       "      <td>295185</td>\n",
       "      <td>296624</td>\n",
       "      <td>296046</td>\n",
       "      <td>295204</td>\n",
       "      <td>295970</td>\n",
       "      <td>296441</td>\n",
       "      <td>297222</td>\n",
       "      <td>300300</td>\n",
       "      <td>304842</td>\n",
       "      <td>305412</td>\n",
       "      <td>304957</td>\n",
       "      <td>304840</td>\n",
       "    </tr>\n",
       "    <tr>\n",
       "      <th>6</th>\n",
       "      <td>.5 to 9 years</td>\n",
       "      <td>315369</td>\n",
       "      <td>313178</td>\n",
       "      <td>307526</td>\n",
       "      <td>302632</td>\n",
       "      <td>299148</td>\n",
       "      <td>297554</td>\n",
       "      <td>298450</td>\n",
       "      <td>303581</td>\n",
       "      <td>306013</td>\n",
       "      <td>306682</td>\n",
       "      <td>307864</td>\n",
       "      <td>308229</td>\n",
       "      <td>308125</td>\n",
       "    </tr>\n",
       "    <tr>\n",
       "      <th>7</th>\n",
       "      <td>.10 to 14 years</td>\n",
       "      <td>320266</td>\n",
       "      <td>321372</td>\n",
       "      <td>323615</td>\n",
       "      <td>325008</td>\n",
       "      <td>326642</td>\n",
       "      <td>326228</td>\n",
       "      <td>323028</td>\n",
       "      <td>321867</td>\n",
       "      <td>320407</td>\n",
       "      <td>319503</td>\n",
       "      <td>319072</td>\n",
       "      <td>319655</td>\n",
       "      <td>319314</td>\n",
       "    </tr>\n",
       "    <tr>\n",
       "      <th>8</th>\n",
       "      <td>.15 to 19 years</td>\n",
       "      <td>324583</td>\n",
       "      <td>325612</td>\n",
       "      <td>321866</td>\n",
       "      <td>320749</td>\n",
       "      <td>321655</td>\n",
       "      <td>325095</td>\n",
       "      <td>330753</td>\n",
       "      <td>337003</td>\n",
       "      <td>341279</td>\n",
       "      <td>345580</td>\n",
       "      <td>346611</td>\n",
       "      <td>343471</td>\n",
       "      <td>341504</td>\n",
       "    </tr>\n",
       "    <tr>\n",
       "      <th>9</th>\n",
       "      <td>.20 to 24 years</td>\n",
       "      <td>306876</td>\n",
       "      <td>309170</td>\n",
       "      <td>318741</td>\n",
       "      <td>322812</td>\n",
       "      <td>326983</td>\n",
       "      <td>326749</td>\n",
       "      <td>326727</td>\n",
       "      <td>326239</td>\n",
       "      <td>327293</td>\n",
       "      <td>328751</td>\n",
       "      <td>332117</td>\n",
       "      <td>335322</td>\n",
       "      <td>336601</td>\n",
       "    </tr>\n",
       "    <tr>\n",
       "      <th>10</th>\n",
       "      <td>.25 to 29 years</td>\n",
       "      <td>301197</td>\n",
       "      <td>298679</td>\n",
       "      <td>286763</td>\n",
       "      <td>281003</td>\n",
       "      <td>280387</td>\n",
       "      <td>283864</td>\n",
       "      <td>290568</td>\n",
       "      <td>302813</td>\n",
       "      <td>307619</td>\n",
       "      <td>311504</td>\n",
       "      <td>312199</td>\n",
       "      <td>311034</td>\n",
       "      <td>311929</td>\n",
       "    </tr>\n",
       "    <tr>\n",
       "      <th>11</th>\n",
       "      <td>.30 to 34 years</td>\n",
       "      <td>301842</td>\n",
       "      <td>301179</td>\n",
       "      <td>302186</td>\n",
       "      <td>302668</td>\n",
       "      <td>302722</td>\n",
       "      <td>299896</td>\n",
       "      <td>295263</td>\n",
       "      <td>288248</td>\n",
       "      <td>286033</td>\n",
       "      <td>287272</td>\n",
       "      <td>293352</td>\n",
       "      <td>297888</td>\n",
       "      <td>300120</td>\n",
       "    </tr>\n",
       "    <tr>\n",
       "      <th>12</th>\n",
       "      <td>.35 to 39 years</td>\n",
       "      <td>340313</td>\n",
       "      <td>338693</td>\n",
       "      <td>330870</td>\n",
       "      <td>321114</td>\n",
       "      <td>312160</td>\n",
       "      <td>305558</td>\n",
       "      <td>303456</td>\n",
       "      <td>308663</td>\n",
       "      <td>312470</td>\n",
       "      <td>313869</td>\n",
       "      <td>312797</td>\n",
       "      <td>308430</td>\n",
       "      <td>306442</td>\n",
       "    </tr>\n",
       "    <tr>\n",
       "      <th>13</th>\n",
       "      <td>.40 to 44 years</td>\n",
       "      <td>345218</td>\n",
       "      <td>345820</td>\n",
       "      <td>347133</td>\n",
       "      <td>345023</td>\n",
       "      <td>343191</td>\n",
       "      <td>342253</td>\n",
       "      <td>339299</td>\n",
       "      <td>334043</td>\n",
       "      <td>326486</td>\n",
       "      <td>318765</td>\n",
       "      <td>313852</td>\n",
       "      <td>311071</td>\n",
       "      <td>310756</td>\n",
       "    </tr>\n",
       "    <tr>\n",
       "      <th>14</th>\n",
       "      <td>.45 to 49 years</td>\n",
       "      <td>315164</td>\n",
       "      <td>316816</td>\n",
       "      <td>323347</td>\n",
       "      <td>330998</td>\n",
       "      <td>337237</td>\n",
       "      <td>340768</td>\n",
       "      <td>344392</td>\n",
       "      <td>348601</td>\n",
       "      <td>348251</td>\n",
       "      <td>348148</td>\n",
       "      <td>348256</td>\n",
       "      <td>346369</td>\n",
       "      <td>345049</td>\n",
       "    </tr>\n",
       "    <tr>\n",
       "      <th>15</th>\n",
       "      <td>.50 to 54 years</td>\n",
       "      <td>285027</td>\n",
       "      <td>287948</td>\n",
       "      <td>300108</td>\n",
       "      <td>298908</td>\n",
       "      <td>302120</td>\n",
       "      <td>307605</td>\n",
       "      <td>314839</td>\n",
       "      <td>323309</td>\n",
       "      <td>332544</td>\n",
       "      <td>340006</td>\n",
       "      <td>344478</td>\n",
       "      <td>347485</td>\n",
       "      <td>348347</td>\n",
       "    </tr>\n",
       "    <tr>\n",
       "      <th>16</th>\n",
       "      <td>.55 to 59 years</td>\n",
       "      <td>225445</td>\n",
       "      <td>226761</td>\n",
       "      <td>231202</td>\n",
       "      <td>248643</td>\n",
       "      <td>258551</td>\n",
       "      <td>270380</td>\n",
       "      <td>284084</td>\n",
       "      <td>297745</td>\n",
       "      <td>298032</td>\n",
       "      <td>301833</td>\n",
       "      <td>307017</td>\n",
       "      <td>311906</td>\n",
       "      <td>313686</td>\n",
       "    </tr>\n",
       "    <tr>\n",
       "      <th>17</th>\n",
       "      <td>.60 to 64 years</td>\n",
       "      <td>190093</td>\n",
       "      <td>190880</td>\n",
       "      <td>193822</td>\n",
       "      <td>198880</td>\n",
       "      <td>207119</td>\n",
       "      <td>214983</td>\n",
       "      <td>220403</td>\n",
       "      <td>226567</td>\n",
       "      <td>244043</td>\n",
       "      <td>254507</td>\n",
       "      <td>265870</td>\n",
       "      <td>276127</td>\n",
       "      <td>278763</td>\n",
       "    </tr>\n",
       "    <tr>\n",
       "      <th>18</th>\n",
       "      <td>.65 to 69 years</td>\n",
       "      <td>167975</td>\n",
       "      <td>167835</td>\n",
       "      <td>169261</td>\n",
       "      <td>170495</td>\n",
       "      <td>173635</td>\n",
       "      <td>176683</td>\n",
       "      <td>179942</td>\n",
       "      <td>184594</td>\n",
       "      <td>189797</td>\n",
       "      <td>198122</td>\n",
       "      <td>205667</td>\n",
       "      <td>209637</td>\n",
       "      <td>210742</td>\n",
       "    </tr>\n",
       "    <tr>\n",
       "      <th>19</th>\n",
       "      <td>.70 to 74 years</td>\n",
       "      <td>148785</td>\n",
       "      <td>148805</td>\n",
       "      <td>149001</td>\n",
       "      <td>147964</td>\n",
       "      <td>147332</td>\n",
       "      <td>147028</td>\n",
       "      <td>149085</td>\n",
       "      <td>151454</td>\n",
       "      <td>152814</td>\n",
       "      <td>156112</td>\n",
       "      <td>159088</td>\n",
       "      <td>160864</td>\n",
       "      <td>161514</td>\n",
       "    </tr>\n",
       "    <tr>\n",
       "      <th>20</th>\n",
       "      <td>.75 to 79 years</td>\n",
       "      <td>118111</td>\n",
       "      <td>118478</td>\n",
       "      <td>118750</td>\n",
       "      <td>119599</td>\n",
       "      <td>120741</td>\n",
       "      <td>120322</td>\n",
       "      <td>120923</td>\n",
       "      <td>122066</td>\n",
       "      <td>121729</td>\n",
       "      <td>121862</td>\n",
       "      <td>121679</td>\n",
       "      <td>122836</td>\n",
       "      <td>122639</td>\n",
       "    </tr>\n",
       "    <tr>\n",
       "      <th>21</th>\n",
       "      <td>.80 to 84 years</td>\n",
       "      <td>77644</td>\n",
       "      <td>78201</td>\n",
       "      <td>79883</td>\n",
       "      <td>81123</td>\n",
       "      <td>83097</td>\n",
       "      <td>84290</td>\n",
       "      <td>84762</td>\n",
       "      <td>85688</td>\n",
       "      <td>86812</td>\n",
       "      <td>88254</td>\n",
       "      <td>88283</td>\n",
       "      <td>88771</td>\n",
       "      <td>88754</td>\n",
       "    </tr>\n",
       "    <tr>\n",
       "      <th>22</th>\n",
       "      <td>.85 years and over</td>\n",
       "      <td>67299</td>\n",
       "      <td>67561</td>\n",
       "      <td>66936</td>\n",
       "      <td>66424</td>\n",
       "      <td>65567</td>\n",
       "      <td>65503</td>\n",
       "      <td>67390</td>\n",
       "      <td>69278</td>\n",
       "      <td>70918</td>\n",
       "      <td>72594</td>\n",
       "      <td>74324</td>\n",
       "      <td>75684</td>\n",
       "      <td>76173</td>\n",
       "    </tr>\n",
       "    <tr>\n",
       "      <th>23</th>\n",
       "      <td>.</td>\n",
       "      <td>NaN</td>\n",
       "      <td>NaN</td>\n",
       "      <td>NaN</td>\n",
       "      <td>NaN</td>\n",
       "      <td>NaN</td>\n",
       "      <td>NaN</td>\n",
       "      <td>NaN</td>\n",
       "      <td>NaN</td>\n",
       "      <td>NaN</td>\n",
       "      <td>NaN</td>\n",
       "      <td>NaN</td>\n",
       "      <td>NaN</td>\n",
       "      <td>NaN</td>\n",
       "    </tr>\n",
       "    <tr>\n",
       "      <th>24</th>\n",
       "      <td>.Under 18 years</td>\n",
       "      <td>1123467</td>\n",
       "      <td>1122273</td>\n",
       "      <td>1120409</td>\n",
       "      <td>1116590</td>\n",
       "      <td>1113083</td>\n",
       "      <td>1113662</td>\n",
       "      <td>1117229</td>\n",
       "      <td>1126798</td>\n",
       "      <td>1132296</td>\n",
       "      <td>1134927</td>\n",
       "      <td>1134192</td>\n",
       "      <td>1132459</td>\n",
       "      <td>1130946</td>\n",
       "    </tr>\n",
       "    <tr>\n",
       "      <th>25</th>\n",
       "      <td>.Under 5 years</td>\n",
       "      <td>296000</td>\n",
       "      <td>295185</td>\n",
       "      <td>296624</td>\n",
       "      <td>296046</td>\n",
       "      <td>295204</td>\n",
       "      <td>295970</td>\n",
       "      <td>296441</td>\n",
       "      <td>297222</td>\n",
       "      <td>300300</td>\n",
       "      <td>304842</td>\n",
       "      <td>305412</td>\n",
       "      <td>304957</td>\n",
       "      <td>304840</td>\n",
       "    </tr>\n",
       "    <tr>\n",
       "      <th>26</th>\n",
       "      <td>.5 to 13 years</td>\n",
       "      <td>571574</td>\n",
       "      <td>570705</td>\n",
       "      <td>567783</td>\n",
       "      <td>564473</td>\n",
       "      <td>561346</td>\n",
       "      <td>556262</td>\n",
       "      <td>555065</td>\n",
       "      <td>559971</td>\n",
       "      <td>560764</td>\n",
       "      <td>561569</td>\n",
       "      <td>562897</td>\n",
       "      <td>564204</td>\n",
       "      <td>564261</td>\n",
       "    </tr>\n",
       "    <tr>\n",
       "      <th>27</th>\n",
       "      <td>.14 to 17 years</td>\n",
       "      <td>255893</td>\n",
       "      <td>256383</td>\n",
       "      <td>256002</td>\n",
       "      <td>256071</td>\n",
       "      <td>256533</td>\n",
       "      <td>261430</td>\n",
       "      <td>265723</td>\n",
       "      <td>269605</td>\n",
       "      <td>271232</td>\n",
       "      <td>268516</td>\n",
       "      <td>265883</td>\n",
       "      <td>263298</td>\n",
       "      <td>261845</td>\n",
       "    </tr>\n",
       "    <tr>\n",
       "      <th>28</th>\n",
       "      <td>.18 to 64 years</td>\n",
       "      <td>2743926</td>\n",
       "      <td>2749020</td>\n",
       "      <td>2763394</td>\n",
       "      <td>2777894</td>\n",
       "      <td>2800036</td>\n",
       "      <td>2823241</td>\n",
       "      <td>2850474</td>\n",
       "      <td>2889103</td>\n",
       "      <td>2918474</td>\n",
       "      <td>2946335</td>\n",
       "      <td>2974705</td>\n",
       "      <td>2989485</td>\n",
       "      <td>2994530</td>\n",
       "    </tr>\n",
       "    <tr>\n",
       "      <th>29</th>\n",
       "      <td>.18 to 24 years</td>\n",
       "      <td>439627</td>\n",
       "      <td>442244</td>\n",
       "      <td>447963</td>\n",
       "      <td>450657</td>\n",
       "      <td>456549</td>\n",
       "      <td>457934</td>\n",
       "      <td>458170</td>\n",
       "      <td>459114</td>\n",
       "      <td>462996</td>\n",
       "      <td>470431</td>\n",
       "      <td>476884</td>\n",
       "      <td>479175</td>\n",
       "      <td>479438</td>\n",
       "    </tr>\n",
       "    <tr>\n",
       "      <th>30</th>\n",
       "      <td>.25 to 44 years</td>\n",
       "      <td>1288570</td>\n",
       "      <td>1284371</td>\n",
       "      <td>1266952</td>\n",
       "      <td>1249808</td>\n",
       "      <td>1238460</td>\n",
       "      <td>1231571</td>\n",
       "      <td>1228586</td>\n",
       "      <td>1233767</td>\n",
       "      <td>1232608</td>\n",
       "      <td>1231410</td>\n",
       "      <td>1232200</td>\n",
       "      <td>1228423</td>\n",
       "      <td>1229247</td>\n",
       "    </tr>\n",
       "    <tr>\n",
       "      <th>31</th>\n",
       "      <td>.45 to 64 years</td>\n",
       "      <td>1015729</td>\n",
       "      <td>1022405</td>\n",
       "      <td>1048479</td>\n",
       "      <td>1077429</td>\n",
       "      <td>1105027</td>\n",
       "      <td>1133736</td>\n",
       "      <td>1163718</td>\n",
       "      <td>1196222</td>\n",
       "      <td>1222870</td>\n",
       "      <td>1244494</td>\n",
       "      <td>1265621</td>\n",
       "      <td>1281887</td>\n",
       "      <td>1285845</td>\n",
       "    </tr>\n",
       "    <tr>\n",
       "      <th>32</th>\n",
       "      <td>.65 years and over</td>\n",
       "      <td>579814</td>\n",
       "      <td>580880</td>\n",
       "      <td>583831</td>\n",
       "      <td>585605</td>\n",
       "      <td>590372</td>\n",
       "      <td>593826</td>\n",
       "      <td>602102</td>\n",
       "      <td>613080</td>\n",
       "      <td>622070</td>\n",
       "      <td>636944</td>\n",
       "      <td>649041</td>\n",
       "      <td>657792</td>\n",
       "      <td>659822</td>\n",
       "    </tr>\n",
       "    <tr>\n",
       "      <th>33</th>\n",
       "      <td>.</td>\n",
       "      <td>NaN</td>\n",
       "      <td>NaN</td>\n",
       "      <td>NaN</td>\n",
       "      <td>NaN</td>\n",
       "      <td>NaN</td>\n",
       "      <td>NaN</td>\n",
       "      <td>NaN</td>\n",
       "      <td>NaN</td>\n",
       "      <td>NaN</td>\n",
       "      <td>NaN</td>\n",
       "      <td>NaN</td>\n",
       "      <td>NaN</td>\n",
       "      <td>NaN</td>\n",
       "    </tr>\n",
       "    <tr>\n",
       "      <th>34</th>\n",
       "      <td>.16 years and over</td>\n",
       "      <td>3451648</td>\n",
       "      <td>3457832</td>\n",
       "      <td>3475903</td>\n",
       "      <td>3492741</td>\n",
       "      <td>3518819</td>\n",
       "      <td>3545596</td>\n",
       "      <td>3583225</td>\n",
       "      <td>3638421</td>\n",
       "      <td>3679285</td>\n",
       "      <td>3719993</td>\n",
       "      <td>3759588</td>\n",
       "      <td>3781800</td>\n",
       "      <td>3787994</td>\n",
       "    </tr>\n",
       "    <tr>\n",
       "      <th>35</th>\n",
       "      <td>.18 years and over</td>\n",
       "      <td>3323740</td>\n",
       "      <td>3329900</td>\n",
       "      <td>3347225</td>\n",
       "      <td>3363499</td>\n",
       "      <td>3390408</td>\n",
       "      <td>3417067</td>\n",
       "      <td>3452576</td>\n",
       "      <td>3502183</td>\n",
       "      <td>3540544</td>\n",
       "      <td>3583279</td>\n",
       "      <td>3623746</td>\n",
       "      <td>3647277</td>\n",
       "      <td>3654352</td>\n",
       "    </tr>\n",
       "    <tr>\n",
       "      <th>36</th>\n",
       "      <td>.15 to 44 years</td>\n",
       "      <td>1920029</td>\n",
       "      <td>1919153</td>\n",
       "      <td>1907559</td>\n",
       "      <td>1893369</td>\n",
       "      <td>1887098</td>\n",
       "      <td>1883415</td>\n",
       "      <td>1886066</td>\n",
       "      <td>1897009</td>\n",
       "      <td>1901180</td>\n",
       "      <td>1905741</td>\n",
       "      <td>1910928</td>\n",
       "      <td>1907216</td>\n",
       "      <td>1907352</td>\n",
       "    </tr>\n",
       "    <tr>\n",
       "      <th>37</th>\n",
       "      <td>.</td>\n",
       "      <td>NaN</td>\n",
       "      <td>NaN</td>\n",
       "      <td>NaN</td>\n",
       "      <td>NaN</td>\n",
       "      <td>NaN</td>\n",
       "      <td>NaN</td>\n",
       "      <td>NaN</td>\n",
       "      <td>NaN</td>\n",
       "      <td>NaN</td>\n",
       "      <td>NaN</td>\n",
       "      <td>NaN</td>\n",
       "      <td>NaN</td>\n",
       "      <td>NaN</td>\n",
       "    </tr>\n",
       "    <tr>\n",
       "      <th>38</th>\n",
       "      <td>.Median age (years)</td>\n",
       "      <td>35.84796</td>\n",
       "      <td>35.928453</td>\n",
       "      <td>36.222548</td>\n",
       "      <td>36.490234</td>\n",
       "      <td>36.696957</td>\n",
       "      <td>36.860782</td>\n",
       "      <td>36.993078</td>\n",
       "      <td>37.135348</td>\n",
       "      <td>37.305672</td>\n",
       "      <td>37.502912</td>\n",
       "      <td>37.699174</td>\n",
       "      <td>37.854873</td>\n",
       "      <td>37.875904</td>\n",
       "    </tr>\n",
       "    <tr>\n",
       "      <th>39</th>\n",
       "      <td>MALE</td>\n",
       "      <td>2146560</td>\n",
       "      <td>2149338</td>\n",
       "      <td>2158138</td>\n",
       "      <td>2165719</td>\n",
       "      <td>2179422</td>\n",
       "      <td>2192872</td>\n",
       "      <td>2213382</td>\n",
       "      <td>2243501</td>\n",
       "      <td>2265565</td>\n",
       "      <td>2287949</td>\n",
       "      <td>2309779</td>\n",
       "      <td>2320188</td>\n",
       "      <td>2323317</td>\n",
       "    </tr>\n",
       "  </tbody>\n",
       "</table>\n",
       "</div>"
      ],
      "text/plain": [
       "                                                   0               1   \\\n",
       "0   table with row headers in column A and column ...             NaN   \n",
       "1   Table 2. Intercensal Estimates of the Resident...             NaN   \n",
       "2                                         Sex and Age  April 1, 20001   \n",
       "3                                                 NaN             NaN   \n",
       "4                                          BOTH SEXES         4447207   \n",
       "5                                      .Under 5 years          296000   \n",
       "6                                       .5 to 9 years          315369   \n",
       "7                                     .10 to 14 years          320266   \n",
       "8                                     .15 to 19 years          324583   \n",
       "9                                     .20 to 24 years          306876   \n",
       "10                                    .25 to 29 years          301197   \n",
       "11                                    .30 to 34 years          301842   \n",
       "12                                    .35 to 39 years          340313   \n",
       "13                                    .40 to 44 years          345218   \n",
       "14                                    .45 to 49 years          315164   \n",
       "15                                    .50 to 54 years          285027   \n",
       "16                                    .55 to 59 years          225445   \n",
       "17                                    .60 to 64 years          190093   \n",
       "18                                    .65 to 69 years          167975   \n",
       "19                                    .70 to 74 years          148785   \n",
       "20                                    .75 to 79 years          118111   \n",
       "21                                    .80 to 84 years           77644   \n",
       "22                                 .85 years and over           67299   \n",
       "23                                                  .             NaN   \n",
       "24                                    .Under 18 years         1123467   \n",
       "25                                     .Under 5 years          296000   \n",
       "26                                     .5 to 13 years          571574   \n",
       "27                                    .14 to 17 years          255893   \n",
       "28                                    .18 to 64 years         2743926   \n",
       "29                                    .18 to 24 years          439627   \n",
       "30                                    .25 to 44 years         1288570   \n",
       "31                                    .45 to 64 years         1015729   \n",
       "32                                 .65 years and over          579814   \n",
       "33                                                  .             NaN   \n",
       "34                                 .16 years and over         3451648   \n",
       "35                                 .18 years and over         3323740   \n",
       "36                                    .15 to 44 years         1920029   \n",
       "37                                                  .             NaN   \n",
       "38                                .Median age (years)        35.84796   \n",
       "39                                               MALE         2146560   \n",
       "\n",
       "                                      2          3          4          5   \\\n",
       "0                                    NaN        NaN        NaN        NaN   \n",
       "1                                    NaN        NaN        NaN        NaN   \n",
       "2   Intercensal Estimates (as of July 1)        NaN        NaN        NaN   \n",
       "3                                   2000       2001       2002       2003   \n",
       "4                                4452173    4467634    4480089    4503491   \n",
       "5                                 295185     296624     296046     295204   \n",
       "6                                 313178     307526     302632     299148   \n",
       "7                                 321372     323615     325008     326642   \n",
       "8                                 325612     321866     320749     321655   \n",
       "9                                 309170     318741     322812     326983   \n",
       "10                                298679     286763     281003     280387   \n",
       "11                                301179     302186     302668     302722   \n",
       "12                                338693     330870     321114     312160   \n",
       "13                                345820     347133     345023     343191   \n",
       "14                                316816     323347     330998     337237   \n",
       "15                                287948     300108     298908     302120   \n",
       "16                                226761     231202     248643     258551   \n",
       "17                                190880     193822     198880     207119   \n",
       "18                                167835     169261     170495     173635   \n",
       "19                                148805     149001     147964     147332   \n",
       "20                                118478     118750     119599     120741   \n",
       "21                                 78201      79883      81123      83097   \n",
       "22                                 67561      66936      66424      65567   \n",
       "23                                   NaN        NaN        NaN        NaN   \n",
       "24                               1122273    1120409    1116590    1113083   \n",
       "25                                295185     296624     296046     295204   \n",
       "26                                570705     567783     564473     561346   \n",
       "27                                256383     256002     256071     256533   \n",
       "28                               2749020    2763394    2777894    2800036   \n",
       "29                                442244     447963     450657     456549   \n",
       "30                               1284371    1266952    1249808    1238460   \n",
       "31                               1022405    1048479    1077429    1105027   \n",
       "32                                580880     583831     585605     590372   \n",
       "33                                   NaN        NaN        NaN        NaN   \n",
       "34                               3457832    3475903    3492741    3518819   \n",
       "35                               3329900    3347225    3363499    3390408   \n",
       "36                               1919153    1907559    1893369    1887098   \n",
       "37                                   NaN        NaN        NaN        NaN   \n",
       "38                             35.928453  36.222548  36.490234  36.696957   \n",
       "39                               2149338    2158138    2165719    2179422   \n",
       "\n",
       "           6          7          8          9          10         11  \\\n",
       "0         NaN        NaN        NaN        NaN        NaN        NaN   \n",
       "1         NaN        NaN        NaN        NaN        NaN        NaN   \n",
       "2         NaN        NaN        NaN        NaN        NaN        NaN   \n",
       "3        2004       2005       2006       2007       2008       2009   \n",
       "4     4530729    4569805    4628981    4672840    4718206    4757938   \n",
       "5      295970     296441     297222     300300     304842     305412   \n",
       "6      297554     298450     303581     306013     306682     307864   \n",
       "7      326228     323028     321867     320407     319503     319072   \n",
       "8      325095     330753     337003     341279     345580     346611   \n",
       "9      326749     326727     326239     327293     328751     332117   \n",
       "10     283864     290568     302813     307619     311504     312199   \n",
       "11     299896     295263     288248     286033     287272     293352   \n",
       "12     305558     303456     308663     312470     313869     312797   \n",
       "13     342253     339299     334043     326486     318765     313852   \n",
       "14     340768     344392     348601     348251     348148     348256   \n",
       "15     307605     314839     323309     332544     340006     344478   \n",
       "16     270380     284084     297745     298032     301833     307017   \n",
       "17     214983     220403     226567     244043     254507     265870   \n",
       "18     176683     179942     184594     189797     198122     205667   \n",
       "19     147028     149085     151454     152814     156112     159088   \n",
       "20     120322     120923     122066     121729     121862     121679   \n",
       "21      84290      84762      85688      86812      88254      88283   \n",
       "22      65503      67390      69278      70918      72594      74324   \n",
       "23        NaN        NaN        NaN        NaN        NaN        NaN   \n",
       "24    1113662    1117229    1126798    1132296    1134927    1134192   \n",
       "25     295970     296441     297222     300300     304842     305412   \n",
       "26     556262     555065     559971     560764     561569     562897   \n",
       "27     261430     265723     269605     271232     268516     265883   \n",
       "28    2823241    2850474    2889103    2918474    2946335    2974705   \n",
       "29     457934     458170     459114     462996     470431     476884   \n",
       "30    1231571    1228586    1233767    1232608    1231410    1232200   \n",
       "31    1133736    1163718    1196222    1222870    1244494    1265621   \n",
       "32     593826     602102     613080     622070     636944     649041   \n",
       "33        NaN        NaN        NaN        NaN        NaN        NaN   \n",
       "34    3545596    3583225    3638421    3679285    3719993    3759588   \n",
       "35    3417067    3452576    3502183    3540544    3583279    3623746   \n",
       "36    1883415    1886066    1897009    1901180    1905741    1910928   \n",
       "37        NaN        NaN        NaN        NaN        NaN        NaN   \n",
       "38  36.860782  36.993078  37.135348  37.305672  37.502912  37.699174   \n",
       "39    2192872    2213382    2243501    2265565    2287949    2309779   \n",
       "\n",
       "                12             13  \n",
       "0              NaN            NaN  \n",
       "1              NaN            NaN  \n",
       "2   April 1, 20102  July 1, 20103  \n",
       "3              NaN            NaN  \n",
       "4          4779736        4785298  \n",
       "5           304957         304840  \n",
       "6           308229         308125  \n",
       "7           319655         319314  \n",
       "8           343471         341504  \n",
       "9           335322         336601  \n",
       "10          311034         311929  \n",
       "11          297888         300120  \n",
       "12          308430         306442  \n",
       "13          311071         310756  \n",
       "14          346369         345049  \n",
       "15          347485         348347  \n",
       "16          311906         313686  \n",
       "17          276127         278763  \n",
       "18          209637         210742  \n",
       "19          160864         161514  \n",
       "20          122836         122639  \n",
       "21           88771          88754  \n",
       "22           75684          76173  \n",
       "23             NaN            NaN  \n",
       "24         1132459        1130946  \n",
       "25          304957         304840  \n",
       "26          564204         564261  \n",
       "27          263298         261845  \n",
       "28         2989485        2994530  \n",
       "29          479175         479438  \n",
       "30         1228423        1229247  \n",
       "31         1281887        1285845  \n",
       "32          657792         659822  \n",
       "33             NaN            NaN  \n",
       "34         3781800        3787994  \n",
       "35         3647277        3654352  \n",
       "36         1907216        1907352  \n",
       "37             NaN            NaN  \n",
       "38       37.854873      37.875904  \n",
       "39         2320188        2323317  "
      ]
     },
     "execution_count": 4,
     "metadata": {},
     "output_type": "execute_result"
    }
   ],
   "source": [
    "test_df = pd.read_excel(os.path.join(DATA_DIR, \"Alabama_pop_by_sex_and_age_2000-2010.xls\"), dtype=object, header=None)\n",
    "test_df.head(40)"
   ]
  },
  {
   "cell_type": "code",
   "execution_count": 5,
   "id": "675b9ad9",
   "metadata": {},
   "outputs": [
    {
     "data": {
      "text/plain": [
       "39"
      ]
     },
     "execution_count": 5,
     "metadata": {},
     "output_type": "execute_result"
    }
   ],
   "source": [
    "male_start = test_df[test_df[0] == \"MALE\"].index.to_list()[0]\n",
    "male_start"
   ]
  },
  {
   "cell_type": "code",
   "execution_count": 6,
   "id": "61bfd3b2",
   "metadata": {},
   "outputs": [
    {
     "data": {
      "text/html": [
       "<div>\n",
       "<style scoped>\n",
       "    .dataframe tbody tr th:only-of-type {\n",
       "        vertical-align: middle;\n",
       "    }\n",
       "\n",
       "    .dataframe tbody tr th {\n",
       "        vertical-align: top;\n",
       "    }\n",
       "\n",
       "    .dataframe thead th {\n",
       "        text-align: right;\n",
       "    }\n",
       "</style>\n",
       "<table border=\"1\" class=\"dataframe\">\n",
       "  <thead>\n",
       "    <tr style=\"text-align: right;\">\n",
       "      <th></th>\n",
       "      <th>0</th>\n",
       "      <th>1</th>\n",
       "      <th>2</th>\n",
       "      <th>3</th>\n",
       "      <th>4</th>\n",
       "      <th>5</th>\n",
       "      <th>6</th>\n",
       "      <th>7</th>\n",
       "      <th>8</th>\n",
       "      <th>9</th>\n",
       "      <th>10</th>\n",
       "      <th>11</th>\n",
       "      <th>12</th>\n",
       "      <th>13</th>\n",
       "    </tr>\n",
       "  </thead>\n",
       "  <tbody>\n",
       "    <tr>\n",
       "      <th>39</th>\n",
       "      <td>MALE</td>\n",
       "      <td>2146560</td>\n",
       "      <td>2149338</td>\n",
       "      <td>2158138</td>\n",
       "      <td>2165719</td>\n",
       "      <td>2179422</td>\n",
       "      <td>2192872</td>\n",
       "      <td>2213382</td>\n",
       "      <td>2243501</td>\n",
       "      <td>2265565</td>\n",
       "      <td>2287949</td>\n",
       "      <td>2309779</td>\n",
       "      <td>2320188</td>\n",
       "      <td>2323317</td>\n",
       "    </tr>\n",
       "    <tr>\n",
       "      <th>40</th>\n",
       "      <td>.Under 5 years</td>\n",
       "      <td>151071</td>\n",
       "      <td>150609</td>\n",
       "      <td>151410</td>\n",
       "      <td>150856</td>\n",
       "      <td>150594</td>\n",
       "      <td>150699</td>\n",
       "      <td>150960</td>\n",
       "      <td>151442</td>\n",
       "      <td>153128</td>\n",
       "      <td>155061</td>\n",
       "      <td>155463</td>\n",
       "      <td>155265</td>\n",
       "      <td>155196</td>\n",
       "    </tr>\n",
       "    <tr>\n",
       "      <th>41</th>\n",
       "      <td>.5 to 9 years</td>\n",
       "      <td>161798</td>\n",
       "      <td>160685</td>\n",
       "      <td>157513</td>\n",
       "      <td>154832</td>\n",
       "      <td>152874</td>\n",
       "      <td>151948</td>\n",
       "      <td>152574</td>\n",
       "      <td>155157</td>\n",
       "      <td>156345</td>\n",
       "      <td>156770</td>\n",
       "      <td>157145</td>\n",
       "      <td>157340</td>\n",
       "      <td>157294</td>\n",
       "    </tr>\n",
       "    <tr>\n",
       "      <th>42</th>\n",
       "      <td>.10 to 14 years</td>\n",
       "      <td>164637</td>\n",
       "      <td>165170</td>\n",
       "      <td>166253</td>\n",
       "      <td>166796</td>\n",
       "      <td>167376</td>\n",
       "      <td>167198</td>\n",
       "      <td>165333</td>\n",
       "      <td>164608</td>\n",
       "      <td>163819</td>\n",
       "      <td>163445</td>\n",
       "      <td>163165</td>\n",
       "      <td>163417</td>\n",
       "      <td>163222</td>\n",
       "    </tr>\n",
       "    <tr>\n",
       "      <th>43</th>\n",
       "      <td>.15 to 19 years</td>\n",
       "      <td>164416</td>\n",
       "      <td>165156</td>\n",
       "      <td>163598</td>\n",
       "      <td>163527</td>\n",
       "      <td>164178</td>\n",
       "      <td>165836</td>\n",
       "      <td>169052</td>\n",
       "      <td>172295</td>\n",
       "      <td>174268</td>\n",
       "      <td>176205</td>\n",
       "      <td>176744</td>\n",
       "      <td>175151</td>\n",
       "      <td>174172</td>\n",
       "    </tr>\n",
       "    <tr>\n",
       "      <th>...</th>\n",
       "      <td>...</td>\n",
       "      <td>...</td>\n",
       "      <td>...</td>\n",
       "      <td>...</td>\n",
       "      <td>...</td>\n",
       "      <td>...</td>\n",
       "      <td>...</td>\n",
       "      <td>...</td>\n",
       "      <td>...</td>\n",
       "      <td>...</td>\n",
       "      <td>...</td>\n",
       "      <td>...</td>\n",
       "      <td>...</td>\n",
       "      <td>...</td>\n",
       "    </tr>\n",
       "    <tr>\n",
       "      <th>112</th>\n",
       "      <td>Note: Median age is calculated based on single...</td>\n",
       "      <td>NaN</td>\n",
       "      <td>NaN</td>\n",
       "      <td>NaN</td>\n",
       "      <td>NaN</td>\n",
       "      <td>NaN</td>\n",
       "      <td>NaN</td>\n",
       "      <td>NaN</td>\n",
       "      <td>NaN</td>\n",
       "      <td>NaN</td>\n",
       "      <td>NaN</td>\n",
       "      <td>NaN</td>\n",
       "      <td>NaN</td>\n",
       "      <td>NaN</td>\n",
       "    </tr>\n",
       "    <tr>\n",
       "      <th>113</th>\n",
       "      <td>Suggested Citation:</td>\n",
       "      <td>NaN</td>\n",
       "      <td>NaN</td>\n",
       "      <td>NaN</td>\n",
       "      <td>NaN</td>\n",
       "      <td>NaN</td>\n",
       "      <td>NaN</td>\n",
       "      <td>NaN</td>\n",
       "      <td>NaN</td>\n",
       "      <td>NaN</td>\n",
       "      <td>NaN</td>\n",
       "      <td>NaN</td>\n",
       "      <td>NaN</td>\n",
       "      <td>NaN</td>\n",
       "    </tr>\n",
       "    <tr>\n",
       "      <th>114</th>\n",
       "      <td>Table 2. Intercensal Estimates of the Resident...</td>\n",
       "      <td>NaN</td>\n",
       "      <td>NaN</td>\n",
       "      <td>NaN</td>\n",
       "      <td>NaN</td>\n",
       "      <td>NaN</td>\n",
       "      <td>NaN</td>\n",
       "      <td>NaN</td>\n",
       "      <td>NaN</td>\n",
       "      <td>NaN</td>\n",
       "      <td>NaN</td>\n",
       "      <td>NaN</td>\n",
       "      <td>NaN</td>\n",
       "      <td>NaN</td>\n",
       "    </tr>\n",
       "    <tr>\n",
       "      <th>115</th>\n",
       "      <td>Source: U.S. Census Bureau, Population Division</td>\n",
       "      <td>NaN</td>\n",
       "      <td>NaN</td>\n",
       "      <td>NaN</td>\n",
       "      <td>NaN</td>\n",
       "      <td>NaN</td>\n",
       "      <td>NaN</td>\n",
       "      <td>NaN</td>\n",
       "      <td>NaN</td>\n",
       "      <td>NaN</td>\n",
       "      <td>NaN</td>\n",
       "      <td>NaN</td>\n",
       "      <td>NaN</td>\n",
       "      <td>NaN</td>\n",
       "    </tr>\n",
       "    <tr>\n",
       "      <th>116</th>\n",
       "      <td>Release Date: October 2012</td>\n",
       "      <td>NaN</td>\n",
       "      <td>NaN</td>\n",
       "      <td>NaN</td>\n",
       "      <td>NaN</td>\n",
       "      <td>NaN</td>\n",
       "      <td>NaN</td>\n",
       "      <td>NaN</td>\n",
       "      <td>NaN</td>\n",
       "      <td>NaN</td>\n",
       "      <td>NaN</td>\n",
       "      <td>NaN</td>\n",
       "      <td>NaN</td>\n",
       "      <td>NaN</td>\n",
       "    </tr>\n",
       "  </tbody>\n",
       "</table>\n",
       "<p>78 rows × 14 columns</p>\n",
       "</div>"
      ],
      "text/plain": [
       "                                                    0        1        2   \\\n",
       "39                                                MALE  2146560  2149338   \n",
       "40                                      .Under 5 years   151071   150609   \n",
       "41                                       .5 to 9 years   161798   160685   \n",
       "42                                     .10 to 14 years   164637   165170   \n",
       "43                                     .15 to 19 years   164416   165156   \n",
       "..                                                 ...      ...      ...   \n",
       "112  Note: Median age is calculated based on single...      NaN      NaN   \n",
       "113                                Suggested Citation:      NaN      NaN   \n",
       "114  Table 2. Intercensal Estimates of the Resident...      NaN      NaN   \n",
       "115    Source: U.S. Census Bureau, Population Division      NaN      NaN   \n",
       "116                         Release Date: October 2012      NaN      NaN   \n",
       "\n",
       "          3        4        5        6        7        8        9        10  \\\n",
       "39   2158138  2165719  2179422  2192872  2213382  2243501  2265565  2287949   \n",
       "40    151410   150856   150594   150699   150960   151442   153128   155061   \n",
       "41    157513   154832   152874   151948   152574   155157   156345   156770   \n",
       "42    166253   166796   167376   167198   165333   164608   163819   163445   \n",
       "43    163598   163527   164178   165836   169052   172295   174268   176205   \n",
       "..       ...      ...      ...      ...      ...      ...      ...      ...   \n",
       "112      NaN      NaN      NaN      NaN      NaN      NaN      NaN      NaN   \n",
       "113      NaN      NaN      NaN      NaN      NaN      NaN      NaN      NaN   \n",
       "114      NaN      NaN      NaN      NaN      NaN      NaN      NaN      NaN   \n",
       "115      NaN      NaN      NaN      NaN      NaN      NaN      NaN      NaN   \n",
       "116      NaN      NaN      NaN      NaN      NaN      NaN      NaN      NaN   \n",
       "\n",
       "          11       12       13  \n",
       "39   2309779  2320188  2323317  \n",
       "40    155463   155265   155196  \n",
       "41    157145   157340   157294  \n",
       "42    163165   163417   163222  \n",
       "43    176744   175151   174172  \n",
       "..       ...      ...      ...  \n",
       "112      NaN      NaN      NaN  \n",
       "113      NaN      NaN      NaN  \n",
       "114      NaN      NaN      NaN  \n",
       "115      NaN      NaN      NaN  \n",
       "116      NaN      NaN      NaN  \n",
       "\n",
       "[78 rows x 14 columns]"
      ]
     },
     "execution_count": 6,
     "metadata": {},
     "output_type": "execute_result"
    }
   ],
   "source": [
    "pop_brackets = test_df.iloc[male_start:]\n",
    "pop_brackets"
   ]
  },
  {
   "cell_type": "code",
   "execution_count": 7,
   "id": "90d8212b",
   "metadata": {},
   "outputs": [
    {
     "data": {
      "text/plain": [
       "(73, 108)"
      ]
     },
     "execution_count": 7,
     "metadata": {},
     "output_type": "execute_result"
    }
   ],
   "source": [
    "female_start = pop_brackets[pop_brackets[0] == \"FEMALE\"].index.to_list()[0]\n",
    "male_end, female_end = pop_brackets[pop_brackets[0] == \".Median age (years)\"].index.to_list()\n",
    "male_end, female_end"
   ]
  },
  {
   "cell_type": "markdown",
   "id": "5455187c",
   "metadata": {},
   "source": [
    "# split the excel spreadsheet into the male and female population brackets"
   ]
  },
  {
   "cell_type": "code",
   "execution_count": null,
   "id": "5db4397f",
   "metadata": {},
   "outputs": [],
   "source": [
    "male_pop_bracket = test_df.iloc[male_start:male_end]\n",
    "male_pop_bracket"
   ]
  },
  {
   "cell_type": "code",
   "execution_count": null,
   "id": "196cb7d3",
   "metadata": {},
   "outputs": [],
   "source": [
    "female_pop_bracket = test_df.iloc[female_start:female_end]\n",
    "female_pop_bracket"
   ]
  },
  {
   "cell_type": "markdown",
   "id": "a8c4601b",
   "metadata": {},
   "source": [
    "#### Remove the following\n",
    "* column `1`, column `12`, and column `13` (the reasoning is these contain only the population estimates of april 1 and not the most recent one which is supposed to be at july 1, and that column `13` is the year 2010 which already exists in the next population years)\n",
    "* rows with mostly Nan and the a dot symbol in column `1` i.e. `[. Nan Nan Nan Nan Nan ... Nan]`\n",
    "* and the male column \n",
    "\n",
    "#### we also rename the columns to be `bracket`, `2000`, `2001`, `2002`, `2003`, `2004`, `2005`, `2006`, `2007`, `2008`, `2009`"
   ]
  },
  {
   "cell_type": "code",
   "execution_count": null,
   "id": "cfb19208",
   "metadata": {},
   "outputs": [],
   "source": [
    "cols_to_remove = [1, 12, 13]\n",
    "cond = (male_pop_bracket[0] != \".\") & (male_pop_bracket[0] != \"MALE\")\n",
    "name_map = {0: \"bracket\", 2: 2000, 3: 2001, 4: 2002, 5: 2003, 6: 2004, 7: 2005, 8: 2006, 9: 2007, 10: 2008, 11: 2009}\n",
    "temp_male = male_pop_bracket[cond].drop(columns=cols_to_remove).rename(columns=name_map).reset_index(drop=True)\n",
    "temp_male"
   ]
  },
  {
   "cell_type": "markdown",
   "id": "dce0b074",
   "metadata": {},
   "source": [
    "#### we remove the brackets that have duplicates"
   ]
  },
  {
   "cell_type": "code",
   "execution_count": null,
   "id": "ffe6fb19",
   "metadata": {},
   "outputs": [],
   "source": [
    "temp_male = temp_male.drop_duplicates(ignore_index=True)\n",
    "temp_male"
   ]
  },
  {
   "cell_type": "code",
   "execution_count": null,
   "id": "440bcdfc",
   "metadata": {},
   "outputs": [],
   "source": [
    "temp_male.index = temp_male[\"bracket\"]\n",
    "temp_male"
   ]
  },
  {
   "cell_type": "code",
   "execution_count": null,
   "id": "d0adebc7",
   "metadata": {},
   "outputs": [],
   "source": [
    "del temp_male[\"bracket\"]\n",
    "temp_male"
   ]
  },
  {
   "cell_type": "code",
   "execution_count": null,
   "id": "2da3684c",
   "metadata": {},
   "outputs": [],
   "source": [
    "temp_male.shape"
   ]
  },
  {
   "cell_type": "markdown",
   "id": "bfd23224",
   "metadata": {},
   "source": [
    "#### in order to achieve the ff:\n",
    "![modelling table from population data by sex and age 2000 to 2009.png](./figures%20&%20images/modelling%20table%20from%20population%20data%20by%20sex%20and%20age%202000%20to%202009.png)\n",
    "#### we need to somehow at least make our age brackets our index so that when each row is stacked vertically and the column becomes now the row index, that we are able to still keep track of our original row indeces which are our age brackets so that when the dataframe is stacked later and it becomes a multi index dataframe we can just reset the index so that our multi index of our age brackets and years now become columns themselves"
   ]
  },
  {
   "cell_type": "code",
   "execution_count": null,
   "id": "7c0853e7",
   "metadata": {},
   "outputs": [],
   "source": [
    "temp_male = temp_male.stack().reset_index()\n",
    "temp_male"
   ]
  },
  {
   "cell_type": "code",
   "execution_count": null,
   "id": "b0163e9e",
   "metadata": {},
   "outputs": [],
   "source": [
    "temp_male = temp_male.rename(columns={\"level_1\": \"year\", 0: \"population\"})\n",
    "temp_male"
   ]
  },
  {
   "cell_type": "markdown",
   "id": "1dcd25c0",
   "metadata": {},
   "source": [
    "#### we also apply transformations to the `bracket` column by splitting say `.5 to 9 years` to 5 and 9 and have separate columns named `age_start` and `age_end` to take in these values"
   ]
  },
  {
   "cell_type": "code",
   "execution_count": null,
   "id": "0ab86938",
   "metadata": {},
   "outputs": [],
   "source": [
    "def helper(bracket: str | None):\n",
    "    bracket = bracket.lower()\n",
    "    keyword = re.search(r\"(under|to|and over|\\+)\", bracket)\n",
    "    keyword = np.nan if not keyword else keyword[0]\n",
    "    numbers = re.findall(r\"\\d+\", bracket)\n",
    "    numbers = [ast.literal_eval(number) for number in numbers]\n",
    "    # print(keyword)\n",
    "    # print(numbers)\n",
    "\n",
    "    # e.g. \"under 5\" becomes \"_under_5\"\n",
    "    if keyword == \"under\":\n",
    "        return (0, numbers[-1])\n",
    "    \n",
    "    # e.g. \"5 to 9\" becomes \"_5_to_9\"\n",
    "    elif keyword == \"to\":\n",
    "        return (numbers[0], numbers[-1])\n",
    "    \n",
    "    # e.g. \"9 and over\" becomes \"_9_and_over\"\n",
    "    elif keyword == \"and over\" or keyword == \"+\": \n",
    "        return (numbers[-1], float('inf'))\n",
    "    \n",
    "    # if it is a single number just return that number\n",
    "    return (np.nan, numbers[-1])"
   ]
  },
  {
   "cell_type": "code",
   "execution_count": null,
   "id": "8d719222",
   "metadata": {},
   "outputs": [],
   "source": [
    "age_ranges = temp_male[\"bracket\"].apply(helper).to_list()\n",
    "age_ranges"
   ]
  },
  {
   "cell_type": "code",
   "execution_count": null,
   "id": "44b90cf2",
   "metadata": {},
   "outputs": [],
   "source": [
    "temp_male[\"age_start\"], temp_male[\"age_end\"] = list(zip(*age_ranges))\n",
    "temp_male"
   ]
  },
  {
   "cell_type": "markdown",
   "id": "78a7dc1b",
   "metadata": {},
   "source": [
    "#### delete the bracket column for the last time"
   ]
  },
  {
   "cell_type": "code",
   "execution_count": null,
   "id": "9bb58f23",
   "metadata": {},
   "outputs": [],
   "source": [
    "del temp_male[\"bracket\"]\n",
    "temp_male"
   ]
  },
  {
   "cell_type": "code",
   "execution_count": null,
   "id": "3a9d4545",
   "metadata": {},
   "outputs": [],
   "source": [
    "temp_male[\"sex\"] = \"Male\""
   ]
  },
  {
   "cell_type": "code",
   "execution_count": null,
   "id": "a8b40cd2",
   "metadata": {},
   "outputs": [],
   "source": [
    "temp_male[\"state\"] = \"Alabama\""
   ]
  },
  {
   "cell_type": "code",
   "execution_count": null,
   "id": "baf08bb6",
   "metadata": {},
   "outputs": [],
   "source": [
    "final_male_pop_bracket = temp_male\n",
    "final_male_pop_bracket"
   ]
  },
  {
   "cell_type": "code",
   "execution_count": null,
   "id": "ff61c2a3",
   "metadata": {},
   "outputs": [],
   "source": [
    "(final_male_pop_bracket[\"population\"] <= 0).sum()"
   ]
  },
  {
   "cell_type": "code",
   "execution_count": null,
   "id": "6c6b5a33",
   "metadata": {},
   "outputs": [],
   "source": [
    "column_summary(final_male_pop_bracket)"
   ]
  },
  {
   "cell_type": "markdown",
   "id": "e29b80b2",
   "metadata": {},
   "source": [
    "#### We've done our preprocessing on the male population age brackets now we have to this same preprocessing on the female demographic. We can achieve this by writing a function that implements our above prototype that not only does it to the male population but also that of the female one, adn combines the resulting dataframes into one single dataframe for easy collation"
   ]
  },
  {
   "cell_type": "code",
   "execution_count": null,
   "id": "f3a2cfc7",
   "metadata": {},
   "outputs": [],
   "source": [
    "model_population_table(test_df, \"Alabama\", cols_to_remove, year_range=\"2000-2009\")"
   ]
  },
  {
   "cell_type": "code",
   "execution_count": null,
   "id": "917e2150",
   "metadata": {},
   "outputs": [],
   "source": [
    "def concur_model_pop_tables(file, cols_to_remove, year_range, callback_fn=model_population_table):\n",
    "    FILE_PATH = os.path.join(DATA_DIR, file)\n",
    "    state = re.search(r\"(^[A-Za-z\\s]+)\", file)\n",
    "    state = \"Unknown\" if not state else state[0]\n",
    "\n",
    "    # print(cols_to_remove)\n",
    "    # print(year_range)\n",
    "    # read excel file\n",
    "    df = pd.read_excel(FILE_PATH, dtype=object, header=None)\n",
    "    \n",
    "    state_population = callback_fn(df, state, cols_to_remove, year_range=year_range)\n",
    "    return state_population"
   ]
  },
  {
   "cell_type": "code",
   "execution_count": null,
   "id": "4f7ed97c",
   "metadata": {},
   "outputs": [],
   "source": [
    "with ThreadPoolExecutor() as exe:\n",
    "    state_populations_by_sex_age_00_09 = list(exe.map(\n",
    "        concur_model_pop_tables, \n",
    "        populations_by_sex_age_00_10, \n",
    "        [cols_to_remove] * len(populations_by_sex_age_00_10),\n",
    "        [\"2000-2009\"] * len(populations_by_sex_age_00_10)\n",
    "    ))\n",
    "\n",
    "state_populations_by_sex_age_df_00_09 = pd.concat(state_populations_by_sex_age_00_09, axis=0, ignore_index=True)\n",
    "state_populations_by_sex_age_df_00_09[\"id\"] = state_populations_by_sex_age_df_00_09.index + 1"
   ]
  },
  {
   "cell_type": "code",
   "execution_count": null,
   "id": "b6deb1fd",
   "metadata": {},
   "outputs": [],
   "source": [
    "state_populations_by_sex_age_df_00_09"
   ]
  },
  {
   "cell_type": "markdown",
   "id": "42f62f16",
   "metadata": {},
   "source": [
    "#### we don't save this modelled dataset as we will instead be uploading automatically using an orchestration tool like airflow to a data warehouse like databricks"
   ]
  },
  {
   "cell_type": "code",
   "execution_count": null,
   "id": "0542882e",
   "metadata": {},
   "outputs": [],
   "source": [
    "column_summary(state_populations_by_sex_age_df_00_09)"
   ]
  },
  {
   "cell_type": "code",
   "execution_count": null,
   "id": "6cdacb41",
   "metadata": {},
   "outputs": [],
   "source": [
    "# take note this is just hte below five age bracket, \n",
    "# if we include all other age brackets we might have\n",
    "# a bigger total population value per year\n",
    "test = state_populations_by_sex_age_df_00_09.groupby(by=[\"year\", \"bracket\", \"sex\", \"state\"]).agg(total_population=(\"population\", \"sum\"))\n",
    "test"
   ]
  },
  {
   "cell_type": "markdown",
   "id": "5fa51bd8",
   "metadata": {},
   "source": [
    "# Reading sample excel file for year 2010-2019"
   ]
  },
  {
   "cell_type": "code",
   "execution_count": null,
   "id": "67ed87b9",
   "metadata": {},
   "outputs": [],
   "source": [
    "test_df_10_19 = pd.read_excel(os.path.join(DATA_DIR, \"Alabama_pop_by_sex_and_age_2010-2019.xlsx\"), dtype=object, header=None)\n",
    "test_df_10_19"
   ]
  },
  {
   "cell_type": "code",
   "execution_count": null,
   "id": "2fdbce61",
   "metadata": {},
   "outputs": [],
   "source": [
    "start_index = test_df_10_19[test_df_10_19[0] == \".0\"].index.to_list()[0]\n",
    "start_index"
   ]
  },
  {
   "cell_type": "code",
   "execution_count": null,
   "id": "33d474bf",
   "metadata": {},
   "outputs": [],
   "source": [
    "end_index = test_df_10_19[test_df_10_19[0] == \".Median Age (years)\"].index.to_list()[0]\n",
    "end_index"
   ]
  },
  {
   "cell_type": "markdown",
   "id": "ff38334c",
   "metadata": {},
   "source": [
    "#### Extract necessary rows"
   ]
  },
  {
   "cell_type": "code",
   "execution_count": null,
   "id": "1e5b7934",
   "metadata": {},
   "outputs": [],
   "source": [
    "pop_brackets_10_19 = test_df_10_19.iloc[start_index: end_index]\n",
    "pop_brackets_10_19"
   ]
  },
  {
   "cell_type": "markdown",
   "id": "42abdbc9",
   "metadata": {},
   "source": [
    "#### remove duplicates"
   ]
  },
  {
   "cell_type": "code",
   "execution_count": null,
   "id": "295f5336",
   "metadata": {},
   "outputs": [],
   "source": [
    "temp = pop_brackets_10_19.drop_duplicates()\n",
    "temp"
   ]
  },
  {
   "cell_type": "markdown",
   "id": "31cebb08",
   "metadata": {},
   "source": [
    "#### remove rows with at least 5 nan values"
   ]
  },
  {
   "cell_type": "code",
   "execution_count": null,
   "id": "a4d0357a",
   "metadata": {},
   "outputs": [],
   "source": [
    "temp = temp.dropna(thresh=5, axis=0)\n",
    "temp"
   ]
  },
  {
   "cell_type": "markdown",
   "id": "c0bee502",
   "metadata": {},
   "source": [
    "#### remove columns 1 to 7, then increment by 3"
   ]
  },
  {
   "cell_type": "code",
   "execution_count": null,
   "id": "cfa03b59",
   "metadata": {},
   "outputs": [],
   "source": [
    "cols_to_remove = [1, 2, 3, 4, 5, 6] + list(range(7, temp.shape[1], 3))\n",
    "cols_to_remove"
   ]
  },
  {
   "cell_type": "code",
   "execution_count": null,
   "id": "56ace0f1",
   "metadata": {},
   "outputs": [],
   "source": [
    "temp = temp.drop(columns=cols_to_remove)\n",
    "temp"
   ]
  },
  {
   "cell_type": "code",
   "execution_count": null,
   "id": "558fa620",
   "metadata": {},
   "outputs": [],
   "source": [
    "temp.index = temp[0]\n",
    "temp"
   ]
  },
  {
   "cell_type": "code",
   "execution_count": null,
   "id": "8bb65915",
   "metadata": {},
   "outputs": [],
   "source": [
    "del temp[0]\n",
    "temp"
   ]
  },
  {
   "cell_type": "code",
   "execution_count": null,
   "id": "f992cb89",
   "metadata": {},
   "outputs": [],
   "source": [
    "# generate and create multi index for columns\n",
    "years = sorted(list(range(2010, 2020)) * 2)\n",
    "genders = [\"male\", \"female\"] * 10\n",
    "multi_index_list = list(zip(years, genders))\n",
    "multi_index_list"
   ]
  },
  {
   "cell_type": "code",
   "execution_count": null,
   "id": "fb87dac6",
   "metadata": {},
   "outputs": [],
   "source": [
    "multi_index = pd.MultiIndex.from_tuples(multi_index_list)\n",
    "multi_index"
   ]
  },
  {
   "cell_type": "code",
   "execution_count": null,
   "id": "53a7230a",
   "metadata": {},
   "outputs": [],
   "source": [
    "multi_index[0]"
   ]
  },
  {
   "cell_type": "markdown",
   "id": "d189fbb6",
   "metadata": {},
   "source": [
    "#### set multi indexed columns and delete index name of rows"
   ]
  },
  {
   "cell_type": "code",
   "execution_count": null,
   "id": "eb9d9256",
   "metadata": {},
   "outputs": [],
   "source": [
    "temp.columns = multi_index\n",
    "temp.index.name = \"bracket\"\n",
    "temp"
   ]
  },
  {
   "cell_type": "markdown",
   "id": "b7f9693e",
   "metadata": {},
   "source": [
    "#### now we will have to stack each row vertically on each other and because we have multi indexed columns we will need to stack it twice in order to make these column indeces now be the row indeces"
   ]
  },
  {
   "cell_type": "code",
   "execution_count": null,
   "id": "e9168843",
   "metadata": {},
   "outputs": [],
   "source": [
    "temp = temp.stack().stack()\n",
    "temp"
   ]
  },
  {
   "cell_type": "markdown",
   "id": "7fed3442",
   "metadata": {},
   "source": [
    "#### now we can reset the index such that these multi index rows now become columns of our new dataframe"
   ]
  },
  {
   "cell_type": "code",
   "execution_count": null,
   "id": "1305f720",
   "metadata": {},
   "outputs": [],
   "source": [
    "temp = temp.reset_index()\n",
    "temp"
   ]
  },
  {
   "cell_type": "code",
   "execution_count": null,
   "id": "ac0e24b0",
   "metadata": {},
   "outputs": [],
   "source": [
    "# rename the newly converted columns to bracket, sex, year, and population respectively\n",
    "temp = temp.rename(columns={\"level_1\": \"sex\", \"level_2\": \"year\", 0: \"population\"})\n",
    "temp"
   ]
  },
  {
   "cell_type": "code",
   "execution_count": null,
   "id": "7b040699",
   "metadata": {},
   "outputs": [],
   "source": [
    "age_ranges_00_10 = temp[\"bracket\"].apply(helper).to_list()\n",
    "age_ranges_00_10"
   ]
  },
  {
   "cell_type": "code",
   "execution_count": null,
   "id": "0b239738",
   "metadata": {},
   "outputs": [],
   "source": [
    "temp[\"age_start\"], temp[\"age_end\"] = list(zip(*age_ranges_00_10))\n",
    "temp"
   ]
  },
  {
   "cell_type": "code",
   "execution_count": null,
   "id": "8865393a",
   "metadata": {},
   "outputs": [],
   "source": [
    "temp[\"state\"] = \"Alabama\"\n",
    "temp"
   ]
  },
  {
   "cell_type": "code",
   "execution_count": null,
   "id": "dfd7dcaf",
   "metadata": {},
   "outputs": [],
   "source": [
    "model_population_table(test_df_10_19, \"Alabama\", cols_to_remove, year_range=\"2010-2019\")"
   ]
  },
  {
   "cell_type": "code",
   "execution_count": null,
   "id": "ab160cb3",
   "metadata": {},
   "outputs": [],
   "source": [
    "with ThreadPoolExecutor() as exe:\n",
    "    state_populations_by_sex_age_10_19 = list(exe.map(\n",
    "        concur_model_pop_tables, \n",
    "        populations_by_sex_age_10_19, \n",
    "        [cols_to_remove] * len(populations_by_sex_age_10_19),\n",
    "        [\"2010-2019\"] * len(populations_by_sex_age_10_19)\n",
    "    ))\n",
    "\n",
    "state_populations_by_sex_age_df_10_19 = pd.concat(state_populations_by_sex_age_10_19, axis=0, ignore_index=True)\n",
    "state_populations_by_sex_age_df_10_19[\"id\"] = state_populations_by_sex_age_df_10_19.index + 1"
   ]
  },
  {
   "cell_type": "code",
   "execution_count": null,
   "id": "bd68106e",
   "metadata": {},
   "outputs": [],
   "source": [
    "state_populations_by_sex_age_df_10_19"
   ]
  },
  {
   "cell_type": "code",
   "execution_count": null,
   "id": "b433218b",
   "metadata": {},
   "outputs": [],
   "source": [
    "column_summary(state_populations_by_sex_age_df_10_19)"
   ]
  },
  {
   "cell_type": "markdown",
   "id": "b8324ac5",
   "metadata": {},
   "source": [
    "#### again we don't save this modelled dataset as we will instead be uploading automatically using an orchestration tool like airflow to a data warehouse like databricks"
   ]
  },
  {
   "cell_type": "markdown",
   "id": "4fa40a38",
   "metadata": {},
   "source": [
    "# reading sample excel file from year 2020-2023"
   ]
  },
  {
   "cell_type": "code",
   "execution_count": null,
   "id": "d86c51eb",
   "metadata": {},
   "outputs": [],
   "source": [
    "test_df_20_23 = pd.read_excel(os.path.join(DATA_DIR, \"Alabama_pop_by_sex_and_age_2020-2023.xlsx\"), dtype=object, header=None)\n",
    "test_df_20_23"
   ]
  },
  {
   "cell_type": "markdown",
   "id": "c4b48337",
   "metadata": {},
   "source": [
    "#### clearly we now know we can discard columns 1, 2, 3, 4, 7, 10, and 13"
   ]
  },
  {
   "cell_type": "code",
   "execution_count": null,
   "id": "f42bd7eb",
   "metadata": {},
   "outputs": [],
   "source": [
    "cols_to_remove = [1, 2, 3, 4] + list(range(7, test_df_20_23.shape[1], 3))\n",
    "cols_to_remove"
   ]
  },
  {
   "cell_type": "code",
   "execution_count": null,
   "id": "fdf63140",
   "metadata": {},
   "outputs": [],
   "source": [
    "model_population_table(test_df_20_23, \"Alabama\", cols_to_remove, year_range=\"2020-2023\")"
   ]
  },
  {
   "cell_type": "code",
   "execution_count": null,
   "id": "4d0bd1cc",
   "metadata": {},
   "outputs": [],
   "source": [
    "with ThreadPoolExecutor() as exe:\n",
    "    state_populations_by_sex_age_20_23 = list(exe.map(\n",
    "        concur_model_pop_tables, \n",
    "        populations_by_sex_age_20_23, \n",
    "        [cols_to_remove] * len(populations_by_sex_age_20_23),\n",
    "        [\"2020-2023\"] * len(populations_by_sex_age_20_23)\n",
    "    ))\n",
    "\n",
    "state_populations_by_sex_age_df_20_23 = pd.concat(state_populations_by_sex_age_20_23, axis=0, ignore_index=True)\n",
    "state_populations_by_sex_age_df_20_23[\"id\"] = state_populations_by_sex_age_df_20_23.index + 1"
   ]
  },
  {
   "cell_type": "code",
   "execution_count": null,
   "id": "4ae3bd81",
   "metadata": {},
   "outputs": [],
   "source": [
    "state_populations_by_sex_age_df_20_23"
   ]
  },
  {
   "cell_type": "markdown",
   "id": "77517a7e",
   "metadata": {},
   "source": [
    "#### we don't save this modelled dataset as we will instead be uploading automatically using an orchestration tool like airflow to a data warehouse like databricks"
   ]
  },
  {
   "cell_type": "markdown",
   "id": "1bdd3abc",
   "metadata": {},
   "source": [
    "# Modelling excel spreadsheets with population values based on sex, race, and hispanic origin 2000 - 2009"
   ]
  },
  {
   "cell_type": "markdown",
   "id": "4a4091d4",
   "metadata": {},
   "source": [
    "![modelling table from population data by sex race and ethnicity 2000 to 2009.png](./figures%20&%20images/modelling%20table%20from%20population%20data%20by%20sex%20race%20and%20ethnicity%202000%20to%202009.png)"
   ]
  },
  {
   "cell_type": "code",
   "execution_count": null,
   "id": "b535e06a",
   "metadata": {},
   "outputs": [],
   "source": [
    "test_df_00_10 = pd.read_excel(os.path.join(DATA_DIR, \"Alabama_pop_by_sex_race_and_ho_2000-2010.xls\"), dtype=object, header=None)\n",
    "test_df_00_10"
   ]
  },
  {
   "cell_type": "markdown",
   "id": "67c4b999",
   "metadata": {},
   "source": [
    "#### delete columns 1 and 12"
   ]
  },
  {
   "cell_type": "code",
   "execution_count": null,
   "id": "51687c12",
   "metadata": {},
   "outputs": [],
   "source": [
    "cols_to_remove = [1, 12, 13]\n",
    "temp = test_df_00_10.drop(columns=cols_to_remove)\n",
    "temp = temp.rename(columns={0: \"ethnicity\", 2: 2000, 3: 2001, 4: 2002, 5: 2003, 6: 2004, 7: 2005, 8: 2006, 9: 2007, 10: 2008, 11: 2009, 13: 2010})\n",
    "temp"
   ]
  },
  {
   "cell_type": "code",
   "execution_count": null,
   "id": "a6205d23",
   "metadata": {},
   "outputs": [],
   "source": [
    "temp[\"ethnicity\"] = temp[\"ethnicity\"].apply(lambda string: np.nan if pd.isna(string) else string.strip(\".\").lower())\n",
    "temp"
   ]
  },
  {
   "cell_type": "markdown",
   "id": "32032aeb",
   "metadata": {},
   "source": [
    "#### start partitioning the spreadsheet by its important rows like the sex, and whether or not it is of hispanic origin"
   ]
  },
  {
   "cell_type": "code",
   "execution_count": null,
   "id": "83d9b5a0",
   "metadata": {},
   "outputs": [],
   "source": [
    "male_start = temp.index[temp[\"ethnicity\"] == \"male\"].to_list()[0]\n",
    "male_start"
   ]
  },
  {
   "cell_type": "code",
   "execution_count": null,
   "id": "ff38987d",
   "metadata": {},
   "outputs": [],
   "source": [
    "female_start = temp.index[temp[\"ethnicity\"] == \"female\"].to_list()[0]\n",
    "female_start"
   ]
  },
  {
   "cell_type": "code",
   "execution_count": null,
   "id": "0eb88312",
   "metadata": {},
   "outputs": [],
   "source": [
    "temp.iloc[75:]"
   ]
  },
  {
   "cell_type": "code",
   "execution_count": null,
   "id": "9679de19",
   "metadata": {},
   "outputs": [],
   "source": [
    "# since there are multiple indeces with the two \n",
    "# or more races value we need to pick out the last value\n",
    "female_end = temp.index[temp[\"ethnicity\"] == \"two or more races\"].to_list()[-1]\n",
    "female_end"
   ]
  },
  {
   "cell_type": "code",
   "execution_count": null,
   "id": "226192df",
   "metadata": {},
   "outputs": [],
   "source": [
    "male_pop_bracket = temp.iloc[male_start:female_start].reset_index(drop=True)\n",
    "male_pop_bracket"
   ]
  },
  {
   "cell_type": "code",
   "execution_count": null,
   "id": "11632d92",
   "metadata": {},
   "outputs": [],
   "source": [
    "male_non_hisp_start = male_pop_bracket.index[male_pop_bracket[\"ethnicity\"] == \"not hispanic\"].to_list()[-1]\n",
    "male_non_hisp_start"
   ]
  },
  {
   "cell_type": "code",
   "execution_count": null,
   "id": "38703b60",
   "metadata": {},
   "outputs": [],
   "source": [
    "male_hisp_start = male_pop_bracket.index[male_pop_bracket[\"ethnicity\"] == \"hispanic\"].to_list()[-1]\n",
    "male_hisp_start"
   ]
  },
  {
   "cell_type": "code",
   "execution_count": null,
   "id": "882b0dff",
   "metadata": {},
   "outputs": [],
   "source": [
    "male_hisp_end = male_pop_bracket.index[male_pop_bracket[\"ethnicity\"] == \"two or more races\"].to_list()[-1]\n",
    "male_hisp_end"
   ]
  },
  {
   "cell_type": "code",
   "execution_count": null,
   "id": "fb0cdf6e",
   "metadata": {},
   "outputs": [],
   "source": [
    "male_non_hisp_pop_bracket = male_pop_bracket.iloc[male_non_hisp_start + 2:male_hisp_start].reset_index(drop=True)\n",
    "male_non_hisp_pop_bracket"
   ]
  },
  {
   "cell_type": "code",
   "execution_count": null,
   "id": "0beffa0b",
   "metadata": {},
   "outputs": [],
   "source": [
    "male_non_hisp_pop_bracket[\"origin\"] = \"non-hispanic\"\n",
    "male_non_hisp_pop_bracket"
   ]
  },
  {
   "cell_type": "code",
   "execution_count": null,
   "id": "47dc38d7",
   "metadata": {},
   "outputs": [],
   "source": [
    "male_non_hisp_pop_bracket[\"sex\"] = \"male\"\n",
    "male_non_hisp_pop_bracket"
   ]
  },
  {
   "cell_type": "code",
   "execution_count": null,
   "id": "6c873edd",
   "metadata": {},
   "outputs": [],
   "source": [
    "male_non_hisp_pop_bracket = male_non_hisp_pop_bracket.set_index(keys=[\"ethnicity\", \"origin\", \"sex\"])\n",
    "male_non_hisp_pop_bracket"
   ]
  },
  {
   "cell_type": "code",
   "execution_count": null,
   "id": "836aca85",
   "metadata": {},
   "outputs": [],
   "source": [
    "male_non_hisp_pop_bracket = male_non_hisp_pop_bracket.stack().reset_index()\n",
    "male_non_hisp_pop_bracket"
   ]
  },
  {
   "cell_type": "code",
   "execution_count": null,
   "id": "6674a220",
   "metadata": {},
   "outputs": [],
   "source": [
    "male_non_hisp_pop_bracket = male_non_hisp_pop_bracket.rename(columns={\"level_3\": \"year\", 0: \"population\"})\n",
    "male_non_hisp_pop_bracket"
   ]
  },
  {
   "cell_type": "code",
   "execution_count": null,
   "id": "d6354964",
   "metadata": {},
   "outputs": [],
   "source": [
    "male_non_hisp_pop_bracket[\"population\"] = male_non_hisp_pop_bracket[\"population\"].astype(int)\n",
    "male_non_hisp_pop_bracket"
   ]
  },
  {
   "cell_type": "code",
   "execution_count": null,
   "id": "e542286b",
   "metadata": {},
   "outputs": [],
   "source": [
    "column_summary(male_non_hisp_pop_bracket)"
   ]
  },
  {
   "cell_type": "code",
   "execution_count": null,
   "id": "40aa0fea",
   "metadata": {},
   "outputs": [],
   "source": [
    "male_hisp_pop_bracket = male_pop_bracket.iloc[male_hisp_start + 2:].reset_index(drop=True)\n",
    "male_hisp_pop_bracket"
   ]
  },
  {
   "cell_type": "code",
   "execution_count": null,
   "id": "87f3282e",
   "metadata": {},
   "outputs": [],
   "source": [
    "male_hisp_pop_bracket[\"origin\"] = \"hispanic\"\n",
    "male_hisp_pop_bracket"
   ]
  },
  {
   "cell_type": "code",
   "execution_count": null,
   "id": "803b472f",
   "metadata": {},
   "outputs": [],
   "source": [
    "male_hisp_pop_bracket[\"sex\"] = \"male\"\n",
    "male_hisp_pop_bracket"
   ]
  },
  {
   "cell_type": "code",
   "execution_count": null,
   "id": "a2c83d1a",
   "metadata": {},
   "outputs": [],
   "source": [
    "male_hisp_pop_bracket = male_hisp_pop_bracket.set_index(keys=[\"ethnicity\", \"origin\", \"sex\"])\n",
    "male_hisp_pop_bracket"
   ]
  },
  {
   "cell_type": "code",
   "execution_count": null,
   "id": "9faacbee",
   "metadata": {},
   "outputs": [],
   "source": [
    "male_hisp_pop_bracket = male_hisp_pop_bracket.stack().reset_index()\n",
    "male_hisp_pop_bracket"
   ]
  },
  {
   "cell_type": "code",
   "execution_count": null,
   "id": "43c3e5c5",
   "metadata": {},
   "outputs": [],
   "source": [
    "male_hisp_pop_bracket = male_hisp_pop_bracket.rename(columns={\"level_3\": \"year\", 0: \"population\"})\n",
    "male_hisp_pop_bracket"
   ]
  },
  {
   "cell_type": "code",
   "execution_count": null,
   "id": "e0b4b502",
   "metadata": {},
   "outputs": [],
   "source": [
    "male_hisp_pop_bracket[\"population\"] = male_hisp_pop_bracket[\"population\"].astype(int)\n",
    "male_hisp_pop_bracket"
   ]
  },
  {
   "cell_type": "code",
   "execution_count": null,
   "id": "0a976df3",
   "metadata": {},
   "outputs": [],
   "source": [
    "column_summary(male_hisp_pop_bracket)"
   ]
  },
  {
   "cell_type": "code",
   "execution_count": null,
   "id": "51a87014",
   "metadata": {},
   "outputs": [],
   "source": [
    "female_pop_bracket = temp.iloc[female_start:female_end + 1].reset_index(drop=True)\n",
    "female_pop_bracket"
   ]
  },
  {
   "cell_type": "code",
   "execution_count": null,
   "id": "175bb86b",
   "metadata": {},
   "outputs": [],
   "source": [
    "female_non_hisp_start = female_pop_bracket.index[female_pop_bracket[\"ethnicity\"] == \"not hispanic\"].to_list()[-1]\n",
    "female_non_hisp_start"
   ]
  },
  {
   "cell_type": "code",
   "execution_count": null,
   "id": "ce87e827",
   "metadata": {},
   "outputs": [],
   "source": [
    "female_hisp_start = female_pop_bracket.index[female_pop_bracket[\"ethnicity\"] == \"hispanic\"].to_list()[-1]\n",
    "female_hisp_start"
   ]
  },
  {
   "cell_type": "code",
   "execution_count": null,
   "id": "a0679e30",
   "metadata": {},
   "outputs": [],
   "source": [
    "female_non_hisp_pop_bracket = female_pop_bracket.iloc[female_non_hisp_start + 2:female_hisp_start].reset_index(drop=True)\n",
    "female_non_hisp_pop_bracket"
   ]
  },
  {
   "cell_type": "code",
   "execution_count": null,
   "id": "5c2ca0e8",
   "metadata": {},
   "outputs": [],
   "source": [
    "female_non_hisp_pop_bracket[\"origin\"] = \"non-hispanic\"\n",
    "female_non_hisp_pop_bracket"
   ]
  },
  {
   "cell_type": "code",
   "execution_count": null,
   "id": "95f365b6",
   "metadata": {},
   "outputs": [],
   "source": [
    "female_non_hisp_pop_bracket[\"sex\"] = \"female\"\n",
    "female_non_hisp_pop_bracket"
   ]
  },
  {
   "cell_type": "code",
   "execution_count": null,
   "id": "e4d50ce1",
   "metadata": {},
   "outputs": [],
   "source": [
    "female_non_hisp_pop_bracket = female_non_hisp_pop_bracket.set_index(keys=[\"ethnicity\", \"origin\", \"sex\"])\n",
    "female_non_hisp_pop_bracket"
   ]
  },
  {
   "cell_type": "code",
   "execution_count": null,
   "id": "7fe9e4f2",
   "metadata": {},
   "outputs": [],
   "source": [
    "female_non_hisp_pop_bracket = female_non_hisp_pop_bracket.stack().reset_index()\n",
    "female_non_hisp_pop_bracket"
   ]
  },
  {
   "cell_type": "code",
   "execution_count": null,
   "id": "d56e925e",
   "metadata": {},
   "outputs": [],
   "source": [
    "female_non_hisp_pop_bracket = female_non_hisp_pop_bracket.rename(columns={\"level_3\": \"year\", 0: \"population\"})\n",
    "female_non_hisp_pop_bracket"
   ]
  },
  {
   "cell_type": "code",
   "execution_count": null,
   "id": "8e005771",
   "metadata": {},
   "outputs": [],
   "source": [
    "female_non_hisp_pop_bracket[\"population\"] = female_non_hisp_pop_bracket[\"population\"].astype(int)\n",
    "female_non_hisp_pop_bracket"
   ]
  },
  {
   "cell_type": "code",
   "execution_count": null,
   "id": "a0ba5424",
   "metadata": {},
   "outputs": [],
   "source": [
    "female_hisp_pop_bracket = female_pop_bracket.iloc[female_hisp_start + 2:].reset_index(drop=True)\n",
    "female_hisp_pop_bracket"
   ]
  },
  {
   "cell_type": "code",
   "execution_count": null,
   "id": "e25b6599",
   "metadata": {},
   "outputs": [],
   "source": [
    "female_hisp_pop_bracket[\"origin\"] = \"hispanic\"\n",
    "female_hisp_pop_bracket"
   ]
  },
  {
   "cell_type": "code",
   "execution_count": null,
   "id": "9c4a0c10",
   "metadata": {},
   "outputs": [],
   "source": [
    "female_hisp_pop_bracket[\"sex\"] = \"female\"\n",
    "female_hisp_pop_bracket"
   ]
  },
  {
   "cell_type": "code",
   "execution_count": null,
   "id": "23d2e2d0",
   "metadata": {},
   "outputs": [],
   "source": [
    "female_hisp_pop_bracket = female_hisp_pop_bracket.set_index(keys=[\"ethnicity\", \"origin\", \"sex\"])\n",
    "female_hisp_pop_bracket"
   ]
  },
  {
   "cell_type": "code",
   "execution_count": null,
   "id": "a05d7bf5",
   "metadata": {},
   "outputs": [],
   "source": [
    "female_hisp_pop_bracket = female_hisp_pop_bracket.stack().reset_index()\n",
    "female_hisp_pop_bracket"
   ]
  },
  {
   "cell_type": "code",
   "execution_count": null,
   "id": "3af54a4a",
   "metadata": {},
   "outputs": [],
   "source": [
    "female_hisp_pop_bracket = female_hisp_pop_bracket.rename(columns={\"level_3\": \"year\", 0: \"population\"})\n",
    "female_hisp_pop_bracket"
   ]
  },
  {
   "cell_type": "code",
   "execution_count": null,
   "id": "edf20858",
   "metadata": {},
   "outputs": [],
   "source": [
    "female_hisp_pop_bracket[\"population\"] = female_hisp_pop_bracket[\"population\"].astype(int)\n",
    "female_hisp_pop_bracket"
   ]
  },
  {
   "cell_type": "code",
   "execution_count": null,
   "id": "22b4b478",
   "metadata": {},
   "outputs": [],
   "source": [
    "final = pd.concat([male_non_hisp_pop_bracket, male_hisp_pop_bracket, female_non_hisp_pop_bracket, female_hisp_pop_bracket], axis=0, ignore_index=True)\n",
    "final"
   ]
  },
  {
   "cell_type": "code",
   "execution_count": null,
   "id": "3ce292a5",
   "metadata": {},
   "outputs": [],
   "source": [
    "final = model_population_by_sex_race_ho_table(test_df_00_10, \"Alabama\", cols_to_remove, year_range=\"2000-2009\")\n",
    "final"
   ]
  },
  {
   "cell_type": "code",
   "execution_count": null,
   "id": "215347b6",
   "metadata": {},
   "outputs": [],
   "source": [
    "cols_to_remove"
   ]
  },
  {
   "cell_type": "code",
   "execution_count": null,
   "id": "3778b039",
   "metadata": {},
   "outputs": [],
   "source": [
    "with ThreadPoolExecutor() as exe:\n",
    "    state_populations_by_sex_race_ho_00_09 = list(exe.map(\n",
    "        concur_model_pop_tables, \n",
    "        populations_by_sex_race_ho_00_10, \n",
    "        [cols_to_remove] * len(populations_by_sex_race_ho_00_10),\n",
    "        [\"2000-2009\"] * len(populations_by_sex_race_ho_00_10),\n",
    "        [model_population_by_sex_race_ho_table] * len(populations_by_sex_race_ho_00_10)\n",
    "    ))\n",
    "\n",
    "state_populations_by_sex_race_ho_df_00_09 = pd.concat(state_populations_by_sex_race_ho_00_09, axis=0, ignore_index=True)\n",
    "state_populations_by_sex_race_ho_df_00_09[\"id\"] = state_populations_by_sex_race_ho_df_00_09.index + 1"
   ]
  },
  {
   "cell_type": "code",
   "execution_count": null,
   "id": "c47e45e3",
   "metadata": {},
   "outputs": [],
   "source": [
    "state_populations_by_sex_race_ho_df_00_09"
   ]
  },
  {
   "cell_type": "code",
   "execution_count": null,
   "id": "9998433c",
   "metadata": {},
   "outputs": [],
   "source": [
    "column_summary(final)"
   ]
  },
  {
   "cell_type": "markdown",
   "id": "32d786b4",
   "metadata": {},
   "source": [
    "# Modelling excel spreadsheets with population values based on sex, race, and hispanic origin 2010 - 2019"
   ]
  },
  {
   "cell_type": "markdown",
   "id": "59815418",
   "metadata": {},
   "source": [
    "![modelling table from population data by sex race and ethnicity 2010 to 2019.png](./figures%20&%20images/modelling%20table%20from%20population%20data%20by%20sex%20race%20and%20ethnicity%202010%20to%202019.png)"
   ]
  },
  {
   "cell_type": "code",
   "execution_count": null,
   "id": "5117adc6",
   "metadata": {},
   "outputs": [],
   "source": [
    "test_df_10_19 = pd.read_excel(os.path.join(DATA_DIR, \"Alabama_pop_by_sex_race_and_ho_2010-2019.xlsx\"), dtype=object, header=None)\n",
    "test_df_10_19"
   ]
  },
  {
   "cell_type": "markdown",
   "id": "527e90db",
   "metadata": {},
   "source": [
    "#### remove columns 1 and 2 and rename remaining columns to ethnicity and years 2010 to 2019"
   ]
  },
  {
   "cell_type": "code",
   "execution_count": null,
   "id": "209580ba",
   "metadata": {},
   "outputs": [],
   "source": [
    "cols_to_remove = [1, 2]\n",
    "temp = test_df_10_19.drop(columns=cols_to_remove)\n",
    "temp = temp.rename(columns={0: \"ethnicity\", 3: 2010, 4: 2011, 5: 2012, 6: 2013, 7: 2014, 8: 2015, 9: 2016, 10: 2017, 11: 2018, 12: 2019})\n",
    "temp"
   ]
  },
  {
   "cell_type": "markdown",
   "id": "d5f704eb",
   "metadata": {},
   "source": [
    "#### we can use set theory to use dictionary comprehension and build the new names for the columns instead always hardcoding the new names of the columns based on the years"
   ]
  },
  {
   "cell_type": "code",
   "execution_count": null,
   "id": "b9021b1d",
   "metadata": {},
   "outputs": [],
   "source": [
    "test_cols_to_remove = [1, 12]"
   ]
  },
  {
   "cell_type": "code",
   "execution_count": null,
   "id": "cc9c23c0",
   "metadata": {},
   "outputs": [],
   "source": [
    "lo_year = 2010\n",
    "hi_year = 2019"
   ]
  },
  {
   "cell_type": "code",
   "execution_count": null,
   "id": "b9cafb4f",
   "metadata": {},
   "outputs": [],
   "source": [
    "years_list = list(range(lo_year, hi_year + 1)) * 2\n",
    "years_list"
   ]
  },
  {
   "cell_type": "code",
   "execution_count": null,
   "id": "14c46b7a",
   "metadata": {},
   "outputs": [],
   "source": [
    "new_cols = list(set(test_df_10_19.columns) - set(test_cols_to_remove + [0]))\n",
    "new_cols"
   ]
  },
  {
   "cell_type": "code",
   "execution_count": null,
   "id": "811f82d1",
   "metadata": {},
   "outputs": [],
   "source": [
    "{new_col: years_list[i] for i, new_col in enumerate(new_cols)}\n",
    "# {new_col: \"ethnicity\" if new_col == 0 else 2 for i, new_col in enumerate(new_cols)}"
   ]
  },
  {
   "cell_type": "code",
   "execution_count": null,
   "id": "357b1e8c",
   "metadata": {},
   "outputs": [],
   "source": [
    "temp[\"ethnicity\"] = temp[\"ethnicity\"].apply(lambda string: np.nan if pd.isna(string) else string.strip(\".\").lower())\n",
    "temp"
   ]
  },
  {
   "cell_type": "markdown",
   "id": "efcfba70",
   "metadata": {},
   "source": [
    "#### start partitioning the spreadsheet by its important rows like the sex, and whether or not it is of hispanic origin"
   ]
  },
  {
   "cell_type": "code",
   "execution_count": null,
   "id": "3d235d31",
   "metadata": {},
   "outputs": [],
   "source": [
    "male_start = temp.index[temp[\"ethnicity\"] == \"male\"].to_list()[0]\n",
    "male_start"
   ]
  },
  {
   "cell_type": "code",
   "execution_count": null,
   "id": "0207690c",
   "metadata": {},
   "outputs": [],
   "source": [
    "temp.iloc[male_start]"
   ]
  },
  {
   "cell_type": "code",
   "execution_count": null,
   "id": "8a2357dd",
   "metadata": {},
   "outputs": [],
   "source": [
    "female_start = temp.index[temp[\"ethnicity\"] == \"female\"].to_list()[0]\n",
    "female_start"
   ]
  },
  {
   "cell_type": "code",
   "execution_count": null,
   "id": "1e475ffd",
   "metadata": {},
   "outputs": [],
   "source": [
    "# since there are multiple indeces with the two \n",
    "# or more races value we need to pick out the last value\n",
    "female_end = temp.index[temp[\"ethnicity\"] == \"two or more races\"].to_list()[-1]\n",
    "female_end"
   ]
  },
  {
   "cell_type": "code",
   "execution_count": null,
   "id": "3fe39eb9",
   "metadata": {},
   "outputs": [],
   "source": [
    "temp.iloc[female_start: female_end + 1]"
   ]
  },
  {
   "cell_type": "code",
   "execution_count": null,
   "id": "d802a803",
   "metadata": {},
   "outputs": [],
   "source": [
    "male_pop_bracket = temp.iloc[male_start:female_start].reset_index(drop=True)\n",
    "male_pop_bracket"
   ]
  },
  {
   "cell_type": "code",
   "execution_count": null,
   "id": "74acbd9a",
   "metadata": {},
   "outputs": [],
   "source": [
    "male_non_hisp_start = male_pop_bracket.index[male_pop_bracket[\"ethnicity\"] == \"not hispanic\"].to_list()[0]\n",
    "male_non_hisp_start"
   ]
  },
  {
   "cell_type": "code",
   "execution_count": null,
   "id": "b1d97f01",
   "metadata": {},
   "outputs": [],
   "source": [
    "# get the first occurence of the index as we are \n",
    "# not looking for multiple occurences until it reaches \n",
    "# the last occurence\n",
    "male_non_hisp_end = male_pop_bracket.loc[male_non_hisp_start:, :] \\\n",
    ".index[male_pop_bracket.loc[male_non_hisp_start:, \"ethnicity\"].str.contains(\"race alone or in combination\")].to_list()[0]\n",
    "male_non_hisp_end"
   ]
  },
  {
   "cell_type": "code",
   "execution_count": null,
   "id": "7fef3063",
   "metadata": {},
   "outputs": [],
   "source": [
    "male_hisp_start = male_pop_bracket.index[male_pop_bracket[\"ethnicity\"] == \"hispanic\"].to_list()[-1]\n",
    "male_hisp_start"
   ]
  },
  {
   "cell_type": "code",
   "execution_count": null,
   "id": "00e59cf8",
   "metadata": {},
   "outputs": [],
   "source": [
    "male_hisp_end = male_pop_bracket.index[male_pop_bracket[\"ethnicity\"] == \"two or more races\"].to_list()[-1]\n",
    "male_hisp_end"
   ]
  },
  {
   "cell_type": "markdown",
   "id": "3246bfa9",
   "metadata": {},
   "source": [
    "#### once table is partioned by hispanic origin and sex we will now add the origin and sex columns and do typical stacking afterwards "
   ]
  },
  {
   "cell_type": "code",
   "execution_count": null,
   "id": "5c7eae7a",
   "metadata": {},
   "outputs": [],
   "source": [
    "male_non_hisp_pop_bracket = male_pop_bracket.iloc[male_non_hisp_start + 2:male_non_hisp_end].reset_index(drop=True)\n",
    "male_non_hisp_pop_bracket"
   ]
  },
  {
   "cell_type": "code",
   "execution_count": null,
   "id": "56146694",
   "metadata": {},
   "outputs": [],
   "source": [
    "male_hisp_pop_bracket = male_pop_bracket.iloc[male_hisp_start + 2:male_hisp_end + 1].reset_index(drop=True)\n",
    "male_hisp_pop_bracket"
   ]
  },
  {
   "cell_type": "code",
   "execution_count": null,
   "id": "7b63ac9a",
   "metadata": {},
   "outputs": [],
   "source": [
    "male_non_hisp_pop_bracket[\"origin\"] = \"non-hispanic\"\n",
    "male_hisp_pop_bracket[\"origin\"] = \"hispanic\"\n",
    "male_non_hisp_pop_bracket"
   ]
  },
  {
   "cell_type": "code",
   "execution_count": null,
   "id": "eaad884d",
   "metadata": {},
   "outputs": [],
   "source": [
    "male_non_hisp_pop_bracket[\"sex\"] = \"male\"\n",
    "male_hisp_pop_bracket[\"sex\"] = \"male\"\n",
    "male_non_hisp_pop_bracket"
   ]
  },
  {
   "cell_type": "code",
   "execution_count": null,
   "id": "559f2353",
   "metadata": {},
   "outputs": [],
   "source": [
    "male_non_hisp_pop_bracket = male_non_hisp_pop_bracket.set_index(keys=[\"ethnicity\", \"origin\", \"sex\"])\n",
    "male_hisp_pop_bracket = male_hisp_pop_bracket.set_index(keys=[\"ethnicity\", \"origin\", \"sex\"])\n",
    "male_hisp_pop_bracket"
   ]
  },
  {
   "cell_type": "code",
   "execution_count": null,
   "id": "a8f7ee70",
   "metadata": {},
   "outputs": [],
   "source": [
    "male_non_hisp_pop_bracket = male_non_hisp_pop_bracket.stack().reset_index()\n",
    "male_hisp_pop_bracket = male_hisp_pop_bracket.stack().reset_index()\n",
    "male_hisp_pop_bracket"
   ]
  },
  {
   "cell_type": "code",
   "execution_count": null,
   "id": "a7c37a62",
   "metadata": {},
   "outputs": [],
   "source": [
    "male_non_hisp_pop_bracket = male_non_hisp_pop_bracket.rename(columns={\"level_3\": \"year\", 0: \"population\"})\n",
    "male_hisp_pop_bracket = male_hisp_pop_bracket.rename(columns={\"level_3\": \"year\", 0: \"population\"})\n",
    "male_non_hisp_pop_bracket"
   ]
  },
  {
   "cell_type": "code",
   "execution_count": null,
   "id": "c1c5a07a",
   "metadata": {},
   "outputs": [],
   "source": [
    "male_non_hisp_pop_bracket[\"population\"] = male_non_hisp_pop_bracket[\"population\"].astype(int)\n",
    "male_hisp_pop_bracket[\"population\"] = male_hisp_pop_bracket[\"population\"].astype(int)\n",
    "column_summary(male_hisp_pop_bracket)"
   ]
  },
  {
   "cell_type": "code",
   "execution_count": null,
   "id": "95106596",
   "metadata": {},
   "outputs": [],
   "source": [
    "female_pop_bracket = temp.iloc[female_start:female_end + 1].reset_index(drop=True)\n",
    "female_pop_bracket"
   ]
  },
  {
   "cell_type": "code",
   "execution_count": null,
   "id": "f257b077",
   "metadata": {},
   "outputs": [],
   "source": [
    "# calculate the list slices here for origin\n",
    "female_non_hisp_start = female_pop_bracket.index[female_pop_bracket[\"ethnicity\"] == \"not hispanic\"].to_list()[-1]\n",
    "\n",
    "# get the first occurence of the index as we are \n",
    "# not looking for multiple occurences until it reaches \n",
    "# the last occurence\n",
    "female_non_hisp_end = female_pop_bracket.loc[female_non_hisp_start:, :] \\\n",
    ".index[female_pop_bracket.loc[female_non_hisp_start:, \"ethnicity\"].str.contains(\"race alone or in combination\")].to_list()[0]\n",
    "\n",
    "female_non_hisp_start, female_non_hisp_end"
   ]
  },
  {
   "cell_type": "code",
   "execution_count": null,
   "id": "afab469c",
   "metadata": {},
   "outputs": [],
   "source": [
    "with ThreadPoolExecutor() as exe:\n",
    "    state_populations_by_sex_race_ho_10_19 = list(exe.map(\n",
    "        concur_model_pop_tables, \n",
    "        populations_by_sex_race_ho_10_19, \n",
    "        [cols_to_remove] * len(populations_by_sex_race_ho_10_19),\n",
    "        [\"2010-2019\"] * len(populations_by_sex_race_ho_10_19),\n",
    "        [model_population_by_sex_race_ho_table] * len(populations_by_sex_race_ho_10_19)\n",
    "    ))\n",
    "\n",
    "state_populations_by_sex_race_ho_df_10_19 = pd.concat(state_populations_by_sex_race_ho_10_19, axis=0, ignore_index=True)\n",
    "state_populations_by_sex_race_ho_df_10_19[\"id\"] = state_populations_by_sex_race_ho_df_10_19.index + 1"
   ]
  },
  {
   "cell_type": "code",
   "execution_count": null,
   "id": "1edf2fab",
   "metadata": {},
   "outputs": [],
   "source": [
    "state_populations_by_sex_race_ho_df_10_19"
   ]
  },
  {
   "cell_type": "code",
   "execution_count": null,
   "id": "2e180c4f",
   "metadata": {},
   "outputs": [],
   "source": [
    "state_populations_by_sex_race_ho_df_00_09[\"ethnicity\"].value_counts()"
   ]
  },
  {
   "cell_type": "markdown",
   "id": "26bd9b45",
   "metadata": {},
   "source": [
    "# Modelling population table by sex, race, hispanic origin years 2020 to 2023"
   ]
  },
  {
   "cell_type": "code",
   "execution_count": null,
   "id": "3d8d822d",
   "metadata": {},
   "outputs": [],
   "source": [
    "cols_to_remove = [1]"
   ]
  },
  {
   "cell_type": "code",
   "execution_count": null,
   "id": "1010c3e2",
   "metadata": {},
   "outputs": [],
   "source": [
    "with ThreadPoolExecutor() as exe:\n",
    "    state_populations_by_sex_race_ho_20_23 = list(exe.map(\n",
    "        concur_model_pop_tables, \n",
    "        populations_by_sex_race_ho_20_23, \n",
    "        [cols_to_remove] * len(populations_by_sex_race_ho_20_23),\n",
    "        [\"2020-2023\"] * len(populations_by_sex_race_ho_20_23),\n",
    "        [model_population_by_sex_race_ho_table] * len(populations_by_sex_race_ho_20_23)\n",
    "    ))\n",
    "\n",
    "state_populations_by_sex_race_ho_df_20_23 = pd.concat(state_populations_by_sex_race_ho_20_23, axis=0, ignore_index=True)\n",
    "state_populations_by_sex_race_ho_df_20_23[\"id\"] = state_populations_by_sex_race_ho_df_20_23.index + 1"
   ]
  },
  {
   "cell_type": "code",
   "execution_count": null,
   "id": "35f5f554",
   "metadata": {},
   "outputs": [],
   "source": [
    "state_populations_by_sex_race_ho_df_20_23"
   ]
  },
  {
   "cell_type": "code",
   "execution_count": null,
   "id": "56d29e4b",
   "metadata": {},
   "outputs": [],
   "source": [
    "cols_to_remove_00_09 = [1, 12, 13]\n",
    "cols_to_remove_10_19 = [1, 2, 3, 4, 5, 6, 7, 10, 13, 16, 19, 22, 25, 28, 31, 34]\n",
    "cols_to_remove_20_23 = [1, 2, 3, 4, 7, 10, 13]"
   ]
  },
  {
   "cell_type": "code",
   "execution_count": null,
   "id": "8fb61a79",
   "metadata": {},
   "outputs": [],
   "source": [
    "state_populations_by_sex_age_df_00_09 = get_state_populations(\n",
    "    DATA_DIR, \n",
    "    cols_to_remove=cols_to_remove_00_09, \n",
    "    populations=populations_by_sex_age_00_10, \n",
    "    year_range=\"2000-2009\",\n",
    "    by=\"sex and age\")\n",
    "state_populations_by_sex_age_df_00_09"
   ]
  },
  {
   "cell_type": "code",
   "execution_count": null,
   "id": "f2bae94f",
   "metadata": {},
   "outputs": [],
   "source": [
    "state_populations_by_sex_age_df_10_19 = get_state_populations(\n",
    "    DATA_DIR, \n",
    "    cols_to_remove=cols_to_remove_10_19, \n",
    "    populations=populations_by_sex_age_10_19, \n",
    "    year_range=\"2010-2019\",\n",
    "    by=\"sex and age\")\n",
    "state_populations_by_sex_age_df_10_19"
   ]
  },
  {
   "cell_type": "code",
   "execution_count": null,
   "id": "b1412c07",
   "metadata": {},
   "outputs": [],
   "source": [
    "state_populations_by_sex_age_df_20_23 = get_state_populations(\n",
    "    DATA_DIR, \n",
    "    cols_to_remove=cols_to_remove_20_23, \n",
    "    populations=populations_by_sex_age_20_23, \n",
    "    year_range=\"2020-2023\",\n",
    "    by=\"sex and age\")\n",
    "state_populations_by_sex_age_df_20_23"
   ]
  },
  {
   "cell_type": "code",
   "execution_count": null,
   "id": "854e82df",
   "metadata": {},
   "outputs": [],
   "source": [
    "state_populations_by_sex_age_df_00_23 = pd.concat([state_populations_by_sex_age_df_00_09, state_populations_by_sex_age_df_10_19, state_populations_by_sex_age_df_20_23], axis=0, ignore_index=True)\n",
    "state_populations_by_sex_age_df_00_23"
   ]
  },
  {
   "cell_type": "code",
   "execution_count": null,
   "id": "a2303648",
   "metadata": {},
   "outputs": [],
   "source": [
    "state_populations_by_sex_race_ho_df_00_09 = get_state_populations(\n",
    "    DATA_DIR, \n",
    "    cols_to_remove=[1, 12, 13], \n",
    "    populations=populations_by_sex_race_ho_00_10, \n",
    "    year_range=\"2000-2009\",\n",
    "    by=\"sex race and ho\")\n",
    "state_populations_by_sex_race_ho_df_00_09"
   ]
  },
  {
   "cell_type": "code",
   "execution_count": null,
   "id": "b627cf46",
   "metadata": {},
   "outputs": [],
   "source": [
    "state_populations_by_sex_race_ho_df_10_19 = get_state_populations(\n",
    "    DATA_DIR, \n",
    "    cols_to_remove=[1, 2], \n",
    "    populations=populations_by_sex_race_ho_10_19, \n",
    "    year_range=\"2010-2019\",\n",
    "    by=\"sex race and ho\")\n",
    "state_populations_by_sex_race_ho_df_10_19"
   ]
  },
  {
   "cell_type": "code",
   "execution_count": null,
   "id": "fdfaefdc",
   "metadata": {},
   "outputs": [],
   "source": [
    "state_populations_by_sex_race_ho_df_20_23 = get_state_populations(\n",
    "    DATA_DIR, \n",
    "    cols_to_remove=[1], \n",
    "    populations=populations_by_sex_race_ho_20_23, \n",
    "    year_range=\"2020-2023\",\n",
    "    by=\"sex race and ho\")\n",
    "state_populations_by_sex_race_ho_df_20_23"
   ]
  },
  {
   "cell_type": "code",
   "execution_count": null,
   "id": "0f6495da",
   "metadata": {},
   "outputs": [],
   "source": [
    "state_populations_by_sex_race_ho_df_00_23 = pd.concat([state_populations_by_sex_race_ho_df_00_09, state_populations_by_sex_race_ho_df_10_19, state_populations_by_sex_race_ho_df_20_23], axis=0, ignore_index=True)\n",
    "state_populations_by_sex_race_ho_df_00_23"
   ]
  },
  {
   "cell_type": "code",
   "execution_count": null,
   "id": "64ca8383",
   "metadata": {},
   "outputs": [],
   "source": [
    "state_populations_by_sex_race_ho_df_00_23[\"id\"] = state_populations_by_sex_race_ho_df_00_23.index + 1\n",
    "state_populations_by_sex_age_df_00_23[\"id\"] = state_populations_by_sex_age_df_00_23.index + 1"
   ]
  },
  {
   "cell_type": "markdown",
   "id": "cc7187d6",
   "metadata": {},
   "source": [
    "# Export to image"
   ]
  },
  {
   "cell_type": "code",
   "execution_count": null,
   "id": "dd93d183",
   "metadata": {},
   "outputs": [],
   "source": [
    "import dataframe_image as dfi"
   ]
  },
  {
   "cell_type": "code",
   "execution_count": null,
   "id": "1ccea746",
   "metadata": {},
   "outputs": [],
   "source": [
    "state_populations_by_sex_age_df_00_23"
   ]
  },
  {
   "cell_type": "code",
   "execution_count": null,
   "id": "488f8885",
   "metadata": {},
   "outputs": [],
   "source": [
    "state_populations_by_sex_age_df_00_23[:100].dfi.export(\"./figures & images/state_populations_by_sex_age_00_23.png\")\n",
    "state_populations_by_sex_age_df_00_23[-100:].dfi.export(\"./figures & images/state_populations_by_sex_age_00_23_last.png\")"
   ]
  },
  {
   "cell_type": "code",
   "execution_count": null,
   "id": "49aa1189",
   "metadata": {},
   "outputs": [],
   "source": [
    "state_populations_by_sex_race_ho_df_00_23"
   ]
  },
  {
   "cell_type": "code",
   "execution_count": null,
   "id": "066133d4",
   "metadata": {},
   "outputs": [],
   "source": [
    "state_populations_by_sex_race_ho_df_00_23[:100].dfi.export(\"./figures & images/state_populations_by_sex_race_ho_00_23.png\")\n",
    "state_populations_by_sex_race_ho_df_00_23[-100:].dfi.export(\"./figures & images/state_populations_by_sex_race_ho_00_23_last.png\")"
   ]
  },
  {
   "cell_type": "markdown",
   "id": "c57400ca",
   "metadata": {},
   "source": [
    "# Converting all code to pyspark for faster processing"
   ]
  },
  {
   "cell_type": "code",
   "execution_count": null,
   "id": "fe78f385",
   "metadata": {},
   "outputs": [],
   "source": [
    "# note that pyarrow 4.0.0 is a dependency of pyspark pandas api\n",
    "import pyspark\n",
    "from pyspark.sql import SparkSession\n",
    "from pyspark import SparkConf\n",
    "from pyspark.sql.types import StringType, StructField, StructType"
   ]
  },
  {
   "cell_type": "code",
   "execution_count": null,
   "id": "e9ab2877",
   "metadata": {},
   "outputs": [],
   "source": [
    "pyspark.__file__"
   ]
  },
  {
   "cell_type": "code",
   "execution_count": null,
   "id": "1cf4228e",
   "metadata": {},
   "outputs": [],
   "source": [
    "path = os.path.join(DATA_DIR, \"Alabama_pop_by_sex_and_age_2000-2010.xls\")\n",
    "path"
   ]
  },
  {
   "cell_type": "code",
   "execution_count": null,
   "id": "7a2c2aeb",
   "metadata": {},
   "outputs": [],
   "source": [
    "test_df_00_10 = pd.read_excel(path, dtype=object, header=None)\n",
    "test_df_00_10"
   ]
  },
  {
   "cell_type": "code",
   "execution_count": null,
   "id": "4d0a6def",
   "metadata": {},
   "outputs": [],
   "source": [
    "conf = SparkConf()\n",
    "conf.set(\"spark.jars.packages\", \"com.crealytics:spark-excel_2.12:3.5.1_0.20.4\")"
   ]
  },
  {
   "cell_type": "code",
   "execution_count": null,
   "id": "38ca1279",
   "metadata": {},
   "outputs": [],
   "source": [
    "spark = SparkSession.builder.appName('test')\\\n",
    "    .config(conf=conf)\\\n",
    "    .getOrCreate()"
   ]
  },
  {
   "cell_type": "code",
   "execution_count": null,
   "id": "9a73bfe3",
   "metadata": {},
   "outputs": [],
   "source": [
    "test_spark_df_00_10 = spark.read.format(\"com.crealytics.spark.excel\")\\\n",
    "    .option(\"header\", \"false\")\\\n",
    "    .option(\"inferSchema\", \"true\")\\\n",
    "    .load(path)"
   ]
  }
 ],
 "metadata": {
  "kernelspec": {
   "display_name": "tech-interview",
   "language": "python",
   "name": "python3"
  },
  "language_info": {
   "codemirror_mode": {
    "name": "ipython",
    "version": 3
   },
   "file_extension": ".py",
   "mimetype": "text/x-python",
   "name": "python",
   "nbconvert_exporter": "python",
   "pygments_lexer": "ipython3",
   "version": "3.12.3"
  }
 },
 "nbformat": 4,
 "nbformat_minor": 5
}
