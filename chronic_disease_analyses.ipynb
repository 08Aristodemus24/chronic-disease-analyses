{
 "cells": [
  {
   "cell_type": "code",
   "execution_count": 1,
   "id": "675aa761",
   "metadata": {},
   "outputs": [],
   "source": [
    "import matplotlib.pyplot as plt\n",
    "import pandas as pd\n",
    "import duckdb\n",
    "import os\n",
    "\n",
    "from dotenv import load_dotenv\n",
    "from pathlib import Path\n",
    "from duckdb.typing import *\n",
    "\n",
    "from utilities.utils import get_flat_table_rows\n",
    "\n",
    "\n",
    "%load_ext autoreload\n",
    "%autoreload 2"
   ]
  },
  {
   "cell_type": "markdown",
   "id": "a8d045d8",
   "metadata": {},
   "source": [
    "# Remote connection"
   ]
  },
  {
   "cell_type": "code",
   "execution_count": 2,
   "id": "ae47104e",
   "metadata": {},
   "outputs": [
    {
     "name": "stdout",
     "output_type": "stream",
     "text": [
      "loading env variables...\n",
      "env variables loaded.\n",
      "\n"
     ]
    }
   ],
   "source": [
    "# Build paths inside the project like this: BASE_DIR / 'subdir'.\n",
    "# use this only in development\n",
    "print(\"loading env variables...\")\n",
    "env_dir = Path('./').resolve()\n",
    "load_dotenv(os.path.join(env_dir, '.env'))\n",
    "print(\"env variables loaded.\\n\")"
   ]
  },
  {
   "cell_type": "code",
   "execution_count": 3,
   "id": "3cbd9dd0",
   "metadata": {},
   "outputs": [
    {
     "name": "stdout",
     "output_type": "stream",
     "text": [
      "connecting to duckdb...\n",
      "connected to duckdb.\n",
      "\n"
     ]
    }
   ],
   "source": [
    "# jdbc:duckdb:md:chronic_disease_analyses_db\n",
    "# duckdb:///md:chronic_disease_analyses_db\n",
    "print(\"connecting to duckdb...\")\n",
    "conn = duckdb.connect(f\"md:chronic_disease_analyses_db?motherduck_token={os.environ['MOTHERDUCK_TOKEN']}\")\n",
    "print(\"connected to duckdb.\\n\")"
   ]
  },
  {
   "cell_type": "code",
   "execution_count": 4,
   "id": "ff7b5a1b",
   "metadata": {},
   "outputs": [],
   "source": [
    "# tables = get_flat_table_rows(conn.sql(\"\"\"SHOW TABLES\"\"\").fetchall())\n",
    "# tables"
   ]
  },
  {
   "cell_type": "code",
   "execution_count": 5,
   "id": "44e744fc",
   "metadata": {},
   "outputs": [],
   "source": [
    "# for table in tables:\n",
    "#     count = conn.sql(f\"\"\"SELECT COUNT(*) FROM {table}\"\"\").fetchall()[0][0]\n",
    "#     print(f\"table {table} count: {count}\")"
   ]
  },
  {
   "cell_type": "code",
   "execution_count": 6,
   "id": "eae5fdce",
   "metadata": {},
   "outputs": [],
   "source": [
    "# conn.sql(\"\"\"\n",
    "#     SELECT * FROM Question\n",
    "# \"\"\")"
   ]
  },
  {
   "cell_type": "markdown",
   "id": "ffa0b221",
   "metadata": {},
   "source": [
    "# Unique topics"
   ]
  },
  {
   "cell_type": "code",
   "execution_count": 7,
   "id": "39dccc49",
   "metadata": {},
   "outputs": [],
   "source": [
    "# topic_id = get_flat_table_rows(conn.sql(\"\"\"\n",
    "#     SELECT DISTINCT(Question.TopicID, Topic)\n",
    "#     FROM Question\n",
    "#     JOIN Topic\n",
    "#     ON Question.TopicID = Topic.TopicID\n",
    "# \"\"\").fetchall())\n",
    "# topic_id"
   ]
  },
  {
   "cell_type": "code",
   "execution_count": 8,
   "id": "1d78873a",
   "metadata": {},
   "outputs": [],
   "source": [
    "# dvt = get_flat_table_rows(conn.sql(\"\"\"\n",
    "#     SELECT DISTINCT(DataValueType, DataValueTypeID)\n",
    "#     FROM DataValueType\n",
    "# \"\"\").fetchall())\n",
    "# dvt"
   ]
  },
  {
   "cell_type": "markdown",
   "id": "e6a62f48",
   "metadata": {},
   "source": [
    "# unique questions under each unique topic"
   ]
  },
  {
   "cell_type": "code",
   "execution_count": 9,
   "id": "c6e5d933",
   "metadata": {},
   "outputs": [],
   "source": [
    "# for id, topic in topic_id:\n",
    "#     topic_id_questions = get_flat_table_rows(conn.sql(f\"\"\"\n",
    "#         SELECT Question\n",
    "#         FROM Question\n",
    "#         WHERE TopicID = '{id}'\n",
    "#     \"\"\").fetchall())\n",
    "#     print(f\"topic {topic}, questions: {topic_id_questions}\\n\")"
   ]
  },
  {
   "cell_type": "markdown",
   "id": "b4e42ff4",
   "metadata": {},
   "source": [
    "# Unique combinations of datavaluetype and datavalueunit"
   ]
  },
  {
   "cell_type": "code",
   "execution_count": 10,
   "id": "49487f3b",
   "metadata": {},
   "outputs": [],
   "source": [
    "# dvt_dvu_pairs = conn.sql(f\"\"\"\n",
    "#     SELECT max(cdi.DataValueUnit), MAX(dvt.DataValueType)\n",
    "#     FROM CDI cdi\n",
    "#     LEFT JOIN DataValueType dvt\n",
    "#     ON cdi.DataValueTypeID = dvt.DataValueTypeID\n",
    "#     GROUP BY cdi.DataValueTypeID, cdi.DataValueUnit                                   \n",
    "# \"\"\")"
   ]
  },
  {
   "cell_type": "code",
   "execution_count": 11,
   "id": "04745a92",
   "metadata": {},
   "outputs": [],
   "source": [
    "# sorted(dvt_dvu_pairs.fetchall(), key=lambda value: value[0])"
   ]
  },
  {
   "cell_type": "markdown",
   "id": "4088a551",
   "metadata": {},
   "source": [
    "# What we have to do here now is to identify which questions are more likely to make use of the population values from the Population table we've just calculated and from there "
   ]
  },
  {
   "cell_type": "markdown",
   "id": "1716c249",
   "metadata": {},
   "source": [
    "## Alcohol use among youth"
   ]
  },
  {
   "cell_type": "markdown",
   "id": "08ad9dbf",
   "metadata": {},
   "source": [
    "![intial powerbi analyses (1).png](./figures%20&%20images/intial%20powerbi%20analyses%20(1).png)"
   ]
  },
  {
   "cell_type": "markdown",
   "id": "f0699485",
   "metadata": {},
   "source": [
    "it seems that `alcohol use among youth` question is something that can't make use of the `Population` table at first glance as what is measured here is alcohol use. But if we look closely the data value can't exactly say for sure whether alcohol amount is used e.g. 3.6% isn't exactly a measurement of alcohol amount but more likely a percentage of population namely the youth using alcohol"
   ]
  },
  {
   "cell_type": "markdown",
   "id": "179bf492",
   "metadata": {},
   "source": [
    "![intial powerbi analyses (2).png](./figures%20&%20images/intial%20powerbi%20analyses%20(2).png)"
   ]
  },
  {
   "cell_type": "markdown",
   "id": "b0799c75",
   "metadata": {},
   "source": [
    "We also have other information like the datavaluetype used for the question. This is basically how PowerBI works when we put a slicer in our workspace we essentially get the unique values a unique value can take in, in this case a topic of `alcohol` has its unique questions like `alcohol use among youth` and then under it it has the unique `datavaluetype's` it uses like `crude prevalence`, and we know `crude prevalence` has exactly one corresponding `datavalueunit` which is the `%` symbol"
   ]
  },
  {
   "cell_type": "markdown",
   "id": "64cd0c1f",
   "metadata": {},
   "source": [
    "because this question can make use of the `Population` table we can calculate the population of youth using alcohol. $\\frac{datavalue}{100} \\cdot youth\\_population$"
   ]
  },
  {
   "cell_type": "markdown",
   "id": "ebcdf184",
   "metadata": {},
   "source": [
    "## amount of alcohol excise tax by beverage type (beer)"
   ]
  },
  {
   "cell_type": "markdown",
   "id": "953f1f07",
   "metadata": {},
   "source": [
    "![](./figures%20&%20images/intial%20powerbi%20analyses%20(4).png)"
   ]
  },
  {
   "cell_type": "markdown",
   "id": "5d585a01",
   "metadata": {},
   "source": [
    "in this case `amount of alcohol excise tax by beverage type (beer)` can't make use of the Population table as what is measured here is `amount of alcohol excise tax`"
   ]
  },
  {
   "cell_type": "markdown",
   "id": "2827b1d0",
   "metadata": {},
   "source": [
    "![](./figures%20&%20images/intial%20powerbi%20analyses%20(3).png)"
   ]
  },
  {
   "cell_type": "markdown",
   "id": "4efa9dcb",
   "metadata": {},
   "source": [
    "calculation will be made here and the `datavalue` alone would just be used. "
   ]
  },
  {
   "cell_type": "markdown",
   "id": "8b54ac0b",
   "metadata": {},
   "source": [
    "## binge drinking frequency among adults aged >= 18 years who binge drink"
   ]
  },
  {
   "cell_type": "markdown",
   "id": "3e0863ad",
   "metadata": {},
   "source": [
    "![](./figures%20&%20images/intial%20powerbi%20analyses%20(5).png)"
   ]
  },
  {
   "cell_type": "markdown",
   "id": "00673ff5",
   "metadata": {},
   "source": [
    "it seems that `binge drinking frequency among adults aged >= 18 years who binge drink` question is something that can't make use of the `Population` table as is only specific to the population of those 18+ **who binge drink**. To get a tangible number namely the drinking frequency of these people aged 18+ who binge drink, we need to get the prevalence of these people aged 18+ who indeed binge drink, which we know can be derived from other questions namely `binge drinking prevalence among adults aged >= 18 years` and then from there multiply it by the binge drinking frequency, since it is assumed that each person that binge drinks has this frequency."
   ]
  },
  {
   "cell_type": "markdown",
   "id": "505e0d08",
   "metadata": {},
   "source": [
    "![](./figures%20&%20images/intial%20powerbi%20analyses%20(6).png)"
   ]
  },
  {
   "cell_type": "markdown",
   "id": "085cf960",
   "metadata": {},
   "source": [
    "calculation would be $prevalence\\_of\\_binge\\_drinkers\\_aged\\_18+ \\cdot datavalue$ but since we don't have prevalence of binge drinkers aged 18+ until we further calculate it the alternative calculation would be $mean\\_binge\\_drinking\\_frequency\\_among\\_adults\\_aged\\_18+\\_who\\_binge\\_drink$, since its datavalueunit is just Number meaning this number as it is will be the representation of this indicator"
   ]
  },
  {
   "cell_type": "markdown",
   "id": "6b531726",
   "metadata": {},
   "source": [
    "## binge drinking prevalence among adults aged >=  18 years"
   ]
  },
  {
   "cell_type": "markdown",
   "id": "3488c5d4",
   "metadata": {},
   "source": [
    "![](./figures%20&%20images/intial%20powerbi%20analyses%20(7).png)"
   ]
  },
  {
   "cell_type": "markdown",
   "id": "6d786b2c",
   "metadata": {},
   "source": [
    "here `binge drinking prevalence among adults aged 18+` can make use of the `Population` table since the only demographic being focused on are adults aged 18+"
   ]
  },
  {
   "cell_type": "markdown",
   "id": "75f30cf5",
   "metadata": {},
   "source": [
    "![](./figures%20&%20images/intial%20powerbi%20analyses%20(8).png)"
   ]
  },
  {
   "cell_type": "markdown",
   "id": "06677152",
   "metadata": {},
   "source": [
    "we can calculate the number of cases or the so called prevalence of these adults aged 18+ that have binge drinking by $ \\frac{datavalue}{100} \\cdot population\\_of\\_adults\\_aged\\_18+$"
   ]
  },
  {
   "cell_type": "markdown",
   "id": "ab309490",
   "metadata": {},
   "source": [
    "## chronic liver disease mortality"
   ]
  },
  {
   "cell_type": "markdown",
   "id": "49a51bba",
   "metadata": {},
   "source": [
    "![](./figures%20&%20images/intial%20powerbi%20analyses%20(9).png)"
   ]
  },
  {
   "cell_type": "markdown",
   "id": "615b635f",
   "metadata": {},
   "source": [
    "There is not explicit age group listed in the question of `chronic liver disease mortality` so it is assumed that persons of all age groups will be in this pool, so we look to the stratification details of this data point. But because through secondary SQL transformation we have already created the table containing the `Population` table values based on age, sex, race, origin, state, and year. Again we can make use of the `Population` table here as we and calculate a tangible number pertaining not to the prevalence of a chronic disease indicator but the mortality rate of those having chronic disease.\n",
    "\n",
    "Again like previous questions each data point has its stratification which we need to take into account and we had taken into account during the creation of the `Population` table, all we have to do now is do calculations to this specific `Population` value coupled with the given `datavalue`"
   ]
  },
  {
   "cell_type": "markdown",
   "id": "3ce07988",
   "metadata": {},
   "source": [
    "![](./figures%20&%20images/intial%20powerbi%20analyses%20(10).png)"
   ]
  },
  {
   "cell_type": "markdown",
   "id": "00760f72",
   "metadata": {},
   "source": [
    "however we are looking now at the rate and we know for `datavaluetype`s of Age-Adjusted Rate and Crude Rate, these don't use `datavalueunit`s of % or percentages, where we can use our `datavalue` and divide it by mere 100. Since age-adjusted rate and crude rate vary in `datavalueunit`s namely cases per 1000, cases per 10000, cases per 100000, and cases per 1000000, we will have to conditionally change our denominator that our datavalue will divide to based on these `datavalueunit`s \n",
    "\n",
    "in this question the datavalueunit is not % but cases per 100000, so we should use 100000 as the denominator. Final calculation would be $\\frac{datavalue}{100000} \\cdot population\\_value(considering age, state, year, sex, race, ethnicity)$ "
   ]
  },
  {
   "cell_type": "markdown",
   "id": "748df09d",
   "metadata": {},
   "source": [
    "## Per capita alcohol consumption among persons aged >= 14 years "
   ]
  },
  {
   "cell_type": "markdown",
   "id": "5bb04afc",
   "metadata": {},
   "source": [
    "![](./figures%20&%20images/intial%20powerbi%20analyses%20(11).png)"
   ]
  },
  {
   "cell_type": "markdown",
   "id": "8e02d0d0",
   "metadata": {},
   "source": [
    "Again this wouldn't make sense for us to use the population value of those persons aged 14+ to calculate the number of cases of something as its not really the cases being measured here but the per capita alcohol consumption, but we can still make use of the `Population` table value for this data point in order to get the total amount of alcohol consumed by the whole population for this demographic of 14+ "
   ]
  },
  {
   "cell_type": "markdown",
   "id": "537c7929",
   "metadata": {},
   "source": [
    "![](./figures%20&%20images/intial%20powerbi%20analyses%20(12).png)"
   ]
  },
  {
   "cell_type": "markdown",
   "id": "d141259c",
   "metadata": {},
   "source": [
    "To get the total number of \"pack sales\" for this population, you would multiply the per capita consumption by the total population: $Per Capita Alcohol Consumption (DataValue) * Total Population (>= 14 years)$"
   ]
  },
  {
   "cell_type": "markdown",
   "id": "9bc9fa46",
   "metadata": {},
   "source": [
    "## We can actually do this in SQL instead of doing it in powerbi"
   ]
  },
  {
   "cell_type": "markdown",
   "id": "06dc7959",
   "metadata": {},
   "source": [
    "* '$', 'US Dollars', 'USD': $datavalue$\n",
    "* '%', 'Age-adjusted Prevalence', 'AGEADJPREV': $\\frac{datavalue}{100} \\cdot populationvalue$\n",
    "* '%', 'Crude Prevalence', 'CRDPREV': $\\frac{datavalue}{100} \\cdot populationvalue$\n",
    "* '%', 'Percent', 'PRCT': $\\frac{datavalue}{100} \\cdot populationvalue$\n",
    "* '%', 'Prevalence', 'PREV': $\\frac{datavalue}{100} \\cdot populationvalue$\n",
    "-----\n",
    "* 'Number', 'Median', 'MEDIAN': $datavalue$\n",
    "* 'Number', 'Age-adjusted Mean', 'AGEADJMEAN': $datavalue$ \n",
    "* 'Number', 'Mean', 'MEAN': $datavalue$\n",
    "* 'Number', 'Number', 'NMBR': $datavalue$\n",
    "* 'Years', 'Number', 'NMBR': $datavalue$\n",
    "-----\n",
    "* 'cases per 1,000', 'Crude Rate', 'CRDRATE': $\\frac{datavalue}{1000} \\cdot populationvalue$\n",
    "* 'cases per 1,000', 'Age-adjusted Rate', 'AGEADJRATE': $\\frac{datavalue}{1000} \\cdot populationvalue$\n",
    "-----\n",
    "* 'cases per 1,000,000', 'Number', 'NMBR': \n",
    "* 'cases per 1,000,000', 'Age-adjusted Rate', 'AGEADJRATE': $\\frac{datavalue}{1000000} \\cdot populationvalue$\n",
    "* 'cases per 1,000,000', 'Adjusted by age, sex, race and ethnicity', 'AGESEXRACEADJRATE': $\\frac{datavalue}{1000000} \\cdot populationvalue$\n",
    "* 'cases per 1,000,000', 'Crude Rate', 'CRDRATE': $\\frac{datavalue}{1000000} \\cdot populationvalue$\n",
    "-----\n",
    "* 'cases per 10,000', 'Crude Rate', 'CRDRATE': $\\frac{datavalue}{10000} \\cdot populationvalue$\n",
    "* 'cases per 10,000', 'Age-adjusted Rate', 'AGEADJRATE': $\\frac{datavalue}{10000} \\cdot populationvalue$\n",
    "-----\n",
    "* 'cases per 100,000', 'Average Annual Crude Rate', 'AVGANNCRDRATE': $\\frac{datavalue}{100000} \\cdot populationvalue$\n",
    "* 'cases per 100,000', 'Crude Rate', 'CRDRATE': $\\frac{datavalue}{100000} \\cdot populationvalue$\n",
    "* 'cases per 100,000', 'Age-adjusted Rate', 'AGEADJRATE': $\\frac{datavalue}{100000} \\cdot populationvalue$\n",
    "* 'cases per 100,000', 'Average Annual Age-adjusted Rate', 'AVGANNAGEADJRATE: $\\frac{datavalue}{100000} \\cdot populationvalue$\n",
    "* 'cases per 100,000', 'Number', 'NMBR':\n",
    "-----\n",
    "* 'gallons', 'Per capita alcohol consumption', 'PERCAPALC': \n",
    "* 'pack sales per capita', 'Number', 'NMBR': depends on question if what is measured can make use of the number of cases of people having the CDI"
   ]
  },
  {
   "cell_type": "markdown",
   "id": "6b06e0e9",
   "metadata": {},
   "source": [
    "# Asking initial questions "
   ]
  },
  {
   "cell_type": "markdown",
   "id": "39dddbfc",
   "metadata": {},
   "source": [
    "## 1. What is the prevalence of alcohol use among youth (male and female) in listed year ranges?"
   ]
  },
  {
   "cell_type": "markdown",
   "id": "983d5393",
   "metadata": {},
   "source": [
    "![](./figures%20&%20images/initial%20analyses%20powerbi%20(2).png)"
   ]
  },
  {
   "cell_type": "markdown",
   "id": "d37ca091",
   "metadata": {},
   "source": [
    "![](./figures%20&%20images/initial%20analyses%20powerbi.png)"
   ]
  },
  {
   "cell_type": "markdown",
   "id": "ea9ddee2",
   "metadata": {},
   "source": [
    "what we want to do now is to filter the chronic disease table into the `alcohol use among youth` question, with the stratification across hispanic and non hispanic, female and male, and all races"
   ]
  },
  {
   "cell_type": "markdown",
   "id": "fe586f18",
   "metadata": {},
   "source": [
    "we have this slicer here and it basically filters everything in the CDI table that has the alcohol use among youth question and so we want to calculate some sort of average of alcohol use among youth or any kind of calculation with the table resulting from the slicer filtering this question. Question is how can we use this calculated table visual to make aggregations to it and using some kind of DAX/SQL to queery from this table?"
   ]
  },
  {
   "cell_type": "markdown",
   "id": "40dcf8a0",
   "metadata": {},
   "source": [
    "**DAX query** to create the column `TotalEvents` representing the tangible number of a chronic disease indicator:\n",
    "```\n",
    "TotalEvents = SWITCH(\n",
    "    TRUE(),\n",
    "    'chronic_disease_analyses_db   main   CDI'[DataValueTypeID] IN {\"USD\", \"MEDIAN\", \"AGEADJMEAN\", \"NMBR\", \"MEAN\"},\n",
    "    'chronic_disease_analyses_db   main   CDI'[DataValue],\n",
    "\n",
    "    'chronic_disease_analyses_db   main   CDI'[DataValueTypeID] IN {\"AGEADJPREV\", \"CRDPREV\", \"PRCT\", \"PREV\"} && 'chronic_disease_analyses_db   main   CDI'[DataValueUnit] = \"%\",\n",
    "    ('chronic_disease_analyses_db   main   CDI'[DataValue] / 100) * RELATED('chronic_disease_analyses_db   main   CalculatedPopulation'[Population]),\n",
    "\n",
    "    'chronic_disease_analyses_db   main   CDI'[DataValueTypeID] IN {\"CRDRATE\", \"AGEADJRATE\"} && 'chronic_disease_analyses_db   main   CDI'[DataValueUnit] = \"cases per 1,000\",\n",
    "    ('chronic_disease_analyses_db   main   CDI'[DataValue] / 1000) * RELATED('chronic_disease_analyses_db   main   CalculatedPopulation'[Population]),\n",
    "\n",
    "    'chronic_disease_analyses_db   main   CDI'[DataValueTypeID] IN {\"CRDRATE\", \"AGEADJRATE\"} && 'chronic_disease_analyses_db   main   CDI'[DataValueUnit] = \"cases per 10,000\",\n",
    "    ('chronic_disease_analyses_db   main   CDI'[DataValue] / 10000) * RELATED('chronic_disease_analyses_db   main   CalculatedPopulation'[Population]),\n",
    "\n",
    "    'chronic_disease_analyses_db   main   CDI'[DataValueTypeID] IN {\"CRDRATE\", \"AGEADJRATE\", \"AVGANNCRDRATE\", \"AVGANNAGEADJRATE\"} && 'chronic_disease_analyses_db   main   CDI'[DataValueUnit] = \"cases per 100,000\",\n",
    "    ('chronic_disease_analyses_db   main   CDI'[DataValue] / 100000) * RELATED('chronic_disease_analyses_db   main   CalculatedPopulation'[Population]),\n",
    "\n",
    "    'chronic_disease_analyses_db   main   CDI'[DataValueTypeID] IN {\"CRDRATE\", \"AGEADJRATE\", \"AGESEXRACEADJRATE\"} && 'chronic_disease_analyses_db   main   CDI'[DataValueUnit] = \"cases per 1,000,000\",\n",
    "    ('chronic_disease_analyses_db   main   CDI'[DataValue] / 1000000) * RELATED('chronic_disease_analyses_db   main   CalculatedPopulation'[Population]),\n",
    "\n",
    "    'chronic_disease_analyses_db   main   CDI'[DataValueTypeID] IN {\"PERCAPALC\"} && 'chronic_disease_analyses_db   main   CDI'[DataValueUnit] = \"gallons\",\n",
    "    'chronic_disease_analyses_db   main   CDI'[DataValue] * RELATED('chronic_disease_analyses_db   main   CalculatedPopulation'[Population])\n",
    ")\n",
    "```"
   ]
  },
  {
   "cell_type": "markdown",
   "id": "27bcfbe4",
   "metadata": {},
   "source": [
    "Now that we have the `TotalEvents` column we can use it in a visual that shows the top states in a specific year range that has the most youth population estimates using alcohol"
   ]
  },
  {
   "cell_type": "markdown",
   "id": "183b29ac",
   "metadata": {},
   "source": [
    "![](./figures%20&%20images/initial%20analyses%20powerbi%20(4).png)"
   ]
  },
  {
   "cell_type": "markdown",
   "id": "0400e30c",
   "metadata": {},
   "source": [
    "this answers our question above in multiple ways\n",
    "- the states with the most estimated youth populations recorded in 2013 using alcohol were in Texas, New York, Florida, Illinois, and Ohio\n",
    "- the states with the most estimated youth populations recorded in 2015 using alcohol were in California, Florida, New York, Illinois, and Pennsylvania\n",
    "- the states with the most estimated youth populations recorded in 2017 using alcohol were in California, Texas, New York, Florida, and Pennsylvania\n",
    "- the states with the most estimated youth populations recorded in 2019 using alcohol were in California, Texas, New York, Florida, and Illinois"
   ]
  },
  {
   "cell_type": "markdown",
   "id": "23221755",
   "metadata": {},
   "source": [
    "## 2. what is average binge drinking prevalence among adults aged >= 18 from 2001 to 2021"
   ]
  },
  {
   "cell_type": "markdown",
   "id": "db0d1f29",
   "metadata": {},
   "source": [
    "![](./figures%20&%20images/initial%20analyses%20powerbi%20(10).png)"
   ]
  },
  {
   "cell_type": "markdown",
   "id": "d91ad674",
   "metadata": {},
   "source": [
    "Our question of the prevalene of adults aged >= 18 year who binge drink is answered in multiple ways:\n",
    "1. The 1st graph which is the `estimated population of adults aged >= 18 years who binge drink across all states and all years per gender and datavaluetype` combines population in all states and all years of those who binge drink by using their average. \n",
    "- **We see that the average age adjusted prevalence of males who binge drink is 554k its crude prevalence slightly lower 540k, and average age adjusted prevalence of females who binge drink is 327k its crude prevalence**\n",
    "2. the 2nd graph which is the `estimated population of adults aged >= 18 years who binge drink across all years per gender and per state` combines population in all years and datavaluetypes who binge drink by using their average. \n",
    "- **We see that the top 5 highest populations who binge drink per state are from california, texas, florida, new york, and illinois (a trend relatively consistent to the prevalence of alcohol use in youth) with ranges from 2.05M to 5.23M**\n",
    "- **top 5 lowest populations who binge drink per state are from delaware, north dakota, alaska, vermont, and wyoming with ranges from 80k to 140k** \n",
    "3. the 3rd graph is the `population percentages of male and female adults aged >= 18 years who binge drink across all years per state and per gender` which combines population in all years and datavaluetypes who binge drink by using their average\n",
    "- it is relatively consistent that the difference between male populations and female populations who binge drink per state **is 30%**"
   ]
  },
  {
   "cell_type": "markdown",
   "id": "36a68dee",
   "metadata": {},
   "source": [
    "As there are many years recorded for the `binge drinking prevalence among adults aged >= 18 years`, we can create a line graph instead that better visualizes these populations per year per state. These graphs we see **are the states with the highest prevalence of binge drinking**."
   ]
  },
  {
   "cell_type": "markdown",
   "id": "203ccbec",
   "metadata": {},
   "source": [
    "#### California\n",
    "![](./figures%20&%20images/initial%20analyses%20powerbi%20(11).png)"
   ]
  },
  {
   "cell_type": "markdown",
   "id": "2c28b0a9",
   "metadata": {},
   "source": [
    "#### Texas\n",
    "![](./figures%20&%20images/initial%20analyses%20powerbi%20(13).png)"
   ]
  },
  {
   "cell_type": "markdown",
   "id": "bd61b8a1",
   "metadata": {},
   "source": [
    "#### Florida\n",
    "![](./figures%20&%20images/initial%20analyses%20powerbi%20(14).png)"
   ]
  },
  {
   "cell_type": "markdown",
   "id": "08f95e80",
   "metadata": {},
   "source": [
    "#### New York\n",
    "![](./figures%20&%20images/initial%20analyses%20powerbi%20(15).png)"
   ]
  },
  {
   "cell_type": "markdown",
   "id": "35dba6e7",
   "metadata": {},
   "source": [
    "#### Illinois\n",
    "![](./figures%20&%20images/initial%20analyses%20powerbi%20(12).png)"
   ]
  },
  {
   "cell_type": "markdown",
   "id": "be4d8d49",
   "metadata": {},
   "source": [
    "4th graph shows shows the `average population size of the top 5 states associated the most with having high prevalence of individuals who binge drink across all years ranging from 2011 to 2021` which combines population in all datavaluetypes by using the average"
   ]
  },
  {
   "cell_type": "markdown",
   "id": "60f2d628",
   "metadata": {},
   "source": [
    "Since the male population across all states and all years tend to have on average the highest prevalence of binge drinking the trends in each state convey the ff.\n",
    "- state of *california* seems to have it's **male population have a seasonal trend of rising and falling prevalence of binge drinking males**. It's highest was 2011 then after 3 years it was at it's lowest and after 3 years in 2017 the prevalence shot up almost approximating the previous high in 2011 then came down again after 4 years in 2021\n",
    "- **the trend of the female population of binge drinkers seem to be steady with little spikes**\n",
    "- In the state of *texas* both male and female populations of binge drinkers **seem to have a gradual uptrend starting from 2011 up to 2021** but no seasonal pattern involved.\n",
    "- in the state of *florida* there seems to be a seasonal patten involved like in california as **for both male and female populations of binge drinkers, the number starting from 2011 decreases after 1 to 2 years then inreases again after 1 to 2 years with a new and slightly higher population of binge drinkers in each gender as before**\n",
    "- *Illinois* seems interesting as its pattern shows a downtrend starting from 2011 all the way to 2020 but rose in 2021 slightly. The **recorded number of binge drinkers of each gender was at an all time high in 2011 at 1.49M and 880K for male and female respectively and then came down at its lowest in 2020 at 860K and 530K respectively.**\n",
    "- *New York* seems to have a down trend over the years as both male and female populations of binge drinkers **started out high in 2011 with a recorded number of 1.91m and 1.24m respectively and then came down in 2014 and 2012 respectively then started to rise again slightly thereafter and then had continually gradual decline**\n"
   ]
  },
  {
   "cell_type": "markdown",
   "id": "b9bd4843",
   "metadata": {},
   "source": [
    "![](./figures%20&%20images/initial%20analyses%20powerbi%20(17).png)"
   ]
  },
  {
   "cell_type": "markdown",
   "id": "15c74701",
   "metadata": {},
   "source": [
    "![](./figures%20&%20images/initial%20analyses%20powerbi%20(18).png)"
   ]
  },
  {
   "cell_type": "markdown",
   "id": "b3277db6",
   "metadata": {},
   "source": [
    "![](./figures%20&%20images/initial%20analyses%20powebi%20(20).png)"
   ]
  },
  {
   "cell_type": "markdown",
   "id": "d5cf5f45",
   "metadata": {},
   "source": [
    "![](./figures%20&%20images/initial%20analyses%20powerbi%20(15).png)"
   ]
  },
  {
   "cell_type": "markdown",
   "id": "a8e16020",
   "metadata": {},
   "source": [
    "![](./figures%20&%20images/initial%20analyses%20powerbi%20(19).png)"
   ]
  },
  {
   "cell_type": "markdown",
   "id": "47697506",
   "metadata": {},
   "source": [
    "![](./figures%20&%20images/initial%20analyses%20powerbi%20(16).png)"
   ]
  },
  {
   "cell_type": "markdown",
   "id": "dc8eb2bc",
   "metadata": {},
   "source": [
    "## 3. what is the combined drinking intensity and frequency among adults aged >= 18 years who binge drink"
   ]
  },
  {
   "cell_type": "markdown",
   "id": "49fa0268",
   "metadata": {},
   "source": [
    "question of `binge drinking intensity among adults aged >= 18 years who binge drink` has id `ALC4_0`, `Binge drinking frequency among adults aged >= 18 years who binge drink` has id `ALC3_0`, and the question of `Binge drinking prevalence among adults aged >= 18 years` has id `ALC2_2`. What we want to do here is use a filtered version of the CDI table with the `question_id` as `ALC2_2` which would be the ff."
   ]
  },
  {
   "cell_type": "markdown",
   "id": "11cb8d1a",
   "metadata": {},
   "source": [
    "![](./figures%20&%20images/initial%20analyses%20powerbi%20(7).png)"
   ]
  },
  {
   "cell_type": "markdown",
   "id": "ba11eb15",
   "metadata": {},
   "source": [
    "and then join it to another filtered version of the CDI table with the `question_id` as `ALC4_0` or `AL3_0` which are the `binge drinking frequency/intensity among adults aged >= 18 years who binge drink` questions, as we know this pertains only to the population of those who binge drink which we have already calculated in the totalevents representing the total prevalence of those who indeed binge drinks in a specific state, year, sex, ethnicity, and origin"
   ]
  },
  {
   "cell_type": "markdown",
   "id": "20f20a69",
   "metadata": {},
   "source": [
    "since these two tables already have their `ageend`s and `agestart`s to be the same we don't need to join these tables on specific join conditions that factors in the age group. We only need to join them based on their `DataValueType`, `LocationDesc`, `YearStart`, `YearEnd`, and `StratificationID`. E.g. `(binge drinking prevalence among adults aged >= 18 years, age-adjusted prevalence, tennessee, 2012, 2012, b_f_all, ...)` must be joined with `(binge drinking frequency among adults aged >= 18 years who binge drink, age-adjusted mean, tennessee, 2012, 2012, b_f_all, ...)`\n",
    "\n",
    "then the `TotalEvents` in the `ALC2_2` filtered table must be multiplied with the `DataValue` of the `ALC3_0` or `ALC4_0` filtered table"
   ]
  },
  {
   "cell_type": "code",
   "execution_count": 12,
   "id": "e84aa294",
   "metadata": {},
   "outputs": [],
   "source": [
    "# alc2_2 = conn.sql(\"\"\"\n",
    "#     SELECT *\n",
    "#     FROM CDI\n",
    "#     WHERE QuestionID = 'ALC2_2' AND (StratificationID = 'B_F_ALL' OR StratificationID = 'B_M_ALL')\n",
    "# \"\"\")"
   ]
  },
  {
   "cell_type": "code",
   "execution_count": 13,
   "id": "46cd36d0",
   "metadata": {},
   "outputs": [],
   "source": [
    "# alc2_2"
   ]
  },
  {
   "cell_type": "code",
   "execution_count": 14,
   "id": "68fb7fe1",
   "metadata": {},
   "outputs": [],
   "source": [
    "# alc2_2s = alc2_2.fetchall()\n",
    "# len(alc2_2s)"
   ]
  },
  {
   "cell_type": "code",
   "execution_count": 15,
   "id": "fd28ab7f",
   "metadata": {},
   "outputs": [],
   "source": [
    "# alc4_0 = conn.sql(\"\"\"\n",
    "#     SELECT *\n",
    "#     FROM CDI\n",
    "#     WHERE QuestionID = 'ALC4_0' AND (StratificationID = 'B_F_ALL' OR StratificationID = 'B_M_ALL')\n",
    "# \"\"\")"
   ]
  },
  {
   "cell_type": "code",
   "execution_count": 16,
   "id": "c5d98aa0",
   "metadata": {},
   "outputs": [],
   "source": [
    "# alc4_0"
   ]
  },
  {
   "cell_type": "code",
   "execution_count": 17,
   "id": "f205ba7e",
   "metadata": {},
   "outputs": [],
   "source": [
    "# len(alc4_0.fetchall())"
   ]
  },
  {
   "cell_type": "markdown",
   "id": "a737efbe",
   "metadata": {},
   "source": [
    "it seems like the average binge drinking prevalence among those aged >= 18 fin 2011 is highest in California what I want to be able to do is use this average binge drinking drinking intensity/frequency of those who already binge drink \n",
    "\n",
    "the question specifically targets the subpopulation of \"adults aged >= 18 years who binge drink,\" the total adult population of Arizona is not directly applicable for converting this average frequency into a tangible number of individuals or binge drinking episodes.\n",
    "\n",
    "Here's why:\n",
    "\n",
    "The Average is Conditional: The average binge drinking frequency of 3.6 is conditional on the individual being a binge drinker. It's calculated only among those who engage in this behavior.\n",
    "We Don't Know the Number of Binge Drinkers: The total adult population includes both binge drinkers and non-binge drinkers. Without knowing the prevalence (i.e., the proportion or number) of binge drinkers within that 150,000 adult population, we can't determine how many individuals this average applies to.\n",
    "\n",
    "What the 3.6 Tells Us:\n",
    "\n",
    "On average, an adult in Arizona aged 18 and above who binge drinks does so approximately 3.6 times within the specified time period (e.g., per month, per year - this timeframe isn't provided).\n",
    "\n",
    "\n",
    "To get a tangible number, you would need additional information:\n",
    "\n",
    "Prevalence of Binge Drinking: You would need to know what percentage or the actual number of adults aged 18 and above in Arizona in 2015 were classified as binge drinkers.\n",
    "\n",
    "Example: If a study showed that 20% of the 150,000 adults in Arizona were binge drinkers, then the number of binge drinkers would be 0.20 * 150,000 = 30,000.\n",
    "\n",
    "\n",
    "\n",
    "Calculating Tangible Numbers with Prevalence:\n",
    "\n",
    "Number of Binge Drinkers: Once you have the prevalence, you can calculate the estimated number of individuals in the target demographic who engage in binge drinking (as shown in the example above).\n",
    "Total Binge Drinking Episodes: You could then estimate the total number of binge drinking episodes in that population by multiplying the number of binge drinkers by their average frequency: 30,000 binge drinkers * 3.6 episodes/period = 108,000 binge drinking episodes per period.\n",
    "\n",
    "\n",
    "that means I have to do a self join on the filtered table containing the \"binge drinking prevalence among adults aged >= 18 question\" from 2001 to 2021 in all states and join these  "
   ]
  },
  {
   "cell_type": "code",
   "execution_count": 18,
   "id": "ad05f301",
   "metadata": {},
   "outputs": [],
   "source": [
    "# conn.sql(\"\"\"\n",
    "#     WITH ALC2_2 AS (\n",
    "#         SELECT \n",
    "#             *,\n",
    "#             CASE\n",
    "#                 WHEN DataValueTypeID IN ('USD', 'MEDIAN', 'AGEADJMEAN', 'NMBR', 'MEAN') THEN DataValue\n",
    "#                 WHEN DataValueTypeID IN ('AGEADJPREV', 'CRDPREV', 'PRCT', 'PREV') AND DataValueUnit = '%' THEN ((DataValue / 100) * Population)\n",
    "#                 WHEN DataValueTypeID IN ('CRDRATE', 'AGEADJRATE') AND DataValueUnit = 'cases per 1,000' THEN ((DataValue / 1000) * Population)\n",
    "#                 WHEN DataValueTypeID IN ('CRDRATE', 'AGEADJRATE') AND DataValueUnit = 'cases per 10,000' THEN ((DataValue / 10000) * Population)\n",
    "#                 WHEN DataValueTypeID IN ('CRDRATE', 'AGEADJRATE', 'AVGANNCRDRATE', 'AVGANNAGEADJRATE') AND DataValueUnit = 'cases per 100,000' THEN ((DataValue / 100000) * Population)\n",
    "#                 WHEN DataValueTypeID IN ('CRDRATE', 'AGEADJRATE', 'AGESEXRACEADJRATE') AND DataValueUnit = 'cases per 1,000,000' THEN ((DataValue / 1000000) * Population)\n",
    "#                 WHEN DataValueTypeID IN ('PERCAPALC') AND DataValueUnit = 'gallons' THEN DataValue * Population\n",
    "#                 ELSE DataValue\n",
    "#             END AS TotalEvents\n",
    "#         FROM CDI\n",
    "#         WHERE QuestionID = 'ALC2_2' AND (StratificationID = 'B_F_ALL' OR StratificationID = 'B_M_ALL')\n",
    "#     ),\n",
    "\n",
    "#     -- this table contains the questions related to binge drinking intensity\n",
    "#     ALC4_0 AS (\n",
    "#         SELECT *\n",
    "#         FROM CDI\n",
    "#         WHERE QuestionID = 'ALC4_0' AND (StratificationID = 'B_F_ALL' OR StratificationID = 'B_M_ALL')\n",
    "#     ),\n",
    "         \n",
    "#     -- this table contains the questions related to binge drinking frequency\n",
    "#     ALC3_0 AS (\n",
    "#         SELECT *\n",
    "#         FROM CDI\n",
    "#         WHERE QuestionID = 'ALC3_0' AND (StratificationID = 'B_F_ALL' OR StratificationID = 'B_M_ALL')\n",
    "#     ),\n",
    "    \n",
    "#     -- we self join all the tables on the condition that their \n",
    "#     -- LocationID, StratificationID, YearStart, YearEnd are the same\n",
    "#     BingeDrinkingIntFreq AS (\n",
    "#         SELECT \n",
    "#             ALC2_2.LogID,\n",
    "#             ALC2_2.QuestionID AS AlcPrevID,\n",
    "#             ALC4_0.QuestionID AS AlcIntID,\n",
    "#             ALC3_0.QuestionID AS AlcFreqID,\n",
    "#             ALC2_2.DataValue AS AlcPrevDataValue,\n",
    "#             ALC4_0.DataValue AS AlcIntDataValue,\n",
    "#             ALC3_0.DataValue AS AlcFreqDataValue,\n",
    "#             ALC2_2.DataValueUnit AS AlcPrevDataValueUnit,\n",
    "#             ALC4_0.DataValueUnit AS AlcIntDataValueUnit,\n",
    "#             ALC3_0.DataValueUnit AS AlcFreqDataValueUnit,\n",
    "#             ALC2_2.DataValueTypeID AS AlcPrevDataValueTypeID,\n",
    "#             ALC4_0.DataValueTypeID AS AlcIntDataValueTypeID,\n",
    "#             ALC3_0.DataValueTypeID AS AlcFreqDataValueTypeID,\n",
    "#             ALC2_2.StratificationID,\n",
    "#             ALC2_2.LocationID,\n",
    "#             ALC2_2.YearStart,\n",
    "#             ALC2_2.YearEnd,\n",
    "#             ALC2_2.Population,\n",
    "#             ALC2_2.TotalEvents AS BingeDrinkingPopulation,\n",
    "#             (ALC2_2.TotalEvents * ALC4_0.DataValue) AS BingeDrinkingPopInt,\n",
    "#             (ALC2_2.TotalEvents * ALC3_0.DataValue) AS BingeDrinkingPopFreq\n",
    "#         FROM ALC2_2\n",
    "#         INNER JOIN ALC4_0\n",
    "#         ON (\n",
    "#             (ALC2_2.DataValueTypeID = 'AGEADJPREV' AND ALC4_0.DataValueTypeID = 'AGEADJMEAN')\n",
    "#             OR (ALC2_2.DataValueTypeID = 'CRDPREV' AND ALC4_0.DataValueTypeID = 'MEAN')\n",
    "#         )\n",
    "#         AND (ALC2_2.StratificationID = ALC4_0.StratificationID)\n",
    "#         AND (ALC2_2.LocationID = ALC4_0.LocationID)\n",
    "#         AND (ALC2_2.YearStart = ALC4_0.YearStart)\n",
    "#         AND (ALC2_2.YearEnd = ALC4_0.YearEnd)\n",
    "#         INNER JOIN ALC3_0\n",
    "#         ON (\n",
    "#             (ALC2_2.DataValueTypeID = 'AGEADJPREV' AND ALC3_0.DataValueTypeID = 'AGEADJMEAN')\n",
    "#             OR (ALC2_2.DataValueTypeID = 'CRDPREV' AND ALC3_0.DataValueTypeID = 'MEAN')\n",
    "#         )\n",
    "#         AND (ALC2_2.StratificationID = ALC3_0.StratificationID)\n",
    "#         AND (ALC2_2.LocationID = ALC3_0.LocationID)\n",
    "#         AND (ALC2_2.YearStart = ALC3_0.YearStart)\n",
    "#         AND (ALC2_2.YearEnd = ALC3_0.YearEnd)\n",
    "#     )\n",
    "                                   \n",
    "#     SELECT *\n",
    "#     FROM BingeDrinkingIntFreq\n",
    "# \"\"\")"
   ]
  },
  {
   "cell_type": "code",
   "execution_count": 19,
   "id": "b28f98cd",
   "metadata": {},
   "outputs": [],
   "source": [
    "# binge_drinking_int_freq = conn.sql(\"\"\"\n",
    "#     -- binge drinking prevalence among adults aged >= 18 years only and not among women aged 18-44 \n",
    "#     -- years and among youth, since these latter demongraphics have no binge drinking frequencies\n",
    "#     -- and intensities we can join on\n",
    "#     WITH BingeDrinkingPrev AS (\n",
    "#         SELECT \n",
    "#             *,\n",
    "#             CASE\n",
    "#                 WHEN DataValueTypeID IN ('USD', 'MEDIAN', 'AGEADJMEAN', 'NMBR', 'MEAN') THEN DataValue\n",
    "#                 WHEN DataValueTypeID IN ('AGEADJPREV', 'CRDPREV', 'PRCT', 'PREV') AND DataValueUnit = '%' THEN ((DataValue / 100) * Population)\n",
    "#                 WHEN DataValueTypeID IN ('CRDRATE', 'AGEADJRATE') AND DataValueUnit = 'cases per 1,000' THEN ((DataValue / 1000) * Population)\n",
    "#                 WHEN DataValueTypeID IN ('CRDRATE', 'AGEADJRATE') AND DataValueUnit = 'cases per 10,000' THEN ((DataValue / 10000) * Population)\n",
    "#                 WHEN DataValueTypeID IN ('CRDRATE', 'AGEADJRATE', 'AVGANNCRDRATE', 'AVGANNAGEADJRATE') AND DataValueUnit = 'cases per 100,000' THEN ((DataValue / 100000) * Population)\n",
    "#                 WHEN DataValueTypeID IN ('CRDRATE', 'AGEADJRATE', 'AGESEXRACEADJRATE') AND DataValueUnit = 'cases per 1,000,000' THEN ((DataValue / 1000000) * Population)\n",
    "#                 WHEN DataValueTypeID IN ('PERCAPALC') AND DataValueUnit = 'gallons' THEN DataValue * Population\n",
    "#                 ELSE DataValue\n",
    "#             END AS TotalEvents\n",
    "#         FROM CDI\n",
    "#         WHERE QuestionID = 'ALC2_2' AND StratificationID IN ('B_B_ALL', 'B_M_ALL', 'B_F_ALL', 'H_B_ALL', 'NH_B_BLACK', 'NH_B_MULTI', 'NH_B_OTHER', 'NH_B_WHITE')\n",
    "#     ),\n",
    "                                \n",
    "\n",
    "#     -- this table contains the questions related to binge drinking intensity\n",
    "#     ALC4_0 AS (\n",
    "#         SELECT *\n",
    "#         FROM CDI\n",
    "#         WHERE QuestionID = 'ALC4_0' AND StratificationID IN ('B_B_ALL', 'B_M_ALL', 'B_F_ALL', 'H_B_ALL', 'NH_B_BLACK', 'NH_B_MULTI', 'NH_B_OTHER', 'NH_B_WHITE')\n",
    "#     ),\n",
    "         \n",
    "#     -- this table contains the questions related to binge drinking frequency\n",
    "#     ALC3_0 AS (\n",
    "#         SELECT *\n",
    "#         FROM CDI\n",
    "#         WHERE QuestionID = 'ALC3_0' AND StratificationID IN ('B_B_ALL', 'B_M_ALL', 'B_F_ALL', 'H_B_ALL', 'NH_B_BLACK', 'NH_B_MULTI', 'NH_B_OTHER', 'NH_B_WHITE')\n",
    "#     ),\n",
    "    \n",
    "#     -- we self join all the tables on the condition that their \n",
    "#     -- LocationID, StratificationID, YearStart, YearEnd are the same\n",
    "#     BingeDrinkingIntFreq AS (\n",
    "#         SELECT \n",
    "#             BingeDrinkingPrev.LogID,\n",
    "#             BingeDrinkingPrev.QuestionID AS AlcPrevID,\n",
    "#             ALC4_0.QuestionID AS AlcIntID,\n",
    "#             ALC3_0.QuestionID AS AlcFreqID,\n",
    "#             BingeDrinkingPrev.DataValue AS AlcPrevDataValue,\n",
    "#             ALC4_0.DataValue AS AlcIntDataValue,\n",
    "#             ALC3_0.DataValue AS AlcFreqDataValue,\n",
    "#             BingeDrinkingPrev.DataValueUnit AS AlcPrevDataValueUnit,\n",
    "#             ALC4_0.DataValueUnit AS AlcIntDataValueUnit,\n",
    "#             ALC3_0.DataValueUnit AS AlcFreqDataValueUnit,\n",
    "#             BingeDrinkingPrev.DataValueTypeID AS AlcPrevDataValueTypeID,\n",
    "#             ALC4_0.DataValueTypeID AS AlcIntDataValueTypeID,\n",
    "#             ALC3_0.DataValueTypeID AS AlcFreqDataValueTypeID,\n",
    "#             BingeDrinkingPrev.StratificationID,\n",
    "#             BingeDrinkingPrev.LocationID,\n",
    "#             BingeDrinkingPrev.YearStart,\n",
    "#             BingeDrinkingPrev.YearEnd,\n",
    "#             BingeDrinkingPrev.Population,\n",
    "#             BingeDrinkingPrev.TotalEvents AS BingeDrinkingPopulation,\n",
    "#             (BingeDrinkingPrev.TotalEvents * ALC4_0.DataValue) AS BingeDrinkingPopInt,\n",
    "#             (BingeDrinkingPrev.TotalEvents * ALC3_0.DataValue) AS BingeDrinkingPopFreq\n",
    "#         FROM BingeDrinkingPrev\n",
    "#         INNER JOIN ALC4_0\n",
    "#         ON (\n",
    "#             (BingeDrinkingPrev.DataValueTypeID = 'AGEADJPREV' AND ALC4_0.DataValueTypeID = 'AGEADJMEAN')\n",
    "#             OR (BingeDrinkingPrev.DataValueTypeID = 'CRDPREV' AND ALC4_0.DataValueTypeID = 'MEAN')\n",
    "#         )\n",
    "#         AND (BingeDrinkingPrev.StratificationID = ALC4_0.StratificationID)\n",
    "#         AND (BingeDrinkingPrev.LocationID = ALC4_0.LocationID)\n",
    "#         AND (BingeDrinkingPrev.YearStart = ALC4_0.YearStart)\n",
    "#         AND (BingeDrinkingPrev.YearEnd = ALC4_0.YearEnd)\n",
    "#         INNER JOIN ALC3_0\n",
    "#         ON (\n",
    "#             (BingeDrinkingPrev.DataValueTypeID = 'AGEADJPREV' AND ALC3_0.DataValueTypeID = 'AGEADJMEAN')\n",
    "#             OR (BingeDrinkingPrev.DataValueTypeID = 'CRDPREV' AND ALC3_0.DataValueTypeID = 'MEAN')\n",
    "#         )\n",
    "#         AND (BingeDrinkingPrev.StratificationID = ALC3_0.StratificationID)\n",
    "#         AND (BingeDrinkingPrev.LocationID = ALC3_0.LocationID)\n",
    "#         AND (BingeDrinkingPrev.YearStart = ALC3_0.YearStart)\n",
    "#         AND (BingeDrinkingPrev.YearEnd = ALC3_0.YearEnd)\n",
    "#     )\n",
    "                                   \n",
    "#     SELECT \n",
    "#         MAX(LogID) AS LogID,\n",
    "#         AVG(AlcPrevDataValue) AS AvgAlcPrevDataValue,\n",
    "#         AVG(AlcIntDataValue) AS AvgAlcIntDataValue,\n",
    "#         AVG(AlcFreqDataValue) AS AvgAlcFreqDataValue,\n",
    "#         LocationID,\n",
    "#         StratificationID,\n",
    "#         YearEnd,\n",
    "#         YearStart,\n",
    "#         AVG(BingeDrinkingPopInt) AS AvgBingeDrinkingPopInt,\n",
    "#         AVG(BingeDrinkingPopFreq) AS AvgBingeDrinkingPopFreq,\n",
    "#         AVG(BingeDrinkingPopulation) AS AvgBingeDrinkingPopulation\n",
    "#     FROM BingeDrinkingIntFreq\n",
    "#     GROUP BY LocationID, StratificationID, YearEnd, YearStart, AlcPrevID, AlcIntID, AlcFreqID\n",
    "# \"\"\")"
   ]
  },
  {
   "cell_type": "code",
   "execution_count": 20,
   "id": "dda528c6",
   "metadata": {},
   "outputs": [],
   "source": [
    "# binge_drinking_int_freq"
   ]
  },
  {
   "cell_type": "markdown",
   "id": "66b9846f",
   "metadata": {},
   "source": [
    "as shown here we don't really know really know what is measured when the data value of let's say a data point's question of `binge drinking intensity among adults aged >= 18 years who binge drink` is 5.6. The number alone is not enough because you might think is it 5.6 miles per hour? 5.6 kilometers per hour? 5.6 revolutions per second? So 5.6 doesn't really mean anything, however it could mean several very different things, depending on the source's methodology:\n",
    "\n",
    "1. Average Number of Drinks Per Binge Episode - This is the most common interpretation for \"intensity.\" It would mean that, among adults who binge drink, the average number of alcoholic drinks consumed during a single binge drinking episode is 5.6. For context a \"binge drinking episode\" is usually defined as consuming 4 or more drinks for women, or 5 or more drinks for men, on one occasion. So, 5.6 means they're going beyond the minimum threshold.\n",
    "\n",
    "2. Average Number of Binge Episodes Per Time Period (e.g., per month, per year) - Less likely to be called \"intensity\" but possible. It would mean that, among adults who binge drink, they average 5.6 binge drinking episodes in a given timeframe (e.g., 5.6 times per month).\n",
    "Distinction: This is more about frequency than intensity. Your previous question \"binge drinking frequency among adults aged >= 18 years who binge drink\" with a value of 3.6 directly points to this. So, if your current data value is also 5.6 for \"intensity,\" it's highly likely they are distinct measures, and \"intensity\" refers to drinks per episode.\n",
    "\n",
    "3. A Composite Score - Sometimes, researchers create a composite \"intensity\" score based on a weighted combination of factors (e.g., number of drinks, speed of consumption, negative consequences experienced). In this case, 5.6 would be a point on an arbitrary scale, and you'd need the methodology to understand it. This is less common for \"intensity\" alone.\n",
    "\n",
    "For the Most Probable Meaning for \"Intensity\" given that I separately have a \"binge drinking frequency\" measure, it's highly probable that \"binge drinking intensity\" with a value of 5.6 refers to the average number of drinks consumed per binge drinking occasion by those who binge drink.\n",
    "\n",
    "You would need to refer to the metadata, documentation, or codebook of the Chronic Disease Indicators (CDI) dataset itself. Somewhere within that documentation, there should be a precise definition for \"binge drinking intensity\" and its unit of measure. It might be:\n",
    "- \"Average number of alcoholic drinks consumed per binge drinking occasion.\"\n",
    "- \"Mean number of drinks consumed on days when alcohol is consumed (among those who drink).\""
   ]
  },
  {
   "cell_type": "code",
   "execution_count": 21,
   "id": "f117e519",
   "metadata": {},
   "outputs": [],
   "source": [
    "# binge_drinking_int_freq_df = binge_drinking_int_freq.fetchdf()\n",
    "# binge_drinking_int_freq_df"
   ]
  },
  {
   "cell_type": "code",
   "execution_count": 22,
   "id": "365d9288",
   "metadata": {},
   "outputs": [],
   "source": [
    "# VIZ_DIR = \"./data/visualizers-data/\"\n",
    "# os.makedirs(VIZ_DIR, exist_ok=True)\n",
    "# binge_drinking_int_freq_df.to_csv(f\"{VIZ_DIR}/binge_drinking_int_freq.csv\")"
   ]
  },
  {
   "cell_type": "markdown",
   "id": "005551b4",
   "metadata": {},
   "source": [
    "however we cannot directly write sql queries in powerbi, so somehow we have to create this binge drinking intensity frequency table using DAX measures or using the power query editor, which both use different syntax"
   ]
  },
  {
   "cell_type": "markdown",
   "id": "f686f3c8",
   "metadata": {},
   "source": [
    "So far this is what I've achieved. I have no clue how to join these tables on multiple conditions using only DAX\n",
    "```\n",
    "BingeDrinkingIntFreq = \n",
    "VAR ALC2_2 = FILTER(\n",
    "    'chronic_disease_analyses_db   main   CDI', \n",
    "    'chronic_disease_analyses_db   main   CDI'[QuestionID] = \"ALC2_2\" && ('chronic_disease_analyses_db   main   CDI'[StratificationID] = \"B_F_ALL\" || 'chronic_disease_analyses_db   main   CDI'[StratificationID] = \"B_M_ALL\")\n",
    ")\n",
    "\n",
    "VAR ALC4_0 = FILTER(\n",
    "    'chronic_disease_analyses_db   main   CDI', \n",
    "    'chronic_disease_analyses_db   main   CDI'[QuestionID] = \"ALC4_0\" && ('chronic_disease_analyses_db   main   CDI'[StratificationID] = \"B_F_ALL\" || 'chronic_disease_analyses_db   main   CDI'[StratificationID] = \"B_M_ALL\")\n",
    ")\n",
    "\n",
    "VAR ALC3_0 = FILTER(\n",
    "    'chronic_disease_analyses_db   main   CDI', \n",
    "    'chronic_disease_analyses_db   main   CDI'[QuestionID] = \"ALC3_0\" && ('chronic_disease_analyses_db   main   CDI'[StratificationID] = \"B_F_ALL\" || 'chronic_disease_analyses_db   main   CDI'[StratificationID] = \"B_M_ALL\")\n",
    ")\n",
    "\n",
    "// VAR JoinedWithALC4_0 = ADDCOLUMNS(\n",
    "//     ALC2_2,\n",
    "//     \"AlcIntID\",\n",
    "//     VAR _currentLoc = [LocationID]\n",
    "//     VAR _currentStrat = [StratificationID]\n",
    "//     VAR _currentYS = [YearStart]\n",
    "//     VAR _currentYE = [YearEnd]\n",
    "//     VAR _currentDVType = [DataValueTypeID]\n",
    "//     RETURN ALC4_0[QuestionID]\n",
    "    // \"AlcIntDataValue\",\n",
    "    //     VAR _currentLoc = [LocationID]\n",
    "    //     VAR _currentStrat = [StratificationID]\n",
    "    //     VAR _currentYS = [YearStart]\n",
    "    //     VAR _currentYE = [YearEnd]\n",
    "    //     VAR _currentDVType = [DataValueTypeID]\n",
    "    //     RETURN\n",
    "    //         CALCULATE(\n",
    "    //             SELECTEDVALUE(ALC4_0[DataValue]), // Use SELECTEDVALUE for a single value lookup\n",
    "    //             ALC4_0[LocationID] = _currentLoc,\n",
    "    //             ALC4_0[StratificationID] = _currentStrat,\n",
    "    //             ALC4_0[YearStart] = _currentYS,\n",
    "    //             ALC4_0[YearEnd] = _currentYE,\n",
    "    //             (\n",
    "    //                 (_currentDVType = \"AGEADJPREV\" && ALC4_0[DataValueTypeID] = \"AGEADJMEAN\") ||\n",
    "    //                 (_currentDVType = \"CRDPREV\" && ALC4_0[DataValueTypeID] = \"MEAN\")\n",
    "    //             )\n",
    "    //         ),\n",
    "    // \"AlcIntDataValueUnit\",\n",
    "    //     VAR _currentLoc = [LocationID]\n",
    "    //     VAR _currentStrat = [StratificationID]\n",
    "    //     VAR _currentYS = [YearStart]\n",
    "    //     VAR _currentYE = [YearEnd]\n",
    "    //     VAR _currentDVType = [DataValueTypeID]\n",
    "    //     RETURN\n",
    "    //         CALCULATE(\n",
    "    //             SELECTEDVALUE(ALC4_0[DataValueUnit]),\n",
    "    //             ALC4_0[LocationID] = _currentLoc,\n",
    "    //             ALC4_0[StratificationID] = _currentStrat,\n",
    "    //             ALC4_0[YearStart] = _currentYS,\n",
    "    //             ALC4_0[YearEnd] = _currentYE,\n",
    "    //             (\n",
    "    //                 (_currentDVType = \"AGEADJPREV\" && ALC4_0[DataValueTypeID] = \"AGEADJMEAN\") ||\n",
    "    //                 (_currentDVType = \"CRDPREV\" && ALC4_0[DataValueTypeID] = \"MEAN\")\n",
    "    //             )\n",
    "    //         ),\n",
    "    // \"AlcIntDataValueTypeID\",\n",
    "    //     VAR _currentLoc = [LocationID]\n",
    "    //     VAR _currentStrat = [StratificationID]\n",
    "    //     VAR _currentYS = [YearStart]\n",
    "    //     VAR _currentYE = [YearEnd]\n",
    "    //     VAR _currentDVType = [DataValueTypeID]\n",
    "    //     RETURN\n",
    "    //         CALCULATE(\n",
    "    //             SELECTEDVALUE(ALC4_0[DataValueTypeID]),\n",
    "    //             ALC4_0[LocationID] = _currentLoc,\n",
    "    //             ALC4_0[StratificationID] = _currentStrat,\n",
    "    //             ALC4_0[YearStart] = _currentYS,\n",
    "    //             ALC4_0[YearEnd] = _currentYE,\n",
    "    //             (\n",
    "    //                 (_currentDVType = \"AGEADJPREV\" && ALC4_0[DataValueTypeID] = \"AGEADJMEAN\") ||\n",
    "    //                 (_currentDVType = \"CRDPREV\" && ALC4_0[DataValueTypeID] = \"MEAN\")\n",
    "    //             )\n",
    "    //         )\n",
    "\n",
    "RETURN ALC4_0\n",
    "```"
   ]
  },
  {
   "cell_type": "markdown",
   "id": "79c6e6f4",
   "metadata": {},
   "source": [
    "#### create temporary table to reduce CTEs"
   ]
  },
  {
   "cell_type": "code",
   "execution_count": 7,
   "id": "046f7754",
   "metadata": {},
   "outputs": [],
   "source": [
    "conn.sql(\"\"\"\n",
    "    CREATE OR REPLACE TEMPORARY TABLE CDIMerged AS (\n",
    "        SELECT \n",
    "            *, \n",
    "            CASE\n",
    "                WHEN DataValueTypeID IN ('USD', 'MEDIAN', 'AGEADJMEAN', 'NMBR', 'MEAN') THEN DataValue\n",
    "                WHEN DataValueTypeID IN ('AGEADJPREV', 'CRDPREV', 'PRCT', 'PREV') AND DataValueUnit = '%' THEN ((DataValue / 100) * Population)\n",
    "                WHEN DataValueTypeID IN ('CRDRATE', 'AGEADJRATE') AND DataValueUnit = 'cases per 1,000' THEN ((DataValue / 1000) * Population)\n",
    "                WHEN DataValueTypeID IN ('CRDRATE', 'AGEADJRATE') AND DataValueUnit = 'cases per 10,000' THEN ((DataValue / 10000) * Population)\n",
    "                WHEN DataValueTypeID IN ('CRDRATE', 'AGEADJRATE', 'AVGANNCRDRATE', 'AVGANNAGEADJRATE') AND DataValueUnit = 'cases per 100,000' THEN ((DataValue / 100000) * Population)\n",
    "                WHEN DataValueTypeID IN ('CRDRATE', 'AGEADJRATE', 'AGESEXRACEADJRATE') AND DataValueUnit = 'cases per 1,000,000' THEN ((DataValue / 1000000) * Population)\n",
    "                WHEN DataValueTypeID IN ('PERCAPALC') AND DataValueUnit = 'gallons' THEN DataValue * Population\n",
    "                ELSE DataValue\n",
    "            END AS TotalEvents\n",
    "        FROM CDI\n",
    "        LEFT JOIN Question\n",
    "        ON Question.QuestionID = CDI.QuestionID\n",
    "        LEFT JOIN Topic\n",
    "        ON Topic.TopicID = Question.TopicID\n",
    "        WHERE CDI.DataValueTypeID NOT IN ('PERCAPALC', 'MEDIAN', 'AGEADJMEAN', 'USD', 'MEAN')\n",
    "        AND Topic.TopicID IN ('MTH', 'DIS', 'CAN', 'OLD', 'CKD', 'IMM', 'DIA', 'RPH', 'ART', 'ORH')\n",
    "    )\n",
    "\"\"\")"
   ]
  },
  {
   "cell_type": "code",
   "execution_count": 8,
   "id": "4721cd02",
   "metadata": {},
   "outputs": [
    {
     "data": {
      "text/plain": [
       "┌─────────┐\n",
       "│ TopicID │\n",
       "│ varchar │\n",
       "├─────────┤\n",
       "│ ART     │\n",
       "│ CKD     │\n",
       "│ MTH     │\n",
       "│ OLD     │\n",
       "│ CAN     │\n",
       "│ ORH     │\n",
       "│ IMM     │\n",
       "│ RPH     │\n",
       "│ DIS     │\n",
       "│ DIA     │\n",
       "├─────────┤\n",
       "│ 10 rows │\n",
       "└─────────┘"
      ]
     },
     "execution_count": 8,
     "metadata": {},
     "output_type": "execute_result"
    }
   ],
   "source": [
    "conn.sql(\"\"\"\n",
    "    SELECT DISTINCT(TopicID) FROM CDIMerged\n",
    "\"\"\")"
   ]
  },
  {
   "cell_type": "code",
   "execution_count": 9,
   "id": "b1adfecb",
   "metadata": {},
   "outputs": [
    {
     "data": {
      "text/plain": [
       "┌───────────┬─────────┬────────────┬─────────────────┬───────────┬────────────────────┬─────────────────────┬────────────┬─────────────────┬──────────────────┬────────┬────────────┬──────────────┬─────────┬───────────────────────────────────────────────────────────────────────────────────┬──────────┬────────┬───────────┬──────────────┬─────────────┐\n",
       "│ YearStart │ YearEnd │ LocationID │  DataValueUnit  │ DataValue │ LowConfidenceLimit │ HighConfidenceLimit │ QuestionID │ DataValueTypeID │ StratificationID │ LogID  │ Population │ QuestionID_1 │ TopicID │                                     Question                                      │ AgeStart │ AgeEnd │ TopicID_1 │    Topic     │ TotalEvents │\n",
       "│   int32   │  int32  │  varchar   │     varchar     │  double   │       double       │       double        │  varchar   │     varchar     │     varchar      │ int32  │   int64    │   varchar    │ varchar │                                      varchar                                      │  double  │ double │  varchar  │   varchar    │   double    │\n",
       "├───────────┼─────────┼────────────┼─────────────────┼───────────┼────────────────────┼─────────────────────┼────────────┼─────────────────┼──────────────────┼────────┼────────────┼──────────────┼─────────┼───────────────────────────────────────────────────────────────────────────────────┼──────────┼────────┼───────────┼──────────────┼─────────────┤\n",
       "│      2012 │    2012 │ AK         │ cases per 1,000 │       2.3 │               1.76 │                2.85 │ OLD1_0     │ CRDRATE         │ B_M_ALL          │ 369203 │      32229 │ OLD1_0       │ OLD     │ Hospitalization for hip fracture among Medicare-eligible persons aged >= 65 years │     65.0 │    inf │ OLD       │ Older Adults │     74.1267 │\n",
       "└───────────┴─────────┴────────────┴─────────────────┴───────────┴────────────────────┴─────────────────────┴────────────┴─────────────────┴──────────────────┴────────┴────────────┴──────────────┴─────────┴───────────────────────────────────────────────────────────────────────────────────┴──────────┴────────┴───────────┴──────────────┴─────────────┘"
      ]
     },
     "execution_count": 9,
     "metadata": {},
     "output_type": "execute_result"
    }
   ],
   "source": [
    "conn.sql(\"\"\"\n",
    "    SELECT * FROM CDIMerged LIMIT 1\n",
    "\"\"\")"
   ]
  },
  {
   "cell_type": "code",
   "execution_count": 10,
   "id": "a4269472",
   "metadata": {},
   "outputs": [],
   "source": [
    "conn.sql(\"\"\"\n",
    "    CREATE OR REPLACE TEMPORARY TABLE CDIAgged AS (\n",
    "        SELECT \n",
    "            MAX(TopicID) AS TopicID, \n",
    "            MAX(Topic) AS Topic, \n",
    "            QuestionID, \n",
    "            MAX(Question) AS Question, \n",
    "            StratificationID,\n",
    "            LocationID, \n",
    "            AVG(TotalEvents) AS AvgStatePopulation\n",
    "        FROM CDIMerged\n",
    "        GROUP BY QuestionID, StratificationID, LocationID\n",
    "    )\n",
    "\"\"\")"
   ]
  },
  {
   "cell_type": "code",
   "execution_count": 16,
   "id": "c3290a57",
   "metadata": {},
   "outputs": [],
   "source": [
    "conn.sql(\"\"\"\n",
    "    CREATE OR REPLACE TEMPORARY TABLE CDIRanked AS (\n",
    "        SELECT\n",
    "            *,\n",
    "            DENSE_RANK() OVER(\n",
    "                PARTITION BY QuestionID, StratificationID\n",
    "                ORDER BY AvgStatePopulation ASC\n",
    "            ) AS StateRankPerQuestionStratification\n",
    "        FROM CDIAgged\n",
    "        -- WHERE QuestionID = 'CAN7_1' AND StratificationID = 'B_F_ALL'\n",
    "        ORDER BY QuestionID, StratificationID, LocationID\n",
    "    )\n",
    "\"\"\")"
   ]
  },
  {
   "cell_type": "code",
   "execution_count": 20,
   "id": "4a884124",
   "metadata": {},
   "outputs": [],
   "source": [
    "# get the top and bottom states of each question\n",
    "# this means they will have ranks of <= 5 and 51, 50, 49, 48, 47 or >= 47\n",
    "# so filter the ranks that have <= 5 and >= 47\n",
    "conn.sql(\"\"\"\n",
    "    CREATE OR REPLACE TEMPORARY TABLE TopBottomCDIAcrossStatesPerQuestionStratification AS (\n",
    "        SELECT *\n",
    "        FROM CDIRanked\n",
    "        WHERE StateRankPerQuestionStratification >= 47 OR StateRankPerQuestionStratification <= 5\n",
    "    )\n",
    "\"\"\")"
   ]
  },
  {
   "cell_type": "code",
   "execution_count": 22,
   "id": "7f442638",
   "metadata": {},
   "outputs": [],
   "source": [
    "TopBottomCDIAcrossStatesPerQuestionStratification = conn.sql(\"\"\"\n",
    "    SELECT * \n",
    "    FROM TopBottomCDIAcrossStatesPerQuestionStratification\n",
    "\"\"\")"
   ]
  },
  {
   "cell_type": "code",
   "execution_count": 23,
   "id": "300b0a45",
   "metadata": {},
   "outputs": [
    {
     "data": {
      "text/html": [
       "<div>\n",
       "<style scoped>\n",
       "    .dataframe tbody tr th:only-of-type {\n",
       "        vertical-align: middle;\n",
       "    }\n",
       "\n",
       "    .dataframe tbody tr th {\n",
       "        vertical-align: top;\n",
       "    }\n",
       "\n",
       "    .dataframe thead th {\n",
       "        text-align: right;\n",
       "    }\n",
       "</style>\n",
       "<table border=\"1\" class=\"dataframe\">\n",
       "  <thead>\n",
       "    <tr style=\"text-align: right;\">\n",
       "      <th></th>\n",
       "      <th>TopicID</th>\n",
       "      <th>Topic</th>\n",
       "      <th>QuestionID</th>\n",
       "      <th>Question</th>\n",
       "      <th>StratificationID</th>\n",
       "      <th>LocationID</th>\n",
       "      <th>AvgStatePopulation</th>\n",
       "      <th>StateRankPerQuestionStratification</th>\n",
       "    </tr>\n",
       "  </thead>\n",
       "  <tbody>\n",
       "    <tr>\n",
       "      <th>0</th>\n",
       "      <td>ART</td>\n",
       "      <td>Arthritis</td>\n",
       "      <td>ART1_1</td>\n",
       "      <td>Arthritis among adults aged &gt;= 18 years</td>\n",
       "      <td>B_B_ALL</td>\n",
       "      <td>CA</td>\n",
       "      <td>6.194892e+06</td>\n",
       "      <td>51</td>\n",
       "    </tr>\n",
       "    <tr>\n",
       "      <th>1</th>\n",
       "      <td>ART</td>\n",
       "      <td>Arthritis</td>\n",
       "      <td>ART1_1</td>\n",
       "      <td>Arthritis among adults aged &gt;= 18 years</td>\n",
       "      <td>B_B_ALL</td>\n",
       "      <td>FL</td>\n",
       "      <td>4.063426e+06</td>\n",
       "      <td>49</td>\n",
       "    </tr>\n",
       "    <tr>\n",
       "      <th>2</th>\n",
       "      <td>ART</td>\n",
       "      <td>Arthritis</td>\n",
       "      <td>ART1_1</td>\n",
       "      <td>Arthritis among adults aged &gt;= 18 years</td>\n",
       "      <td>B_B_ALL</td>\n",
       "      <td>NY</td>\n",
       "      <td>3.649700e+06</td>\n",
       "      <td>48</td>\n",
       "    </tr>\n",
       "    <tr>\n",
       "      <th>3</th>\n",
       "      <td>ART</td>\n",
       "      <td>Arthritis</td>\n",
       "      <td>ART1_1</td>\n",
       "      <td>Arthritis among adults aged &gt;= 18 years</td>\n",
       "      <td>B_B_ALL</td>\n",
       "      <td>PA</td>\n",
       "      <td>2.928777e+06</td>\n",
       "      <td>47</td>\n",
       "    </tr>\n",
       "    <tr>\n",
       "      <th>4</th>\n",
       "      <td>ART</td>\n",
       "      <td>Arthritis</td>\n",
       "      <td>ART1_1</td>\n",
       "      <td>Arthritis among adults aged &gt;= 18 years</td>\n",
       "      <td>B_B_ALL</td>\n",
       "      <td>TX</td>\n",
       "      <td>4.464021e+06</td>\n",
       "      <td>50</td>\n",
       "    </tr>\n",
       "    <tr>\n",
       "      <th>...</th>\n",
       "      <td>...</td>\n",
       "      <td>...</td>\n",
       "      <td>...</td>\n",
       "      <td>...</td>\n",
       "      <td>...</td>\n",
       "      <td>...</td>\n",
       "      <td>...</td>\n",
       "      <td>...</td>\n",
       "    </tr>\n",
       "    <tr>\n",
       "      <th>3801</th>\n",
       "      <td>RPH</td>\n",
       "      <td>Reproductive Health</td>\n",
       "      <td>RPH3_0</td>\n",
       "      <td>Folic acid supplementation</td>\n",
       "      <td>NH_B_WHITE</td>\n",
       "      <td>AK</td>\n",
       "      <td>1.808613e+05</td>\n",
       "      <td>4</td>\n",
       "    </tr>\n",
       "    <tr>\n",
       "      <th>3802</th>\n",
       "      <td>RPH</td>\n",
       "      <td>Reproductive Health</td>\n",
       "      <td>RPH3_0</td>\n",
       "      <td>Folic acid supplementation</td>\n",
       "      <td>NH_B_WHITE</td>\n",
       "      <td>DC</td>\n",
       "      <td>1.591229e+05</td>\n",
       "      <td>2</td>\n",
       "    </tr>\n",
       "    <tr>\n",
       "      <th>3803</th>\n",
       "      <td>RPH</td>\n",
       "      <td>Reproductive Health</td>\n",
       "      <td>RPH3_0</td>\n",
       "      <td>Folic acid supplementation</td>\n",
       "      <td>NH_B_WHITE</td>\n",
       "      <td>HI</td>\n",
       "      <td>1.261020e+05</td>\n",
       "      <td>1</td>\n",
       "    </tr>\n",
       "    <tr>\n",
       "      <th>3804</th>\n",
       "      <td>RPH</td>\n",
       "      <td>Reproductive Health</td>\n",
       "      <td>RPH3_0</td>\n",
       "      <td>Folic acid supplementation</td>\n",
       "      <td>NH_B_WHITE</td>\n",
       "      <td>VT</td>\n",
       "      <td>2.265851e+05</td>\n",
       "      <td>5</td>\n",
       "    </tr>\n",
       "    <tr>\n",
       "      <th>3805</th>\n",
       "      <td>RPH</td>\n",
       "      <td>Reproductive Health</td>\n",
       "      <td>RPH3_0</td>\n",
       "      <td>Folic acid supplementation</td>\n",
       "      <td>NH_B_WHITE</td>\n",
       "      <td>WY</td>\n",
       "      <td>1.677061e+05</td>\n",
       "      <td>3</td>\n",
       "    </tr>\n",
       "  </tbody>\n",
       "</table>\n",
       "<p>3806 rows × 8 columns</p>\n",
       "</div>"
      ],
      "text/plain": [
       "     TopicID                Topic QuestionID  \\\n",
       "0        ART            Arthritis     ART1_1   \n",
       "1        ART            Arthritis     ART1_1   \n",
       "2        ART            Arthritis     ART1_1   \n",
       "3        ART            Arthritis     ART1_1   \n",
       "4        ART            Arthritis     ART1_1   \n",
       "...      ...                  ...        ...   \n",
       "3801     RPH  Reproductive Health     RPH3_0   \n",
       "3802     RPH  Reproductive Health     RPH3_0   \n",
       "3803     RPH  Reproductive Health     RPH3_0   \n",
       "3804     RPH  Reproductive Health     RPH3_0   \n",
       "3805     RPH  Reproductive Health     RPH3_0   \n",
       "\n",
       "                                     Question StratificationID LocationID  \\\n",
       "0     Arthritis among adults aged >= 18 years          B_B_ALL         CA   \n",
       "1     Arthritis among adults aged >= 18 years          B_B_ALL         FL   \n",
       "2     Arthritis among adults aged >= 18 years          B_B_ALL         NY   \n",
       "3     Arthritis among adults aged >= 18 years          B_B_ALL         PA   \n",
       "4     Arthritis among adults aged >= 18 years          B_B_ALL         TX   \n",
       "...                                       ...              ...        ...   \n",
       "3801               Folic acid supplementation       NH_B_WHITE         AK   \n",
       "3802               Folic acid supplementation       NH_B_WHITE         DC   \n",
       "3803               Folic acid supplementation       NH_B_WHITE         HI   \n",
       "3804               Folic acid supplementation       NH_B_WHITE         VT   \n",
       "3805               Folic acid supplementation       NH_B_WHITE         WY   \n",
       "\n",
       "      AvgStatePopulation  StateRankPerQuestionStratification  \n",
       "0           6.194892e+06                                  51  \n",
       "1           4.063426e+06                                  49  \n",
       "2           3.649700e+06                                  48  \n",
       "3           2.928777e+06                                  47  \n",
       "4           4.464021e+06                                  50  \n",
       "...                  ...                                 ...  \n",
       "3801        1.808613e+05                                   4  \n",
       "3802        1.591229e+05                                   2  \n",
       "3803        1.261020e+05                                   1  \n",
       "3804        2.265851e+05                                   5  \n",
       "3805        1.677061e+05                                   3  \n",
       "\n",
       "[3806 rows x 8 columns]"
      ]
     },
     "execution_count": 23,
     "metadata": {},
     "output_type": "execute_result"
    }
   ],
   "source": [
    "top_bottom_CDI_across_states_per_question_strat_df = TopBottomCDIAcrossStatesPerQuestionStratification.fetchdf()\n",
    "top_bottom_CDI_across_states_per_question_strat_df"
   ]
  },
  {
   "cell_type": "code",
   "execution_count": 25,
   "id": "647716e0",
   "metadata": {},
   "outputs": [],
   "source": [
    "VIZ_DIR = \"./data/visualizers-data/\"\n",
    "os.makedirs(VIZ_DIR, exist_ok=True)\n",
    "top_bottom_CDI_across_states_per_question_strat_df.to_csv(f\"{VIZ_DIR}/top_bottom_CDI_across_states_per_question_strat.csv\")"
   ]
  },
  {
   "cell_type": "code",
   "execution_count": null,
   "id": "4ed8f9aa",
   "metadata": {},
   "outputs": [],
   "source": [
    "# conn.sql(\"\"\"\n",
    "#     WITH CDIMerged AS (\n",
    "#         SELECT \n",
    "#             *, \n",
    "#             CASE\n",
    "#                 WHEN DataValueTypeID IN ('USD', 'MEDIAN', 'AGEADJMEAN', 'NMBR', 'MEAN') THEN DataValue\n",
    "#                 WHEN DataValueTypeID IN ('AGEADJPREV', 'CRDPREV', 'PRCT', 'PREV') AND DataValueUnit = '%' THEN ((DataValue / 100) * Population)\n",
    "#                 WHEN DataValueTypeID IN ('CRDRATE', 'AGEADJRATE') AND DataValueUnit = 'cases per 1,000' THEN ((DataValue / 1000) * Population)\n",
    "#                 WHEN DataValueTypeID IN ('CRDRATE', 'AGEADJRATE') AND DataValueUnit = 'cases per 10,000' THEN ((DataValue / 10000) * Population)\n",
    "#                 WHEN DataValueTypeID IN ('CRDRATE', 'AGEADJRATE', 'AVGANNCRDRATE', 'AVGANNAGEADJRATE') AND DataValueUnit = 'cases per 100,000' THEN ((DataValue / 100000) * Population)\n",
    "#                 WHEN DataValueTypeID IN ('CRDRATE', 'AGEADJRATE', 'AGESEXRACEADJRATE') AND DataValueUnit = 'cases per 1,000,000' THEN ((DataValue / 1000000) * Population)\n",
    "#                 WHEN DataValueTypeID IN ('PERCAPALC') AND DataValueUnit = 'gallons' THEN DataValue * Population\n",
    "#                 ELSE DataValue\n",
    "#             END AS TotalEvents\n",
    "#         FROM CDI\n",
    "#         LEFT JOIN Question\n",
    "#         ON Question.QuestionID = CDI.QuestionID\n",
    "#         LEFT JOIN Topic\n",
    "#         ON Topic.TopicID = Question.TopicID\n",
    "#         WHERE CDI.DataValueTypeID NOT IN ('PERCAPALC', 'MEDIAN', 'AGEADJMEAN', 'USD', 'MEAN')\n",
    "#     ),\n",
    "         \n",
    "#     CDIRed AS (\n",
    "#         SELECT \n",
    "#             TopicID, \n",
    "#             Topic, \n",
    "#             QuestionID, \n",
    "#             Question, \n",
    "#             TotalEvents \n",
    "#         FROM CDIMerged\n",
    "#     )\n",
    "         \n",
    "#     SELECT\n",
    "#         MAX(Topic),\n",
    "#         AVG(TotalEvents)\n",
    "#     FROM CDIRed\n",
    "#     GROUP BY TopicID\n",
    "# \"\"\")"
   ]
  },
  {
   "cell_type": "markdown",
   "id": "50f74764",
   "metadata": {},
   "source": [
    "# Main Data Analysis"
   ]
  },
  {
   "cell_type": "markdown",
   "id": "d57f1cff",
   "metadata": {},
   "source": [
    "## Questions to answer:\n",
    "1. what are the most and least common chronic disease indicator categories based on average population?\n",
    "what I want to do is instaed of using the same CDI table I want to make a calculated table for each graph namely the top 5 most common categories of chronic disease indicators in the US in all states and stratifications, years, questions, and data value types\n",
    "\n",
    "the most common were those relating to reproductive health, oral health, arthritis, diabetes, and immunization\n",
    "the least common were those relating to chronic kidney disease, cancer, older adults, disability, mental heatlh\n",
    "\n",
    "2. in the 5 most common chronic disease indicator categories which question has the most avergae and total occurences?\n",
    "3. in these questions what are the top and bottom 5 states \n",
    "4. in these questions what is the trend across all years in the top and bottom 5 states\n",
    "\n",
    "\n",
    "4. What is the prevalence of alcohol use among youth (male and female) in listed year ranges?\n",
    "5. What is the average binge drinking prevalence among adults aged >= 18?\n",
    "6. What is the average binge drinking prevalence for each reported ethnicity?"
   ]
  },
  {
   "cell_type": "code",
   "execution_count": null,
   "id": "2ed23e28",
   "metadata": {},
   "outputs": [],
   "source": []
  }
 ],
 "metadata": {
  "kernelspec": {
   "display_name": "tech-interview",
   "language": "python",
   "name": "python3"
  },
  "language_info": {
   "codemirror_mode": {
    "name": "ipython",
    "version": 3
   },
   "file_extension": ".py",
   "mimetype": "text/x-python",
   "name": "python",
   "nbconvert_exporter": "python",
   "pygments_lexer": "ipython3",
   "version": "3.11.8"
  }
 },
 "nbformat": 4,
 "nbformat_minor": 5
}
